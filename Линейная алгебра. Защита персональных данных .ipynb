{
 "cells": [
  {
   "cell_type": "markdown",
   "metadata": {
    "toc": true
   },
   "source": [
    "<h1>Содержание<span class=\"tocSkip\"></span></h1>\n",
    "<div class=\"toc\"><ul class=\"toc-item\"><li><span><a href=\"#Загрузка-данных\" data-toc-modified-id=\"Загрузка-данных-1\"><span class=\"toc-item-num\">1&nbsp;&nbsp;</span>Загрузка данных</a></span></li><li><span><a href=\"#Умножение-матриц\" data-toc-modified-id=\"Умножение-матриц-2\"><span class=\"toc-item-num\">2&nbsp;&nbsp;</span>Умножение матриц</a></span></li><li><span><a href=\"#Алгоритм-преобразования\" data-toc-modified-id=\"Алгоритм-преобразования-3\"><span class=\"toc-item-num\">3&nbsp;&nbsp;</span>Алгоритм преобразования</a></span></li><li><span><a href=\"#Проверка-алгоритма\" data-toc-modified-id=\"Проверка-алгоритма-4\"><span class=\"toc-item-num\">4&nbsp;&nbsp;</span>Проверка алгоритма</a></span></li><li><span><a href=\"#Чек-лист-проверки\" data-toc-modified-id=\"Чек-лист-проверки-5\"><span class=\"toc-item-num\">5&nbsp;&nbsp;</span>Чек-лист проверки</a></span></li></ul></div>"
   ]
  },
  {
   "cell_type": "markdown",
   "metadata": {},
   "source": [
    "# Защита персональных данных клиентов"
   ]
  },
  {
   "cell_type": "markdown",
   "metadata": {},
   "source": [
    "Вам нужно защитить данные клиентов страховой компании «Хоть потоп». Разработайте такой метод преобразования данных, чтобы по ним было сложно восстановить персональную информацию. Обоснуйте корректность его работы.\n",
    "\n",
    "Нужно защитить данные, чтобы при преобразовании качество моделей машинного обучения не ухудшилось. Подбирать наилучшую модель не требуется."
   ]
  },
  {
   "cell_type": "markdown",
   "metadata": {},
   "source": [
    "## Загрузка данных"
   ]
  },
  {
   "cell_type": "code",
   "execution_count": 1,
   "metadata": {},
   "outputs": [],
   "source": [
    "# Начнем с импорта необходимых библиотек\n",
    "import pandas as pd\n",
    "import numpy as np\n",
    "import matplotlib.pyplot as plt\n",
    "import seaborn as sns\n",
    "\n",
    "from sklearn.model_selection import train_test_split\n",
    "from sklearn.linear_model import LinearRegression\n",
    "from sklearn.metrics import r2_score"
   ]
  },
  {
   "cell_type": "code",
   "execution_count": 2,
   "metadata": {},
   "outputs": [
    {
     "data": {
      "text/html": [
       "<div>\n",
       "<style scoped>\n",
       "    .dataframe tbody tr th:only-of-type {\n",
       "        vertical-align: middle;\n",
       "    }\n",
       "\n",
       "    .dataframe tbody tr th {\n",
       "        vertical-align: top;\n",
       "    }\n",
       "\n",
       "    .dataframe thead th {\n",
       "        text-align: right;\n",
       "    }\n",
       "</style>\n",
       "<table border=\"1\" class=\"dataframe\">\n",
       "  <thead>\n",
       "    <tr style=\"text-align: right;\">\n",
       "      <th></th>\n",
       "      <th>Пол</th>\n",
       "      <th>Возраст</th>\n",
       "      <th>Зарплата</th>\n",
       "      <th>Члены семьи</th>\n",
       "      <th>Страховые выплаты</th>\n",
       "    </tr>\n",
       "  </thead>\n",
       "  <tbody>\n",
       "    <tr>\n",
       "      <th>0</th>\n",
       "      <td>1</td>\n",
       "      <td>41.0</td>\n",
       "      <td>49600.0</td>\n",
       "      <td>1</td>\n",
       "      <td>0</td>\n",
       "    </tr>\n",
       "    <tr>\n",
       "      <th>1</th>\n",
       "      <td>0</td>\n",
       "      <td>46.0</td>\n",
       "      <td>38000.0</td>\n",
       "      <td>1</td>\n",
       "      <td>1</td>\n",
       "    </tr>\n",
       "    <tr>\n",
       "      <th>2</th>\n",
       "      <td>0</td>\n",
       "      <td>29.0</td>\n",
       "      <td>21000.0</td>\n",
       "      <td>0</td>\n",
       "      <td>0</td>\n",
       "    </tr>\n",
       "    <tr>\n",
       "      <th>3</th>\n",
       "      <td>0</td>\n",
       "      <td>21.0</td>\n",
       "      <td>41700.0</td>\n",
       "      <td>2</td>\n",
       "      <td>0</td>\n",
       "    </tr>\n",
       "    <tr>\n",
       "      <th>4</th>\n",
       "      <td>1</td>\n",
       "      <td>28.0</td>\n",
       "      <td>26100.0</td>\n",
       "      <td>0</td>\n",
       "      <td>0</td>\n",
       "    </tr>\n",
       "  </tbody>\n",
       "</table>\n",
       "</div>"
      ],
      "text/plain": [
       "   Пол  Возраст  Зарплата  Члены семьи  Страховые выплаты\n",
       "0    1     41.0   49600.0            1                  0\n",
       "1    0     46.0   38000.0            1                  1\n",
       "2    0     29.0   21000.0            0                  0\n",
       "3    0     21.0   41700.0            2                  0\n",
       "4    1     28.0   26100.0            0                  0"
      ]
     },
     "execution_count": 2,
     "metadata": {},
     "output_type": "execute_result"
    }
   ],
   "source": [
    "# ЗАгрузим данные\n",
    "data=pd.read_csv('/datasets/insurance.csv')\n",
    "data.head()"
   ]
  },
  {
   "cell_type": "code",
   "execution_count": 3,
   "metadata": {},
   "outputs": [
    {
     "name": "stdout",
     "output_type": "stream",
     "text": [
      "<class 'pandas.core.frame.DataFrame'>\n",
      "RangeIndex: 5000 entries, 0 to 4999\n",
      "Data columns (total 5 columns):\n",
      " #   Column             Non-Null Count  Dtype  \n",
      "---  ------             --------------  -----  \n",
      " 0   Пол                5000 non-null   int64  \n",
      " 1   Возраст            5000 non-null   float64\n",
      " 2   Зарплата           5000 non-null   float64\n",
      " 3   Члены семьи        5000 non-null   int64  \n",
      " 4   Страховые выплаты  5000 non-null   int64  \n",
      "dtypes: float64(2), int64(3)\n",
      "memory usage: 195.4 KB\n"
     ]
    }
   ],
   "source": [
    "data.info()"
   ]
  },
  {
   "cell_type": "code",
   "execution_count": 4,
   "metadata": {},
   "outputs": [
    {
     "data": {
      "text/plain": [
       "153"
      ]
     },
     "execution_count": 4,
     "metadata": {},
     "output_type": "execute_result"
    }
   ],
   "source": [
    "# Проверим на дубликаты \n",
    "data.duplicated().sum()"
   ]
  },
  {
   "cell_type": "code",
   "execution_count": 5,
   "metadata": {},
   "outputs": [
    {
     "name": "stdout",
     "output_type": "stream",
     "text": [
      "<class 'pandas.core.frame.DataFrame'>\n",
      "Int64Index: 4847 entries, 0 to 4999\n",
      "Data columns (total 5 columns):\n",
      " #   Column             Non-Null Count  Dtype  \n",
      "---  ------             --------------  -----  \n",
      " 0   Пол                4847 non-null   int64  \n",
      " 1   Возраст            4847 non-null   float64\n",
      " 2   Зарплата           4847 non-null   float64\n",
      " 3   Члены семьи        4847 non-null   int64  \n",
      " 4   Страховые выплаты  4847 non-null   int64  \n",
      "dtypes: float64(2), int64(3)\n",
      "memory usage: 227.2 KB\n"
     ]
    }
   ],
   "source": [
    "# Дубликаты имеются, но нам они ни к чему, удалим.\n",
    "data=data.drop_duplicates()\n",
    "data.info()"
   ]
  },
  {
   "cell_type": "code",
   "execution_count": 6,
   "metadata": {},
   "outputs": [
    {
     "data": {
      "text/plain": [
       "Пол                    2\n",
       "Возраст               46\n",
       "Зарплата             524\n",
       "Члены семьи            7\n",
       "Страховые выплаты      6\n",
       "dtype: int64"
      ]
     },
     "execution_count": 6,
     "metadata": {},
     "output_type": "execute_result"
    }
   ],
   "source": [
    "# Посмотрим на уникальные значения\n",
    "data.nunique()"
   ]
  },
  {
   "cell_type": "markdown",
   "metadata": {},
   "source": [
    "Видим,что в колонках Зарплата и Возраст тип данных отличается от остальных. В целом, ошибки в этом нет, но для красоты преобразуем тип данных в int. Также поменяем названия колонок на принятый в Python стилю."
   ]
  },
  {
   "cell_type": "code",
   "execution_count": 7,
   "metadata": {},
   "outputs": [
    {
     "name": "stdout",
     "output_type": "stream",
     "text": [
      "<class 'pandas.core.frame.DataFrame'>\n",
      "Int64Index: 4847 entries, 0 to 4999\n",
      "Data columns (total 5 columns):\n",
      " #   Column              Non-Null Count  Dtype\n",
      "---  ------              --------------  -----\n",
      " 0   gender              4847 non-null   int64\n",
      " 1   age                 4847 non-null   int64\n",
      " 2   salary              4847 non-null   int64\n",
      " 3   family_members      4847 non-null   int64\n",
      " 4   insurance_payments  4847 non-null   int64\n",
      "dtypes: int64(5)\n",
      "memory usage: 227.2 KB\n"
     ]
    }
   ],
   "source": [
    "#Изменим тип данных\n",
    "data['Возраст']=data['Возраст'].astype('int64')\n",
    "data['Зарплата']=data['Зарплата'].astype('int64')\n",
    "\n",
    "#Поменяем названия\n",
    "data.columns = ['gender', 'age', 'salary', 'family_members', 'insurance_payments']\n",
    "\n",
    "# Проверим наши изменения\n",
    "data.info()"
   ]
  },
  {
   "cell_type": "code",
   "execution_count": 8,
   "metadata": {},
   "outputs": [
    {
     "data": {
      "image/png": "[encoded data removed]",
      "text/plain": [
       "<Figure size 504x432 with 2 Axes>"
      ]
     },
     "metadata": {
      "needs_background": "light"
     },
     "output_type": "display_data"
    }
   ],
   "source": [
    "# Проверим корреляцию признаков\n",
    "plt.figure(figsize=(7, 6))\n",
    "sns.heatmap(data.corr(), linewidths=.5, cmap='vlag', annot=True, fmt='2.4f', vmin=-1)\n",
    "plt.show()"
   ]
  },
  {
   "cell_type": "markdown",
   "metadata": {},
   "source": [
    "Итак, нам дана информация о клиентах компании «Хоть потоп». Данные полные, пропусков нет, дубликаты имеются, но это имеет место быть, однако при таком размере датасета, случайное полное совпадение по всем признакам для разных клиентов будет маловероятным, поэтому считаю уместным удалить дубликаты. Поменяли тип данных для красоты вывода информации, и привели названия колонок к принятому стилю в Python. Наблюдается сильная положительная корреляция между возрастом и выплатами( целевой признак), в остальном, нет никакой зависимости между остальными признаками."
   ]
  },
  {
   "cell_type": "markdown",
   "metadata": {},
   "source": [
    "## Умножение матриц"
   ]
  },
  {
   "cell_type": "markdown",
   "metadata": {},
   "source": [
    "В этом задании вы можете записывать формулы в *Jupyter Notebook.*\n",
    "\n",
    "Чтобы записать формулу внутри текста, окружите её символами доллара \\\\$; если снаружи —  двойными символами \\\\$\\\\$. Эти формулы записываются на языке вёрстки *LaTeX.* \n",
    "\n",
    "Для примера мы записали формулы линейной регрессии. Можете их скопировать и отредактировать, чтобы решить задачу.\n",
    "\n",
    "Работать в *LaTeX* необязательно."
   ]
  },
  {
   "cell_type": "markdown",
   "metadata": {},
   "source": [
    "Обозначения:\n",
    "\n",
    "- $X$ — матрица признаков (нулевой столбец состоит из единиц)\n",
    "\n",
    "- $y$ — вектор целевого признака\n",
    "\n",
    "- $P$ — матрица, на которую умножаются признаки\n",
    "\n",
    "- $w$ — вектор весов линейной регрессии (нулевой элемент равен сдвигу)"
   ]
  },
  {
   "cell_type": "markdown",
   "metadata": {},
   "source": [
    "Предсказания:\n",
    "\n",
    "$$\n",
    "a = Xw\n",
    "$$\n",
    "\n",
    "Задача обучения:\n",
    "\n",
    "$$\n",
    "w = \\arg\\min_w MSE(Xw, y)\n",
    "$$\n",
    "\n",
    "Формула обучения:\n",
    "\n",
    "$$\n",
    "w = (X^T X)^{-1} X^T y\n",
    "$$"
   ]
  },
  {
   "cell_type": "markdown",
   "metadata": {},
   "source": [
    "**Вопрос:** Изменится ли качество линейной регрессии? \n",
    "\n",
    "**Ответ:** Нет\n"
   ]
  },
  {
   "cell_type": "markdown",
   "metadata": {},
   "source": [
    "**Обоснование:** Нам известно, что признаки: пол, возраст и зарплата застрахованного, количество членов его семьи. Целевой признак: количество страховых выплат клиенту за последние 5 лет.\n",
    "\n",
    "Признаки умножают на обратимую матрицу. Изменится ли качество линейной регрессии? \n",
    "\n",
    "Возьмем нашу формулу предсказания и умножим на матрицу $P$ матрицу предсказаний $Х$\n",
    "$$\n",
    "a_p = XPw_p\n",
    "$$\n",
    "Нам известна формула обучения $w$. Также умножим матрицу признаков на матрицу $P$.\n",
    "$$\n",
    "w_p = ((XP)^T XP)^{-1} (XP)^T y\n",
    "$$\n",
    "Подставим полученную формулу в исходную и расскроем скобки. Для этого вспомним несколько свойств умножения матриц.\n",
    "$$\n",
    "(А*В)^T = В^T * А^T \n",
    "$$\n",
    "$$\n",
    "(А*В)^{-1} =В^{-1}* А^{-1}\n",
    "$$\n",
    "$$\n",
    "(A*A)^{-1} = А^{-1} * A = E\n",
    "$$\n",
    "$$\n",
    "AE=EA=A\n",
    "$$\n",
    "$$\n",
    "((A)^{-1})^T * A^T = (A*A^{-1})^T = E^T=E\n",
    "$$\n",
    "$$\n",
    "(ABС)^{-1} = ((AB)С)^{-1} = ((AB)С)^{-1} = С^{-1}(AB)^{-1} = С^{-1}B^{-1}A^{-1}\n",
    "$$          \n",
    "Теперь применим эти свойства на нашем равенстве\n",
    "$$\n",
    "w_p = ((XP)^T XP)^{-1} (XP)^T y = (Р^T(Х^T*Х)Р)^{-1}* Р^T*Х^T*у = Р^{-1}(Х^T*Х)^{-1}(Р^T)^{-1}Р^TХ^Ty \n",
    "$$\n",
    "Исходя из свойств приведенных выше, можно упростить выражение.\n",
    "\n",
    "$$\n",
    "(Р^T)^{-1}*Р^T = E\n",
    "$$\n",
    "Умножение матрицы на единичную матрицу дает ту же самую матрицу, так что можно наше выражение написать так:\n",
    "$$\n",
    "w_p = Р^{-1}(Х^T*Х)^{-1} Х^Ty ,\n",
    "$$\n",
    "$$\n",
    "w = (X^T X)^{-1} X^T y, следовательно\n",
    "$$\n",
    "$$\n",
    "w_p=Р^{-1}w\n",
    "$$\n",
    "Вот мы и нашли связь параметров линейной регрессиив исходной задаче и преобразованной. \n",
    "Подставим теперь нашу формулу в параметр a:\n",
    "$$\n",
    "a_p = XPw_p=XPР^{-1}w\n",
    "$$\n",
    "$$\n",
    "PР^{-1}=E\n",
    "$$\n",
    "$$\n",
    "a_p=Xw=a\n",
    "$$\n",
    "Мы доказали, что модель не изменится на теории, теперь попробуем доказать это на практике"
   ]
  },
  {
   "cell_type": "markdown",
   "metadata": {},
   "source": [
    "## Алгоритм преобразования"
   ]
  },
  {
   "cell_type": "markdown",
   "metadata": {},
   "source": [
    "**Алгоритм**\n",
    "Как мы доказали выше, качество модели Линейная Регрессия после умножения исходных признаков на обратимую матрицу не изменится. Соответственно, алгоритм преобразования должен содержать создание обратимой матрицы и ее умножение на матрицу признаков.\n",
    "$$\n",
    "С=Х*Р\n",
    "$$\n",
    "$$\n",
    "Х=С*Р^{-1}\n",
    "$$ \n",
    "\n",
    "Где Х - исходные признаки\n",
    "Р - случайная матрица\n",
    "С - зашифрованные признаки\n",
    "\n",
    "\n",
    "Поэтому вот наш алгоритм действий:\n",
    "- 1. Сгенерируем случайную квадратную матрицу, размеры которой будут равны размерам признаков, т.е. 4х4. Почему именно такую? Потому что для умножения матрицы на вектор должно сохраняться условие: матрица A(mxn) и вектор В(n), где n-ширина матрицы и длина вектора. \n",
    "- 2. При сгенерирование матрицы случайным образом, высока вероятность получить необратимую матрицу, но мы создадим функцию, которая сгенерирует матрицу именно обратимой, чтобы не было непредвидимой ошибки.\n",
    "- 3. Умножим нашу матрицу на признаки.\n",
    "- 4. Подставим новую переменную в обучение модели."
   ]
  },
  {
   "cell_type": "markdown",
   "metadata": {},
   "source": [
    "**Обоснование**\n",
    "- Почему создаем матрицу с такими размерами? Потому что для умножения матрицы на вектор должно сохраняться условие: матрица A(mxn) и вектор В(n), где n-ширина матрицы и длина вектора. \n",
    "- Почему нужна именно необратимая матрица? Потому что при необратимой матрице мы не сможем расшифровать данные, следовательно не сможем выполнить поставленную перед нами задачу, а именно защита персональных данных."
   ]
  },
  {
   "cell_type": "markdown",
   "metadata": {},
   "source": [
    "## Проверка алгоритма"
   ]
  },
  {
   "cell_type": "code",
   "execution_count": 9,
   "metadata": {},
   "outputs": [],
   "source": [
    "# Выделим признаки и целевой признак\n",
    "\n",
    "features= data.drop('insurance_payments', axis=1)\n",
    "target=data['insurance_payments']\n",
    "\n",
    "features_train, features_test, target_train, target_test=train_test_split(features, target, random_state=12345)"
   ]
  },
  {
   "cell_type": "code",
   "execution_count": 10,
   "metadata": {},
   "outputs": [
    {
     "name": "stdout",
     "output_type": "stream",
     "text": [
      "Значение R2 до преобразования 0.42307727615837565\n"
     ]
    }
   ],
   "source": [
    "# Обучим модель Линейной Регрессии\n",
    "\n",
    "model= LinearRegression()\n",
    "model.fit(features_train, target_train)\n",
    "predicted=model.predict(features_test)\n",
    "r2_before = r2_score(target_test, predicted)\n",
    "\n",
    "print('Значение R2 до преобразования', r2_before)"
   ]
  },
  {
   "cell_type": "code",
   "execution_count": 11,
   "metadata": {},
   "outputs": [],
   "source": [
    "# Сгенерируем матрицу и сразу исключим ошибки необратимости.\n",
    "def get_rand_matrix():\n",
    "    det = 0\n",
    "    while det == 0:\n",
    "        matrix = np.random.normal(size=(data.drop('insurance_payments', axis=1).shape[1], data.drop('insurance_payments', axis=1).shape[1]))\n",
    "        det = np.linalg.det(matrix)\n",
    "    return matrix\n",
    "matrix=get_rand_matrix()"
   ]
  },
  {
   "cell_type": "code",
   "execution_count": 13,
   "metadata": {},
   "outputs": [
    {
     "name": "stdout",
     "output_type": "stream",
     "text": [
      "Значение R2 после преобразования 0.42307727615814616\n"
     ]
    }
   ],
   "source": [
    "# Умножим нашу случайную матрицу на параметры\n",
    "features_train_matrix=features_train@matrix\n",
    "features_test_matrix=features_test@matrix\n",
    "# Проверим на показателях\n",
    "model_after=LinearRegression()\n",
    "model_after.fit(features_train_matrix, target_train)\n",
    "predicted_after=model_after.predict(features_test_matrix)\n",
    "r2_after=r2_score(target_test, predicted_after)\n",
    "print('Значение R2 после преобразования', r2_after)"
   ]
  },
  {
   "cell_type": "code",
   "execution_count": 14,
   "metadata": {},
   "outputs": [
    {
     "data": {
      "text/plain": [
       "True"
      ]
     },
     "execution_count": 14,
     "metadata": {},
     "output_type": "execute_result"
    }
   ],
   "source": [
    "# Сравним наши значения\n",
    "r2_before.round(12) == r2_after.round(12) "
   ]
  },
  {
   "cell_type": "markdown",
   "metadata": {},
   "source": [
    "**Вывод**: Наша модель разработана корректно: метод преобразования данных работает так, что по ним было сложно восстановить персональную информацию. Показания метрики R2 до и после преобразования равны. Данные защищены, при этом качество модели не пострадало."
   ]
  }
 ],
 "metadata": {
  "ExecuteTimeLog": [
   {
    "duration": 384,
    "start_time": "2023-04-30T07:49:35.745Z"
   },
   {
    "duration": 96,
    "start_time": "2023-04-30T07:49:36.770Z"
   },
   {
    "duration": 40,
    "start_time": "2023-04-30T07:49:47.822Z"
   },
   {
    "duration": 41,
    "start_time": "2023-04-30T07:50:10.633Z"
   },
   {
    "duration": 30,
    "start_time": "2023-04-30T07:50:15.274Z"
   },
   {
    "duration": 8,
    "start_time": "2023-04-30T07:53:42.448Z"
   },
   {
    "duration": 10,
    "start_time": "2023-04-30T07:53:53.779Z"
   },
   {
    "duration": 12,
    "start_time": "2023-04-30T07:56:47.615Z"
   },
   {
    "duration": 14,
    "start_time": "2023-04-30T08:07:36.705Z"
   },
   {
    "duration": 95,
    "start_time": "2023-04-30T08:16:32.300Z"
   },
   {
    "duration": 11,
    "start_time": "2023-04-30T08:17:08.822Z"
   },
   {
    "duration": 22,
    "start_time": "2023-04-30T08:17:26.114Z"
   },
   {
    "duration": 8,
    "start_time": "2023-04-30T08:25:50.649Z"
   },
   {
    "duration": 7,
    "start_time": "2023-04-30T08:25:58.011Z"
   },
   {
    "duration": 13,
    "start_time": "2023-04-30T08:26:43.022Z"
   },
   {
    "duration": 13,
    "start_time": "2023-04-30T08:30:11.352Z"
   },
   {
    "duration": 21,
    "start_time": "2023-04-30T08:32:35.417Z"
   },
   {
    "duration": 1192,
    "start_time": "2023-04-30T09:15:31.032Z"
   },
   {
    "duration": 53,
    "start_time": "2023-04-30T09:15:32.228Z"
   },
   {
    "duration": 72,
    "start_time": "2023-04-30T09:15:32.287Z"
   },
   {
    "duration": 87,
    "start_time": "2023-04-30T09:15:32.361Z"
   },
   {
    "duration": 48,
    "start_time": "2023-04-30T09:15:32.451Z"
   },
   {
    "duration": 42,
    "start_time": "2023-04-30T09:15:32.504Z"
   },
   {
    "duration": 45,
    "start_time": "2023-04-30T09:15:32.549Z"
   },
   {
    "duration": 127,
    "start_time": "2023-04-30T09:15:32.600Z"
   },
   {
    "duration": 0,
    "start_time": "2023-04-30T09:15:32.729Z"
   },
   {
    "duration": 585,
    "start_time": "2023-04-30T09:15:56.905Z"
   },
   {
    "duration": 568,
    "start_time": "2023-04-30T09:16:01.595Z"
   },
   {
    "duration": 291,
    "start_time": "2023-04-30T11:58:57.995Z"
   },
   {
    "duration": 9,
    "start_time": "2023-04-30T11:59:34.599Z"
   },
   {
    "duration": 66,
    "start_time": "2023-04-30T11:59:35.632Z"
   },
   {
    "duration": 26,
    "start_time": "2023-04-30T11:59:47.782Z"
   },
   {
    "duration": 21,
    "start_time": "2023-04-30T12:00:41.351Z"
   },
   {
    "duration": 10,
    "start_time": "2023-04-30T12:05:18.997Z"
   },
   {
    "duration": 3,
    "start_time": "2023-04-30T12:05:25.039Z"
   },
   {
    "duration": 5,
    "start_time": "2023-04-30T12:05:32.751Z"
   },
   {
    "duration": 4,
    "start_time": "2023-04-30T12:05:55.421Z"
   },
   {
    "duration": 5,
    "start_time": "2023-04-30T12:11:13.212Z"
   },
   {
    "duration": 5,
    "start_time": "2023-04-30T12:12:44.697Z"
   },
   {
    "duration": 13,
    "start_time": "2023-04-30T12:18:25.014Z"
   },
   {
    "duration": 4,
    "start_time": "2023-04-30T12:20:18.762Z"
   },
   {
    "duration": 1580,
    "start_time": "2023-04-30T12:30:21.964Z"
   },
   {
    "duration": 38,
    "start_time": "2023-04-30T12:30:23.546Z"
   },
   {
    "duration": 15,
    "start_time": "2023-04-30T12:30:23.588Z"
   },
   {
    "duration": 29,
    "start_time": "2023-04-30T12:30:23.616Z"
   },
   {
    "duration": 22,
    "start_time": "2023-04-30T12:30:23.647Z"
   },
   {
    "duration": 29,
    "start_time": "2023-04-30T12:30:23.671Z"
   },
   {
    "duration": 22,
    "start_time": "2023-04-30T12:30:23.706Z"
   },
   {
    "duration": 442,
    "start_time": "2023-04-30T12:30:23.730Z"
   },
   {
    "duration": 6,
    "start_time": "2023-04-30T12:30:24.221Z"
   },
   {
    "duration": 72,
    "start_time": "2023-04-30T12:30:24.229Z"
   },
   {
    "duration": 113,
    "start_time": "2023-04-30T12:30:24.310Z"
   },
   {
    "duration": 11,
    "start_time": "2023-04-30T12:30:24.426Z"
   },
   {
    "duration": 187,
    "start_time": "2023-04-30T12:30:24.439Z"
   },
   {
    "duration": 63,
    "start_time": "2023-04-30T12:30:24.629Z"
   },
   {
    "duration": 2920,
    "start_time": "2023-05-01T06:48:57.940Z"
   },
   {
    "duration": 96,
    "start_time": "2023-05-01T06:49:00.862Z"
   },
   {
    "duration": 11,
    "start_time": "2023-05-01T06:49:00.959Z"
   },
   {
    "duration": 28,
    "start_time": "2023-05-01T06:49:00.972Z"
   },
   {
    "duration": 37,
    "start_time": "2023-05-01T06:49:01.002Z"
   },
   {
    "duration": 27,
    "start_time": "2023-05-01T06:49:01.041Z"
   },
   {
    "duration": 38,
    "start_time": "2023-05-01T06:49:01.070Z"
   },
   {
    "duration": 469,
    "start_time": "2023-05-01T06:49:01.109Z"
   },
   {
    "duration": 4,
    "start_time": "2023-05-01T06:49:01.580Z"
   },
   {
    "duration": 28,
    "start_time": "2023-05-01T06:49:01.586Z"
   },
   {
    "duration": 82,
    "start_time": "2023-05-01T06:49:01.616Z"
   },
   {
    "duration": 119,
    "start_time": "2023-05-01T06:49:01.700Z"
   },
   {
    "duration": 84,
    "start_time": "2023-05-01T06:49:01.821Z"
   },
   {
    "duration": 189,
    "start_time": "2023-05-01T06:49:01.908Z"
   },
   {
    "duration": 8,
    "start_time": "2023-05-01T09:28:36.599Z"
   },
   {
    "duration": 3,
    "start_time": "2023-05-01T09:28:42.001Z"
   },
   {
    "duration": 52,
    "start_time": "2023-05-01T09:29:01.223Z"
   },
   {
    "duration": 1415,
    "start_time": "2023-05-01T09:29:14.618Z"
   },
   {
    "duration": 129,
    "start_time": "2023-05-01T09:29:16.034Z"
   },
   {
    "duration": 12,
    "start_time": "2023-05-01T09:29:16.164Z"
   },
   {
    "duration": 9,
    "start_time": "2023-05-01T09:29:16.178Z"
   },
   {
    "duration": 11,
    "start_time": "2023-05-01T09:29:16.189Z"
   },
   {
    "duration": 6,
    "start_time": "2023-05-01T09:29:16.202Z"
   },
   {
    "duration": 11,
    "start_time": "2023-05-01T09:29:16.210Z"
   },
   {
    "duration": 474,
    "start_time": "2023-05-01T09:29:16.223Z"
   },
   {
    "duration": 4,
    "start_time": "2023-05-01T09:29:16.699Z"
   },
   {
    "duration": 87,
    "start_time": "2023-05-01T09:29:16.706Z"
   },
   {
    "duration": 236,
    "start_time": "2023-05-01T09:29:16.795Z"
   },
   {
    "duration": 0,
    "start_time": "2023-05-01T09:29:17.033Z"
   },
   {
    "duration": 0,
    "start_time": "2023-05-01T09:29:17.035Z"
   },
   {
    "duration": 5,
    "start_time": "2023-05-01T09:30:27.244Z"
   },
   {
    "duration": 10,
    "start_time": "2023-05-01T09:30:28.394Z"
   },
   {
    "duration": 3,
    "start_time": "2023-05-01T09:30:38.206Z"
   },
   {
    "duration": 4,
    "start_time": "2023-05-01T09:31:18.542Z"
   },
   {
    "duration": 9,
    "start_time": "2023-05-01T09:34:11.690Z"
   },
   {
    "duration": 3,
    "start_time": "2023-05-01T09:34:22.799Z"
   },
   {
    "duration": 12,
    "start_time": "2023-05-01T09:34:42.792Z"
   },
   {
    "duration": 4,
    "start_time": "2023-05-01T09:35:16.797Z"
   },
   {
    "duration": 10,
    "start_time": "2023-05-01T09:36:05.643Z"
   },
   {
    "duration": 4,
    "start_time": "2023-05-01T09:37:38.424Z"
   },
   {
    "duration": 99,
    "start_time": "2023-05-01T09:38:01.695Z"
   },
   {
    "duration": 3,
    "start_time": "2023-05-01T09:38:48.184Z"
   },
   {
    "duration": 4,
    "start_time": "2023-05-01T09:39:03.325Z"
   },
   {
    "duration": 11,
    "start_time": "2023-05-01T09:39:06.484Z"
   },
   {
    "duration": 9,
    "start_time": "2023-05-01T09:45:21.682Z"
   },
   {
    "duration": 42,
    "start_time": "2023-05-01T09:47:56.082Z"
   },
   {
    "duration": 4,
    "start_time": "2023-05-01T09:48:17.241Z"
   },
   {
    "duration": 4,
    "start_time": "2023-05-01T09:48:37.679Z"
   },
   {
    "duration": 6,
    "start_time": "2023-05-01T09:48:50.315Z"
   },
   {
    "duration": 10,
    "start_time": "2023-05-01T09:49:02.688Z"
   },
   {
    "duration": 10,
    "start_time": "2023-05-01T09:49:27.235Z"
   },
   {
    "duration": 1285,
    "start_time": "2023-05-01T09:50:54.480Z"
   },
   {
    "duration": 37,
    "start_time": "2023-05-01T09:50:55.767Z"
   },
   {
    "duration": 11,
    "start_time": "2023-05-01T09:50:55.805Z"
   },
   {
    "duration": 6,
    "start_time": "2023-05-01T09:50:55.817Z"
   },
   {
    "duration": 12,
    "start_time": "2023-05-01T09:50:55.825Z"
   },
   {
    "duration": 8,
    "start_time": "2023-05-01T09:50:55.838Z"
   },
   {
    "duration": 12,
    "start_time": "2023-05-01T09:50:55.847Z"
   },
   {
    "duration": 364,
    "start_time": "2023-05-01T09:50:55.894Z"
   },
   {
    "duration": 4,
    "start_time": "2023-05-01T09:50:56.260Z"
   },
   {
    "duration": 29,
    "start_time": "2023-05-01T09:50:56.266Z"
   },
   {
    "duration": 6,
    "start_time": "2023-05-01T09:50:56.297Z"
   },
   {
    "duration": 291,
    "start_time": "2023-05-01T09:50:56.304Z"
   },
   {
    "duration": 0,
    "start_time": "2023-05-01T09:50:56.597Z"
   },
   {
    "duration": 0,
    "start_time": "2023-05-01T09:50:56.598Z"
   },
   {
    "duration": 3,
    "start_time": "2023-05-01T10:06:07.541Z"
   },
   {
    "duration": 10,
    "start_time": "2023-05-01T10:06:16.001Z"
   },
   {
    "duration": 6,
    "start_time": "2023-05-01T10:08:15.556Z"
   },
   {
    "duration": 9,
    "start_time": "2023-05-01T10:08:21.299Z"
   },
   {
    "duration": 4,
    "start_time": "2023-05-01T10:08:25.096Z"
   },
   {
    "duration": 1699,
    "start_time": "2023-05-01T15:29:18.712Z"
   },
   {
    "duration": 101,
    "start_time": "2023-05-01T15:29:20.414Z"
   },
   {
    "duration": 13,
    "start_time": "2023-05-01T15:29:20.517Z"
   },
   {
    "duration": 8,
    "start_time": "2023-05-01T15:29:20.531Z"
   },
   {
    "duration": 13,
    "start_time": "2023-05-01T15:29:20.541Z"
   },
   {
    "duration": 9,
    "start_time": "2023-05-01T15:29:20.555Z"
   },
   {
    "duration": 22,
    "start_time": "2023-05-01T15:29:20.565Z"
   },
   {
    "duration": 448,
    "start_time": "2023-05-01T15:29:20.611Z"
   },
   {
    "duration": 7,
    "start_time": "2023-05-01T15:29:21.061Z"
   },
   {
    "duration": 15,
    "start_time": "2023-05-01T15:29:21.070Z"
   },
   {
    "duration": 8,
    "start_time": "2023-05-01T15:29:21.087Z"
   },
   {
    "duration": 140,
    "start_time": "2023-05-01T15:29:21.113Z"
   },
   {
    "duration": 0,
    "start_time": "2023-05-01T15:29:21.254Z"
   },
   {
    "duration": 0,
    "start_time": "2023-05-01T15:29:21.255Z"
   },
   {
    "duration": 10,
    "start_time": "2023-05-01T15:29:51.545Z"
   },
   {
    "duration": 5,
    "start_time": "2023-05-01T15:29:53.792Z"
   }
  ],
  "kernelspec": {
   "display_name": "Python 3 (ipykernel)",
   "language": "python",
   "name": "python3"
  },
  "language_info": {
   "codemirror_mode": {
    "name": "ipython",
    "version": 3
   },
   "file_extension": ".py",
   "mimetype": "text/x-python",
   "name": "python",
   "nbconvert_exporter": "python",
   "pygments_lexer": "ipython3",
   "version": "3.11.4"
  },
  "toc": {
   "base_numbering": 1,
   "nav_menu": {},
   "number_sections": true,
   "sideBar": true,
   "skip_h1_title": true,
   "title_cell": "Содержание",
   "title_sidebar": "Contents",
   "toc_cell": true,
   "toc_position": {},
   "toc_section_display": true,
   "toc_window_display": false
  }
 },
 "nbformat": 4,
 "nbformat_minor": 2
}
