{
 "cells": [
  {
   "cell_type": "markdown",
   "metadata": {},
   "source": [
    "<div style=\"border:solid Chocolate 2px; padding: 40px\">\n",
    " \n",
    "<b> Надежда, привет!👋</b>  \n",
    "\n",
    "Меня зовут Кирилл Васильев, я буду ревьюером твоего проекта. Я предлагаю общаться на «ты», но если привычнее на «вы», просто скажи об этом! \n",
    "\n",
    "Я буду оставлять комментарии в твоем проекте. Пожалуйста, не удаляй их, они могут быть полезны в случае повторной проверки.\n",
    "\n",
    "Свои комментарии я буду обозначать <font color='green'>зеленым</font>, <font color='gold'>желтым</font> и <font color='red'>красным</font> цветами, например:\n",
    "  \n",
    "<br/>\n",
    "\n",
    "<div class=\"alert alert-success\">\n",
    "<h2> Комментарий ревьюера <a class=\"tocSkip\"> </h2>\n",
    "\n",
    "<b>Все отлично!👍:</b> В случае, если решение на отдельном шаге является полностью правильным. Здесь же я могу давать советы и предложения.\n",
    "</div>\n",
    "\n",
    "<br/>\n",
    "\n",
    "<div class=\"alert alert-warning\">\n",
    "    <h2> Комментарий ревьюера <a class=\"tocSkip\"> </h2>\n",
    "    \n",
    "<b>Некоторые замечания и рекомендации💡:</b> В случае, когда решение на отдельном шаге станет еще лучше, если внести небольшие коррективы.\n",
    "</div>\n",
    "\n",
    "\n",
    "<br/>\n",
    "<div class=\"alert alert-block alert-danger\">\n",
    "<h2> Комментарий ревьюера <a class=\"tocSkip\"></h2>\n",
    "\n",
    "     \n",
    "<b>На доработку🤔:</b>\n",
    " В случае, когда решение на отдельном шаге требует существенной переработки и внесения правок. Напоминаю, что проект не может быть принят с первого раза, если ревью содержит комментарии, рекомендующие доработать шаги.\n",
    "</div>\n",
    "\n",
    "<br/>\n",
    "<div class=\"alert alert-info\">\n",
    "Рекомендую для твоих комментариев использовать синий или любой другой цветной фон. Я постараюсь ничего не пропустить, но если комментарии будут выделены, то это мне очень поможет!\n",
    "</div>\n",
    "    \n",
    "Увидев у тебя неточность, в первый раз я лишь укажу на ее наличие и дам тебе возможность самостоятельно найти и исправить ее. На реальной работе твой руководитель будет поступать также. Но если ты пока не справишься с такой задачей - при следующей проверке я дам более точную подсказку."
   ]
  },
  {
   "cell_type": "markdown",
   "metadata": {
    "toc": true
   },
   "source": [
    "<h1>Содержание<span class=\"tocSkip\"></span></h1>\n",
    "<div class=\"toc\"><ul class=\"toc-item\"><li><span><a href=\"#Подготовка\" data-toc-modified-id=\"Подготовка-1\"><span class=\"toc-item-num\">1&nbsp;&nbsp;</span>Подготовка</a></span></li><li><span><a href=\"#Анализ\" data-toc-modified-id=\"Анализ-2\"><span class=\"toc-item-num\">2&nbsp;&nbsp;</span>Анализ</a></span></li><li><span><a href=\"#Обучение\" data-toc-modified-id=\"Обучение-3\"><span class=\"toc-item-num\">3&nbsp;&nbsp;</span>Обучение</a></span></li><li><span><a href=\"#Тестирование\" data-toc-modified-id=\"Тестирование-4\"><span class=\"toc-item-num\">4&nbsp;&nbsp;</span>Тестирование</a></span></li><li><span><a href=\"#Чек-лист-проверки\" data-toc-modified-id=\"Чек-лист-проверки-5\"><span class=\"toc-item-num\">5&nbsp;&nbsp;</span>Чек-лист проверки</a></span></li></ul></div>"
   ]
  },
  {
   "cell_type": "markdown",
   "metadata": {},
   "source": [
    "#  Прогнозирование заказов такси"
   ]
  },
  {
   "cell_type": "markdown",
   "metadata": {},
   "source": [
    "Компания «Чётенькое такси» собрала исторические данные о заказах такси в аэропортах. Чтобы привлекать больше водителей в период пиковой нагрузки, нужно спрогнозировать количество заказов такси на следующий час. Постройте модель для такого предсказания.\n",
    "\n",
    "Значение метрики *RMSE* на тестовой выборке должно быть не больше 48.\n",
    "\n",
    "Вам нужно:\n",
    "\n",
    "1. Загрузить данные и выполнить их ресемплирование по одному часу.\n",
    "2. Проанализировать данные.\n",
    "3. Обучить разные модели с различными гиперпараметрами. Сделать тестовую выборку размером 10% от исходных данных.\n",
    "4. Проверить данные на тестовой выборке и сделать выводы.\n",
    "\n",
    "\n",
    "Данные лежат в файле `taxi.csv`. Количество заказов находится в столбце `num_orders` (от англ. *number of orders*, «число заказов»)."
   ]
  },
  {
   "cell_type": "markdown",
   "metadata": {},
   "source": [
    "## Подготовка"
   ]
  },
  {
   "cell_type": "code",
   "execution_count": 1,
   "metadata": {},
   "outputs": [],
   "source": [
    "# Импортируем библиотеки\n",
    "import pandas as pd\n",
    "import numpy as np\n",
    "import matplotlib.pyplot as plt\n",
    "\n",
    "from sklearn.model_selection import train_test_split, GridSearchCV, TimeSeriesSplit\n",
    "from sklearn.linear_model import LinearRegression\n",
    "from sklearn.ensemble import RandomForestRegressor\n",
    "from sklearn.metrics import mean_squared_error\n",
    "\n",
    "\n",
    "from statsmodels.tsa.stattools import adfuller\n",
    "from statsmodels.tsa.seasonal import seasonal_decompose\n",
    "\n",
    "from lightgbm import LGBMRegressor\n",
    "from catboost import CatBoostRegressor"
   ]
  },
  {
   "cell_type": "markdown",
   "metadata": {},
   "source": [
    "\n",
    "<div class=\"alert alert-warning\">\n",
    "<h2> Комментарий ревьюера <a class=\"tocSkip\"> </h2>\n",
    "    \n",
    "<b>Некоторые замечания и рекомендации💡:</b> \n",
    "    \n",
    "Если какие-то пакеты не используем, лучше их удалить. Например, здесь вижу импорты для масштабирования. В этой задаче можно обойтись без него, у нас данные примерно одного масштаба.\n",
    "    \n",
    "Если загружаем несколько функций из одного пакета, то удобнее записать это через запятую. По аналогии:\n",
    "    \n",
    "`from sklearn.metrics import f1_score, roc_auc_score`\n",
    "    \n",
    "А если через запятую будет больше трех позиций, в таком случае здесь было бы идеально привести оформление в соответствие с <a href=\"https://pythonworld.ru/osnovy/pep-8-rukovodstvo-po-napisaniyu-koda-na-python.html\">pep8</a> - не оставлять длинных строк. \n",
    "\n",
    "Такое оформление предпочтительнее:    \n",
    "    \n",
    "`from sklearn.metrics import (\n",
    "    accuracy_score, \n",
    "    confusion_matrix, \n",
    "    f1_score,\n",
    "    roc_auc_score\n",
    ")`\n",
    "    \n",
    "        \n",
    "</div>\n"
   ]
  },
  {
   "cell_type": "code",
   "execution_count": 2,
   "metadata": {},
   "outputs": [],
   "source": [
    "# Загрузим датасет\n",
    "data=pd.read_csv('/datasets/taxi.csv', index_col=[0], parse_dates=[0])\n",
    "\n",
    "#Выполним ресемплирование по 1 часу, перед этим отсортируем по индексу данные\n",
    "data.sort_index(inplace=True)\n",
    "data= data.resample('1H').sum()"
   ]
  },
  {
   "cell_type": "markdown",
   "metadata": {},
   "source": [
    "<div class=\"alert alert-success\">\n",
    "<h2> Комментарий ревьюера <a class=\"tocSkip\"> </h2>\n",
    "\n",
    "👍 Описание задачи есть, библиотеки загружены. Данные получены верно, даты обработаны, мы их переместили в индекс.  Ресемплирование провели верно. Отлично, что используем суммирование. Такой вариант интуитивно понятен и удобен. Полет нормальный :)\n",
    "</div>\n",
    " "
   ]
  },
  {
   "cell_type": "code",
   "execution_count": 3,
   "metadata": {},
   "outputs": [
    {
     "data": {
      "text/html": [
       "<div>\n",
       "<style scoped>\n",
       "    .dataframe tbody tr th:only-of-type {\n",
       "        vertical-align: middle;\n",
       "    }\n",
       "\n",
       "    .dataframe tbody tr th {\n",
       "        vertical-align: top;\n",
       "    }\n",
       "\n",
       "    .dataframe thead th {\n",
       "        text-align: right;\n",
       "    }\n",
       "</style>\n",
       "<table border=\"1\" class=\"dataframe\">\n",
       "  <thead>\n",
       "    <tr style=\"text-align: right;\">\n",
       "      <th></th>\n",
       "      <th>num_orders</th>\n",
       "    </tr>\n",
       "    <tr>\n",
       "      <th>datetime</th>\n",
       "      <th></th>\n",
       "    </tr>\n",
       "  </thead>\n",
       "  <tbody>\n",
       "    <tr>\n",
       "      <th>2018-03-01 00:00:00</th>\n",
       "      <td>124</td>\n",
       "    </tr>\n",
       "    <tr>\n",
       "      <th>2018-03-01 01:00:00</th>\n",
       "      <td>85</td>\n",
       "    </tr>\n",
       "    <tr>\n",
       "      <th>2018-03-01 02:00:00</th>\n",
       "      <td>71</td>\n",
       "    </tr>\n",
       "    <tr>\n",
       "      <th>2018-03-01 03:00:00</th>\n",
       "      <td>66</td>\n",
       "    </tr>\n",
       "    <tr>\n",
       "      <th>2018-03-01 04:00:00</th>\n",
       "      <td>43</td>\n",
       "    </tr>\n",
       "  </tbody>\n",
       "</table>\n",
       "</div>"
      ],
      "text/plain": [
       "                     num_orders\n",
       "datetime                       \n",
       "2018-03-01 00:00:00         124\n",
       "2018-03-01 01:00:00          85\n",
       "2018-03-01 02:00:00          71\n",
       "2018-03-01 03:00:00          66\n",
       "2018-03-01 04:00:00          43"
      ]
     },
     "execution_count": 3,
     "metadata": {},
     "output_type": "execute_result"
    }
   ],
   "source": [
    "# Посмотрим на наши данные\n",
    "data.head()"
   ]
  },
  {
   "cell_type": "code",
   "execution_count": 4,
   "metadata": {},
   "outputs": [
    {
     "name": "stdout",
     "output_type": "stream",
     "text": [
      "<class 'pandas.core.frame.DataFrame'>\n",
      "DatetimeIndex: 4416 entries, 2018-03-01 00:00:00 to 2018-08-31 23:00:00\n",
      "Freq: H\n",
      "Data columns (total 1 columns):\n",
      " #   Column      Non-Null Count  Dtype\n",
      "---  ------      --------------  -----\n",
      " 0   num_orders  4416 non-null   int64\n",
      "dtypes: int64(1)\n",
      "memory usage: 69.0 KB\n"
     ]
    }
   ],
   "source": [
    "data.info()"
   ]
  },
  {
   "cell_type": "code",
   "execution_count": 5,
   "metadata": {},
   "outputs": [
    {
     "name": "stdout",
     "output_type": "stream",
     "text": [
      "Пропуски --- num_orders    0\n",
      "dtype: int64\n",
      "----------\n",
      "Дубликаты --- 4165\n",
      "num_orders    251\n",
      "dtype: int64\n",
      "----------\n",
      " Процент дубликатов\n",
      "num_orders    5.68\n",
      "dtype: float64\n",
      "\n"
     ]
    }
   ],
   "source": [
    "# Посмотрим на пропуски и дубликаты\n",
    "print(f'Пропуски --- {data.isna().sum()}','-'*10, f'Дубликаты --- {data.duplicated().sum()}', data.nunique(),'-'*10, \n",
    "      f' Процент дубликатов', round(data.nunique()/len(data)*100, 2), sep='\\n', end='\\n\\n')"
   ]
  },
  {
   "cell_type": "markdown",
   "metadata": {},
   "source": [
    "Как мы видим, данных не так много, это дата и время заказа, и кол-во заказов. Пропусков нет, но есть дубликаты. Их почти 6%, но в нашем случае их нецелесообразно удалять, так как данные ресемплированы."
   ]
  },
  {
   "cell_type": "markdown",
   "metadata": {},
   "source": [
    "## Анализ"
   ]
  },
  {
   "cell_type": "markdown",
   "metadata": {},
   "source": [
    "Проанализируем наши данные. Построим график,где увидим наши заказы"
   ]
  },
  {
   "cell_type": "code",
   "execution_count": 6,
   "metadata": {},
   "outputs": [
    {
     "data": {
      "text/plain": [
       "[Text(0.5, 0, 'Date'), Text(0, 0.5, 'Count')]"
      ]
     },
     "execution_count": 6,
     "metadata": {},
     "output_type": "execute_result"
    },
    {
     "data": {
      "image/png": "[encoded data removed]",
      "text/plain": [
       "<Figure size 432x288 with 1 Axes>"
      ]
     },
     "metadata": {
      "needs_background": "light"
     },
     "output_type": "display_data"
    }
   ],
   "source": [
    "# Посмотрим на среднее значение и \n",
    "ax = data.plot(title='Общие данные по заказам')\n",
    "\n",
    "ax.set(xlabel=\"Date\", ylabel=\"Count\")"
   ]
  },
  {
   "cell_type": "markdown",
   "metadata": {},
   "source": [
    "<div class=\"alert alert-warning\">\n",
    "<h2> Комментарий ревьюера <a class=\"tocSkip\"> </h2>\n",
    "    \n",
    "<b>Некоторые замечания и рекомендации💡:</b> \n",
    "\n",
    "Графики в проекте нужно подписать.\n",
    "       \n",
    "</div> \n",
    "  \n"
   ]
  },
  {
   "cell_type": "markdown",
   "metadata": {},
   "source": [
    "<div class=\"alert alert-success\">\n",
    "<h2> Комментарий ревьюера #2 <a class=\"tocSkip\"> </h2>\n",
    "\n",
    "👍 Теперь все отлично.\n",
    "</div>\n",
    " \n"
   ]
  },
  {
   "cell_type": "code",
   "execution_count": 7,
   "metadata": {},
   "outputs": [
    {
     "data": {
      "text/plain": [
       "<AxesSubplot:title={'center':'Увеличенный участок'}, xlabel='datetime'>"
      ]
     },
     "execution_count": 7,
     "metadata": {},
     "output_type": "execute_result"
    },
    {
     "data": {
      "image/png": "[encoded data removed]",
      "text/plain": [
       "<Figure size 432x288 with 1 Axes>"
      ]
     },
     "metadata": {
      "needs_background": "light"
     },
     "output_type": "display_data"
    }
   ],
   "source": [
    "data.head(24*7).plot(title='Увеличенный участок')"
   ]
  },
  {
   "cell_type": "code",
   "execution_count": 8,
   "metadata": {},
   "outputs": [
    {
     "name": "stdout",
     "output_type": "stream",
     "text": [
      "Наш ряд стационарный\n"
     ]
    }
   ],
   "source": [
    "# Проверим наши данные на стационарность\n",
    "taxi = pd.read_csv(\"/datasets/taxi.csv\", index_col=[0], parse_dates=[0]).resample('1H').sum()\n",
    "\n",
    "ts = taxi['num_orders']\n",
    "st_test = adfuller(ts, regression='ctt')\n",
    "\n",
    "# Если значение с индексом 1 меньше P-Value, заданное нами, то ряд стационарный\n",
    "if st_test[1] < 0.05:\n",
    "    print('Наш ряд стационарный')\n",
    "else:\n",
    "    print('Ряд нестационарный')\n"
   ]
  },
  {
   "cell_type": "markdown",
   "metadata": {},
   "source": [
    "Наши данные в виде графика показывают стационарный ряд. Самих значений очень много, и обычную линейную зависимость трудно заметить. Также мы посмотрели данные по часам, к утру кол-во заказов увеличивается. Чтобы график был более понятен,посмотрим на его тренд и сезонность"
   ]
  },
  {
   "cell_type": "markdown",
   "metadata": {},
   "source": [
    " \n",
    "<div class=\"alert alert-warning\">\n",
    "<h2> Комментарий ревьюера <a class=\"tocSkip\"> </h2>\n",
    "    \n",
    "<b>Некоторые замечания и рекомендации💡:</b> \n",
    "\n",
    "По стационарности − тут не все так однозначно :)\n",
    "    \n",
    "Вот, например, статья про стационарность ряда: https://studopedia.ru/20_59693_statsionarnie-i-nestatsionarnie-ryadi.html Там говорится: «Стационарный ряд должен иметь постоянное среднее и должен колебаться вокруг этого среднего с постоянной дисперсией.»\n",
    "    \n",
    "Если посмотрим (ниже), то у нас ряд имеет и тренд, и непостоянную дисперсию. В строгом математическом смысле наш ряд не стационарен. \n",
    "    \n",
    "ОДНАКО\n",
    "    \n",
    "В вопросе «шашечки или ехать» (без контекста темы проекта) нам важно не просто ответить на вопрос о стационарности ряда, а узнать, можем ли мы наш ряд предсказывать. Методами ML мы можем предсказать ряд, который не является стационарным, но может быть приводим к стационарному. В тренажере был пример с разностью ряда. Если возьмем наш ряд и вычтем из него его же, но со сдвигом на один час, то тренд исчезнет (можно попробовать). Это самое простое преобразование. И мы уже приблизились к математическому определению стационарности. Есть чуть более сложное предобразование Бокса-Кокса, которое и дисперсию делает однородной. \n",
    "    \n",
    "Нам все эти преобразования делать не нужно, достаточно провести тест на стационарность ряда. Он, условно говоря, отвечает на вопрос «приводим ли ряд к стационарному» и, что важно для нас, можем ли мы построить эффективную модель.\n",
    "    \n",
    "Ниже приведу пример такого теста.\n",
    "       \n",
    "</div> \n"
   ]
  },
  {
   "cell_type": "code",
   "execution_count": 9,
   "metadata": {},
   "outputs": [
    {
     "name": "stdout",
     "output_type": "stream",
     "text": [
      "Если значение с индексом 1 меньше P-Value, заданное нами (обычно берут 0.05), то ряд стационарный\n",
      "Наш ряд стационарный\n"
     ]
    }
   ],
   "source": [
    "# код ревьювера\n",
    "from statsmodels.tsa.stattools import adfuller\n",
    "\n",
    "taxi = pd.read_csv(\"/datasets/taxi.csv\", index_col=[0], parse_dates=[0]).resample('1H').sum()\n",
    "\n",
    "ts = taxi['num_orders']\n",
    "st_test = adfuller(ts, regression='ctt')\n",
    "\n",
    "print('Если значение с индексом 1 меньше P-Value, заданное нами (обычно берут 0.05), то ряд стационарный')\n",
    "if st_test[1] < 0.05:\n",
    "    print('Наш ряд стационарный')\n",
    "else:\n",
    "    print('Ряд нестационарный')\n",
    "\n"
   ]
  },
  {
   "cell_type": "markdown",
   "metadata": {},
   "source": [
    "<div class=\"alert alert-info\">\n",
    "<h2> Комментарий студента <a class=\"tocSkip\"> </h2>\n",
    "    \n",
    "Спасибо большое за этот код! Выше я его применила.\n",
    "       \n",
    "</div> \n"
   ]
  },
  {
   "cell_type": "markdown",
   "metadata": {},
   "source": [
    "<div class=\"alert alert-success\">\n",
    "<h2> Комментарий ревьюера #2 <a class=\"tocSkip\"> </h2>\n",
    "\n",
    "👍 Ага. Про стационарность такая неоднозначная тема :) Важно понимать, для чего она нам нужна, тогда можно не касаться терминологических споров.\n",
    "</div>\n",
    " \n"
   ]
  },
  {
   "cell_type": "code",
   "execution_count": 10,
   "metadata": {},
   "outputs": [],
   "source": [
    "decomposed_df = seasonal_decompose(data)"
   ]
  },
  {
   "cell_type": "code",
   "execution_count": 11,
   "metadata": {},
   "outputs": [
    {
     "data": {
      "text/plain": [
       "<AxesSubplot:title={'center':'Resid'}, xlabel='datetime'>"
      ]
     },
     "execution_count": 11,
     "metadata": {},
     "output_type": "execute_result"
    },
    {
     "data": {
      "image/png": "[encoded data removed]",
      "text/plain": [
       "<Figure size 1080x864 with 3 Axes>"
      ]
     },
     "metadata": {
      "needs_background": "light"
     },
     "output_type": "display_data"
    }
   ],
   "source": [
    "plt.figure(figsize=(15, 12))\n",
    "\n",
    "plt.subplot(3,1,1)\n",
    "plt.tight_layout()\n",
    "decomposed_df.trend.plot(title='Trend')\n",
    "\n",
    "plt.subplot(3,1,2)\n",
    "plt.tight_layout()\n",
    "decomposed_df.seasonal.tail(24*7).plot(title='Seasonal')\n",
    "\n",
    "plt.subplot(3,1,3)\n",
    "plt.tight_layout()\n",
    "decomposed_df.resid.plot(title='Resid')"
   ]
  },
  {
   "cell_type": "markdown",
   "metadata": {},
   "source": [
    "Можно заметить тренд на увеличение в летние месяцы. Это можно объяснить сезоном отпусков. Также, если смотреть на наши \"остатки\", можно увидеть невысокую долю остатков на всем протяжении. Значит, наша модель должна хорошо предсказывать. "
   ]
  },
  {
   "cell_type": "markdown",
   "metadata": {},
   "source": [
    " \n",
    "<div class=\"alert alert-warning\">\n",
    "<h2> Комментарий ревьюера <a class=\"tocSkip\"> </h2>\n",
    "    \n",
    "<b>Некоторые замечания и рекомендации💡:</b> \n",
    "\n",
    "Можно. Точнее сказать «тренд на увеличение». А с августа, если присмотреться, там даже намечается некоторое ускорение. Правда, это может объясняться сезоном отпусков и повышенной загруженностью аэропортов.\n",
    "    \n",
    "Важно также прокомментировать третью составляющую декомпозиции ряда. По «остаткам» - это то, что мы не можем объяснить трендом и сезонностью, наше «случайное блуждание». Нужно посмотреть, на всем ли протяжении доля остатков одинаковая? Высокая ли она (тут сложно с первого раза, подскажу - не сильно высокая, модель будет неплохо все предсказывать). А вот если «остатков» к концу графика больше, значит в тестовую выборку попадет чуть больше данных, которые сложно объяснить и на которых модели будет сложнее предсказывать. Поэтому относительно большая (по сравнению с другими задачами машинного обучения) разница между метриками при обучении и исследовании, и между тестовой выборкой, не обязательно будет объясняться только переобучением модели.\n",
    "\n",
    "      \n",
    "</div> \n",
    "  \n"
   ]
  },
  {
   "cell_type": "markdown",
   "metadata": {},
   "source": [
    "<div class=\"alert alert-info\">\n",
    "<h2> Комментарий студента <a class=\"tocSkip\"> </h2>\n",
    "    \n",
    "Дополнила комментарий выше. Спасибо за объяснение!\n",
    "       \n",
    "</div> \n"
   ]
  },
  {
   "cell_type": "markdown",
   "metadata": {},
   "source": [
    "<div class=\"alert alert-success\">\n",
    "<h2> Комментарий ревьюера #2 <a class=\"tocSkip\"> </h2>\n",
    "\n",
    "👍 Верно.\n",
    "</div>"
   ]
  },
  {
   "cell_type": "markdown",
   "metadata": {},
   "source": [
    "## Обучение"
   ]
  },
  {
   "cell_type": "markdown",
   "metadata": {},
   "source": [
    "Создадим для обучения модели новые признаки, такие как день, месяц, год, день недели. Для этого напишем функцию, где добавим также отстающие значения и скользящее среднее. "
   ]
  },
  {
   "cell_type": "code",
   "execution_count": 12,
   "metadata": {},
   "outputs": [],
   "source": [
    "def make_features(data, max_lag, rolling_mean_size):\n",
    "    data['hour'] = data.index.hour\n",
    "    data['day'] = data.index.day\n",
    "    data['dayofweek'] = data.index.dayofweek\n",
    "    \n",
    "    #Добавим отстающие значения\n",
    "    for lag in range(1, max_lag+1):\n",
    "        data['lag_{}'.format(lag)] = data['num_orders'].shift(lag)\n",
    "        \n",
    "    #Добавим скользящее среднее    \n",
    "    data['rolling_mean'] = data['num_orders'].shift().rolling(rolling_mean_size).mean() \n",
    "    \n",
    "    "
   ]
  },
  {
   "cell_type": "markdown",
   "metadata": {},
   "source": [
    "<div class=\"alert alert-block alert-danger\">\n",
    "<h2><s> Комментарий ревьюера <a class=\"tocSkip\"></h2>\n",
    "  \n",
    "<b>На доработку🤔:</b>\n",
    " \n",
    "Все ли признаки нам пригодятся? Можем ли «поймать» годовую сезонность?  У нас данные за какой период? Важен ли месяц и год?\n",
    "    \n",
    "И напротив, выше изучили данные и увидели, что суточная сезонность достаточно сильная. Здесь нам будет важно выделить признак часа.\n",
    "\n",
    "</div>\n"
   ]
  },
  {
   "cell_type": "markdown",
   "metadata": {},
   "source": [
    "<div class=\"alert alert-info\">\n",
    "<h2> Комментарий студента <a class=\"tocSkip\"> </h2>\n",
    "    \n",
    "Исправила\n",
    "</div> \n"
   ]
  },
  {
   "cell_type": "code",
   "execution_count": 13,
   "metadata": {},
   "outputs": [],
   "source": [
    "# Произвольно подберем параметры для нашей функции\n",
    "make_features(data, 48, 21)"
   ]
  },
  {
   "cell_type": "markdown",
   "metadata": {},
   "source": [
    "<div class=\"alert alert-success\">\n",
    "<h2> Комментарий ревьюера <a class=\"tocSkip\"> </h2>\n",
    "\n",
    "👍 Неплохой выбор лагов и окна скользящего среднего. Можешь прокомментировать, почему именно такие показатели?\n",
    "</div> "
   ]
  },
  {
   "cell_type": "markdown",
   "metadata": {},
   "source": [
    "<div class=\"alert alert-info\">\n",
    "<h2> Комментарий студента <a class=\"tocSkip\"> </h2>\n",
    "    \n",
    "На самом деле, стыдно признаться, но я плохо поняла логику подбора. Но смею предположить, что лаги мы взяли за 48часов, т.е. 2 суток, чтобы правильно обработать выходные дни, а скользящее берем почти сутки, чтобы размыть всплески данных в рейсах( ночные/ дневные). Но я потом решила проверить, и у меня на 21 часе данные показали лучше, я и оставила. Но почитав твой комментарий ниже, по поводу лагов за неделю, решила попробовать 168. Время увеличилось, так что я оставила все как и было\n",
    "</div> \n"
   ]
  },
  {
   "cell_type": "markdown",
   "metadata": {},
   "source": [
    "<div class=\"alert alert-success\">\n",
    "<h2> Комментарий ревьюера #2 <a class=\"tocSkip\"> </h2>\n",
    "\n",
    "👍 Понял. Согласен, что время обучения увеличивается. Но нам в нашей задаче важнее подобрать фичи для модели, чем гиперпараметры :) Это будет эффективнее. Например, логистическая регрессия с 168 лагами работает и быстрее, и лучше по качеству, чем кэтбуст с 48 лагами.\n",
    "</div>"
   ]
  },
  {
   "cell_type": "code",
   "execution_count": 14,
   "metadata": {},
   "outputs": [],
   "source": [
    "# Разделим данные на выборки: тестовую и обучающую, согласно условию, тестовая составляет 10%. \n",
    "train, test = train_test_split(data, shuffle=False, test_size=0.1)\n",
    "train = train.dropna()\n",
    "\n",
    "# Выделим признаки и целевой признак\n",
    "target_train = train['num_orders']\n",
    "target_test = test['num_orders']\n",
    "features_train = train.drop(['num_orders'], axis=1)\n",
    "features_test = test.drop(['num_orders'], axis=1)\n"
   ]
  },
  {
   "cell_type": "markdown",
   "metadata": {},
   "source": [
    "<div class=\"alert alert-success\">\n",
    "<h2> Комментарий ревьюера <a class=\"tocSkip\"> </h2>\n",
    "\n",
    "👍 Верно, ничего не перемешиваем.\n",
    "</div>\n"
   ]
  },
  {
   "cell_type": "markdown",
   "metadata": {},
   "source": [
    "Теперь можно перейти к обучению моделей. Выберем стандартные простые модели RandomForest и LinearRegression. А также выберем модели бустинга LGBMRegressor и CatBoost. Параметры будем подбирать методикой GridSearchCV. Так как в нашихданных нет категориальных признаков, то и нет смысла проводить кодировку. Наша задача вывести результат RMSE не больше 48."
   ]
  },
  {
   "cell_type": "code",
   "execution_count": 15,
   "metadata": {},
   "outputs": [],
   "source": [
    "# Напишем функцию для подсчета RMSE\n",
    "def rmse(target, predicted):\n",
    "    return mean_squared_error(target, predicted) ** 0.5"
   ]
  },
  {
   "cell_type": "code",
   "execution_count": 16,
   "metadata": {},
   "outputs": [],
   "source": [
    "# Создадим функцию, которая сохранит результаты моделей\n",
    "class ModelHelper:\n",
    "    def __init__(self, name, model):\n",
    "        self.name = name\n",
    "        self.model = model\n",
    "    \n",
    "    def fit(self, features, target):        \n",
    "        self.model.fit(features, target)\n",
    "            \n",
    "    def predict(self, features, target):          \n",
    "        predicted = self.model.predict(features)   \n",
    "        self.rmse = rmse(target, predicted)\n",
    "    \n",
    "    def getResult(self):\n",
    "        return self.name, self.rmse\n",
    "    \n",
    "    \n",
    "# Создадим переменную, где будут храниться результаты\n",
    "result = []\n",
    "\n",
    "# И создадим функцию для красивого вывода\n",
    "def print_result(result):\n",
    "    print('|{: >20}|{: >12}|'.format('Модель', 'RMSE'))\n",
    "    for info in result:\n",
    "        print('|{: >20}|{: >12.5f}|'.format(info[0], info[1]))    "
   ]
  },
  {
   "cell_type": "markdown",
   "metadata": {},
   "source": [
    "**Модель Random Forest**"
   ]
  },
  {
   "cell_type": "code",
   "execution_count": 17,
   "metadata": {},
   "outputs": [
    {
     "data": {
      "text/plain": [
       "{'max_depth': 7,\n",
       " 'min_samples_leaf': 1,\n",
       " 'min_samples_split': 2,\n",
       " 'n_estimators': 10}"
      ]
     },
     "execution_count": 17,
     "metadata": {},
     "output_type": "execute_result"
    }
   ],
   "source": [
    "RMSE = 'neg_mean_squared_error'\n",
    "tscv = TimeSeriesSplit(n_splits=10)\n",
    "RANDOM = 12345\n",
    "\n",
    "# Попробуем обучить случайный лес\n",
    "parameters = {'n_estimators': range(5,11,5),'max_depth': range(1,8,3), 'min_samples_leaf': range(1,5,2),\n",
    "              'min_samples_split': range(2,6,2)}\n",
    "\n",
    "model = RandomForestRegressor(random_state=RANDOM)\n",
    "\n",
    "grid = GridSearchCV(estimator= model, cv=tscv, param_grid = parameters, scoring=RMSE)\n",
    "grid.fit(features_train, target_train)\n",
    "\n",
    "grid.best_params_"
   ]
  },
  {
   "cell_type": "markdown",
   "metadata": {},
   "source": [
    "<div class=\"alert alert-block alert-danger\">\n",
    "<h2><s> Комментарий ревьюера <a class=\"tocSkip\"></h2>\n",
    "  \n",
    "<b>На доработку🤔:</b>\n",
    "\n",
    "По кросс-валидации. Мы здесь используем обычную кросс-валидацию, которая, соответственно, предсказывает нам будущее только в одном из n_splits случае, а в остальных − прошлое.\n",
    "    \n",
    "В случае с временным рядом нам нужно задать кросс-валидацию TimeSeriesSplit\n",
    "    \n",
    "https://scikit-learn.org/stable/modules/generated/sklearn.model_selection.TimeSeriesSplit.html \n",
    "    \n",
    "В случае временного ряда в каждом сплите тестовые индексы должны быть позже по времени, чем обучающие, поэтому перетасовка обычным способом неуместна. Как раз TimeSeriesSplit решает эту проблему.\n",
    "    \n",
    "Схематично работу можно представить вот так:\\\n",
    "</font>\n",
    "![image.png](https://scikit-learn.org/stable/_images/sphx_glr_plot_cv_indices_013.png)\n",
    "\n",
    "А по реализации будет очень похоже на обычную кросс-валидацию:\n",
    "```python\n",
    "tscv = TimeSeriesSplit(n_splits=10)\n",
    "gsearch = GridSearchCV(estimator=model, cv=tscv, param_grid=param_search)\n",
    "gsearch.fit(X, y)\n",
    "```\n",
    "\n",
    "\n",
    "</div>"
   ]
  },
  {
   "cell_type": "markdown",
   "metadata": {},
   "source": [
    "<div class=\"alert alert-info\">\n",
    "<h2> Комментарий студента <a class=\"tocSkip\"> </h2>\n",
    "    \n",
    "Исправила во всех моделях. Спасибо, я этого не знала.\n",
    "</div> "
   ]
  },
  {
   "cell_type": "code",
   "execution_count": 18,
   "metadata": {},
   "outputs": [],
   "source": [
    "# Проверим наш случайный лес\n",
    "model_forest = grid.best_estimator_\n",
    "model_forest_helper = ModelHelper('Random forest', model_forest)\n",
    "model_forest_helper.fit(features_train, target_train)\n",
    "model_forest_helper.predict(features_train, target_train)\n",
    "result.append(model_forest_helper.getResult())"
   ]
  },
  {
   "cell_type": "markdown",
   "metadata": {},
   "source": [
    "**Модель LinearRegression**"
   ]
  },
  {
   "cell_type": "code",
   "execution_count": 19,
   "metadata": {},
   "outputs": [],
   "source": [
    "model_lr = LinearRegression()\n",
    "model_lr_helper = ModelHelper('Linear regression', model_lr)\n",
    "model_lr_helper.fit(features_train, target_train)\n",
    "model_lr_helper.predict(features_train, target_train)\n",
    "result.append(model_lr_helper.getResult())"
   ]
  },
  {
   "cell_type": "code",
   "execution_count": 20,
   "metadata": {},
   "outputs": [
    {
     "name": "stdout",
     "output_type": "stream",
     "text": [
      "|              Модель|        RMSE|\n",
      "|       Random forest|    19.05913|\n",
      "|   Linear regression|    23.44811|\n"
     ]
    }
   ],
   "source": [
    "# Посмотрим на промежуточный результат\n",
    "print_result(result)"
   ]
  },
  {
   "cell_type": "markdown",
   "metadata": {},
   "source": [
    "Результат получился хороший, в лимит мы уложились. Теперь перейдем к моделям бустинга"
   ]
  },
  {
   "cell_type": "markdown",
   "metadata": {},
   "source": [
    "**Модель LightGBM Regressor**"
   ]
  },
  {
   "cell_type": "code",
   "execution_count": 21,
   "metadata": {},
   "outputs": [
    {
     "data": {
      "text/plain": [
       "{'max_depth': 4, 'n_estimators': 100}"
      ]
     },
     "execution_count": 21,
     "metadata": {},
     "output_type": "execute_result"
    }
   ],
   "source": [
    "# Подберем параметры для модели\n",
    "gbm = LGBMRegressor(boosting_type='gbdt', seed=RANDOM)\n",
    "gbm_params = {'n_estimators': [20, 100], 'max_depth': [4,6]}\n",
    "\n",
    "grid_gbm = GridSearchCV(estimator=gbm, param_grid= gbm_params, cv=tscv, scoring=RMSE)\n",
    "grid_gbm.fit(features_train, target_train);\n",
    "\n",
    "grid_gbm.best_params_"
   ]
  },
  {
   "cell_type": "code",
   "execution_count": 22,
   "metadata": {},
   "outputs": [],
   "source": [
    "# Обучим модель\n",
    "model_gbm = grid_gbm.best_estimator_\n",
    "model_gbm_helper = ModelHelper('LightGBM', model_gbm)\n",
    "model_gbm_helper.fit(features_train, target_train)\n",
    "model_gbm_helper.predict(features_train, target_train)\n",
    "result.append(model_gbm_helper.getResult())"
   ]
  },
  {
   "cell_type": "markdown",
   "metadata": {},
   "source": [
    "**Модель Cat Boost**"
   ]
  },
  {
   "cell_type": "code",
   "execution_count": 25,
   "metadata": {},
   "outputs": [
    {
     "name": "stdout",
     "output_type": "stream",
     "text": [
      "Learning rate set to 0.5\n",
      "0:\tlearn: 24.0275518\ttotal: 48ms\tremaining: 432ms\n",
      "9:\tlearn: 16.2346098\ttotal: 59.7ms\tremaining: 0us\n",
      "Learning rate set to 0.5\n",
      "0:\tlearn: 24.3777924\ttotal: 2.14ms\tremaining: 19.3ms\n",
      "9:\tlearn: 17.4689809\ttotal: 15.5ms\tremaining: 0us\n",
      "Learning rate set to 0.5\n",
      "0:\tlearn: 24.6539078\ttotal: 2.39ms\tremaining: 21.5ms\n",
      "9:\tlearn: 18.2566645\ttotal: 18.8ms\tremaining: 0us\n",
      "Learning rate set to 0.5\n",
      "0:\tlearn: 25.5062772\ttotal: 2.21ms\tremaining: 19.9ms\n",
      "9:\tlearn: 19.0933065\ttotal: 18.5ms\tremaining: 0us\n",
      "Learning rate set to 0.5\n",
      "0:\tlearn: 26.4127868\ttotal: 2.44ms\tremaining: 22ms\n",
      "9:\tlearn: 19.4257708\ttotal: 20.8ms\tremaining: 0us\n",
      "Learning rate set to 0.5\n",
      "0:\tlearn: 27.1277073\ttotal: 2.49ms\tremaining: 22.4ms\n",
      "9:\tlearn: 20.1841901\ttotal: 20.8ms\tremaining: 0us\n",
      "Learning rate set to 0.5\n",
      "0:\tlearn: 27.8462897\ttotal: 2.72ms\tremaining: 24.5ms\n",
      "9:\tlearn: 20.7018619\ttotal: 22.3ms\tremaining: 0us\n",
      "Learning rate set to 0.5\n",
      "0:\tlearn: 27.7079749\ttotal: 2.69ms\tremaining: 24.2ms\n",
      "9:\tlearn: 21.1120687\ttotal: 22.6ms\tremaining: 0us\n",
      "Learning rate set to 0.5\n",
      "0:\tlearn: 28.3012737\ttotal: 2.83ms\tremaining: 25.4ms\n",
      "9:\tlearn: 21.4734223\ttotal: 24.8ms\tremaining: 0us\n",
      "Learning rate set to 0.5\n",
      "0:\tlearn: 29.6636186\ttotal: 2.84ms\tremaining: 25.6ms\n",
      "9:\tlearn: 22.5794284\ttotal: 25.1ms\tremaining: 0us\n",
      "Learning rate set to 0.398976\n",
      "0:\tlearn: 24.8591989\ttotal: 1.54ms\tremaining: 75.7ms\n",
      "10:\tlearn: 16.3033674\ttotal: 13.8ms\tremaining: 49ms\n",
      "20:\tlearn: 13.8646409\ttotal: 26ms\tremaining: 35.9ms\n",
      "30:\tlearn: 11.5612131\ttotal: 38.1ms\tremaining: 23.4ms\n",
      "40:\tlearn: 10.1511359\ttotal: 50.8ms\tremaining: 11.2ms\n",
      "49:\tlearn: 8.8746642\ttotal: 62.8ms\tremaining: 0us\n",
      "Learning rate set to 0.444187\n",
      "0:\tlearn: 24.8432476\ttotal: 1.78ms\tremaining: 87.4ms\n",
      "10:\tlearn: 17.1661286\ttotal: 17.4ms\tremaining: 61.6ms\n",
      "20:\tlearn: 14.9203975\ttotal: 33.3ms\tremaining: 46ms\n",
      "30:\tlearn: 13.3149806\ttotal: 53.1ms\tremaining: 32.5ms\n",
      "40:\tlearn: 11.9925183\ttotal: 69.6ms\tremaining: 15.3ms\n",
      "49:\tlearn: 10.9108835\ttotal: 82.8ms\tremaining: 0us\n",
      "Learning rate set to 0.473228\n",
      "0:\tlearn: 24.8553875\ttotal: 1.8ms\tremaining: 88.3ms\n",
      "10:\tlearn: 18.0273314\ttotal: 20ms\tremaining: 71.1ms\n",
      "20:\tlearn: 16.1672571\ttotal: 37.9ms\tremaining: 52.4ms\n",
      "30:\tlearn: 14.7029868\ttotal: 55.4ms\tremaining: 34ms\n",
      "40:\tlearn: 13.4066786\ttotal: 72ms\tremaining: 15.8ms\n",
      "49:\tlearn: 12.7059967\ttotal: 87.4ms\tremaining: 0us\n",
      "Learning rate set to 0.495053\n",
      "0:\tlearn: 25.5463015\ttotal: 2.53ms\tremaining: 124ms\n",
      "10:\tlearn: 18.8622506\ttotal: 26.3ms\tremaining: 93.1ms\n",
      "20:\tlearn: 17.3283526\ttotal: 51.2ms\tremaining: 70.6ms\n",
      "30:\tlearn: 15.9657390\ttotal: 73.7ms\tremaining: 45.2ms\n",
      "40:\tlearn: 14.9107945\ttotal: 97.9ms\tremaining: 21.5ms\n",
      "49:\tlearn: 13.9374738\ttotal: 116ms\tremaining: 0us\n",
      "Learning rate set to 0.5\n",
      "0:\tlearn: 26.4127868\ttotal: 2.32ms\tremaining: 114ms\n",
      "10:\tlearn: 19.1928904\ttotal: 22.6ms\tremaining: 80.3ms\n",
      "20:\tlearn: 17.8128451\ttotal: 41.9ms\tremaining: 57.9ms\n",
      "30:\tlearn: 16.6399043\ttotal: 61.1ms\tremaining: 37.5ms\n",
      "40:\tlearn: 15.6580516\ttotal: 79.9ms\tremaining: 17.5ms\n",
      "49:\tlearn: 14.9525564\ttotal: 96.8ms\tremaining: 0us\n",
      "Learning rate set to 0.5\n",
      "0:\tlearn: 27.1277073\ttotal: 2.46ms\tremaining: 121ms\n",
      "10:\tlearn: 20.0057379\ttotal: 27.8ms\tremaining: 98.5ms\n",
      "20:\tlearn: 18.6864521\ttotal: 53.7ms\tremaining: 74.2ms\n",
      "30:\tlearn: 17.3567448\ttotal: 75.1ms\tremaining: 46ms\n",
      "40:\tlearn: 16.3879527\ttotal: 96.3ms\tremaining: 21.1ms\n",
      "49:\tlearn: 15.7075626\ttotal: 115ms\tremaining: 0us\n",
      "Learning rate set to 0.5\n",
      "0:\tlearn: 27.8462897\ttotal: 2.58ms\tremaining: 126ms\n",
      "10:\tlearn: 20.3577114\ttotal: 27.2ms\tremaining: 96.4ms\n",
      "20:\tlearn: 19.1647090\ttotal: 51.1ms\tremaining: 70.6ms\n",
      "30:\tlearn: 18.0518051\ttotal: 76.6ms\tremaining: 47ms\n",
      "40:\tlearn: 17.1146231\ttotal: 102ms\tremaining: 22.3ms\n",
      "49:\tlearn: 16.4621422\ttotal: 124ms\tremaining: 0us\n",
      "Learning rate set to 0.5\n",
      "0:\tlearn: 27.7079749\ttotal: 2.67ms\tremaining: 131ms\n",
      "10:\tlearn: 20.9795854\ttotal: 25.4ms\tremaining: 90.1ms\n",
      "20:\tlearn: 19.6350910\ttotal: 48.5ms\tremaining: 67ms\n",
      "30:\tlearn: 18.6603351\ttotal: 71ms\tremaining: 43.5ms\n",
      "40:\tlearn: 17.8916581\ttotal: 93.2ms\tremaining: 20.5ms\n",
      "49:\tlearn: 17.2433428\ttotal: 113ms\tremaining: 0us\n",
      "Learning rate set to 0.5\n",
      "0:\tlearn: 28.3012737\ttotal: 2.65ms\tremaining: 130ms\n",
      "10:\tlearn: 21.3021174\ttotal: 28.5ms\tremaining: 101ms\n",
      "20:\tlearn: 20.2629023\ttotal: 56.8ms\tremaining: 78.4ms\n",
      "30:\tlearn: 19.3324317\ttotal: 87ms\tremaining: 53.3ms\n",
      "40:\tlearn: 18.6913164\ttotal: 112ms\tremaining: 24.6ms\n",
      "49:\tlearn: 18.0597773\ttotal: 134ms\tremaining: 0us\n",
      "Learning rate set to 0.5\n",
      "0:\tlearn: 29.6636186\ttotal: 2.78ms\tremaining: 136ms\n",
      "10:\tlearn: 22.4565987\ttotal: 27.7ms\tremaining: 98.3ms\n",
      "20:\tlearn: 21.3373412\ttotal: 52.5ms\tremaining: 72.4ms\n",
      "30:\tlearn: 20.1729679\ttotal: 78.2ms\tremaining: 47.9ms\n",
      "40:\tlearn: 19.4855566\ttotal: 103ms\tremaining: 22.5ms\n",
      "49:\tlearn: 19.0295434\ttotal: 125ms\tremaining: 0us\n",
      "Learning rate set to 0.5\n",
      "0:\tlearn: 24.6220242\ttotal: 2.22s\tremaining: 20s\n",
      "9:\tlearn: 6.7323460\ttotal: 22.2s\tremaining: 0us\n",
      "Learning rate set to 0.5\n",
      "0:\tlearn: 24.6213431\ttotal: 4.33s\tremaining: 38.9s\n",
      "9:\tlearn: 6.9897408\ttotal: 42.4s\tremaining: 0us\n",
      "Learning rate set to 0.5\n",
      "0:\tlearn: 24.2029048\ttotal: 4.46s\tremaining: 40.1s\n",
      "9:\tlearn: 6.9873017\ttotal: 43.9s\tremaining: 0us\n",
      "Learning rate set to 0.5\n",
      "0:\tlearn: 25.6908826\ttotal: 4.8s\tremaining: 43.2s\n",
      "9:\tlearn: 7.6949695\ttotal: 50s\tremaining: 0us\n",
      "Learning rate set to 0.5\n",
      "0:\tlearn: 26.1113551\ttotal: 5.22s\tremaining: 47s\n",
      "9:\tlearn: 7.6125515\ttotal: 52s\tremaining: 0us\n",
      "Learning rate set to 0.5\n",
      "0:\tlearn: 27.7436114\ttotal: 5.52s\tremaining: 49.7s\n",
      "9:\tlearn: 8.3724432\ttotal: 54.2s\tremaining: 0us\n",
      "Learning rate set to 0.5\n",
      "0:\tlearn: 27.6207401\ttotal: 5.64s\tremaining: 50.8s\n",
      "9:\tlearn: 8.4808588\ttotal: 55.8s\tremaining: 0us\n",
      "Learning rate set to 0.5\n",
      "0:\tlearn: 28.2410376\ttotal: 5.74s\tremaining: 51.7s\n",
      "9:\tlearn: 9.3061244\ttotal: 58.5s\tremaining: 0us\n",
      "Learning rate set to 0.5\n",
      "0:\tlearn: 28.4703914\ttotal: 6.25s\tremaining: 56.3s\n",
      "9:\tlearn: 9.5356539\ttotal: 1m 3s\tremaining: 0us\n",
      "Learning rate set to 0.5\n",
      "0:\tlearn: 29.3665409\ttotal: 6.92s\tremaining: 1m 2s\n",
      "9:\tlearn: 10.6406128\ttotal: 1m 5s\tremaining: 0us\n",
      "Learning rate set to 0.398976\n",
      "0:\tlearn: 25.4862694\ttotal: 2.35s\tremaining: 1m 54s\n",
      "10:\tlearn: 8.0137370\ttotal: 25.7s\tremaining: 1m 31s\n",
      "20:\tlearn: 2.7399818\ttotal: 45.4s\tremaining: 1m 2s\n",
      "30:\tlearn: 0.9636641\ttotal: 1m 8s\tremaining: 41.8s\n",
      "40:\tlearn: 0.3359645\ttotal: 1m 31s\tremaining: 20s\n",
      "49:\tlearn: 0.1314238\ttotal: 1m 51s\tremaining: 0us\n",
      "Learning rate set to 0.444187\n",
      "0:\tlearn: 25.1508646\ttotal: 4.09s\tremaining: 3m 20s\n",
      "10:\tlearn: 7.3221928\ttotal: 39.5s\tremaining: 2m 19s\n",
      "20:\tlearn: 2.2893528\ttotal: 1m 21s\tremaining: 1m 52s\n",
      "30:\tlearn: 0.7164916\ttotal: 2m 3s\tremaining: 1m 15s\n",
      "40:\tlearn: 0.2280869\ttotal: 2m 45s\tremaining: 36.3s\n",
      "49:\tlearn: 0.0840977\ttotal: 3m 24s\tremaining: 0us\n",
      "Learning rate set to 0.473228\n",
      "0:\tlearn: 24.4707649\ttotal: 4.37s\tremaining: 3m 34s\n",
      "10:\tlearn: 6.7851615\ttotal: 48.9s\tremaining: 2m 53s\n",
      "20:\tlearn: 2.0665438\ttotal: 1m 33s\tremaining: 2m 9s\n",
      "30:\tlearn: 0.6396411\ttotal: 2m 19s\tremaining: 1m 25s\n",
      "40:\tlearn: 0.2048137\ttotal: 3m 6s\tremaining: 40.9s\n",
      "49:\tlearn: 0.0818558\ttotal: 3m 49s\tremaining: 0us\n",
      "Learning rate set to 0.495053\n",
      "0:\tlearn: 25.7389854\ttotal: 5.2s\tremaining: 4m 14s\n",
      "10:\tlearn: 6.7495172\ttotal: 57.9s\tremaining: 3m 25s\n",
      "20:\tlearn: 2.1745959\ttotal: 1m 50s\tremaining: 2m 32s\n",
      "30:\tlearn: 0.6632101\ttotal: 2m 41s\tremaining: 1m 39s\n",
      "40:\tlearn: 0.2363202\ttotal: 3m 31s\tremaining: 46.5s\n",
      "49:\tlearn: 0.1081504\ttotal: 4m 16s\tremaining: 0us\n",
      "Learning rate set to 0.5\n",
      "0:\tlearn: 26.1113551\ttotal: 5.42s\tremaining: 4m 25s\n",
      "10:\tlearn: 6.7469181\ttotal: 56s\tremaining: 3m 18s\n",
      "20:\tlearn: 2.1556318\ttotal: 1m 45s\tremaining: 2m 26s\n",
      "30:\tlearn: 0.7101383\ttotal: 2m 37s\tremaining: 1m 36s\n",
      "40:\tlearn: 0.2873078\ttotal: 3m 31s\tremaining: 46.5s\n",
      "49:\tlearn: 0.1489954\ttotal: 4m 22s\tremaining: 0us\n",
      "Learning rate set to 0.5\n",
      "0:\tlearn: 27.7436114\ttotal: 6.32s\tremaining: 5m 9s\n",
      "10:\tlearn: 7.4317345\ttotal: 1m 7s\tremaining: 3m 58s\n",
      "20:\tlearn: 2.7092933\ttotal: 2m 7s\tremaining: 2m 56s\n",
      "30:\tlearn: 1.0126665\ttotal: 3m 6s\tremaining: 1m 54s\n",
      "40:\tlearn: 0.4567380\ttotal: 4m\tremaining: 52.8s\n",
      "49:\tlearn: 0.2133036\ttotal: 4m 54s\tremaining: 0us\n",
      "Learning rate set to 0.5\n",
      "0:\tlearn: 27.6207401\ttotal: 6.34s\tremaining: 5m 10s\n",
      "10:\tlearn: 7.7176127\ttotal: 1m 8s\tremaining: 4m 4s\n",
      "20:\tlearn: 2.7185156\ttotal: 2m 11s\tremaining: 3m 1s\n",
      "30:\tlearn: 1.1205491\ttotal: 3m 12s\tremaining: 1m 57s\n",
      "40:\tlearn: 0.5918122\ttotal: 4m 8s\tremaining: 54.5s\n",
      "49:\tlearn: 0.2823677\ttotal: 5m 3s\tremaining: 0us\n",
      "Learning rate set to 0.5\n",
      "0:\tlearn: 28.2410376\ttotal: 6.37s\tremaining: 5m 11s\n",
      "10:\tlearn: 8.4468906\ttotal: 1m 11s\tremaining: 4m 12s\n",
      "20:\tlearn: 3.9263702\ttotal: 2m 16s\tremaining: 3m 8s\n",
      "30:\tlearn: 1.7706769\ttotal: 3m 17s\tremaining: 2m 1s\n",
      "40:\tlearn: 0.9789426\ttotal: 4m 19s\tremaining: 56.9s\n",
      "49:\tlearn: 0.4750487\ttotal: 5m 13s\tremaining: 0us\n",
      "Learning rate set to 0.5\n",
      "0:\tlearn: 28.4703914\ttotal: 6.01s\tremaining: 4m 54s\n",
      "10:\tlearn: 8.6682566\ttotal: 1m 8s\tremaining: 4m 1s\n",
      "20:\tlearn: 3.7014467\ttotal: 2m 12s\tremaining: 3m 2s\n",
      "30:\tlearn: 1.7329501\ttotal: 3m 13s\tremaining: 1m 58s\n",
      "40:\tlearn: 0.7898257\ttotal: 4m 14s\tremaining: 55.9s\n",
      "49:\tlearn: 0.4539260\ttotal: 5m 3s\tremaining: 0us\n",
      "Learning rate set to 0.5\n",
      "0:\tlearn: 29.3665409\ttotal: 6.11s\tremaining: 4m 59s\n",
      "10:\tlearn: 9.7056402\ttotal: 1m 10s\tremaining: 4m 8s\n",
      "20:\tlearn: 5.1662634\ttotal: 2m 12s\tremaining: 3m 3s\n",
      "30:\tlearn: 2.8549994\ttotal: 3m 16s\tremaining: 2m\n",
      "40:\tlearn: 1.5600707\ttotal: 4m 14s\tremaining: 55.9s\n",
      "49:\tlearn: 0.8108296\ttotal: 5m 11s\tremaining: 0us\n",
      "Learning rate set to 0.5\n",
      "0:\tlearn: 31.4408156\ttotal: 3.38ms\tremaining: 166ms\n",
      "10:\tlearn: 23.7130860\ttotal: 30.9ms\tremaining: 109ms\n",
      "20:\tlearn: 22.4703278\ttotal: 62.5ms\tremaining: 86.3ms\n",
      "30:\tlearn: 21.2763253\ttotal: 88.9ms\tremaining: 54.5ms\n",
      "40:\tlearn: 20.4351030\ttotal: 115ms\tremaining: 25.3ms\n",
      "49:\tlearn: 19.7775637\ttotal: 144ms\tremaining: 0us\n"
     ]
    },
    {
     "data": {
      "text/plain": [
       "{'depth': 3, 'iterations': 50}"
      ]
     },
     "execution_count": 25,
     "metadata": {},
     "output_type": "execute_result"
    }
   ],
   "source": [
    "# Подберем параметры\n",
    "cb = CatBoostRegressor(random_state=RANDOM , loss_function= 'RMSE')\n",
    "cb_params = {'depth':[3, 15], 'iterations':[10, 50]}\n",
    "\n",
    "grid_сb = GridSearchCV(cb, cb_params, cv=tscv, scoring=RMSE)\n",
    "grid_сb.fit(features_train, target_train, verbose=10);\n",
    "\n",
    "grid_сb.best_params_"
   ]
  },
  {
   "cell_type": "markdown",
   "metadata": {},
   "source": [
    " <div class=\"alert alert-warning\">\n",
    "<h2> Комментарий ревьюера <a class=\"tocSkip\"> </h2>\n",
    "    \n",
    "<b>Некоторые замечания и рекомендации💡:</b> \n",
    "    \n",
    "С учетом мощностей Яндекс.Практикума, тут многовато гиперпараметров, модель считается дооолго.\n",
    "    \n",
    "***\n",
    "\n",
    "Можно убрать через logging_level = 'Silent' https://stackoverflow.com/questions/51111323/how-to-suppress-catboost-iteration-results\n",
    "    \n",
    "Будет чуть компактнее смотреться. Хотя вполне возможно, что логи нам интересны.\n",
    "       \n",
    "</div> \n"
   ]
  },
  {
   "cell_type": "markdown",
   "metadata": {},
   "source": [
    "<div class=\"alert alert-info\">\n",
    "<h2> Комментарий студента <a class=\"tocSkip\"> </h2>\n",
    "    \n",
    "Я использовала logging_level = 'Silent', но мне кажется, он не сработал( выдавал ошибку)\n",
    "</div> "
   ]
  },
  {
   "cell_type": "markdown",
   "metadata": {},
   "source": [
    "<div class=\"alert alert-success\">\n",
    "<h2> Комментарий ревьюера #2 <a class=\"tocSkip\"> </h2>\n",
    "\n",
    "👍 Хм, ок. Тогдак так оставим.\n",
    "</div>"
   ]
  },
  {
   "cell_type": "code",
   "execution_count": 26,
   "metadata": {},
   "outputs": [
    {
     "name": "stdout",
     "output_type": "stream",
     "text": [
      "Learning rate set to 0.5\n",
      "0:\tlearn: 31.4408156\ttotal: 5.44ms\tremaining: 267ms\n",
      "1:\tlearn: 28.1160627\ttotal: 9.77ms\tremaining: 234ms\n",
      "2:\tlearn: 26.2589816\ttotal: 13.9ms\tremaining: 218ms\n",
      "3:\tlearn: 25.3011546\ttotal: 19ms\tremaining: 219ms\n",
      "4:\tlearn: 24.6907762\ttotal: 22.8ms\tremaining: 205ms\n",
      "5:\tlearn: 24.5902093\ttotal: 25.4ms\tremaining: 187ms\n",
      "6:\tlearn: 24.2752314\ttotal: 28.2ms\tremaining: 173ms\n",
      "7:\tlearn: 24.1155132\ttotal: 30.9ms\tremaining: 162ms\n",
      "8:\tlearn: 24.0494482\ttotal: 34ms\tremaining: 155ms\n",
      "9:\tlearn: 23.9180580\ttotal: 37.2ms\tremaining: 149ms\n",
      "10:\tlearn: 23.7130860\ttotal: 40.3ms\tremaining: 143ms\n",
      "11:\tlearn: 23.5271357\ttotal: 43.6ms\tremaining: 138ms\n",
      "12:\tlearn: 23.3588704\ttotal: 46.6ms\tremaining: 133ms\n",
      "13:\tlearn: 23.2814012\ttotal: 49.5ms\tremaining: 127ms\n",
      "14:\tlearn: 23.1697685\ttotal: 52.5ms\tremaining: 123ms\n",
      "15:\tlearn: 23.0189578\ttotal: 55.6ms\tremaining: 118ms\n",
      "16:\tlearn: 22.9376380\ttotal: 58.6ms\tremaining: 114ms\n",
      "17:\tlearn: 22.8932860\ttotal: 61.4ms\tremaining: 109ms\n",
      "18:\tlearn: 22.8747914\ttotal: 64.2ms\tremaining: 105ms\n",
      "19:\tlearn: 22.7567433\ttotal: 67.1ms\tremaining: 101ms\n",
      "20:\tlearn: 22.4703278\ttotal: 70.2ms\tremaining: 96.9ms\n",
      "21:\tlearn: 22.2835955\ttotal: 73.6ms\tremaining: 93.6ms\n",
      "22:\tlearn: 22.1274521\ttotal: 77.1ms\tremaining: 90.5ms\n",
      "23:\tlearn: 22.0179619\ttotal: 80.2ms\tremaining: 86.9ms\n",
      "24:\tlearn: 21.8958177\ttotal: 83.4ms\tremaining: 83.4ms\n",
      "25:\tlearn: 21.7494374\ttotal: 86.5ms\tremaining: 79.8ms\n",
      "26:\tlearn: 21.6587187\ttotal: 89.5ms\tremaining: 76.2ms\n",
      "27:\tlearn: 21.5529344\ttotal: 93.2ms\tremaining: 73.3ms\n",
      "28:\tlearn: 21.4651512\ttotal: 96.8ms\tremaining: 70.1ms\n",
      "29:\tlearn: 21.3661603\ttotal: 103ms\tremaining: 68.4ms\n",
      "30:\tlearn: 21.2763253\ttotal: 110ms\tremaining: 67.6ms\n",
      "31:\tlearn: 21.1599093\ttotal: 113ms\tremaining: 63.7ms\n",
      "32:\tlearn: 21.0789553\ttotal: 116ms\tremaining: 59.8ms\n",
      "33:\tlearn: 20.9934464\ttotal: 119ms\tremaining: 55.9ms\n",
      "34:\tlearn: 20.8867307\ttotal: 122ms\tremaining: 52.2ms\n",
      "35:\tlearn: 20.8635497\ttotal: 124ms\tremaining: 48.3ms\n",
      "36:\tlearn: 20.7749300\ttotal: 127ms\tremaining: 44.7ms\n",
      "37:\tlearn: 20.7052827\ttotal: 130ms\tremaining: 41.1ms\n",
      "38:\tlearn: 20.6110701\ttotal: 133ms\tremaining: 37.5ms\n",
      "39:\tlearn: 20.5329593\ttotal: 136ms\tremaining: 33.9ms\n",
      "40:\tlearn: 20.4351030\ttotal: 138ms\tremaining: 30.4ms\n",
      "41:\tlearn: 20.3462109\ttotal: 141ms\tremaining: 26.9ms\n",
      "42:\tlearn: 20.3183329\ttotal: 144ms\tremaining: 23.4ms\n",
      "43:\tlearn: 20.2418017\ttotal: 146ms\tremaining: 20ms\n",
      "44:\tlearn: 20.1577256\ttotal: 149ms\tremaining: 16.6ms\n",
      "45:\tlearn: 20.0556099\ttotal: 152ms\tremaining: 13.2ms\n",
      "46:\tlearn: 20.0009562\ttotal: 155ms\tremaining: 9.89ms\n",
      "47:\tlearn: 19.8957608\ttotal: 158ms\tremaining: 6.57ms\n",
      "48:\tlearn: 19.8192142\ttotal: 161ms\tremaining: 3.28ms\n",
      "49:\tlearn: 19.7775637\ttotal: 165ms\tremaining: 0us\n"
     ]
    }
   ],
   "source": [
    "# Обучим модель\n",
    "model_cb = grid_сb.best_estimator_\n",
    "model_cb_helper = ModelHelper('Cat Boost', model_cb)\n",
    "model_cb_helper.fit(features_train, target_train)\n",
    "model_cb_helper.predict(features_train, target_train)\n",
    "result.append(model_cb_helper.getResult())"
   ]
  },
  {
   "cell_type": "code",
   "execution_count": 27,
   "metadata": {},
   "outputs": [
    {
     "name": "stdout",
     "output_type": "stream",
     "text": [
      "|              Модель|        RMSE|\n",
      "|       Random forest|    19.05913|\n",
      "|   Linear regression|    23.44811|\n",
      "|            LightGBM|    16.94568|\n",
      "|           Cat Boost|    19.77756|\n"
     ]
    }
   ],
   "source": [
    "# Посмотрим на наши результаты\n",
    "print_result(result)"
   ]
  },
  {
   "cell_type": "markdown",
   "metadata": {},
   "source": [
    "**Вывод**. Все наши модели показали хорошие результаты, но модели бустинга в очередной раз лучше справляются с поставленной задачей, хоть и времени на обучение уходит чуть дольше.  "
   ]
  },
  {
   "cell_type": "markdown",
   "metadata": {},
   "source": [
    "## Тестирование"
   ]
  },
  {
   "cell_type": "markdown",
   "metadata": {},
   "source": [
    "Так как модель LightGBM показала самый лучший результат, то возьмем ее для тестирования"
   ]
  },
  {
   "cell_type": "markdown",
   "metadata": {},
   "source": [
    " <div class=\"alert alert-warning\">\n",
    "<h2> Комментарий ревьюера <a class=\"tocSkip\"> </h2>\n",
    "    \n",
    "<b>Некоторые замечания и рекомендации💡:</b> \n",
    "\n",
    "Полезно в текстовом комментарии оставлять также и гиперпараметры лучшей модели, когда берем ее на тест. Обычно в тесте прямо их не прописываем и из-за этого приходится их долго искать по всему проекту. Удобно где-то их пометить.    \n",
    "       \n",
    "</div> \n"
   ]
  },
  {
   "cell_type": "code",
   "execution_count": 28,
   "metadata": {},
   "outputs": [],
   "source": [
    "# Испытаем модель на тестовой выборке\n",
    "# параметры лучшей модели {'max_depth': 4, 'n_estimators': 100}\n",
    "\n",
    "model_gbm_test = grid_gbm.best_estimator_\n",
    "model_gbm_helper_test = ModelHelper('LightGBM', model_gbm_test)\n",
    "model_gbm_helper_test.fit(features_test, target_test)\n",
    "model_gbm_helper_test.predict(features_test, target_test)\n",
    "result.append(model_gbm_helper_test.getResult())"
   ]
  },
  {
   "cell_type": "code",
   "execution_count": 29,
   "metadata": {},
   "outputs": [
    {
     "name": "stdout",
     "output_type": "stream",
     "text": [
      "|              Модель|        RMSE|\n",
      "|       Random forest|    19.05913|\n",
      "|   Linear regression|    23.44811|\n",
      "|            LightGBM|    16.94568|\n",
      "|           Cat Boost|    19.77756|\n",
      "|            LightGBM|    14.14906|\n"
     ]
    }
   ],
   "source": [
    "# Посмотрим на наши результаты\n",
    "print_result(result)"
   ]
  },
  {
   "cell_type": "code",
   "execution_count": 30,
   "metadata": {},
   "outputs": [
    {
     "name": "stdout",
     "output_type": "stream",
     "text": [
      "58.856486242815066\n"
     ]
    }
   ],
   "source": [
    "# Проверим модель на адекватность\n",
    "pred_previous = target_test.shift()\n",
    "pred_previous.iloc[0] = target_train.iloc[-1]\n",
    "\n",
    "print(rmse(target_test,pred_previous))"
   ]
  },
  {
   "cell_type": "markdown",
   "metadata": {},
   "source": [
    "Результат дамми модели больше, чем нашей тестовой, значит модель адекватна."
   ]
  },
  {
   "cell_type": "code",
   "execution_count": 31,
   "metadata": {},
   "outputs": [
    {
     "data": {
      "image/png": "[encoded data removed]",
      "text/plain": [
       "<Figure size 1080x504 with 1 Axes>"
      ]
     },
     "metadata": {
      "needs_background": "light"
     },
     "output_type": "display_data"
    }
   ],
   "source": [
    "# Построим для наглядности график предсказаний и реальных данных\n",
    "predicted = model_gbm_test.predict(features_test)\n",
    "predicted=pd.DataFrame(predicted, index=features_test.index)\n",
    "\n",
    "\n",
    "plt.figure(figsize=(15,7))\n",
    "plt.plot(target_test['2018-08-23':], \n",
    "         color='black', \n",
    "         alpha=0.7)\n",
    "\n",
    "plt.plot(predicted['2018-08-23':], \n",
    "         color='red', \n",
    "         alpha=0.7)\n",
    "\n",
    "plt.title('Результаты предсказаний ')\n",
    "plt.ylabel('Заказы')\n",
    "plt.xlabel('Дата')\n",
    "plt.legend(['Real', 'Predicted'])\n",
    "plt.show()"
   ]
  },
  {
   "cell_type": "markdown",
   "metadata": {},
   "source": [
    "**Вывод** Наша модель показала отличный результат, причем даже самые простые модели достигли нужных нам показателей. На графике видно,что реальные данные и предсказания почти совпадают, что являетс хорошим результатом."
   ]
  },
  {
   "cell_type": "markdown",
   "metadata": {},
   "source": [
    "   \n",
    "<div class=\"alert alert-success\">\n",
    "<h2> Комментарий ревьюера <a class=\"tocSkip\"> </h2>\n",
    " \n",
    "👍 Более того, выше если бы мы серьезнее отнеслись к сезонностям, то могли взять 168 лагов (за всю неделю). И в таком случае наша линейная регрессия оказалась бы и лучшей по качеству, и лучшей по скорости (да, и по сравнению с ожидаемым качеством с 48 лагами результат бы вырос). Я пока сам результат не вижу, потому что не могу дождаться исполнения проекта. Но по коду все верно. Попробую все пересчитать локально при следующей проверке. \n",
    "</div>  \n",
    "  "
   ]
  },
  {
   "cell_type": "markdown",
   "metadata": {},
   "source": [
    "\n",
    "<div class=\"alert alert-warning\">\n",
    "<h2> Комментарий ревьюера <a class=\"tocSkip\"> </h2>\n",
    "    \n",
    "<b>Некоторые замечания и рекомендации💡:</b> \n",
    "\n",
    "Здесь также можно было бы добавить проверку модели на адекватность. В случае с временными рядами модель будет предсказывать следующее значение предыдущим:\n",
    "\n",
    "\n",
    "`pred_previous = target_test.shift()\n",
    "pred_previous.iloc[0] = target_train.iloc[-1]`\n",
    "\n",
    "</div>"
   ]
  },
  {
   "cell_type": "markdown",
   "metadata": {},
   "source": [
    "<div class=\"alert alert-info\">\n",
    "<h2> Комментарий студента <a class=\"tocSkip\"> </h2>\n",
    "    \n",
    "Спасибо большое тебе за замечания и советы. Надеюсь, я все исправила верно. Я тоже пыталась сделать локально, но у меня почему-то не было библиотеки с catboost. \n",
    "</div>"
   ]
  },
  {
   "cell_type": "markdown",
   "metadata": {},
   "source": [
    "<div class=\"alert alert-success\">\n",
    "<h2> Комментарий ревьюера #2 <a class=\"tocSkip\"> </h2>\n",
    "\n",
    "👍 Можно установить через pip install  :)\n",
    "</div>"
   ]
  },
  {
   "cell_type": "markdown",
   "metadata": {},
   "source": [
    "\n",
    "<div style=\"border:solid Chocolate 2px; padding: 40px\">\n",
    "\n",
    "**Общий вывод по проверке**\n",
    "\n",
    "У тебя получился хороший проект. Неплохой выбор моделей для обучения, достаточно подробная исследовательская часть. Однако есть и что доработать:\n",
    "\n",
    "* Важно создать только нужные нам признаки. Час очень нужен, а год и месяц - надо бы подумать.\n",
    "* Необходимо использовать схему обучения для задачи временных рядов - не перемешиваем сплиты и предсказываем только будущее.\n",
    "\n",
    "**Желаю удачи и жду твой проект на повторное ревью!**😉\n",
    "\n",
    "</div>"
   ]
  },
  {
   "cell_type": "markdown",
   "metadata": {},
   "source": [
    "<div style=\"border:solid Chocolate 2px; padding: 40px\">\n",
    "\n",
    "**Комментарий ко второй проверке**\n",
    "\n",
    "Спасибо за доработку. Критичных комментариев нет. \n",
    "    \n",
    "Если что-то пропустил или остались вопросы, напиши на телеграм @kriill\n",
    "\n",
    "Желаю удачи в дальнейшей учебе!\n",
    "\n",
    "</div>"
   ]
  },
  {
   "cell_type": "markdown",
   "metadata": {},
   "source": [
    "## Чек-лист проверки"
   ]
  },
  {
   "cell_type": "markdown",
   "metadata": {},
   "source": [
    "- [x]  Jupyter Notebook открыт\n",
    "- [ ]  Весь код выполняется без ошибок\n",
    "- [ ]  Ячейки с кодом расположены в порядке исполнения\n",
    "- [ ]  Данные загружены и подготовлены\n",
    "- [ ]  Данные проанализированы\n",
    "- [ ]  Модель обучена, гиперпараметры подобраны\n",
    "- [ ]  Качество моделей проверено, выводы сделаны\n",
    "- [ ]  Значение *RMSE* на тестовой выборке не больше 48"
   ]
  }
 ],
 "metadata": {
  "ExecuteTimeLog": [
   {
    "duration": 1287,
    "start_time": "2023-05-24T05:59:20.391Z"
   },
   {
    "duration": 138,
    "start_time": "2023-05-24T05:59:21.690Z"
   },
   {
    "duration": 18,
    "start_time": "2023-05-24T05:59:23.277Z"
   },
   {
    "duration": 14,
    "start_time": "2023-05-24T05:59:33.287Z"
   },
   {
    "duration": 497,
    "start_time": "2023-05-24T06:02:24.365Z"
   },
   {
    "duration": 264,
    "start_time": "2023-05-24T06:02:29.186Z"
   },
   {
    "duration": 258,
    "start_time": "2023-05-24T06:05:03.766Z"
   },
   {
    "duration": 428,
    "start_time": "2023-05-24T06:08:28.661Z"
   },
   {
    "duration": 10,
    "start_time": "2023-05-24T06:10:14.799Z"
   },
   {
    "duration": 131,
    "start_time": "2023-05-24T06:10:34.508Z"
   },
   {
    "duration": 6,
    "start_time": "2023-05-24T06:10:42.217Z"
   },
   {
    "duration": 1666,
    "start_time": "2023-05-24T06:10:48.470Z"
   },
   {
    "duration": 65,
    "start_time": "2023-05-24T06:10:50.139Z"
   },
   {
    "duration": 13,
    "start_time": "2023-05-24T06:10:50.207Z"
   },
   {
    "duration": 26,
    "start_time": "2023-05-24T06:10:50.223Z"
   },
   {
    "duration": 33,
    "start_time": "2023-05-24T06:10:50.251Z"
   },
   {
    "duration": 24,
    "start_time": "2023-05-24T06:10:50.289Z"
   },
   {
    "duration": 11,
    "start_time": "2023-05-24T06:15:48.911Z"
   },
   {
    "duration": 10,
    "start_time": "2023-05-24T06:16:21.960Z"
   },
   {
    "duration": 165,
    "start_time": "2023-05-24T06:16:54.065Z"
   },
   {
    "duration": 11,
    "start_time": "2023-05-24T06:17:08.184Z"
   },
   {
    "duration": 10,
    "start_time": "2023-05-24T06:18:13.663Z"
   },
   {
    "duration": 84,
    "start_time": "2023-05-24T06:21:18.122Z"
   },
   {
    "duration": 4,
    "start_time": "2023-05-24T06:21:46.958Z"
   },
   {
    "duration": 12,
    "start_time": "2023-05-24T06:22:39.688Z"
   },
   {
    "duration": 14,
    "start_time": "2023-05-24T06:23:01.711Z"
   },
   {
    "duration": 15,
    "start_time": "2023-05-24T06:24:04.810Z"
   },
   {
    "duration": 17,
    "start_time": "2023-05-24T06:24:36.514Z"
   },
   {
    "duration": 14,
    "start_time": "2023-05-24T06:25:03.933Z"
   },
   {
    "duration": 15,
    "start_time": "2023-05-24T06:25:23.401Z"
   },
   {
    "duration": 21,
    "start_time": "2023-05-24T06:25:39.656Z"
   },
   {
    "duration": 504,
    "start_time": "2023-05-24T06:31:42.311Z"
   },
   {
    "duration": 29,
    "start_time": "2023-05-24T06:52:05.483Z"
   },
   {
    "duration": 20,
    "start_time": "2023-05-24T06:53:25.149Z"
   },
   {
    "duration": 440,
    "start_time": "2023-05-24T06:53:59.417Z"
   },
   {
    "duration": 18,
    "start_time": "2023-05-24T06:54:04.489Z"
   },
   {
    "duration": 1687,
    "start_time": "2023-05-24T06:54:09.490Z"
   },
   {
    "duration": 63,
    "start_time": "2023-05-24T06:54:11.186Z"
   },
   {
    "duration": 12,
    "start_time": "2023-05-24T06:54:11.251Z"
   },
   {
    "duration": 50,
    "start_time": "2023-05-24T06:54:11.265Z"
   },
   {
    "duration": 45,
    "start_time": "2023-05-24T06:54:11.318Z"
   },
   {
    "duration": 273,
    "start_time": "2023-05-24T06:54:11.364Z"
   },
   {
    "duration": 9,
    "start_time": "2023-05-24T06:54:11.638Z"
   },
   {
    "duration": 637,
    "start_time": "2023-05-24T06:54:11.649Z"
   },
   {
    "duration": 81,
    "start_time": "2023-05-24T06:54:12.289Z"
   },
   {
    "duration": 654,
    "start_time": "2023-05-24T06:56:25.695Z"
   },
   {
    "duration": 556,
    "start_time": "2023-05-24T06:56:43.265Z"
   },
   {
    "duration": 595,
    "start_time": "2023-05-24T06:56:55.118Z"
   },
   {
    "duration": 136,
    "start_time": "2023-05-24T07:01:55.202Z"
   },
   {
    "duration": 18,
    "start_time": "2023-05-24T07:02:09.807Z"
   },
   {
    "duration": 16,
    "start_time": "2023-05-24T07:03:15.489Z"
   },
   {
    "duration": 703,
    "start_time": "2023-05-24T07:03:26.525Z"
   },
   {
    "duration": 597,
    "start_time": "2023-05-24T07:03:34.362Z"
   },
   {
    "duration": 840,
    "start_time": "2023-05-24T07:04:00.481Z"
   },
   {
    "duration": 952,
    "start_time": "2023-05-24T07:04:18.204Z"
   },
   {
    "duration": 965,
    "start_time": "2023-05-24T07:10:53.503Z"
   },
   {
    "duration": 1132,
    "start_time": "2023-05-24T07:11:04.150Z"
   },
   {
    "duration": 1012,
    "start_time": "2023-05-24T07:11:44.589Z"
   },
   {
    "duration": 1697,
    "start_time": "2023-05-24T07:12:20.497Z"
   },
   {
    "duration": 60,
    "start_time": "2023-05-24T07:12:22.197Z"
   },
   {
    "duration": 34,
    "start_time": "2023-05-24T07:12:22.260Z"
   },
   {
    "duration": 33,
    "start_time": "2023-05-24T07:12:22.297Z"
   },
   {
    "duration": 28,
    "start_time": "2023-05-24T07:12:22.334Z"
   },
   {
    "duration": 312,
    "start_time": "2023-05-24T07:12:22.364Z"
   },
   {
    "duration": 11,
    "start_time": "2023-05-24T07:12:22.685Z"
   },
   {
    "duration": 1167,
    "start_time": "2023-05-24T07:12:22.697Z"
   },
   {
    "duration": 179,
    "start_time": "2023-05-24T07:12:23.872Z"
   },
   {
    "duration": 1075,
    "start_time": "2023-05-24T07:12:40.219Z"
   },
   {
    "duration": 879,
    "start_time": "2023-05-24T07:12:56.906Z"
   },
   {
    "duration": 1027,
    "start_time": "2023-05-24T07:13:14.468Z"
   },
   {
    "duration": 180,
    "start_time": "2023-05-24T07:13:47.378Z"
   },
   {
    "duration": 1455,
    "start_time": "2023-05-25T14:38:52.735Z"
   },
   {
    "duration": 151,
    "start_time": "2023-05-25T14:38:54.193Z"
   },
   {
    "duration": 9,
    "start_time": "2023-05-25T14:38:54.346Z"
   },
   {
    "duration": 10,
    "start_time": "2023-05-25T14:38:54.358Z"
   },
   {
    "duration": 11,
    "start_time": "2023-05-25T14:38:54.370Z"
   },
   {
    "duration": 215,
    "start_time": "2023-05-25T14:38:54.382Z"
   },
   {
    "duration": 153,
    "start_time": "2023-05-25T14:38:54.599Z"
   },
   {
    "duration": 7,
    "start_time": "2023-05-25T14:38:54.753Z"
   },
   {
    "duration": 890,
    "start_time": "2023-05-25T14:38:54.761Z"
   },
   {
    "duration": 5,
    "start_time": "2023-05-25T14:38:55.654Z"
   },
   {
    "duration": 48,
    "start_time": "2023-05-25T14:38:55.660Z"
   },
   {
    "duration": 13,
    "start_time": "2023-05-25T14:38:55.710Z"
   },
   {
    "duration": 3,
    "start_time": "2023-05-25T14:38:55.724Z"
   },
   {
    "duration": 9,
    "start_time": "2023-05-25T14:38:55.728Z"
   },
   {
    "duration": 116,
    "start_time": "2023-05-25T14:38:55.738Z"
   },
   {
    "duration": 1306,
    "start_time": "2023-05-25T14:39:42.492Z"
   },
   {
    "duration": 51,
    "start_time": "2023-05-25T14:39:43.800Z"
   },
   {
    "duration": 10,
    "start_time": "2023-05-25T14:39:43.852Z"
   },
   {
    "duration": 10,
    "start_time": "2023-05-25T14:39:43.864Z"
   },
   {
    "duration": 15,
    "start_time": "2023-05-25T14:39:43.876Z"
   },
   {
    "duration": 229,
    "start_time": "2023-05-25T14:39:43.893Z"
   },
   {
    "duration": 167,
    "start_time": "2023-05-25T14:39:44.123Z"
   },
   {
    "duration": 7,
    "start_time": "2023-05-25T14:39:44.292Z"
   },
   {
    "duration": 847,
    "start_time": "2023-05-25T14:39:44.300Z"
   },
   {
    "duration": 4,
    "start_time": "2023-05-25T14:39:45.149Z"
   },
   {
    "duration": 48,
    "start_time": "2023-05-25T14:39:45.154Z"
   },
   {
    "duration": 14,
    "start_time": "2023-05-25T14:39:45.203Z"
   },
   {
    "duration": 13,
    "start_time": "2023-05-25T14:39:45.218Z"
   },
   {
    "duration": 9,
    "start_time": "2023-05-25T14:39:45.233Z"
   },
   {
    "duration": 10573,
    "start_time": "2023-05-25T14:39:45.244Z"
   },
   {
    "duration": 444,
    "start_time": "2023-05-25T14:41:17.764Z"
   },
   {
    "duration": 1559,
    "start_time": "2023-05-26T10:26:09.656Z"
   },
   {
    "duration": 120,
    "start_time": "2023-05-26T10:26:11.217Z"
   },
   {
    "duration": 11,
    "start_time": "2023-05-26T10:26:11.339Z"
   },
   {
    "duration": 29,
    "start_time": "2023-05-26T10:26:11.352Z"
   },
   {
    "duration": 23,
    "start_time": "2023-05-26T10:26:11.382Z"
   },
   {
    "duration": 212,
    "start_time": "2023-05-26T10:26:11.407Z"
   },
   {
    "duration": 149,
    "start_time": "2023-05-26T10:26:11.620Z"
   },
   {
    "duration": 6,
    "start_time": "2023-05-26T10:26:11.771Z"
   },
   {
    "duration": 915,
    "start_time": "2023-05-26T10:26:11.778Z"
   },
   {
    "duration": 4,
    "start_time": "2023-05-26T10:26:12.695Z"
   },
   {
    "duration": 51,
    "start_time": "2023-05-26T10:26:12.700Z"
   },
   {
    "duration": 13,
    "start_time": "2023-05-26T10:26:12.753Z"
   },
   {
    "duration": 2,
    "start_time": "2023-05-26T10:26:12.768Z"
   },
   {
    "duration": 9,
    "start_time": "2023-05-26T10:26:12.771Z"
   },
   {
    "duration": 12717,
    "start_time": "2023-05-26T10:26:12.781Z"
   },
   {
    "duration": 555,
    "start_time": "2023-05-26T10:26:25.499Z"
   },
   {
    "duration": 173,
    "start_time": "2023-05-26T10:26:26.056Z"
   },
   {
    "duration": 3,
    "start_time": "2023-05-26T10:27:04.090Z"
   },
   {
    "duration": 120,
    "start_time": "2023-05-26T10:30:27.599Z"
   },
   {
    "duration": 77,
    "start_time": "2023-05-26T10:31:45.948Z"
   },
   {
    "duration": 33061,
    "start_time": "2023-05-26T10:31:51.162Z"
   },
   {
    "duration": 24446,
    "start_time": "2023-05-26T10:32:34.074Z"
   },
   {
    "duration": 1249,
    "start_time": "2023-05-26T10:34:19.571Z"
   },
   {
    "duration": 1171,
    "start_time": "2023-05-26T10:35:01.547Z"
   },
   {
    "duration": 10,
    "start_time": "2023-05-26T10:42:08.164Z"
   },
   {
    "duration": 10,
    "start_time": "2023-05-26T10:42:25.398Z"
   },
   {
    "duration": 715826,
    "start_time": "2023-05-26T10:42:38.003Z"
   },
   {
    "duration": 12,
    "start_time": "2023-05-26T11:07:15.212Z"
   },
   {
    "duration": 2039,
    "start_time": "2023-05-26T11:07:32.683Z"
   },
   {
    "duration": 3,
    "start_time": "2023-05-26T11:07:48.915Z"
   },
   {
    "duration": 1761,
    "start_time": "2023-05-26T11:08:11.663Z"
   },
   {
    "duration": 4,
    "start_time": "2023-05-26T11:08:18.201Z"
   },
   {
    "duration": 4,
    "start_time": "2023-05-26T11:09:56.590Z"
   },
   {
    "duration": 354,
    "start_time": "2023-05-26T11:15:29.573Z"
   },
   {
    "duration": 4,
    "start_time": "2023-05-26T11:15:32.799Z"
   },
   {
    "duration": 250,
    "start_time": "2023-05-26T11:19:11.374Z"
   },
   {
    "duration": 9,
    "start_time": "2023-05-26T11:19:55.653Z"
   },
   {
    "duration": 10,
    "start_time": "2023-05-26T11:20:32.404Z"
   },
   {
    "duration": 57,
    "start_time": "2023-05-26T11:20:48.065Z"
   },
   {
    "duration": 177,
    "start_time": "2023-05-26T11:22:59.486Z"
   },
   {
    "duration": 498,
    "start_time": "2023-05-26T11:23:18.628Z"
   },
   {
    "duration": 169,
    "start_time": "2023-05-26T11:24:46.978Z"
   },
   {
    "duration": 189,
    "start_time": "2023-05-26T11:25:05.808Z"
   },
   {
    "duration": 14,
    "start_time": "2023-05-26T11:25:22.747Z"
   },
   {
    "duration": 176,
    "start_time": "2023-05-26T11:25:25.793Z"
   },
   {
    "duration": 566,
    "start_time": "2023-05-26T11:28:45.955Z"
   },
   {
    "duration": 1539,
    "start_time": "2023-05-26T11:29:13.814Z"
   },
   {
    "duration": 53,
    "start_time": "2023-05-26T11:29:15.355Z"
   },
   {
    "duration": 9,
    "start_time": "2023-05-26T11:29:15.410Z"
   },
   {
    "duration": 10,
    "start_time": "2023-05-26T11:29:15.422Z"
   },
   {
    "duration": 15,
    "start_time": "2023-05-26T11:29:15.433Z"
   },
   {
    "duration": 233,
    "start_time": "2023-05-26T11:29:15.450Z"
   },
   {
    "duration": 157,
    "start_time": "2023-05-26T11:29:15.685Z"
   },
   {
    "duration": 8,
    "start_time": "2023-05-26T11:29:15.843Z"
   },
   {
    "duration": 873,
    "start_time": "2023-05-26T11:29:15.852Z"
   },
   {
    "duration": 3,
    "start_time": "2023-05-26T11:29:16.728Z"
   },
   {
    "duration": 45,
    "start_time": "2023-05-26T11:29:16.733Z"
   },
   {
    "duration": 14,
    "start_time": "2023-05-26T11:29:16.780Z"
   },
   {
    "duration": 4,
    "start_time": "2023-05-26T11:29:16.797Z"
   },
   {
    "duration": 15,
    "start_time": "2023-05-26T11:29:16.803Z"
   },
   {
    "duration": 12571,
    "start_time": "2023-05-26T11:29:16.819Z"
   },
   {
    "duration": 552,
    "start_time": "2023-05-26T11:29:29.392Z"
   },
   {
    "duration": 76,
    "start_time": "2023-05-26T11:29:29.945Z"
   },
   {
    "duration": 94,
    "start_time": "2023-05-26T11:29:30.023Z"
   },
   {
    "duration": 24799,
    "start_time": "2023-05-26T11:29:30.119Z"
   },
   {
    "duration": 1101,
    "start_time": "2023-05-26T11:29:54.919Z"
   },
   {
    "duration": 792,
    "start_time": "2023-05-26T11:29:56.023Z"
   },
   {
    "duration": 0,
    "start_time": "2023-05-26T11:29:56.817Z"
   },
   {
    "duration": 0,
    "start_time": "2023-05-26T11:29:56.818Z"
   },
   {
    "duration": 0,
    "start_time": "2023-05-26T11:29:56.819Z"
   },
   {
    "duration": 0,
    "start_time": "2023-05-26T11:29:56.820Z"
   },
   {
    "duration": 1522,
    "start_time": "2023-05-26T11:54:30.019Z"
   },
   {
    "duration": 54,
    "start_time": "2023-05-26T11:54:31.543Z"
   },
   {
    "duration": 11,
    "start_time": "2023-05-26T11:54:31.599Z"
   },
   {
    "duration": 47,
    "start_time": "2023-05-26T11:54:31.613Z"
   },
   {
    "duration": 32,
    "start_time": "2023-05-26T11:54:31.662Z"
   },
   {
    "duration": 341,
    "start_time": "2023-05-26T11:54:31.696Z"
   },
   {
    "duration": 226,
    "start_time": "2023-05-26T11:54:32.039Z"
   },
   {
    "duration": 8,
    "start_time": "2023-05-26T11:54:32.266Z"
   },
   {
    "duration": 1638,
    "start_time": "2023-05-26T11:54:34.738Z"
   },
   {
    "duration": 60,
    "start_time": "2023-05-26T11:54:36.378Z"
   },
   {
    "duration": 14,
    "start_time": "2023-05-26T11:54:36.440Z"
   },
   {
    "duration": 31,
    "start_time": "2023-05-26T11:54:36.456Z"
   },
   {
    "duration": 45,
    "start_time": "2023-05-26T11:54:36.489Z"
   },
   {
    "duration": 228,
    "start_time": "2023-05-26T11:54:36.535Z"
   },
   {
    "duration": 197,
    "start_time": "2023-05-26T11:54:36.765Z"
   },
   {
    "duration": 9,
    "start_time": "2023-05-26T11:54:36.965Z"
   },
   {
    "duration": 969,
    "start_time": "2023-05-26T11:54:36.976Z"
   },
   {
    "duration": 5,
    "start_time": "2023-05-26T11:54:37.949Z"
   },
   {
    "duration": 34,
    "start_time": "2023-05-26T11:54:37.956Z"
   },
   {
    "duration": 13,
    "start_time": "2023-05-26T11:54:37.992Z"
   },
   {
    "duration": 3,
    "start_time": "2023-05-26T11:54:38.007Z"
   },
   {
    "duration": 12,
    "start_time": "2023-05-26T11:54:38.011Z"
   },
   {
    "duration": 13052,
    "start_time": "2023-05-26T11:54:38.025Z"
   },
   {
    "duration": 597,
    "start_time": "2023-05-26T11:54:51.079Z"
   },
   {
    "duration": 1065,
    "start_time": "2023-05-26T11:54:51.678Z"
   },
   {
    "duration": 80,
    "start_time": "2023-05-26T11:54:52.747Z"
   },
   {
    "duration": 1472,
    "start_time": "2023-05-26T12:00:08.588Z"
   },
   {
    "duration": 51,
    "start_time": "2023-05-26T12:00:10.062Z"
   },
   {
    "duration": 20,
    "start_time": "2023-05-26T12:00:10.114Z"
   },
   {
    "duration": 20,
    "start_time": "2023-05-26T12:00:10.136Z"
   },
   {
    "duration": 18,
    "start_time": "2023-05-26T12:00:10.157Z"
   },
   {
    "duration": 212,
    "start_time": "2023-05-26T12:00:10.176Z"
   },
   {
    "duration": 155,
    "start_time": "2023-05-26T12:00:10.390Z"
   },
   {
    "duration": 7,
    "start_time": "2023-05-26T12:00:10.547Z"
   },
   {
    "duration": 888,
    "start_time": "2023-05-26T12:00:10.555Z"
   },
   {
    "duration": 6,
    "start_time": "2023-05-26T12:00:11.447Z"
   },
   {
    "duration": 38,
    "start_time": "2023-05-26T12:00:11.455Z"
   },
   {
    "duration": 13,
    "start_time": "2023-05-26T12:00:11.494Z"
   },
   {
    "duration": 2,
    "start_time": "2023-05-26T12:00:11.508Z"
   },
   {
    "duration": 18,
    "start_time": "2023-05-26T12:00:11.512Z"
   },
   {
    "duration": 12984,
    "start_time": "2023-05-26T12:00:11.532Z"
   },
   {
    "duration": 594,
    "start_time": "2023-05-26T12:00:24.517Z"
   },
   {
    "duration": 115,
    "start_time": "2023-05-26T12:00:25.112Z"
   },
   {
    "duration": 4,
    "start_time": "2023-05-26T12:00:25.229Z"
   },
   {
    "duration": 483590,
    "start_time": "2023-05-26T12:00:25.235Z"
   },
   {
    "duration": 1291,
    "start_time": "2023-05-26T12:08:28.828Z"
   },
   {
    "duration": 1355,
    "start_time": "2023-05-26T12:11:53.074Z"
   },
   {
    "duration": 59,
    "start_time": "2023-05-26T12:11:54.431Z"
   },
   {
    "duration": 11,
    "start_time": "2023-05-26T12:11:54.492Z"
   },
   {
    "duration": 22,
    "start_time": "2023-05-26T12:11:54.505Z"
   },
   {
    "duration": 34,
    "start_time": "2023-05-26T12:11:54.530Z"
   },
   {
    "duration": 258,
    "start_time": "2023-05-26T12:11:54.566Z"
   },
   {
    "duration": 153,
    "start_time": "2023-05-26T12:11:54.826Z"
   },
   {
    "duration": 7,
    "start_time": "2023-05-26T12:11:54.981Z"
   },
   {
    "duration": 839,
    "start_time": "2023-05-26T12:11:54.990Z"
   },
   {
    "duration": 4,
    "start_time": "2023-05-26T12:11:55.831Z"
   },
   {
    "duration": 35,
    "start_time": "2023-05-26T12:11:55.837Z"
   },
   {
    "duration": 13,
    "start_time": "2023-05-26T12:11:55.874Z"
   },
   {
    "duration": 2,
    "start_time": "2023-05-26T12:11:55.888Z"
   },
   {
    "duration": 5,
    "start_time": "2023-05-26T12:11:55.892Z"
   },
   {
    "duration": 12632,
    "start_time": "2023-05-26T12:11:55.899Z"
   },
   {
    "duration": 552,
    "start_time": "2023-05-26T12:12:08.532Z"
   },
   {
    "duration": 38,
    "start_time": "2023-05-26T12:12:09.086Z"
   },
   {
    "duration": 197,
    "start_time": "2023-05-26T12:12:09.126Z"
   },
   {
    "duration": 25403,
    "start_time": "2023-05-26T12:12:09.324Z"
   },
   {
    "duration": 1208,
    "start_time": "2023-05-26T12:12:34.819Z"
   },
   {
    "duration": 151,
    "start_time": "2023-05-26T12:12:36.118Z"
   },
   {
    "duration": 0,
    "start_time": "2023-05-26T12:12:36.270Z"
   },
   {
    "duration": 0,
    "start_time": "2023-05-26T12:12:36.271Z"
   },
   {
    "duration": 0,
    "start_time": "2023-05-26T12:12:36.273Z"
   },
   {
    "duration": 0,
    "start_time": "2023-05-26T12:12:36.273Z"
   },
   {
    "duration": 91411,
    "start_time": "2023-05-26T12:21:20.626Z"
   },
   {
    "duration": 10,
    "start_time": "2023-05-26T12:22:53.498Z"
   },
   {
    "duration": 1505,
    "start_time": "2023-05-26T12:23:02.593Z"
   },
   {
    "duration": 53,
    "start_time": "2023-05-26T12:23:04.101Z"
   },
   {
    "duration": 10,
    "start_time": "2023-05-26T12:23:04.155Z"
   },
   {
    "duration": 14,
    "start_time": "2023-05-26T12:23:04.167Z"
   },
   {
    "duration": 18,
    "start_time": "2023-05-26T12:23:04.183Z"
   },
   {
    "duration": 230,
    "start_time": "2023-05-26T12:23:04.203Z"
   },
   {
    "duration": 174,
    "start_time": "2023-05-26T12:23:04.434Z"
   },
   {
    "duration": 13,
    "start_time": "2023-05-26T12:23:04.611Z"
   },
   {
    "duration": 887,
    "start_time": "2023-05-26T12:23:04.626Z"
   },
   {
    "duration": 6,
    "start_time": "2023-05-26T12:23:05.517Z"
   },
   {
    "duration": 42,
    "start_time": "2023-05-26T12:23:05.524Z"
   },
   {
    "duration": 14,
    "start_time": "2023-05-26T12:23:05.568Z"
   },
   {
    "duration": 3,
    "start_time": "2023-05-26T12:23:05.583Z"
   },
   {
    "duration": 11,
    "start_time": "2023-05-26T12:23:05.588Z"
   },
   {
    "duration": 12703,
    "start_time": "2023-05-26T12:23:05.601Z"
   },
   {
    "duration": 579,
    "start_time": "2023-05-26T12:23:18.306Z"
   },
   {
    "duration": 136,
    "start_time": "2023-05-26T12:23:18.886Z"
   },
   {
    "duration": 107,
    "start_time": "2023-05-26T12:23:19.024Z"
   },
   {
    "duration": 26787,
    "start_time": "2023-05-26T12:23:19.133Z"
   },
   {
    "duration": 1204,
    "start_time": "2023-05-26T12:23:45.921Z"
   },
   {
    "duration": 525373,
    "start_time": "2023-05-26T12:23:47.127Z"
   },
   {
    "duration": 550,
    "start_time": "2023-05-26T12:32:32.501Z"
   },
   {
    "duration": 3,
    "start_time": "2023-05-26T12:32:33.053Z"
   },
   {
    "duration": 269,
    "start_time": "2023-05-26T12:32:33.057Z"
   },
   {
    "duration": 97,
    "start_time": "2023-05-26T12:32:33.327Z"
   },
   {
    "duration": 2324,
    "start_time": "2023-05-26T15:13:07.305Z"
   },
   {
    "duration": 302,
    "start_time": "2023-05-26T15:13:09.631Z"
   },
   {
    "duration": 10,
    "start_time": "2023-05-26T15:13:09.934Z"
   },
   {
    "duration": 18,
    "start_time": "2023-05-26T15:13:09.946Z"
   },
   {
    "duration": 12,
    "start_time": "2023-05-26T15:13:09.967Z"
   },
   {
    "duration": 235,
    "start_time": "2023-05-26T15:13:09.981Z"
   },
   {
    "duration": 174,
    "start_time": "2023-05-26T15:13:10.217Z"
   },
   {
    "duration": 14,
    "start_time": "2023-05-26T15:13:10.393Z"
   },
   {
    "duration": 915,
    "start_time": "2023-05-26T15:13:10.408Z"
   },
   {
    "duration": 4,
    "start_time": "2023-05-26T15:13:11.324Z"
   },
   {
    "duration": 45,
    "start_time": "2023-05-26T15:13:11.329Z"
   },
   {
    "duration": 18,
    "start_time": "2023-05-26T15:13:11.376Z"
   },
   {
    "duration": 21,
    "start_time": "2023-05-26T15:13:11.396Z"
   },
   {
    "duration": 11,
    "start_time": "2023-05-26T15:13:11.420Z"
   },
   {
    "duration": 12135,
    "start_time": "2023-05-26T15:13:11.432Z"
   },
   {
    "duration": 570,
    "start_time": "2023-05-26T15:13:23.569Z"
   },
   {
    "duration": 157,
    "start_time": "2023-05-26T15:13:24.141Z"
   },
   {
    "duration": 81,
    "start_time": "2023-05-26T15:13:24.300Z"
   },
   {
    "duration": 2035997,
    "start_time": "2023-05-26T15:13:24.384Z"
   },
   {
    "duration": 268097,
    "start_time": "2023-05-26T15:47:20.389Z"
   },
   {
    "duration": 1524,
    "start_time": "2023-05-26T17:09:41.715Z"
   },
   {
    "duration": 140,
    "start_time": "2023-05-26T17:09:43.241Z"
   },
   {
    "duration": 8,
    "start_time": "2023-05-26T17:09:43.383Z"
   },
   {
    "duration": 10,
    "start_time": "2023-05-26T17:09:43.392Z"
   },
   {
    "duration": 13,
    "start_time": "2023-05-26T17:09:43.404Z"
   },
   {
    "duration": 198,
    "start_time": "2023-05-26T17:09:43.418Z"
   },
   {
    "duration": 204,
    "start_time": "2023-05-26T17:09:43.618Z"
   },
   {
    "duration": 1592,
    "start_time": "2023-05-26T17:09:43.823Z"
   },
   {
    "duration": 1792,
    "start_time": "2023-05-26T17:09:45.417Z"
   },
   {
    "duration": 95,
    "start_time": "2023-05-26T17:09:47.214Z"
   },
   {
    "duration": 723,
    "start_time": "2023-05-26T17:09:47.310Z"
   },
   {
    "duration": 3,
    "start_time": "2023-05-26T17:09:48.035Z"
   },
   {
    "duration": 36,
    "start_time": "2023-05-26T17:09:48.040Z"
   },
   {
    "duration": 12,
    "start_time": "2023-05-26T17:09:48.079Z"
   },
   {
    "duration": 3,
    "start_time": "2023-05-26T17:09:48.092Z"
   },
   {
    "duration": 8,
    "start_time": "2023-05-26T17:09:48.096Z"
   },
   {
    "duration": 40,
    "start_time": "2023-05-26T17:09:48.105Z"
   },
   {
    "duration": 0,
    "start_time": "2023-05-26T17:09:48.146Z"
   },
   {
    "duration": 0,
    "start_time": "2023-05-26T17:09:48.147Z"
   },
   {
    "duration": 0,
    "start_time": "2023-05-26T17:09:48.148Z"
   },
   {
    "duration": 0,
    "start_time": "2023-05-26T17:09:48.150Z"
   },
   {
    "duration": 0,
    "start_time": "2023-05-26T17:09:48.151Z"
   },
   {
    "duration": 0,
    "start_time": "2023-05-26T17:09:48.152Z"
   },
   {
    "duration": 0,
    "start_time": "2023-05-26T17:09:48.153Z"
   },
   {
    "duration": 0,
    "start_time": "2023-05-26T17:09:48.154Z"
   },
   {
    "duration": 0,
    "start_time": "2023-05-26T17:09:48.155Z"
   },
   {
    "duration": 0,
    "start_time": "2023-05-26T17:09:48.156Z"
   },
   {
    "duration": 19,
    "start_time": "2023-05-26T17:10:35.857Z"
   },
   {
    "duration": 1369,
    "start_time": "2023-05-26T17:12:27.822Z"
   },
   {
    "duration": 52,
    "start_time": "2023-05-26T17:12:29.192Z"
   },
   {
    "duration": 8,
    "start_time": "2023-05-26T17:12:29.246Z"
   },
   {
    "duration": 9,
    "start_time": "2023-05-26T17:12:29.256Z"
   },
   {
    "duration": 15,
    "start_time": "2023-05-26T17:12:29.267Z"
   },
   {
    "duration": 205,
    "start_time": "2023-05-26T17:12:29.283Z"
   },
   {
    "duration": 210,
    "start_time": "2023-05-26T17:12:29.490Z"
   },
   {
    "duration": 3307,
    "start_time": "2023-05-26T17:12:29.706Z"
   },
   {
    "duration": 3207,
    "start_time": "2023-05-26T17:12:33.015Z"
   },
   {
    "duration": 83,
    "start_time": "2023-05-26T17:12:36.228Z"
   },
   {
    "duration": 852,
    "start_time": "2023-05-26T17:12:36.313Z"
   },
   {
    "duration": 4,
    "start_time": "2023-05-26T17:12:37.166Z"
   },
   {
    "duration": 11,
    "start_time": "2023-05-26T17:12:37.171Z"
   },
   {
    "duration": 50,
    "start_time": "2023-05-26T17:12:37.184Z"
   },
   {
    "duration": 12,
    "start_time": "2023-05-26T17:12:37.235Z"
   },
   {
    "duration": 2,
    "start_time": "2023-05-26T17:12:37.249Z"
   },
   {
    "duration": 7,
    "start_time": "2023-05-26T17:12:37.252Z"
   },
   {
    "duration": 54,
    "start_time": "2023-05-26T17:12:37.260Z"
   },
   {
    "duration": 0,
    "start_time": "2023-05-26T17:12:37.316Z"
   },
   {
    "duration": 0,
    "start_time": "2023-05-26T17:12:37.317Z"
   },
   {
    "duration": 0,
    "start_time": "2023-05-26T17:12:37.319Z"
   },
   {
    "duration": 0,
    "start_time": "2023-05-26T17:12:37.323Z"
   },
   {
    "duration": 0,
    "start_time": "2023-05-26T17:12:37.324Z"
   },
   {
    "duration": 0,
    "start_time": "2023-05-26T17:12:37.325Z"
   },
   {
    "duration": 0,
    "start_time": "2023-05-26T17:12:37.326Z"
   },
   {
    "duration": 0,
    "start_time": "2023-05-26T17:12:37.327Z"
   },
   {
    "duration": 0,
    "start_time": "2023-05-26T17:12:37.328Z"
   },
   {
    "duration": 0,
    "start_time": "2023-05-26T17:12:37.329Z"
   },
   {
    "duration": 30,
    "start_time": "2023-05-26T17:13:08.536Z"
   },
   {
    "duration": 43,
    "start_time": "2023-05-26T17:22:58.833Z"
   },
   {
    "duration": 46,
    "start_time": "2023-05-26T17:23:20.293Z"
   },
   {
    "duration": 118,
    "start_time": "2023-05-26T17:24:16.211Z"
   },
   {
    "duration": 1121,
    "start_time": "2023-05-26T17:28:36.584Z"
   },
   {
    "duration": 0,
    "start_time": "2023-05-26T17:28:37.707Z"
   },
   {
    "duration": 0,
    "start_time": "2023-05-26T17:28:37.708Z"
   },
   {
    "duration": 0,
    "start_time": "2023-05-26T17:28:37.708Z"
   },
   {
    "duration": 0,
    "start_time": "2023-05-26T17:28:37.710Z"
   },
   {
    "duration": 0,
    "start_time": "2023-05-26T17:28:37.710Z"
   },
   {
    "duration": 0,
    "start_time": "2023-05-26T17:28:37.711Z"
   },
   {
    "duration": 0,
    "start_time": "2023-05-26T17:28:37.712Z"
   },
   {
    "duration": 0,
    "start_time": "2023-05-26T17:28:37.713Z"
   },
   {
    "duration": 0,
    "start_time": "2023-05-26T17:28:37.714Z"
   },
   {
    "duration": 0,
    "start_time": "2023-05-26T17:28:37.715Z"
   },
   {
    "duration": 0,
    "start_time": "2023-05-26T17:28:37.716Z"
   },
   {
    "duration": 0,
    "start_time": "2023-05-26T17:28:37.717Z"
   },
   {
    "duration": 0,
    "start_time": "2023-05-26T17:28:37.718Z"
   },
   {
    "duration": 0,
    "start_time": "2023-05-26T17:28:37.719Z"
   },
   {
    "duration": 0,
    "start_time": "2023-05-26T17:28:37.720Z"
   },
   {
    "duration": 0,
    "start_time": "2023-05-26T17:28:37.721Z"
   },
   {
    "duration": 0,
    "start_time": "2023-05-26T17:28:37.722Z"
   },
   {
    "duration": 0,
    "start_time": "2023-05-26T17:28:37.723Z"
   },
   {
    "duration": 0,
    "start_time": "2023-05-26T17:28:37.724Z"
   },
   {
    "duration": 0,
    "start_time": "2023-05-26T17:28:37.725Z"
   },
   {
    "duration": 0,
    "start_time": "2023-05-26T17:28:37.726Z"
   },
   {
    "duration": 0,
    "start_time": "2023-05-26T17:28:37.727Z"
   },
   {
    "duration": 0,
    "start_time": "2023-05-26T17:28:37.728Z"
   },
   {
    "duration": 0,
    "start_time": "2023-05-26T17:28:37.729Z"
   },
   {
    "duration": 0,
    "start_time": "2023-05-26T17:28:37.730Z"
   },
   {
    "duration": 0,
    "start_time": "2023-05-26T17:28:37.731Z"
   },
   {
    "duration": 10,
    "start_time": "2023-05-26T17:29:23.514Z"
   },
   {
    "duration": 1112,
    "start_time": "2023-05-26T17:30:35.529Z"
   },
   {
    "duration": 0,
    "start_time": "2023-05-26T17:30:36.643Z"
   },
   {
    "duration": 0,
    "start_time": "2023-05-26T17:30:36.645Z"
   },
   {
    "duration": 0,
    "start_time": "2023-05-26T17:30:36.646Z"
   },
   {
    "duration": 0,
    "start_time": "2023-05-26T17:30:36.647Z"
   },
   {
    "duration": 0,
    "start_time": "2023-05-26T17:30:36.648Z"
   },
   {
    "duration": 0,
    "start_time": "2023-05-26T17:30:36.649Z"
   },
   {
    "duration": 0,
    "start_time": "2023-05-26T17:30:36.650Z"
   },
   {
    "duration": 0,
    "start_time": "2023-05-26T17:30:36.651Z"
   },
   {
    "duration": 0,
    "start_time": "2023-05-26T17:30:36.652Z"
   },
   {
    "duration": 0,
    "start_time": "2023-05-26T17:30:36.654Z"
   },
   {
    "duration": 0,
    "start_time": "2023-05-26T17:30:36.655Z"
   },
   {
    "duration": 0,
    "start_time": "2023-05-26T17:30:36.656Z"
   },
   {
    "duration": 0,
    "start_time": "2023-05-26T17:30:36.657Z"
   },
   {
    "duration": 0,
    "start_time": "2023-05-26T17:30:36.659Z"
   },
   {
    "duration": 0,
    "start_time": "2023-05-26T17:30:36.659Z"
   },
   {
    "duration": 0,
    "start_time": "2023-05-26T17:30:36.660Z"
   },
   {
    "duration": 0,
    "start_time": "2023-05-26T17:30:36.662Z"
   },
   {
    "duration": 0,
    "start_time": "2023-05-26T17:30:36.663Z"
   },
   {
    "duration": 0,
    "start_time": "2023-05-26T17:30:36.664Z"
   },
   {
    "duration": 0,
    "start_time": "2023-05-26T17:30:36.665Z"
   },
   {
    "duration": 0,
    "start_time": "2023-05-26T17:30:36.666Z"
   },
   {
    "duration": 0,
    "start_time": "2023-05-26T17:30:36.667Z"
   },
   {
    "duration": 0,
    "start_time": "2023-05-26T17:30:36.707Z"
   },
   {
    "duration": 0,
    "start_time": "2023-05-26T17:30:36.708Z"
   },
   {
    "duration": 0,
    "start_time": "2023-05-26T17:30:36.709Z"
   },
   {
    "duration": 0,
    "start_time": "2023-05-26T17:30:36.710Z"
   },
   {
    "duration": 1163,
    "start_time": "2023-05-26T17:32:48.994Z"
   },
   {
    "duration": 0,
    "start_time": "2023-05-26T17:32:50.159Z"
   },
   {
    "duration": 0,
    "start_time": "2023-05-26T17:32:50.160Z"
   },
   {
    "duration": 0,
    "start_time": "2023-05-26T17:32:50.162Z"
   },
   {
    "duration": 0,
    "start_time": "2023-05-26T17:32:50.162Z"
   },
   {
    "duration": 0,
    "start_time": "2023-05-26T17:32:50.163Z"
   },
   {
    "duration": 0,
    "start_time": "2023-05-26T17:32:50.164Z"
   },
   {
    "duration": 0,
    "start_time": "2023-05-26T17:32:50.165Z"
   },
   {
    "duration": 0,
    "start_time": "2023-05-26T17:32:50.166Z"
   },
   {
    "duration": 0,
    "start_time": "2023-05-26T17:32:50.167Z"
   },
   {
    "duration": 0,
    "start_time": "2023-05-26T17:32:50.168Z"
   },
   {
    "duration": 0,
    "start_time": "2023-05-26T17:32:50.168Z"
   },
   {
    "duration": 0,
    "start_time": "2023-05-26T17:32:50.169Z"
   },
   {
    "duration": 0,
    "start_time": "2023-05-26T17:32:50.170Z"
   },
   {
    "duration": 0,
    "start_time": "2023-05-26T17:32:50.171Z"
   },
   {
    "duration": 0,
    "start_time": "2023-05-26T17:32:50.172Z"
   },
   {
    "duration": 0,
    "start_time": "2023-05-26T17:32:50.173Z"
   },
   {
    "duration": 0,
    "start_time": "2023-05-26T17:32:50.174Z"
   },
   {
    "duration": 0,
    "start_time": "2023-05-26T17:32:50.175Z"
   },
   {
    "duration": 0,
    "start_time": "2023-05-26T17:32:50.176Z"
   },
   {
    "duration": 0,
    "start_time": "2023-05-26T17:32:50.176Z"
   },
   {
    "duration": 0,
    "start_time": "2023-05-26T17:32:50.177Z"
   },
   {
    "duration": 0,
    "start_time": "2023-05-26T17:32:50.178Z"
   },
   {
    "duration": 0,
    "start_time": "2023-05-26T17:32:50.206Z"
   },
   {
    "duration": 0,
    "start_time": "2023-05-26T17:32:50.207Z"
   },
   {
    "duration": 0,
    "start_time": "2023-05-26T17:32:50.208Z"
   },
   {
    "duration": 0,
    "start_time": "2023-05-26T17:32:50.209Z"
   },
   {
    "duration": 264,
    "start_time": "2023-05-26T17:33:17.824Z"
   },
   {
    "duration": 10,
    "start_time": "2023-05-26T17:34:18.323Z"
   },
   {
    "duration": 1365,
    "start_time": "2023-05-26T17:36:08.391Z"
   },
   {
    "duration": 0,
    "start_time": "2023-05-26T17:36:09.757Z"
   },
   {
    "duration": 0,
    "start_time": "2023-05-26T17:36:09.759Z"
   },
   {
    "duration": 0,
    "start_time": "2023-05-26T17:36:09.759Z"
   },
   {
    "duration": 0,
    "start_time": "2023-05-26T17:36:09.760Z"
   },
   {
    "duration": 0,
    "start_time": "2023-05-26T17:36:09.761Z"
   },
   {
    "duration": 0,
    "start_time": "2023-05-26T17:36:09.762Z"
   },
   {
    "duration": 0,
    "start_time": "2023-05-26T17:36:09.763Z"
   },
   {
    "duration": 0,
    "start_time": "2023-05-26T17:36:09.764Z"
   },
   {
    "duration": 0,
    "start_time": "2023-05-26T17:36:09.764Z"
   },
   {
    "duration": 0,
    "start_time": "2023-05-26T17:36:09.765Z"
   },
   {
    "duration": 0,
    "start_time": "2023-05-26T17:36:09.766Z"
   },
   {
    "duration": 0,
    "start_time": "2023-05-26T17:36:09.767Z"
   },
   {
    "duration": 0,
    "start_time": "2023-05-26T17:36:09.768Z"
   },
   {
    "duration": 0,
    "start_time": "2023-05-26T17:36:09.769Z"
   },
   {
    "duration": 0,
    "start_time": "2023-05-26T17:36:09.770Z"
   },
   {
    "duration": 0,
    "start_time": "2023-05-26T17:36:09.770Z"
   },
   {
    "duration": 0,
    "start_time": "2023-05-26T17:36:09.772Z"
   },
   {
    "duration": 0,
    "start_time": "2023-05-26T17:36:09.772Z"
   },
   {
    "duration": 0,
    "start_time": "2023-05-26T17:36:09.773Z"
   },
   {
    "duration": 0,
    "start_time": "2023-05-26T17:36:09.775Z"
   },
   {
    "duration": 0,
    "start_time": "2023-05-26T17:36:09.775Z"
   },
   {
    "duration": 0,
    "start_time": "2023-05-26T17:36:09.806Z"
   },
   {
    "duration": 0,
    "start_time": "2023-05-26T17:36:09.807Z"
   },
   {
    "duration": 0,
    "start_time": "2023-05-26T17:36:09.808Z"
   },
   {
    "duration": 0,
    "start_time": "2023-05-26T17:36:09.809Z"
   },
   {
    "duration": 0,
    "start_time": "2023-05-26T17:36:09.810Z"
   },
   {
    "duration": 80,
    "start_time": "2023-05-26T17:36:44.638Z"
   },
   {
    "duration": 1305,
    "start_time": "2023-05-26T17:36:49.425Z"
   },
   {
    "duration": 51,
    "start_time": "2023-05-26T17:36:50.732Z"
   },
   {
    "duration": 8,
    "start_time": "2023-05-26T17:36:50.785Z"
   },
   {
    "duration": 14,
    "start_time": "2023-05-26T17:36:50.794Z"
   },
   {
    "duration": 11,
    "start_time": "2023-05-26T17:36:50.810Z"
   },
   {
    "duration": 198,
    "start_time": "2023-05-26T17:36:50.823Z"
   },
   {
    "duration": 202,
    "start_time": "2023-05-26T17:36:51.023Z"
   },
   {
    "duration": 1683,
    "start_time": "2023-05-26T17:36:51.226Z"
   },
   {
    "duration": 1801,
    "start_time": "2023-05-26T17:36:52.911Z"
   },
   {
    "duration": 10,
    "start_time": "2023-05-26T17:36:54.805Z"
   },
   {
    "duration": 726,
    "start_time": "2023-05-26T17:36:54.907Z"
   },
   {
    "duration": 3,
    "start_time": "2023-05-26T17:36:55.635Z"
   },
   {
    "duration": 38,
    "start_time": "2023-05-26T17:36:55.640Z"
   },
   {
    "duration": 13,
    "start_time": "2023-05-26T17:36:55.681Z"
   },
   {
    "duration": 4,
    "start_time": "2023-05-26T17:36:55.695Z"
   },
   {
    "duration": 5,
    "start_time": "2023-05-26T17:36:55.701Z"
   },
   {
    "duration": 24182,
    "start_time": "2023-05-26T17:36:55.708Z"
   },
   {
    "duration": 429,
    "start_time": "2023-05-26T17:37:19.892Z"
   },
   {
    "duration": 184,
    "start_time": "2023-05-26T17:37:20.323Z"
   },
   {
    "duration": 3,
    "start_time": "2023-05-26T17:37:20.508Z"
   },
   {
    "duration": 286601,
    "start_time": "2023-05-26T17:37:20.513Z"
   },
   {
    "duration": 603,
    "start_time": "2023-05-26T17:42:07.115Z"
   },
   {
    "duration": 496,
    "start_time": "2023-05-26T18:07:59.046Z"
   },
   {
    "duration": 4,
    "start_time": "2023-05-26T18:07:59.543Z"
   },
   {
    "duration": 170,
    "start_time": "2023-05-26T18:07:59.548Z"
   },
   {
    "duration": 3,
    "start_time": "2023-05-26T18:07:59.719Z"
   },
   {
    "duration": 0,
    "start_time": "2023-05-26T18:08:00.244Z"
   },
   {
    "duration": 13,
    "start_time": "2023-05-26T19:17:45.322Z"
   },
   {
    "duration": 3,
    "start_time": "2023-05-26T19:17:53.619Z"
   },
   {
    "duration": 5,
    "start_time": "2023-05-26T19:18:00.428Z"
   },
   {
    "duration": 6,
    "start_time": "2023-05-26T19:19:41.018Z"
   },
   {
    "duration": 4,
    "start_time": "2023-05-26T19:19:41.797Z"
   },
   {
    "duration": 15,
    "start_time": "2023-05-26T19:20:42.315Z"
   },
   {
    "duration": 4,
    "start_time": "2023-05-26T19:21:06.283Z"
   },
   {
    "duration": 13,
    "start_time": "2023-05-26T19:22:48.399Z"
   },
   {
    "duration": 291,
    "start_time": "2023-05-26T19:23:22.205Z"
   },
   {
    "duration": 282,
    "start_time": "2023-05-26T19:23:41.203Z"
   },
   {
    "duration": 11,
    "start_time": "2023-05-26T19:24:00.818Z"
   },
   {
    "duration": 185,
    "start_time": "2023-05-26T19:24:11.329Z"
   },
   {
    "duration": 28,
    "start_time": "2023-05-26T19:25:45.612Z"
   },
   {
    "duration": 195,
    "start_time": "2023-05-26T19:26:27.396Z"
   },
   {
    "duration": 16,
    "start_time": "2023-05-26T19:27:02.325Z"
   },
   {
    "duration": 224,
    "start_time": "2023-05-26T19:27:15.644Z"
   },
   {
    "duration": 137,
    "start_time": "2023-05-26T19:30:46.290Z"
   },
   {
    "duration": 131,
    "start_time": "2023-05-26T19:33:48.267Z"
   },
   {
    "duration": 561,
    "start_time": "2023-05-26T19:34:41.983Z"
   },
   {
    "duration": 696,
    "start_time": "2023-05-26T19:39:55.805Z"
   },
   {
    "duration": 5,
    "start_time": "2023-05-26T19:40:20.107Z"
   },
   {
    "duration": 538,
    "start_time": "2023-05-26T19:45:55.879Z"
   },
   {
    "duration": 630,
    "start_time": "2023-05-26T19:46:04.887Z"
   },
   {
    "duration": 2660,
    "start_time": "2023-05-26T19:49:31.543Z"
   },
   {
    "duration": 1355,
    "start_time": "2023-05-26T19:50:55.596Z"
   },
   {
    "duration": 52,
    "start_time": "2023-05-26T19:50:56.953Z"
   },
   {
    "duration": 8,
    "start_time": "2023-05-26T19:50:57.007Z"
   },
   {
    "duration": 19,
    "start_time": "2023-05-26T19:50:57.017Z"
   },
   {
    "duration": 42,
    "start_time": "2023-05-26T19:50:57.038Z"
   },
   {
    "duration": 212,
    "start_time": "2023-05-26T19:50:57.081Z"
   },
   {
    "duration": 217,
    "start_time": "2023-05-26T19:50:57.294Z"
   },
   {
    "duration": 1702,
    "start_time": "2023-05-26T19:50:57.512Z"
   },
   {
    "duration": 1894,
    "start_time": "2023-05-26T19:50:59.216Z"
   },
   {
    "duration": 94,
    "start_time": "2023-05-26T19:51:01.112Z"
   },
   {
    "duration": 861,
    "start_time": "2023-05-26T19:51:01.208Z"
   },
   {
    "duration": 5,
    "start_time": "2023-05-26T19:51:02.070Z"
   },
   {
    "duration": 64,
    "start_time": "2023-05-26T19:51:02.076Z"
   },
   {
    "duration": 20,
    "start_time": "2023-05-26T19:51:02.142Z"
   },
   {
    "duration": 17,
    "start_time": "2023-05-26T19:51:02.164Z"
   },
   {
    "duration": 33,
    "start_time": "2023-05-26T19:51:02.183Z"
   },
   {
    "duration": 24547,
    "start_time": "2023-05-26T19:51:02.217Z"
   },
   {
    "duration": 431,
    "start_time": "2023-05-26T19:51:26.765Z"
   },
   {
    "duration": 115,
    "start_time": "2023-05-26T19:51:27.198Z"
   },
   {
    "duration": 93,
    "start_time": "2023-05-26T19:51:27.315Z"
   },
   {
    "duration": 1335,
    "start_time": "2023-05-26T19:58:29.638Z"
   },
   {
    "duration": 52,
    "start_time": "2023-05-26T19:58:30.975Z"
   },
   {
    "duration": 10,
    "start_time": "2023-05-26T19:58:31.028Z"
   },
   {
    "duration": 42,
    "start_time": "2023-05-26T19:58:31.040Z"
   },
   {
    "duration": 27,
    "start_time": "2023-05-26T19:58:31.084Z"
   },
   {
    "duration": 220,
    "start_time": "2023-05-26T19:58:31.113Z"
   },
   {
    "duration": 213,
    "start_time": "2023-05-26T19:58:31.334Z"
   },
   {
    "duration": 2567,
    "start_time": "2023-05-26T19:58:31.548Z"
   },
   {
    "duration": 2297,
    "start_time": "2023-05-26T19:58:34.117Z"
   },
   {
    "duration": 95,
    "start_time": "2023-05-26T19:58:36.418Z"
   },
   {
    "duration": 817,
    "start_time": "2023-05-26T19:58:36.516Z"
   },
   {
    "duration": 4,
    "start_time": "2023-05-26T19:58:37.334Z"
   },
   {
    "duration": 51,
    "start_time": "2023-05-26T19:58:37.339Z"
   },
   {
    "duration": 16,
    "start_time": "2023-05-26T19:58:37.391Z"
   },
   {
    "duration": 3,
    "start_time": "2023-05-26T19:58:37.409Z"
   },
   {
    "duration": 7,
    "start_time": "2023-05-26T19:58:37.414Z"
   },
   {
    "duration": 23607,
    "start_time": "2023-05-26T19:58:37.422Z"
   },
   {
    "duration": 449,
    "start_time": "2023-05-26T19:59:01.031Z"
   },
   {
    "duration": 227,
    "start_time": "2023-05-26T19:59:01.481Z"
   },
   {
    "duration": 4,
    "start_time": "2023-05-26T19:59:01.710Z"
   },
   {
    "duration": 1346,
    "start_time": "2023-05-26T20:06:43.385Z"
   },
   {
    "duration": 50,
    "start_time": "2023-05-26T20:06:44.733Z"
   },
   {
    "duration": 8,
    "start_time": "2023-05-26T20:06:44.785Z"
   },
   {
    "duration": 14,
    "start_time": "2023-05-26T20:06:44.795Z"
   },
   {
    "duration": 15,
    "start_time": "2023-05-26T20:06:44.810Z"
   },
   {
    "duration": 207,
    "start_time": "2023-05-26T20:06:44.826Z"
   },
   {
    "duration": 215,
    "start_time": "2023-05-26T20:06:45.035Z"
   },
   {
    "duration": 1757,
    "start_time": "2023-05-26T20:06:45.252Z"
   },
   {
    "duration": 1795,
    "start_time": "2023-05-26T20:06:47.014Z"
   },
   {
    "duration": 95,
    "start_time": "2023-05-26T20:06:48.813Z"
   },
   {
    "duration": 719,
    "start_time": "2023-05-26T20:06:48.910Z"
   },
   {
    "duration": 4,
    "start_time": "2023-05-26T20:06:49.630Z"
   },
   {
    "duration": 115,
    "start_time": "2023-05-26T20:06:49.636Z"
   },
   {
    "duration": 20,
    "start_time": "2023-05-26T20:06:49.753Z"
   },
   {
    "duration": 2,
    "start_time": "2023-05-26T20:06:49.775Z"
   },
   {
    "duration": 8,
    "start_time": "2023-05-26T20:06:49.779Z"
   },
   {
    "duration": 70894,
    "start_time": "2023-05-26T20:06:49.788Z"
   },
   {
    "duration": 1349,
    "start_time": "2023-05-26T20:08:00.684Z"
   },
   {
    "duration": 373,
    "start_time": "2023-05-26T20:08:02.034Z"
   },
   {
    "duration": 6,
    "start_time": "2023-05-26T20:08:02.409Z"
   },
   {
    "duration": 1347,
    "start_time": "2023-05-26T20:43:07.199Z"
   },
   {
    "duration": 54,
    "start_time": "2023-05-26T20:43:08.548Z"
   },
   {
    "duration": 10,
    "start_time": "2023-05-26T20:43:08.604Z"
   },
   {
    "duration": 10,
    "start_time": "2023-05-26T20:43:08.616Z"
   },
   {
    "duration": 14,
    "start_time": "2023-05-26T20:43:08.628Z"
   },
   {
    "duration": 214,
    "start_time": "2023-05-26T20:43:08.643Z"
   },
   {
    "duration": 213,
    "start_time": "2023-05-26T20:43:08.859Z"
   },
   {
    "duration": 1340,
    "start_time": "2023-05-26T20:43:09.074Z"
   },
   {
    "duration": 2901,
    "start_time": "2023-05-26T20:43:10.416Z"
   },
   {
    "duration": 96,
    "start_time": "2023-05-26T20:43:13.319Z"
   },
   {
    "duration": 824,
    "start_time": "2023-05-26T20:43:13.417Z"
   },
   {
    "duration": 3,
    "start_time": "2023-05-26T20:43:14.243Z"
   },
   {
    "duration": 111,
    "start_time": "2023-05-26T20:43:14.248Z"
   },
   {
    "duration": 22,
    "start_time": "2023-05-26T20:43:14.361Z"
   },
   {
    "duration": 2,
    "start_time": "2023-05-26T20:43:14.385Z"
   },
   {
    "duration": 17,
    "start_time": "2023-05-26T20:43:14.389Z"
   },
   {
    "duration": 70630,
    "start_time": "2023-05-26T20:43:14.407Z"
   },
   {
    "duration": 1311,
    "start_time": "2023-05-26T20:44:25.039Z"
   },
   {
    "duration": 259,
    "start_time": "2023-05-26T20:44:26.351Z"
   },
   {
    "duration": 4,
    "start_time": "2023-05-26T20:44:26.612Z"
   },
   {
    "duration": 1319,
    "start_time": "2023-05-26T21:09:44.219Z"
   },
   {
    "duration": 52,
    "start_time": "2023-05-26T21:09:45.540Z"
   },
   {
    "duration": 8,
    "start_time": "2023-05-26T21:09:45.593Z"
   },
   {
    "duration": 19,
    "start_time": "2023-05-26T21:09:45.602Z"
   },
   {
    "duration": 14,
    "start_time": "2023-05-26T21:09:45.623Z"
   },
   {
    "duration": 198,
    "start_time": "2023-05-26T21:09:45.638Z"
   },
   {
    "duration": 212,
    "start_time": "2023-05-26T21:09:45.837Z"
   },
   {
    "duration": 1566,
    "start_time": "2023-05-26T21:09:46.050Z"
   },
   {
    "duration": 1511,
    "start_time": "2023-05-26T21:09:47.706Z"
   },
   {
    "duration": 8,
    "start_time": "2023-05-26T21:09:49.306Z"
   },
   {
    "duration": 819,
    "start_time": "2023-05-26T21:09:49.316Z"
   },
   {
    "duration": 3,
    "start_time": "2023-05-26T21:09:50.137Z"
   },
   {
    "duration": 122,
    "start_time": "2023-05-26T21:09:50.142Z"
   },
   {
    "duration": 22,
    "start_time": "2023-05-26T21:09:50.267Z"
   },
   {
    "duration": 3,
    "start_time": "2023-05-26T21:09:50.290Z"
   },
   {
    "duration": 29,
    "start_time": "2023-05-26T21:09:50.295Z"
   },
   {
    "duration": 70317,
    "start_time": "2023-05-26T21:09:50.326Z"
   },
   {
    "duration": 1330,
    "start_time": "2023-05-26T21:11:00.645Z"
   },
   {
    "duration": 232,
    "start_time": "2023-05-26T21:11:01.976Z"
   },
   {
    "duration": 3,
    "start_time": "2023-05-26T21:11:02.210Z"
   },
   {
    "duration": 1349,
    "start_time": "2023-05-26T21:18:24.984Z"
   },
   {
    "duration": 51,
    "start_time": "2023-05-26T21:18:26.335Z"
   },
   {
    "duration": 8,
    "start_time": "2023-05-26T21:18:26.388Z"
   },
   {
    "duration": 13,
    "start_time": "2023-05-26T21:18:26.398Z"
   },
   {
    "duration": 10,
    "start_time": "2023-05-26T21:18:26.413Z"
   },
   {
    "duration": 215,
    "start_time": "2023-05-26T21:18:26.424Z"
   },
   {
    "duration": 216,
    "start_time": "2023-05-26T21:18:26.640Z"
   },
   {
    "duration": 3051,
    "start_time": "2023-05-26T21:18:26.858Z"
   },
   {
    "duration": 2000,
    "start_time": "2023-05-26T21:18:29.911Z"
   },
   {
    "duration": 93,
    "start_time": "2023-05-26T21:18:31.913Z"
   },
   {
    "duration": 837,
    "start_time": "2023-05-26T21:18:32.012Z"
   },
   {
    "duration": 4,
    "start_time": "2023-05-26T21:18:32.850Z"
   },
   {
    "duration": 44,
    "start_time": "2023-05-26T21:18:32.855Z"
   },
   {
    "duration": 14,
    "start_time": "2023-05-26T21:18:32.901Z"
   },
   {
    "duration": 2,
    "start_time": "2023-05-26T21:18:32.917Z"
   },
   {
    "duration": 4,
    "start_time": "2023-05-26T21:18:32.921Z"
   },
   {
    "duration": 23922,
    "start_time": "2023-05-26T21:18:32.927Z"
   },
   {
    "duration": 423,
    "start_time": "2023-05-26T21:18:56.851Z"
   },
   {
    "duration": 130,
    "start_time": "2023-05-26T21:18:57.276Z"
   },
   {
    "duration": 98,
    "start_time": "2023-05-26T21:18:57.408Z"
   },
   {
    "duration": 1609,
    "start_time": "2023-05-27T07:17:35.789Z"
   },
   {
    "duration": 145,
    "start_time": "2023-05-27T07:17:37.400Z"
   },
   {
    "duration": 9,
    "start_time": "2023-05-27T07:17:37.547Z"
   },
   {
    "duration": 16,
    "start_time": "2023-05-27T07:17:37.558Z"
   },
   {
    "duration": 23,
    "start_time": "2023-05-27T07:17:37.575Z"
   },
   {
    "duration": 252,
    "start_time": "2023-05-27T07:17:37.600Z"
   },
   {
    "duration": 233,
    "start_time": "2023-05-27T07:17:37.854Z"
   },
   {
    "duration": 4541,
    "start_time": "2023-05-27T07:17:38.089Z"
   },
   {
    "duration": 3906,
    "start_time": "2023-05-27T07:17:42.638Z"
   },
   {
    "duration": 86,
    "start_time": "2023-05-27T07:17:46.547Z"
   },
   {
    "duration": 915,
    "start_time": "2023-05-27T07:17:46.636Z"
   },
   {
    "duration": 5,
    "start_time": "2023-05-27T07:17:47.553Z"
   },
   {
    "duration": 36,
    "start_time": "2023-05-27T07:17:47.560Z"
   },
   {
    "duration": 15,
    "start_time": "2023-05-27T07:17:47.597Z"
   },
   {
    "duration": 3,
    "start_time": "2023-05-27T07:17:47.614Z"
   },
   {
    "duration": 14,
    "start_time": "2023-05-27T07:17:47.618Z"
   },
   {
    "duration": 27836,
    "start_time": "2023-05-27T07:17:47.633Z"
   },
   {
    "duration": 597,
    "start_time": "2023-05-27T07:18:15.471Z"
   },
   {
    "duration": 382,
    "start_time": "2023-05-27T07:18:16.069Z"
   },
   {
    "duration": 79,
    "start_time": "2023-05-27T07:18:16.454Z"
   },
   {
    "duration": 1499,
    "start_time": "2023-05-27T07:33:19.424Z"
   },
   {
    "duration": 56,
    "start_time": "2023-05-27T07:33:20.925Z"
   },
   {
    "duration": 11,
    "start_time": "2023-05-27T07:33:20.982Z"
   },
   {
    "duration": 12,
    "start_time": "2023-05-27T07:33:20.995Z"
   },
   {
    "duration": 19,
    "start_time": "2023-05-27T07:33:21.008Z"
   },
   {
    "duration": 276,
    "start_time": "2023-05-27T07:33:21.029Z"
   },
   {
    "duration": 278,
    "start_time": "2023-05-27T07:33:21.306Z"
   },
   {
    "duration": 5547,
    "start_time": "2023-05-27T07:33:21.585Z"
   },
   {
    "duration": 3892,
    "start_time": "2023-05-27T07:33:27.134Z"
   },
   {
    "duration": 95,
    "start_time": "2023-05-27T07:33:31.029Z"
   },
   {
    "duration": 864,
    "start_time": "2023-05-27T07:33:31.126Z"
   },
   {
    "duration": 4,
    "start_time": "2023-05-27T07:33:31.992Z"
   },
   {
    "duration": 74,
    "start_time": "2023-05-27T07:33:31.997Z"
   },
   {
    "duration": 14,
    "start_time": "2023-05-27T07:33:32.073Z"
   },
   {
    "duration": 2,
    "start_time": "2023-05-27T07:33:32.088Z"
   },
   {
    "duration": 6,
    "start_time": "2023-05-27T07:33:32.092Z"
   },
   {
    "duration": 26873,
    "start_time": "2023-05-27T07:33:32.099Z"
   },
   {
    "duration": 487,
    "start_time": "2023-05-27T07:33:58.974Z"
   },
   {
    "duration": 162,
    "start_time": "2023-05-27T07:33:59.463Z"
   },
   {
    "duration": 3,
    "start_time": "2023-05-27T07:33:59.627Z"
   },
   {
    "duration": 1407,
    "start_time": "2023-05-27T07:34:34.240Z"
   },
   {
    "duration": 50,
    "start_time": "2023-05-27T07:34:35.649Z"
   },
   {
    "duration": 8,
    "start_time": "2023-05-27T07:34:35.701Z"
   },
   {
    "duration": 27,
    "start_time": "2023-05-27T07:34:35.711Z"
   },
   {
    "duration": 22,
    "start_time": "2023-05-27T07:34:35.739Z"
   },
   {
    "duration": 256,
    "start_time": "2023-05-27T07:34:35.762Z"
   },
   {
    "duration": 230,
    "start_time": "2023-05-27T07:34:36.020Z"
   },
   {
    "duration": 3589,
    "start_time": "2023-05-27T07:34:36.252Z"
   },
   {
    "duration": 3922,
    "start_time": "2023-05-27T07:34:39.925Z"
   },
   {
    "duration": 95,
    "start_time": "2023-05-27T07:34:43.929Z"
   },
   {
    "duration": 789,
    "start_time": "2023-05-27T07:34:44.026Z"
   },
   {
    "duration": 4,
    "start_time": "2023-05-27T07:34:44.816Z"
   },
   {
    "duration": 49,
    "start_time": "2023-05-27T07:34:44.821Z"
   },
   {
    "duration": 13,
    "start_time": "2023-05-27T07:34:44.871Z"
   },
   {
    "duration": 12,
    "start_time": "2023-05-27T07:34:44.885Z"
   },
   {
    "duration": 10,
    "start_time": "2023-05-27T07:34:44.898Z"
   },
   {
    "duration": 27719,
    "start_time": "2023-05-27T07:34:44.910Z"
   },
   {
    "duration": 489,
    "start_time": "2023-05-27T07:35:12.632Z"
   },
   {
    "duration": 202,
    "start_time": "2023-05-27T07:35:13.122Z"
   },
   {
    "duration": 6,
    "start_time": "2023-05-27T07:35:13.330Z"
   },
   {
    "duration": 1323,
    "start_time": "2023-05-27T07:48:32.977Z"
   },
   {
    "duration": 53,
    "start_time": "2023-05-27T07:48:34.301Z"
   },
   {
    "duration": 9,
    "start_time": "2023-05-27T07:48:34.355Z"
   },
   {
    "duration": 35,
    "start_time": "2023-05-27T07:48:34.366Z"
   },
   {
    "duration": 29,
    "start_time": "2023-05-27T07:48:34.402Z"
   },
   {
    "duration": 221,
    "start_time": "2023-05-27T07:48:34.433Z"
   },
   {
    "duration": 221,
    "start_time": "2023-05-27T07:48:34.656Z"
   },
   {
    "duration": 2553,
    "start_time": "2023-05-27T07:48:34.879Z"
   },
   {
    "duration": 2292,
    "start_time": "2023-05-27T07:48:37.434Z"
   },
   {
    "duration": 98,
    "start_time": "2023-05-27T07:48:39.734Z"
   },
   {
    "duration": 749,
    "start_time": "2023-05-27T07:48:39.834Z"
   },
   {
    "duration": 4,
    "start_time": "2023-05-27T07:48:40.584Z"
   },
   {
    "duration": 43,
    "start_time": "2023-05-27T07:48:40.589Z"
   },
   {
    "duration": 13,
    "start_time": "2023-05-27T07:48:40.633Z"
   },
   {
    "duration": 2,
    "start_time": "2023-05-27T07:48:40.648Z"
   },
   {
    "duration": 5,
    "start_time": "2023-05-27T07:48:40.651Z"
   },
   {
    "duration": 25976,
    "start_time": "2023-05-27T07:48:40.657Z"
   },
   {
    "duration": 483,
    "start_time": "2023-05-27T07:49:06.635Z"
   },
   {
    "duration": 205,
    "start_time": "2023-05-27T07:49:07.120Z"
   },
   {
    "duration": 4,
    "start_time": "2023-05-27T07:49:07.328Z"
   },
   {
    "duration": 20406,
    "start_time": "2023-05-27T07:49:07.334Z"
   },
   {
    "duration": 697,
    "start_time": "2023-05-27T07:49:27.742Z"
   },
   {
    "duration": 350,
    "start_time": "2023-05-27T07:49:28.440Z"
   },
   {
    "duration": 0,
    "start_time": "2023-05-27T07:49:28.792Z"
   },
   {
    "duration": 0,
    "start_time": "2023-05-27T07:49:28.793Z"
   },
   {
    "duration": 0,
    "start_time": "2023-05-27T07:49:28.794Z"
   },
   {
    "duration": 0,
    "start_time": "2023-05-27T07:49:28.795Z"
   },
   {
    "duration": 0,
    "start_time": "2023-05-27T07:49:28.795Z"
   },
   {
    "duration": 0,
    "start_time": "2023-05-27T07:49:28.796Z"
   },
   {
    "duration": 162,
    "start_time": "2023-05-27T07:56:16.435Z"
   },
   {
    "duration": 3119383,
    "start_time": "2023-05-27T07:56:53.912Z"
   },
   {
    "duration": 563,
    "start_time": "2023-05-27T08:48:53.297Z"
   },
   {
    "duration": 4,
    "start_time": "2023-05-27T08:48:53.862Z"
   },
   {
    "duration": 65162,
    "start_time": "2023-05-27T08:48:53.867Z"
   },
   {
    "duration": 7,
    "start_time": "2023-05-27T08:49:59.036Z"
   },
   {
    "duration": 6,
    "start_time": "2023-05-27T08:49:59.045Z"
   },
   {
    "duration": 367,
    "start_time": "2023-05-27T08:49:59.052Z"
   }
  ],
  "kernelspec": {
   "display_name": "Python 3 (ipykernel)",
   "language": "python",
   "name": "python3"
  },
  "language_info": {
   "codemirror_mode": {
    "name": "ipython",
    "version": 3
   },
   "file_extension": ".py",
   "mimetype": "text/x-python",
   "name": "python",
   "nbconvert_exporter": "python",
   "pygments_lexer": "ipython3",
   "version": "3.9.5"
  },
  "toc": {
   "base_numbering": 1,
   "nav_menu": {},
   "number_sections": true,
   "sideBar": true,
   "skip_h1_title": true,
   "title_cell": "Содержание",
   "title_sidebar": "Contents",
   "toc_cell": true,
   "toc_position": {},
   "toc_section_display": true,
   "toc_window_display": false
  }
 },
 "nbformat": 4,
 "nbformat_minor": 2
}
