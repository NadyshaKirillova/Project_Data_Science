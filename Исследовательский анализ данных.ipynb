{
 "cells": [
  {
   "cell_type": "markdown",
   "metadata": {},
   "source": [
    "<div style=\"border:solid Chocolate 2px; padding: 40px\">\n",
    "\n",
    "<b>Привет!👋</b>\n",
    "\n",
    "Меня зовут Огурлиев Анзор, я буду ревьюером твоего проекта. Сразу хочу предложить тебе общаться на \"ты\", если тебе это неудобно, скажи мне об этом. Нам предстоит пройти с тобой через тернистый и от того интересный путь анализа данных! Можешь не переживать, я всегда помогу тебе, если у тебя возникнут вопросы)\n",
    "\n",
    "По ходу твоей работы я буду оставлять свои комментарии, по выполненным тобой шагам. Попрошу тебя не удалять их, так мне будет проще отслеживать твой прогресс в случае повторной проверки.\n",
    "\n",
    "Очень важно вести диалог и обсуждать те пункты, которые у тебя могли не получиться, поэтому, ты можешь оставлять свои комментарии, и мы обязательно во всем разберемся! Самое главное - выделяй свои комментарии удобным для тебя способом (цвет, рамка), но так, чтобы они отчетлитво отличались от моих комментариев. Так мы ни в чем не запутаемся)\n",
    "\n",
    "Свои комментарии я буду выделять так: <font color='green'>зеленый</font>, <font color='gold'>желтый</font> и <font color='red'>красный</font> цвет, например:\n",
    "\n",
    "<br/>\n",
    "\n",
    "<div class=\"alert alert-success\">\n",
    "<h2> Комментарий ревьюера V1<a class=\"tocSkip\"> </h2>\n",
    "\n",
    "<b>Все отлично!👍:</b> Этот комментарий я буду оставлять, если твое решение оптимально для данного шага.\n",
    "</div>\n",
    "\n",
    "<br/>\n",
    "\n",
    "<div class=\"alert alert-warning\">\n",
    "    <h2> Комментарий ревьюера V1<a class=\"tocSkip\"> </h2>\n",
    "\n",
    "<b>Некоторые замечания и рекомендации💡:</b> Это не означает, что ты совершил ошибку. Такими комментариями я буду отмечать места, где ты справился с задачей, но её можно решить ещё лучше. Также в таких комментариях я буду оставлять для тебя другие советы.\n",
    "</div>\n",
    "\n",
    "\n",
    "<br/>\n",
    "<div class=\"alert alert-block alert-danger\">\n",
    "<h2> Комментарий ревьюера V1<a class=\"tocSkip\"></h2>\n",
    "\n",
    "\n",
    "<b>На доработку🤔:</b>\n",
    "Если решение, которое ты применил на определенном шаге, требует значительных изменений, то я буду оставлять такой комментарий. Тебе нужно будет подумать еще раз как правильным образом решить данный этап. Если ревью содержит такие комментарии, то я не смогу принять проект с первого раза.\n",
    "</div>\n",
    "\n",
    "P.S. В оглавлении комментария ты увидишь `V1` (`V1`, `V2`, `V3`) - это версия моего комментария, которая понадобится нам с тобой, чтобы не запутаться, если потребуется оставить тебе комментарии после первой проверки."
   ]
  },
  {
   "cell_type": "markdown",
   "metadata": {},
   "source": [
    "# Исследование объявлений о продаже квартир\n",
    "\n",
    "В вашем распоряжении данные сервиса Яндекс.Недвижимость — архив объявлений о продаже квартир в Санкт-Петербурге и соседних населённых пунктов за несколько лет. Нужно научиться определять рыночную стоимость объектов недвижимости. Ваша задача — установить параметры. Это позволит построить автоматизированную систему: она отследит аномалии и мошенническую деятельность. \n",
    "\n",
    "По каждой квартире на продажу доступны два вида данных. Первые вписаны пользователем, вторые — получены автоматически на основе картографических данных. Например, расстояние до центра, аэропорта, ближайшего парка и водоёма. "
   ]
  },
  {
   "cell_type": "markdown",
   "metadata": {},
   "source": [
    "<div class=\"alert alert-success\">\n",
    "<h2> Комментарий ревьюера V1<a class=\"tocSkip\"> </h2>\n",
    "\n",
    "<b>Все отлично!👍:</b> Молодец, что начинаешь проект с описания."
   ]
  },
  {
   "cell_type": "markdown",
   "metadata": {},
   "source": [
    "### Откройте файл с данными и изучите общую информацию. "
   ]
  },
  {
   "cell_type": "code",
   "execution_count": 1,
   "metadata": {},
   "outputs": [
    {
     "data": {
      "text/html": [
       "<div>\n",
       "<style scoped>\n",
       "    .dataframe tbody tr th:only-of-type {\n",
       "        vertical-align: middle;\n",
       "    }\n",
       "\n",
       "    .dataframe tbody tr th {\n",
       "        vertical-align: top;\n",
       "    }\n",
       "\n",
       "    .dataframe thead th {\n",
       "        text-align: right;\n",
       "    }\n",
       "</style>\n",
       "<table border=\"1\" class=\"dataframe\">\n",
       "  <thead>\n",
       "    <tr style=\"text-align: right;\">\n",
       "      <th></th>\n",
       "      <th>total_images</th>\n",
       "      <th>last_price</th>\n",
       "      <th>total_area</th>\n",
       "      <th>first_day_exposition</th>\n",
       "      <th>rooms</th>\n",
       "      <th>ceiling_height</th>\n",
       "      <th>floors_total</th>\n",
       "      <th>living_area</th>\n",
       "      <th>floor</th>\n",
       "      <th>is_apartment</th>\n",
       "      <th>...</th>\n",
       "      <th>kitchen_area</th>\n",
       "      <th>balcony</th>\n",
       "      <th>locality_name</th>\n",
       "      <th>airports_nearest</th>\n",
       "      <th>cityCenters_nearest</th>\n",
       "      <th>parks_around3000</th>\n",
       "      <th>parks_nearest</th>\n",
       "      <th>ponds_around3000</th>\n",
       "      <th>ponds_nearest</th>\n",
       "      <th>days_exposition</th>\n",
       "    </tr>\n",
       "  </thead>\n",
       "  <tbody>\n",
       "    <tr>\n",
       "      <th>0</th>\n",
       "      <td>20</td>\n",
       "      <td>13000000.0</td>\n",
       "      <td>108.00</td>\n",
       "      <td>2019-03-07T00:00:00</td>\n",
       "      <td>3</td>\n",
       "      <td>2.70</td>\n",
       "      <td>16.0</td>\n",
       "      <td>51.00</td>\n",
       "      <td>8</td>\n",
       "      <td>NaN</td>\n",
       "      <td>...</td>\n",
       "      <td>25.00</td>\n",
       "      <td>NaN</td>\n",
       "      <td>Санкт-Петербург</td>\n",
       "      <td>18863.0</td>\n",
       "      <td>16028.0</td>\n",
       "      <td>1.0</td>\n",
       "      <td>482.0</td>\n",
       "      <td>2.0</td>\n",
       "      <td>755.0</td>\n",
       "      <td>NaN</td>\n",
       "    </tr>\n",
       "    <tr>\n",
       "      <th>1</th>\n",
       "      <td>7</td>\n",
       "      <td>3350000.0</td>\n",
       "      <td>40.40</td>\n",
       "      <td>2018-12-04T00:00:00</td>\n",
       "      <td>1</td>\n",
       "      <td>NaN</td>\n",
       "      <td>11.0</td>\n",
       "      <td>18.60</td>\n",
       "      <td>1</td>\n",
       "      <td>NaN</td>\n",
       "      <td>...</td>\n",
       "      <td>11.00</td>\n",
       "      <td>2.0</td>\n",
       "      <td>посёлок Шушары</td>\n",
       "      <td>12817.0</td>\n",
       "      <td>18603.0</td>\n",
       "      <td>0.0</td>\n",
       "      <td>NaN</td>\n",
       "      <td>0.0</td>\n",
       "      <td>NaN</td>\n",
       "      <td>81.0</td>\n",
       "    </tr>\n",
       "    <tr>\n",
       "      <th>2</th>\n",
       "      <td>10</td>\n",
       "      <td>5196000.0</td>\n",
       "      <td>56.00</td>\n",
       "      <td>2015-08-20T00:00:00</td>\n",
       "      <td>2</td>\n",
       "      <td>NaN</td>\n",
       "      <td>5.0</td>\n",
       "      <td>34.30</td>\n",
       "      <td>4</td>\n",
       "      <td>NaN</td>\n",
       "      <td>...</td>\n",
       "      <td>8.30</td>\n",
       "      <td>0.0</td>\n",
       "      <td>Санкт-Петербург</td>\n",
       "      <td>21741.0</td>\n",
       "      <td>13933.0</td>\n",
       "      <td>1.0</td>\n",
       "      <td>90.0</td>\n",
       "      <td>2.0</td>\n",
       "      <td>574.0</td>\n",
       "      <td>558.0</td>\n",
       "    </tr>\n",
       "    <tr>\n",
       "      <th>3</th>\n",
       "      <td>0</td>\n",
       "      <td>64900000.0</td>\n",
       "      <td>159.00</td>\n",
       "      <td>2015-07-24T00:00:00</td>\n",
       "      <td>3</td>\n",
       "      <td>NaN</td>\n",
       "      <td>14.0</td>\n",
       "      <td>NaN</td>\n",
       "      <td>9</td>\n",
       "      <td>NaN</td>\n",
       "      <td>...</td>\n",
       "      <td>NaN</td>\n",
       "      <td>0.0</td>\n",
       "      <td>Санкт-Петербург</td>\n",
       "      <td>28098.0</td>\n",
       "      <td>6800.0</td>\n",
       "      <td>2.0</td>\n",
       "      <td>84.0</td>\n",
       "      <td>3.0</td>\n",
       "      <td>234.0</td>\n",
       "      <td>424.0</td>\n",
       "    </tr>\n",
       "    <tr>\n",
       "      <th>4</th>\n",
       "      <td>2</td>\n",
       "      <td>10000000.0</td>\n",
       "      <td>100.00</td>\n",
       "      <td>2018-06-19T00:00:00</td>\n",
       "      <td>2</td>\n",
       "      <td>3.03</td>\n",
       "      <td>14.0</td>\n",
       "      <td>32.00</td>\n",
       "      <td>13</td>\n",
       "      <td>NaN</td>\n",
       "      <td>...</td>\n",
       "      <td>41.00</td>\n",
       "      <td>NaN</td>\n",
       "      <td>Санкт-Петербург</td>\n",
       "      <td>31856.0</td>\n",
       "      <td>8098.0</td>\n",
       "      <td>2.0</td>\n",
       "      <td>112.0</td>\n",
       "      <td>1.0</td>\n",
       "      <td>48.0</td>\n",
       "      <td>121.0</td>\n",
       "    </tr>\n",
       "    <tr>\n",
       "      <th>5</th>\n",
       "      <td>10</td>\n",
       "      <td>2890000.0</td>\n",
       "      <td>30.40</td>\n",
       "      <td>2018-09-10T00:00:00</td>\n",
       "      <td>1</td>\n",
       "      <td>NaN</td>\n",
       "      <td>12.0</td>\n",
       "      <td>14.40</td>\n",
       "      <td>5</td>\n",
       "      <td>NaN</td>\n",
       "      <td>...</td>\n",
       "      <td>9.10</td>\n",
       "      <td>NaN</td>\n",
       "      <td>городской посёлок Янино-1</td>\n",
       "      <td>NaN</td>\n",
       "      <td>NaN</td>\n",
       "      <td>NaN</td>\n",
       "      <td>NaN</td>\n",
       "      <td>NaN</td>\n",
       "      <td>NaN</td>\n",
       "      <td>55.0</td>\n",
       "    </tr>\n",
       "    <tr>\n",
       "      <th>6</th>\n",
       "      <td>6</td>\n",
       "      <td>3700000.0</td>\n",
       "      <td>37.30</td>\n",
       "      <td>2017-11-02T00:00:00</td>\n",
       "      <td>1</td>\n",
       "      <td>NaN</td>\n",
       "      <td>26.0</td>\n",
       "      <td>10.60</td>\n",
       "      <td>6</td>\n",
       "      <td>NaN</td>\n",
       "      <td>...</td>\n",
       "      <td>14.40</td>\n",
       "      <td>1.0</td>\n",
       "      <td>посёлок Парголово</td>\n",
       "      <td>52996.0</td>\n",
       "      <td>19143.0</td>\n",
       "      <td>0.0</td>\n",
       "      <td>NaN</td>\n",
       "      <td>0.0</td>\n",
       "      <td>NaN</td>\n",
       "      <td>155.0</td>\n",
       "    </tr>\n",
       "    <tr>\n",
       "      <th>7</th>\n",
       "      <td>5</td>\n",
       "      <td>7915000.0</td>\n",
       "      <td>71.60</td>\n",
       "      <td>2019-04-18T00:00:00</td>\n",
       "      <td>2</td>\n",
       "      <td>NaN</td>\n",
       "      <td>24.0</td>\n",
       "      <td>NaN</td>\n",
       "      <td>22</td>\n",
       "      <td>NaN</td>\n",
       "      <td>...</td>\n",
       "      <td>18.90</td>\n",
       "      <td>2.0</td>\n",
       "      <td>Санкт-Петербург</td>\n",
       "      <td>23982.0</td>\n",
       "      <td>11634.0</td>\n",
       "      <td>0.0</td>\n",
       "      <td>NaN</td>\n",
       "      <td>0.0</td>\n",
       "      <td>NaN</td>\n",
       "      <td>NaN</td>\n",
       "    </tr>\n",
       "    <tr>\n",
       "      <th>8</th>\n",
       "      <td>20</td>\n",
       "      <td>2900000.0</td>\n",
       "      <td>33.16</td>\n",
       "      <td>2018-05-23T00:00:00</td>\n",
       "      <td>1</td>\n",
       "      <td>NaN</td>\n",
       "      <td>27.0</td>\n",
       "      <td>15.43</td>\n",
       "      <td>26</td>\n",
       "      <td>NaN</td>\n",
       "      <td>...</td>\n",
       "      <td>8.81</td>\n",
       "      <td>NaN</td>\n",
       "      <td>посёлок Мурино</td>\n",
       "      <td>NaN</td>\n",
       "      <td>NaN</td>\n",
       "      <td>NaN</td>\n",
       "      <td>NaN</td>\n",
       "      <td>NaN</td>\n",
       "      <td>NaN</td>\n",
       "      <td>189.0</td>\n",
       "    </tr>\n",
       "    <tr>\n",
       "      <th>9</th>\n",
       "      <td>18</td>\n",
       "      <td>5400000.0</td>\n",
       "      <td>61.00</td>\n",
       "      <td>2017-02-26T00:00:00</td>\n",
       "      <td>3</td>\n",
       "      <td>2.50</td>\n",
       "      <td>9.0</td>\n",
       "      <td>43.60</td>\n",
       "      <td>7</td>\n",
       "      <td>NaN</td>\n",
       "      <td>...</td>\n",
       "      <td>6.50</td>\n",
       "      <td>2.0</td>\n",
       "      <td>Санкт-Петербург</td>\n",
       "      <td>50898.0</td>\n",
       "      <td>15008.0</td>\n",
       "      <td>0.0</td>\n",
       "      <td>NaN</td>\n",
       "      <td>0.0</td>\n",
       "      <td>NaN</td>\n",
       "      <td>289.0</td>\n",
       "    </tr>\n",
       "  </tbody>\n",
       "</table>\n",
       "<p>10 rows × 22 columns</p>\n",
       "</div>"
      ],
      "text/plain": [
       "   total_images  last_price  total_area first_day_exposition  rooms  \\\n",
       "0            20  13000000.0      108.00  2019-03-07T00:00:00      3   \n",
       "1             7   3350000.0       40.40  2018-12-04T00:00:00      1   \n",
       "2            10   5196000.0       56.00  2015-08-20T00:00:00      2   \n",
       "3             0  64900000.0      159.00  2015-07-24T00:00:00      3   \n",
       "4             2  10000000.0      100.00  2018-06-19T00:00:00      2   \n",
       "5            10   2890000.0       30.40  2018-09-10T00:00:00      1   \n",
       "6             6   3700000.0       37.30  2017-11-02T00:00:00      1   \n",
       "7             5   7915000.0       71.60  2019-04-18T00:00:00      2   \n",
       "8            20   2900000.0       33.16  2018-05-23T00:00:00      1   \n",
       "9            18   5400000.0       61.00  2017-02-26T00:00:00      3   \n",
       "\n",
       "   ceiling_height  floors_total  living_area  floor is_apartment  ...  \\\n",
       "0            2.70          16.0        51.00      8          NaN  ...   \n",
       "1             NaN          11.0        18.60      1          NaN  ...   \n",
       "2             NaN           5.0        34.30      4          NaN  ...   \n",
       "3             NaN          14.0          NaN      9          NaN  ...   \n",
       "4            3.03          14.0        32.00     13          NaN  ...   \n",
       "5             NaN          12.0        14.40      5          NaN  ...   \n",
       "6             NaN          26.0        10.60      6          NaN  ...   \n",
       "7             NaN          24.0          NaN     22          NaN  ...   \n",
       "8             NaN          27.0        15.43     26          NaN  ...   \n",
       "9            2.50           9.0        43.60      7          NaN  ...   \n",
       "\n",
       "   kitchen_area  balcony              locality_name  airports_nearest  \\\n",
       "0         25.00      NaN            Санкт-Петербург           18863.0   \n",
       "1         11.00      2.0             посёлок Шушары           12817.0   \n",
       "2          8.30      0.0            Санкт-Петербург           21741.0   \n",
       "3           NaN      0.0            Санкт-Петербург           28098.0   \n",
       "4         41.00      NaN            Санкт-Петербург           31856.0   \n",
       "5          9.10      NaN  городской посёлок Янино-1               NaN   \n",
       "6         14.40      1.0          посёлок Парголово           52996.0   \n",
       "7         18.90      2.0            Санкт-Петербург           23982.0   \n",
       "8          8.81      NaN             посёлок Мурино               NaN   \n",
       "9          6.50      2.0            Санкт-Петербург           50898.0   \n",
       "\n",
       "  cityCenters_nearest  parks_around3000  parks_nearest  ponds_around3000  \\\n",
       "0             16028.0               1.0          482.0               2.0   \n",
       "1             18603.0               0.0            NaN               0.0   \n",
       "2             13933.0               1.0           90.0               2.0   \n",
       "3              6800.0               2.0           84.0               3.0   \n",
       "4              8098.0               2.0          112.0               1.0   \n",
       "5                 NaN               NaN            NaN               NaN   \n",
       "6             19143.0               0.0            NaN               0.0   \n",
       "7             11634.0               0.0            NaN               0.0   \n",
       "8                 NaN               NaN            NaN               NaN   \n",
       "9             15008.0               0.0            NaN               0.0   \n",
       "\n",
       "   ponds_nearest  days_exposition  \n",
       "0          755.0              NaN  \n",
       "1            NaN             81.0  \n",
       "2          574.0            558.0  \n",
       "3          234.0            424.0  \n",
       "4           48.0            121.0  \n",
       "5            NaN             55.0  \n",
       "6            NaN            155.0  \n",
       "7            NaN              NaN  \n",
       "8            NaN            189.0  \n",
       "9            NaN            289.0  \n",
       "\n",
       "[10 rows x 22 columns]"
      ]
     },
     "execution_count": 1,
     "metadata": {},
     "output_type": "execute_result"
    }
   ],
   "source": [
    "# Открываем файл и выводим первые 10 строк, общую информацию\n",
    "import pandas as pd\n",
    "data=pd.read_csv('/datasets/real_estate_data.csv', sep='\\t')\n",
    "data.head(10) # выводим первые 10 строк"
   ]
  },
  {
   "cell_type": "code",
   "execution_count": 2,
   "metadata": {},
   "outputs": [
    {
     "name": "stdout",
     "output_type": "stream",
     "text": [
      "<class 'pandas.core.frame.DataFrame'>\n",
      "RangeIndex: 23699 entries, 0 to 23698\n",
      "Data columns (total 22 columns):\n",
      " #   Column                Non-Null Count  Dtype  \n",
      "---  ------                --------------  -----  \n",
      " 0   total_images          23699 non-null  int64  \n",
      " 1   last_price            23699 non-null  float64\n",
      " 2   total_area            23699 non-null  float64\n",
      " 3   first_day_exposition  23699 non-null  object \n",
      " 4   rooms                 23699 non-null  int64  \n",
      " 5   ceiling_height        14504 non-null  float64\n",
      " 6   floors_total          23613 non-null  float64\n",
      " 7   living_area           21796 non-null  float64\n",
      " 8   floor                 23699 non-null  int64  \n",
      " 9   is_apartment          2775 non-null   object \n",
      " 10  studio                23699 non-null  bool   \n",
      " 11  open_plan             23699 non-null  bool   \n",
      " 12  kitchen_area          21421 non-null  float64\n",
      " 13  balcony               12180 non-null  float64\n",
      " 14  locality_name         23650 non-null  object \n",
      " 15  airports_nearest      18157 non-null  float64\n",
      " 16  cityCenters_nearest   18180 non-null  float64\n",
      " 17  parks_around3000      18181 non-null  float64\n",
      " 18  parks_nearest         8079 non-null   float64\n",
      " 19  ponds_around3000      18181 non-null  float64\n",
      " 20  ponds_nearest         9110 non-null   float64\n",
      " 21  days_exposition       20518 non-null  float64\n",
      "dtypes: bool(2), float64(14), int64(3), object(3)\n",
      "memory usage: 3.7+ MB\n"
     ]
    },
    {
     "data": {
      "text/plain": [
       "array([[<AxesSubplot:title={'center':'total_images'}>,\n",
       "        <AxesSubplot:title={'center':'last_price'}>,\n",
       "        <AxesSubplot:title={'center':'total_area'}>,\n",
       "        <AxesSubplot:title={'center':'rooms'}>],\n",
       "       [<AxesSubplot:title={'center':'ceiling_height'}>,\n",
       "        <AxesSubplot:title={'center':'floors_total'}>,\n",
       "        <AxesSubplot:title={'center':'living_area'}>,\n",
       "        <AxesSubplot:title={'center':'floor'}>],\n",
       "       [<AxesSubplot:title={'center':'kitchen_area'}>,\n",
       "        <AxesSubplot:title={'center':'balcony'}>,\n",
       "        <AxesSubplot:title={'center':'airports_nearest'}>,\n",
       "        <AxesSubplot:title={'center':'cityCenters_nearest'}>],\n",
       "       [<AxesSubplot:title={'center':'parks_around3000'}>,\n",
       "        <AxesSubplot:title={'center':'parks_nearest'}>,\n",
       "        <AxesSubplot:title={'center':'ponds_around3000'}>,\n",
       "        <AxesSubplot:title={'center':'ponds_nearest'}>],\n",
       "       [<AxesSubplot:title={'center':'days_exposition'}>, <AxesSubplot:>,\n",
       "        <AxesSubplot:>, <AxesSubplot:>]], dtype=object)"
      ]
     },
     "execution_count": 2,
     "metadata": {},
     "output_type": "execute_result"
    },
    {
     "data": {
      "image/png": "[encoded data removed]",
      "text/plain": [
       "<Figure size 1080x1440 with 20 Axes>"
      ]
     },
     "metadata": {
      "needs_background": "light"
     },
     "output_type": "display_data"
    }
   ],
   "source": [
    "data.info() # выводим общую информацию\n",
    "data.hist(figsize=(15, 20)) # построим общую гистограмму для всех числовых столбцов"
   ]
  },
  {
   "cell_type": "markdown",
   "metadata": {},
   "source": [
    "<div class=\"alert alert-warning\">\n",
    "<h2> Комментарий ревьюера V1<a class=\"tocSkip\"> </h2>\n",
    "\n",
    "<b>Некоторые замечания и рекомендации💡:</b> Не хватает каких либо выводов после того как ты посмотрела данные."
   ]
  },
  {
   "cell_type": "markdown",
   "metadata": {},
   "source": [
    "<div class=\"alert alert-block alert-info\">\n",
    "Что мы видим: много данных, а именно 23699 строк. Из них большая часть это числовые значения. Остановимся на названиях колонок. Площадь общая, площадь кухни, кол-во комнат, этаж, название места расположения, удаленность от центра и других объектов. На первый взгляд информации должно быть предостаточно для анализа. Посмотрим, на сколько мы правы после обрадотки данных."
   ]
  },
  {
   "cell_type": "markdown",
   "metadata": {},
   "source": [
    "<div class=\"alert alert-success\">\n",
    "<h2> Комментарий ревьюера V2<a class=\"tocSkip\"> </h2>\n",
    "\n",
    "<b>Все отлично!👍:</b> Все верно доработала."
   ]
  },
  {
   "cell_type": "markdown",
   "metadata": {},
   "source": [
    "### Предобработка данных"
   ]
  },
  {
   "cell_type": "markdown",
   "metadata": {},
   "source": [
    "Переведем некоторые значения в удобный для нас вид и правильный тип данных."
   ]
  },
  {
   "cell_type": "code",
   "execution_count": 3,
   "metadata": {},
   "outputs": [],
   "source": [
    "# Приведем названия столбцов в нижний регистр\n",
    "data.rename(columns={'cityCenters_nearest': 'city_centers_nearest'}, inplace=True)\n",
    "# Числа в названиях, конечно, нежелательно, но оставим так "
   ]
  },
  {
   "cell_type": "code",
   "execution_count": 4,
   "metadata": {},
   "outputs": [],
   "source": [
    "# Измененим тип first_day_exposition на datatime, чтобы работать с датой в дальнейшем было удобно\n",
    "data['first_day_exposition'] = pd.to_datetime(data['first_day_exposition'],format='%Y-%m-%dT%H:%M:%S')"
   ]
  },
  {
   "cell_type": "code",
   "execution_count": 5,
   "metadata": {},
   "outputs": [
    {
     "data": {
      "text/plain": [
       "Санкт-Петербург                   15721\n",
       "посёлок Мурино                      522\n",
       "посёлок Шушары                      440\n",
       "Всеволожск                          398\n",
       "Пушкин                              369\n",
       "                                  ...  \n",
       "посёлок городского типа Рябово        1\n",
       "деревня Большая Пустомержа            1\n",
       "поселок Жилгородок                    1\n",
       "деревня Лупполово                     1\n",
       "деревня Кривко                        1\n",
       "Name: locality_name, Length: 364, dtype: int64"
      ]
     },
     "execution_count": 5,
     "metadata": {},
     "output_type": "execute_result"
    }
   ],
   "source": [
    "# Посмотрим на названия локаций\n",
    "data['locality_name'].value_counts()"
   ]
  },
  {
   "cell_type": "code",
   "execution_count": 6,
   "metadata": {},
   "outputs": [
    {
     "data": {
      "text/plain": [
       "array(['санкт-петербург', 'поселок шушары', 'городской поселок янино-1',\n",
       "       'поселок парголово', 'поселок мурино', 'ломоносов', 'сертолово',\n",
       "       'петергоф', 'пушкин', 'деревня кудрово', 'коммунар', 'колпино',\n",
       "       'поселок городского типа красный бор', 'гатчина',\n",
       "       'деревня федоровское', 'выборг', 'кронштадт', 'кировск',\n",
       "       'деревня новое девяткино', 'поселок металлострой',\n",
       "       'поселок городского типа лебяжье',\n",
       "       'поселок городского типа сиверский', 'поселок молодцово',\n",
       "       'поселок городского типа кузьмоловский',\n",
       "       'садовое товарищество новая ропша', 'павловск',\n",
       "       'деревня пикколово', 'всеволожск', 'волхов', 'кингисепп',\n",
       "       'приозерск', 'сестрорецк', 'деревня куттузи', 'поселок аннино',\n",
       "       'поселок городского типа ефимовский', 'поселок плодовое',\n",
       "       'деревня заклинье', 'поселок торковичи', 'поселок первомайское',\n",
       "       'красное село', 'поселок понтонный', 'сясьстрой', 'деревня старая',\n",
       "       'деревня лесколово', 'поселок новый свет', 'сланцы',\n",
       "       'село путилово', 'ивангород', 'мурино', 'шлиссельбург',\n",
       "       'никольское', 'зеленогорск', 'сосновый бор', 'деревня оржицы',\n",
       "       'деревня кальтино', 'кудрово', 'поселок романовка',\n",
       "       'поселок бугры', 'поселок городского типа рощино', 'кириши',\n",
       "       'луга', 'волосово', 'отрадное', 'село павлово', 'поселок оредеж',\n",
       "       'село копорье', 'поселок молодежное', 'тихвин', 'поселок победа',\n",
       "       'деревня нурма', 'поселок городского типа синявино', 'тосно',\n",
       "       'поселок стрельна', 'бокситогорск', 'поселок александровская',\n",
       "       'деревня лопухинка', 'пикалево', 'поселок терволово',\n",
       "       'поселок городского типа советский', 'подпорожье',\n",
       "       'поселок петровское', 'поселок городского типа токсово',\n",
       "       'поселок сельцо', 'поселок городского типа вырица',\n",
       "       'деревня кипень', 'деревня келози', 'деревня вартемяги',\n",
       "       'поселок тельмана', 'поселок севастьяново',\n",
       "       'городской поселок большая ижора', nan,\n",
       "       'городской поселок павлово', 'деревня агалатово',\n",
       "       'поселок новогорелово', 'городской поселок лесогорский',\n",
       "       'деревня лаголово', 'поселок цвелодубово',\n",
       "       'поселок городского типа рахья', 'деревня белогорка',\n",
       "       'поселок заводской', 'городской поселок новоселье',\n",
       "       'деревня большие колпаны', 'деревня горбунки', 'деревня батово',\n",
       "       'деревня заневка', 'деревня иссад', 'приморск',\n",
       "       'городской поселок федоровское', 'деревня мистолово',\n",
       "       'новая ладога', 'поселок зимитицы', 'поселок барышево',\n",
       "       'деревня разметелево', 'поселок городского типа имени свердлова',\n",
       "       'деревня пеники', 'поселок рябово', 'деревня пудомяги',\n",
       "       'поселок станции корнево', 'деревня низино', 'деревня бегуницы',\n",
       "       'поселок поляны', 'городской поселок мга', 'поселок елизаветино',\n",
       "       'поселок городского типа кузнечное', 'деревня колтуши',\n",
       "       'поселок запорожское', 'деревня гостилицы',\n",
       "       'деревня малое карлино', 'поселок мичуринское',\n",
       "       'поселок городского типа имени морозова', 'поселок песочный',\n",
       "       'поселок сосново', 'деревня аро', 'поселок ильичево',\n",
       "       'поселок городского типа тайцы', 'деревня малое верево',\n",
       "       'деревня извара', 'поселок станции вещево', 'село паша',\n",
       "       'деревня калитино', 'поселок городского типа ульяновка',\n",
       "       'деревня чудской бор', 'поселок городского типа дубровка',\n",
       "       'деревня мины', 'поселок войсковицы', 'деревня коркино',\n",
       "       'поселок ропша', 'поселок городского типа приладожский',\n",
       "       'поселок щеглово', 'поселок гаврилово', 'лодейное поле',\n",
       "       'деревня рабитицы', 'поселок городского типа никольский',\n",
       "       'деревня кузьмолово', 'деревня малые колпаны',\n",
       "       'поселок петро-славянка', 'городской поселок назия',\n",
       "       'поселок репино', 'поселок углово', 'поселок старая малукса',\n",
       "       'садовое товарищество рахья', 'деревня меньково',\n",
       "       'деревня старые бегуницы', 'поселок саперный', 'поселок семрино',\n",
       "       'поселок глажево', 'поселок кобринское', 'деревня гарболово',\n",
       "       'деревня юкки', 'поселок станции приветнинское',\n",
       "       'деревня мануйлово', 'деревня пчева', 'поселок цвылево',\n",
       "       'поселок мельниково', 'поселок пудость', 'поселок усть-луга',\n",
       "       'светогорск', 'любань', 'поселок селезнево',\n",
       "       'поселок городского типа рябово', 'каменногорск', 'деревня кривко',\n",
       "       'поселок глебычево', 'деревня парицы', 'поселок жилпоселок',\n",
       "       'поселок городского типа мга', 'поселок войскорово',\n",
       "       'село никольское', 'поселок стеклянный',\n",
       "       'поселок городского типа важины', 'поселок мыза-ивановка',\n",
       "       'село русско-высоцкое', 'поселок городского типа форносово',\n",
       "       'село старая ладога', 'поселок житково',\n",
       "       'городской поселок виллози', 'деревня лампово',\n",
       "       'деревня шпаньково', 'деревня лаврики', 'поселок сумино',\n",
       "       'поселок возрождение', 'деревня старосиверская',\n",
       "       'поселок кикерино', 'деревня старое хинколово',\n",
       "       'поселок пригородный', 'поселок торфяное',\n",
       "       'городской поселок будогощь', 'поселок суходолье',\n",
       "       'поселок красная долина', 'деревня хапо-ое',\n",
       "       'поселок городского типа дружная горка', 'поселок лисий нос',\n",
       "       'деревня яльгелево', 'село рождествено', 'деревня старополье',\n",
       "       'поселок левашово', 'деревня сяськелево', 'деревня камышовка',\n",
       "       'садоводческое некоммерческое товарищество лесная поляна',\n",
       "       'деревня хязельки', 'поселок жилгородок',\n",
       "       'поселок городского типа павлово', 'деревня ялгино',\n",
       "       'поселок новый учхоз', 'городской поселок рощино',\n",
       "       'поселок гончарово', 'поселок почап', 'поселок саперное',\n",
       "       'поселок платформа 69-й километр', 'поселок каложицы',\n",
       "       'деревня фалилеево', 'деревня пельгора',\n",
       "       'поселок городского типа лесогорский', 'деревня торошковичи',\n",
       "       'поселок белоостров', 'поселок алексеевка', 'поселок серебрянский',\n",
       "       'поселок лукаши', 'деревня щеглово', 'деревня тарасово',\n",
       "       'поселок кингисеппский',\n",
       "       'поселок при железнодорожной станции вещево', 'поселок ушаки',\n",
       "       'деревня котлы', 'деревня сижно', 'деревня торосово',\n",
       "       'поселок форт красная горка', 'деревня новолисино',\n",
       "       'поселок станции громово', 'деревня глинка',\n",
       "       'поселок городского типа назия', 'деревня старая пустошь',\n",
       "       'поселок коммунары', 'поселок починок',\n",
       "       'поселок городского типа вознесенье', 'деревня разбегаево',\n",
       "       'поселок гладкое',\n",
       "       'поселок при железнодорожной станции приветнинское',\n",
       "       'поселок тесово-4', 'деревня бор', 'поселок коробицыно',\n",
       "       'деревня большая вруда', 'деревня курковицы',\n",
       "       'городской поселок советский', 'поселок кобралово',\n",
       "       'деревня суоранда', 'поселок городского типа кондратьево',\n",
       "       'коттеджный поселок счастье', 'поселок любань', 'деревня реброво',\n",
       "       'деревня зимитицы', 'деревня тойворово', 'поселок семиозерье',\n",
       "       'поселок лесное', 'поселок совхозный', 'поселок ленинское',\n",
       "       'поселок суйда', 'деревня нижние осельки', 'поселок станции свирь',\n",
       "       'поселок перово', 'высоцк', 'поселок гарболово', 'село шум',\n",
       "       'поселок котельский', 'поселок станции лужайка',\n",
       "       'деревня большая пустомержа', 'поселок красносельское',\n",
       "       'деревня вахнова кара', 'деревня пижма',\n",
       "       'коттеджный поселок кивеннапа север', 'поселок ромашки',\n",
       "       'деревня каськово', 'деревня куровицы', 'поселок плоское',\n",
       "       'поселок городского типа большая ижора', 'поселок кирпичное',\n",
       "       'деревня ям-тесово', 'деревня раздолье', 'деревня терпилицы',\n",
       "       'поселок шугозеро', 'деревня ваганово', 'поселок пушное',\n",
       "       'садовое товарищество садко', 'поселок усть-ижора',\n",
       "       'деревня выскатка', 'городской поселок свирьстрой',\n",
       "       'поселок громово', 'деревня кисельня', 'деревня трубников бор',\n",
       "       'поселок калитино', 'поселок высокоключевой',\n",
       "       'садовое товарищество приладожский',\n",
       "       'поселок пансионат зеленый бор', 'деревня ненимяки',\n",
       "       'деревня снегиревка', 'деревня рапполово', 'деревня пустынка',\n",
       "       'поселок рабитицы', 'деревня большой сабск', 'деревня русско',\n",
       "       'деревня лупполово', 'деревня большое рейзино',\n",
       "       'деревня малая романовка', 'поселок дружноселье', 'поселок пчевжа',\n",
       "       'поселок володарское', 'деревня нижняя',\n",
       "       'коттеджный поселок лесное', 'деревня тихковицы',\n",
       "       'деревня борисова грива', 'поселок дзержинского'], dtype=object)"
      ]
     },
     "execution_count": 6,
     "metadata": {},
     "output_type": "execute_result"
    }
   ],
   "source": [
    "# На первый взгляд видно разницу в названиях, где-то в слове \"поселок\" стоит е, а где-то ё. Приведем все к общему виду\n",
    "data['locality_name']=(data['locality_name'].str.replace('ё', 'е'))\n",
    "data['locality_name']= data['locality_name'].str.lower()\n",
    "\n",
    "# Разберемся с разницей формулировки типов населенных пунктов\n",
    "data['locality_name'].unique()"
   ]
  },
  {
   "cell_type": "code",
   "execution_count": 7,
   "metadata": {},
   "outputs": [
    {
     "data": {
      "text/plain": [
       "array(['санкт-петербург', 'поселок шушары',\n",
       "       'поселок городского типа янино-1', 'поселок парголово',\n",
       "       'поселок мурино', 'ломоносов', 'сертолово', 'петергоф', 'пушкин',\n",
       "       'деревня кудрово', 'коммунар', 'колпино',\n",
       "       'поселок городского типа красный бор', 'гатчина',\n",
       "       'деревня федоровское', 'выборг', 'кронштадт', 'кировск',\n",
       "       'деревня новое девяткино', 'поселок металлострой',\n",
       "       'поселок городского типа лебяжье',\n",
       "       'поселок городского типа сиверский', 'поселок молодцово',\n",
       "       'поселок городского типа кузьмоловский',\n",
       "       'садовое товарищество новая ропша', 'павловск',\n",
       "       'деревня пикколово', 'всеволожск', 'волхов', 'кингисепп',\n",
       "       'приозерск', 'сестрорецк', 'деревня куттузи', 'поселок аннино',\n",
       "       'поселок городского типа ефимовский', 'поселок плодовое',\n",
       "       'деревня заклинье', 'поселок торковичи', 'поселок первомайское',\n",
       "       'красное село', 'поселок понтонный', 'сясьстрой', 'деревня старая',\n",
       "       'деревня лесколово', 'поселок новый свет', 'сланцы',\n",
       "       'село путилово', 'ивангород', 'мурино', 'шлиссельбург',\n",
       "       'никольское', 'зеленогорск', 'сосновый бор', 'деревня оржицы',\n",
       "       'деревня кальтино', 'кудрово', 'поселок романовка',\n",
       "       'поселок бугры', 'поселок городского типа рощино', 'кириши',\n",
       "       'луга', 'волосово', 'отрадное', 'село павлово', 'поселок оредеж',\n",
       "       'село копорье', 'поселок молодежное', 'тихвин', 'поселок победа',\n",
       "       'деревня нурма', 'поселок городского типа синявино', 'тосно',\n",
       "       'поселок стрельна', 'бокситогорск', 'поселок александровская',\n",
       "       'деревня лопухинка', 'пикалево', 'поселок терволово',\n",
       "       'поселок городского типа советский', 'подпорожье',\n",
       "       'поселок петровское', 'поселок городского типа токсово',\n",
       "       'поселок сельцо', 'поселок городского типа вырица',\n",
       "       'деревня кипень', 'деревня келози', 'деревня вартемяги',\n",
       "       'поселок тельмана', 'поселок севастьяново',\n",
       "       'поселок городского типа большая ижора', nan,\n",
       "       'поселок городского типа павлово', 'деревня агалатово',\n",
       "       'поселок новогорелово', 'поселок городского типа лесогорский',\n",
       "       'деревня лаголово', 'поселок цвелодубово',\n",
       "       'поселок городского типа рахья', 'деревня белогорка',\n",
       "       'поселок заводской', 'поселок городского типа новоселье',\n",
       "       'деревня большие колпаны', 'деревня горбунки', 'деревня батово',\n",
       "       'деревня заневка', 'деревня иссад', 'приморск',\n",
       "       'поселок городского типа федоровское', 'деревня мистолово',\n",
       "       'новая ладога', 'поселок зимитицы', 'поселок барышево',\n",
       "       'деревня разметелево', 'поселок городского типа имени свердлова',\n",
       "       'деревня пеники', 'поселок рябово', 'деревня пудомяги',\n",
       "       'поселок станции корнево', 'деревня низино', 'деревня бегуницы',\n",
       "       'поселок поляны', 'поселок городского типа мга',\n",
       "       'поселок елизаветино', 'поселок городского типа кузнечное',\n",
       "       'деревня колтуши', 'поселок запорожское', 'деревня гостилицы',\n",
       "       'деревня малое карлино', 'поселок мичуринское',\n",
       "       'поселок городского типа имени морозова', 'поселок песочный',\n",
       "       'поселок сосново', 'деревня аро', 'поселок ильичево',\n",
       "       'поселок городского типа тайцы', 'деревня малое верево',\n",
       "       'деревня извара', 'поселок станции вещево', 'село паша',\n",
       "       'деревня калитино', 'поселок городского типа ульяновка',\n",
       "       'деревня чудской бор', 'поселок городского типа дубровка',\n",
       "       'деревня мины', 'поселок войсковицы', 'деревня коркино',\n",
       "       'поселок ропша', 'поселок городского типа приладожский',\n",
       "       'поселок щеглово', 'поселок гаврилово', 'лодейное поле',\n",
       "       'деревня рабитицы', 'поселок городского типа никольский',\n",
       "       'деревня кузьмолово', 'деревня малые колпаны',\n",
       "       'поселок петро-славянка', 'поселок городского типа назия',\n",
       "       'поселок репино', 'поселок углово', 'поселок старая малукса',\n",
       "       'садовое товарищество рахья', 'деревня меньково',\n",
       "       'деревня старые бегуницы', 'поселок саперный', 'поселок семрино',\n",
       "       'поселок глажево', 'поселок кобринское', 'деревня гарболово',\n",
       "       'деревня юкки', 'поселок станции приветнинское',\n",
       "       'деревня мануйлово', 'деревня пчева', 'поселок цвылево',\n",
       "       'поселок мельниково', 'поселок пудость', 'поселок усть-луга',\n",
       "       'светогорск', 'любань', 'поселок селезнево',\n",
       "       'поселок городского типа рябово', 'каменногорск', 'деревня кривко',\n",
       "       'поселок глебычево', 'деревня парицы', 'поселок жилпоселок',\n",
       "       'поселок войскорово', 'село никольское', 'поселок стеклянный',\n",
       "       'поселок городского типа важины', 'поселок мыза-ивановка',\n",
       "       'село русско-высоцкое', 'поселок городского типа форносово',\n",
       "       'село старая ладога', 'поселок житково',\n",
       "       'поселок городского типа виллози', 'деревня лампово',\n",
       "       'деревня шпаньково', 'деревня лаврики', 'поселок сумино',\n",
       "       'поселок возрождение', 'деревня старосиверская',\n",
       "       'поселок кикерино', 'деревня старое хинколово',\n",
       "       'поселок пригородный', 'поселок торфяное',\n",
       "       'поселок городского типа будогощь', 'поселок суходолье',\n",
       "       'поселок красная долина', 'деревня хапо-ое',\n",
       "       'поселок городского типа дружная горка', 'поселок лисий нос',\n",
       "       'деревня яльгелево', 'село рождествено', 'деревня старополье',\n",
       "       'поселок левашово', 'деревня сяськелево', 'деревня камышовка',\n",
       "       'садоводческое некоммерческое товарищество лесная поляна',\n",
       "       'деревня хязельки', 'поселок жилгородок', 'деревня ялгино',\n",
       "       'поселок новый учхоз', 'поселок гончарово', 'поселок почап',\n",
       "       'поселок саперное', 'поселок платформа 69-й километр',\n",
       "       'поселок каложицы', 'деревня фалилеево', 'деревня пельгора',\n",
       "       'деревня торошковичи', 'поселок белоостров', 'поселок алексеевка',\n",
       "       'поселок серебрянский', 'поселок лукаши', 'деревня щеглово',\n",
       "       'деревня тарасово', 'поселок кингисеппский',\n",
       "       'поселок при железнодорожной станции вещево', 'поселок ушаки',\n",
       "       'деревня котлы', 'деревня сижно', 'деревня торосово',\n",
       "       'поселок форт красная горка', 'деревня новолисино',\n",
       "       'поселок станции громово', 'деревня глинка',\n",
       "       'деревня старая пустошь', 'поселок коммунары', 'поселок починок',\n",
       "       'поселок городского типа вознесенье', 'деревня разбегаево',\n",
       "       'поселок гладкое',\n",
       "       'поселок при железнодорожной станции приветнинское',\n",
       "       'поселок тесово-4', 'деревня бор', 'поселок коробицыно',\n",
       "       'деревня большая вруда', 'деревня курковицы', 'поселок кобралово',\n",
       "       'деревня суоранда', 'поселок городского типа кондратьево',\n",
       "       'коттеджный поселок счастье', 'поселок любань', 'деревня реброво',\n",
       "       'деревня зимитицы', 'деревня тойворово', 'поселок семиозерье',\n",
       "       'поселок лесное', 'поселок совхозный', 'поселок ленинское',\n",
       "       'поселок суйда', 'деревня нижние осельки', 'поселок станции свирь',\n",
       "       'поселок перово', 'высоцк', 'поселок гарболово', 'село шум',\n",
       "       'поселок котельский', 'поселок станции лужайка',\n",
       "       'деревня большая пустомержа', 'поселок красносельское',\n",
       "       'деревня вахнова кара', 'деревня пижма',\n",
       "       'коттеджный поселок кивеннапа север', 'поселок ромашки',\n",
       "       'деревня каськово', 'деревня куровицы', 'поселок плоское',\n",
       "       'поселок кирпичное', 'деревня ям-тесово', 'деревня раздолье',\n",
       "       'деревня терпилицы', 'поселок шугозеро', 'деревня ваганово',\n",
       "       'поселок пушное', 'садовое товарищество садко',\n",
       "       'поселок усть-ижора', 'деревня выскатка',\n",
       "       'поселок городского типа свирьстрой', 'поселок громово',\n",
       "       'деревня кисельня', 'деревня трубников бор', 'поселок калитино',\n",
       "       'поселок высокоключевой', 'садовое товарищество приладожский',\n",
       "       'поселок пансионат зеленый бор', 'деревня ненимяки',\n",
       "       'деревня снегиревка', 'деревня рапполово', 'деревня пустынка',\n",
       "       'поселок рабитицы', 'деревня большой сабск', 'деревня русско',\n",
       "       'деревня лупполово', 'деревня большое рейзино',\n",
       "       'деревня малая романовка', 'поселок дружноселье', 'поселок пчевжа',\n",
       "       'поселок володарское', 'деревня нижняя',\n",
       "       'коттеджный поселок лесное', 'деревня тихковицы',\n",
       "       'деревня борисова грива', 'поселок дзержинского'], dtype=object)"
      ]
     },
     "execution_count": 7,
     "metadata": {},
     "output_type": "execute_result"
    }
   ],
   "source": [
    "# Разберемся с разницей формулировки типов населенных пунктов, а именно поменяем городской поселок на поселок городского типа\n",
    "data['locality_name'] = data['locality_name'].str.replace('городской поселок','поселок городского типа')\n",
    "\n",
    "data['locality_name'].unique()"
   ]
  },
  {
   "cell_type": "markdown",
   "metadata": {},
   "source": [
    "<div class=\"alert alert-block alert-info\">\n",
    "Мы не меняем названия типа деревня кудрово на кудрово, так как возможно есть отдельная деревня и есть город в районе Питера с аналогичным названием.  "
   ]
  },
  {
   "cell_type": "markdown",
   "metadata": {},
   "source": [
    "<div class=\"alert alert-warning\">\n",
    "<h2> Комментарий ревьюера V1<a class=\"tocSkip\"> </h2>\n",
    "\n",
    "<b>Некоторые замечания и рекомендации💡:</b> Правильно заменила ё на е, но только это не все неявные дубликаты, есть еще разница в формулировках типов населенных пунктов."
   ]
  },
  {
   "cell_type": "markdown",
   "metadata": {},
   "source": [
    "<div class=\"alert alert-success\">\n",
    "<h2> Комментарий ревьюера V2<a class=\"tocSkip\"> </h2>\n",
    "\n",
    "<b>Все отлично!👍:</b> Такая ситуация могла бы возникнуть с достаточной вероятностью, если бы мы рассматривали, например, всю Россию, а в рамках Санкт-Петербурга и области, это маловероятно."
   ]
  },
  {
   "cell_type": "markdown",
   "metadata": {},
   "source": [
    "Теперь разберемся с дубликатами и пропусками."
   ]
  },
  {
   "cell_type": "code",
   "execution_count": 8,
   "metadata": {},
   "outputs": [
    {
     "data": {
      "text/plain": [
       "0"
      ]
     },
     "execution_count": 8,
     "metadata": {},
     "output_type": "execute_result"
    }
   ],
   "source": [
    "# Выявляем явные дубликаты и считаем их кол-во\n",
    "data.duplicated().sum()"
   ]
  },
  {
   "cell_type": "code",
   "execution_count": 9,
   "metadata": {},
   "outputs": [
    {
     "data": {
      "text/plain": [
       "total_images                0\n",
       "last_price                  0\n",
       "total_area                  0\n",
       "first_day_exposition        0\n",
       "rooms                       0\n",
       "ceiling_height           9195\n",
       "floors_total               86\n",
       "living_area              1903\n",
       "floor                       0\n",
       "is_apartment            20924\n",
       "studio                      0\n",
       "open_plan                   0\n",
       "kitchen_area             2278\n",
       "balcony                 11519\n",
       "locality_name              49\n",
       "airports_nearest         5542\n",
       "city_centers_nearest     5519\n",
       "parks_around3000         5518\n",
       "parks_nearest           15620\n",
       "ponds_around3000         5518\n",
       "ponds_nearest           14589\n",
       "days_exposition          3181\n",
       "dtype: int64"
      ]
     },
     "execution_count": 9,
     "metadata": {},
     "output_type": "execute_result"
    }
   ],
   "source": [
    "# Дубликатов нет, это замечательно.Проверяем на пропуски и считаем их кол-во\n",
    "data.isna().sum()"
   ]
  },
  {
   "cell_type": "markdown",
   "metadata": {},
   "source": [
    "Как мы видим, пропусков предостаточно, но не все мы можем удалить или заменить. Например, в колонке \"жилая площадь\" мы не можем заменить пропуск на 0, а удаление пропущенного значения может привести к неверному анализу данных. Поэтому оставим такие пропуски как есть. В колонке балкон также много пропусков, но это можно объяснить просто неимением такого. Поэтому в данном случае пропуски можем заменить на 0. В колонке апартаменты также пропуски могут означать, что квартира просто жилая, значит заменим все пропуски на False. Пропуски в высоте потолков мы можем заменить на медианное или среднее значение.\n"
   ]
  },
  {
   "cell_type": "code",
   "execution_count": 10,
   "metadata": {},
   "outputs": [
    {
     "data": {
      "text/plain": [
       "0"
      ]
     },
     "execution_count": 10,
     "metadata": {},
     "output_type": "execute_result"
    }
   ],
   "source": [
    "# Заменим пропуски на 0 в столбце 'balcony' \n",
    "data['balcony'] = data['balcony'].fillna(0)\n",
    "# Проверяем\n",
    "data['balcony'].isna().sum()"
   ]
  },
  {
   "cell_type": "code",
   "execution_count": 11,
   "metadata": {},
   "outputs": [
    {
     "data": {
      "text/plain": [
       "0"
      ]
     },
     "execution_count": 11,
     "metadata": {},
     "output_type": "execute_result"
    }
   ],
   "source": [
    "# Заменяем пропуски в колонке 'is_apartment' \n",
    "data['is_apartment']=data['is_apartment'].fillna('False')\n",
    "# Меняем тип данных для апартаментов с object на bool\n",
    "data['is_apartment']=data['is_apartment'].astype('bool')\n",
    "# Проверяем наличие пропусков\n",
    "data['is_apartment'].isna().sum()"
   ]
  },
  {
   "cell_type": "markdown",
   "metadata": {},
   "source": [
    "<div class=\"alert alert-success\">\n",
    "<h2> Комментарий ревьюера V1<a class=\"tocSkip\"> </h2>\n",
    "\n",
    "<b>Все отлично!👍:</b> Правильно обработала пропуски в признаке количества балконов и апартаментов."
   ]
  },
  {
   "cell_type": "code",
   "execution_count": 12,
   "metadata": {},
   "outputs": [
    {
     "data": {
      "text/plain": [
       "array([  2.7 ,    nan,   3.03,   2.5 ,   2.67,   2.56,   3.05,   2.75,\n",
       "         2.6 ,   2.9 ,   2.8 ,   2.55,   3.  ,   2.65,   3.2 ,   2.61,\n",
       "         3.25,   3.45,   2.77,   2.85,   2.64,   2.57,   4.15,   3.5 ,\n",
       "         3.3 ,   2.71,   4.  ,   2.47,   2.73,   2.84,   3.1 ,   2.34,\n",
       "         3.4 ,   3.06,   2.72,   2.54,   2.51,   2.78,   2.76,  25.  ,\n",
       "         2.58,   3.7 ,   2.52,   5.2 ,   2.87,   2.66,   2.59,   2.  ,\n",
       "         2.45,   3.6 ,   2.92,   3.11,   3.13,   3.8 ,   3.15,   3.55,\n",
       "         3.16,   3.62,   3.12,   2.53,   2.74,   2.96,   2.46,   5.3 ,\n",
       "         5.  ,   2.79,   2.95,   4.06,   2.94,   3.82,   3.54,   3.53,\n",
       "         2.83,   4.7 ,   2.4 ,   3.38,   3.01,   5.6 ,   3.65,   3.9 ,\n",
       "         3.18,   3.35,   2.3 ,   3.57,   2.48,   2.62,   2.82,   3.98,\n",
       "         2.63,   3.83,   3.52,   3.95,   3.75,   2.88,   3.67,   3.87,\n",
       "         3.66,   3.85,   3.86,   4.19,   3.24,   4.8 ,   4.5 ,   4.2 ,\n",
       "         3.36,  32.  ,   3.08,   3.68,   3.07,   3.37,   3.09,   8.  ,\n",
       "         3.26,   3.34,   2.81,   3.44,   2.97,   3.14,   4.37,   2.68,\n",
       "         3.22,   3.27,  27.  ,   4.1 ,   2.93,   3.46,  24.  ,   3.47,\n",
       "         3.33,   3.63,   3.32,  26.  ,   1.2 ,   8.3 ,   2.98,   2.86,\n",
       "         3.17,   4.4 ,   3.28,   3.04,   4.45,   5.5 ,   3.84,   3.23,\n",
       "         3.02,   3.21,   3.43,   3.78,   4.3 ,   3.39,   2.69,   3.31,\n",
       "         4.65,   3.56,   2.2 ,   3.51,   3.93,   3.42,   2.99,   3.49,\n",
       "        14.  ,   4.14,   2.91,   3.88,   1.75,   4.25,   3.29,  20.  ,\n",
       "         2.25,   3.76,   3.69,   6.  ,  22.6 ,   2.89,   3.58,   5.8 ,\n",
       "        27.5 ,   2.49,   4.9 ,   3.48,  10.3 ,   1.  , 100.  ,   3.59])"
      ]
     },
     "execution_count": 12,
     "metadata": {},
     "output_type": "execute_result"
    }
   ],
   "source": [
    "# Посмотрим на пропуски в высоте потолков. Выведем уникальные значения  столбца 'ceiling_height', чтобы выявить аномалии.\n",
    "data['ceiling_height'].unique()"
   ]
  },
  {
   "cell_type": "markdown",
   "metadata": {},
   "source": [
    "В столбце 'ceiling_height' при выявлении аномалий мы обнаружили интересные данные. Например, наличие квартир с высотой потолка аж 25 метров. Это явная опечатка, так что такие данные мы смело можем исправить(25 м = 2.5 м). А вот высота 100 м, 14 м или вообще 1м исправить на правильное значение будет трудно. Такие значения явно выбросы, так что мы от них избавимся для более точного анализа. "
   ]
  },
  {
   "cell_type": "code",
   "execution_count": 13,
   "metadata": {},
   "outputs": [
    {
     "data": {
      "text/plain": [
       "array([ 2.7 ,   nan,  3.03,  2.5 ,  2.67,  2.56,  3.05,  2.75,  2.6 ,\n",
       "        2.9 ,  2.8 ,  2.55,  3.  ,  2.65,  3.2 ,  2.61,  3.25,  3.45,\n",
       "        2.77,  2.85,  2.64,  2.57,  4.15,  3.5 ,  3.3 ,  2.71,  4.  ,\n",
       "        2.47,  2.73,  2.84,  3.1 ,  2.34,  3.4 ,  3.06,  2.72,  2.54,\n",
       "        2.51,  2.78,  2.76,  2.58,  3.7 ,  2.52,  5.2 ,  2.87,  2.66,\n",
       "        2.59,  2.  ,  2.45,  3.6 ,  2.92,  3.11,  3.13,  3.8 ,  3.15,\n",
       "        3.55,  3.16,  3.62,  3.12,  2.53,  2.74,  2.96,  2.46,  5.3 ,\n",
       "        5.  ,  2.79,  2.95,  4.06,  2.94,  3.82,  3.54,  3.53,  2.83,\n",
       "        4.7 ,  2.4 ,  3.38,  3.01,  5.6 ,  3.65,  3.9 ,  3.18,  3.35,\n",
       "        2.3 ,  3.57,  2.48,  2.62,  2.82,  3.98,  2.63,  3.83,  3.52,\n",
       "        3.95,  3.75,  2.88,  3.67,  3.87,  3.66,  3.85,  3.86,  4.19,\n",
       "        3.24,  4.8 ,  4.5 ,  4.2 ,  3.36,  3.08,  3.68,  3.07,  3.37,\n",
       "        3.09,  8.  ,  3.26,  3.34,  2.81,  3.44,  2.97,  3.14,  4.37,\n",
       "        2.68,  3.22,  3.27,  4.1 ,  2.93,  3.46,  3.47,  3.33,  3.63,\n",
       "        3.32,  1.2 ,  8.3 ,  2.98,  2.86,  3.17,  4.4 ,  3.28,  3.04,\n",
       "        4.45,  5.5 ,  3.84,  3.23,  3.02,  3.21,  3.43,  3.78,  4.3 ,\n",
       "        3.39,  2.69,  3.31,  4.65,  3.56,  2.2 ,  3.51,  3.93,  3.42,\n",
       "        2.99,  3.49, 14.  ,  4.14,  2.91,  3.88,  1.75,  4.25,  3.29,\n",
       "       20.  ,  2.25,  3.76,  3.69,  6.  ,  2.26,  2.89,  3.58,  5.8 ,\n",
       "        2.49,  4.9 ,  3.48, 10.3 ,  1.  , 10.  ,  3.59])"
      ]
     },
     "execution_count": 13,
     "metadata": {},
     "output_type": "execute_result"
    }
   ],
   "source": [
    "# Исправляем некорректные значения в столбце 'ceiling_height'\n",
    "data.loc[(data['ceiling_height']>20), 'ceiling_height'] = data.loc[(data['ceiling_height']>20), 'ceiling_height']/10  \n",
    "\n",
    "data['ceiling_height'].unique()"
   ]
  },
  {
   "cell_type": "markdown",
   "metadata": {},
   "source": [
    "<div class=\"alert alert-block alert-info\">\n",
    "Исправила код на более красивый)"
   ]
  },
  {
   "cell_type": "markdown",
   "metadata": {},
   "source": [
    "<div class=\"alert alert-warning\">\n",
    "<h2> Комментарий ревьюера V1<a class=\"tocSkip\"> </h2>\n",
    "\n",
    "<b>Некоторые замечания и рекомендации💡:</b> Правильно обработала аномальные значения в высоте потолков, только это можно было сделать не вручную изменяя данные, а с помощью метода loc, все значения больше 20 поделить на 10."
   ]
  },
  {
   "cell_type": "markdown",
   "metadata": {},
   "source": [
    "<div class=\"alert alert-success\">\n",
    "<h2> Комментарий ревьюера V2<a class=\"tocSkip\"> </h2>\n",
    "\n",
    "<b>Все отлично!👍:</b> Отлично, все правильно доработала, продолжай в том же духе!"
   ]
  },
  {
   "cell_type": "code",
   "execution_count": 14,
   "metadata": {},
   "outputs": [
    {
     "data": {
      "text/plain": [
       "array([ 2.7 ,   nan,  3.03,  2.5 ,  2.67,  2.56,  3.05,  2.75,  2.6 ,\n",
       "        2.9 ,  2.8 ,  2.55,  3.  ,  2.65,  3.2 ,  2.61,  3.25,  3.45,\n",
       "        2.77,  2.85,  2.64,  2.57,  4.15,  3.5 ,  3.3 ,  2.71,  4.  ,\n",
       "        2.47,  2.73,  2.84,  3.1 ,  2.34,  3.4 ,  3.06,  2.72,  2.54,\n",
       "        2.51,  2.78,  2.76,  2.58,  3.7 ,  2.52,  5.2 ,  2.87,  2.66,\n",
       "        2.59,  2.  ,  2.45,  3.6 ,  2.92,  3.11,  3.13,  3.8 ,  3.15,\n",
       "        3.55,  3.16,  3.62,  3.12,  2.53,  2.74,  2.96,  2.46,  5.3 ,\n",
       "        5.  ,  2.79,  2.95,  4.06,  2.94,  3.82,  3.54,  3.53,  2.83,\n",
       "        4.7 ,  2.4 ,  3.38,  3.01,  5.6 ,  3.65,  3.9 ,  3.18,  3.35,\n",
       "        2.3 ,  3.57,  2.48,  2.62,  2.82,  3.98,  2.63,  3.83,  3.52,\n",
       "        3.95,  3.75,  2.88,  3.67,  3.87,  3.66,  3.85,  3.86,  4.19,\n",
       "        3.24,  4.8 ,  4.5 ,  4.2 ,  3.36,  3.08,  3.68,  3.07,  3.37,\n",
       "        3.09,  8.  ,  3.26,  3.34,  2.81,  3.44,  2.97,  3.14,  4.37,\n",
       "        2.68,  3.22,  3.27,  4.1 ,  2.93,  3.46,  3.47,  3.33,  3.63,\n",
       "        3.32,  1.2 ,  8.3 ,  2.98,  2.86,  3.17,  4.4 ,  3.28,  3.04,\n",
       "        4.45,  5.5 ,  3.84,  3.23,  3.02,  3.21,  3.43,  3.78,  4.3 ,\n",
       "        3.39,  2.69,  3.31,  4.65,  3.56,  2.2 ,  3.51,  3.93,  3.42,\n",
       "        2.99,  3.49, 14.  ,  4.14,  2.91,  3.88,  1.75,  4.25,  3.29,\n",
       "       20.  ,  2.25,  3.76,  3.69,  6.  ,  2.26,  2.89,  3.58,  5.8 ,\n",
       "        2.49,  4.9 ,  3.48, 10.3 ,  1.  , 10.  ,  3.59])"
      ]
     },
     "execution_count": 14,
     "metadata": {},
     "output_type": "execute_result"
    }
   ],
   "source": [
    "# Проверяем замену значений\n",
    "data['ceiling_height'].unique()  "
   ]
  },
  {
   "cell_type": "markdown",
   "metadata": {},
   "source": [
    "<div class=\"alert alert-block alert-info\">\n",
    "Так как большое кол-во данных пропущенно, а сами данные не совсем равнозначные, то любая замена пропущенных значений может привести к сильному искажению статистики выборки, поэтому оставим пропуски как есть."
   ]
  },
  {
   "cell_type": "markdown",
   "metadata": {},
   "source": [
    "<div class=\"alert alert-block alert-danger\">\n",
    "<h2> Комментарий ревьюера V1<a class=\"tocSkip\"></h2>\n",
    "\n",
    "\n",
    "<b>На доработку🤔:</b>\n",
    "Нельзя обработать такое большое количество пропусков таким образом, чтобы это не исказило статистик выборки и результатов анализа. В данном случае лучше оставить пропуски как есть."
   ]
  },
  {
   "cell_type": "markdown",
   "metadata": {},
   "source": [
    "<div class=\"alert alert-success\">\n",
    "<h2> Комментарий ревьюера V2<a class=\"tocSkip\"> </h2>\n",
    "\n",
    "<b>Все отлично!👍:</b> Именно так, все верно."
   ]
  },
  {
   "cell_type": "markdown",
   "metadata": {},
   "source": [
    "Теперь разберемся с так называевыми выбросами. Проверим все столбцы, где они могут быть и избавимся от них, если это возможно."
   ]
  },
  {
   "cell_type": "code",
   "execution_count": 15,
   "metadata": {},
   "outputs": [
    {
     "data": {
      "text/plain": [
       "array([[<AxesSubplot:title={'center':'ceiling_height'}>]], dtype=object)"
      ]
     },
     "execution_count": 15,
     "metadata": {},
     "output_type": "execute_result"
    },
    {
     "data": {
      "image/png": "[encoded data removed]",
      "text/plain": [
       "<Figure size 432x288 with 1 Axes>"
      ]
     },
     "metadata": {
      "needs_background": "light"
     },
     "output_type": "display_data"
    }
   ],
   "source": [
    "# Убираем выбросы(высота менее 2м и более 8) в потолках и построим гистограмму \n",
    "data = data.query('2<ceiling_height<8')\n",
    "data.hist('ceiling_height', bins=30, range=(0,6))"
   ]
  },
  {
   "cell_type": "markdown",
   "metadata": {},
   "source": [
    "<div class=\"alert alert-success\">\n",
    "<h2> Комментарий ревьюера V1<a class=\"tocSkip\"> </h2>\n",
    "\n",
    "<b>Все отлично!👍:</b> Выбросы отбросила правильно, молодец."
   ]
  },
  {
   "cell_type": "code",
   "execution_count": 16,
   "metadata": {},
   "outputs": [
    {
     "data": {
      "text/plain": [
       "array([[<AxesSubplot:title={'center':'rooms'}>]], dtype=object)"
      ]
     },
     "execution_count": 16,
     "metadata": {},
     "output_type": "execute_result"
    },
    {
     "data": {
      "image/png": "[encoded data removed]",
      "text/plain": [
       "<Figure size 432x288 with 1 Axes>"
      ]
     },
     "metadata": {
      "needs_background": "light"
     },
     "output_type": "display_data"
    }
   ],
   "source": [
    "# Посмотрим на данные по кол-ву комнат в квартирах\n",
    "data.hist('rooms', bins=30, range=(0, 15))"
   ]
  },
  {
   "cell_type": "markdown",
   "metadata": {},
   "source": [
    "Срез делать не стоит, потому что планировка может быть разная, а там, где 0 комнат, это может быть и апартаменты.Пока оставим как есть\n"
   ]
  },
  {
   "cell_type": "code",
   "execution_count": 17,
   "metadata": {},
   "outputs": [
    {
     "data": {
      "text/plain": [
       "array([ 25.  ,  41.  ,   6.5 ,   8.5 ,   5.2 ,   9.  ,   5.6 ,  12.  ,\n",
       "        11.  ,   6.1 ,  15.  ,   9.2 ,  11.7 ,  13.4 ,   8.  ,    nan,\n",
       "        11.6 ,   8.8 ,  10.  ,  17.6 ,   7.5 ,   7.  ,   8.3 ,   6.  ,\n",
       "        50.  ,  10.7 ,  11.1 ,  11.9 ,  16.  ,   5.3 ,  11.5 ,   7.2 ,\n",
       "         6.2 ,   7.1 ,   4.9 ,   7.3 ,  11.95,  10.2 ,   5.5 ,  13.  ,\n",
       "        20.  ,   6.3 ,  18.3 ,   8.4 ,   5.  ,  24.  ,  17.  ,  26.85,\n",
       "        15.4 ,   7.8 ,  33.8 ,   7.6 ,  12.72,  12.2 ,  19.  ,   7.9 ,\n",
       "        10.3 ,   9.8 ,  17.5 ,  14.7 ,  21.3 ,  10.6 ,   7.7 ,  12.5 ,\n",
       "        10.4 ,   5.7 ,  11.4 ,   8.6 ,  14.1 ,  10.9 ,  12.9 ,  21.5 ,\n",
       "        35.  ,  10.5 ,   8.2 ,   9.5 ,   8.7 ,  49.2 ,   9.6 ,  14.2 ,\n",
       "         8.1 ,  10.44,  14.4 ,   5.4 ,  16.3 ,   6.4 ,   7.4 ,  11.3 ,\n",
       "         9.4 ,  13.1 ,   8.9 ,  10.19,  16.5 ,  11.2 ,  22.  ,  30.  ,\n",
       "        36.  ,  10.8 ,   9.9 ,  18.  ,  19.4 ,   4.5 ,  11.8 ,   9.7 ,\n",
       "        17.7 ,   5.1 ,  21.1 ,  14.  ,  13.5 ,  13.2 ,  17.2 ,  77.  ,\n",
       "        12.3 ,   9.3 ,   9.28,  13.8 ,  16.1 ,  14.5 ,  15.5 ,  23.1 ,\n",
       "        10.1 ,  23.  ,  16.2 ,  19.2 ,  28.6 ,  13.3 ,  15.1 ,  26.4 ,\n",
       "        10.59,  11.27,   9.57,  23.43,  15.2 ,   8.07,  13.39,  36.6 ,\n",
       "        15.3 ,  18.5 ,  23.9 ,  19.9 ,  22.1 ,  10.69,  16.9 ,   5.49,\n",
       "        31.2 ,   6.8 ,   6.7 ,  13.6 ,  16.6 ,  10.75,  18.8 ,  17.8 ,\n",
       "         2.  ,   5.8 ,  11.06,  12.6 ,  11.35,  63.  ,  11.24,   6.6 ,\n",
       "        21.  ,  20.6 ,  11.78,  20.52,   5.75,  66.  ,   9.1 ,  23.5 ,\n",
       "        24.3 ,   6.9 ,  14.8 ,  19.5 ,   8.87,   8.71,  12.7 ,   9.95,\n",
       "         9.36,  15.7 ,   9.67,  14.61,  32.  ,   5.9 ,  16.7 ,  16.4 ,\n",
       "         6.36,  27.  ,  12.4 ,  17.1 ,  20.5 ,   9.18,  15.61,  40.  ,\n",
       "        22.31,   9.45,  29.  ,  14.49,   5.35,  29.9 ,  25.1 ,   8.08,\n",
       "         6.25,  26.  ,  35.35,  12.8 ,  30.2 ,  46.  ,  14.56,  11.49,\n",
       "        13.67,  16.72,  11.14,  14.9 ,  17.9 ,   4.  ,   8.21,  12.18,\n",
       "        25.34,   9.25,  13.9 ,  13.53,   9.39,  15.9 ,  24.7 ,  20.8 ,\n",
       "        27.4 ,   7.17,   3.  ,   8.23,   9.17,  43.  ,  13.7 ,  11.39,\n",
       "        19.92,  18.6 ,  11.81,  18.45,  10.51,  39.  ,  10.91,  37.8 ,\n",
       "         4.8 ,   5.78,  11.28,  21.2 ,   9.68,   8.25,  18.9 ,   4.7 ,\n",
       "        17.4 ,  18.1 ,  17.3 ,   6.35,  23.3 ,  14.6 ,  12.1 ,  10.88,\n",
       "         6.76,  10.29,  25.6 ,  21.87,   3.2 ,  10.39,  10.89,  10.55,\n",
       "         3.8 ,  36.2 ,   9.22,   5.62,  38.  ,  21.9 ,  19.1 ,  12.17,\n",
       "        19.8 ,   4.2 ,   7.89,  15.6 ,  31.7 ,  24.4 ,  19.7 ,  30.9 ,\n",
       "        60.  ,  12.05,   9.27,  15.33,   6.58,   9.93,  25.3 ,  13.05,\n",
       "        36.5 ,  15.8 ,  15.69,  42.  ,  48.  ,  14.3 ,  30.5 ,  29.3 ,\n",
       "        45.  ,  44.  ,  13.38,  26.6 ,   6.55,   6.72,  13.02,  11.17,\n",
       "        28.  ,  25.2 ,  56.2 ,  28.2 ,  12.29,  11.59,   8.38,   5.47,\n",
       "        10.64,  10.09,  12.92,  23.53,  37.7 ,  14.05,  13.42,  32.8 ,\n",
       "        20.16,  10.12,   7.12,  17.64,  23.25,  11.41,  40.4 ,  31.47,\n",
       "        13.55,  13.28,  14.55,   9.38,   8.32,  11.55,  13.81,  24.1 ,\n",
       "         7.65,   9.91, 100.  ,  10.84,  34.19,  18.7 ,  20.1 ,   7.18,\n",
       "        10.56,  23.8 ,  19.3 ,   8.05,   8.06,  12.96,  21.4 ,  44.9 ,\n",
       "         9.72,  10.78,  11.18,  51.  ,  18.2 ,  21.8 ,  11.85,  10.94,\n",
       "        13.49,  42.4 ,  28.8 ,  25.7 ,   5.86,   7.63,  29.4 ,  11.47,\n",
       "        20.9 ,  13.25,  19.35,  17.28,  39.9 ,  23.4 ,   8.19,  28.4 ,\n",
       "        11.12,  31.  ,  25.11,  14.02,  13.06,   8.01,   8.65,  20.38,\n",
       "         5.53,  17.85,  20.7 ,  34.78,   9.46,   6.31,  11.57,  14.46,\n",
       "        43.4 ,  24.5 ,   7.95,  12.23,  21.7 ,  11.37,  19.51,  20.3 ,\n",
       "        41.9 ,   6.82,  11.36,  10.08,  37.  ,  14.95,   8.76,  10.03,\n",
       "        22.5 ,   9.35,  45.5 ,  22.7 ,   7.36,   9.85,  33.9 ,  42.8 ,\n",
       "         5.25,  11.11,  12.85,   9.51,  58.4 ,  10.34,  23.71,   6.83,\n",
       "        11.92,  13.27,  11.84,  12.56,  53.1 ,  41.3 ,   9.01,   5.82,\n",
       "         3.7 ,   2.4 ,  31.8 ,  42.7 ,  40.5 ,  12.02,  18.4 ,  12.76,\n",
       "         8.66,  15.83,  18.59,  14.04,  11.31,  13.93,   7.54,  13.69,\n",
       "        13.64,   5.61,  19.45,  17.59,  29.1 ,  15.42,  11.09,  15.72,\n",
       "         7.85,  13.41,   5.23,   9.09,  14.64,  16.66,   3.5 ,  12.55,\n",
       "        32.55,   6.62,  10.33,  16.8 ,  13.26,  32.3 ,  14.14,   9.62,\n",
       "        15.85,   7.78,  34.7 ,   8.45,  15.62,  10.18,   9.16,  22.3 ,\n",
       "        14.17,  15.39,   8.84,  27.9 ,  33.  ,  32.1 ,   9.52,  34.  ,\n",
       "        28.1 ,   4.6 ,  10.49,  15.07,  20.31,   9.65,   9.98,  37.9 ,\n",
       "        25.9 ,  47.  ,  51.8 ,  14.27,  19.61,   9.44,  27.76,  25.86,\n",
       "        26.2 ,   8.35,  19.6 ,  10.27,  29.5 ,  10.73,  13.84,   6.19,\n",
       "        28.5 ,  22.4 ,  16.25,  23.6 ,   4.4 ,  43.2 ,  27.5 ,   6.28,\n",
       "        12.01,  13.35,   3.4 ,   8.96,  27.3 ,  10.35,  35.5 ,  22.2 ,\n",
       "        10.43,   4.1 ,  10.15,   7.19,  62.  ,  34.3 ,  48.5 ,  30.6 ,\n",
       "        10.74,  13.24,   5.91,   9.43,  20.92,  33.1 ,  10.37,   6.27,\n",
       "        26.8 ,   8.31,  12.37,  22.6 ,  12.35,  33.6 ,  15.54,   6.23,\n",
       "        15.35,  37.5 ,  21.82,  34.1 ,  13.47,  56.  ,  43.8 ,  29.09,\n",
       "         6.33,  24.8 ,   5.64,  10.52,  22.43,  32.7 ,   5.44,   6.22,\n",
       "         7.41,  75.  ,  34.51,  31.73,  35.6 ,  54.3 ,  28.7 ,   3.3 ,\n",
       "        62.5 ,  11.25,   5.42,  13.31,  13.52,  26.9 ,  35.4 ,  13.95,\n",
       "        70.  ,   9.34,  64.  ,  37.78,  29.8 ,   6.95,  16.05,  11.65,\n",
       "        38.1 ,  10.86,   8.85,  14.65,  16.45,   7.84,  93.2 ,  11.05,\n",
       "        17.12,   5.28,  12.53,  14.51,   9.31,  31.6 ,  72.  ,  36.4 ,\n",
       "        10.05,   6.93,  15.15,  32.9 ,  55.7 ,  24.89,  22.78,  21.6 ,\n",
       "        16.47,  38.86,  22.46,  17.06,  13.74,  19.21,  31.5 ,  11.53,\n",
       "        12.11,  10.17,  10.63,  12.71,   9.42,  20.77,  28.64,  11.67,\n",
       "        13.86,  24.2 ,  12.87,  14.33,  39.7 ,  10.54,   5.06,  14.29,\n",
       "         8.52,  13.32,  35.9 ,  14.93,  31.4 ,   6.61,  20.4 ,   6.65,\n",
       "        19.19,  20.24,  13.77,  28.3 ,  53.  ,  14.58,   9.19,   8.67,\n",
       "        21.22, 112.  ,  12.57,  12.03,  10.24,   9.05,  19.28,  32.6 ,\n",
       "        12.69,  12.24,  10.26,  11.64,  26.1 ,   1.3 ,  55.5 ,  48.3 ,\n",
       "         8.77,  36.3 ,   9.08,  50.2 ,  15.03,  16.38,  12.43,  58.  ,\n",
       "        24.6 ,  11.33,  49.4 ,  12.83,  10.72,  26.5 ,  12.25,   8.48,\n",
       "        28.56,  18.34,  11.69,  14.85,  15.18,   8.02,   7.71,   8.95,\n",
       "         9.73,  10.46,  26.7 ,  15.24,   8.18,  11.93,  11.07,   7.09,\n",
       "         7.03,  12.27,  10.79,  14.98,   5.14,  65.  ,   5.59,  22.9 ,\n",
       "        35.1 ,  10.95,   9.26,  17.44,  40.1 ,   5.85,   6.24,  30.8 ,\n",
       "        10.22,  18.55,  17.87,  11.44,  13.83])"
      ]
     },
     "execution_count": 17,
     "metadata": {},
     "output_type": "execute_result"
    }
   ],
   "source": [
    "# Проверим кухни\n",
    "data['kitchen_area'].unique()"
   ]
  },
  {
   "cell_type": "code",
   "execution_count": 18,
   "metadata": {},
   "outputs": [
    {
     "data": {
      "text/plain": [
       "array([[<AxesSubplot:title={'center':'kitchen_area'}>]], dtype=object)"
      ]
     },
     "execution_count": 18,
     "metadata": {},
     "output_type": "execute_result"
    },
    {
     "data": {
      "image/png": "[encoded data removed]",
      "text/plain": [
       "<Figure size 432x288 with 1 Axes>"
      ]
     },
     "metadata": {
      "needs_background": "light"
     },
     "output_type": "display_data"
    }
   ],
   "source": [
    "# Опять видим неккоректные данные,будем исправлять\n",
    "data.loc[(data['kitchen_area']>50), 'kitchen_area'] = data.loc[(data['kitchen_area']>50), 'kitchen_area']/10\n",
    "# Построим гистограмму\n",
    "data.hist('kitchen_area', bins=50, range=(0, 50))"
   ]
  },
  {
   "cell_type": "markdown",
   "metadata": {},
   "source": [
    "<div class=\"alert alert-block alert-info\">\n",
    "Тут тоже исправила код"
   ]
  },
  {
   "cell_type": "markdown",
   "metadata": {},
   "source": [
    "<div class=\"alert alert-warning\">\n",
    "<h2> Комментарий ревьюера V1<a class=\"tocSkip\"> </h2>\n",
    "\n",
    "<b>Некоторые замечания и рекомендации💡:</b> Аналогичный комментарий, попробуй одной строчкой выполнить такую замену."
   ]
  },
  {
   "cell_type": "markdown",
   "metadata": {},
   "source": [
    "<div class=\"alert alert-success\">\n",
    "<h2> Комментарий ревьюера V2<a class=\"tocSkip\"> </h2>\n",
    "\n",
    "<b>Все отлично!👍:</b> Продолжай в том же духе!"
   ]
  },
  {
   "cell_type": "code",
   "execution_count": 19,
   "metadata": {},
   "outputs": [
    {
     "data": {
      "text/plain": [
       "array([[<AxesSubplot:title={'center':'kitchen_area'}>]], dtype=object)"
      ]
     },
     "execution_count": 19,
     "metadata": {},
     "output_type": "execute_result"
    },
    {
     "data": {
      "image/png": "[encoded data removed]",
      "text/plain": [
       "<Figure size 432x288 with 1 Axes>"
      ]
     },
     "metadata": {
      "needs_background": "light"
     },
     "output_type": "display_data"
    }
   ],
   "source": [
    "# Сделаем срез площади кухни. Так как размеры кухни меньше 5 кв.м. и больше 30 кв.м. маловероятны, то исключаем их \n",
    "data = data.query('5 < kitchen_area < 30')\n",
    "\n",
    "data.hist('kitchen_area', bins=30, range=(0,40))"
   ]
  },
  {
   "cell_type": "code",
   "execution_count": 20,
   "metadata": {},
   "outputs": [
    {
     "data": {
      "text/plain": [
       "array([[<AxesSubplot:title={'center':'last_price'}>]], dtype=object)"
      ]
     },
     "execution_count": 20,
     "metadata": {},
     "output_type": "execute_result"
    },
    {
     "data": {
      "image/png": "[encoded data removed]",
      "text/plain": [
       "<Figure size 432x288 with 1 Axes>"
      ]
     },
     "metadata": {
      "needs_background": "light"
     },
     "output_type": "display_data"
    },
    {
     "data": {
      "image/png": "[encoded data removed]",
      "text/plain": [
       "<Figure size 432x288 with 1 Axes>"
      ]
     },
     "metadata": {
      "needs_background": "light"
     },
     "output_type": "display_data"
    }
   ],
   "source": [
    "# Проверим стоимость квартир с помощью графика\n",
    "\n",
    "data.hist('last_price', bins=60, range=(0,2e+07))\n",
    "data.hist('last_price', bins=60, range=(0,4e+06)) # Увеличили масштаб \n"
   ]
  },
  {
   "cell_type": "code",
   "execution_count": 21,
   "metadata": {},
   "outputs": [
    {
     "data": {
      "text/plain": [
       "array([[<AxesSubplot:title={'center':'last_price'}>]], dtype=object)"
      ]
     },
     "execution_count": 21,
     "metadata": {},
     "output_type": "execute_result"
    },
    {
     "data": {
      "image/png": "[encoded data removed]",
      "text/plain": [
       "<Figure size 432x288 with 1 Axes>"
      ]
     },
     "metadata": {
      "needs_background": "light"
     },
     "output_type": "display_data"
    },
    {
     "data": {
      "image/png": "[encoded data removed]",
      "text/plain": [
       "<Figure size 432x288 with 1 Axes>"
      ]
     },
     "metadata": {
      "needs_background": "light"
     },
     "output_type": "display_data"
    }
   ],
   "source": [
    "# На гистограмме видно, что есть квартиры, стоимостью меньше 1 млн руб. Возможно, это квартиры в старом фонде.\n",
    "# Квартиры с высокой ценой лучше убрать, так как их мало, но они могут повлиять на анализ.\n",
    "data = data.query('600000<last_price<30000000')\n",
    "        \n",
    "data.hist('last_price', bins=60, range=(0,2e+07))\n",
    "data.hist('last_price', bins=60, range=(0,4e+06)) # Увеличили масштаб "
   ]
  },
  {
   "cell_type": "code",
   "execution_count": 22,
   "metadata": {},
   "outputs": [
    {
     "data": {
      "text/plain": [
       "array([[<AxesSubplot:title={'center':'total_area'}>]], dtype=object)"
      ]
     },
     "execution_count": 22,
     "metadata": {},
     "output_type": "execute_result"
    },
    {
     "data": {
      "image/png": "[encoded data removed]",
      "text/plain": [
       "<Figure size 432x288 with 1 Axes>"
      ]
     },
     "metadata": {
      "needs_background": "light"
     },
     "output_type": "display_data"
    },
    {
     "data": {
      "image/png": "[encoded data removed]",
      "text/plain": [
       "<Figure size 432x288 with 1 Axes>"
      ]
     },
     "metadata": {
      "needs_background": "light"
     },
     "output_type": "display_data"
    },
    {
     "data": {
      "image/png": "[encoded data removed]",
      "text/plain": [
       "<Figure size 432x288 with 1 Axes>"
      ]
     },
     "metadata": {
      "needs_background": "light"
     },
     "output_type": "display_data"
    }
   ],
   "source": [
    "# Проверим общую площадь квартир\n",
    "data.hist('total_area', bins=50, range=(0, 400))\n",
    "data.hist('total_area', bins=50, range=(10, 40))\n",
    "data.hist('total_area', bins=50, range=(100, 400))"
   ]
  },
  {
   "cell_type": "markdown",
   "metadata": {},
   "source": [
    "Мы наблюдаем такую картину: есть квартиры с очень низкой площадью(менее 20 кв м). Их мало, так что можно не учитывать. так же есть квартиры с большой площадью( более 250 кв м), ихтак же можно не учитывать."
   ]
  },
  {
   "cell_type": "code",
   "execution_count": 23,
   "metadata": {},
   "outputs": [
    {
     "data": {
      "text/plain": [
       "array([[<AxesSubplot:title={'center':'total_area'}>]], dtype=object)"
      ]
     },
     "execution_count": 23,
     "metadata": {},
     "output_type": "execute_result"
    },
    {
     "data": {
      "image/png": "[encoded data removed]",
      "text/plain": [
       "<Figure size 432x288 with 1 Axes>"
      ]
     },
     "metadata": {
      "needs_background": "light"
     },
     "output_type": "display_data"
    }
   ],
   "source": [
    "#Сделаем срез\n",
    "data = data.query('20<total_area<200')\n",
    "data.hist('total_area', bins=50, range=(0, 300))   \n"
   ]
  },
  {
   "cell_type": "code",
   "execution_count": 24,
   "metadata": {},
   "outputs": [
    {
     "data": {
      "text/plain": [
       "array([[<AxesSubplot:title={'center':'living_area'}>]], dtype=object)"
      ]
     },
     "execution_count": 24,
     "metadata": {},
     "output_type": "execute_result"
    },
    {
     "data": {
      "image/png": "[encoded data removed]",
      "text/plain": [
       "<Figure size 432x288 with 1 Axes>"
      ]
     },
     "metadata": {
      "needs_background": "light"
     },
     "output_type": "display_data"
    }
   ],
   "source": [
    "# Рассмотрим жилую площадь\n",
    "data.hist('living_area', bins=50, range=(0,200))"
   ]
  },
  {
   "cell_type": "code",
   "execution_count": 25,
   "metadata": {},
   "outputs": [
    {
     "data": {
      "text/plain": [
       "array([51.  , 43.6 , 20.3 , ..., 29.81, 30.75, 13.59])"
      ]
     },
     "execution_count": 25,
     "metadata": {},
     "output_type": "execute_result"
    }
   ],
   "source": [
    "data['living_area'].unique()"
   ]
  },
  {
   "cell_type": "code",
   "execution_count": 26,
   "metadata": {},
   "outputs": [
    {
     "data": {
      "text/plain": [
       "array([[<AxesSubplot:title={'center':'living_area'}>]], dtype=object)"
      ]
     },
     "execution_count": 26,
     "metadata": {},
     "output_type": "execute_result"
    },
    {
     "data": {
      "image/png": "[encoded data removed]",
      "text/plain": [
       "<Figure size 432x288 with 1 Axes>"
      ]
     },
     "metadata": {
      "needs_background": "light"
     },
     "output_type": "display_data"
    }
   ],
   "source": [
    "# Опять уберем выбросы в виде слижком низкой и слишком высокой площади\n",
    "data = data.query('10<living_area<80')\n",
    "data.hist('living_area', bins=50, range=(0, 90))"
   ]
  },
  {
   "cell_type": "code",
   "execution_count": 27,
   "metadata": {},
   "outputs": [
    {
     "data": {
      "text/plain": [
       "array([[<AxesSubplot:title={'center':'floors_total'}>]], dtype=object)"
      ]
     },
     "execution_count": 27,
     "metadata": {},
     "output_type": "execute_result"
    },
    {
     "data": {
      "image/png": "[encoded data removed]",
      "text/plain": [
       "<Figure size 432x288 with 1 Axes>"
      ]
     },
     "metadata": {
      "needs_background": "light"
     },
     "output_type": "display_data"
    }
   ],
   "source": [
    "# Рассмотрим этажность домов\n",
    "data.hist('floors_total', bins=20, range=(0,40))"
   ]
  },
  {
   "cell_type": "code",
   "execution_count": 28,
   "metadata": {},
   "outputs": [
    {
     "data": {
      "text/plain": [
       "5.0     3052\n",
       "9.0     2353\n",
       "12.0     772\n",
       "16.0     765\n",
       "10.0     672\n",
       "4.0      614\n",
       "25.0     463\n",
       "6.0      449\n",
       "17.0     449\n",
       "14.0     306\n",
       "3.0      301\n",
       "7.0      295\n",
       "18.0     224\n",
       "24.0     197\n",
       "15.0     192\n",
       "2.0      167\n",
       "23.0     165\n",
       "8.0      156\n",
       "22.0     125\n",
       "20.0     123\n",
       "19.0     105\n",
       "13.0      93\n",
       "11.0      87\n",
       "27.0      62\n",
       "26.0      49\n",
       "21.0      46\n",
       "28.0       9\n",
       "1.0        7\n",
       "35.0       6\n",
       "36.0       2\n",
       "29.0       1\n",
       "60.0       1\n",
       "52.0       1\n",
       "Name: floors_total, dtype: int64"
      ]
     },
     "execution_count": 28,
     "metadata": {},
     "output_type": "execute_result"
    }
   ],
   "source": [
    "data['floors_total'].value_counts()"
   ]
  },
  {
   "cell_type": "code",
   "execution_count": 29,
   "metadata": {},
   "outputs": [
    {
     "data": {
      "text/plain": [
       "array([[<AxesSubplot:title={'center':'floors_total'}>]], dtype=object)"
      ]
     },
     "execution_count": 29,
     "metadata": {},
     "output_type": "execute_result"
    },
    {
     "data": {
      "image/png": "[encoded data removed]",
      "text/plain": [
       "<Figure size 432x288 with 1 Axes>"
      ]
     },
     "metadata": {
      "needs_background": "light"
     },
     "output_type": "display_data"
    }
   ],
   "source": [
    "# Итак, как мы видим, есть 5 домов одиночек в своей категории, есть 3 дома в 36 этажей и несколько домов в 1, 28 и 35 этажей.\n",
    "# Их можно смело \"выбросить\".\n",
    "\n",
    "data = data.query('floors_total <= 30')\n",
    "data.hist('floors_total', bins=20, range=(0, 40))\n"
   ]
  },
  {
   "cell_type": "code",
   "execution_count": 30,
   "metadata": {},
   "outputs": [
    {
     "data": {
      "text/plain": [
       "array([[<AxesSubplot:title={'center':'floor'}>]], dtype=object)"
      ]
     },
     "execution_count": 30,
     "metadata": {},
     "output_type": "execute_result"
    },
    {
     "data": {
      "image/png": "[encoded data removed]",
      "text/plain": [
       "<Figure size 432x288 with 1 Axes>"
      ]
     },
     "metadata": {
      "needs_background": "light"
     },
     "output_type": "display_data"
    }
   ],
   "source": [
    "# Теперь рассмотрим этажи, на которых располагаются наши квартиры\n",
    "data.hist('floor', bins=30, range=(0,35))"
   ]
  },
  {
   "cell_type": "code",
   "execution_count": 31,
   "metadata": {},
   "outputs": [
    {
     "data": {
      "text/plain": [
       "2     1774\n",
       "3     1597\n",
       "1     1544\n",
       "4     1519\n",
       "5     1395\n",
       "6      672\n",
       "7      660\n",
       "8      580\n",
       "9      573\n",
       "10     347\n",
       "11     264\n",
       "12     250\n",
       "13     179\n",
       "15     159\n",
       "14     151\n",
       "16     145\n",
       "17      97\n",
       "18      75\n",
       "19      64\n",
       "21      56\n",
       "20      53\n",
       "22      48\n",
       "23      43\n",
       "24      23\n",
       "25      19\n",
       "26      10\n",
       "27       2\n",
       "Name: floor, dtype: int64"
      ]
     },
     "execution_count": 31,
     "metadata": {},
     "output_type": "execute_result"
    }
   ],
   "source": [
    "data['floor'].value_counts() # посмотрим уникальные значения"
   ]
  },
  {
   "cell_type": "markdown",
   "metadata": {},
   "source": [
    "Как мы видим, квартиры на продажу не выходят за границы 33 этажа. Очень мало квартир продается выше 27 этажа, так что можем эти квартиры не учитывать."
   ]
  },
  {
   "cell_type": "code",
   "execution_count": 32,
   "metadata": {},
   "outputs": [
    {
     "data": {
      "text/plain": [
       "array([[<AxesSubplot:title={'center':'floor'}>]], dtype=object)"
      ]
     },
     "execution_count": 32,
     "metadata": {},
     "output_type": "execute_result"
    },
    {
     "data": {
      "image/png": "[encoded data removed]",
      "text/plain": [
       "<Figure size 432x288 with 1 Axes>"
      ]
     },
     "metadata": {
      "needs_background": "light"
     },
     "output_type": "display_data"
    }
   ],
   "source": [
    "# Обрежем \"хвосты\"\n",
    "data=data.query('floor<28')\n",
    "data.hist('floor', bins=30, range=(0,30))"
   ]
  },
  {
   "cell_type": "code",
   "execution_count": 33,
   "metadata": {},
   "outputs": [
    {
     "data": {
      "text/plain": [
       "array([[<AxesSubplot:title={'center':'days_exposition'}>]], dtype=object)"
      ]
     },
     "execution_count": 33,
     "metadata": {},
     "output_type": "execute_result"
    },
    {
     "data": {
      "image/png": "[encoded data removed]",
      "text/plain": [
       "<Figure size 432x288 with 1 Axes>"
      ]
     },
     "metadata": {
      "needs_background": "light"
     },
     "output_type": "display_data"
    },
    {
     "data": {
      "image/png": "[encoded data removed]",
      "text/plain": [
       "<Figure size 432x288 with 1 Axes>"
      ]
     },
     "metadata": {
      "needs_background": "light"
     },
     "output_type": "display_data"
    }
   ],
   "source": [
    "# Посмотрим на колонку 'days_exposition'\n",
    "data['days_exposition'].unique()\n",
    "data = data.query('days_exposition < 1100')\n",
    "data.hist('days_exposition', bins=50, range=(0,1500)) # строим гистограмму по срезу\n",
    "data.hist('days_exposition', bins=50, range=(0,100)) # увеличили начало гистаграммы\n"
   ]
  },
  {
   "cell_type": "markdown",
   "metadata": {},
   "source": [
    "Какмы видим, в основном объявления \"висят\" не более 200 дней. Есть и те, что находятся на сайте и более 3 лет ( >1100 дней), но это выбросы. Пропущенные значения говорят о том, что скорее всего объявление еще не закрыто. Заполнять пропуски смысла нет"
   ]
  },
  {
   "cell_type": "code",
   "execution_count": 34,
   "metadata": {},
   "outputs": [
    {
     "data": {
      "text/plain": [
       "array([[<AxesSubplot:title={'center':'ponds_nearest'}>]], dtype=object)"
      ]
     },
     "execution_count": 34,
     "metadata": {},
     "output_type": "execute_result"
    },
    {
     "data": {
      "image/png": "[encoded data removed]",
      "text/plain": [
       "<Figure size 432x288 with 1 Axes>"
      ]
     },
     "metadata": {
      "needs_background": "light"
     },
     "output_type": "display_data"
    },
    {
     "data": {
      "image/png": "[encoded data removed]",
      "text/plain": [
       "<Figure size 432x288 with 1 Axes>"
      ]
     },
     "metadata": {
      "needs_background": "light"
     },
     "output_type": "display_data"
    },
    {
     "data": {
      "image/png": "[encoded data removed]",
      "text/plain": [
       "<Figure size 432x288 with 1 Axes>"
      ]
     },
     "metadata": {
      "needs_background": "light"
     },
     "output_type": "display_data"
    },
    {
     "data": {
      "image/png": "[encoded data removed]",
      "text/plain": [
       "<Figure size 432x288 with 1 Axes>"
      ]
     },
     "metadata": {
      "needs_background": "light"
     },
     "output_type": "display_data"
    },
    {
     "data": {
      "image/png": "[encoded data removed]",
      "text/plain": [
       "<Figure size 432x288 with 1 Axes>"
      ]
     },
     "metadata": {
      "needs_background": "light"
     },
     "output_type": "display_data"
    },
    {
     "data": {
      "image/png": "[encoded data removed]",
      "text/plain": [
       "<Figure size 432x288 with 1 Axes>"
      ]
     },
     "metadata": {
      "needs_background": "light"
     },
     "output_type": "display_data"
    }
   ],
   "source": [
    "# Оценим ситуации с растояниями до аэропорта, парка, центра города. Посмотрим на гистограммы \n",
    "data.hist('airports_nearest', bins=50, range=(0, 90000))\n",
    "data.hist('city_centers_nearest', bins=50, range=(0, 60000))\n",
    "data.hist('parks_around3000', bins=10, range=(0, 5))\n",
    "data.hist('parks_nearest', bins=50, range=(0, 5000))\n",
    "data.hist('ponds_around3000', bins=10, range=(0, 5))\n",
    "data.hist('ponds_nearest', bins=50, range=(0, 1500))"
   ]
  },
  {
   "cell_type": "markdown",
   "metadata": {},
   "source": [
    "Эти данные выглядят хорошо, но они в большей степени автоматизированны, поэтому не будем их корректировать.\n",
    "\n",
    "#### Итак, что же мы сделали:\n",
    "\n",
    "ceiling_height - практически в трети объявлений пропущена высота потолков, ее мы заменили на медианное значение, будем надеятся, что при анализе это никак не отразится.\n",
    "\n",
    "floors_total, living_area,  locality_name - пропущенные значения = данные просто не заполнили,оставили как есть.\n",
    "\n",
    "is_apartment - поменяли тип данных на bool, пропущенные значения возможно говорят о том, что это не апартаменты, так что заменили их на False.\n",
    "\n",
    "kitchen_area - пропущенные данные возможно относятся к типу студий, поэтому ничего не меняли.\n",
    "\n",
    "balcony - там где пропуски скорее всего нет балконов, заполняем 0.\n",
    "\n",
    "airports_nearest, city_centers_nearest,parks_nearest,\n",
    "parks_around3000, ponds_around3000, ponds_nearest - эти данные заполнены автоматически, пропуски говорят о том, что рядом нет   этих объектов. Заполнять ничего не надо\n",
    "\n",
    "days_exposition - поменяли тип данных на data, пропуски означают, что объявление не было опубликовано, оставляем NaN.\n",
    "\n",
    "Мы обработали данные, чтобы дальше с ними было легче работать. Заменили все возможные пропуски(балконы, высота потолков), поменяли тип данных(дата), и убрали выбросы. Теперь для анализа нам нехватает некоторых дополнительных данных. Ими и займемся"
   ]
  },
  {
   "cell_type": "markdown",
   "metadata": {},
   "source": [
    "<div class=\"alert alert-success\">\n",
    "<h2> Комментарий ревьюера V1<a class=\"tocSkip\"> </h2>\n",
    "\n",
    "<b>Все отлично!👍:</b> Остальные параметры обработала абсолютно верно."
   ]
  },
  {
   "cell_type": "markdown",
   "metadata": {},
   "source": [
    "### Посчитайте и добавьте в таблицу новые столбцы"
   ]
  },
  {
   "cell_type": "code",
   "execution_count": 35,
   "metadata": {},
   "outputs": [
    {
     "data": {
      "text/plain": [
       "9           другой\n",
       "10          другой\n",
       "13       последний\n",
       "16          первый\n",
       "18          другой\n",
       "           ...    \n",
       "23686       другой\n",
       "23688       другой\n",
       "23689       другой\n",
       "23691       другой\n",
       "23693       другой\n",
       "Name: floor_group, Length: 10180, dtype: object"
      ]
     },
     "execution_count": 35,
     "metadata": {},
     "output_type": "execute_result"
    }
   ],
   "source": [
    "# Создаем новый столбец 'floor_group' с категориями этажей\n",
    "def floors_type(row):\n",
    "    if row['floor']==1:\n",
    "        return 'первый'\n",
    "    elif row['floor'] == row['floors_total']:\n",
    "        return 'последний'\n",
    "    else:\n",
    "        return 'другой'\n",
    "    \n",
    "data['floor_group'] = data.apply(floors_type, axis=1)\n",
    "data['floor_group']"
   ]
  },
  {
   "cell_type": "code",
   "execution_count": 36,
   "metadata": {},
   "outputs": [],
   "source": [
    "# Разобьем на категории локации\n",
    "def categorize_name(row):\n",
    "    try:\n",
    "        if 'посел' in row or 'село' in row:\n",
    "            return 'ПГТ'\n",
    "        elif 'дерев' in row:\n",
    "            return 'деревня'\n",
    "        elif 'сан' in row or 'то' in row:\n",
    "            return 'город'\n",
    "    except:\n",
    "        return 'нет категории'\n",
    "data['category_name'] = data['locality_name'].apply(categorize_name)"
   ]
  },
  {
   "cell_type": "code",
   "execution_count": 37,
   "metadata": {},
   "outputs": [],
   "source": [
    "# Узнаем цену 1 квадратного метра, для этого разделим цену за квартиру на ее общую площадь. Добавим новый стобец в таблицу\n",
    "data['price_to_area'] = data['last_price']/data['total_area']"
   ]
  },
  {
   "cell_type": "code",
   "execution_count": 38,
   "metadata": {},
   "outputs": [],
   "source": [
    "#Посчитаем и добавим в таблицу день, месяц и год публикации \n",
    "\n",
    "data['day_of_week'] = data['first_day_exposition'].dt.weekday\n",
    "data['month'] = data['first_day_exposition'].dt.month\n",
    "data['year'] = data['first_day_exposition'].dt.year"
   ]
  },
  {
   "cell_type": "code",
   "execution_count": 39,
   "metadata": {},
   "outputs": [],
   "source": [
    "# Рассчитаем расстояние от центра в км\n",
    "data['city_centers_nearest_km'] = round(data['city_centers_nearest'] / 1000)"
   ]
  },
  {
   "cell_type": "markdown",
   "metadata": {},
   "source": [
    "<div class=\"alert alert-success\">\n",
    "<h2> Комментарий ревьюера V1<a class=\"tocSkip\"> </h2>\n",
    "\n",
    "<b>Все отлично!👍:</b> Правильно добавила новые параметры, использовала только подходящие методы."
   ]
  },
  {
   "cell_type": "markdown",
   "metadata": {},
   "source": [
    "### Проведите исследовательский анализ данных"
   ]
  },
  {
   "cell_type": "markdown",
   "metadata": {},
   "source": [
    "Теперь, когда данные обработанны, можно приступить к анализу. Проверим для начала, как быстро продавались квартиры, для этого посмотрим на столбец 'days_exposition'."
   ]
  },
  {
   "cell_type": "code",
   "execution_count": 40,
   "metadata": {},
   "outputs": [
    {
     "name": "stdout",
     "output_type": "stream",
     "text": [
      "Среднее время продажи квартиры в днях: 177\n",
      "Медианное время продажи квартиры в днях: 103\n"
     ]
    },
    {
     "data": {
      "image/png": "[encoded data removed]",
      "text/plain": [
       "<Figure size 432x288 with 1 Axes>"
      ]
     },
     "metadata": {
      "needs_background": "light"
     },
     "output_type": "display_data"
    },
    {
     "data": {
      "image/png": "[encoded data removed]",
      "text/plain": [
       "<Figure size 432x288 with 1 Axes>"
      ]
     },
     "metadata": {
      "needs_background": "light"
     },
     "output_type": "display_data"
    }
   ],
   "source": [
    "# Построим гистограммы и посчитаем среднее и медиану\n",
    "data.hist('days_exposition', bins=100);\n",
    "data.hist('days_exposition', bins=100, range = (0,100));\n",
    "print(f'Среднее время продажи квартиры в днях:',int(data['days_exposition'].mean()))\n",
    "print('Медианное время продажи квартиры в днях:',int(data['days_exposition'].median()))"
   ]
  },
  {
   "cell_type": "markdown",
   "metadata": {},
   "source": [
    "Если смотреть по среднему значению, то квартиры продаются почти пол года. Возможно, для продажи жилья это не так много. Но если смотреть на медиану, то срок сокращается почти в 2 раза, а все из-за длинного хвоста, и эти показатели будут более точными.\n",
    "Много квартир продавались за считанные дни, возможно, это благодаря работе агента по недвижимости, все таки он ускоряет продажу/покупку жилья. А есть те, кто не особо спешит, и готов продавать свое жилье хоть год, хоть два. А может и вовсе забыл, что он его продает..."
   ]
  },
  {
   "cell_type": "markdown",
   "metadata": {},
   "source": [
    "<div class=\"alert alert-success\">\n",
    "<h2> Комментарий ревьюера V1<a class=\"tocSkip\"> </h2>\n",
    "\n",
    "<b>Все отлично!👍:</b> Полностью согласен с твоим выводом."
   ]
  },
  {
   "cell_type": "markdown",
   "metadata": {},
   "source": [
    "#### Факторы, влияющие на цену"
   ]
  },
  {
   "cell_type": "code",
   "execution_count": 41,
   "metadata": {},
   "outputs": [],
   "source": [
    "# Для типа этажей немного поменяем вид данных, чтобы мы могли посчитать для него корреляцию\n",
    "data['floor_category_digit'] = data.apply(\n",
    "    lambda x: 0 if (x.floor == 1) \n",
    "    else (2 if (x.floor == x.floors_total) & isinstance(x.floors_total,int) \n",
    "    else 1), axis=1)"
   ]
  },
  {
   "cell_type": "code",
   "execution_count": 42,
   "metadata": {},
   "outputs": [
    {
     "name": "stdout",
     "output_type": "stream",
     "text": [
      "Корреляция между last_price и total_area составляет: 74.64%\n",
      "Корреляция между last_price и living_area составляет: 61.79%\n",
      "Корреляция между last_price и kitchen_area составляет: 54.28%\n",
      "Корреляция между last_price и rooms составляет: 44.49%\n",
      "Корреляция между last_price и floor_category_digit составляет: 11.54%\n",
      "Корреляция между last_price и day_of_week составляет: -1.42%\n",
      "Корреляция между last_price и month составляет: -0.12%\n",
      "Корреляция между last_price и year составляет: -4.69%\n"
     ]
    }
   ],
   "source": [
    "# Посчитаем корреляцию с помощью цикла:\n",
    "list_for_graph = ['total_area',\n",
    "                  'living_area',\n",
    "                  'kitchen_area',\n",
    "                  'rooms',\n",
    "                  'floor_category_digit',\n",
    "                  'day_of_week',\n",
    "                  'month',\n",
    "                  'year']\n",
    "\n",
    "for entry in list_for_graph:\n",
    "    correlation = data['last_price'].corr(data[entry])\n",
    "    print(f'Корреляция между last_price и {entry} составляет: {correlation:0.2%}')"
   ]
  },
  {
   "cell_type": "code",
   "execution_count": 43,
   "metadata": {},
   "outputs": [
    {
     "data": {
      "text/plain": [
       "<AxesSubplot:xlabel='last_price', ylabel='kitchen_area'>"
      ]
     },
     "execution_count": 43,
     "metadata": {},
     "output_type": "execute_result"
    },
    {
     "data": {
      "image/png": "[encoded data removed]",
      "text/plain": [
       "<Figure size 432x288 with 1 Axes>"
      ]
     },
     "metadata": {
      "needs_background": "light"
     },
     "output_type": "display_data"
    },
    {
     "data": {
      "image/png": "[encoded data removed]",
      "text/plain": [
       "<Figure size 432x288 with 1 Axes>"
      ]
     },
     "metadata": {
      "needs_background": "light"
     },
     "output_type": "display_data"
    },
    {
     "data": {
      "image/png": "[encoded data removed]",
      "text/plain": [
       "<Figure size 432x288 with 1 Axes>"
      ]
     },
     "metadata": {
      "needs_background": "light"
     },
     "output_type": "display_data"
    }
   ],
   "source": [
    "# Построим графики для наглядности на зависимость цены от площади.\n",
    "data.plot(x='last_price', y='total_area', kind='scatter', alpha=0.2)\n",
    "data.plot(x='last_price', y='living_area', kind='scatter', alpha=0.2)\n",
    "data.plot(x='last_price', y='kitchen_area', kind='scatter', alpha=0.2)\n"
   ]
  },
  {
   "cell_type": "markdown",
   "metadata": {},
   "source": [
    "Судя по графику корреляции, цена больше всего зависит от общей площади, что вполне логично. Корреляция идет положительная, значит чем больше площадь , тем больше цена."
   ]
  },
  {
   "cell_type": "code",
   "execution_count": 44,
   "metadata": {
    "scrolled": true
   },
   "outputs": [
    {
     "data": {
      "text/plain": [
       "<AxesSubplot:xlabel='rooms'>"
      ]
     },
     "execution_count": 44,
     "metadata": {},
     "output_type": "execute_result"
    },
    {
     "data": {
      "image/png": "[encoded data removed]",
      "text/plain": [
       "<Figure size 432x288 with 1 Axes>"
      ]
     },
     "metadata": {
      "needs_background": "light"
     },
     "output_type": "display_data"
    }
   ],
   "source": [
    "# Посмотрим теперь зависимость цены от наличие комнат\n",
    "data.pivot_table(index='rooms',values='last_price').plot(y='last_price', kind='bar')"
   ]
  },
  {
   "cell_type": "markdown",
   "metadata": {},
   "source": [
    "Опять вполне логичная картина, чем больше комнат, тем выше цена."
   ]
  },
  {
   "cell_type": "code",
   "execution_count": 45,
   "metadata": {},
   "outputs": [
    {
     "data": {
      "text/plain": [
       "<AxesSubplot:title={'center':'median'}, xlabel='year'>"
      ]
     },
     "execution_count": 45,
     "metadata": {},
     "output_type": "execute_result"
    },
    {
     "data": {
      "image/png": "[encoded data removed]",
      "text/plain": [
       "<Figure size 432x288 with 1 Axes>"
      ]
     },
     "metadata": {
      "needs_background": "light"
     },
     "output_type": "display_data"
    },
    {
     "data": {
      "image/png": "[encoded data removed]",
      "text/plain": [
       "<Figure size 432x288 with 1 Axes>"
      ]
     },
     "metadata": {
      "needs_background": "light"
     },
     "output_type": "display_data"
    },
    {
     "data": {
      "image/png": "[encoded data removed]",
      "text/plain": [
       "<Figure size 432x288 with 1 Axes>"
      ]
     },
     "metadata": {
      "needs_background": "light"
     },
     "output_type": "display_data"
    },
    {
     "data": {
      "image/png": "[encoded data removed]",
      "text/plain": [
       "<Figure size 432x288 with 1 Axes>"
      ]
     },
     "metadata": {
      "needs_background": "light"
     },
     "output_type": "display_data"
    },
    {
     "data": {
      "image/png": "[encoded data removed]",
      "text/plain": [
       "<Figure size 432x288 with 1 Axes>"
      ]
     },
     "metadata": {
      "needs_background": "light"
     },
     "output_type": "display_data"
    },
    {
     "data": {
      "image/png": "[encoded data removed]",
      "text/plain": [
       "<Figure size 432x288 with 1 Axes>"
      ]
     },
     "metadata": {
      "needs_background": "light"
     },
     "output_type": "display_data"
    }
   ],
   "source": [
    "# Также с помощью сводных таблиц построим графики для зависимости цены от даты продажи\n",
    "data.pivot_table(index='day_of_week',values='last_price',aggfunc='mean').plot(y='last_price', kind='line', title='mean')\n",
    "data.pivot_table(index='day_of_week',values='last_price',aggfunc='median').plot(y='last_price', kind='line', title='median')\n",
    "\n",
    "data.pivot_table(index='month',values='last_price',aggfunc='mean').plot(y='last_price', kind='line', title='mean')\n",
    "data.pivot_table(index='month',values='last_price',aggfunc='median').plot(y='last_price', kind='line', title='median')\n",
    "\n",
    "data.pivot_table(index='year',values='last_price',aggfunc='mean').plot(y='last_price', kind='line', title='mean')\n",
    "data.pivot_table(index='year',values='last_price',aggfunc='median').plot(y='last_price', kind='line', title='median')"
   ]
  },
  {
   "cell_type": "markdown",
   "metadata": {},
   "source": [
    "Здесь картина уже другая. По дням неделям видны пики на вторник, а в пятницу и воскресенье - падения. По месяцам тоже интересно получилось, в летние периоды квартиры тоже имеют низкую цену, в то время как пик приходится на осень/зиму. Если вспомнить, именно зимой происходит скачок цен на недвижимость. По годам получается, что в 16-17 годах произшло падение цен. Получается, цена не зависит от даты размещения объявления. все зависит от обстоятельств извне."
   ]
  },
  {
   "cell_type": "code",
   "execution_count": 46,
   "metadata": {},
   "outputs": [
    {
     "data": {
      "text/plain": [
       "<AxesSubplot:xlabel='last_price', ylabel='floor_group'>"
      ]
     },
     "execution_count": 46,
     "metadata": {},
     "output_type": "execute_result"
    },
    {
     "data": {
      "image/png": "[encoded data removed]",
      "text/plain": [
       "<Figure size 432x288 with 1 Axes>"
      ]
     },
     "metadata": {
      "needs_background": "light"
     },
     "output_type": "display_data"
    },
    {
     "data": {
      "image/png": "[encoded data removed]",
      "text/plain": [
       "<Figure size 432x288 with 1 Axes>"
      ]
     },
     "metadata": {
      "needs_background": "light"
     },
     "output_type": "display_data"
    }
   ],
   "source": [
    "# Посмотрим на зависимость цены и этажа\n",
    "data.pivot_table(index='floor_group',values='last_price').plot(y='last_price', kind='barh')\n",
    "data.plot(x='last_price', y='floor_group', kind='scatter', alpha=0.2)"
   ]
  },
  {
   "cell_type": "markdown",
   "metadata": {},
   "source": [
    "Цена квартиры зависит от этажа, это видно по диаграмме. Похоже направду, потому что цена на первом и последнем этажах всегда ниже(то крыша протекает, то тараканы из подвала вылезают и соседи в окна заглядывают)"
   ]
  },
  {
   "cell_type": "markdown",
   "metadata": {},
   "source": [
    "<div class=\"alert alert-success\">\n",
    "<h2> Комментарий ревьюера V1<a class=\"tocSkip\"> </h2>\n",
    "\n",
    "<b>Все отлично!👍:</b> И снова все проанализировала верно, видно, что цена квартиры больше всего зависит от параметров площади."
   ]
  },
  {
   "cell_type": "markdown",
   "metadata": {},
   "source": [
    "#### Цена одного квадратного метра\n"
   ]
  },
  {
   "cell_type": "code",
   "execution_count": 47,
   "metadata": {},
   "outputs": [
    {
     "data": {
      "text/html": [
       "<div>\n",
       "<style scoped>\n",
       "    .dataframe tbody tr th:only-of-type {\n",
       "        vertical-align: middle;\n",
       "    }\n",
       "\n",
       "    .dataframe tbody tr th {\n",
       "        vertical-align: top;\n",
       "    }\n",
       "\n",
       "    .dataframe thead th {\n",
       "        text-align: right;\n",
       "    }\n",
       "</style>\n",
       "<table border=\"1\" class=\"dataframe\">\n",
       "  <thead>\n",
       "    <tr style=\"text-align: right;\">\n",
       "      <th></th>\n",
       "      <th>last_price_sum</th>\n",
       "      <th>total_area_sum</th>\n",
       "      <th>last_price_count</th>\n",
       "      <th>total_area_count</th>\n",
       "    </tr>\n",
       "    <tr>\n",
       "      <th>locality_name</th>\n",
       "      <th></th>\n",
       "      <th></th>\n",
       "      <th></th>\n",
       "      <th></th>\n",
       "    </tr>\n",
       "  </thead>\n",
       "  <tbody>\n",
       "    <tr>\n",
       "      <th>санкт-петербург</th>\n",
       "      <td>4.419147e+10</td>\n",
       "      <td>406837.14</td>\n",
       "      <td>7095</td>\n",
       "      <td>7095</td>\n",
       "    </tr>\n",
       "    <tr>\n",
       "      <th>всеволожск</th>\n",
       "      <td>7.135621e+08</td>\n",
       "      <td>10776.55</td>\n",
       "      <td>195</td>\n",
       "      <td>195</td>\n",
       "    </tr>\n",
       "    <tr>\n",
       "      <th>поселок мурино</th>\n",
       "      <td>7.405265e+08</td>\n",
       "      <td>8848.84</td>\n",
       "      <td>182</td>\n",
       "      <td>182</td>\n",
       "    </tr>\n",
       "    <tr>\n",
       "      <th>поселок шушары</th>\n",
       "      <td>7.275660e+08</td>\n",
       "      <td>9528.17</td>\n",
       "      <td>173</td>\n",
       "      <td>173</td>\n",
       "    </tr>\n",
       "    <tr>\n",
       "      <th>колпино</th>\n",
       "      <td>6.394157e+08</td>\n",
       "      <td>8784.20</td>\n",
       "      <td>166</td>\n",
       "      <td>166</td>\n",
       "    </tr>\n",
       "    <tr>\n",
       "      <th>пушкин</th>\n",
       "      <td>9.021336e+08</td>\n",
       "      <td>8557.44</td>\n",
       "      <td>149</td>\n",
       "      <td>149</td>\n",
       "    </tr>\n",
       "    <tr>\n",
       "      <th>поселок парголово</th>\n",
       "      <td>4.985190e+08</td>\n",
       "      <td>5706.82</td>\n",
       "      <td>113</td>\n",
       "      <td>113</td>\n",
       "    </tr>\n",
       "    <tr>\n",
       "      <th>петергоф</th>\n",
       "      <td>4.484540e+08</td>\n",
       "      <td>5398.02</td>\n",
       "      <td>113</td>\n",
       "      <td>113</td>\n",
       "    </tr>\n",
       "    <tr>\n",
       "      <th>деревня кудрово</th>\n",
       "      <td>4.463534e+08</td>\n",
       "      <td>5028.75</td>\n",
       "      <td>103</td>\n",
       "      <td>103</td>\n",
       "    </tr>\n",
       "    <tr>\n",
       "      <th>гатчина</th>\n",
       "      <td>3.484761e+08</td>\n",
       "      <td>5077.96</td>\n",
       "      <td>102</td>\n",
       "      <td>102</td>\n",
       "    </tr>\n",
       "  </tbody>\n",
       "</table>\n",
       "</div>"
      ],
      "text/plain": [
       "                   last_price_sum  total_area_sum  last_price_count  \\\n",
       "locality_name                                                         \n",
       "санкт-петербург      4.419147e+10       406837.14              7095   \n",
       "всеволожск           7.135621e+08        10776.55               195   \n",
       "поселок мурино       7.405265e+08         8848.84               182   \n",
       "поселок шушары       7.275660e+08         9528.17               173   \n",
       "колпино              6.394157e+08         8784.20               166   \n",
       "пушкин               9.021336e+08         8557.44               149   \n",
       "поселок парголово    4.985190e+08         5706.82               113   \n",
       "петергоф             4.484540e+08         5398.02               113   \n",
       "деревня кудрово      4.463534e+08         5028.75               103   \n",
       "гатчина              3.484761e+08         5077.96               102   \n",
       "\n",
       "                   total_area_count  \n",
       "locality_name                        \n",
       "санкт-петербург                7095  \n",
       "всеволожск                      195  \n",
       "поселок мурино                  182  \n",
       "поселок шушары                  173  \n",
       "колпино                         166  \n",
       "пушкин                          149  \n",
       "поселок парголово               113  \n",
       "петергоф                        113  \n",
       "деревня кудрово                 103  \n",
       "гатчина                         102  "
      ]
     },
     "execution_count": 47,
     "metadata": {},
     "output_type": "execute_result"
    }
   ],
   "source": [
    "# Для этого создадим сводную таблицу\n",
    "top_10 = data.pivot_table(index='locality_name', values=['last_price','total_area'] ,aggfunc=['sum','count'])    \n",
    "top_10.columns=['last_price_sum','total_area_sum','last_price_count','total_area_count'] #меняем названия столбцов\n",
    "top_10.sort_values(by=['last_price_count'],ascending=False, inplace=True) # сортируем по убыванию\n",
    "top_10 = top_10.iloc[:10] # делаем топ-10\n",
    "top_10\n"
   ]
  },
  {
   "cell_type": "code",
   "execution_count": 48,
   "metadata": {},
   "outputs": [
    {
     "data": {
      "text/plain": [
       "<AxesSubplot:ylabel='locality_name'>"
      ]
     },
     "execution_count": 48,
     "metadata": {},
     "output_type": "execute_result"
    },
    {
     "data": {
      "image/png": "[encoded data removed]",
      "text/plain": [
       "<Figure size 432x288 with 1 Axes>"
      ]
     },
     "metadata": {
      "needs_background": "light"
     },
     "output_type": "display_data"
    }
   ],
   "source": [
    "# Построим график\n",
    "top_10['price_per_sq_m'] = top_10['last_price_sum']/top_10['total_area_sum'] # цена за 1 кв м\n",
    "top_10.sort_values(by=['price_per_sq_m'],ascending=True, inplace=True)                 \n",
    "\n",
    "\n",
    "top_10['price_per_sq_m'].plot(kind='barh')\n"
   ]
  },
  {
   "cell_type": "markdown",
   "metadata": {},
   "source": [
    "Неудивительно, что самые дорогие квартиры в Санкт-Петербурге, и там же большее число объявлений. Если присмотреться, ТОП-10 состоит из не самых дальних пригородов Петербурга, некотоые из них вообще считаются как городская прописка, что тоже влияет на цену."
   ]
  },
  {
   "cell_type": "markdown",
   "metadata": {},
   "source": [
    "<div class=\"alert alert-success\">\n",
    "<h2> Комментарий ревьюера V1<a class=\"tocSkip\"> </h2>\n",
    "\n",
    "<b>Все отлично!👍:</b> Правлиьно все проанализировала, продолжай в том же духе!"
   ]
  },
  {
   "cell_type": "markdown",
   "metadata": {},
   "source": [
    "#### Расстояние до центра"
   ]
  },
  {
   "cell_type": "code",
   "execution_count": 49,
   "metadata": {},
   "outputs": [
    {
     "data": {
      "text/plain": [
       "<AxesSubplot:xlabel='city_centers_nearest_km'>"
      ]
     },
     "execution_count": 49,
     "metadata": {},
     "output_type": "execute_result"
    },
    {
     "data": {
      "image/png": "[encoded data removed]",
      "text/plain": [
       "<Figure size 432x288 with 1 Axes>"
      ]
     },
     "metadata": {
      "needs_background": "light"
     },
     "output_type": "display_data"
    }
   ],
   "source": [
    "# Построим график расстояния до центра города и среднюю цену\n",
    "(\n",
    "    data[data['locality_name']=='санкт-петербург']\n",
    "    .pivot_table(\n",
    "        index='city_centers_nearest_km',\n",
    "        values='last_price',\n",
    "        aggfunc='mean')\n",
    "    .plot(kind='bar')\n",
    ")"
   ]
  },
  {
   "cell_type": "code",
   "execution_count": 50,
   "metadata": {},
   "outputs": [
    {
     "data": {
      "text/html": [
       "<div>\n",
       "<style scoped>\n",
       "    .dataframe tbody tr th:only-of-type {\n",
       "        vertical-align: middle;\n",
       "    }\n",
       "\n",
       "    .dataframe tbody tr th {\n",
       "        vertical-align: top;\n",
       "    }\n",
       "\n",
       "    .dataframe thead th {\n",
       "        text-align: right;\n",
       "    }\n",
       "</style>\n",
       "<table border=\"1\" class=\"dataframe\">\n",
       "  <thead>\n",
       "    <tr style=\"text-align: right;\">\n",
       "      <th></th>\n",
       "      <th>price_to_km</th>\n",
       "    </tr>\n",
       "    <tr>\n",
       "      <th>city_centers_nearest_km</th>\n",
       "      <th></th>\n",
       "    </tr>\n",
       "  </thead>\n",
       "  <tbody>\n",
       "    <tr>\n",
       "      <th>0.0</th>\n",
       "      <td>inf</td>\n",
       "    </tr>\n",
       "    <tr>\n",
       "      <th>1.0</th>\n",
       "      <td>1.014984e+07</td>\n",
       "    </tr>\n",
       "    <tr>\n",
       "      <th>2.0</th>\n",
       "      <td>5.082509e+06</td>\n",
       "    </tr>\n",
       "    <tr>\n",
       "      <th>3.0</th>\n",
       "      <td>2.707770e+06</td>\n",
       "    </tr>\n",
       "    <tr>\n",
       "      <th>4.0</th>\n",
       "      <td>2.290857e+06</td>\n",
       "    </tr>\n",
       "    <tr>\n",
       "      <th>5.0</th>\n",
       "      <td>1.809085e+06</td>\n",
       "    </tr>\n",
       "    <tr>\n",
       "      <th>6.0</th>\n",
       "      <td>1.395165e+06</td>\n",
       "    </tr>\n",
       "    <tr>\n",
       "      <th>7.0</th>\n",
       "      <td>1.095565e+06</td>\n",
       "    </tr>\n",
       "    <tr>\n",
       "      <th>8.0</th>\n",
       "      <td>9.584352e+05</td>\n",
       "    </tr>\n",
       "    <tr>\n",
       "      <th>9.0</th>\n",
       "      <td>7.434537e+05</td>\n",
       "    </tr>\n",
       "  </tbody>\n",
       "</table>\n",
       "</div>"
      ],
      "text/plain": [
       "                          price_to_km\n",
       "city_centers_nearest_km              \n",
       "0.0                               inf\n",
       "1.0                      1.014984e+07\n",
       "2.0                      5.082509e+06\n",
       "3.0                      2.707770e+06\n",
       "4.0                      2.290857e+06\n",
       "5.0                      1.809085e+06\n",
       "6.0                      1.395165e+06\n",
       "7.0                      1.095565e+06\n",
       "8.0                      9.584352e+05\n",
       "9.0                      7.434537e+05"
      ]
     },
     "execution_count": 50,
     "metadata": {},
     "output_type": "execute_result"
    }
   ],
   "source": [
    "# Расчитаем среднюю цену за 1 кв км \n",
    "data['price_to_km'] = data['last_price']/ data['city_centers_nearest_km']\n",
    "data.pivot_table(index='city_centers_nearest_km', values='price_to_km', aggfunc='mean').head(10)"
   ]
  },
  {
   "cell_type": "markdown",
   "metadata": {},
   "source": [
    "Лидирует недвижимость до 1км. Это объяснимо, все таки \"центр\" города. Далее идет спад цен от 2 до 7 км от центра, тоже логично, чем дальше тем дешевле. Но затем идец скачок , причем ощутимый , на 27 км. Возможно, это какой-то особый район, элитный, или это котеджный поселок, где тоже высокие цены."
   ]
  },
  {
   "cell_type": "markdown",
   "metadata": {},
   "source": [
    "<div class=\"alert alert-success\">\n",
    "<h2> Комментарий ревьюера V1<a class=\"tocSkip\"> </h2>\n",
    "\n",
    "<b>Все отлично!👍:</b> Абсолютно верно, чем дальше квартира от центра, тем она дешевле."
   ]
  },
  {
   "cell_type": "markdown",
   "metadata": {},
   "source": [
    "### Общий вывод"
   ]
  },
  {
   "cell_type": "markdown",
   "metadata": {},
   "source": [
    "После изучения данных можно сказать, что конечно перед работой лучше подчистить сами данные. В данном случае у нас было очень много пропущенных значений, которые можно или нельзя было заполнить, но не смотря на это, работать с такими данными можно, что мы и доказали.\n",
    "Основной проблемы были выбросы, и ошибка могла вылезти уже в конце анализа, что и произошло у меня. Сначала, я не придала значения особенно дорогим квартирам, но в конце оказалось, что они существенно влияют на кореляцию, так что пришлось сделать дополнительную чистку. Затем проблема была в высоте потолков и площади кухни. Данные были неккоректны, приходилось много исправлять, что было риском (а вдруг и правда есть квартиры с высото более 15 метров), но мы пришли к логике и решили,что таких \"уникальных\" квартир немного, и лучше удалить из нашего списка. С площадью кухни все было проще, потому что заполнять пропуски было точно неверным решением (тут точно могли быть планировки с разными кухнями), в добавок, площадь кухни могли не учесть, если это апартаменты. В целом вариантов много, поэтому проще было оставить как есть, но неккоректные данные мы тоже исправили.   \n",
    "После обработки данных и удалению выбросов,пришло время самого анализа. Времени это заняло немного, потому что основную работу мы с вами сделали до этого. Это и показывает от важности предобработки данных. К чему привел наш анализ:\n",
    "\n",
    "- В 27 км от центра Санкт-Петербурга есть недвижимость по цене почти равная недвижимости в 8 км. от центра, повторюсь,возможно это котеджный поселок, который тоже приравнивается к \"элитному\";\n",
    "- В ТОП-10 входят в основном ближайшие к Санкт-Петербургу города: Пушкин, Гатчина, Всеволожск, Выборг. Все они по прописке считаются \"городской\", именно поэтому цена на них выше, если были бы просто за пределами города.\n",
    "- Цена в основном зависит от площади квартиры, но также играет роль и этаж. Цена квартиры на \"другом\" этаже явно выше, чем на первом и последнем.\n",
    "- Быстрые продажи это до 85 дней, а необычно долгие - свыше 170 дня.Это видно на графике\n",
    "\n",
    "В итоге, можно предположить, что объявления либо снимаются после определенного срока, либо их продлевают. Но, мы с вами заметили очень странные объявления длиной почти 3 года, не думаю, что кто-то будет намеренно платно продливать объявление о продаже спустя год. Думаю, для более точных данных надо обратиться к тому, кто эти данные предоставляет. Тогда мы с вами сможем более точно провести анализ.\n",
    "Можно будет изучить зависимость площади кухни от типа дома( панелька, многоэтажка, новостройка и т.д.). высоту потолков от типа дома, апартаменты от наличие кухни или комнаты, наличие квартиры в \"элитном\" районе и обычном, а еще наличие ремонта ( и какого) тоже могло бы повлиять на цены. Но оставим это для следующих проектов."
   ]
  },
  {
   "cell_type": "markdown",
   "metadata": {},
   "source": [
    "<div class=\"alert alert-success\">\n",
    "<h2> Комментарий ревьюера V1<a class=\"tocSkip\"> </h2>\n",
    "\n",
    "<b>Все отлично!👍:</b> Отличный вывод, все четко, понятно и структурировано. Вывод в полной мере отражает существующие зависимости, и по нему можно принимать дальнейшие решения.\n",
    "</div>"
   ]
  },
  {
   "cell_type": "markdown",
   "metadata": {},
   "source": [
    "**Чек-лист готовности проекта**\n",
    "\n",
    "Поставьте 'x' в выполненных пунктах. Далее нажмите Shift+Enter."
   ]
  },
  {
   "cell_type": "markdown",
   "metadata": {},
   "source": [
    "- [x]  открыт файл\n",
    "- [x]  файлы изучены (выведены первые строки, метод `info()`, гистограммы и т.д.)\n",
    "- [x]  определены пропущенные значения\n",
    "- [x]  заполнены пропущенные значения там, где это возможно\n",
    "- [x]  есть пояснение, какие пропущенные значения обнаружены\n",
    "- [x]  изменены типы данных\n",
    "- [x]  есть пояснение, в каких столбцах изменены типы и почему\n",
    "- [x]  устранены неявные дубликаты в названиях населённых пунктов\n",
    "- [x]  устранены редкие и выбивающиеся значения (аномалии) во всех столбцах\n",
    "- [x]  посчитано и добавлено в таблицу: цена одного квадратного метра\n",
    "- [x]  посчитано и добавлено в таблицу: день публикации объявления (0 - понедельник, 1 - вторник и т.д.)\n",
    "- [x]  посчитано и добавлено в таблицу: месяц публикации объявления\n",
    "- [x]  посчитано и добавлено в таблицу: год публикации объявления\n",
    "- [x]  посчитано и добавлено в таблицу: тип этажа квартиры (значения — «первый», «последний», «другой»)\n",
    "- [x]  посчитано и добавлено в таблицу: расстояние в км до центра города\n",
    "- [x]  изучены и описаны следующие параметры:\n",
    "        - общая площадь;\n",
    "        - жилая площадь;\n",
    "        - площадь кухни;\n",
    "        - цена объекта;\n",
    "        - количество комнат;\n",
    "        - высота потолков;\n",
    "        - этаж квартиры;\n",
    "        - тип этажа квартиры («первый», «последний», «другой»);\n",
    "        - общее количество этажей в доме;\n",
    "        - расстояние до центра города в метрах;\n",
    "        - расстояние до ближайшего аэропорта;\n",
    "        - расстояние до ближайшего парка;\n",
    "        - день и месяц публикации объявления\n",
    "- [x]  построены гистограммы для каждого параметра\n",
    "- [x]  выполнено задание: \"Изучите, как быстро продавались квартиры (столбец days_exposition). Этот параметр показывает, сколько дней «висело» каждое объявление.\n",
    "    - Постройте гистограмму.\n",
    "    - Посчитайте среднее и медиану.\n",
    "    - В ячейке типа markdown опишите, сколько обычно занимает продажа. Какие продажи можно считать быстрыми, а какие — необычно долгими?\"\n",
    "- [x]  выполнено задание: \"Какие факторы больше всего влияют на общую (полную) стоимость объекта? Постройте графики, которые покажут зависимость цены от указанных ниже параметров. Для подготовки данных перед визуализацией вы можете использовать сводные таблицы.\"\n",
    "        - общей площади;\n",
    "        - жилой площади;\n",
    "        - площади кухни;\n",
    "        - количество комнат;\n",
    "        - типа этажа, на котором расположена квартира (первый, последний, другой);\n",
    "        - даты размещения (день недели, месяц, год);\n",
    "- [x]  выполнено задание: \"Посчитайте среднюю цену одного квадратного метра в 10 населённых пунктах с наибольшим числом объявлений. Выделите населённые пункты с самой высокой и низкой стоимостью квадратного метра. Эти данные можно найти по имени в столбце `locality_name`.\"\n",
    "- [ ]  выполнено задание: \"Ранее вы посчитали расстояние до центра в километрах. Теперь выделите квартиры в Санкт-Петербурге с помощью столбца `locality_name` и вычислите среднюю цену каждого километра. Опишите, как стоимость объектов зависит от расстояния до центра города.\"\n",
    "- [x]  в каждом этапе есть промежуточные выводы\n",
    "- [ ]  есть общий вывод"
   ]
  },
  {
   "cell_type": "markdown",
   "metadata": {},
   "source": [
    "<div style=\"border:solid Chocolate 2px; padding: 40px\">\n",
    "\n",
    "**Общий вывод по проекту**\n",
    "\n",
    "Спасибо за твой проект! Я уверен, что ты приложила все усилия, чтобы сделать этот проект. Это видно по твоей работе, а сформулированные выводы отражают, насколько успешно ты осваиваешь материал.\n",
    "\n",
    "**Отмечу отдельные положительные моменты проекта🙂**:\n",
    "\n",
    "* Ты полностью следовала всем этапам выполнения задания и справилась почти со всем. Хорошая работа!\n",
    "* Отдельно выделю некоторые выводы, которые ты смогла сформулировать абсолютно точно!\n",
    "* У тебя опрятный и читаемый код. Возможно это звучит банально, однако при работе с чужим кодом это крайне важно)\n",
    "\n",
    "\n",
    "**На что стоит обратить внимание🤓**:\n",
    "\n",
    "* Важно доработать итоговый вывод.\n",
    "* Нужно корректно обработать все признаки.\n",
    "* Остальные рекомендации ты найдешь в моих комментариях!\n",
    "\n",
    "\n",
    "**Желаю удачи и жду твой проект на повторное ревью!**😉"
   ]
  },
  {
   "cell_type": "markdown",
   "metadata": {},
   "source": [
    "<div class=\"alert alert-block alert-info\">\n",
    "Спасибо тебе за твои комментарии, они мне очень помогли, я бы и не вспомнила про loc, если бы не ты 😊. У меня есть пару вопросов, что именно исправить в выводе, если ты его выделил зеленым"
   ]
  },
  {
   "cell_type": "markdown",
   "metadata": {},
   "source": [
    "<div style=\"border:solid Chocolate 2px; padding: 40px\">\n",
    "Забыл удалить данный пункт из комментария, все правильно ты в выводе сделала, ничего дорабатывать не надо)"
   ]
  },
  {
   "cell_type": "markdown",
   "metadata": {},
   "source": [
    "<div style=\"border:solid Chocolate 2px; padding: 40px\">\n",
    "\n",
    "Ты отлично справилась с данной работой! Видно, как ты успешно осваиваешь материал, применяешь полученные знания на практике. Мне было очень приятно проверять твою работу, надеюсь, мои комментарии и советы были для тебя полезными.\n",
    "\n",
    "**Желаю удачи в последующем обучении и исследованиях!**😉"
   ]
  },
  {
   "cell_type": "code",
   "execution_count": null,
   "metadata": {},
   "outputs": [],
   "source": []
  }
 ],
 "metadata": {
  "ExecuteTimeLog": [
   {
    "duration": 812,
    "start_time": "2023-01-24T11:07:19.098Z"
   },
   {
    "duration": 792,
    "start_time": "2023-01-24T11:30:09.238Z"
   },
   {
    "duration": 118,
    "start_time": "2023-01-24T11:31:41.567Z"
   },
   {
    "duration": 114,
    "start_time": "2023-01-24T11:32:42.000Z"
   },
   {
    "duration": 2612,
    "start_time": "2023-01-24T11:32:47.037Z"
   },
   {
    "duration": 2137,
    "start_time": "2023-01-24T11:35:27.317Z"
   },
   {
    "duration": 102,
    "start_time": "2023-01-24T11:35:35.755Z"
   },
   {
    "duration": 101,
    "start_time": "2023-01-24T11:37:21.274Z"
   },
   {
    "duration": 99,
    "start_time": "2023-01-24T11:37:32.348Z"
   },
   {
    "duration": 9,
    "start_time": "2023-01-24T11:47:30.177Z"
   },
   {
    "duration": 87,
    "start_time": "2023-01-24T11:50:08.046Z"
   },
   {
    "duration": 25,
    "start_time": "2023-01-24T11:50:27.964Z"
   },
   {
    "duration": 28,
    "start_time": "2023-01-24T11:50:36.808Z"
   },
   {
    "duration": 38,
    "start_time": "2023-01-24T11:51:33.287Z"
   },
   {
    "duration": 9,
    "start_time": "2023-01-24T12:26:05.007Z"
   },
   {
    "duration": 7,
    "start_time": "2023-01-24T12:26:31.073Z"
   },
   {
    "duration": 46,
    "start_time": "2023-01-26T06:15:49.843Z"
   },
   {
    "duration": 2793,
    "start_time": "2023-01-26T06:15:57.856Z"
   },
   {
    "duration": 29,
    "start_time": "2023-01-26T06:16:00.651Z"
   },
   {
    "duration": 6,
    "start_time": "2023-01-26T06:16:00.681Z"
   },
   {
    "duration": 20,
    "start_time": "2023-01-26T06:16:00.689Z"
   },
   {
    "duration": 72,
    "start_time": "2023-01-26T06:16:22.847Z"
   },
   {
    "duration": 5,
    "start_time": "2023-01-26T06:16:34.057Z"
   },
   {
    "duration": 5,
    "start_time": "2023-01-26T06:18:51.994Z"
   },
   {
    "duration": 4,
    "start_time": "2023-01-26T06:19:46.730Z"
   },
   {
    "duration": 8,
    "start_time": "2023-01-26T06:19:57.049Z"
   },
   {
    "duration": 9,
    "start_time": "2023-01-26T06:37:37.350Z"
   },
   {
    "duration": 43,
    "start_time": "2023-01-26T06:38:03.156Z"
   },
   {
    "duration": 8,
    "start_time": "2023-01-26T06:38:25.705Z"
   },
   {
    "duration": 37,
    "start_time": "2023-01-26T06:38:44.969Z"
   },
   {
    "duration": 5,
    "start_time": "2023-01-26T06:39:16.361Z"
   },
   {
    "duration": 11,
    "start_time": "2023-01-26T06:39:31.736Z"
   },
   {
    "duration": 5,
    "start_time": "2023-01-26T06:39:39.366Z"
   },
   {
    "duration": 42,
    "start_time": "2023-01-26T06:41:27.972Z"
   },
   {
    "duration": 5,
    "start_time": "2023-01-26T06:41:34.160Z"
   },
   {
    "duration": 28,
    "start_time": "2023-01-26T06:42:41.161Z"
   },
   {
    "duration": 22,
    "start_time": "2023-01-26T06:43:12.259Z"
   },
   {
    "duration": 5,
    "start_time": "2023-01-26T06:43:33.780Z"
   },
   {
    "duration": 2739,
    "start_time": "2023-01-26T06:43:43.646Z"
   },
   {
    "duration": 37,
    "start_time": "2023-01-26T06:43:46.387Z"
   },
   {
    "duration": 14,
    "start_time": "2023-01-26T06:43:46.426Z"
   },
   {
    "duration": 29,
    "start_time": "2023-01-26T06:43:46.442Z"
   },
   {
    "duration": 16,
    "start_time": "2023-01-26T06:43:46.473Z"
   },
   {
    "duration": 8,
    "start_time": "2023-01-26T06:52:31.162Z"
   },
   {
    "duration": 7,
    "start_time": "2023-01-26T06:52:58.829Z"
   },
   {
    "duration": 82,
    "start_time": "2023-01-26T06:53:09.458Z"
   },
   {
    "duration": 7,
    "start_time": "2023-01-26T06:53:19.651Z"
   },
   {
    "duration": 14,
    "start_time": "2023-01-26T06:54:22.763Z"
   },
   {
    "duration": 8,
    "start_time": "2023-01-26T06:54:38.922Z"
   },
   {
    "duration": 13,
    "start_time": "2023-01-26T06:55:32.862Z"
   },
   {
    "duration": 6,
    "start_time": "2023-01-26T06:57:13.690Z"
   },
   {
    "duration": 7,
    "start_time": "2023-01-26T06:57:28.589Z"
   },
   {
    "duration": 9,
    "start_time": "2023-01-26T06:58:41.770Z"
   },
   {
    "duration": 4,
    "start_time": "2023-01-26T07:20:23.760Z"
   },
   {
    "duration": 7,
    "start_time": "2023-01-26T07:20:33.523Z"
   },
   {
    "duration": 8,
    "start_time": "2023-01-26T07:20:45.082Z"
   },
   {
    "duration": 6,
    "start_time": "2023-01-26T07:29:29.285Z"
   },
   {
    "duration": 62,
    "start_time": "2023-01-26T07:39:10.453Z"
   },
   {
    "duration": 81,
    "start_time": "2023-01-26T07:39:40.196Z"
   },
   {
    "duration": 64,
    "start_time": "2023-01-26T07:39:49.093Z"
   },
   {
    "duration": 10,
    "start_time": "2023-01-26T07:40:13.322Z"
   },
   {
    "duration": 9,
    "start_time": "2023-01-26T07:40:28.241Z"
   },
   {
    "duration": 10,
    "start_time": "2023-01-26T07:41:18.829Z"
   },
   {
    "duration": 13,
    "start_time": "2023-01-26T07:41:30.282Z"
   },
   {
    "duration": 24,
    "start_time": "2023-01-26T07:42:11.140Z"
   },
   {
    "duration": 28,
    "start_time": "2023-01-26T07:42:17.787Z"
   },
   {
    "duration": 33,
    "start_time": "2023-01-26T07:54:21.274Z"
   },
   {
    "duration": 2906,
    "start_time": "2023-01-26T07:54:27.963Z"
   },
   {
    "duration": 33,
    "start_time": "2023-01-26T07:54:30.872Z"
   },
   {
    "duration": 8,
    "start_time": "2023-01-26T07:54:30.907Z"
   },
   {
    "duration": 42,
    "start_time": "2023-01-26T07:54:30.917Z"
   },
   {
    "duration": 40,
    "start_time": "2023-01-26T07:54:30.961Z"
   },
   {
    "duration": 20,
    "start_time": "2023-01-26T07:54:31.003Z"
   },
   {
    "duration": 46,
    "start_time": "2023-01-26T07:54:31.024Z"
   },
   {
    "duration": 12,
    "start_time": "2023-01-26T07:55:09.092Z"
   },
   {
    "duration": 14,
    "start_time": "2023-01-26T07:55:50.405Z"
   },
   {
    "duration": 81,
    "start_time": "2023-01-26T07:57:18.437Z"
   },
   {
    "duration": 10,
    "start_time": "2023-01-26T07:57:34.681Z"
   },
   {
    "duration": 5,
    "start_time": "2023-01-26T07:57:49.516Z"
   },
   {
    "duration": 13,
    "start_time": "2023-01-26T07:58:13.620Z"
   },
   {
    "duration": 279,
    "start_time": "2023-01-26T08:22:26.250Z"
   },
   {
    "duration": 114,
    "start_time": "2023-01-26T08:23:52.211Z"
   },
   {
    "duration": 904,
    "start_time": "2023-01-26T08:29:28.037Z"
   },
   {
    "duration": 140,
    "start_time": "2023-01-26T08:29:38.584Z"
   },
   {
    "duration": 344,
    "start_time": "2023-01-26T08:30:04.645Z"
   },
   {
    "duration": 123,
    "start_time": "2023-01-26T08:30:30.272Z"
   },
   {
    "duration": 344,
    "start_time": "2023-01-26T08:30:41.209Z"
   },
   {
    "duration": 2194,
    "start_time": "2023-01-26T08:39:30.816Z"
   },
   {
    "duration": 126,
    "start_time": "2023-01-26T08:39:33.886Z"
   },
   {
    "duration": 11,
    "start_time": "2023-01-26T08:41:37.089Z"
   },
   {
    "duration": 10,
    "start_time": "2023-01-26T08:42:01.166Z"
   },
   {
    "duration": 7,
    "start_time": "2023-01-26T08:42:07.323Z"
   },
   {
    "duration": 8,
    "start_time": "2023-01-26T08:42:59.354Z"
   },
   {
    "duration": 7,
    "start_time": "2023-01-26T08:43:06.123Z"
   },
   {
    "duration": 130,
    "start_time": "2023-01-26T08:45:29.314Z"
   },
   {
    "duration": 153,
    "start_time": "2023-01-26T08:45:37.805Z"
   },
   {
    "duration": 243,
    "start_time": "2023-01-26T08:45:54.525Z"
   },
   {
    "duration": 44,
    "start_time": "2023-01-26T08:46:27.510Z"
   },
   {
    "duration": 2281,
    "start_time": "2023-01-26T08:46:34.018Z"
   },
   {
    "duration": 319,
    "start_time": "2023-01-26T08:49:09.343Z"
   },
   {
    "duration": 435,
    "start_time": "2023-01-26T08:49:58.106Z"
   },
   {
    "duration": 371,
    "start_time": "2023-01-26T08:50:12.614Z"
   },
   {
    "duration": 486,
    "start_time": "2023-01-26T08:50:36.133Z"
   },
   {
    "duration": 301,
    "start_time": "2023-01-26T08:50:53.528Z"
   },
   {
    "duration": 1159,
    "start_time": "2023-01-26T08:51:17.844Z"
   },
   {
    "duration": 169,
    "start_time": "2023-01-26T08:51:44.119Z"
   },
   {
    "duration": 822,
    "start_time": "2023-01-26T08:53:40.085Z"
   },
   {
    "duration": 924,
    "start_time": "2023-01-26T08:54:01.977Z"
   },
   {
    "duration": 863,
    "start_time": "2023-01-26T08:54:32.121Z"
   },
   {
    "duration": 143,
    "start_time": "2023-01-26T08:54:54.545Z"
   },
   {
    "duration": 121,
    "start_time": "2023-01-26T08:55:41.216Z"
   },
   {
    "duration": 169,
    "start_time": "2023-01-26T08:55:51.480Z"
   },
   {
    "duration": 136,
    "start_time": "2023-01-26T08:56:03.715Z"
   },
   {
    "duration": 217,
    "start_time": "2023-01-26T08:56:34.164Z"
   },
   {
    "duration": 283,
    "start_time": "2023-01-26T09:02:45.210Z"
   },
   {
    "duration": 295,
    "start_time": "2023-01-26T09:03:55.358Z"
   },
   {
    "duration": 300,
    "start_time": "2023-01-26T09:04:15.326Z"
   },
   {
    "duration": 340,
    "start_time": "2023-01-26T09:06:04.340Z"
   },
   {
    "duration": 293,
    "start_time": "2023-01-26T09:06:09.629Z"
   },
   {
    "duration": 516,
    "start_time": "2023-01-26T09:09:46.938Z"
   },
   {
    "duration": 264,
    "start_time": "2023-01-26T09:10:05.758Z"
   },
   {
    "duration": 269,
    "start_time": "2023-01-26T09:10:13.739Z"
   },
   {
    "duration": 270,
    "start_time": "2023-01-26T09:13:56.688Z"
   },
   {
    "duration": 9,
    "start_time": "2023-01-26T09:14:25.269Z"
   },
   {
    "duration": 9,
    "start_time": "2023-01-26T09:14:46.618Z"
   },
   {
    "duration": 10,
    "start_time": "2023-01-26T09:15:11.236Z"
   },
   {
    "duration": 9,
    "start_time": "2023-01-26T09:15:31.362Z"
   },
   {
    "duration": 9,
    "start_time": "2023-01-26T09:15:36.728Z"
   },
   {
    "duration": 555,
    "start_time": "2023-01-26T09:15:45.501Z"
   },
   {
    "duration": 2522,
    "start_time": "2023-01-26T09:15:46.059Z"
   },
   {
    "duration": 33,
    "start_time": "2023-01-26T09:15:48.582Z"
   },
   {
    "duration": 5,
    "start_time": "2023-01-26T09:15:48.617Z"
   },
   {
    "duration": 15,
    "start_time": "2023-01-26T09:15:48.624Z"
   },
   {
    "duration": 16,
    "start_time": "2023-01-26T09:15:48.641Z"
   },
   {
    "duration": 6,
    "start_time": "2023-01-26T09:15:48.659Z"
   },
   {
    "duration": 17,
    "start_time": "2023-01-26T09:15:48.667Z"
   },
   {
    "duration": 293,
    "start_time": "2023-01-26T09:15:48.685Z"
   },
   {
    "duration": 287,
    "start_time": "2023-01-26T09:15:48.980Z"
   },
   {
    "duration": 267,
    "start_time": "2023-01-26T09:17:13.673Z"
   },
   {
    "duration": 265,
    "start_time": "2023-01-26T09:18:46.532Z"
   },
   {
    "duration": 5,
    "start_time": "2023-01-26T09:28:06.400Z"
   },
   {
    "duration": 4,
    "start_time": "2023-01-26T09:28:28.706Z"
   },
   {
    "duration": 6,
    "start_time": "2023-01-26T09:29:37.058Z"
   },
   {
    "duration": 74,
    "start_time": "2023-01-26T09:32:52.857Z"
   },
   {
    "duration": 6,
    "start_time": "2023-01-26T09:33:07.546Z"
   },
   {
    "duration": 5,
    "start_time": "2023-01-26T09:33:16.490Z"
   },
   {
    "duration": 9,
    "start_time": "2023-01-26T09:33:44.754Z"
   },
   {
    "duration": 550,
    "start_time": "2023-01-26T09:34:14.397Z"
   },
   {
    "duration": 2359,
    "start_time": "2023-01-26T09:34:14.950Z"
   },
   {
    "duration": 33,
    "start_time": "2023-01-26T09:34:17.311Z"
   },
   {
    "duration": 7,
    "start_time": "2023-01-26T09:34:17.346Z"
   },
   {
    "duration": 39,
    "start_time": "2023-01-26T09:34:17.355Z"
   },
   {
    "duration": 39,
    "start_time": "2023-01-26T09:34:17.396Z"
   },
   {
    "duration": 70,
    "start_time": "2023-01-26T09:34:17.437Z"
   },
   {
    "duration": 59,
    "start_time": "2023-01-26T09:34:17.509Z"
   },
   {
    "duration": 15,
    "start_time": "2023-01-26T09:34:17.570Z"
   },
   {
    "duration": 278,
    "start_time": "2023-01-26T09:34:17.587Z"
   },
   {
    "duration": 193,
    "start_time": "2023-01-26T09:34:17.867Z"
   },
   {
    "duration": 8,
    "start_time": "2023-01-26T09:35:22.238Z"
   },
   {
    "duration": 5,
    "start_time": "2023-01-26T09:36:08.608Z"
   },
   {
    "duration": 15,
    "start_time": "2023-01-26T09:47:28.195Z"
   },
   {
    "duration": 6,
    "start_time": "2023-01-26T09:48:03.279Z"
   },
   {
    "duration": 6,
    "start_time": "2023-01-26T09:48:24.574Z"
   },
   {
    "duration": 124,
    "start_time": "2023-01-26T09:51:05.054Z"
   },
   {
    "duration": 156,
    "start_time": "2023-01-26T09:51:14.056Z"
   },
   {
    "duration": 140,
    "start_time": "2023-01-26T09:51:37.745Z"
   },
   {
    "duration": 159,
    "start_time": "2023-01-26T09:51:57.485Z"
   },
   {
    "duration": 22,
    "start_time": "2023-01-26T09:57:02.705Z"
   },
   {
    "duration": 5,
    "start_time": "2023-01-26T10:24:03.101Z"
   },
   {
    "duration": 7,
    "start_time": "2023-01-26T10:24:21.407Z"
   },
   {
    "duration": 7,
    "start_time": "2023-01-26T10:24:30.717Z"
   },
   {
    "duration": 87,
    "start_time": "2023-01-26T10:24:45.473Z"
   },
   {
    "duration": 7,
    "start_time": "2023-01-26T10:25:21.926Z"
   },
   {
    "duration": 578,
    "start_time": "2023-01-26T10:26:27.171Z"
   },
   {
    "duration": 2353,
    "start_time": "2023-01-26T10:26:27.752Z"
   },
   {
    "duration": 33,
    "start_time": "2023-01-26T10:26:30.106Z"
   },
   {
    "duration": 5,
    "start_time": "2023-01-26T10:26:30.142Z"
   },
   {
    "duration": 34,
    "start_time": "2023-01-26T10:26:30.149Z"
   },
   {
    "duration": 33,
    "start_time": "2023-01-26T10:26:30.185Z"
   },
   {
    "duration": 33,
    "start_time": "2023-01-26T10:26:30.220Z"
   },
   {
    "duration": 51,
    "start_time": "2023-01-26T10:26:30.254Z"
   },
   {
    "duration": 47,
    "start_time": "2023-01-26T10:26:30.307Z"
   },
   {
    "duration": 189,
    "start_time": "2023-01-26T10:26:30.357Z"
   },
   {
    "duration": 24,
    "start_time": "2023-01-26T10:26:30.548Z"
   },
   {
    "duration": 8,
    "start_time": "2023-01-26T10:26:30.573Z"
   },
   {
    "duration": 270,
    "start_time": "2023-01-26T10:26:30.604Z"
   },
   {
    "duration": 182,
    "start_time": "2023-01-26T10:26:30.876Z"
   },
   {
    "duration": 5,
    "start_time": "2023-01-26T10:27:00.500Z"
   },
   {
    "duration": 8,
    "start_time": "2023-01-26T10:27:17.193Z"
   },
   {
    "duration": 499,
    "start_time": "2023-01-26T10:27:46.337Z"
   },
   {
    "duration": 2371,
    "start_time": "2023-01-26T10:27:46.838Z"
   },
   {
    "duration": 33,
    "start_time": "2023-01-26T10:27:49.211Z"
   },
   {
    "duration": 36,
    "start_time": "2023-01-26T10:27:49.246Z"
   },
   {
    "duration": 53,
    "start_time": "2023-01-26T10:27:49.284Z"
   },
   {
    "duration": 49,
    "start_time": "2023-01-26T10:27:49.339Z"
   },
   {
    "duration": 50,
    "start_time": "2023-01-26T10:27:49.390Z"
   },
   {
    "duration": 54,
    "start_time": "2023-01-26T10:27:49.442Z"
   },
   {
    "duration": 43,
    "start_time": "2023-01-26T10:27:49.497Z"
   },
   {
    "duration": 195,
    "start_time": "2023-01-26T10:27:49.542Z"
   },
   {
    "duration": 23,
    "start_time": "2023-01-26T10:27:49.739Z"
   },
   {
    "duration": 19,
    "start_time": "2023-01-26T10:27:49.764Z"
   },
   {
    "duration": 277,
    "start_time": "2023-01-26T10:27:49.785Z"
   },
   {
    "duration": 188,
    "start_time": "2023-01-26T10:27:50.065Z"
   },
   {
    "duration": 6,
    "start_time": "2023-01-26T10:28:04.051Z"
   },
   {
    "duration": 169,
    "start_time": "2023-01-26T10:28:09.173Z"
   },
   {
    "duration": 20,
    "start_time": "2023-01-26T10:28:13.934Z"
   },
   {
    "duration": 7,
    "start_time": "2023-01-26T10:28:17.144Z"
   },
   {
    "duration": 298,
    "start_time": "2023-01-26T10:28:23.594Z"
   },
   {
    "duration": 73,
    "start_time": "2023-01-26T10:35:45.597Z"
   },
   {
    "duration": 172,
    "start_time": "2023-01-26T10:35:58.257Z"
   },
   {
    "duration": 189,
    "start_time": "2023-01-26T10:37:03.399Z"
   },
   {
    "duration": 328,
    "start_time": "2023-01-26T10:37:12.637Z"
   },
   {
    "duration": 280,
    "start_time": "2023-01-26T10:37:22.324Z"
   },
   {
    "duration": 49,
    "start_time": "2023-01-26T10:38:19.190Z"
   },
   {
    "duration": 544,
    "start_time": "2023-01-26T10:38:47.584Z"
   },
   {
    "duration": 2311,
    "start_time": "2023-01-26T10:38:48.130Z"
   },
   {
    "duration": 36,
    "start_time": "2023-01-26T10:38:50.442Z"
   },
   {
    "duration": 6,
    "start_time": "2023-01-26T10:38:50.481Z"
   },
   {
    "duration": 16,
    "start_time": "2023-01-26T10:38:50.489Z"
   },
   {
    "duration": 11,
    "start_time": "2023-01-26T10:38:50.507Z"
   },
   {
    "duration": 8,
    "start_time": "2023-01-26T10:38:50.521Z"
   },
   {
    "duration": 24,
    "start_time": "2023-01-26T10:38:50.530Z"
   },
   {
    "duration": 6,
    "start_time": "2023-01-26T10:38:50.556Z"
   },
   {
    "duration": 53,
    "start_time": "2023-01-26T10:38:50.566Z"
   },
   {
    "duration": 8,
    "start_time": "2023-01-26T10:38:50.621Z"
   },
   {
    "duration": 273,
    "start_time": "2023-01-26T10:38:50.631Z"
   },
   {
    "duration": 157,
    "start_time": "2023-01-26T10:38:50.906Z"
   },
   {
    "duration": 228,
    "start_time": "2023-01-26T10:38:51.064Z"
   },
   {
    "duration": 55,
    "start_time": "2023-01-26T10:38:51.294Z"
   },
   {
    "duration": 324,
    "start_time": "2023-01-26T10:38:51.350Z"
   },
   {
    "duration": 112,
    "start_time": "2023-01-26T10:39:15.507Z"
   },
   {
    "duration": 2170,
    "start_time": "2023-01-26T10:39:19.851Z"
   },
   {
    "duration": 28,
    "start_time": "2023-01-26T10:39:29.148Z"
   },
   {
    "duration": 7,
    "start_time": "2023-01-26T10:39:33.225Z"
   },
   {
    "duration": 9,
    "start_time": "2023-01-26T10:39:35.284Z"
   },
   {
    "duration": 9,
    "start_time": "2023-01-26T10:39:41.479Z"
   },
   {
    "duration": 7,
    "start_time": "2023-01-26T10:39:43.483Z"
   },
   {
    "duration": 14,
    "start_time": "2023-01-26T10:39:50.771Z"
   },
   {
    "duration": 5,
    "start_time": "2023-01-26T10:40:00.301Z"
   },
   {
    "duration": 5,
    "start_time": "2023-01-26T10:40:04.731Z"
   },
   {
    "duration": 13,
    "start_time": "2023-01-26T10:40:08.497Z"
   },
   {
    "duration": 4,
    "start_time": "2023-01-26T10:40:11.797Z"
   },
   {
    "duration": 4,
    "start_time": "2023-01-26T10:40:38.392Z"
   },
   {
    "duration": 14,
    "start_time": "2023-01-26T10:40:48.610Z"
   },
   {
    "duration": 4,
    "start_time": "2023-01-26T10:40:52.188Z"
   },
   {
    "duration": 23,
    "start_time": "2023-01-26T10:40:56.258Z"
   },
   {
    "duration": 7,
    "start_time": "2023-01-26T10:41:07.600Z"
   },
   {
    "duration": 8,
    "start_time": "2023-01-26T10:41:19.961Z"
   },
   {
    "duration": 7,
    "start_time": "2023-01-26T10:41:36.504Z"
   },
   {
    "duration": 543,
    "start_time": "2023-01-26T10:42:00.868Z"
   },
   {
    "duration": 2570,
    "start_time": "2023-01-26T10:42:01.415Z"
   },
   {
    "duration": 39,
    "start_time": "2023-01-26T10:42:03.986Z"
   },
   {
    "duration": 14,
    "start_time": "2023-01-26T10:42:04.028Z"
   },
   {
    "duration": 29,
    "start_time": "2023-01-26T10:42:04.045Z"
   },
   {
    "duration": 45,
    "start_time": "2023-01-26T10:42:04.076Z"
   },
   {
    "duration": 26,
    "start_time": "2023-01-26T10:42:04.122Z"
   },
   {
    "duration": 38,
    "start_time": "2023-01-26T10:42:04.150Z"
   },
   {
    "duration": 44,
    "start_time": "2023-01-26T10:42:04.191Z"
   },
   {
    "duration": 36,
    "start_time": "2023-01-26T10:42:04.238Z"
   },
   {
    "duration": 24,
    "start_time": "2023-01-26T10:42:04.276Z"
   },
   {
    "duration": 339,
    "start_time": "2023-01-26T10:42:04.302Z"
   },
   {
    "duration": 165,
    "start_time": "2023-01-26T10:42:04.643Z"
   },
   {
    "duration": 219,
    "start_time": "2023-01-26T10:42:04.811Z"
   },
   {
    "duration": 46,
    "start_time": "2023-01-26T10:42:05.032Z"
   },
   {
    "duration": 302,
    "start_time": "2023-01-26T10:42:05.081Z"
   },
   {
    "duration": 50,
    "start_time": "2023-01-26T10:42:43.684Z"
   },
   {
    "duration": 4,
    "start_time": "2023-01-26T10:42:49.906Z"
   },
   {
    "duration": 4,
    "start_time": "2023-01-26T10:43:03.085Z"
   },
   {
    "duration": 4,
    "start_time": "2023-01-26T10:43:08.569Z"
   },
   {
    "duration": 4,
    "start_time": "2023-01-26T10:43:18.131Z"
   },
   {
    "duration": 5,
    "start_time": "2023-01-26T10:43:39.104Z"
   },
   {
    "duration": 4,
    "start_time": "2023-01-26T10:44:10.566Z"
   },
   {
    "duration": 3,
    "start_time": "2023-01-26T10:44:24.526Z"
   },
   {
    "duration": 4,
    "start_time": "2023-01-26T10:44:37.005Z"
   },
   {
    "duration": 3,
    "start_time": "2023-01-26T10:45:05.821Z"
   },
   {
    "duration": 4,
    "start_time": "2023-01-26T10:45:16.988Z"
   },
   {
    "duration": 5,
    "start_time": "2023-01-26T10:46:24.183Z"
   },
   {
    "duration": 15,
    "start_time": "2023-01-26T10:47:13.667Z"
   },
   {
    "duration": 15,
    "start_time": "2023-01-26T10:47:51.987Z"
   },
   {
    "duration": 8,
    "start_time": "2023-01-26T10:48:04.771Z"
   },
   {
    "duration": 520,
    "start_time": "2023-01-26T10:48:23.025Z"
   },
   {
    "duration": 2350,
    "start_time": "2023-01-26T10:48:23.547Z"
   },
   {
    "duration": 31,
    "start_time": "2023-01-26T10:48:25.898Z"
   },
   {
    "duration": 5,
    "start_time": "2023-01-26T10:48:25.931Z"
   },
   {
    "duration": 14,
    "start_time": "2023-01-26T10:48:25.937Z"
   },
   {
    "duration": 8,
    "start_time": "2023-01-26T10:48:25.952Z"
   },
   {
    "duration": 23,
    "start_time": "2023-01-26T10:48:25.961Z"
   },
   {
    "duration": 26,
    "start_time": "2023-01-26T10:48:25.986Z"
   },
   {
    "duration": 24,
    "start_time": "2023-01-26T10:48:26.013Z"
   },
   {
    "duration": 41,
    "start_time": "2023-01-26T10:48:26.039Z"
   },
   {
    "duration": 279,
    "start_time": "2023-01-26T10:48:26.081Z"
   },
   {
    "duration": 161,
    "start_time": "2023-01-26T10:48:26.361Z"
   },
   {
    "duration": 206,
    "start_time": "2023-01-26T10:48:26.524Z"
   },
   {
    "duration": 276,
    "start_time": "2023-01-26T10:48:26.731Z"
   },
   {
    "duration": 555,
    "start_time": "2023-01-26T11:03:58.900Z"
   },
   {
    "duration": 2315,
    "start_time": "2023-01-26T11:03:59.458Z"
   },
   {
    "duration": 30,
    "start_time": "2023-01-26T11:04:01.775Z"
   },
   {
    "duration": 5,
    "start_time": "2023-01-26T11:04:01.808Z"
   },
   {
    "duration": 27,
    "start_time": "2023-01-26T11:04:01.815Z"
   },
   {
    "duration": 44,
    "start_time": "2023-01-26T11:04:01.844Z"
   },
   {
    "duration": 67,
    "start_time": "2023-01-26T11:04:01.889Z"
   },
   {
    "duration": 27,
    "start_time": "2023-01-26T11:04:01.958Z"
   },
   {
    "duration": 58,
    "start_time": "2023-01-26T11:04:01.987Z"
   },
   {
    "duration": 7,
    "start_time": "2023-01-26T11:04:02.047Z"
   },
   {
    "duration": 267,
    "start_time": "2023-01-26T11:04:02.055Z"
   },
   {
    "duration": 155,
    "start_time": "2023-01-26T11:04:02.323Z"
   },
   {
    "duration": 208,
    "start_time": "2023-01-26T11:04:02.480Z"
   },
   {
    "duration": 320,
    "start_time": "2023-01-26T11:04:02.690Z"
   },
   {
    "duration": 50,
    "start_time": "2023-01-26T11:05:54.407Z"
   },
   {
    "duration": 534,
    "start_time": "2023-01-26T11:06:14.297Z"
   },
   {
    "duration": 2383,
    "start_time": "2023-01-26T11:06:19.718Z"
   },
   {
    "duration": 30,
    "start_time": "2023-01-26T11:06:25.445Z"
   },
   {
    "duration": 7,
    "start_time": "2023-01-26T11:06:47.449Z"
   },
   {
    "duration": 9,
    "start_time": "2023-01-26T11:06:49.950Z"
   },
   {
    "duration": 7,
    "start_time": "2023-01-26T11:06:51.991Z"
   },
   {
    "duration": 15,
    "start_time": "2023-01-26T11:06:57.844Z"
   },
   {
    "duration": 15,
    "start_time": "2023-01-26T11:07:01.754Z"
   },
   {
    "duration": 14,
    "start_time": "2023-01-26T11:07:21.418Z"
   },
   {
    "duration": 5,
    "start_time": "2023-01-26T11:09:16.922Z"
   },
   {
    "duration": 6,
    "start_time": "2023-01-26T11:09:19.220Z"
   },
   {
    "duration": 4,
    "start_time": "2023-01-26T11:09:47.642Z"
   },
   {
    "duration": 5,
    "start_time": "2023-01-26T11:10:00.488Z"
   },
   {
    "duration": 73,
    "start_time": "2023-01-26T11:10:25.307Z"
   },
   {
    "duration": 8,
    "start_time": "2023-01-26T11:10:42.069Z"
   },
   {
    "duration": 9,
    "start_time": "2023-01-26T11:11:17.753Z"
   },
   {
    "duration": 6,
    "start_time": "2023-01-26T11:11:26.640Z"
   },
   {
    "duration": 7,
    "start_time": "2023-01-26T11:11:49.177Z"
   },
   {
    "duration": 6,
    "start_time": "2023-01-26T11:11:54.862Z"
   },
   {
    "duration": 8,
    "start_time": "2023-01-26T11:12:10.181Z"
   },
   {
    "duration": 7,
    "start_time": "2023-01-26T11:12:18.514Z"
   },
   {
    "duration": 49,
    "start_time": "2023-01-26T11:12:46.304Z"
   },
   {
    "duration": 536,
    "start_time": "2023-01-26T11:13:22.633Z"
   },
   {
    "duration": 2387,
    "start_time": "2023-01-26T11:13:28.074Z"
   },
   {
    "duration": 29,
    "start_time": "2023-01-26T11:13:37.058Z"
   },
   {
    "duration": 27,
    "start_time": "2023-01-26T11:13:54.806Z"
   },
   {
    "duration": 7,
    "start_time": "2023-01-26T11:13:58.329Z"
   },
   {
    "duration": 9,
    "start_time": "2023-01-26T11:14:00.774Z"
   },
   {
    "duration": 6,
    "start_time": "2023-01-26T11:14:03.947Z"
   },
   {
    "duration": 13,
    "start_time": "2023-01-26T11:14:09.029Z"
   },
   {
    "duration": 6,
    "start_time": "2023-01-26T11:14:22.705Z"
   },
   {
    "duration": 5,
    "start_time": "2023-01-26T11:14:34.328Z"
   },
   {
    "duration": 26,
    "start_time": "2023-01-26T11:14:47.923Z"
   },
   {
    "duration": 239,
    "start_time": "2023-01-26T11:15:31.797Z"
   },
   {
    "duration": 145,
    "start_time": "2023-01-26T11:15:37.521Z"
   },
   {
    "duration": 183,
    "start_time": "2023-01-26T11:15:41.037Z"
   },
   {
    "duration": 9,
    "start_time": "2023-01-26T11:16:03.693Z"
   },
   {
    "duration": 8,
    "start_time": "2023-01-26T11:16:24.572Z"
   },
   {
    "duration": 9,
    "start_time": "2023-01-26T11:16:38.629Z"
   },
   {
    "duration": 4,
    "start_time": "2023-01-26T11:31:48.809Z"
   },
   {
    "duration": 9,
    "start_time": "2023-01-26T11:43:08.313Z"
   },
   {
    "duration": 79,
    "start_time": "2023-01-26T11:44:32.875Z"
   },
   {
    "duration": 13,
    "start_time": "2023-01-26T11:44:39.628Z"
   },
   {
    "duration": 8,
    "start_time": "2023-01-26T11:44:53.914Z"
   },
   {
    "duration": 6,
    "start_time": "2023-01-26T11:50:53.410Z"
   },
   {
    "duration": 179,
    "start_time": "2023-01-26T11:51:35.584Z"
   },
   {
    "duration": 17,
    "start_time": "2023-01-26T11:53:06.950Z"
   },
   {
    "duration": 45,
    "start_time": "2023-01-26T11:58:45.864Z"
   },
   {
    "duration": 51,
    "start_time": "2023-01-26T11:59:00.151Z"
   },
   {
    "duration": 22,
    "start_time": "2023-01-26T11:59:14.785Z"
   },
   {
    "duration": 24,
    "start_time": "2023-01-26T11:59:25.791Z"
   },
   {
    "duration": 29,
    "start_time": "2023-01-26T12:06:53.817Z"
   },
   {
    "duration": 23,
    "start_time": "2023-01-26T12:07:48.286Z"
   },
   {
    "duration": 19,
    "start_time": "2023-01-26T12:10:38.939Z"
   },
   {
    "duration": 13,
    "start_time": "2023-01-26T12:13:09.917Z"
   },
   {
    "duration": 11,
    "start_time": "2023-01-26T12:14:05.349Z"
   },
   {
    "duration": 19,
    "start_time": "2023-01-26T12:24:20.025Z"
   },
   {
    "duration": 13,
    "start_time": "2023-01-26T12:24:34.645Z"
   },
   {
    "duration": 140,
    "start_time": "2023-01-26T12:24:56.091Z"
   },
   {
    "duration": 204,
    "start_time": "2023-01-26T12:25:12.036Z"
   },
   {
    "duration": 231,
    "start_time": "2023-01-26T12:25:22.166Z"
   },
   {
    "duration": 164,
    "start_time": "2023-01-26T12:25:54.966Z"
   },
   {
    "duration": 7,
    "start_time": "2023-01-26T12:26:55.487Z"
   },
   {
    "duration": 8,
    "start_time": "2023-01-26T12:28:14.702Z"
   },
   {
    "duration": 5,
    "start_time": "2023-01-26T12:28:46.976Z"
   },
   {
    "duration": 7,
    "start_time": "2023-01-26T12:30:01.737Z"
   },
   {
    "duration": 32,
    "start_time": "2023-01-26T12:40:26.165Z"
   },
   {
    "duration": 44,
    "start_time": "2023-01-26T12:42:51.726Z"
   },
   {
    "duration": 42,
    "start_time": "2023-01-26T12:43:00.657Z"
   },
   {
    "duration": 15,
    "start_time": "2023-01-26T12:43:29.785Z"
   },
   {
    "duration": 8,
    "start_time": "2023-01-26T12:51:15.965Z"
   },
   {
    "duration": 11,
    "start_time": "2023-01-26T12:52:16.574Z"
   },
   {
    "duration": 7,
    "start_time": "2023-01-26T12:52:36.579Z"
   },
   {
    "duration": 397,
    "start_time": "2023-01-26T12:55:34.885Z"
   },
   {
    "duration": 75,
    "start_time": "2023-01-26T12:55:39.990Z"
   },
   {
    "duration": 44,
    "start_time": "2023-01-26T12:55:47.431Z"
   },
   {
    "duration": 5408,
    "start_time": "2023-01-26T12:56:36.593Z"
   },
   {
    "duration": 5408,
    "start_time": "2023-01-26T12:56:58.733Z"
   },
   {
    "duration": 5404,
    "start_time": "2023-01-26T12:57:09.486Z"
   },
   {
    "duration": 5426,
    "start_time": "2023-01-26T12:57:52.454Z"
   },
   {
    "duration": 94,
    "start_time": "2023-01-26T12:58:26.022Z"
   },
   {
    "duration": 548,
    "start_time": "2023-01-26T12:58:55.540Z"
   },
   {
    "duration": 2620,
    "start_time": "2023-01-26T12:58:56.091Z"
   },
   {
    "duration": 35,
    "start_time": "2023-01-26T12:58:58.719Z"
   },
   {
    "duration": 7,
    "start_time": "2023-01-26T12:58:58.757Z"
   },
   {
    "duration": 11,
    "start_time": "2023-01-26T12:58:58.765Z"
   },
   {
    "duration": 27,
    "start_time": "2023-01-26T12:58:58.779Z"
   },
   {
    "duration": 13,
    "start_time": "2023-01-26T12:58:58.808Z"
   },
   {
    "duration": 9,
    "start_time": "2023-01-26T12:58:58.823Z"
   },
   {
    "duration": 5,
    "start_time": "2023-01-26T12:58:58.834Z"
   },
   {
    "duration": 30,
    "start_time": "2023-01-26T12:58:58.841Z"
   },
   {
    "duration": 33,
    "start_time": "2023-01-26T12:58:58.872Z"
   },
   {
    "duration": 313,
    "start_time": "2023-01-26T12:58:58.910Z"
   },
   {
    "duration": 200,
    "start_time": "2023-01-26T12:58:59.225Z"
   },
   {
    "duration": 230,
    "start_time": "2023-01-26T12:58:59.428Z"
   },
   {
    "duration": 112,
    "start_time": "2023-01-26T12:58:59.660Z"
   },
   {
    "duration": 206,
    "start_time": "2023-01-26T12:58:59.774Z"
   },
   {
    "duration": 325,
    "start_time": "2023-01-26T12:58:59.982Z"
   },
   {
    "duration": 25,
    "start_time": "2023-01-26T12:59:00.309Z"
   },
   {
    "duration": 69,
    "start_time": "2023-01-26T12:59:00.336Z"
   },
   {
    "duration": 271,
    "start_time": "2023-01-26T13:02:42.801Z"
   },
   {
    "duration": 119,
    "start_time": "2023-01-26T13:02:54.351Z"
   },
   {
    "duration": 53,
    "start_time": "2023-01-26T13:07:22.533Z"
   },
   {
    "duration": 51,
    "start_time": "2023-01-26T13:07:32.558Z"
   },
   {
    "duration": 44,
    "start_time": "2023-01-26T13:07:37.493Z"
   },
   {
    "duration": 42,
    "start_time": "2023-01-26T13:08:23.619Z"
   },
   {
    "duration": 69,
    "start_time": "2023-01-26T13:08:51.088Z"
   },
   {
    "duration": 43,
    "start_time": "2023-01-26T13:09:38.041Z"
   },
   {
    "duration": 85,
    "start_time": "2023-01-26T13:13:42.362Z"
   },
   {
    "duration": 231,
    "start_time": "2023-01-26T13:13:51.957Z"
   },
   {
    "duration": 27,
    "start_time": "2023-01-26T13:17:41.249Z"
   },
   {
    "duration": 613,
    "start_time": "2023-01-26T13:18:03.067Z"
   },
   {
    "duration": 2753,
    "start_time": "2023-01-26T13:18:03.704Z"
   },
   {
    "duration": 33,
    "start_time": "2023-01-26T13:18:06.459Z"
   },
   {
    "duration": 7,
    "start_time": "2023-01-26T13:18:06.494Z"
   },
   {
    "duration": 31,
    "start_time": "2023-01-26T13:18:06.504Z"
   },
   {
    "duration": 21,
    "start_time": "2023-01-26T13:18:06.537Z"
   },
   {
    "duration": 41,
    "start_time": "2023-01-26T13:18:06.561Z"
   },
   {
    "duration": 16,
    "start_time": "2023-01-26T13:18:06.605Z"
   },
   {
    "duration": 24,
    "start_time": "2023-01-26T13:18:06.623Z"
   },
   {
    "duration": 40,
    "start_time": "2023-01-26T13:18:06.649Z"
   },
   {
    "duration": 21,
    "start_time": "2023-01-26T13:18:06.692Z"
   },
   {
    "duration": 271,
    "start_time": "2023-01-26T13:18:06.715Z"
   },
   {
    "duration": 158,
    "start_time": "2023-01-26T13:18:06.988Z"
   },
   {
    "duration": 240,
    "start_time": "2023-01-26T13:18:07.150Z"
   },
   {
    "duration": 112,
    "start_time": "2023-01-26T13:18:07.392Z"
   },
   {
    "duration": 0,
    "start_time": "2023-01-26T13:18:07.506Z"
   },
   {
    "duration": 0,
    "start_time": "2023-01-26T13:18:07.512Z"
   },
   {
    "duration": 0,
    "start_time": "2023-01-26T13:18:07.514Z"
   },
   {
    "duration": 0,
    "start_time": "2023-01-26T13:18:07.515Z"
   },
   {
    "duration": 19,
    "start_time": "2023-01-26T13:18:28.647Z"
   },
   {
    "duration": 47,
    "start_time": "2023-01-26T13:19:01.150Z"
   },
   {
    "duration": 15,
    "start_time": "2023-01-26T13:19:15.567Z"
   },
   {
    "duration": 22,
    "start_time": "2023-01-26T13:20:21.873Z"
   },
   {
    "duration": 24,
    "start_time": "2023-01-26T13:20:26.366Z"
   },
   {
    "duration": 27,
    "start_time": "2023-01-26T13:20:35.627Z"
   },
   {
    "duration": 50,
    "start_time": "2023-01-26T13:20:52.202Z"
   },
   {
    "duration": 170,
    "start_time": "2023-01-26T13:22:12.959Z"
   },
   {
    "duration": 310,
    "start_time": "2023-01-26T13:22:30.436Z"
   },
   {
    "duration": 17,
    "start_time": "2023-01-26T13:22:47.463Z"
   },
   {
    "duration": 57,
    "start_time": "2023-01-26T13:23:03.678Z"
   },
   {
    "duration": 32,
    "start_time": "2023-01-26T13:23:15.364Z"
   },
   {
    "duration": 4,
    "start_time": "2023-01-26T19:30:16.668Z"
   },
   {
    "duration": 7,
    "start_time": "2023-01-26T19:30:26.671Z"
   },
   {
    "duration": 9,
    "start_time": "2023-01-26T19:30:45.157Z"
   },
   {
    "duration": 24,
    "start_time": "2023-01-26T19:31:03.107Z"
   },
   {
    "duration": 8,
    "start_time": "2023-01-26T19:31:19.360Z"
   },
   {
    "duration": 7,
    "start_time": "2023-01-26T19:31:27.756Z"
   },
   {
    "duration": 532,
    "start_time": "2023-01-26T19:31:36.822Z"
   },
   {
    "duration": 2213,
    "start_time": "2023-01-26T19:31:37.355Z"
   },
   {
    "duration": 30,
    "start_time": "2023-01-26T19:31:39.570Z"
   },
   {
    "duration": 6,
    "start_time": "2023-01-26T19:31:39.602Z"
   },
   {
    "duration": 10,
    "start_time": "2023-01-26T19:31:39.610Z"
   },
   {
    "duration": 9,
    "start_time": "2023-01-26T19:31:39.621Z"
   },
   {
    "duration": 8,
    "start_time": "2023-01-26T19:31:39.631Z"
   },
   {
    "duration": 10,
    "start_time": "2023-01-26T19:31:39.641Z"
   },
   {
    "duration": 5,
    "start_time": "2023-01-26T19:31:39.653Z"
   },
   {
    "duration": 21,
    "start_time": "2023-01-26T19:31:39.661Z"
   },
   {
    "duration": 39,
    "start_time": "2023-01-26T19:31:39.684Z"
   },
   {
    "duration": 249,
    "start_time": "2023-01-26T19:31:39.724Z"
   },
   {
    "duration": 149,
    "start_time": "2023-01-26T19:31:39.975Z"
   },
   {
    "duration": 192,
    "start_time": "2023-01-26T19:31:40.125Z"
   },
   {
    "duration": 62,
    "start_time": "2023-01-26T19:31:40.321Z"
   },
   {
    "duration": 152,
    "start_time": "2023-01-26T19:31:40.385Z"
   },
   {
    "duration": 273,
    "start_time": "2023-01-26T19:31:40.539Z"
   },
   {
    "duration": 17,
    "start_time": "2023-01-26T19:31:40.814Z"
   },
   {
    "duration": 29,
    "start_time": "2023-01-26T19:31:40.833Z"
   },
   {
    "duration": 6,
    "start_time": "2023-01-26T19:33:40.631Z"
   },
   {
    "duration": 7,
    "start_time": "2023-01-26T19:34:01.702Z"
   },
   {
    "duration": 4,
    "start_time": "2023-01-26T19:34:40.706Z"
   },
   {
    "duration": 13,
    "start_time": "2023-01-26T19:34:44.900Z"
   },
   {
    "duration": 14,
    "start_time": "2023-01-26T19:35:33.675Z"
   },
   {
    "duration": 6,
    "start_time": "2023-01-26T19:36:03.516Z"
   },
   {
    "duration": 4,
    "start_time": "2023-01-26T19:36:54.442Z"
   },
   {
    "duration": 6,
    "start_time": "2023-01-26T19:37:04.694Z"
   },
   {
    "duration": 10,
    "start_time": "2023-01-26T19:44:56.802Z"
   },
   {
    "duration": 283,
    "start_time": "2023-01-26T19:45:14.414Z"
   },
   {
    "duration": 212,
    "start_time": "2023-01-26T19:45:24.338Z"
   },
   {
    "duration": 181,
    "start_time": "2023-01-26T19:45:27.813Z"
   },
   {
    "duration": 45,
    "start_time": "2023-01-26T19:45:34.244Z"
   },
   {
    "duration": 5836,
    "start_time": "2023-01-26T19:47:24.581Z"
   },
   {
    "duration": 5933,
    "start_time": "2023-01-26T19:47:42.372Z"
   },
   {
    "duration": 38,
    "start_time": "2023-01-26T19:48:36.062Z"
   },
   {
    "duration": 92,
    "start_time": "2023-01-26T19:57:42.995Z"
   },
   {
    "duration": 4,
    "start_time": "2023-01-26T19:57:58.598Z"
   },
   {
    "duration": 19,
    "start_time": "2023-01-26T19:58:17.731Z"
   },
   {
    "duration": 66,
    "start_time": "2023-01-27T09:24:55.534Z"
   },
   {
    "duration": 881,
    "start_time": "2023-01-27T09:25:03.707Z"
   },
   {
    "duration": 3109,
    "start_time": "2023-01-27T09:25:04.591Z"
   },
   {
    "duration": 52,
    "start_time": "2023-01-27T09:25:07.703Z"
   },
   {
    "duration": 4,
    "start_time": "2023-01-27T09:25:07.757Z"
   },
   {
    "duration": 16,
    "start_time": "2023-01-27T09:25:07.764Z"
   },
   {
    "duration": 9,
    "start_time": "2023-01-27T09:25:07.782Z"
   },
   {
    "duration": 8,
    "start_time": "2023-01-27T09:25:07.793Z"
   },
   {
    "duration": 26,
    "start_time": "2023-01-27T09:25:07.803Z"
   },
   {
    "duration": 16,
    "start_time": "2023-01-27T09:25:07.831Z"
   },
   {
    "duration": 29,
    "start_time": "2023-01-27T09:25:07.849Z"
   },
   {
    "duration": 9,
    "start_time": "2023-01-27T09:25:07.880Z"
   },
   {
    "duration": 320,
    "start_time": "2023-01-27T09:25:07.891Z"
   },
   {
    "duration": 209,
    "start_time": "2023-01-27T09:25:08.213Z"
   },
   {
    "duration": 315,
    "start_time": "2023-01-27T09:25:08.425Z"
   },
   {
    "duration": 58,
    "start_time": "2023-01-27T09:25:08.741Z"
   },
   {
    "duration": 22,
    "start_time": "2023-01-27T09:25:08.801Z"
   },
   {
    "duration": 193,
    "start_time": "2023-01-27T09:25:08.824Z"
   },
   {
    "duration": 372,
    "start_time": "2023-01-27T09:25:09.025Z"
   },
   {
    "duration": 25,
    "start_time": "2023-01-27T09:25:09.399Z"
   },
   {
    "duration": 57,
    "start_time": "2023-01-27T09:25:09.426Z"
   },
   {
    "duration": 6,
    "start_time": "2023-01-27T09:25:53.866Z"
   },
   {
    "duration": 11,
    "start_time": "2023-01-27T09:26:45.439Z"
   },
   {
    "duration": 52,
    "start_time": "2023-01-27T09:26:55.017Z"
   },
   {
    "duration": 59,
    "start_time": "2023-01-27T09:27:56.701Z"
   },
   {
    "duration": 38,
    "start_time": "2023-01-27T09:29:48.481Z"
   },
   {
    "duration": 39,
    "start_time": "2023-01-27T09:29:54.742Z"
   },
   {
    "duration": 16,
    "start_time": "2023-01-27T09:38:14.995Z"
   },
   {
    "duration": 17,
    "start_time": "2023-01-27T09:38:52.733Z"
   },
   {
    "duration": 7,
    "start_time": "2023-01-27T09:42:34.936Z"
   },
   {
    "duration": 366,
    "start_time": "2023-01-27T10:15:40.281Z"
   },
   {
    "duration": 11,
    "start_time": "2023-01-27T10:16:30.027Z"
   },
   {
    "duration": 7,
    "start_time": "2023-01-27T10:21:40.472Z"
   },
   {
    "duration": 6,
    "start_time": "2023-01-27T10:22:08.752Z"
   },
   {
    "duration": 7,
    "start_time": "2023-01-27T10:23:07.731Z"
   },
   {
    "duration": 12,
    "start_time": "2023-01-27T10:23:22.689Z"
   },
   {
    "duration": 6,
    "start_time": "2023-01-27T10:23:39.546Z"
   },
   {
    "duration": 8,
    "start_time": "2023-01-27T10:24:07.665Z"
   },
   {
    "duration": 7,
    "start_time": "2023-01-27T10:24:15.849Z"
   },
   {
    "duration": 142,
    "start_time": "2023-01-27T10:25:21.170Z"
   },
   {
    "duration": 138,
    "start_time": "2023-01-27T10:25:34.099Z"
   },
   {
    "duration": 131,
    "start_time": "2023-01-27T10:26:02.936Z"
   },
   {
    "duration": 3,
    "start_time": "2023-01-27T10:26:28.003Z"
   },
   {
    "duration": 142,
    "start_time": "2023-01-27T10:27:11.146Z"
   },
   {
    "duration": 144,
    "start_time": "2023-01-27T10:28:54.387Z"
   },
   {
    "duration": 147,
    "start_time": "2023-01-27T10:29:18.176Z"
   },
   {
    "duration": 141,
    "start_time": "2023-01-27T10:29:33.881Z"
   },
   {
    "duration": 146,
    "start_time": "2023-01-27T10:30:28.600Z"
   },
   {
    "duration": 143,
    "start_time": "2023-01-27T10:30:43.929Z"
   },
   {
    "duration": 215,
    "start_time": "2023-01-27T10:33:14.100Z"
   },
   {
    "duration": 237,
    "start_time": "2023-01-27T10:34:11.778Z"
   },
   {
    "duration": 274,
    "start_time": "2023-01-27T10:34:41.283Z"
   },
   {
    "duration": 190,
    "start_time": "2023-01-27T10:34:49.297Z"
   },
   {
    "duration": 192,
    "start_time": "2023-01-27T10:34:56.451Z"
   },
   {
    "duration": 236,
    "start_time": "2023-01-27T10:35:47.010Z"
   },
   {
    "duration": 207,
    "start_time": "2023-01-27T10:35:58.479Z"
   },
   {
    "duration": 229,
    "start_time": "2023-01-27T10:36:14.028Z"
   },
   {
    "duration": 210,
    "start_time": "2023-01-27T10:37:12.491Z"
   },
   {
    "duration": 167,
    "start_time": "2023-01-27T10:37:24.762Z"
   },
   {
    "duration": 176,
    "start_time": "2023-01-27T10:45:07.175Z"
   },
   {
    "duration": 327,
    "start_time": "2023-01-27T10:45:31.872Z"
   },
   {
    "duration": 216,
    "start_time": "2023-01-27T10:45:52.235Z"
   },
   {
    "duration": 196,
    "start_time": "2023-01-27T10:45:59.477Z"
   },
   {
    "duration": 197,
    "start_time": "2023-01-27T10:46:21.603Z"
   },
   {
    "duration": 232,
    "start_time": "2023-01-27T10:47:06.689Z"
   },
   {
    "duration": 176,
    "start_time": "2023-01-27T10:47:17.409Z"
   },
   {
    "duration": 166,
    "start_time": "2023-01-27T10:47:27.555Z"
   },
   {
    "duration": 162,
    "start_time": "2023-01-27T10:48:19.692Z"
   },
   {
    "duration": 253,
    "start_time": "2023-01-27T10:49:21.349Z"
   },
   {
    "duration": 280,
    "start_time": "2023-01-27T10:58:09.315Z"
   },
   {
    "duration": 356,
    "start_time": "2023-01-27T10:59:19.825Z"
   },
   {
    "duration": 219,
    "start_time": "2023-01-27T10:59:31.956Z"
   },
   {
    "duration": 234,
    "start_time": "2023-01-27T10:59:37.808Z"
   },
   {
    "duration": 237,
    "start_time": "2023-01-27T10:59:42.669Z"
   },
   {
    "duration": 228,
    "start_time": "2023-01-27T10:59:52.426Z"
   },
   {
    "duration": 236,
    "start_time": "2023-01-27T11:00:29.901Z"
   },
   {
    "duration": 72,
    "start_time": "2023-01-27T11:01:50.480Z"
   },
   {
    "duration": 241,
    "start_time": "2023-01-27T11:01:59.506Z"
   },
   {
    "duration": 249,
    "start_time": "2023-01-27T11:03:23.025Z"
   },
   {
    "duration": 605,
    "start_time": "2023-01-27T11:05:19.677Z"
   },
   {
    "duration": 450,
    "start_time": "2023-01-27T11:05:49.061Z"
   },
   {
    "duration": 463,
    "start_time": "2023-01-27T11:07:16.250Z"
   },
   {
    "duration": 435,
    "start_time": "2023-01-27T11:07:29.444Z"
   },
   {
    "duration": 628,
    "start_time": "2023-01-27T11:10:08.189Z"
   },
   {
    "duration": 447,
    "start_time": "2023-01-27T11:10:41.956Z"
   },
   {
    "duration": 451,
    "start_time": "2023-01-27T11:11:06.152Z"
   },
   {
    "duration": 435,
    "start_time": "2023-01-27T11:12:10.968Z"
   },
   {
    "duration": 438,
    "start_time": "2023-01-27T11:12:23.344Z"
   },
   {
    "duration": 12,
    "start_time": "2023-01-27T11:12:55.434Z"
   },
   {
    "duration": 445,
    "start_time": "2023-01-27T11:12:56.776Z"
   },
   {
    "duration": 9,
    "start_time": "2023-01-27T11:13:10.069Z"
   },
   {
    "duration": 631,
    "start_time": "2023-01-27T11:13:37.071Z"
   },
   {
    "duration": 126,
    "start_time": "2023-01-27T11:17:05.191Z"
   },
   {
    "duration": 16,
    "start_time": "2023-01-27T11:17:20.081Z"
   },
   {
    "duration": 21,
    "start_time": "2023-01-27T11:17:24.717Z"
   },
   {
    "duration": 559,
    "start_time": "2023-01-27T11:17:33.861Z"
   },
   {
    "duration": 2522,
    "start_time": "2023-01-27T11:17:34.422Z"
   },
   {
    "duration": 4,
    "start_time": "2023-01-27T11:17:36.947Z"
   },
   {
    "duration": 12,
    "start_time": "2023-01-27T11:17:36.954Z"
   },
   {
    "duration": 36,
    "start_time": "2023-01-27T11:17:36.968Z"
   },
   {
    "duration": 8,
    "start_time": "2023-01-27T11:17:37.006Z"
   },
   {
    "duration": 13,
    "start_time": "2023-01-27T11:17:37.016Z"
   },
   {
    "duration": 7,
    "start_time": "2023-01-27T11:17:37.030Z"
   },
   {
    "duration": 10,
    "start_time": "2023-01-27T11:17:37.039Z"
   },
   {
    "duration": 10,
    "start_time": "2023-01-27T11:17:37.052Z"
   },
   {
    "duration": 23,
    "start_time": "2023-01-27T11:17:37.064Z"
   },
   {
    "duration": 39,
    "start_time": "2023-01-27T11:17:37.089Z"
   },
   {
    "duration": 273,
    "start_time": "2023-01-27T11:17:37.130Z"
   },
   {
    "duration": 180,
    "start_time": "2023-01-27T11:17:37.405Z"
   },
   {
    "duration": 53,
    "start_time": "2023-01-27T11:17:37.587Z"
   },
   {
    "duration": 44,
    "start_time": "2023-01-27T11:17:37.642Z"
   },
   {
    "duration": 11,
    "start_time": "2023-01-27T11:17:37.688Z"
   },
   {
    "duration": 204,
    "start_time": "2023-01-27T11:17:37.722Z"
   },
   {
    "duration": 204,
    "start_time": "2023-01-27T11:17:37.928Z"
   },
   {
    "duration": 573,
    "start_time": "2023-01-27T11:17:38.134Z"
   },
   {
    "duration": 468,
    "start_time": "2023-01-27T11:17:38.709Z"
   },
   {
    "duration": 354,
    "start_time": "2023-01-27T11:17:39.179Z"
   },
   {
    "duration": 13,
    "start_time": "2023-01-27T11:17:39.535Z"
   },
   {
    "duration": 11,
    "start_time": "2023-01-27T11:17:39.549Z"
   },
   {
    "duration": 215,
    "start_time": "2023-01-27T11:20:54.475Z"
   },
   {
    "duration": 100,
    "start_time": "2023-01-27T11:21:09.545Z"
   },
   {
    "duration": 332,
    "start_time": "2023-01-27T11:21:32.545Z"
   },
   {
    "duration": 316,
    "start_time": "2023-01-27T11:21:41.257Z"
   },
   {
    "duration": 459,
    "start_time": "2023-01-27T11:22:00.401Z"
   },
   {
    "duration": 175,
    "start_time": "2023-01-27T11:22:25.712Z"
   },
   {
    "duration": 146,
    "start_time": "2023-01-27T11:22:30.433Z"
   },
   {
    "duration": 549,
    "start_time": "2023-01-27T11:23:16.279Z"
   },
   {
    "duration": 2426,
    "start_time": "2023-01-27T11:23:16.831Z"
   },
   {
    "duration": 4,
    "start_time": "2023-01-27T11:23:19.259Z"
   },
   {
    "duration": 35,
    "start_time": "2023-01-27T11:23:19.266Z"
   },
   {
    "duration": 41,
    "start_time": "2023-01-27T11:23:19.302Z"
   },
   {
    "duration": 7,
    "start_time": "2023-01-27T11:23:19.345Z"
   },
   {
    "duration": 24,
    "start_time": "2023-01-27T11:23:19.354Z"
   },
   {
    "duration": 26,
    "start_time": "2023-01-27T11:23:19.379Z"
   },
   {
    "duration": 39,
    "start_time": "2023-01-27T11:23:19.407Z"
   },
   {
    "duration": 6,
    "start_time": "2023-01-27T11:23:19.449Z"
   },
   {
    "duration": 28,
    "start_time": "2023-01-27T11:23:19.457Z"
   },
   {
    "duration": 12,
    "start_time": "2023-01-27T11:23:19.487Z"
   },
   {
    "duration": 192,
    "start_time": "2023-01-27T11:23:19.501Z"
   },
   {
    "duration": 158,
    "start_time": "2023-01-27T11:23:19.694Z"
   },
   {
    "duration": 179,
    "start_time": "2023-01-27T11:23:19.854Z"
   },
   {
    "duration": 34,
    "start_time": "2023-01-27T11:23:20.036Z"
   },
   {
    "duration": 13,
    "start_time": "2023-01-27T11:23:20.072Z"
   },
   {
    "duration": 229,
    "start_time": "2023-01-27T11:23:20.087Z"
   },
   {
    "duration": 205,
    "start_time": "2023-01-27T11:23:20.320Z"
   },
   {
    "duration": 539,
    "start_time": "2023-01-27T11:23:20.527Z"
   },
   {
    "duration": 475,
    "start_time": "2023-01-27T11:23:21.068Z"
   },
   {
    "duration": 349,
    "start_time": "2023-01-27T11:23:21.545Z"
   },
   {
    "duration": 11,
    "start_time": "2023-01-27T11:23:21.896Z"
   },
   {
    "duration": 8,
    "start_time": "2023-01-27T11:23:21.921Z"
   },
   {
    "duration": 41,
    "start_time": "2023-01-27T11:24:54.090Z"
   },
   {
    "duration": 16,
    "start_time": "2023-01-27T11:24:58.966Z"
   },
   {
    "duration": 159,
    "start_time": "2023-01-27T11:29:52.417Z"
   },
   {
    "duration": 179,
    "start_time": "2023-01-27T11:29:59.105Z"
   },
   {
    "duration": 10,
    "start_time": "2023-01-27T11:30:10.491Z"
   },
   {
    "duration": 264,
    "start_time": "2023-01-27T11:30:41.919Z"
   },
   {
    "duration": 651,
    "start_time": "2023-01-27T11:33:04.001Z"
   },
   {
    "duration": 2557,
    "start_time": "2023-01-27T11:33:04.655Z"
   },
   {
    "duration": 4,
    "start_time": "2023-01-27T11:33:07.214Z"
   },
   {
    "duration": 11,
    "start_time": "2023-01-27T11:33:07.221Z"
   },
   {
    "duration": 11,
    "start_time": "2023-01-27T11:33:07.234Z"
   },
   {
    "duration": 33,
    "start_time": "2023-01-27T11:33:07.247Z"
   },
   {
    "duration": 50,
    "start_time": "2023-01-27T11:33:07.282Z"
   },
   {
    "duration": 10,
    "start_time": "2023-01-27T11:33:07.334Z"
   },
   {
    "duration": 6,
    "start_time": "2023-01-27T11:33:07.345Z"
   },
   {
    "duration": 21,
    "start_time": "2023-01-27T11:33:07.354Z"
   },
   {
    "duration": 10,
    "start_time": "2023-01-27T11:33:07.377Z"
   },
   {
    "duration": 36,
    "start_time": "2023-01-27T11:33:07.388Z"
   },
   {
    "duration": 9,
    "start_time": "2023-01-27T11:33:07.426Z"
   },
   {
    "duration": 25,
    "start_time": "2023-01-27T11:33:07.437Z"
   },
   {
    "duration": 10,
    "start_time": "2023-01-27T11:33:07.463Z"
   },
   {
    "duration": 200,
    "start_time": "2023-01-27T11:33:07.475Z"
   },
   {
    "duration": 161,
    "start_time": "2023-01-27T11:33:07.677Z"
   },
   {
    "duration": 188,
    "start_time": "2023-01-27T11:33:07.840Z"
   },
   {
    "duration": 11,
    "start_time": "2023-01-27T11:33:08.030Z"
   },
   {
    "duration": 245,
    "start_time": "2023-01-27T11:33:08.043Z"
   },
   {
    "duration": 221,
    "start_time": "2023-01-27T11:33:08.290Z"
   },
   {
    "duration": 573,
    "start_time": "2023-01-27T11:33:08.513Z"
   },
   {
    "duration": 490,
    "start_time": "2023-01-27T11:33:09.088Z"
   },
   {
    "duration": 370,
    "start_time": "2023-01-27T11:33:09.580Z"
   },
   {
    "duration": 12,
    "start_time": "2023-01-27T11:33:09.952Z"
   },
   {
    "duration": 12,
    "start_time": "2023-01-27T11:33:09.966Z"
   },
   {
    "duration": 8,
    "start_time": "2023-01-27T11:34:53.952Z"
   },
   {
    "duration": 143,
    "start_time": "2023-01-27T11:35:02.746Z"
   },
   {
    "duration": 188,
    "start_time": "2023-01-27T11:37:54.089Z"
   },
   {
    "duration": 290,
    "start_time": "2023-01-27T11:38:03.915Z"
   },
   {
    "duration": 214,
    "start_time": "2023-01-27T11:38:11.634Z"
   },
   {
    "duration": 8,
    "start_time": "2023-01-27T11:39:00.826Z"
   },
   {
    "duration": 5,
    "start_time": "2023-01-27T11:39:12.668Z"
   },
   {
    "duration": 7,
    "start_time": "2023-01-27T11:39:40.915Z"
   },
   {
    "duration": 412,
    "start_time": "2023-01-27T11:41:18.803Z"
   },
   {
    "duration": 398,
    "start_time": "2023-01-27T11:41:26.289Z"
   },
   {
    "duration": 386,
    "start_time": "2023-01-27T11:41:35.167Z"
   },
   {
    "duration": 677,
    "start_time": "2023-01-27T11:43:14.233Z"
   },
   {
    "duration": 746,
    "start_time": "2023-01-27T11:43:43.104Z"
   },
   {
    "duration": 241,
    "start_time": "2023-01-27T11:48:34.302Z"
   },
   {
    "duration": 217,
    "start_time": "2023-01-27T11:48:57.513Z"
   },
   {
    "duration": 217,
    "start_time": "2023-01-27T11:52:44.388Z"
   },
   {
    "duration": 220,
    "start_time": "2023-01-27T11:52:50.802Z"
   },
   {
    "duration": 200,
    "start_time": "2023-01-27T11:52:57.123Z"
   },
   {
    "duration": 2699,
    "start_time": "2023-01-27T11:56:54.562Z"
   },
   {
    "duration": 192,
    "start_time": "2023-01-27T11:57:15.480Z"
   },
   {
    "duration": 217,
    "start_time": "2023-01-27T11:57:31.488Z"
   },
   {
    "duration": 199,
    "start_time": "2023-01-27T11:57:43.824Z"
   },
   {
    "duration": 197,
    "start_time": "2023-01-27T11:58:09.278Z"
   },
   {
    "duration": 194,
    "start_time": "2023-01-27T11:58:20.215Z"
   },
   {
    "duration": 175,
    "start_time": "2023-01-27T11:58:32.937Z"
   },
   {
    "duration": 196,
    "start_time": "2023-01-27T11:59:02.159Z"
   },
   {
    "duration": 176,
    "start_time": "2023-01-27T11:59:19.991Z"
   },
   {
    "duration": 179,
    "start_time": "2023-01-27T11:59:45.990Z"
   },
   {
    "duration": 184,
    "start_time": "2023-01-27T11:59:53.953Z"
   },
   {
    "duration": 7,
    "start_time": "2023-01-27T12:04:41.723Z"
   },
   {
    "duration": 5,
    "start_time": "2023-01-27T12:04:56.186Z"
   },
   {
    "duration": 5,
    "start_time": "2023-01-27T12:05:14.805Z"
   },
   {
    "duration": 218,
    "start_time": "2023-01-27T12:06:49.566Z"
   },
   {
    "duration": 200,
    "start_time": "2023-01-27T12:07:05.786Z"
   },
   {
    "duration": 212,
    "start_time": "2023-01-27T12:07:16.203Z"
   },
   {
    "duration": 213,
    "start_time": "2023-01-27T12:10:37.722Z"
   },
   {
    "duration": 423,
    "start_time": "2023-01-27T12:10:46.292Z"
   },
   {
    "duration": 213,
    "start_time": "2023-01-27T12:10:55.580Z"
   },
   {
    "duration": 173,
    "start_time": "2023-01-27T12:11:00.433Z"
   },
   {
    "duration": 6,
    "start_time": "2023-01-27T12:12:10.751Z"
   },
   {
    "duration": 7,
    "start_time": "2023-01-27T12:12:38.085Z"
   },
   {
    "duration": 187,
    "start_time": "2023-01-27T12:24:27.224Z"
   },
   {
    "duration": 199,
    "start_time": "2023-01-27T12:24:38.328Z"
   },
   {
    "duration": 11,
    "start_time": "2023-01-27T12:24:54.350Z"
   },
   {
    "duration": 177,
    "start_time": "2023-01-27T12:24:56.890Z"
   },
   {
    "duration": 203,
    "start_time": "2023-01-27T12:25:14.271Z"
   },
   {
    "duration": 170,
    "start_time": "2023-01-27T12:25:25.610Z"
   },
   {
    "duration": 634,
    "start_time": "2023-01-27T12:25:33.909Z"
   },
   {
    "duration": 2571,
    "start_time": "2023-01-27T12:25:34.546Z"
   },
   {
    "duration": 4,
    "start_time": "2023-01-27T12:25:37.119Z"
   },
   {
    "duration": 19,
    "start_time": "2023-01-27T12:25:37.126Z"
   },
   {
    "duration": 14,
    "start_time": "2023-01-27T12:25:37.147Z"
   },
   {
    "duration": 34,
    "start_time": "2023-01-27T12:25:37.163Z"
   },
   {
    "duration": 35,
    "start_time": "2023-01-27T12:25:37.199Z"
   },
   {
    "duration": 11,
    "start_time": "2023-01-27T12:25:37.236Z"
   },
   {
    "duration": 6,
    "start_time": "2023-01-27T12:25:37.249Z"
   },
   {
    "duration": 10,
    "start_time": "2023-01-27T12:25:37.257Z"
   },
   {
    "duration": 8,
    "start_time": "2023-01-27T12:25:37.269Z"
   },
   {
    "duration": 44,
    "start_time": "2023-01-27T12:25:37.280Z"
   },
   {
    "duration": 9,
    "start_time": "2023-01-27T12:25:37.326Z"
   },
   {
    "duration": 27,
    "start_time": "2023-01-27T12:25:37.337Z"
   },
   {
    "duration": 8,
    "start_time": "2023-01-27T12:25:37.365Z"
   },
   {
    "duration": 193,
    "start_time": "2023-01-27T12:25:37.376Z"
   },
   {
    "duration": 161,
    "start_time": "2023-01-27T12:25:37.571Z"
   },
   {
    "duration": 178,
    "start_time": "2023-01-27T12:25:37.733Z"
   },
   {
    "duration": 17,
    "start_time": "2023-01-27T12:25:37.913Z"
   },
   {
    "duration": 222,
    "start_time": "2023-01-27T12:25:37.932Z"
   },
   {
    "duration": 203,
    "start_time": "2023-01-27T12:25:38.156Z"
   },
   {
    "duration": 553,
    "start_time": "2023-01-27T12:25:38.362Z"
   },
   {
    "duration": 477,
    "start_time": "2023-01-27T12:25:38.921Z"
   },
   {
    "duration": 594,
    "start_time": "2023-01-27T12:25:39.400Z"
   },
   {
    "duration": 223,
    "start_time": "2023-01-27T12:25:39.996Z"
   },
   {
    "duration": 223,
    "start_time": "2023-01-27T12:25:40.220Z"
   },
   {
    "duration": 5,
    "start_time": "2023-01-27T12:25:40.445Z"
   },
   {
    "duration": 326,
    "start_time": "2023-01-27T12:25:40.453Z"
   },
   {
    "duration": 180,
    "start_time": "2023-01-27T12:25:40.781Z"
   },
   {
    "duration": 8,
    "start_time": "2023-01-27T12:25:40.962Z"
   },
   {
    "duration": 182,
    "start_time": "2023-01-27T12:25:40.971Z"
   },
   {
    "duration": 193,
    "start_time": "2023-01-27T12:25:41.155Z"
   },
   {
    "duration": 292,
    "start_time": "2023-01-27T12:25:41.350Z"
   },
   {
    "duration": 11,
    "start_time": "2023-01-27T12:25:41.644Z"
   },
   {
    "duration": 11,
    "start_time": "2023-01-27T12:25:41.657Z"
   },
   {
    "duration": 173,
    "start_time": "2023-01-27T12:26:25.612Z"
   },
   {
    "duration": 85,
    "start_time": "2023-01-27T12:28:58.992Z"
   },
   {
    "duration": 162,
    "start_time": "2023-01-27T12:29:07.391Z"
   },
   {
    "duration": 183,
    "start_time": "2023-01-27T12:29:37.412Z"
   },
   {
    "duration": 257,
    "start_time": "2023-01-27T12:29:48.405Z"
   },
   {
    "duration": 5,
    "start_time": "2023-01-27T12:30:18.366Z"
   },
   {
    "duration": 175,
    "start_time": "2023-01-27T12:30:47.351Z"
   },
   {
    "duration": 320,
    "start_time": "2023-01-27T12:30:51.044Z"
   },
   {
    "duration": 5,
    "start_time": "2023-01-27T12:30:56.132Z"
   },
   {
    "duration": 189,
    "start_time": "2023-01-27T12:31:14.224Z"
   },
   {
    "duration": 170,
    "start_time": "2023-01-27T12:31:18.340Z"
   },
   {
    "duration": 216,
    "start_time": "2023-01-27T12:31:21.755Z"
   },
   {
    "duration": 211,
    "start_time": "2023-01-27T12:32:16.553Z"
   },
   {
    "duration": 252,
    "start_time": "2023-01-27T12:32:22.905Z"
   },
   {
    "duration": 7,
    "start_time": "2023-01-27T12:32:57.192Z"
   },
   {
    "duration": 172,
    "start_time": "2023-01-27T12:35:21.748Z"
   },
   {
    "duration": 185,
    "start_time": "2023-01-27T12:35:29.385Z"
   },
   {
    "duration": 1460,
    "start_time": "2023-01-27T12:50:42.434Z"
   },
   {
    "duration": 1296,
    "start_time": "2023-01-27T12:51:09.191Z"
   },
   {
    "duration": 1479,
    "start_time": "2023-01-27T12:51:47.120Z"
   },
   {
    "duration": 1274,
    "start_time": "2023-01-27T12:52:11.566Z"
   },
   {
    "duration": 1635,
    "start_time": "2023-01-27T12:52:33.906Z"
   },
   {
    "duration": 1238,
    "start_time": "2023-01-27T12:53:29.745Z"
   },
   {
    "duration": 1521,
    "start_time": "2023-01-27T12:54:05.649Z"
   },
   {
    "duration": 1105,
    "start_time": "2023-01-27T12:54:40.369Z"
   },
   {
    "duration": 552,
    "start_time": "2023-01-29T07:08:46.154Z"
   },
   {
    "duration": 2213,
    "start_time": "2023-01-29T07:08:46.707Z"
   },
   {
    "duration": 3,
    "start_time": "2023-01-29T07:08:48.922Z"
   },
   {
    "duration": 16,
    "start_time": "2023-01-29T07:08:48.927Z"
   },
   {
    "duration": 8,
    "start_time": "2023-01-29T07:08:48.945Z"
   },
   {
    "duration": 30,
    "start_time": "2023-01-29T07:08:48.954Z"
   },
   {
    "duration": 31,
    "start_time": "2023-01-29T07:08:48.986Z"
   },
   {
    "duration": 8,
    "start_time": "2023-01-29T07:08:49.019Z"
   },
   {
    "duration": 5,
    "start_time": "2023-01-29T07:08:49.029Z"
   },
   {
    "duration": 11,
    "start_time": "2023-01-29T07:08:49.035Z"
   },
   {
    "duration": 6,
    "start_time": "2023-01-29T07:08:49.048Z"
   },
   {
    "duration": 8,
    "start_time": "2023-01-29T07:08:49.055Z"
   },
   {
    "duration": 5,
    "start_time": "2023-01-29T07:08:49.064Z"
   },
   {
    "duration": 21,
    "start_time": "2023-01-29T07:08:49.109Z"
   },
   {
    "duration": 6,
    "start_time": "2023-01-29T07:08:49.132Z"
   },
   {
    "duration": 172,
    "start_time": "2023-01-29T07:08:49.139Z"
   },
   {
    "duration": 167,
    "start_time": "2023-01-29T07:08:49.313Z"
   },
   {
    "duration": 9,
    "start_time": "2023-01-29T07:08:49.482Z"
   },
   {
    "duration": 182,
    "start_time": "2023-01-29T07:08:49.493Z"
   },
   {
    "duration": 219,
    "start_time": "2023-01-29T07:08:49.677Z"
   },
   {
    "duration": 383,
    "start_time": "2023-01-29T07:08:49.898Z"
   },
   {
    "duration": 408,
    "start_time": "2023-01-29T07:08:50.282Z"
   },
   {
    "duration": 502,
    "start_time": "2023-01-29T07:08:50.692Z"
   },
   {
    "duration": 177,
    "start_time": "2023-01-29T07:08:51.195Z"
   },
   {
    "duration": 255,
    "start_time": "2023-01-29T07:08:51.374Z"
   },
   {
    "duration": 5,
    "start_time": "2023-01-29T07:08:51.630Z"
   },
   {
    "duration": 187,
    "start_time": "2023-01-29T07:08:51.636Z"
   },
   {
    "duration": 148,
    "start_time": "2023-01-29T07:08:51.825Z"
   },
   {
    "duration": 6,
    "start_time": "2023-01-29T07:08:51.974Z"
   },
   {
    "duration": 158,
    "start_time": "2023-01-29T07:08:51.982Z"
   },
   {
    "duration": 150,
    "start_time": "2023-01-29T07:08:52.142Z"
   },
   {
    "duration": 6,
    "start_time": "2023-01-29T07:08:52.294Z"
   },
   {
    "duration": 160,
    "start_time": "2023-01-29T07:08:52.301Z"
   },
   {
    "duration": 340,
    "start_time": "2023-01-29T07:08:52.462Z"
   },
   {
    "duration": 1031,
    "start_time": "2023-01-29T07:08:52.804Z"
   },
   {
    "duration": 245,
    "start_time": "2023-01-29T07:08:53.837Z"
   },
   {
    "duration": 8,
    "start_time": "2023-01-29T07:08:54.084Z"
   },
   {
    "duration": 6,
    "start_time": "2023-01-29T07:08:54.093Z"
   },
   {
    "duration": 16,
    "start_time": "2023-01-29T07:08:54.100Z"
   },
   {
    "duration": 5,
    "start_time": "2023-01-29T07:08:54.118Z"
   },
   {
    "duration": 424,
    "start_time": "2023-01-29T07:08:54.127Z"
   },
   {
    "duration": 441,
    "start_time": "2023-01-29T07:08:54.553Z"
   },
   {
    "duration": 18,
    "start_time": "2023-01-29T07:08:54.995Z"
   },
   {
    "duration": 524,
    "start_time": "2023-01-29T07:08:55.014Z"
   },
   {
    "duration": 232,
    "start_time": "2023-01-29T07:08:55.540Z"
   },
   {
    "duration": 862,
    "start_time": "2023-01-29T07:08:55.773Z"
   },
   {
    "duration": 312,
    "start_time": "2023-01-29T07:08:56.637Z"
   },
   {
    "duration": 25,
    "start_time": "2023-01-29T07:08:56.951Z"
   },
   {
    "duration": 154,
    "start_time": "2023-01-29T07:08:56.977Z"
   },
   {
    "duration": 270,
    "start_time": "2023-01-29T07:08:57.133Z"
   },
   {
    "duration": 16,
    "start_time": "2023-01-29T07:08:57.405Z"
   },
   {
    "duration": 87,
    "start_time": "2023-01-29T07:09:52.073Z"
   },
   {
    "duration": 127,
    "start_time": "2023-01-29T07:10:20.785Z"
   },
   {
    "duration": 206,
    "start_time": "2023-01-29T07:10:26.292Z"
   },
   {
    "duration": 172,
    "start_time": "2023-01-29T07:10:30.369Z"
   },
   {
    "duration": 213,
    "start_time": "2023-01-29T07:10:33.490Z"
   }
  ],
  "kernelspec": {
   "display_name": "Python 3 (ipykernel)",
   "language": "python",
   "name": "python3"
  },
  "language_info": {
   "codemirror_mode": {
    "name": "ipython",
    "version": 3
   },
   "file_extension": ".py",
   "mimetype": "text/x-python",
   "name": "python",
   "nbconvert_exporter": "python",
   "pygments_lexer": "ipython3",
   "version": "3.9.5"
  },
  "toc": {
   "base_numbering": 1,
   "nav_menu": {},
   "number_sections": true,
   "sideBar": true,
   "skip_h1_title": true,
   "title_cell": "Table of Contents",
   "title_sidebar": "Contents",
   "toc_cell": false,
   "toc_position": {
    "height": "calc(100% - 180px)",
    "left": "10px",
    "top": "150px",
    "width": "165px"
   },
   "toc_section_display": true,
   "toc_window_display": false
  }
 },
 "nbformat": 4,
 "nbformat_minor": 2
}
