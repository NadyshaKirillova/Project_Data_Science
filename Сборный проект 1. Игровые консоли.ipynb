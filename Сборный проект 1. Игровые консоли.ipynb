{
 "cells": [
  {
   "cell_type": "markdown",
   "metadata": {},
   "source": [
    "# Сборный проект "
   ]
  },
  {
   "cell_type": "markdown",
   "metadata": {},
   "source": [
    "В нашем распоряжении данные за 2016 год  по компьютерным играм в интернет-магазине «Стримчик». Цель: выявить определяющие успешность игры закономерности. Это позволит сделать ставку на потенциально популярный продукт и спланировать рекламные кампании. "
   ]
  },
  {
   "cell_type": "markdown",
   "metadata": {},
   "source": [
    "##  Изучение общей информации"
   ]
  },
  {
   "cell_type": "markdown",
   "metadata": {},
   "source": [
    "Начнем анализ. Откроем файл и изучим данные"
   ]
  },
  {
   "cell_type": "code",
   "execution_count": 1,
   "metadata": {},
   "outputs": [],
   "source": [
    "import pandas as pd\n",
    "import seaborn as sns\n",
    "import matplotlib.pyplot as plt"
   ]
  },
  {
   "cell_type": "code",
   "execution_count": 2,
   "metadata": {},
   "outputs": [
    {
     "data": {
      "text/html": [
       "<div>\n",
       "<style scoped>\n",
       "    .dataframe tbody tr th:only-of-type {\n",
       "        vertical-align: middle;\n",
       "    }\n",
       "\n",
       "    .dataframe tbody tr th {\n",
       "        vertical-align: top;\n",
       "    }\n",
       "\n",
       "    .dataframe thead th {\n",
       "        text-align: right;\n",
       "    }\n",
       "</style>\n",
       "<table border=\"1\" class=\"dataframe\">\n",
       "  <thead>\n",
       "    <tr style=\"text-align: right;\">\n",
       "      <th></th>\n",
       "      <th>Name</th>\n",
       "      <th>Platform</th>\n",
       "      <th>Year_of_Release</th>\n",
       "      <th>Genre</th>\n",
       "      <th>NA_sales</th>\n",
       "      <th>EU_sales</th>\n",
       "      <th>JP_sales</th>\n",
       "      <th>Other_sales</th>\n",
       "      <th>Critic_Score</th>\n",
       "      <th>User_Score</th>\n",
       "      <th>Rating</th>\n",
       "    </tr>\n",
       "  </thead>\n",
       "  <tbody>\n",
       "    <tr>\n",
       "      <th>0</th>\n",
       "      <td>Wii Sports</td>\n",
       "      <td>Wii</td>\n",
       "      <td>2006.0</td>\n",
       "      <td>Sports</td>\n",
       "      <td>41.36</td>\n",
       "      <td>28.96</td>\n",
       "      <td>3.77</td>\n",
       "      <td>8.45</td>\n",
       "      <td>76.0</td>\n",
       "      <td>8</td>\n",
       "      <td>E</td>\n",
       "    </tr>\n",
       "    <tr>\n",
       "      <th>1</th>\n",
       "      <td>Super Mario Bros.</td>\n",
       "      <td>NES</td>\n",
       "      <td>1985.0</td>\n",
       "      <td>Platform</td>\n",
       "      <td>29.08</td>\n",
       "      <td>3.58</td>\n",
       "      <td>6.81</td>\n",
       "      <td>0.77</td>\n",
       "      <td>NaN</td>\n",
       "      <td>NaN</td>\n",
       "      <td>NaN</td>\n",
       "    </tr>\n",
       "    <tr>\n",
       "      <th>2</th>\n",
       "      <td>Mario Kart Wii</td>\n",
       "      <td>Wii</td>\n",
       "      <td>2008.0</td>\n",
       "      <td>Racing</td>\n",
       "      <td>15.68</td>\n",
       "      <td>12.76</td>\n",
       "      <td>3.79</td>\n",
       "      <td>3.29</td>\n",
       "      <td>82.0</td>\n",
       "      <td>8.3</td>\n",
       "      <td>E</td>\n",
       "    </tr>\n",
       "    <tr>\n",
       "      <th>3</th>\n",
       "      <td>Wii Sports Resort</td>\n",
       "      <td>Wii</td>\n",
       "      <td>2009.0</td>\n",
       "      <td>Sports</td>\n",
       "      <td>15.61</td>\n",
       "      <td>10.93</td>\n",
       "      <td>3.28</td>\n",
       "      <td>2.95</td>\n",
       "      <td>80.0</td>\n",
       "      <td>8</td>\n",
       "      <td>E</td>\n",
       "    </tr>\n",
       "    <tr>\n",
       "      <th>4</th>\n",
       "      <td>Pokemon Red/Pokemon Blue</td>\n",
       "      <td>GB</td>\n",
       "      <td>1996.0</td>\n",
       "      <td>Role-Playing</td>\n",
       "      <td>11.27</td>\n",
       "      <td>8.89</td>\n",
       "      <td>10.22</td>\n",
       "      <td>1.00</td>\n",
       "      <td>NaN</td>\n",
       "      <td>NaN</td>\n",
       "      <td>NaN</td>\n",
       "    </tr>\n",
       "    <tr>\n",
       "      <th>5</th>\n",
       "      <td>Tetris</td>\n",
       "      <td>GB</td>\n",
       "      <td>1989.0</td>\n",
       "      <td>Puzzle</td>\n",
       "      <td>23.20</td>\n",
       "      <td>2.26</td>\n",
       "      <td>4.22</td>\n",
       "      <td>0.58</td>\n",
       "      <td>NaN</td>\n",
       "      <td>NaN</td>\n",
       "      <td>NaN</td>\n",
       "    </tr>\n",
       "    <tr>\n",
       "      <th>6</th>\n",
       "      <td>New Super Mario Bros.</td>\n",
       "      <td>DS</td>\n",
       "      <td>2006.0</td>\n",
       "      <td>Platform</td>\n",
       "      <td>11.28</td>\n",
       "      <td>9.14</td>\n",
       "      <td>6.50</td>\n",
       "      <td>2.88</td>\n",
       "      <td>89.0</td>\n",
       "      <td>8.5</td>\n",
       "      <td>E</td>\n",
       "    </tr>\n",
       "    <tr>\n",
       "      <th>7</th>\n",
       "      <td>Wii Play</td>\n",
       "      <td>Wii</td>\n",
       "      <td>2006.0</td>\n",
       "      <td>Misc</td>\n",
       "      <td>13.96</td>\n",
       "      <td>9.18</td>\n",
       "      <td>2.93</td>\n",
       "      <td>2.84</td>\n",
       "      <td>58.0</td>\n",
       "      <td>6.6</td>\n",
       "      <td>E</td>\n",
       "    </tr>\n",
       "    <tr>\n",
       "      <th>8</th>\n",
       "      <td>New Super Mario Bros. Wii</td>\n",
       "      <td>Wii</td>\n",
       "      <td>2009.0</td>\n",
       "      <td>Platform</td>\n",
       "      <td>14.44</td>\n",
       "      <td>6.94</td>\n",
       "      <td>4.70</td>\n",
       "      <td>2.24</td>\n",
       "      <td>87.0</td>\n",
       "      <td>8.4</td>\n",
       "      <td>E</td>\n",
       "    </tr>\n",
       "    <tr>\n",
       "      <th>9</th>\n",
       "      <td>Duck Hunt</td>\n",
       "      <td>NES</td>\n",
       "      <td>1984.0</td>\n",
       "      <td>Shooter</td>\n",
       "      <td>26.93</td>\n",
       "      <td>0.63</td>\n",
       "      <td>0.28</td>\n",
       "      <td>0.47</td>\n",
       "      <td>NaN</td>\n",
       "      <td>NaN</td>\n",
       "      <td>NaN</td>\n",
       "    </tr>\n",
       "    <tr>\n",
       "      <th>10</th>\n",
       "      <td>Nintendogs</td>\n",
       "      <td>DS</td>\n",
       "      <td>2005.0</td>\n",
       "      <td>Simulation</td>\n",
       "      <td>9.05</td>\n",
       "      <td>10.95</td>\n",
       "      <td>1.93</td>\n",
       "      <td>2.74</td>\n",
       "      <td>NaN</td>\n",
       "      <td>NaN</td>\n",
       "      <td>NaN</td>\n",
       "    </tr>\n",
       "    <tr>\n",
       "      <th>11</th>\n",
       "      <td>Mario Kart DS</td>\n",
       "      <td>DS</td>\n",
       "      <td>2005.0</td>\n",
       "      <td>Racing</td>\n",
       "      <td>9.71</td>\n",
       "      <td>7.47</td>\n",
       "      <td>4.13</td>\n",
       "      <td>1.90</td>\n",
       "      <td>91.0</td>\n",
       "      <td>8.6</td>\n",
       "      <td>E</td>\n",
       "    </tr>\n",
       "    <tr>\n",
       "      <th>12</th>\n",
       "      <td>Pokemon Gold/Pokemon Silver</td>\n",
       "      <td>GB</td>\n",
       "      <td>1999.0</td>\n",
       "      <td>Role-Playing</td>\n",
       "      <td>9.00</td>\n",
       "      <td>6.18</td>\n",
       "      <td>7.20</td>\n",
       "      <td>0.71</td>\n",
       "      <td>NaN</td>\n",
       "      <td>NaN</td>\n",
       "      <td>NaN</td>\n",
       "    </tr>\n",
       "    <tr>\n",
       "      <th>13</th>\n",
       "      <td>Wii Fit</td>\n",
       "      <td>Wii</td>\n",
       "      <td>2007.0</td>\n",
       "      <td>Sports</td>\n",
       "      <td>8.92</td>\n",
       "      <td>8.03</td>\n",
       "      <td>3.60</td>\n",
       "      <td>2.15</td>\n",
       "      <td>80.0</td>\n",
       "      <td>7.7</td>\n",
       "      <td>E</td>\n",
       "    </tr>\n",
       "    <tr>\n",
       "      <th>14</th>\n",
       "      <td>Kinect Adventures!</td>\n",
       "      <td>X360</td>\n",
       "      <td>2010.0</td>\n",
       "      <td>Misc</td>\n",
       "      <td>15.00</td>\n",
       "      <td>4.89</td>\n",
       "      <td>0.24</td>\n",
       "      <td>1.69</td>\n",
       "      <td>61.0</td>\n",
       "      <td>6.3</td>\n",
       "      <td>E</td>\n",
       "    </tr>\n",
       "    <tr>\n",
       "      <th>15</th>\n",
       "      <td>Wii Fit Plus</td>\n",
       "      <td>Wii</td>\n",
       "      <td>2009.0</td>\n",
       "      <td>Sports</td>\n",
       "      <td>9.01</td>\n",
       "      <td>8.49</td>\n",
       "      <td>2.53</td>\n",
       "      <td>1.77</td>\n",
       "      <td>80.0</td>\n",
       "      <td>7.4</td>\n",
       "      <td>E</td>\n",
       "    </tr>\n",
       "    <tr>\n",
       "      <th>16</th>\n",
       "      <td>Grand Theft Auto V</td>\n",
       "      <td>PS3</td>\n",
       "      <td>2013.0</td>\n",
       "      <td>Action</td>\n",
       "      <td>7.02</td>\n",
       "      <td>9.09</td>\n",
       "      <td>0.98</td>\n",
       "      <td>3.96</td>\n",
       "      <td>97.0</td>\n",
       "      <td>8.2</td>\n",
       "      <td>M</td>\n",
       "    </tr>\n",
       "    <tr>\n",
       "      <th>17</th>\n",
       "      <td>Grand Theft Auto: San Andreas</td>\n",
       "      <td>PS2</td>\n",
       "      <td>2004.0</td>\n",
       "      <td>Action</td>\n",
       "      <td>9.43</td>\n",
       "      <td>0.40</td>\n",
       "      <td>0.41</td>\n",
       "      <td>10.57</td>\n",
       "      <td>95.0</td>\n",
       "      <td>9</td>\n",
       "      <td>M</td>\n",
       "    </tr>\n",
       "    <tr>\n",
       "      <th>18</th>\n",
       "      <td>Super Mario World</td>\n",
       "      <td>SNES</td>\n",
       "      <td>1990.0</td>\n",
       "      <td>Platform</td>\n",
       "      <td>12.78</td>\n",
       "      <td>3.75</td>\n",
       "      <td>3.54</td>\n",
       "      <td>0.55</td>\n",
       "      <td>NaN</td>\n",
       "      <td>NaN</td>\n",
       "      <td>NaN</td>\n",
       "    </tr>\n",
       "    <tr>\n",
       "      <th>19</th>\n",
       "      <td>Brain Age: Train Your Brain in Minutes a Day</td>\n",
       "      <td>DS</td>\n",
       "      <td>2005.0</td>\n",
       "      <td>Misc</td>\n",
       "      <td>4.74</td>\n",
       "      <td>9.20</td>\n",
       "      <td>4.16</td>\n",
       "      <td>2.04</td>\n",
       "      <td>77.0</td>\n",
       "      <td>7.9</td>\n",
       "      <td>E</td>\n",
       "    </tr>\n",
       "    <tr>\n",
       "      <th>20</th>\n",
       "      <td>Pokemon Diamond/Pokemon Pearl</td>\n",
       "      <td>DS</td>\n",
       "      <td>2006.0</td>\n",
       "      <td>Role-Playing</td>\n",
       "      <td>6.38</td>\n",
       "      <td>4.46</td>\n",
       "      <td>6.04</td>\n",
       "      <td>1.36</td>\n",
       "      <td>NaN</td>\n",
       "      <td>NaN</td>\n",
       "      <td>NaN</td>\n",
       "    </tr>\n",
       "    <tr>\n",
       "      <th>21</th>\n",
       "      <td>Super Mario Land</td>\n",
       "      <td>GB</td>\n",
       "      <td>1989.0</td>\n",
       "      <td>Platform</td>\n",
       "      <td>10.83</td>\n",
       "      <td>2.71</td>\n",
       "      <td>4.18</td>\n",
       "      <td>0.42</td>\n",
       "      <td>NaN</td>\n",
       "      <td>NaN</td>\n",
       "      <td>NaN</td>\n",
       "    </tr>\n",
       "    <tr>\n",
       "      <th>22</th>\n",
       "      <td>Super Mario Bros. 3</td>\n",
       "      <td>NES</td>\n",
       "      <td>1988.0</td>\n",
       "      <td>Platform</td>\n",
       "      <td>9.54</td>\n",
       "      <td>3.44</td>\n",
       "      <td>3.84</td>\n",
       "      <td>0.46</td>\n",
       "      <td>NaN</td>\n",
       "      <td>NaN</td>\n",
       "      <td>NaN</td>\n",
       "    </tr>\n",
       "    <tr>\n",
       "      <th>23</th>\n",
       "      <td>Grand Theft Auto V</td>\n",
       "      <td>X360</td>\n",
       "      <td>2013.0</td>\n",
       "      <td>Action</td>\n",
       "      <td>9.66</td>\n",
       "      <td>5.14</td>\n",
       "      <td>0.06</td>\n",
       "      <td>1.41</td>\n",
       "      <td>97.0</td>\n",
       "      <td>8.1</td>\n",
       "      <td>M</td>\n",
       "    </tr>\n",
       "    <tr>\n",
       "      <th>24</th>\n",
       "      <td>Grand Theft Auto: Vice City</td>\n",
       "      <td>PS2</td>\n",
       "      <td>2002.0</td>\n",
       "      <td>Action</td>\n",
       "      <td>8.41</td>\n",
       "      <td>5.49</td>\n",
       "      <td>0.47</td>\n",
       "      <td>1.78</td>\n",
       "      <td>95.0</td>\n",
       "      <td>8.7</td>\n",
       "      <td>M</td>\n",
       "    </tr>\n",
       "    <tr>\n",
       "      <th>25</th>\n",
       "      <td>Pokemon Ruby/Pokemon Sapphire</td>\n",
       "      <td>GBA</td>\n",
       "      <td>2002.0</td>\n",
       "      <td>Role-Playing</td>\n",
       "      <td>6.06</td>\n",
       "      <td>3.90</td>\n",
       "      <td>5.38</td>\n",
       "      <td>0.50</td>\n",
       "      <td>NaN</td>\n",
       "      <td>NaN</td>\n",
       "      <td>NaN</td>\n",
       "    </tr>\n",
       "    <tr>\n",
       "      <th>26</th>\n",
       "      <td>Brain Age 2: More Training in Minutes a Day</td>\n",
       "      <td>DS</td>\n",
       "      <td>2005.0</td>\n",
       "      <td>Puzzle</td>\n",
       "      <td>3.43</td>\n",
       "      <td>5.35</td>\n",
       "      <td>5.32</td>\n",
       "      <td>1.18</td>\n",
       "      <td>77.0</td>\n",
       "      <td>7.1</td>\n",
       "      <td>E</td>\n",
       "    </tr>\n",
       "    <tr>\n",
       "      <th>27</th>\n",
       "      <td>Pokemon Black/Pokemon White</td>\n",
       "      <td>DS</td>\n",
       "      <td>2010.0</td>\n",
       "      <td>Role-Playing</td>\n",
       "      <td>5.51</td>\n",
       "      <td>3.17</td>\n",
       "      <td>5.65</td>\n",
       "      <td>0.80</td>\n",
       "      <td>NaN</td>\n",
       "      <td>NaN</td>\n",
       "      <td>NaN</td>\n",
       "    </tr>\n",
       "    <tr>\n",
       "      <th>28</th>\n",
       "      <td>Gran Turismo 3: A-Spec</td>\n",
       "      <td>PS2</td>\n",
       "      <td>2001.0</td>\n",
       "      <td>Racing</td>\n",
       "      <td>6.85</td>\n",
       "      <td>5.09</td>\n",
       "      <td>1.87</td>\n",
       "      <td>1.16</td>\n",
       "      <td>95.0</td>\n",
       "      <td>8.4</td>\n",
       "      <td>E</td>\n",
       "    </tr>\n",
       "    <tr>\n",
       "      <th>29</th>\n",
       "      <td>Call of Duty: Modern Warfare 3</td>\n",
       "      <td>X360</td>\n",
       "      <td>2011.0</td>\n",
       "      <td>Shooter</td>\n",
       "      <td>9.04</td>\n",
       "      <td>4.24</td>\n",
       "      <td>0.13</td>\n",
       "      <td>1.32</td>\n",
       "      <td>88.0</td>\n",
       "      <td>3.4</td>\n",
       "      <td>M</td>\n",
       "    </tr>\n",
       "  </tbody>\n",
       "</table>\n",
       "</div>"
      ],
      "text/plain": [
       "                                            Name Platform  Year_of_Release  \\\n",
       "0                                     Wii Sports      Wii           2006.0   \n",
       "1                              Super Mario Bros.      NES           1985.0   \n",
       "2                                 Mario Kart Wii      Wii           2008.0   \n",
       "3                              Wii Sports Resort      Wii           2009.0   \n",
       "4                       Pokemon Red/Pokemon Blue       GB           1996.0   \n",
       "5                                         Tetris       GB           1989.0   \n",
       "6                          New Super Mario Bros.       DS           2006.0   \n",
       "7                                       Wii Play      Wii           2006.0   \n",
       "8                      New Super Mario Bros. Wii      Wii           2009.0   \n",
       "9                                      Duck Hunt      NES           1984.0   \n",
       "10                                    Nintendogs       DS           2005.0   \n",
       "11                                 Mario Kart DS       DS           2005.0   \n",
       "12                   Pokemon Gold/Pokemon Silver       GB           1999.0   \n",
       "13                                       Wii Fit      Wii           2007.0   \n",
       "14                            Kinect Adventures!     X360           2010.0   \n",
       "15                                  Wii Fit Plus      Wii           2009.0   \n",
       "16                            Grand Theft Auto V      PS3           2013.0   \n",
       "17                 Grand Theft Auto: San Andreas      PS2           2004.0   \n",
       "18                             Super Mario World     SNES           1990.0   \n",
       "19  Brain Age: Train Your Brain in Minutes a Day       DS           2005.0   \n",
       "20                 Pokemon Diamond/Pokemon Pearl       DS           2006.0   \n",
       "21                              Super Mario Land       GB           1989.0   \n",
       "22                           Super Mario Bros. 3      NES           1988.0   \n",
       "23                            Grand Theft Auto V     X360           2013.0   \n",
       "24                   Grand Theft Auto: Vice City      PS2           2002.0   \n",
       "25                 Pokemon Ruby/Pokemon Sapphire      GBA           2002.0   \n",
       "26   Brain Age 2: More Training in Minutes a Day       DS           2005.0   \n",
       "27                   Pokemon Black/Pokemon White       DS           2010.0   \n",
       "28                        Gran Turismo 3: A-Spec      PS2           2001.0   \n",
       "29                Call of Duty: Modern Warfare 3     X360           2011.0   \n",
       "\n",
       "           Genre  NA_sales  EU_sales  JP_sales  Other_sales  Critic_Score  \\\n",
       "0         Sports     41.36     28.96      3.77         8.45          76.0   \n",
       "1       Platform     29.08      3.58      6.81         0.77           NaN   \n",
       "2         Racing     15.68     12.76      3.79         3.29          82.0   \n",
       "3         Sports     15.61     10.93      3.28         2.95          80.0   \n",
       "4   Role-Playing     11.27      8.89     10.22         1.00           NaN   \n",
       "5         Puzzle     23.20      2.26      4.22         0.58           NaN   \n",
       "6       Platform     11.28      9.14      6.50         2.88          89.0   \n",
       "7           Misc     13.96      9.18      2.93         2.84          58.0   \n",
       "8       Platform     14.44      6.94      4.70         2.24          87.0   \n",
       "9        Shooter     26.93      0.63      0.28         0.47           NaN   \n",
       "10    Simulation      9.05     10.95      1.93         2.74           NaN   \n",
       "11        Racing      9.71      7.47      4.13         1.90          91.0   \n",
       "12  Role-Playing      9.00      6.18      7.20         0.71           NaN   \n",
       "13        Sports      8.92      8.03      3.60         2.15          80.0   \n",
       "14          Misc     15.00      4.89      0.24         1.69          61.0   \n",
       "15        Sports      9.01      8.49      2.53         1.77          80.0   \n",
       "16        Action      7.02      9.09      0.98         3.96          97.0   \n",
       "17        Action      9.43      0.40      0.41        10.57          95.0   \n",
       "18      Platform     12.78      3.75      3.54         0.55           NaN   \n",
       "19          Misc      4.74      9.20      4.16         2.04          77.0   \n",
       "20  Role-Playing      6.38      4.46      6.04         1.36           NaN   \n",
       "21      Platform     10.83      2.71      4.18         0.42           NaN   \n",
       "22      Platform      9.54      3.44      3.84         0.46           NaN   \n",
       "23        Action      9.66      5.14      0.06         1.41          97.0   \n",
       "24        Action      8.41      5.49      0.47         1.78          95.0   \n",
       "25  Role-Playing      6.06      3.90      5.38         0.50           NaN   \n",
       "26        Puzzle      3.43      5.35      5.32         1.18          77.0   \n",
       "27  Role-Playing      5.51      3.17      5.65         0.80           NaN   \n",
       "28        Racing      6.85      5.09      1.87         1.16          95.0   \n",
       "29       Shooter      9.04      4.24      0.13         1.32          88.0   \n",
       "\n",
       "   User_Score Rating  \n",
       "0           8      E  \n",
       "1         NaN    NaN  \n",
       "2         8.3      E  \n",
       "3           8      E  \n",
       "4         NaN    NaN  \n",
       "5         NaN    NaN  \n",
       "6         8.5      E  \n",
       "7         6.6      E  \n",
       "8         8.4      E  \n",
       "9         NaN    NaN  \n",
       "10        NaN    NaN  \n",
       "11        8.6      E  \n",
       "12        NaN    NaN  \n",
       "13        7.7      E  \n",
       "14        6.3      E  \n",
       "15        7.4      E  \n",
       "16        8.2      M  \n",
       "17          9      M  \n",
       "18        NaN    NaN  \n",
       "19        7.9      E  \n",
       "20        NaN    NaN  \n",
       "21        NaN    NaN  \n",
       "22        NaN    NaN  \n",
       "23        8.1      M  \n",
       "24        8.7      M  \n",
       "25        NaN    NaN  \n",
       "26        7.1      E  \n",
       "27        NaN    NaN  \n",
       "28        8.4      E  \n",
       "29        3.4      M  "
      ]
     },
     "execution_count": 2,
     "metadata": {},
     "output_type": "execute_result"
    }
   ],
   "source": [
    "data=pd.read_csv('/datasets/games.csv')\n",
    "data.head(30)"
   ]
  },
  {
   "cell_type": "markdown",
   "metadata": {},
   "source": [
    "Нам открылись данные о продажах игр, оценки пользователей и экспертов, жанры и платформы. \n",
    "Рассмотрим поподробнее названия колонок:\n",
    "\n",
    "Name — название игры\n",
    "\n",
    "Platform — платформа\n",
    "\n",
    "Year_of_Release — год выпуска\n",
    "\n",
    "Genre — жанр игры\n",
    "\n",
    "NA_sales — продажи в Северной Америке (миллионы проданных копий)\n",
    "\n",
    "EU_sales — продажи в Европе (миллионы проданных копий)\n",
    "\n",
    "JP_sales — продажи в Японии (миллионы проданных копий)\n",
    "\n",
    "Other_sales — продажи в других странах (миллионы проданных копий)\n",
    "\n",
    "Critic_Score — оценка критиков (максимум 100)\n",
    "\n",
    "User_Score — оценка пользователей (максимум 10)\n",
    "\n",
    "Rating — рейтинг от организации ESRB (англ. Entertainment Software Rating Board).\n"
   ]
  },
  {
   "cell_type": "code",
   "execution_count": 3,
   "metadata": {},
   "outputs": [
    {
     "name": "stdout",
     "output_type": "stream",
     "text": [
      "<class 'pandas.core.frame.DataFrame'>\n",
      "RangeIndex: 16715 entries, 0 to 16714\n",
      "Data columns (total 11 columns):\n",
      " #   Column           Non-Null Count  Dtype  \n",
      "---  ------           --------------  -----  \n",
      " 0   Name             16713 non-null  object \n",
      " 1   Platform         16715 non-null  object \n",
      " 2   Year_of_Release  16446 non-null  float64\n",
      " 3   Genre            16713 non-null  object \n",
      " 4   NA_sales         16715 non-null  float64\n",
      " 5   EU_sales         16715 non-null  float64\n",
      " 6   JP_sales         16715 non-null  float64\n",
      " 7   Other_sales      16715 non-null  float64\n",
      " 8   Critic_Score     8137 non-null   float64\n",
      " 9   User_Score       10014 non-null  object \n",
      " 10  Rating           9949 non-null   object \n",
      "dtypes: float64(6), object(5)\n",
      "memory usage: 1.4+ MB\n"
     ]
    }
   ],
   "source": [
    "#Изучим общую информацию\n",
    "data.info()"
   ]
  },
  {
   "cell_type": "markdown",
   "metadata": {},
   "source": [
    "Что мы видим, основные пропуски у нас в колонках Рейтинг и Оценка критиков/пользователей. Заполнить эти пропуски будет сложно, так как оценки зависят непосредственно от самой игры. Рейтинг также зависит от самой игры, а именно от решения ESRB, нам самим заполнить такие пропуски не получится.\n",
    "\n",
    "Год выпуска указан в типе float64, а не datatime. Насколько это критично, пока не понятно, пропустим этот момент. \n",
    "Оценка пользователей в формате object, надо заменить на float64. Рейтинг указывается возрастной категорией(например, Е), поэтому тип данных object указан верно."
   ]
  },
  {
   "cell_type": "code",
   "execution_count": 4,
   "metadata": {},
   "outputs": [
    {
     "data": {
      "text/plain": [
       "0"
      ]
     },
     "execution_count": 4,
     "metadata": {},
     "output_type": "execute_result"
    }
   ],
   "source": [
    "# Проверим дубликаты\n",
    "data.duplicated().sum()\n",
    "\n",
    "# Явных дубликатов не наблюдается.Проверка неявных дубликатов не имеет смысла"
   ]
  },
  {
   "cell_type": "markdown",
   "metadata": {},
   "source": [
    "##  Подготовка данных"
   ]
  },
  {
   "cell_type": "markdown",
   "metadata": {},
   "source": [
    "Заменим названия столбцов, поменяем данные на нужный тип, посмотрим дубликаты и уникальные значения. Возможно, после подробного изучения, мы сможем заменить некоторые пропуски."
   ]
  },
  {
   "cell_type": "markdown",
   "metadata": {},
   "source": [
    "### Замена названия столбцов"
   ]
  },
  {
   "cell_type": "code",
   "execution_count": 5,
   "metadata": {},
   "outputs": [],
   "source": [
    "# Приводим к нижнему регистру названия всех колонок\n",
    "data.columns = data.columns.str.lower()\n",
    "\n",
    "# Поменяем object на float64 в колонке User_Score\n",
    "# Код выдает ошибку: could not convert string to float: 'tbd'. Будем разбираться, что такое tbd"
   ]
  },
  {
   "cell_type": "code",
   "execution_count": 6,
   "metadata": {},
   "outputs": [
    {
     "data": {
      "text/plain": [
       "tbd    2424\n",
       "7.8     324\n",
       "8       290\n",
       "8.2     282\n",
       "8.3     254\n",
       "       ... \n",
       "9.6       2\n",
       "0.3       2\n",
       "0.2       2\n",
       "0         1\n",
       "9.7       1\n",
       "Name: user_score, Length: 96, dtype: int64"
      ]
     },
     "execution_count": 6,
     "metadata": {},
     "output_type": "execute_result"
    }
   ],
   "source": [
    "# Посмотрим на дубликаты и уникальные значения в столбце 'user_score'\n",
    "data['user_score'].value_counts()"
   ]
  },
  {
   "cell_type": "markdown",
   "metadata": {},
   "source": [
    "### Изменение типов данных "
   ]
  },
  {
   "cell_type": "markdown",
   "metadata": {},
   "source": [
    "Мы с вами обнаружили очень много значений tbd. TBD-To Be Determined, то есть «Будет определено». Так же, tbd может расшифровываться как To Be Deleted («будет удалено»). В игровой индустрии, этой аббревиатурой обозначают игры, рейтинг которых еще не определен. Сами мы не можем заполнить эти данные, так что для дальнейшей работы мы заменим это значение на NaN для удобства. "
   ]
  },
  {
   "cell_type": "code",
   "execution_count": 7,
   "metadata": {},
   "outputs": [],
   "source": [
    "# Поменяем значение 'tbd' на 'NaN'\n",
    "data['user_score'] = data['user_score'].replace('tbd', 'NaN')\n",
    "\n",
    "# Снова попробуем поменять object на float64 в колонке user_score\n",
    "data['user_score'] = data['user_score'].astype('float64')\n",
    "# Код сработал как надо\n",
    "# Поменяем формат колонки year_of_release\n",
    "data['year_of_release'] = data['year_of_release'].astype('Int64')"
   ]
  },
  {
   "cell_type": "markdown",
   "metadata": {},
   "source": [
    "### Суммарные продажи во всех регионах"
   ]
  },
  {
   "cell_type": "code",
   "execution_count": 8,
   "metadata": {},
   "outputs": [],
   "source": [
    "# Посчитаем суммарные продажи во всех регионах и запишем их в отдельный столбец total_sales\n",
    "data['total_sales'] = data[['na_sales','eu_sales','jp_sales', 'other_sales']].sum(axis = 1)"
   ]
  },
  {
   "cell_type": "code",
   "execution_count": 9,
   "metadata": {},
   "outputs": [
    {
     "data": {
      "text/html": [
       "<div>\n",
       "<style scoped>\n",
       "    .dataframe tbody tr th:only-of-type {\n",
       "        vertical-align: middle;\n",
       "    }\n",
       "\n",
       "    .dataframe tbody tr th {\n",
       "        vertical-align: top;\n",
       "    }\n",
       "\n",
       "    .dataframe thead th {\n",
       "        text-align: right;\n",
       "    }\n",
       "</style>\n",
       "<table border=\"1\" class=\"dataframe\">\n",
       "  <thead>\n",
       "    <tr style=\"text-align: right;\">\n",
       "      <th></th>\n",
       "      <th>name</th>\n",
       "      <th>platform</th>\n",
       "      <th>year_of_release</th>\n",
       "      <th>genre</th>\n",
       "      <th>na_sales</th>\n",
       "      <th>eu_sales</th>\n",
       "      <th>jp_sales</th>\n",
       "      <th>other_sales</th>\n",
       "      <th>critic_score</th>\n",
       "      <th>user_score</th>\n",
       "      <th>rating</th>\n",
       "      <th>total_sales</th>\n",
       "    </tr>\n",
       "  </thead>\n",
       "  <tbody>\n",
       "    <tr>\n",
       "      <th>0</th>\n",
       "      <td>Wii Sports</td>\n",
       "      <td>Wii</td>\n",
       "      <td>2006</td>\n",
       "      <td>Sports</td>\n",
       "      <td>41.36</td>\n",
       "      <td>28.96</td>\n",
       "      <td>3.77</td>\n",
       "      <td>8.45</td>\n",
       "      <td>76.0</td>\n",
       "      <td>8.0</td>\n",
       "      <td>E</td>\n",
       "      <td>82.54</td>\n",
       "    </tr>\n",
       "    <tr>\n",
       "      <th>1</th>\n",
       "      <td>Super Mario Bros.</td>\n",
       "      <td>NES</td>\n",
       "      <td>1985</td>\n",
       "      <td>Platform</td>\n",
       "      <td>29.08</td>\n",
       "      <td>3.58</td>\n",
       "      <td>6.81</td>\n",
       "      <td>0.77</td>\n",
       "      <td>NaN</td>\n",
       "      <td>NaN</td>\n",
       "      <td>NaN</td>\n",
       "      <td>40.24</td>\n",
       "    </tr>\n",
       "    <tr>\n",
       "      <th>2</th>\n",
       "      <td>Mario Kart Wii</td>\n",
       "      <td>Wii</td>\n",
       "      <td>2008</td>\n",
       "      <td>Racing</td>\n",
       "      <td>15.68</td>\n",
       "      <td>12.76</td>\n",
       "      <td>3.79</td>\n",
       "      <td>3.29</td>\n",
       "      <td>82.0</td>\n",
       "      <td>8.3</td>\n",
       "      <td>E</td>\n",
       "      <td>35.52</td>\n",
       "    </tr>\n",
       "    <tr>\n",
       "      <th>3</th>\n",
       "      <td>Wii Sports Resort</td>\n",
       "      <td>Wii</td>\n",
       "      <td>2009</td>\n",
       "      <td>Sports</td>\n",
       "      <td>15.61</td>\n",
       "      <td>10.93</td>\n",
       "      <td>3.28</td>\n",
       "      <td>2.95</td>\n",
       "      <td>80.0</td>\n",
       "      <td>8.0</td>\n",
       "      <td>E</td>\n",
       "      <td>32.77</td>\n",
       "    </tr>\n",
       "    <tr>\n",
       "      <th>4</th>\n",
       "      <td>Pokemon Red/Pokemon Blue</td>\n",
       "      <td>GB</td>\n",
       "      <td>1996</td>\n",
       "      <td>Role-Playing</td>\n",
       "      <td>11.27</td>\n",
       "      <td>8.89</td>\n",
       "      <td>10.22</td>\n",
       "      <td>1.00</td>\n",
       "      <td>NaN</td>\n",
       "      <td>NaN</td>\n",
       "      <td>NaN</td>\n",
       "      <td>31.38</td>\n",
       "    </tr>\n",
       "  </tbody>\n",
       "</table>\n",
       "</div>"
      ],
      "text/plain": [
       "                       name platform  year_of_release         genre  na_sales  \\\n",
       "0                Wii Sports      Wii             2006        Sports     41.36   \n",
       "1         Super Mario Bros.      NES             1985      Platform     29.08   \n",
       "2            Mario Kart Wii      Wii             2008        Racing     15.68   \n",
       "3         Wii Sports Resort      Wii             2009        Sports     15.61   \n",
       "4  Pokemon Red/Pokemon Blue       GB             1996  Role-Playing     11.27   \n",
       "\n",
       "   eu_sales  jp_sales  other_sales  critic_score  user_score rating  \\\n",
       "0     28.96      3.77         8.45          76.0         8.0      E   \n",
       "1      3.58      6.81         0.77           NaN         NaN    NaN   \n",
       "2     12.76      3.79         3.29          82.0         8.3      E   \n",
       "3     10.93      3.28         2.95          80.0         8.0      E   \n",
       "4      8.89     10.22         1.00           NaN         NaN    NaN   \n",
       "\n",
       "   total_sales  \n",
       "0        82.54  \n",
       "1        40.24  \n",
       "2        35.52  \n",
       "3        32.77  \n",
       "4        31.38  "
      ]
     },
     "execution_count": 9,
     "metadata": {},
     "output_type": "execute_result"
    }
   ],
   "source": [
    "data.head()"
   ]
  },
  {
   "cell_type": "markdown",
   "metadata": {},
   "source": [
    "### Обработка пропусков"
   ]
  },
  {
   "cell_type": "markdown",
   "metadata": {},
   "source": [
    "Посмотрим еще раз на пропуски в колонках name и genre. Их всего по 2 штуки. Узнаем, несут ли они какую-то важную информацию."
   ]
  },
  {
   "cell_type": "code",
   "execution_count": 10,
   "metadata": {},
   "outputs": [
    {
     "data": {
      "text/html": [
       "<div>\n",
       "<style scoped>\n",
       "    .dataframe tbody tr th:only-of-type {\n",
       "        vertical-align: middle;\n",
       "    }\n",
       "\n",
       "    .dataframe tbody tr th {\n",
       "        vertical-align: top;\n",
       "    }\n",
       "\n",
       "    .dataframe thead th {\n",
       "        text-align: right;\n",
       "    }\n",
       "</style>\n",
       "<table border=\"1\" class=\"dataframe\">\n",
       "  <thead>\n",
       "    <tr style=\"text-align: right;\">\n",
       "      <th></th>\n",
       "      <th>name</th>\n",
       "      <th>platform</th>\n",
       "      <th>year_of_release</th>\n",
       "      <th>genre</th>\n",
       "      <th>na_sales</th>\n",
       "      <th>eu_sales</th>\n",
       "      <th>jp_sales</th>\n",
       "      <th>other_sales</th>\n",
       "      <th>critic_score</th>\n",
       "      <th>user_score</th>\n",
       "      <th>rating</th>\n",
       "      <th>total_sales</th>\n",
       "    </tr>\n",
       "  </thead>\n",
       "  <tbody>\n",
       "    <tr>\n",
       "      <th>659</th>\n",
       "      <td>NaN</td>\n",
       "      <td>GEN</td>\n",
       "      <td>1993</td>\n",
       "      <td>NaN</td>\n",
       "      <td>1.78</td>\n",
       "      <td>0.53</td>\n",
       "      <td>0.00</td>\n",
       "      <td>0.08</td>\n",
       "      <td>NaN</td>\n",
       "      <td>NaN</td>\n",
       "      <td>NaN</td>\n",
       "      <td>2.39</td>\n",
       "    </tr>\n",
       "    <tr>\n",
       "      <th>14244</th>\n",
       "      <td>NaN</td>\n",
       "      <td>GEN</td>\n",
       "      <td>1993</td>\n",
       "      <td>NaN</td>\n",
       "      <td>0.00</td>\n",
       "      <td>0.00</td>\n",
       "      <td>0.03</td>\n",
       "      <td>0.00</td>\n",
       "      <td>NaN</td>\n",
       "      <td>NaN</td>\n",
       "      <td>NaN</td>\n",
       "      <td>0.03</td>\n",
       "    </tr>\n",
       "  </tbody>\n",
       "</table>\n",
       "</div>"
      ],
      "text/plain": [
       "      name platform  year_of_release genre  na_sales  eu_sales  jp_sales  \\\n",
       "659    NaN      GEN             1993   NaN      1.78      0.53      0.00   \n",
       "14244  NaN      GEN             1993   NaN      0.00      0.00      0.03   \n",
       "\n",
       "       other_sales  critic_score  user_score rating  total_sales  \n",
       "659           0.08           NaN         NaN    NaN         2.39  \n",
       "14244         0.00           NaN         NaN    NaN         0.03  "
      ]
     },
     "execution_count": 10,
     "metadata": {},
     "output_type": "execute_result"
    }
   ],
   "source": [
    "data[data['genre'].isna()] "
   ]
  },
  {
   "cell_type": "code",
   "execution_count": 11,
   "metadata": {},
   "outputs": [
    {
     "data": {
      "text/html": [
       "<div>\n",
       "<style scoped>\n",
       "    .dataframe tbody tr th:only-of-type {\n",
       "        vertical-align: middle;\n",
       "    }\n",
       "\n",
       "    .dataframe tbody tr th {\n",
       "        vertical-align: top;\n",
       "    }\n",
       "\n",
       "    .dataframe thead th {\n",
       "        text-align: right;\n",
       "    }\n",
       "</style>\n",
       "<table border=\"1\" class=\"dataframe\">\n",
       "  <thead>\n",
       "    <tr style=\"text-align: right;\">\n",
       "      <th></th>\n",
       "      <th>name</th>\n",
       "      <th>platform</th>\n",
       "      <th>year_of_release</th>\n",
       "      <th>genre</th>\n",
       "      <th>na_sales</th>\n",
       "      <th>eu_sales</th>\n",
       "      <th>jp_sales</th>\n",
       "      <th>other_sales</th>\n",
       "      <th>critic_score</th>\n",
       "      <th>user_score</th>\n",
       "      <th>rating</th>\n",
       "      <th>total_sales</th>\n",
       "    </tr>\n",
       "  </thead>\n",
       "  <tbody>\n",
       "    <tr>\n",
       "      <th>659</th>\n",
       "      <td>NaN</td>\n",
       "      <td>GEN</td>\n",
       "      <td>1993</td>\n",
       "      <td>NaN</td>\n",
       "      <td>1.78</td>\n",
       "      <td>0.53</td>\n",
       "      <td>0.00</td>\n",
       "      <td>0.08</td>\n",
       "      <td>NaN</td>\n",
       "      <td>NaN</td>\n",
       "      <td>NaN</td>\n",
       "      <td>2.39</td>\n",
       "    </tr>\n",
       "    <tr>\n",
       "      <th>14244</th>\n",
       "      <td>NaN</td>\n",
       "      <td>GEN</td>\n",
       "      <td>1993</td>\n",
       "      <td>NaN</td>\n",
       "      <td>0.00</td>\n",
       "      <td>0.00</td>\n",
       "      <td>0.03</td>\n",
       "      <td>0.00</td>\n",
       "      <td>NaN</td>\n",
       "      <td>NaN</td>\n",
       "      <td>NaN</td>\n",
       "      <td>0.03</td>\n",
       "    </tr>\n",
       "  </tbody>\n",
       "</table>\n",
       "</div>"
      ],
      "text/plain": [
       "      name platform  year_of_release genre  na_sales  eu_sales  jp_sales  \\\n",
       "659    NaN      GEN             1993   NaN      1.78      0.53      0.00   \n",
       "14244  NaN      GEN             1993   NaN      0.00      0.00      0.03   \n",
       "\n",
       "       other_sales  critic_score  user_score rating  total_sales  \n",
       "659           0.08           NaN         NaN    NaN         2.39  \n",
       "14244         0.00           NaN         NaN    NaN         0.03  "
      ]
     },
     "execution_count": 11,
     "metadata": {},
     "output_type": "execute_result"
    }
   ],
   "source": [
    "data[data['name'].isna()] "
   ]
  },
  {
   "cell_type": "code",
   "execution_count": 12,
   "metadata": {},
   "outputs": [],
   "source": [
    "# Пропусков в этих строках много,важной информации нет, так что смело удаляем.\n",
    "data = data.dropna(subset=['name']).reset_index(drop=True)\n",
    "data = data.dropna(subset=['genre']).reset_index(drop=True)\n",
    "\n",
    "# Такая же ситуация и с колонкой год выпуска, там около 1,6% пропусков, можно удалить.\n",
    "data = data.dropna(subset=['year_of_release']).reset_index(drop=True)"
   ]
  },
  {
   "cell_type": "code",
   "execution_count": 13,
   "metadata": {},
   "outputs": [
    {
     "name": "stdout",
     "output_type": "stream",
     "text": [
      "<class 'pandas.core.frame.DataFrame'>\n",
      "RangeIndex: 16444 entries, 0 to 16443\n",
      "Data columns (total 12 columns):\n",
      " #   Column           Non-Null Count  Dtype  \n",
      "---  ------           --------------  -----  \n",
      " 0   name             16444 non-null  object \n",
      " 1   platform         16444 non-null  object \n",
      " 2   year_of_release  16444 non-null  Int64  \n",
      " 3   genre            16444 non-null  object \n",
      " 4   na_sales         16444 non-null  float64\n",
      " 5   eu_sales         16444 non-null  float64\n",
      " 6   jp_sales         16444 non-null  float64\n",
      " 7   other_sales      16444 non-null  float64\n",
      " 8   critic_score     7983 non-null   float64\n",
      " 9   user_score       7463 non-null   float64\n",
      " 10  rating           9768 non-null   object \n",
      " 11  total_sales      16444 non-null  float64\n",
      "dtypes: Int64(1), float64(7), object(4)\n",
      "memory usage: 1.5+ MB\n"
     ]
    }
   ],
   "source": [
    "# Проверяем наши изменения\n",
    "data.info()"
   ]
  },
  {
   "cell_type": "code",
   "execution_count": 14,
   "metadata": {},
   "outputs": [
    {
     "data": {
      "text/plain": [
       "8461"
      ]
     },
     "execution_count": 14,
     "metadata": {},
     "output_type": "execute_result"
    }
   ],
   "source": [
    "# Теперь разберемся с пропусками в колонках оценки\n",
    "data['critic_score'].isna().sum()"
   ]
  },
  {
   "cell_type": "code",
   "execution_count": 15,
   "metadata": {},
   "outputs": [
    {
     "data": {
      "text/plain": [
       "8981"
      ]
     },
     "execution_count": 15,
     "metadata": {},
     "output_type": "execute_result"
    }
   ],
   "source": [
    "# Пропусков в 'critic_score' почти половина. Это много, удалить их просто так неполучится\n",
    "# Посмотрим на пропуски в оценках пользователей\n",
    "data['user_score'].isna().sum()"
   ]
  },
  {
   "cell_type": "code",
   "execution_count": 16,
   "metadata": {},
   "outputs": [
    {
     "data": {
      "text/plain": [
       "6676"
      ]
     },
     "execution_count": 16,
     "metadata": {},
     "output_type": "execute_result"
    }
   ],
   "source": [
    "# Ситуация такая же, больше половина пропусков. Разберемся с пропусками в колонках рейтинга\n",
    "data['rating'].isna().sum()\n",
    "# Пропусков также много, и, к сожалению, заполнить их непросто"
   ]
  },
  {
   "cell_type": "code",
   "execution_count": 17,
   "metadata": {},
   "outputs": [
    {
     "data": {
      "text/plain": [
       "array(['E', nan, 'M', 'T', 'E10+', 'K-A', 'AO', 'EC', 'RP'], dtype=object)"
      ]
     },
     "execution_count": 17,
     "metadata": {},
     "output_type": "execute_result"
    }
   ],
   "source": [
    "data['rating'].unique()"
   ]
  },
  {
   "cell_type": "code",
   "execution_count": 18,
   "metadata": {},
   "outputs": [],
   "source": [
    "# Рейтинг К-А это старая версия рейтинга Е\n",
    "data['rating'] = data['rating'].replace('K-A', 'E')"
   ]
  },
  {
   "cell_type": "markdown",
   "metadata": {},
   "source": [
    "Отдельная ситуация с возрастным рейтингом ESRB. Если посмотреть информацию, то можно понять, что данный рейтинг применяется в США и Канаде, а значит , что в eu_sales, jp_sales и other_sales рейтинг совсем другой, и именно поэтому появился пропуск в колонке  rating. "
   ]
  },
  {
   "cell_type": "code",
   "execution_count": 19,
   "metadata": {},
   "outputs": [],
   "source": [
    "# Используем \"заглушку\". Заменим все пропуски в колонках eu_sales, jp_sales и other_sales\n",
    "data['rating'] = data['rating'].fillna(value='unknown')"
   ]
  },
  {
   "cell_type": "code",
   "execution_count": 20,
   "metadata": {},
   "outputs": [
    {
     "data": {
      "text/plain": [
       "0"
      ]
     },
     "execution_count": 20,
     "metadata": {},
     "output_type": "execute_result"
    }
   ],
   "source": [
    "# Проверяем изменения\n",
    "data['rating'].isna().sum()"
   ]
  },
  {
   "cell_type": "markdown",
   "metadata": {},
   "source": [
    "<b>Небольшой вывод:</b> Как мы с вами обнаружили, очень много пропусков в столбцах оценок( критиков и пользовательского), заполнить корректно эти данные мы не можем, так как рискнем испортить анализ, и удалить строки с пропусками мы не готовы, их больше половины. Удаление таких пропусков может привести к неожиданно плохому результату. Причины таких пропусков могут быть разные, игра еще не вышла, поэтому оценки не выставленны и рейтинг не определен.Возможно, была также и техническая ошибка( неправильное преобразование файла, кодировка и т.д.) Также мог присутствовать человечекий фактор.\n",
    "Отдельно обратим внимание, что в колонце rating пропуски связаны с регионом выпуска игры. Данный рейтинг применяется только в США и Канаде, а значит будет стоять  только в na_sales. Поэтому мы заполнили пропуски unknown."
   ]
  },
  {
   "cell_type": "markdown",
   "metadata": {},
   "source": [
    "## Проведение исследовательского анализа данных"
   ]
  },
  {
   "cell_type": "markdown",
   "metadata": {},
   "source": [
    "### Выпуск игр в разные годы"
   ]
  },
  {
   "cell_type": "code",
   "execution_count": 22,
   "metadata": {},
   "outputs": [
    {
     "data": {
      "text/plain": [
       "year_of_release\n",
       "1980       9\n",
       "1981      46\n",
       "1982      36\n",
       "1983      17\n",
       "1984      14\n",
       "1985      14\n",
       "1986      21\n",
       "1987      16\n",
       "1988      15\n",
       "1989      17\n",
       "1990      16\n",
       "1991      41\n",
       "1992      43\n",
       "1993      60\n",
       "1994     121\n",
       "1995     219\n",
       "1996     263\n",
       "1997     289\n",
       "1998     379\n",
       "1999     338\n",
       "2000     350\n",
       "2001     482\n",
       "2002     829\n",
       "2003     775\n",
       "2004     762\n",
       "2005     939\n",
       "2006    1006\n",
       "2007    1197\n",
       "2008    1427\n",
       "2009    1426\n",
       "2010    1255\n",
       "2011    1136\n",
       "2012     653\n",
       "2013     544\n",
       "2014     581\n",
       "2015     606\n",
       "2016     502\n",
       "Name: name, dtype: int64"
      ]
     },
     "execution_count": 22,
     "metadata": {},
     "output_type": "execute_result"
    }
   ],
   "source": [
    "# Посмотрим, сколько игр выпускалось в разные годы,для этого сгруппируем данные\n",
    "data.groupby('year_of_release')['name'].count()"
   ]
  },
  {
   "cell_type": "code",
   "execution_count": 23,
   "metadata": {},
   "outputs": [
    {
     "data": {
      "text/plain": [
       "<AxesSubplot:>"
      ]
     },
     "execution_count": 23,
     "metadata": {},
     "output_type": "execute_result"
    },
    {
     "data": {
      "image/png": "[encoded data removed]",
      "text/plain": [
       "<Figure size 432x288 with 1 Axes>"
      ]
     },
     "metadata": {
      "needs_background": "light"
     },
     "output_type": "display_data"
    }
   ],
   "source": [
    "# Посмотрим теперь на эти данные в гистограмме для большей наглядности\n",
    "data['year_of_release'].hist(bins=37, range=(1979,2017))"
   ]
  },
  {
   "cell_type": "markdown",
   "metadata": {},
   "source": [
    "Итак, на гистограмме хорошо видно, что пик выпуска игр пришелся на период с 2002 по 2011 год. Для анализа нам пригодятся только данные с 2000 года, именно с этого момента начинается рост выпуска."
   ]
  },
  {
   "cell_type": "markdown",
   "metadata": {},
   "source": [
    "### Продажа игр на разных платформах"
   ]
  },
  {
   "cell_type": "code",
   "execution_count": 24,
   "metadata": {},
   "outputs": [
    {
     "data": {
      "text/plain": [
       "<AxesSubplot:xlabel='platform'>"
      ]
     },
     "execution_count": 24,
     "metadata": {},
     "output_type": "execute_result"
    },
    {
     "data": {
      "image/png": "[encoded data removed]",
      "text/plain": [
       "<Figure size 1080x360 with 1 Axes>"
      ]
     },
     "metadata": {
      "needs_background": "light"
     },
     "output_type": "display_data"
    }
   ],
   "source": [
    "# Посмотрим, как обстоят дела с продажами игр на разных платформах\n",
    "data_sales_platform=(\n",
    "    data.pivot_table(index = 'platform', values = 'total_sales', aggfunc = 'sum')\n",
    "    .sort_values(by = 'total_sales', ascending = False)    \n",
    ")\n",
    "data_sales_platform.plot(kind='bar', figsize=(15,5))"
   ]
  },
  {
   "cell_type": "markdown",
   "metadata": {},
   "source": [
    "Как видно на графике, не все платформы отличаются высокими продажами. Выберем для нас самые показательные, а точнее ,отберем 10 самых продаваемых платформ."
   ]
  },
  {
   "cell_type": "code",
   "execution_count": 25,
   "metadata": {},
   "outputs": [
    {
     "data": {
      "text/plain": [
       "<AxesSubplot:xlabel='platform'>"
      ]
     },
     "execution_count": 25,
     "metadata": {},
     "output_type": "execute_result"
    },
    {
     "data": {
      "image/png": "[encoded data removed]",
      "text/plain": [
       "<Figure size 1080x360 with 1 Axes>"
      ]
     },
     "metadata": {
      "needs_background": "light"
     },
     "output_type": "display_data"
    }
   ],
   "source": [
    "# Сбрасываем индексацию \n",
    "top10_platforms = data_sales_platform.reset_index()\n",
    "# Отбираем 10 самых самых\n",
    "iloc_top10_platforms = top10_platforms.iloc[0:10]\n",
    "# Смотрим, какие платформы отобрали\n",
    "top10_platforms = iloc_top10_platforms['platform'].unique()\n",
    "# Построим график для наглядности\n",
    "iloc_top10_platforms.plot(x=\"platform\", y=\"total_sales\", kind='bar', figsize=(15,5))"
   ]
  },
  {
   "cell_type": "code",
   "execution_count": 26,
   "metadata": {},
   "outputs": [],
   "source": [
    "# При первом построении графиков мы обнаружили, что у платформы DS есть продажи в 1985 году,\n",
    "# хотя консоль выпустилась только в 2004 году. Удалим этот выброс\n",
    "\n",
    "data.loc[data['platform']=='DS'] = data.loc[(data['platform']=='DS') & (data['year_of_release']>= 2004)]\n"
   ]
  },
  {
   "cell_type": "code",
   "execution_count": 27,
   "metadata": {
    "scrolled": false
   },
   "outputs": [
    {
     "data": {
      "image/png": "[encoded data removed]",
      "text/plain": [
       "<Figure size 1080x360 with 1 Axes>"
      ]
     },
     "metadata": {
      "needs_background": "light"
     },
     "output_type": "display_data"
    },
    {
     "data": {
      "image/png": "[encoded data removed]",
      "text/plain": [
       "<Figure size 1080x360 with 1 Axes>"
      ]
     },
     "metadata": {
      "needs_background": "light"
     },
     "output_type": "display_data"
    },
    {
     "data": {
      "image/png": "[encoded data removed]",
      "text/plain": [
       "<Figure size 1080x360 with 1 Axes>"
      ]
     },
     "metadata": {
      "needs_background": "light"
     },
     "output_type": "display_data"
    },
    {
     "data": {
      "image/png": "[encoded data removed]",
      "text/plain": [
       "<Figure size 1080x360 with 1 Axes>"
      ]
     },
     "metadata": {
      "needs_background": "light"
     },
     "output_type": "display_data"
    },
    {
     "data": {
      "image/png": "[encoded data removed]",
      "text/plain": [
       "<Figure size 1080x360 with 1 Axes>"
      ]
     },
     "metadata": {
      "needs_background": "light"
     },
     "output_type": "display_data"
    },
    {
     "data": {
      "image/png": "[encoded data removed]",
      "text/plain": [
       "<Figure size 1080x360 with 1 Axes>"
      ]
     },
     "metadata": {
      "needs_background": "light"
     },
     "output_type": "display_data"
    },
    {
     "data": {
      "image/png": "[encoded data removed]",
      "text/plain": [
       "<Figure size 1080x360 with 1 Axes>"
      ]
     },
     "metadata": {
      "needs_background": "light"
     },
     "output_type": "display_data"
    },
    {
     "data": {
      "image/png": "[encoded data removed]",
      "text/plain": [
       "<Figure size 1080x360 with 1 Axes>"
      ]
     },
     "metadata": {
      "needs_background": "light"
     },
     "output_type": "display_data"
    },
    {
     "data": {
      "image/png": "[encoded data removed]",
      "text/plain": [
       "<Figure size 1080x360 with 1 Axes>"
      ]
     },
     "metadata": {
      "needs_background": "light"
     },
     "output_type": "display_data"
    },
    {
     "data": {
      "image/png": "[encoded data removed]",
      "text/plain": [
       "<Figure size 1080x360 with 1 Axes>"
      ]
     },
     "metadata": {
      "needs_background": "light"
     },
     "output_type": "display_data"
    }
   ],
   "source": [
    "# Используем цикл для построения гистограммы для каждой платформы.\n",
    "for plat in top10_platforms:\n",
    "    (\n",
    "        data[data['platform'] == plat]\n",
    "        .pivot_table(index = 'year_of_release', values = 'total_sales', aggfunc = 'sum')\n",
    "        .plot(kind = 'bar', figsize=(15,5))\n",
    "    )\n",
    "    plt.title(plat)"
   ]
  },
  {
   "cell_type": "markdown",
   "metadata": {},
   "source": [
    "Глядя на полученные гистограммы, можно сделать несколько выводов.\n",
    "\n",
    "Платформа РС выпускала игры на протяжении 24 года(1992-2016), 1985 и 1988 года похожи на выбросы, так как не являются показательными. Пик продаж приходится на период с 2007 по 2013 год. За такой долгий период продажи то росли,то падали. Это говорит о том, что владельцам платформы удается переодически возвращать к себе интерес( возможно, благодаря обновлениям).\n",
    "\n",
    "Платформа PS имеет плавный рост продаж с 1994 года, к 1998 достигает своего пика и так же плавно идет на спад. в 2003 году продажы закончены. Это связано с обновлением данной платформы (PS2). \n",
    "\n",
    "Платформа PS2 также имела долгий период продаж игр (2000-2011). Его пиком был 2001-2004 года, с 2005 года продажи стали падать и к 2012 году совсем не осталось релиза игр на эту платформу. Виной тому послужило обновление данной платформы, ее мы рассмотрим далее.\n",
    "\n",
    "Платформа PS3 является обновлением PS2, поэтому ее выпуск приходится на 2006 год. Пик продаж пришелся на 2007-2013 года, дальше идет резкий спад, опять же, причина в выходе нового обновления платформы.\n",
    "\n",
    "Платформа Х360, появилась в продаже в 2005 году и быстро набирала популярность. Пик продаж приходится на 2010 год, затем идет плавный спад, и в 2016 году продажи минимальные.\n",
    "\n",
    "Платформа PSP имела популярность с 2004 года( года выпуска самой платформы) и держала планку до 2010 года. Затем продажы стали падать и к 15-му году выпуск игр совсем прекратился.\n",
    "\n",
    "Платформа Wii имела продажи с 2006 по 2016 год, с 2010 года идет резкий спад и последние 4 года продажи были минимальными. Судя по данным, в этой платформе больше не было заинтересованности.\n",
    "\n",
    "Платформа DS выпускала игры с 2004 года и как у большинства платформ, уже со следующего года продажи достигли высоких показателей. Но к 2013 году выпуск снова прекратился.\n",
    "\n",
    "Платформа GBA существовала 7 лет (2000-2007). с 2001 по 2004 год продажи достигли своего пика, и к 2007 году резко пошли на спад.\n",
    "\n",
    "Платформа PS4 является самой \"молодой\", ее выпуск приходится всего на 2013 год. За все года своего существования, платформа держит хорошие показатели.\n"
   ]
  },
  {
   "cell_type": "markdown",
   "metadata": {},
   "source": [
    "### Актуальный период"
   ]
  },
  {
   "cell_type": "markdown",
   "metadata": {},
   "source": [
    "<b>Средний срок существования платформы около 7 лет, ее пик примерно 2-3года, у большинства пик продаж приходился на период 2010 года. По моему мнению, нужно за актуальный период взять последние 3 года(2012-2016). Этот отрезок времени для нас будет показательным для построения прогноза на 2017 год.</b>"
   ]
  },
  {
   "cell_type": "markdown",
   "metadata": {},
   "source": [
    "Когда мы определились с актуальным периодом, можно работать с данными."
   ]
  },
  {
   "cell_type": "code",
   "execution_count": 28,
   "metadata": {},
   "outputs": [
    {
     "data": {
      "text/plain": [
       "<AxesSubplot:xlabel='year_of_release'>"
      ]
     },
     "execution_count": 28,
     "metadata": {},
     "output_type": "execute_result"
    },
    {
     "data": {
      "image/png": "[encoded data removed]",
      "text/plain": [
       "<Figure size 1080x360 with 1 Axes>"
      ]
     },
     "metadata": {
      "needs_background": "light"
     },
     "output_type": "display_data"
    }
   ],
   "source": [
    "# Отберем нужные нам года\n",
    "actual_years=data.query('year_of_release >= 2014')\n",
    "\n",
    "# Строим для большей наглядности график продаж в актуальном периоде\n",
    "(\n",
    "    actual_years.query('platform in @top10_platforms')\n",
    "    .pivot_table(index='year_of_release', values='total_sales', columns='platform', aggfunc='sum')\n",
    "    .plot(figsize=(15,5))\n",
    ")"
   ]
  },
  {
   "cell_type": "markdown",
   "metadata": {},
   "source": [
    "Игры для всех платформ идут на снижение продаж, PSP и вовсе ушла с рынка в 2015 году Если судить по данному графику, то можно выявить потенциально прибыльные платформы: \n",
    "\n",
    "PS4-хоть она появилась недавно, но это делает ее самой новой и популярной моделью, что приводит к высоким продажам.\n",
    "\n",
    "3DS - на момент 2016 года она была второй по уровню продаж\n",
    "\n",
    "XOne-идет наравне с PS4 (пояснение ниже)"
   ]
  },
  {
   "cell_type": "code",
   "execution_count": 29,
   "metadata": {},
   "outputs": [
    {
     "data": {
      "text/plain": [
       "<AxesSubplot:>"
      ]
     },
     "execution_count": 29,
     "metadata": {},
     "output_type": "execute_result"
    },
    {
     "data": {
      "image/png": "[encoded data removed]",
      "text/plain": [
       "<Figure size 432x288 with 1 Axes>"
      ]
     },
     "metadata": {
      "needs_background": "light"
     },
     "output_type": "display_data"
    }
   ],
   "source": [
    "# Построим график \"Ящик с усами\"\n",
    "(\n",
    "    actual_years.pivot_table(index='name', values='total_sales', columns='platform', aggfunc='sum')\n",
    "    .plot(kind='box', ylim=(0,3))\n",
    ")"
   ]
  },
  {
   "cell_type": "code",
   "execution_count": 30,
   "metadata": {},
   "outputs": [
    {
     "data": {
      "text/plain": [
       "<AxesSubplot:>"
      ]
     },
     "execution_count": 30,
     "metadata": {},
     "output_type": "execute_result"
    },
    {
     "data": {
      "image/png": "[encoded data removed]",
      "text/plain": [
       "<Figure size 432x288 with 1 Axes>"
      ]
     },
     "metadata": {
      "needs_background": "light"
     },
     "output_type": "display_data"
    }
   ],
   "source": [
    "# Увеличим обзор\n",
    "(\n",
    "    actual_years.pivot_table(index='name', values='total_sales', columns='platform', aggfunc='sum')\n",
    "    .plot(kind='box', ylim=(0,14))\n",
    ")"
   ]
  },
  {
   "cell_type": "markdown",
   "metadata": {},
   "source": [
    "После построения другого графика, картина поменялась. У нас появилась в актуальном периоде новые платформы XOne и WiiU. У XOne медиана почти совпадает с медианой PS4, что говорит о высоких продажах, и это за небольшой период существования( является обновлением Х360). На предыдущем графике ее не было, поэтому не заметили эту платформу раньше, но тоже внесем ее в список потенциально продаваемых, вместо очевидно на первый взгляд платформы PS3.\n",
    "Аналогичная ситуация и с WiiU. Не сразу можно было ее увидеть на графике, а она по продажам обгоняет 3DS. Тоже внесем ее в список. Если еще обратить внимание на \"выбросы\", можно заметить, что максимум продаж самый большой у PS4 и 3DS."
   ]
  },
  {
   "cell_type": "markdown",
   "metadata": {},
   "source": [
    "### Анализ продаж"
   ]
  },
  {
   "cell_type": "markdown",
   "metadata": {},
   "source": [
    "Посмотрим, как влияют на продажи внутри одной популярной платформы отзывы пользователей и критиков. Для этого построим диаграмму рассеивания и посчитаем корреляцию. Так как данные за 2016 год неполные, адекватная оценка не предоставляется возможной. Но все таки просмотреть общую картину зависимости мы с вами попытаемся. Будем надеятся, что предыдущие года перекроют пропуски 2016 года."
   ]
  },
  {
   "cell_type": "code",
   "execution_count": 31,
   "metadata": {},
   "outputs": [
    {
     "name": "stdout",
     "output_type": "stream",
     "text": [
      "\n",
      "Коэффицент корреляции для оценок пользователей - -0.04\n",
      "\n",
      "Коэффицент корреляции для оценок критиков - 0.40\n"
     ]
    },
    {
     "data": {
      "image/png": "[encoded data removed]",
      "text/plain": [
       "<Figure size 1440x360 with 2 Axes>"
      ]
     },
     "metadata": {
      "needs_background": "light"
     },
     "output_type": "display_data"
    }
   ],
   "source": [
    "# Расмотрим зависимость у платформы PS4\n",
    "\n",
    "ps_4 = actual_years[actual_years['platform']=='PS4']\n",
    "\n",
    "cor_user = ps_4['total_sales'].corr(ps_4['user_score'])\n",
    "cor_critic = ps_4['total_sales'].corr(ps_4['critic_score'])\n",
    "\n",
    "print(f'\\nКоэффицент корреляции для оценок пользователей - {cor_user:.2f}')\n",
    "print(f'\\nКоэффицент корреляции для оценок критиков - {cor_critic:.2f}')\n",
    "\n",
    "plt.figure(figsize=(20, 5))\n",
    "plt.suptitle('Диаграмма рассеяния PS4:', fontsize=15)\n",
    "\n",
    "plt.subplot(1, 2, 1)\n",
    "plt.title('Оценки пользователей', fontsize=10)\n",
    "sns.scatterplot(x='user_score', y='total_sales', data=ps_4, color='indigo')\n",
    "plt.ylabel('Total sales')\n",
    "plt.xlabel('User score')\n",
    "plt.grid(True)\n",
    "\n",
    "plt.subplot(1, 2, 2)\n",
    "plt.title('Оценки критиков', fontsize=10)\n",
    "sns.scatterplot(x='critic_score', y='total_sales', data=ps_4, color='green')\n",
    "plt.ylabel('Total sales')\n",
    "plt.xlabel('Critic score')\n",
    "plt.grid(True)"
   ]
  },
  {
   "cell_type": "markdown",
   "metadata": {},
   "source": [
    "Вывод: На продажи никак не влияют оценки пользователей, коэффициент корреляции отрицательный. А оценки критиков имеют некоторое влияние-корреляция слабоположительная. Видимо для производителей более важно мнение экспертов."
   ]
  },
  {
   "cell_type": "code",
   "execution_count": 32,
   "metadata": {},
   "outputs": [
    {
     "name": "stdout",
     "output_type": "stream",
     "text": [
      "\n",
      "Коэффицент корреляции для оценок пользователей - 0.41\n",
      "\n",
      "Коэффицент корреляции для оценок критиков - 0.37\n"
     ]
    },
    {
     "data": {
      "image/png": "[encoded data removed]",
      "text/plain": [
       "<Figure size 1440x360 with 2 Axes>"
      ]
     },
     "metadata": {
      "needs_background": "light"
     },
     "output_type": "display_data"
    }
   ],
   "source": [
    "# Проверим теперь другие платформы\n",
    "  \n",
    " # Расмотрим зависимость у платформы WiiU\n",
    "wiiu = actual_years[actual_years['platform']=='WiiU']\n",
    "\n",
    "cor_user = wiiu['total_sales'].corr(wiiu['user_score'])\n",
    "cor_critic = wiiu['total_sales'].corr(wiiu['critic_score'])\n",
    "\n",
    "print(f'\\nКоэффицент корреляции для оценок пользователей - {cor_user:.2f}')\n",
    "print(f'\\nКоэффицент корреляции для оценок критиков - {cor_critic:.2f}')\n",
    "\n",
    "plt.figure(figsize=(20, 5))\n",
    "plt.suptitle('Диаграмма рассеяния WiiU:', fontsize=15)\n",
    "\n",
    "plt.subplot(1, 2, 1)\n",
    "plt.title('Оценки пользователей', fontsize=10)\n",
    "sns.scatterplot(x='user_score', y='total_sales', data=wiiu, color='indigo')\n",
    "plt.ylabel('Total sales')\n",
    "plt.xlabel('User score')\n",
    "plt.grid(True)\n",
    "\n",
    "plt.subplot(1, 2, 2)\n",
    "plt.title('Оценки критиков', fontsize=10)\n",
    "sns.scatterplot(x='critic_score', y='total_sales', data=wiiu, color='green')\n",
    "plt.ylabel('Total sales')\n",
    "plt.xlabel('Critic score')\n",
    "plt.grid(True)"
   ]
  },
  {
   "cell_type": "code",
   "execution_count": 33,
   "metadata": {},
   "outputs": [
    {
     "name": "stdout",
     "output_type": "stream",
     "text": [
      "\n",
      "Коэффицент корреляции для оценок пользователей - -0.07\n",
      "\n",
      "Коэффицент корреляции для оценок критиков - 0.43\n"
     ]
    },
    {
     "data": {
      "image/png": "[encoded data removed]",
      "text/plain": [
       "<Figure size 1440x360 with 2 Axes>"
      ]
     },
     "metadata": {
      "needs_background": "light"
     },
     "output_type": "display_data"
    }
   ],
   "source": [
    " # Расмотрим зависимость у платформы XOne\n",
    "xone = actual_years[actual_years['platform']=='XOne']\n",
    "\n",
    "cor_user = xone['total_sales'].corr(xone['user_score'])\n",
    "cor_critic = xone['total_sales'].corr(xone['critic_score'])\n",
    "\n",
    "print(f'\\nКоэффицент корреляции для оценок пользователей - {cor_user:.2f}')\n",
    "print(f'\\nКоэффицент корреляции для оценок критиков - {cor_critic:.2f}')\n",
    "\n",
    "plt.figure(figsize=(20, 5))\n",
    "plt.suptitle('Диаграмма рассеяния XOne:', fontsize=15)\n",
    "\n",
    "plt.subplot(1, 2, 1)\n",
    "plt.title('Оценки пользователей', fontsize=10)\n",
    "sns.scatterplot(x='user_score', y='total_sales', data=xone, color='indigo')\n",
    "plt.ylabel('Total sales')\n",
    "plt.xlabel('User score')\n",
    "plt.grid(True)\n",
    "\n",
    "plt.subplot(1, 2, 2)\n",
    "plt.title('Оценки критиков', fontsize=10)\n",
    "sns.scatterplot(x='critic_score', y='total_sales', data=xone, color='green')\n",
    "plt.ylabel('Total sales')\n",
    "plt.xlabel('Critic score')\n",
    "plt.grid(True)"
   ]
  },
  {
   "cell_type": "code",
   "execution_count": 34,
   "metadata": {},
   "outputs": [
    {
     "name": "stdout",
     "output_type": "stream",
     "text": [
      "\n",
      "Коэффицент корреляции для оценок пользователей - 0.22\n",
      "\n",
      "Коэффицент корреляции для оценок критиков - 0.31\n"
     ]
    },
    {
     "data": {
      "image/png": "[encoded data removed]",
      "text/plain": [
       "<Figure size 1440x360 with 2 Axes>"
      ]
     },
     "metadata": {
      "needs_background": "light"
     },
     "output_type": "display_data"
    }
   ],
   "source": [
    "# Расмотрим зависимость у платформы 3DS\n",
    "ds_3 = actual_years[actual_years['platform']=='3DS']\n",
    "\n",
    "cor_user = ds_3['total_sales'].corr(ds_3['user_score'])\n",
    "cor_critic = ds_3['total_sales'].corr(ds_3['critic_score'])\n",
    "\n",
    "print(f'\\nКоэффицент корреляции для оценок пользователей - {cor_user:.2f}')\n",
    "print(f'\\nКоэффицент корреляции для оценок критиков - {cor_critic:.2f}')\n",
    "\n",
    "plt.figure(figsize=(20, 5))\n",
    "plt.suptitle('Диаграмма рассеяния 3DS:', fontsize=15)\n",
    "\n",
    "plt.subplot(1, 2, 1)\n",
    "plt.title('Оценки пользователей', fontsize=10)\n",
    "sns.scatterplot(x='user_score', y='total_sales', data=ds_3, color='indigo')\n",
    "plt.ylabel('Total sales')\n",
    "plt.xlabel('User score')\n",
    "plt.grid(True)\n",
    "\n",
    "plt.subplot(1, 2, 2)\n",
    "plt.title('Оценки критиков', fontsize=10)\n",
    "sns.scatterplot(x='critic_score', y='total_sales', data=ds_3, color='green')\n",
    "plt.ylabel('Total sales')\n",
    "plt.xlabel('Critic score')\n",
    "plt.grid(True)"
   ]
  },
  {
   "cell_type": "markdown",
   "metadata": {},
   "source": [
    "Несмотря на неполные данные, диаграмма рассеивания похожа на правду. Оценки критиков и пользователей в большинстве случаев совпадают, но все равно везде присутствует положительная корреляция только у оценки критиков. Исключениями являются платформы 3DS и WiiU( там слабоположительная корреляция и у критиков и у пользователей). Ранее мы проверили показатели у PS3, но кол-во данных слишком мало на актуальный период, и коеффициент корреляции был низок.\n",
    "\n",
    "Итог такой, оценка критиков влияет(среднеположительно или мало) на продажи, но оценка пользователей имеет малое влияние( отрицательное). Также все зависит от кол-ва данных, так как данные за 16 год не полные,то и корреляция немного отличается от правды."
   ]
  },
  {
   "cell_type": "code",
   "execution_count": 36,
   "metadata": {},
   "outputs": [
    {
     "data": {
      "image/png": "[encoded data removed]",
      "text/plain": [
       "<Figure size 1800x504 with 1 Axes>"
      ]
     },
     "metadata": {
      "needs_background": "light"
     },
     "output_type": "display_data"
    }
   ],
   "source": [
    "# Посмотрим на общее распределение игр по жанрам. \n",
    "(\n",
    "    actual_years.pivot_table(index='genre', values='total_sales', aggfunc='median')\n",
    "    .boxplot(column='total_sales', by='genre', figsize=(25,7))\n",
    ")\n",
    "plt.show()"
   ]
  },
  {
   "cell_type": "markdown",
   "metadata": {},
   "source": [
    "<b>Небольшой вывод:</b> из нашего неполного анализа можно уже смело выявить лидеров продаж как по платформам, так и по жанрам. Самыми популярными платформами, как ни странно, являются более новые(PS4, XOne). Что касается жанров, то большую популярность имеют Shooter(с большим отрывом). Именно этот жанр приносит больше всего прибыли."
   ]
  },
  {
   "cell_type": "markdown",
   "metadata": {},
   "source": [
    "##  Составление портрета пользователя каждого региона"
   ]
  },
  {
   "cell_type": "markdown",
   "metadata": {},
   "source": [
    "### Распределение продаж игр на разных платформах по регионам"
   ]
  },
  {
   "cell_type": "code",
   "execution_count": 37,
   "metadata": {},
   "outputs": [
    {
     "name": "stdout",
     "output_type": "stream",
     "text": [
      "<class 'pandas.core.frame.DataFrame'>\n",
      "RangeIndex: 16444 entries, 0 to 16443\n",
      "Data columns (total 12 columns):\n",
      " #   Column           Non-Null Count  Dtype  \n",
      "---  ------           --------------  -----  \n",
      " 0   name             16443 non-null  object \n",
      " 1   platform         16443 non-null  object \n",
      " 2   year_of_release  16443 non-null  Int64  \n",
      " 3   genre            16443 non-null  object \n",
      " 4   na_sales         16443 non-null  float64\n",
      " 5   eu_sales         16443 non-null  float64\n",
      " 6   jp_sales         16443 non-null  float64\n",
      " 7   other_sales      16443 non-null  float64\n",
      " 8   critic_score     7983 non-null   float64\n",
      " 9   user_score       7463 non-null   float64\n",
      " 10  rating           16443 non-null  object \n",
      " 11  total_sales      16443 non-null  float64\n",
      "dtypes: Int64(1), float64(7), object(4)\n",
      "memory usage: 1.5+ MB\n"
     ]
    }
   ],
   "source": [
    "# Посмотрим еще раз на наши данные\n",
    "data.info()"
   ]
  },
  {
   "cell_type": "markdown",
   "metadata": {},
   "source": [
    "У нас есть 3 обозначенных региона: na, eu, jp. Определим для них популярные платформы и популярные жанры (топ-5) в актуальный период. Посмотрим, влияет ли рейтинг ESRB на продажи в отдельном регионе."
   ]
  },
  {
   "cell_type": "code",
   "execution_count": 38,
   "metadata": {},
   "outputs": [
    {
     "data": {
      "image/png": "[encoded data removed]",
      "text/plain": [
       "<Figure size 1080x360 with 3 Axes>"
      ]
     },
     "metadata": {},
     "output_type": "display_data"
    }
   ],
   "source": [
    "# Составим распределение продаж игр на разных платформах по регионам\n",
    "\n",
    "# Задаем список регионов\n",
    "top_5 = actual_years.columns[4:7]\n",
    "# начертим круговую диаграмму для каждого региона\n",
    "fig, axs = plt.subplots(1, 3, figsize=(15, 5))\n",
    "\n",
    "fig.suptitle('ТОП-5 ПЛАТФОРМЫ')\n",
    "for i in range(3):\n",
    "  # выберем 5 самых продающих платформ\n",
    "  df_i = (actual_years.groupby('platform')[top_5[i]].sum().\n",
    "             reset_index().\n",
    "             sort_values(top_5[i], ascending = False, ignore_index = True).\n",
    "             head(5))\n",
    "  # занесем все остальные продажи в Other\n",
    "  df_i = df_i.append({'platform': 'Other', top_5[i]: actual_years[top_5[i]].sum() - df_i[top_5[i]].sum()}, ignore_index= True)\n",
    "  axs[i].pie(df_i[top_5[i]], labels = df_i['platform'], autopct='%1.1f%%')\n",
    "\n",
    "  # Зададим название региона.\n",
    "  axs[i].set_title(df_i.columns[1].split('_')[0].upper())\n",
    "plt.show()\n"
   ]
  },
  {
   "cell_type": "markdown",
   "metadata": {},
   "source": [
    "Что можно сказать, в Топ-5 всех  3 регионов попали такие платформы, как PS4 и XOne. В Америке самой популярной оказалась PS4 и X360, в Европе платформа PS4, а в Японии 3DS. Это говорит о том, что каждый регион предпочитает платформу от \"своего\" производителя."
   ]
  },
  {
   "cell_type": "markdown",
   "metadata": {},
   "source": [
    "### Распределение продаж по регионам с разными жанрами"
   ]
  },
  {
   "cell_type": "code",
   "execution_count": 39,
   "metadata": {},
   "outputs": [
    {
     "data": {
      "image/png": "[encoded data removed]",
      "text/plain": [
       "<Figure size 1080x360 with 3 Axes>"
      ]
     },
     "metadata": {},
     "output_type": "display_data"
    }
   ],
   "source": [
    "# Составим распределение продаж игр разных жанров по регионам\n",
    "\n",
    "#Задаем список регионов\n",
    "top_5_g = actual_years.columns[4:7]\n",
    "# начертим круговую диаграмму для каждого региона\n",
    "fig, axs = plt.subplots(1, 3, figsize=(15, 5))\n",
    "\n",
    "fig.suptitle('ТОП-5 ЖАНРЫ')\n",
    "for i in range(3):\n",
    "  # выберем 5 самых продающих жанров\n",
    "  df_i = (actual_years.groupby('genre')[top_5[i]].sum().\n",
    "             reset_index().\n",
    "             sort_values(top_5[i], ascending = False, ignore_index = True).\n",
    "             head(5))\n",
    "  # занесем все остальные продажи в Other\n",
    "  df_i = df_i.append({'genre': 'Other', top_5[i]: actual_years[top_5[i]].sum() - df_i[top_5[i]].sum()}, ignore_index= True)\n",
    "  axs[i].pie(df_i[top_5[i]], labels = df_i['genre'], autopct='%1.1f%%')\n",
    "\n",
    "  # Зададим название региона.\n",
    "  axs[i].set_title(df_i.columns[1].split('_')[0].upper())\n",
    "plt.show()\n"
   ]
  },
  {
   "cell_type": "markdown",
   "metadata": {},
   "source": [
    "В Европе и Америке популярными оказались Action, Shooter и Sports почти в равной степени. В Японии популярность имеет Role-Playing, но Action также присутствует. Эта страна всегда отличалась своими определенными вкусами и трендами, так что не удивительно, что их рейтинг отличается от других стран."
   ]
  },
  {
   "cell_type": "code",
   "execution_count": 40,
   "metadata": {},
   "outputs": [
    {
     "data": {
      "image/png": "[encoded data removed]",
      "text/plain": [
       "<Figure size 1080x360 with 1 Axes>"
      ]
     },
     "metadata": {
      "needs_background": "light"
     },
     "output_type": "display_data"
    }
   ],
   "source": [
    "# Проверим, как зависят продажи в регионах от рейтинга ESRB\n",
    "\n",
    "# Так как колонка 'rating' имеет категориальные данные, то мы не можем посмотреть\n",
    "# зависимость обычной корреляцией\n",
    "(\n",
    "    actual_years.pivot_table(index='rating', values=['na_sales', 'eu_sales', 'jp_sales'], aggfunc='sum')\n",
    "    .sort_values(by='na_sales')\n",
    "    .plot(kind='bar', figsize=(15, 5))\n",
    ")\n",
    "plt.xlabel('Рейтинг ESRB')\n",
    "plt.ylabel('Количество проданных копий, млн')\n",
    "plt.title('Продажи в зависимости от рейтинга в различных регионах')\n",
    "plt.show()"
   ]
  },
  {
   "cell_type": "code",
   "execution_count": 41,
   "metadata": {},
   "outputs": [
    {
     "data": {
      "text/html": [
       "<div>\n",
       "<style scoped>\n",
       "    .dataframe tbody tr th:only-of-type {\n",
       "        vertical-align: middle;\n",
       "    }\n",
       "\n",
       "    .dataframe tbody tr th {\n",
       "        vertical-align: top;\n",
       "    }\n",
       "\n",
       "    .dataframe thead th {\n",
       "        text-align: right;\n",
       "    }\n",
       "</style>\n",
       "<table border=\"1\" class=\"dataframe\">\n",
       "  <thead>\n",
       "    <tr style=\"text-align: right;\">\n",
       "      <th></th>\n",
       "      <th>eu_sales</th>\n",
       "      <th>jp_sales</th>\n",
       "      <th>na_sales</th>\n",
       "    </tr>\n",
       "    <tr>\n",
       "      <th>rating</th>\n",
       "      <th></th>\n",
       "      <th></th>\n",
       "      <th></th>\n",
       "    </tr>\n",
       "  </thead>\n",
       "  <tbody>\n",
       "    <tr>\n",
       "      <th>E10+</th>\n",
       "      <td>26.16</td>\n",
       "      <td>4.46</td>\n",
       "      <td>33.23</td>\n",
       "    </tr>\n",
       "    <tr>\n",
       "      <th>T</th>\n",
       "      <td>34.07</td>\n",
       "      <td>14.78</td>\n",
       "      <td>38.95</td>\n",
       "    </tr>\n",
       "    <tr>\n",
       "      <th>E</th>\n",
       "      <td>58.06</td>\n",
       "      <td>8.94</td>\n",
       "      <td>50.74</td>\n",
       "    </tr>\n",
       "    <tr>\n",
       "      <th>unknown</th>\n",
       "      <td>58.95</td>\n",
       "      <td>56.90</td>\n",
       "      <td>64.72</td>\n",
       "    </tr>\n",
       "    <tr>\n",
       "      <th>M</th>\n",
       "      <td>93.44</td>\n",
       "      <td>8.01</td>\n",
       "      <td>96.42</td>\n",
       "    </tr>\n",
       "  </tbody>\n",
       "</table>\n",
       "</div>"
      ],
      "text/plain": [
       "         eu_sales  jp_sales  na_sales\n",
       "rating                               \n",
       "E10+        26.16      4.46     33.23\n",
       "T           34.07     14.78     38.95\n",
       "E           58.06      8.94     50.74\n",
       "unknown     58.95     56.90     64.72\n",
       "M           93.44      8.01     96.42"
      ]
     },
     "execution_count": 41,
     "metadata": {},
     "output_type": "execute_result"
    }
   ],
   "source": [
    "(\n",
    "    actual_years.pivot_table(index='rating', values=['na_sales', 'eu_sales', 'jp_sales'], aggfunc='sum')\n",
    "    .sort_values(by='na_sales')\n",
    ")"
   ]
  },
  {
   "cell_type": "markdown",
   "metadata": {},
   "source": [
    "Судя по таблице, рейтинг действительно влияет на продажи. Особенно пользуются популярностью игры с рейтингом М (Для взрослых). Не удивительно, именно эти игры самые интересные и насыщенные сценами. Но также много игр с не обозначенным рейтингом."
   ]
  },
  {
   "cell_type": "code",
   "execution_count": 42,
   "metadata": {},
   "outputs": [
    {
     "name": "stdout",
     "output_type": "stream",
     "text": [
      "0 0.0\n"
     ]
    },
    {
     "data": {
      "text/plain": [
       "unknown    749\n",
       "T          271\n",
       "M          265\n",
       "E          219\n",
       "E10+       185\n",
       "Name: rating, dtype: int64"
      ]
     },
     "execution_count": 42,
     "metadata": {},
     "output_type": "execute_result"
    }
   ],
   "source": [
    "# Комментарий ревьюера\n",
    "temp = actual_years.copy()\n",
    "print(temp.rating.isna().sum(), temp.rating.isna().sum()/len(temp))\n",
    "temp.rating.value_counts()"
   ]
  },
  {
   "cell_type": "markdown",
   "metadata": {},
   "source": [
    "<b>Небольшой вывод:</b>в разных регионах есть своя зависимость продаж от жанра, игровой платформы и рейтинга. Платформу берут в основном местного производителя, вкусовые тенденции примерно одинакова в Европе и Северной Америке, Япония предпочитает иные жанры игр. Рейтинг напрямую связан с продажами, если игра для дошкольников, то она скучна и не интересна, а сами дошкольники наверняка и не играют вовсе. Самые популярные игры - для взрослых ( рейтинг М), так как там разработчикам можно добавить много \"красочных сцен\"( сцены насилия, много кровавых моментов, постельные сцены)"
   ]
  },
  {
   "cell_type": "markdown",
   "metadata": {},
   "source": [
    "## Проверка гипотез"
   ]
  },
  {
   "cell_type": "markdown",
   "metadata": {},
   "source": [
    "### Гипотеза 1. Средние пользовательские рейтинги платформ Xbox One и PC одинаковые"
   ]
  },
  {
   "cell_type": "markdown",
   "metadata": {},
   "source": [
    "В роли нулевой гипотезы возмем: Средние пользовательские рейтинги платформ Xbox One и PC одинаковые. Альтернативу ей обозначим так: Средние пользовательские рейтинги платформ Xbox One и PC разные. "
   ]
  },
  {
   "cell_type": "code",
   "execution_count": 43,
   "metadata": {},
   "outputs": [
    {
     "name": "stdout",
     "output_type": "stream",
     "text": [
      "p-значение: 0.11601398086668832\n",
      "Нулевая гипотеза не отвергнута\n"
     ]
    }
   ],
   "source": [
    "# Сделаем выборку - пользовательский средний рейтинг для XOne\n",
    "mean_score_xone = actual_years.loc[(actual_years['platform'] == 'XOne') & (actual_years['user_score'] > 0)]['user_score']\n",
    "# Сделаем выборку- пользовательский средний рейтинг для PC\n",
    "mean_score_pc = actual_years.loc[(actual_years['platform'] == 'PC') & (actual_years['user_score'] > 0)]['user_score']\n",
    "\n",
    "# Проверяем гипотезу.Используем st.ttest_ind ,так как обе совокупности генеральные,независимые друг от друга\n",
    "# дисперсии будем считать неравными\n",
    "from scipy import stats as st\n",
    "import numpy as np\n",
    "\n",
    "alpha= 0.05\n",
    "\n",
    "results=st.ttest_ind(mean_score_xone, mean_score_pc, equal_var=False)\n",
    "print('p-значение:',results.pvalue)\n",
    "\n",
    "if results.pvalue < alpha:\n",
    "    print('Отвергаем нулевую гипотезу')\n",
    "else:\n",
    "    print('Нулевая гипотеза не отвергнута')\n"
   ]
  },
  {
   "cell_type": "code",
   "execution_count": 44,
   "metadata": {},
   "outputs": [
    {
     "name": "stdout",
     "output_type": "stream",
     "text": [
      "Средний пользовательский рейтинг платформы Xbox One: 6.594545454545456\n",
      "Средний пользовательский рейтинг платформы PC: 6.298360655737705\n"
     ]
    }
   ],
   "source": [
    "# Проверим средние рейтинги\n",
    "print('Средний пользовательский рейтинг платформы Xbox One:', mean_score_xone.mean())\n",
    "print('Средний пользовательский рейтинг платформы PC:', mean_score_pc.mean())"
   ]
  },
  {
   "cell_type": "markdown",
   "metadata": {},
   "source": [
    "<b>Первая гипотеза оказалась верна, рейтинги платформ действительно почти равны. </b>"
   ]
  },
  {
   "cell_type": "markdown",
   "metadata": {},
   "source": [
    "### Гипотеза 2. Средние пользовательские рейтинги жанров Action и Sports разные"
   ]
  },
  {
   "cell_type": "markdown",
   "metadata": {},
   "source": [
    "Нулевой гипотезой обозначим: Средние пользовательские рейтинги жанров Action и Sports одинаковые. Альтернативная гипотеза будет:Средние пользовательские рейтинги жанров Action и Sports разные."
   ]
  },
  {
   "cell_type": "code",
   "execution_count": 45,
   "metadata": {},
   "outputs": [
    {
     "name": "stdout",
     "output_type": "stream",
     "text": [
      "p-значение: 1.1825550382644557e-14\n",
      "Отвергаем нулевую гипотезу\n"
     ]
    }
   ],
   "source": [
    "# Сделаем выборку - пользовательский средний рейтинг для Action\n",
    "mean_score_action = actual_years.loc[(actual_years['genre'] == 'Action') & (actual_years['user_score'] > 0)]['user_score']\n",
    "# Сделаем выборку- пользовательский средний рейтинг для Sports\n",
    "mean_score_sports = actual_years.loc[(actual_years['genre'] == 'Sports') & (actual_years['user_score'] > 0)]['user_score']\n",
    "\n",
    "# Проверяем гипотезу.Используем st.ttest_ind ,так как обе совокупности генеральные,независимые друг от друга\n",
    "# дисперсии будем считать неравными\n",
    "from scipy import stats as st\n",
    "import numpy as np\n",
    "\n",
    "alpha=0.05\n",
    "\n",
    "results=st.ttest_ind(mean_score_action, mean_score_sports, equal_var=False)\n",
    "print('p-значение:',results.pvalue)\n",
    "\n",
    "if results.pvalue < alpha:\n",
    "    print('Отвергаем нулевую гипотезу')\n",
    "else:\n",
    "    print('Нулевая гипотеза не отвергнута')"
   ]
  },
  {
   "cell_type": "code",
   "execution_count": 46,
   "metadata": {},
   "outputs": [
    {
     "name": "stdout",
     "output_type": "stream",
     "text": [
      "Средний пользовательский рейтинг жанра Action: 6.760606060606061\n",
      "Средний пользовательский рейтинг жанра Sports: 5.2251968503937\n"
     ]
    }
   ],
   "source": [
    "# Проверим средние рейтинги\n",
    "print('Средний пользовательский рейтинг жанра Action:', mean_score_action.mean())\n",
    "print('Средний пользовательский рейтинг жанра Sports:', mean_score_sports.mean())"
   ]
  },
  {
   "cell_type": "markdown",
   "metadata": {},
   "source": [
    "<b>Нулевая гипотеза отвергнута, это значит, что вторая гипотеза оказалась верной, рейтинги этих жанров разные. </b>"
   ]
  },
  {
   "cell_type": "markdown",
   "metadata": {},
   "source": [
    "<b>Небольшой вывод:</b>Исходя из общепринятого правила, за нулевую гипотезу принимают 2 совокупности, которые не отличаются друг от друга( т.е. равны). Альтернативная гипотеза - две совокупности отличаются друг от друга (не равны). Исходя из этого, за нулевую гипотезу принимаем наши выражения:  Средние пользовательские рейтинги платформ Xbox One и PC *одинаковые*. Средние пользовательские рейтинги жанров Action и Sports *одинаковые*. На имеющихся данных, на уровне значимости 5% есть основания отвергнуть нулевую гипотезу о равенстве средних значений пользовательских рейтингов (отзывов) жанров Action и Sports в пользу альтернативной гипотезы.\n",
    "\n",
    "Так как выборки по платформам и жанрам независимые, то мы применяем двусторонний t-тест( предположили, что дисперсии могут быть разные)"
   ]
  },
  {
   "cell_type": "markdown",
   "metadata": {},
   "source": [
    "## Общий вывод"
   ]
  },
  {
   "cell_type": "markdown",
   "metadata": {},
   "source": [
    "Нам были предоставленны данные по продажам компьютерных игр, наша задача была составить прогноз за 2017 год, основываясь на этих данных. Мы изучили предоставленный файл, в нем оказались данные за длительный период времени о продажах игр в разных регионах, также данные о продажах, жанрах, оценках и возрастном рейтинге.\n",
    "\n",
    "Для начала, мы предварительно обработали датафрейм: переименовали столбцы, изменили тип данных в некоторых колонках, проверили дубликаты там, где необходимо и оценили пропуски. Пропусков было много, в основном они находились в колонке с оценками критиков/пользователей и рейтинге. К сожалению, обработать эти пропуски мы не смогли, так как был риск исказить результаты анализа( при удалении потерялось бы больше 50% данных, а при заполнении анализ в дальнейшем мог быть недостоверным). Пропуски в колонке возрастной рейтинг мы заменили на \"заглушку\", чтобы не исказить анализ. \n",
    "\n",
    "После предварительной обработки данных мы приступили к самому анализу. Рассмотрели продажи каких платформ были высоки, сколько в среднем существует платформа, какие были популярны, а какие быстро уходили с рынка. Выяснилось, что платформа в среднем существует около 7 лет(исключениями являются только недавно вышедшие платформы), пик продаж у большинства приходилось на 2008-2012 года. Так как нам нужно было построить прогноз на 2017 год, было решено найти <b>актуальный период</b> для дальнейшей работы. Чтобы прогноз был актуальным, мы взяли последние 3 года для анализа. В этот период мы нашли потенциально прибыльные платформы(PS4, XOne, 3DS, WiiU), на примерах которых можно будет определить дальнейшую стратегию. Все они являются новыми версиями своих предшественников, поэтому не удивительно, что они обрели такую популярность.\n",
    "\n",
    "Просмотрели зависимости продаж от региона, оценок, жанра игры и ее возрастного рейтинга. Как оказалось, оценка потребителя никак не влияет на продажи, в то время как на мнение критиков обращают внимание. Также внимание привлекает жанр игры, большую популярность имеет жанр Shooter, у него самые высокие продажи на актуальный период. Возрастные ограничения тоже влияют на прибыль: в компьютерные игры в основном играют школьники и люди старше, если игра рейтинга ЕС(дошкольный возраст), ее скорее всего проигнорируют. Самый доходный рейтинг М. Очень много неопределенных рейтингов, но это проблема из-за применения ESRB( применяют только в Северной Америке). Возмжно,если бы была альтернативная организация в данном датасете, то анализ был более углубленный. \n",
    "\n",
    "Для каждого региона (NA, EU, JP) мы создали Топ-5 популярных платформ/жанров. При анализе зависимости продаж от региона, была замечена закономерность: в какой стране создана платформа, в том районе и будут ее высокие продажи. Вкусы у Европы и Северной Америки в жанрах сходятся, а в Японии рейтинг был совсем другим. Если у первых топ жанров совпадает с общим рейтингом( Action, Shooter и Sports), то у второго список возглавляют Role-Playing,\tAction и Misc. Япония всегда была горда своими трендами, так что не удивительно, что и топ игр у них свой.\n",
    "\n",
    "В заключении, мы проверили пару гипотез: 1.Средние пользовательские рейтинги платформ Xbox One и PC одинаковые; 2.Средние пользовательские рейтинги жанров Action и Sports разные. Их мы приняли за нулевые гипотезы. Альтернативными гипотезами мы обозначили: 1.Средние пользовательские рейтинги платформ Xbox One и PC разные; 2.Средние пользовательские рейтинги жанров Action и Sports одинаковые.\n",
    "Обе начальные гипотезы подтвердились.\n",
    "\n",
    "<b>Итак, критерии, по которым можно определить успешность игры таковы:</b>\n",
    "\n",
    "<b>Регион</b>\n",
    "\n",
    "<b>Рейтинг ESRB</b>\n",
    "\n",
    "<b>Платформа, которая наиболее распространена в данном регионе</b>\n",
    "\n",
    "<b>Жанр</b>\n",
    "\n",
    "<b>Рейтинг критиков</b> (влияет на количество продаж во всех регионах)\n",
    "\n",
    "\n",
    "Игры, которые будут продаваться в <b>Северной Америке</b> лучше всего:\n",
    "\n",
    "<b>ESRB</b>: М, unknowm, E \n",
    "\n",
    "<b>Платформа</b>: Xbox360, PS3, PS4, XOne, 3DS \n",
    "\n",
    "<b>Жанры</b>: Action, Shooter, Sports,Role-Playing, Misc\n",
    "\n",
    "\n",
    "Игры, которые будут продаваться в <b>Европе</b> лучше всего:\n",
    "\n",
    "<b>ESRB</b>: М, Е, unknown\n",
    "\n",
    "<b>Платформа</b>: PS3, PS4, Xbox360, 3DS, PC\n",
    "\n",
    "<b>Жанры</b>: Action, Shooter, Sports, Role-Playing, Racing \n",
    "\n",
    "\n",
    "Игры, которые будут продаваться в <b>Японии</b> лучше всего:\n",
    "\n",
    "<b>ESRB</b>: самые популярный рейтинг unknown\n",
    "\n",
    "<b>Платформа</b>: 3DS, PS3, PS4(остальные платформы больше не востребованы)\n",
    "\n",
    "<b>Жанры</b>: Role-Playing, Action, Misc, Fighting, Platform\n",
    "\n",
    "\n",
    "*Рейтинги, жанры, платформы указаны в порядке убывания*"
   ]
  }
 ],
 "metadata": {
  "ExecuteTimeLog": [
   {
    "duration": 543,
    "start_time": "2023-02-13T08:53:26.224Z"
   },
   {
    "duration": 206,
    "start_time": "2023-02-13T08:53:41.131Z"
   },
   {
    "duration": 70,
    "start_time": "2023-02-13T08:53:53.042Z"
   },
   {
    "duration": 15,
    "start_time": "2023-02-13T09:06:07.649Z"
   },
   {
    "duration": 83,
    "start_time": "2023-02-13T09:18:13.793Z"
   },
   {
    "duration": 16,
    "start_time": "2023-02-13T09:18:20.060Z"
   },
   {
    "duration": 14,
    "start_time": "2023-02-13T09:19:09.028Z"
   },
   {
    "duration": 79,
    "start_time": "2023-02-13T09:24:11.063Z"
   },
   {
    "duration": 11,
    "start_time": "2023-02-13T09:32:20.108Z"
   },
   {
    "duration": 51,
    "start_time": "2023-02-13T12:20:00.477Z"
   },
   {
    "duration": 544,
    "start_time": "2023-02-13T12:20:05.591Z"
   },
   {
    "duration": 13,
    "start_time": "2023-02-13T12:20:06.137Z"
   },
   {
    "duration": 81,
    "start_time": "2023-02-13T12:20:06.151Z"
   },
   {
    "duration": 686,
    "start_time": "2023-02-13T12:20:32.831Z"
   },
   {
    "duration": 7,
    "start_time": "2023-02-13T12:21:00.960Z"
   },
   {
    "duration": 7,
    "start_time": "2023-02-13T12:21:16.200Z"
   },
   {
    "duration": 3,
    "start_time": "2023-02-13T12:21:25.411Z"
   },
   {
    "duration": 7,
    "start_time": "2023-02-13T12:23:02.630Z"
   },
   {
    "duration": 7,
    "start_time": "2023-02-13T12:23:29.183Z"
   },
   {
    "duration": 7,
    "start_time": "2023-02-13T12:23:48.982Z"
   },
   {
    "duration": 5,
    "start_time": "2023-02-13T12:26:01.662Z"
   },
   {
    "duration": 3,
    "start_time": "2023-02-13T12:26:17.141Z"
   },
   {
    "duration": 803,
    "start_time": "2023-02-13T12:56:58.097Z"
   },
   {
    "duration": 761,
    "start_time": "2023-02-13T12:58:13.419Z"
   },
   {
    "duration": 17,
    "start_time": "2023-02-13T12:58:25.139Z"
   },
   {
    "duration": 7,
    "start_time": "2023-02-13T13:01:31.615Z"
   },
   {
    "duration": 10,
    "start_time": "2023-02-13T13:11:32.013Z"
   },
   {
    "duration": 11,
    "start_time": "2023-02-13T13:11:43.627Z"
   },
   {
    "duration": 8,
    "start_time": "2023-02-13T13:12:14.379Z"
   },
   {
    "duration": 355,
    "start_time": "2023-02-13T13:13:53.141Z"
   },
   {
    "duration": 7,
    "start_time": "2023-02-13T13:17:43.059Z"
   },
   {
    "duration": 18,
    "start_time": "2023-02-13T13:29:58.366Z"
   },
   {
    "duration": 14,
    "start_time": "2023-02-13T13:30:19.191Z"
   },
   {
    "duration": 18,
    "start_time": "2023-02-13T13:30:55.076Z"
   },
   {
    "duration": 15,
    "start_time": "2023-02-13T13:31:13.221Z"
   },
   {
    "duration": 550,
    "start_time": "2023-02-13T13:32:06.886Z"
   },
   {
    "duration": 139,
    "start_time": "2023-02-13T13:32:47.186Z"
   },
   {
    "duration": 115,
    "start_time": "2023-02-13T13:33:44.395Z"
   },
   {
    "duration": 196,
    "start_time": "2023-02-13T13:34:14.797Z"
   },
   {
    "duration": 168,
    "start_time": "2023-02-13T13:34:39.389Z"
   },
   {
    "duration": 135,
    "start_time": "2023-02-13T13:34:48.251Z"
   },
   {
    "duration": 24,
    "start_time": "2023-02-13T13:35:23.736Z"
   },
   {
    "duration": 4,
    "start_time": "2023-02-13T13:50:05.497Z"
   },
   {
    "duration": 5,
    "start_time": "2023-02-13T13:50:22.316Z"
   },
   {
    "duration": 4,
    "start_time": "2023-02-13T13:58:46.172Z"
   },
   {
    "duration": 5,
    "start_time": "2023-02-13T13:59:01.157Z"
   },
   {
    "duration": 14,
    "start_time": "2023-02-13T13:59:15.147Z"
   },
   {
    "duration": 12,
    "start_time": "2023-02-13T13:59:53.358Z"
   },
   {
    "duration": 440,
    "start_time": "2023-02-13T14:02:19.365Z"
   },
   {
    "duration": 13,
    "start_time": "2023-02-13T14:02:19.806Z"
   },
   {
    "duration": 72,
    "start_time": "2023-02-13T14:02:19.820Z"
   },
   {
    "duration": 0,
    "start_time": "2023-02-13T14:02:19.894Z"
   },
   {
    "duration": 0,
    "start_time": "2023-02-13T14:02:19.895Z"
   },
   {
    "duration": 0,
    "start_time": "2023-02-13T14:02:19.896Z"
   },
   {
    "duration": 0,
    "start_time": "2023-02-13T14:02:19.896Z"
   },
   {
    "duration": 0,
    "start_time": "2023-02-13T14:02:19.910Z"
   },
   {
    "duration": 6,
    "start_time": "2023-02-13T14:02:45.429Z"
   },
   {
    "duration": 6,
    "start_time": "2023-02-13T14:02:46.569Z"
   },
   {
    "duration": 14,
    "start_time": "2023-02-13T14:02:47.380Z"
   },
   {
    "duration": 13,
    "start_time": "2023-02-13T14:02:49.549Z"
   },
   {
    "duration": 533,
    "start_time": "2023-02-15T06:28:41.080Z"
   },
   {
    "duration": 15,
    "start_time": "2023-02-15T06:28:41.693Z"
   },
   {
    "duration": 4,
    "start_time": "2023-02-15T06:28:41.854Z"
   },
   {
    "duration": 9,
    "start_time": "2023-02-15T06:28:41.860Z"
   },
   {
    "duration": 8,
    "start_time": "2023-02-15T06:28:41.870Z"
   },
   {
    "duration": 7,
    "start_time": "2023-02-15T06:28:41.880Z"
   },
   {
    "duration": 15,
    "start_time": "2023-02-15T06:28:41.889Z"
   },
   {
    "duration": 15,
    "start_time": "2023-02-15T06:28:41.907Z"
   },
   {
    "duration": 5,
    "start_time": "2023-02-15T06:33:10.255Z"
   },
   {
    "duration": 11,
    "start_time": "2023-02-15T06:34:45.989Z"
   },
   {
    "duration": 11,
    "start_time": "2023-02-15T06:34:54.081Z"
   },
   {
    "duration": 5,
    "start_time": "2023-02-15T06:35:54.356Z"
   },
   {
    "duration": 6,
    "start_time": "2023-02-15T06:36:21.952Z"
   },
   {
    "duration": 6,
    "start_time": "2023-02-15T06:36:46.145Z"
   },
   {
    "duration": 21,
    "start_time": "2023-02-15T06:59:42.819Z"
   },
   {
    "duration": 7,
    "start_time": "2023-02-15T06:59:56.657Z"
   },
   {
    "duration": 561,
    "start_time": "2023-02-15T07:08:55.462Z"
   },
   {
    "duration": 186,
    "start_time": "2023-02-15T07:09:31.838Z"
   },
   {
    "duration": 187,
    "start_time": "2023-02-15T07:10:13.888Z"
   },
   {
    "duration": 210,
    "start_time": "2023-02-15T07:10:35.172Z"
   },
   {
    "duration": 204,
    "start_time": "2023-02-15T07:10:53.928Z"
   },
   {
    "duration": 179,
    "start_time": "2023-02-15T07:11:14.886Z"
   },
   {
    "duration": 165,
    "start_time": "2023-02-15T07:11:21.095Z"
   },
   {
    "duration": 145,
    "start_time": "2023-02-15T07:13:10.140Z"
   },
   {
    "duration": 175,
    "start_time": "2023-02-15T07:13:31.673Z"
   },
   {
    "duration": 6,
    "start_time": "2023-02-15T07:17:03.912Z"
   },
   {
    "duration": 5,
    "start_time": "2023-02-15T07:23:26.862Z"
   },
   {
    "duration": 17,
    "start_time": "2023-02-15T07:26:33.784Z"
   },
   {
    "duration": 9,
    "start_time": "2023-02-15T07:29:25.693Z"
   },
   {
    "duration": 10,
    "start_time": "2023-02-15T07:29:30.588Z"
   },
   {
    "duration": 16,
    "start_time": "2023-02-15T07:29:42.713Z"
   },
   {
    "duration": 776,
    "start_time": "2023-02-15T07:29:53.477Z"
   },
   {
    "duration": 933,
    "start_time": "2023-02-15T07:30:23.500Z"
   },
   {
    "duration": 741,
    "start_time": "2023-02-15T07:31:07.172Z"
   },
   {
    "duration": 213562,
    "start_time": "2023-02-15T07:32:08.381Z"
   },
   {
    "duration": 767,
    "start_time": "2023-02-15T07:36:08.302Z"
   },
   {
    "duration": 0,
    "start_time": "2023-02-15T07:38:02.919Z"
   },
   {
    "duration": 506,
    "start_time": "2023-02-15T07:38:10.168Z"
   },
   {
    "duration": 156,
    "start_time": "2023-02-15T07:38:24.667Z"
   },
   {
    "duration": 158,
    "start_time": "2023-02-15T07:42:38.635Z"
   },
   {
    "duration": 748,
    "start_time": "2023-02-15T07:48:50.666Z"
   },
   {
    "duration": 270,
    "start_time": "2023-02-15T07:49:28.117Z"
   },
   {
    "duration": 48,
    "start_time": "2023-02-15T13:49:10.080Z"
   },
   {
    "duration": 631,
    "start_time": "2023-02-15T13:49:15.916Z"
   },
   {
    "duration": 22,
    "start_time": "2023-02-15T13:49:16.557Z"
   },
   {
    "duration": 16,
    "start_time": "2023-02-15T13:49:16.581Z"
   },
   {
    "duration": 19,
    "start_time": "2023-02-15T13:49:16.599Z"
   },
   {
    "duration": 8,
    "start_time": "2023-02-15T13:49:16.620Z"
   },
   {
    "duration": 6,
    "start_time": "2023-02-15T13:49:16.630Z"
   },
   {
    "duration": 44,
    "start_time": "2023-02-15T13:49:16.638Z"
   },
   {
    "duration": 35,
    "start_time": "2023-02-15T13:49:16.683Z"
   },
   {
    "duration": 5,
    "start_time": "2023-02-15T13:49:16.720Z"
   },
   {
    "duration": 16,
    "start_time": "2023-02-15T13:49:16.727Z"
   },
   {
    "duration": 29,
    "start_time": "2023-02-15T13:49:16.748Z"
   },
   {
    "duration": 10,
    "start_time": "2023-02-15T13:49:16.778Z"
   },
   {
    "duration": 713,
    "start_time": "2023-02-15T13:49:16.789Z"
   },
   {
    "duration": 343,
    "start_time": "2023-02-15T13:49:17.504Z"
   },
   {
    "duration": 5,
    "start_time": "2023-02-15T13:49:17.851Z"
   },
   {
    "duration": 89,
    "start_time": "2023-02-15T13:59:39.847Z"
   },
   {
    "duration": 9,
    "start_time": "2023-02-15T14:00:01.459Z"
   },
   {
    "duration": 377,
    "start_time": "2023-02-15T14:05:55.792Z"
   },
   {
    "duration": 7,
    "start_time": "2023-02-15T14:06:00.082Z"
   },
   {
    "duration": 182,
    "start_time": "2023-02-15T14:06:34.350Z"
   },
   {
    "duration": 8,
    "start_time": "2023-02-15T14:07:07.851Z"
   },
   {
    "duration": 10,
    "start_time": "2023-02-15T14:07:16.212Z"
   },
   {
    "duration": 4,
    "start_time": "2023-02-15T14:14:43.221Z"
   },
   {
    "duration": 5,
    "start_time": "2023-02-15T14:14:46.971Z"
   },
   {
    "duration": 3,
    "start_time": "2023-02-15T14:14:55.502Z"
   },
   {
    "duration": 5,
    "start_time": "2023-02-15T14:15:06.559Z"
   },
   {
    "duration": 184,
    "start_time": "2023-02-15T14:16:25.196Z"
   },
   {
    "duration": 343,
    "start_time": "2023-02-15T14:18:23.880Z"
   },
   {
    "duration": 10,
    "start_time": "2023-02-15T14:35:16.952Z"
   },
   {
    "duration": 9,
    "start_time": "2023-02-15T14:35:20.654Z"
   },
   {
    "duration": 12,
    "start_time": "2023-02-15T14:35:26.053Z"
   },
   {
    "duration": 210,
    "start_time": "2023-02-15T14:35:36.669Z"
   },
   {
    "duration": 9,
    "start_time": "2023-02-15T14:35:39.816Z"
   },
   {
    "duration": 20,
    "start_time": "2023-02-15T14:37:59.467Z"
   },
   {
    "duration": 2365,
    "start_time": "2023-02-15T14:38:33.065Z"
   },
   {
    "duration": 2462,
    "start_time": "2023-02-15T14:40:15.818Z"
   },
   {
    "duration": 7,
    "start_time": "2023-02-15T15:02:35.999Z"
   },
   {
    "duration": 516,
    "start_time": "2023-02-15T15:02:49.001Z"
   },
   {
    "duration": 16,
    "start_time": "2023-02-15T15:02:49.519Z"
   },
   {
    "duration": 3,
    "start_time": "2023-02-15T15:02:49.537Z"
   },
   {
    "duration": 12,
    "start_time": "2023-02-15T15:02:49.542Z"
   },
   {
    "duration": 11,
    "start_time": "2023-02-15T15:02:49.555Z"
   },
   {
    "duration": 6,
    "start_time": "2023-02-15T15:02:49.568Z"
   },
   {
    "duration": 18,
    "start_time": "2023-02-15T15:02:49.575Z"
   },
   {
    "duration": 17,
    "start_time": "2023-02-15T15:02:49.595Z"
   },
   {
    "duration": 27,
    "start_time": "2023-02-15T15:02:49.614Z"
   },
   {
    "duration": 5,
    "start_time": "2023-02-15T15:02:49.644Z"
   },
   {
    "duration": 10,
    "start_time": "2023-02-15T15:02:49.650Z"
   },
   {
    "duration": 9,
    "start_time": "2023-02-15T15:02:49.662Z"
   },
   {
    "duration": 442,
    "start_time": "2023-02-15T15:02:49.673Z"
   },
   {
    "duration": 324,
    "start_time": "2023-02-15T15:02:50.117Z"
   },
   {
    "duration": 206,
    "start_time": "2023-02-15T15:02:50.443Z"
   },
   {
    "duration": 2118,
    "start_time": "2023-02-15T15:02:50.650Z"
   },
   {
    "duration": 47,
    "start_time": "2023-02-16T17:32:15.078Z"
   },
   {
    "duration": 614,
    "start_time": "2023-02-16T17:32:19.807Z"
   },
   {
    "duration": 15,
    "start_time": "2023-02-16T17:32:20.423Z"
   },
   {
    "duration": 6,
    "start_time": "2023-02-16T17:32:20.440Z"
   },
   {
    "duration": 27,
    "start_time": "2023-02-16T17:32:20.448Z"
   },
   {
    "duration": 12,
    "start_time": "2023-02-16T17:32:20.478Z"
   },
   {
    "duration": 6,
    "start_time": "2023-02-16T17:32:20.492Z"
   },
   {
    "duration": 14,
    "start_time": "2023-02-16T17:32:20.500Z"
   },
   {
    "duration": 21,
    "start_time": "2023-02-16T17:32:20.516Z"
   },
   {
    "duration": 21,
    "start_time": "2023-02-16T17:32:20.539Z"
   },
   {
    "duration": 8,
    "start_time": "2023-02-16T17:32:20.565Z"
   },
   {
    "duration": 12,
    "start_time": "2023-02-16T17:32:20.574Z"
   },
   {
    "duration": 8,
    "start_time": "2023-02-16T17:32:20.587Z"
   },
   {
    "duration": 645,
    "start_time": "2023-02-16T17:32:20.596Z"
   },
   {
    "duration": 334,
    "start_time": "2023-02-16T17:32:21.243Z"
   },
   {
    "duration": 231,
    "start_time": "2023-02-16T17:32:21.579Z"
   },
   {
    "duration": 100,
    "start_time": "2023-02-16T17:32:21.811Z"
   },
   {
    "duration": 1045,
    "start_time": "2023-02-16T17:32:44.133Z"
   },
   {
    "duration": 199,
    "start_time": "2023-02-16T17:35:06.589Z"
   },
   {
    "duration": 9,
    "start_time": "2023-02-16T17:48:53.327Z"
   },
   {
    "duration": 313,
    "start_time": "2023-02-16T17:58:25.520Z"
   },
   {
    "duration": 18,
    "start_time": "2023-02-16T18:14:45.592Z"
   },
   {
    "duration": 318,
    "start_time": "2023-02-16T18:30:23.966Z"
   },
   {
    "duration": 283,
    "start_time": "2023-02-16T18:32:07.075Z"
   },
   {
    "duration": 240,
    "start_time": "2023-02-16T18:53:51.038Z"
   },
   {
    "duration": 6,
    "start_time": "2023-02-16T19:00:56.381Z"
   },
   {
    "duration": 150,
    "start_time": "2023-02-16T19:01:01.200Z"
   },
   {
    "duration": 5,
    "start_time": "2023-02-16T19:01:05.729Z"
   },
   {
    "duration": 6,
    "start_time": "2023-02-16T19:01:22.384Z"
   },
   {
    "duration": 1255,
    "start_time": "2023-02-16T19:01:51.862Z"
   },
   {
    "duration": 78,
    "start_time": "2023-02-16T19:02:23.434Z"
   },
   {
    "duration": 8,
    "start_time": "2023-02-16T19:02:40.136Z"
   },
   {
    "duration": 10,
    "start_time": "2023-02-16T19:02:44.260Z"
   },
   {
    "duration": 12,
    "start_time": "2023-02-16T19:03:45.256Z"
   },
   {
    "duration": 12,
    "start_time": "2023-02-16T19:05:11.914Z"
   },
   {
    "duration": 14,
    "start_time": "2023-02-16T19:05:31.110Z"
   },
   {
    "duration": 144,
    "start_time": "2023-02-16T19:14:53.010Z"
   },
   {
    "duration": 14,
    "start_time": "2023-02-16T19:15:28.510Z"
   },
   {
    "duration": 196,
    "start_time": "2023-02-16T19:17:00.058Z"
   },
   {
    "duration": 10,
    "start_time": "2023-02-16T19:17:22.566Z"
   },
   {
    "duration": 151,
    "start_time": "2023-02-16T19:18:09.277Z"
   },
   {
    "duration": 11,
    "start_time": "2023-02-16T19:18:32.888Z"
   },
   {
    "duration": 57,
    "start_time": "2023-02-17T09:44:49.820Z"
   },
   {
    "duration": 697,
    "start_time": "2023-02-17T09:44:55.921Z"
   },
   {
    "duration": 22,
    "start_time": "2023-02-17T09:44:56.620Z"
   },
   {
    "duration": 29,
    "start_time": "2023-02-17T09:44:56.644Z"
   },
   {
    "duration": 19,
    "start_time": "2023-02-17T09:44:56.676Z"
   },
   {
    "duration": 13,
    "start_time": "2023-02-17T09:44:56.696Z"
   },
   {
    "duration": 6,
    "start_time": "2023-02-17T09:44:56.710Z"
   },
   {
    "duration": 16,
    "start_time": "2023-02-17T09:44:56.717Z"
   },
   {
    "duration": 17,
    "start_time": "2023-02-17T09:44:56.735Z"
   },
   {
    "duration": 8,
    "start_time": "2023-02-17T09:44:56.754Z"
   },
   {
    "duration": 9,
    "start_time": "2023-02-17T09:44:56.765Z"
   },
   {
    "duration": 11,
    "start_time": "2023-02-17T09:44:56.776Z"
   },
   {
    "duration": 17,
    "start_time": "2023-02-17T09:44:56.789Z"
   },
   {
    "duration": 631,
    "start_time": "2023-02-17T09:44:56.808Z"
   },
   {
    "duration": 324,
    "start_time": "2023-02-17T09:44:57.440Z"
   },
   {
    "duration": 260,
    "start_time": "2023-02-17T09:44:57.766Z"
   },
   {
    "duration": 2289,
    "start_time": "2023-02-17T09:44:58.028Z"
   },
   {
    "duration": 302,
    "start_time": "2023-02-17T09:45:00.319Z"
   },
   {
    "duration": 289,
    "start_time": "2023-02-17T09:45:00.624Z"
   },
   {
    "duration": 250,
    "start_time": "2023-02-17T09:45:00.915Z"
   },
   {
    "duration": 14,
    "start_time": "2023-02-17T09:45:01.169Z"
   },
   {
    "duration": 195,
    "start_time": "2023-02-17T09:45:01.185Z"
   },
   {
    "duration": 13,
    "start_time": "2023-02-17T09:45:01.382Z"
   },
   {
    "duration": 223,
    "start_time": "2023-02-17T09:45:01.398Z"
   },
   {
    "duration": 12,
    "start_time": "2023-02-17T09:45:01.624Z"
   },
   {
    "duration": 244,
    "start_time": "2023-02-17T09:45:01.638Z"
   },
   {
    "duration": 11,
    "start_time": "2023-02-17T09:45:01.884Z"
   },
   {
    "duration": 155,
    "start_time": "2023-02-17T09:49:55.419Z"
   },
   {
    "duration": 90,
    "start_time": "2023-02-17T10:03:08.604Z"
   },
   {
    "duration": 364,
    "start_time": "2023-02-17T10:03:20.175Z"
   },
   {
    "duration": 369,
    "start_time": "2023-02-17T10:03:43.365Z"
   },
   {
    "duration": 477,
    "start_time": "2023-02-17T10:10:42.775Z"
   },
   {
    "duration": 20,
    "start_time": "2023-02-17T10:10:43.255Z"
   },
   {
    "duration": 4,
    "start_time": "2023-02-17T10:10:43.277Z"
   },
   {
    "duration": 11,
    "start_time": "2023-02-17T10:10:43.283Z"
   },
   {
    "duration": 23,
    "start_time": "2023-02-17T10:10:43.297Z"
   },
   {
    "duration": 12,
    "start_time": "2023-02-17T10:10:43.322Z"
   },
   {
    "duration": 27,
    "start_time": "2023-02-17T10:10:43.336Z"
   },
   {
    "duration": 34,
    "start_time": "2023-02-17T10:10:43.364Z"
   },
   {
    "duration": 5,
    "start_time": "2023-02-17T10:10:43.400Z"
   },
   {
    "duration": 13,
    "start_time": "2023-02-17T10:10:43.407Z"
   },
   {
    "duration": 14,
    "start_time": "2023-02-17T10:10:43.421Z"
   },
   {
    "duration": 14,
    "start_time": "2023-02-17T10:10:43.437Z"
   },
   {
    "duration": 473,
    "start_time": "2023-02-17T10:10:43.453Z"
   },
   {
    "duration": 337,
    "start_time": "2023-02-17T10:10:43.929Z"
   },
   {
    "duration": 201,
    "start_time": "2023-02-17T10:10:44.268Z"
   },
   {
    "duration": 2222,
    "start_time": "2023-02-17T10:10:44.472Z"
   },
   {
    "duration": 278,
    "start_time": "2023-02-17T10:10:46.696Z"
   },
   {
    "duration": 280,
    "start_time": "2023-02-17T10:10:46.976Z"
   },
   {
    "duration": 166,
    "start_time": "2023-02-17T10:10:47.261Z"
   },
   {
    "duration": 9,
    "start_time": "2023-02-17T10:10:47.429Z"
   },
   {
    "duration": 276,
    "start_time": "2023-02-17T10:10:47.449Z"
   },
   {
    "duration": 11,
    "start_time": "2023-02-17T10:10:47.726Z"
   },
   {
    "duration": 197,
    "start_time": "2023-02-17T10:10:47.739Z"
   },
   {
    "duration": 27,
    "start_time": "2023-02-17T10:10:47.938Z"
   },
   {
    "duration": 426,
    "start_time": "2023-02-17T10:10:47.967Z"
   },
   {
    "duration": 18,
    "start_time": "2023-02-17T10:13:11.756Z"
   },
   {
    "duration": 337,
    "start_time": "2023-02-17T10:43:14.065Z"
   },
   {
    "duration": 88,
    "start_time": "2023-02-17T10:48:10.323Z"
   },
   {
    "duration": 23,
    "start_time": "2023-02-17T10:48:21.263Z"
   },
   {
    "duration": 1579,
    "start_time": "2023-02-17T10:49:45.583Z"
   },
   {
    "duration": 456,
    "start_time": "2023-02-17T10:50:21.865Z"
   },
   {
    "duration": 313,
    "start_time": "2023-02-17T10:51:05.913Z"
   },
   {
    "duration": 333,
    "start_time": "2023-02-17T10:51:13.596Z"
   },
   {
    "duration": 28,
    "start_time": "2023-02-17T11:05:47.569Z"
   },
   {
    "duration": 116,
    "start_time": "2023-02-17T11:06:38.163Z"
   },
   {
    "duration": 115,
    "start_time": "2023-02-17T11:07:01.886Z"
   },
   {
    "duration": 214,
    "start_time": "2023-02-17T11:07:58.591Z"
   },
   {
    "duration": 31,
    "start_time": "2023-02-17T11:10:36.388Z"
   },
   {
    "duration": 23,
    "start_time": "2023-02-17T11:10:47.916Z"
   },
   {
    "duration": 33,
    "start_time": "2023-02-17T11:11:47.781Z"
   },
   {
    "duration": 83,
    "start_time": "2023-02-17T11:15:00.096Z"
   },
   {
    "duration": 139,
    "start_time": "2023-02-17T11:15:08.264Z"
   },
   {
    "duration": 12,
    "start_time": "2023-02-17T11:22:24.726Z"
   },
   {
    "duration": 17,
    "start_time": "2023-02-17T11:22:34.099Z"
   },
   {
    "duration": 17,
    "start_time": "2023-02-17T11:23:11.183Z"
   },
   {
    "duration": 815,
    "start_time": "2023-02-17T11:23:28.574Z"
   },
   {
    "duration": 129,
    "start_time": "2023-02-17T11:24:25.391Z"
   },
   {
    "duration": 169,
    "start_time": "2023-02-17T11:24:37.529Z"
   },
   {
    "duration": 324,
    "start_time": "2023-02-17T11:24:59.561Z"
   },
   {
    "duration": 303,
    "start_time": "2023-02-17T11:31:12.208Z"
   },
   {
    "duration": 320,
    "start_time": "2023-02-17T11:31:27.272Z"
   },
   {
    "duration": 433,
    "start_time": "2023-02-17T11:31:46.860Z"
   },
   {
    "duration": 329,
    "start_time": "2023-02-17T11:33:04.574Z"
   },
   {
    "duration": 163,
    "start_time": "2023-02-17T11:33:39.638Z"
   },
   {
    "duration": 229,
    "start_time": "2023-02-17T11:34:46.301Z"
   },
   {
    "duration": 337,
    "start_time": "2023-02-17T11:34:58.965Z"
   },
   {
    "duration": 197,
    "start_time": "2023-02-17T11:36:13.022Z"
   },
   {
    "duration": 186,
    "start_time": "2023-02-17T11:36:32.023Z"
   },
   {
    "duration": 167,
    "start_time": "2023-02-17T11:38:38.510Z"
   },
   {
    "duration": 167,
    "start_time": "2023-02-17T11:38:49.065Z"
   },
   {
    "duration": 17,
    "start_time": "2023-02-17T11:39:29.707Z"
   },
   {
    "duration": 152,
    "start_time": "2023-02-17T11:41:19.888Z"
   },
   {
    "duration": 222,
    "start_time": "2023-02-17T11:43:16.184Z"
   },
   {
    "duration": 26,
    "start_time": "2023-02-17T11:45:25.370Z"
   },
   {
    "duration": 25,
    "start_time": "2023-02-17T11:51:22.673Z"
   },
   {
    "duration": 30,
    "start_time": "2023-02-17T11:51:36.031Z"
   },
   {
    "duration": 25,
    "start_time": "2023-02-17T11:53:26.604Z"
   },
   {
    "duration": 406,
    "start_time": "2023-02-17T11:57:33.855Z"
   },
   {
    "duration": 23,
    "start_time": "2023-02-17T11:58:24.358Z"
   },
   {
    "duration": 23,
    "start_time": "2023-02-17T12:02:24.291Z"
   },
   {
    "duration": 20,
    "start_time": "2023-02-17T12:02:34.573Z"
   },
   {
    "duration": 20,
    "start_time": "2023-02-17T12:11:55.990Z"
   },
   {
    "duration": 18,
    "start_time": "2023-02-17T12:12:38.321Z"
   },
   {
    "duration": 17,
    "start_time": "2023-02-17T12:13:52.230Z"
   },
   {
    "duration": 254,
    "start_time": "2023-02-17T12:22:58.149Z"
   },
   {
    "duration": 19,
    "start_time": "2023-02-17T12:23:12.622Z"
   },
   {
    "duration": 11,
    "start_time": "2023-02-17T12:26:48.323Z"
   },
   {
    "duration": 17,
    "start_time": "2023-02-17T12:26:59.214Z"
   },
   {
    "duration": 25,
    "start_time": "2023-02-17T12:29:31.548Z"
   },
   {
    "duration": 23,
    "start_time": "2023-02-17T12:29:57.729Z"
   },
   {
    "duration": 30,
    "start_time": "2023-02-17T12:30:15.867Z"
   },
   {
    "duration": 328,
    "start_time": "2023-02-17T12:30:54.749Z"
   },
   {
    "duration": 612,
    "start_time": "2023-02-17T12:45:17.934Z"
   },
   {
    "duration": 22,
    "start_time": "2023-02-17T12:45:18.548Z"
   },
   {
    "duration": 13,
    "start_time": "2023-02-17T12:45:18.575Z"
   },
   {
    "duration": 9,
    "start_time": "2023-02-17T12:45:18.590Z"
   },
   {
    "duration": 20,
    "start_time": "2023-02-17T12:45:18.600Z"
   },
   {
    "duration": 8,
    "start_time": "2023-02-17T12:45:18.622Z"
   },
   {
    "duration": 26,
    "start_time": "2023-02-17T12:45:18.631Z"
   },
   {
    "duration": 36,
    "start_time": "2023-02-17T12:45:18.662Z"
   },
   {
    "duration": 6,
    "start_time": "2023-02-17T12:45:18.700Z"
   },
   {
    "duration": 8,
    "start_time": "2023-02-17T12:45:18.709Z"
   },
   {
    "duration": 6,
    "start_time": "2023-02-17T12:45:18.719Z"
   },
   {
    "duration": 12,
    "start_time": "2023-02-17T12:45:18.727Z"
   },
   {
    "duration": 518,
    "start_time": "2023-02-17T12:45:18.741Z"
   },
   {
    "duration": 341,
    "start_time": "2023-02-17T12:45:19.268Z"
   },
   {
    "duration": 241,
    "start_time": "2023-02-17T12:45:19.611Z"
   },
   {
    "duration": 2263,
    "start_time": "2023-02-17T12:45:19.859Z"
   },
   {
    "duration": 315,
    "start_time": "2023-02-17T12:45:22.124Z"
   },
   {
    "duration": 274,
    "start_time": "2023-02-17T12:45:22.441Z"
   },
   {
    "duration": 202,
    "start_time": "2023-02-17T12:45:22.717Z"
   },
   {
    "duration": 12,
    "start_time": "2023-02-17T12:45:22.920Z"
   },
   {
    "duration": 303,
    "start_time": "2023-02-17T12:45:22.934Z"
   },
   {
    "duration": 26,
    "start_time": "2023-02-17T12:45:23.239Z"
   },
   {
    "duration": 214,
    "start_time": "2023-02-17T12:45:23.267Z"
   },
   {
    "duration": 21,
    "start_time": "2023-02-17T12:45:23.486Z"
   },
   {
    "duration": 405,
    "start_time": "2023-02-17T12:45:23.509Z"
   },
   {
    "duration": 14,
    "start_time": "2023-02-17T12:45:23.916Z"
   },
   {
    "duration": 35,
    "start_time": "2023-02-17T12:45:23.933Z"
   },
   {
    "duration": 21,
    "start_time": "2023-02-17T12:45:23.973Z"
   },
   {
    "duration": 16,
    "start_time": "2023-02-17T12:45:23.996Z"
   },
   {
    "duration": 17,
    "start_time": "2023-02-17T12:45:24.013Z"
   },
   {
    "duration": 46,
    "start_time": "2023-02-17T12:45:24.032Z"
   },
   {
    "duration": 25,
    "start_time": "2023-02-17T12:45:24.085Z"
   },
   {
    "duration": 16,
    "start_time": "2023-02-17T12:45:24.112Z"
   },
   {
    "duration": 102,
    "start_time": "2023-02-17T14:18:13.142Z"
   },
   {
    "duration": 1028,
    "start_time": "2023-02-17T14:18:24.461Z"
   },
   {
    "duration": 854,
    "start_time": "2023-02-17T14:21:52.660Z"
   },
   {
    "duration": 4,
    "start_time": "2023-02-17T14:24:33.797Z"
   },
   {
    "duration": 6,
    "start_time": "2023-02-17T14:25:12.087Z"
   },
   {
    "duration": 8,
    "start_time": "2023-02-17T14:26:13.361Z"
   },
   {
    "duration": 7,
    "start_time": "2023-02-17T14:29:10.107Z"
   },
   {
    "duration": 7,
    "start_time": "2023-02-17T14:29:53.168Z"
   },
   {
    "duration": 524,
    "start_time": "2023-02-17T14:35:14.735Z"
   },
   {
    "duration": 540,
    "start_time": "2023-02-17T14:35:45.211Z"
   },
   {
    "duration": 22,
    "start_time": "2023-02-17T14:35:45.755Z"
   },
   {
    "duration": 20,
    "start_time": "2023-02-17T14:35:45.779Z"
   },
   {
    "duration": 27,
    "start_time": "2023-02-17T14:35:45.802Z"
   },
   {
    "duration": 15,
    "start_time": "2023-02-17T14:35:45.832Z"
   },
   {
    "duration": 38,
    "start_time": "2023-02-17T14:35:45.851Z"
   },
   {
    "duration": 20,
    "start_time": "2023-02-17T14:35:45.891Z"
   },
   {
    "duration": 27,
    "start_time": "2023-02-17T14:35:45.913Z"
   },
   {
    "duration": 5,
    "start_time": "2023-02-17T14:35:45.942Z"
   },
   {
    "duration": 37,
    "start_time": "2023-02-17T14:35:45.949Z"
   },
   {
    "duration": 12,
    "start_time": "2023-02-17T14:35:45.988Z"
   },
   {
    "duration": 17,
    "start_time": "2023-02-17T14:35:46.002Z"
   },
   {
    "duration": 594,
    "start_time": "2023-02-17T14:35:46.022Z"
   },
   {
    "duration": 410,
    "start_time": "2023-02-17T14:35:46.618Z"
   },
   {
    "duration": 235,
    "start_time": "2023-02-17T14:35:47.033Z"
   },
   {
    "duration": 2517,
    "start_time": "2023-02-17T14:35:47.270Z"
   },
   {
    "duration": 323,
    "start_time": "2023-02-17T14:35:49.789Z"
   },
   {
    "duration": 370,
    "start_time": "2023-02-17T14:35:50.114Z"
   },
   {
    "duration": 227,
    "start_time": "2023-02-17T14:35:50.487Z"
   },
   {
    "duration": 11,
    "start_time": "2023-02-17T14:35:50.716Z"
   },
   {
    "duration": 279,
    "start_time": "2023-02-17T14:35:50.729Z"
   },
   {
    "duration": 12,
    "start_time": "2023-02-17T14:35:51.010Z"
   },
   {
    "duration": 202,
    "start_time": "2023-02-17T14:35:51.024Z"
   },
   {
    "duration": 11,
    "start_time": "2023-02-17T14:35:51.228Z"
   },
   {
    "duration": 432,
    "start_time": "2023-02-17T14:35:51.249Z"
   },
   {
    "duration": 21,
    "start_time": "2023-02-17T14:35:51.687Z"
   },
   {
    "duration": 50,
    "start_time": "2023-02-17T14:35:51.711Z"
   },
   {
    "duration": 40,
    "start_time": "2023-02-17T14:35:51.768Z"
   },
   {
    "duration": 20,
    "start_time": "2023-02-17T14:35:51.810Z"
   },
   {
    "duration": 26,
    "start_time": "2023-02-17T14:35:51.834Z"
   },
   {
    "duration": 21,
    "start_time": "2023-02-17T14:35:51.862Z"
   },
   {
    "duration": 22,
    "start_time": "2023-02-17T14:35:51.886Z"
   },
   {
    "duration": 40,
    "start_time": "2023-02-17T14:35:51.910Z"
   },
   {
    "duration": 10,
    "start_time": "2023-02-17T14:35:51.951Z"
   },
   {
    "duration": 446,
    "start_time": "2023-02-17T14:35:51.964Z"
   },
   {
    "duration": 14,
    "start_time": "2023-02-17T14:51:10.989Z"
   },
   {
    "duration": 5,
    "start_time": "2023-02-17T14:51:16.798Z"
   },
   {
    "duration": 16,
    "start_time": "2023-02-17T14:52:04.244Z"
   },
   {
    "duration": 6,
    "start_time": "2023-02-17T14:52:19.129Z"
   },
   {
    "duration": 11,
    "start_time": "2023-02-17T14:54:27.891Z"
   },
   {
    "duration": 4,
    "start_time": "2023-02-17T14:54:37.340Z"
   },
   {
    "duration": 11,
    "start_time": "2023-02-17T15:07:59.601Z"
   },
   {
    "duration": 11,
    "start_time": "2023-02-17T15:08:28.420Z"
   },
   {
    "duration": 14,
    "start_time": "2023-02-17T15:09:01.676Z"
   },
   {
    "duration": 9,
    "start_time": "2023-02-17T15:10:05.078Z"
   },
   {
    "duration": 585,
    "start_time": "2023-02-17T15:16:17.182Z"
   },
   {
    "duration": 20,
    "start_time": "2023-02-17T15:16:17.769Z"
   },
   {
    "duration": 5,
    "start_time": "2023-02-17T15:16:17.791Z"
   },
   {
    "duration": 10,
    "start_time": "2023-02-17T15:16:17.799Z"
   },
   {
    "duration": 13,
    "start_time": "2023-02-17T15:16:17.812Z"
   },
   {
    "duration": 24,
    "start_time": "2023-02-17T15:16:17.827Z"
   },
   {
    "duration": 25,
    "start_time": "2023-02-17T15:16:17.858Z"
   },
   {
    "duration": 27,
    "start_time": "2023-02-17T15:16:17.886Z"
   },
   {
    "duration": 5,
    "start_time": "2023-02-17T15:16:17.915Z"
   },
   {
    "duration": 8,
    "start_time": "2023-02-17T15:16:17.921Z"
   },
   {
    "duration": 31,
    "start_time": "2023-02-17T15:16:17.931Z"
   },
   {
    "duration": 27,
    "start_time": "2023-02-17T15:16:17.968Z"
   },
   {
    "duration": 526,
    "start_time": "2023-02-17T15:16:17.997Z"
   },
   {
    "duration": 389,
    "start_time": "2023-02-17T15:16:18.526Z"
   },
   {
    "duration": 246,
    "start_time": "2023-02-17T15:16:18.917Z"
   },
   {
    "duration": 2348,
    "start_time": "2023-02-17T15:16:19.164Z"
   },
   {
    "duration": 320,
    "start_time": "2023-02-17T15:16:21.514Z"
   },
   {
    "duration": 283,
    "start_time": "2023-02-17T15:16:21.836Z"
   },
   {
    "duration": 192,
    "start_time": "2023-02-17T15:16:22.121Z"
   },
   {
    "duration": 12,
    "start_time": "2023-02-17T15:16:22.315Z"
   },
   {
    "duration": 276,
    "start_time": "2023-02-17T15:16:22.330Z"
   },
   {
    "duration": 11,
    "start_time": "2023-02-17T15:16:22.608Z"
   },
   {
    "duration": 247,
    "start_time": "2023-02-17T15:16:22.621Z"
   },
   {
    "duration": 18,
    "start_time": "2023-02-17T15:16:22.876Z"
   },
   {
    "duration": 389,
    "start_time": "2023-02-17T15:16:22.896Z"
   },
   {
    "duration": 15,
    "start_time": "2023-02-17T15:16:23.290Z"
   },
   {
    "duration": 16,
    "start_time": "2023-02-17T15:16:23.308Z"
   },
   {
    "duration": 40,
    "start_time": "2023-02-17T15:16:23.327Z"
   },
   {
    "duration": 42,
    "start_time": "2023-02-17T15:16:23.369Z"
   },
   {
    "duration": 18,
    "start_time": "2023-02-17T15:16:23.413Z"
   },
   {
    "duration": 31,
    "start_time": "2023-02-17T15:16:23.433Z"
   },
   {
    "duration": 40,
    "start_time": "2023-02-17T15:16:23.468Z"
   },
   {
    "duration": 17,
    "start_time": "2023-02-17T15:16:23.510Z"
   },
   {
    "duration": 477,
    "start_time": "2023-02-17T15:16:23.529Z"
   },
   {
    "duration": 5,
    "start_time": "2023-02-17T15:16:24.007Z"
   },
   {
    "duration": 11,
    "start_time": "2023-02-17T15:16:24.014Z"
   },
   {
    "duration": 26,
    "start_time": "2023-02-17T15:16:24.027Z"
   },
   {
    "duration": 499,
    "start_time": "2023-02-17T21:01:03.326Z"
   },
   {
    "duration": 23,
    "start_time": "2023-02-17T21:01:03.827Z"
   },
   {
    "duration": 6,
    "start_time": "2023-02-17T21:01:03.851Z"
   },
   {
    "duration": 15,
    "start_time": "2023-02-17T21:01:03.858Z"
   },
   {
    "duration": 7,
    "start_time": "2023-02-17T21:01:03.875Z"
   },
   {
    "duration": 6,
    "start_time": "2023-02-17T21:01:03.884Z"
   },
   {
    "duration": 14,
    "start_time": "2023-02-17T21:01:03.892Z"
   },
   {
    "duration": 13,
    "start_time": "2023-02-17T21:01:03.908Z"
   },
   {
    "duration": 19,
    "start_time": "2023-02-17T21:01:03.923Z"
   },
   {
    "duration": 8,
    "start_time": "2023-02-17T21:01:03.944Z"
   },
   {
    "duration": 10,
    "start_time": "2023-02-17T21:01:03.955Z"
   },
   {
    "duration": 12,
    "start_time": "2023-02-17T21:01:03.967Z"
   },
   {
    "duration": 527,
    "start_time": "2023-02-17T21:01:03.980Z"
   },
   {
    "duration": 336,
    "start_time": "2023-02-17T21:01:04.509Z"
   },
   {
    "duration": 202,
    "start_time": "2023-02-17T21:01:04.847Z"
   },
   {
    "duration": 2099,
    "start_time": "2023-02-17T21:01:05.051Z"
   },
   {
    "duration": 288,
    "start_time": "2023-02-17T21:01:07.153Z"
   },
   {
    "duration": 261,
    "start_time": "2023-02-17T21:01:07.443Z"
   },
   {
    "duration": 171,
    "start_time": "2023-02-17T21:01:07.707Z"
   },
   {
    "duration": 10,
    "start_time": "2023-02-17T21:01:07.880Z"
   },
   {
    "duration": 380,
    "start_time": "2023-02-17T21:01:07.891Z"
   },
   {
    "duration": 69,
    "start_time": "2023-02-17T21:01:08.273Z"
   },
   {
    "duration": 154,
    "start_time": "2023-02-17T21:01:08.343Z"
   },
   {
    "duration": 10,
    "start_time": "2023-02-17T21:01:08.499Z"
   },
   {
    "duration": 710,
    "start_time": "2023-02-17T21:01:08.526Z"
   },
   {
    "duration": 15,
    "start_time": "2023-02-17T21:01:09.238Z"
   },
   {
    "duration": 90,
    "start_time": "2023-02-17T21:01:09.255Z"
   },
   {
    "duration": 18,
    "start_time": "2023-02-17T21:01:09.347Z"
   },
   {
    "duration": 20,
    "start_time": "2023-02-17T21:01:09.367Z"
   },
   {
    "duration": 60,
    "start_time": "2023-02-17T21:01:09.389Z"
   },
   {
    "duration": 16,
    "start_time": "2023-02-17T21:01:09.451Z"
   },
   {
    "duration": 15,
    "start_time": "2023-02-17T21:01:09.469Z"
   },
   {
    "duration": 51,
    "start_time": "2023-02-17T21:01:09.486Z"
   },
   {
    "duration": 716,
    "start_time": "2023-02-17T21:01:09.539Z"
   },
   {
    "duration": 77,
    "start_time": "2023-02-17T21:01:10.257Z"
   },
   {
    "duration": 50,
    "start_time": "2023-02-17T21:01:10.339Z"
   },
   {
    "duration": 62,
    "start_time": "2023-02-17T21:01:10.391Z"
   },
   {
    "duration": 76,
    "start_time": "2023-02-17T21:24:18.130Z"
   },
   {
    "duration": 9,
    "start_time": "2023-02-17T21:40:38.955Z"
   },
   {
    "duration": 444,
    "start_time": "2023-02-18T06:24:15.251Z"
   },
   {
    "duration": 31,
    "start_time": "2023-02-18T06:24:17.963Z"
   },
   {
    "duration": 17,
    "start_time": "2023-02-18T06:26:12.600Z"
   },
   {
    "duration": 14,
    "start_time": "2023-02-18T06:34:44.523Z"
   },
   {
    "duration": 79,
    "start_time": "2023-02-18T06:42:12.388Z"
   },
   {
    "duration": 472,
    "start_time": "2023-02-18T06:42:23.628Z"
   },
   {
    "duration": 51,
    "start_time": "2023-02-18T06:42:24.102Z"
   },
   {
    "duration": 16,
    "start_time": "2023-02-18T06:42:24.154Z"
   },
   {
    "duration": 40,
    "start_time": "2023-02-18T06:42:24.173Z"
   },
   {
    "duration": 50,
    "start_time": "2023-02-18T06:42:24.215Z"
   },
   {
    "duration": 15,
    "start_time": "2023-02-18T06:42:24.267Z"
   },
   {
    "duration": 24,
    "start_time": "2023-02-18T06:42:24.284Z"
   },
   {
    "duration": 10,
    "start_time": "2023-02-18T06:42:24.310Z"
   },
   {
    "duration": 25,
    "start_time": "2023-02-18T06:42:24.331Z"
   },
   {
    "duration": 9,
    "start_time": "2023-02-18T06:42:24.360Z"
   },
   {
    "duration": 30,
    "start_time": "2023-02-18T06:42:24.371Z"
   },
   {
    "duration": 43,
    "start_time": "2023-02-18T06:42:24.408Z"
   },
   {
    "duration": 4,
    "start_time": "2023-02-18T06:42:24.453Z"
   },
   {
    "duration": 6,
    "start_time": "2023-02-18T06:42:24.459Z"
   },
   {
    "duration": 5,
    "start_time": "2023-02-18T06:42:24.467Z"
   },
   {
    "duration": 83,
    "start_time": "2023-02-18T06:42:24.473Z"
   },
   {
    "duration": 6,
    "start_time": "2023-02-18T06:42:24.558Z"
   },
   {
    "duration": 672,
    "start_time": "2023-02-18T06:42:24.566Z"
   },
   {
    "duration": 332,
    "start_time": "2023-02-18T06:42:25.240Z"
   },
   {
    "duration": 279,
    "start_time": "2023-02-18T06:42:25.574Z"
   },
   {
    "duration": 2002,
    "start_time": "2023-02-18T06:42:25.855Z"
   },
   {
    "duration": 286,
    "start_time": "2023-02-18T06:42:27.859Z"
   },
   {
    "duration": 252,
    "start_time": "2023-02-18T06:42:28.147Z"
   },
   {
    "duration": 167,
    "start_time": "2023-02-18T06:42:28.401Z"
   },
   {
    "duration": 11,
    "start_time": "2023-02-18T06:42:28.570Z"
   },
   {
    "duration": 262,
    "start_time": "2023-02-18T06:42:28.583Z"
   },
   {
    "duration": 10,
    "start_time": "2023-02-18T06:42:28.847Z"
   },
   {
    "duration": 157,
    "start_time": "2023-02-18T06:42:28.860Z"
   },
   {
    "duration": 14,
    "start_time": "2023-02-18T06:42:29.019Z"
   },
   {
    "duration": 363,
    "start_time": "2023-02-18T06:42:29.035Z"
   },
   {
    "duration": 18,
    "start_time": "2023-02-18T06:42:29.402Z"
   },
   {
    "duration": 25,
    "start_time": "2023-02-18T06:42:29.422Z"
   },
   {
    "duration": 14,
    "start_time": "2023-02-18T06:42:29.449Z"
   },
   {
    "duration": 15,
    "start_time": "2023-02-18T06:42:29.465Z"
   },
   {
    "duration": 42,
    "start_time": "2023-02-18T06:42:29.482Z"
   },
   {
    "duration": 20,
    "start_time": "2023-02-18T06:42:29.527Z"
   },
   {
    "duration": 15,
    "start_time": "2023-02-18T06:42:29.549Z"
   },
   {
    "duration": 19,
    "start_time": "2023-02-18T06:42:29.566Z"
   },
   {
    "duration": 28,
    "start_time": "2023-02-18T06:42:29.586Z"
   },
   {
    "duration": 419,
    "start_time": "2023-02-18T06:42:29.616Z"
   },
   {
    "duration": 4,
    "start_time": "2023-02-18T06:42:30.037Z"
   },
   {
    "duration": 19,
    "start_time": "2023-02-18T06:42:30.042Z"
   },
   {
    "duration": 9,
    "start_time": "2023-02-18T06:42:30.063Z"
   },
   {
    "duration": 1007,
    "start_time": "2023-02-18T06:43:36.657Z"
   },
   {
    "duration": 484,
    "start_time": "2023-02-18T06:43:57.190Z"
   },
   {
    "duration": 43,
    "start_time": "2023-02-18T06:43:57.676Z"
   },
   {
    "duration": 16,
    "start_time": "2023-02-18T06:43:57.726Z"
   },
   {
    "duration": 14,
    "start_time": "2023-02-18T06:43:57.744Z"
   },
   {
    "duration": 15,
    "start_time": "2023-02-18T06:43:57.760Z"
   },
   {
    "duration": 28,
    "start_time": "2023-02-18T06:43:57.777Z"
   },
   {
    "duration": 4,
    "start_time": "2023-02-18T06:43:57.809Z"
   },
   {
    "duration": 38,
    "start_time": "2023-02-18T06:43:57.817Z"
   },
   {
    "duration": 9,
    "start_time": "2023-02-18T06:43:57.856Z"
   },
   {
    "duration": 14,
    "start_time": "2023-02-18T06:43:57.868Z"
   },
   {
    "duration": 4,
    "start_time": "2023-02-18T06:43:57.884Z"
   },
   {
    "duration": 21,
    "start_time": "2023-02-18T06:43:57.890Z"
   },
   {
    "duration": 39,
    "start_time": "2023-02-18T06:43:57.913Z"
   },
   {
    "duration": 6,
    "start_time": "2023-02-18T06:43:57.953Z"
   },
   {
    "duration": 23,
    "start_time": "2023-02-18T06:43:57.961Z"
   },
   {
    "duration": 16,
    "start_time": "2023-02-18T06:43:57.986Z"
   },
   {
    "duration": 112,
    "start_time": "2023-02-18T06:43:58.006Z"
   },
   {
    "duration": 11,
    "start_time": "2023-02-18T06:43:58.120Z"
   },
   {
    "duration": 463,
    "start_time": "2023-02-18T06:43:58.133Z"
   },
   {
    "duration": 341,
    "start_time": "2023-02-18T06:43:58.597Z"
   },
   {
    "duration": 208,
    "start_time": "2023-02-18T06:43:58.939Z"
   },
   {
    "duration": 1998,
    "start_time": "2023-02-18T06:43:59.149Z"
   },
   {
    "duration": 305,
    "start_time": "2023-02-18T06:44:01.149Z"
   },
   {
    "duration": 265,
    "start_time": "2023-02-18T06:44:01.456Z"
   },
   {
    "duration": 155,
    "start_time": "2023-02-18T06:44:01.723Z"
   },
   {
    "duration": 9,
    "start_time": "2023-02-18T06:44:01.880Z"
   },
   {
    "duration": 202,
    "start_time": "2023-02-18T06:44:01.891Z"
   },
   {
    "duration": 11,
    "start_time": "2023-02-18T06:44:02.096Z"
   },
   {
    "duration": 260,
    "start_time": "2023-02-18T06:44:02.109Z"
   },
   {
    "duration": 10,
    "start_time": "2023-02-18T06:44:02.370Z"
   },
   {
    "duration": 385,
    "start_time": "2023-02-18T06:44:02.382Z"
   },
   {
    "duration": 13,
    "start_time": "2023-02-18T06:44:02.768Z"
   },
   {
    "duration": 30,
    "start_time": "2023-02-18T06:44:02.783Z"
   },
   {
    "duration": 30,
    "start_time": "2023-02-18T06:44:02.815Z"
   },
   {
    "duration": 15,
    "start_time": "2023-02-18T06:44:02.846Z"
   },
   {
    "duration": 14,
    "start_time": "2023-02-18T06:44:02.862Z"
   },
   {
    "duration": 33,
    "start_time": "2023-02-18T06:44:02.878Z"
   },
   {
    "duration": 17,
    "start_time": "2023-02-18T06:44:02.919Z"
   },
   {
    "duration": 14,
    "start_time": "2023-02-18T06:44:02.938Z"
   },
   {
    "duration": 8,
    "start_time": "2023-02-18T06:44:02.954Z"
   },
   {
    "duration": 441,
    "start_time": "2023-02-18T06:44:02.964Z"
   },
   {
    "duration": 7,
    "start_time": "2023-02-18T06:44:03.407Z"
   },
   {
    "duration": 25,
    "start_time": "2023-02-18T06:44:03.416Z"
   },
   {
    "duration": 8,
    "start_time": "2023-02-18T06:44:03.443Z"
   },
   {
    "duration": 7,
    "start_time": "2023-02-18T06:58:00.742Z"
   },
   {
    "duration": 12,
    "start_time": "2023-02-18T06:58:16.122Z"
   },
   {
    "duration": 467,
    "start_time": "2023-02-18T07:01:39.805Z"
   },
   {
    "duration": 39,
    "start_time": "2023-02-18T07:01:40.274Z"
   },
   {
    "duration": 17,
    "start_time": "2023-02-18T07:01:40.316Z"
   },
   {
    "duration": 20,
    "start_time": "2023-02-18T07:01:40.336Z"
   },
   {
    "duration": 4,
    "start_time": "2023-02-18T07:01:40.358Z"
   },
   {
    "duration": 16,
    "start_time": "2023-02-18T07:01:40.363Z"
   },
   {
    "duration": 33,
    "start_time": "2023-02-18T07:01:40.380Z"
   },
   {
    "duration": 21,
    "start_time": "2023-02-18T07:01:40.415Z"
   },
   {
    "duration": 16,
    "start_time": "2023-02-18T07:01:40.438Z"
   },
   {
    "duration": 16,
    "start_time": "2023-02-18T07:01:40.458Z"
   },
   {
    "duration": 37,
    "start_time": "2023-02-18T07:01:40.476Z"
   },
   {
    "duration": 27,
    "start_time": "2023-02-18T07:01:40.515Z"
   },
   {
    "duration": 13,
    "start_time": "2023-02-18T07:01:40.544Z"
   },
   {
    "duration": 8,
    "start_time": "2023-02-18T07:01:40.559Z"
   },
   {
    "duration": 18,
    "start_time": "2023-02-18T07:01:40.568Z"
   },
   {
    "duration": 46,
    "start_time": "2023-02-18T07:01:40.588Z"
   },
   {
    "duration": 87,
    "start_time": "2023-02-18T07:01:40.635Z"
   },
   {
    "duration": 11,
    "start_time": "2023-02-18T07:01:40.724Z"
   },
   {
    "duration": 485,
    "start_time": "2023-02-18T07:01:40.737Z"
   },
   {
    "duration": 316,
    "start_time": "2023-02-18T07:01:41.224Z"
   },
   {
    "duration": 190,
    "start_time": "2023-02-18T07:01:41.542Z"
   },
   {
    "duration": 2098,
    "start_time": "2023-02-18T07:01:41.735Z"
   },
   {
    "duration": 313,
    "start_time": "2023-02-18T07:01:43.835Z"
   },
   {
    "duration": 365,
    "start_time": "2023-02-18T07:01:44.150Z"
   },
   {
    "duration": 200,
    "start_time": "2023-02-18T07:01:44.523Z"
   },
   {
    "duration": 14,
    "start_time": "2023-02-18T07:01:44.725Z"
   },
   {
    "duration": 187,
    "start_time": "2023-02-18T07:01:44.741Z"
   },
   {
    "duration": 13,
    "start_time": "2023-02-18T07:01:44.931Z"
   },
   {
    "duration": 390,
    "start_time": "2023-02-18T07:01:44.947Z"
   },
   {
    "duration": 11,
    "start_time": "2023-02-18T07:01:45.338Z"
   },
   {
    "duration": 409,
    "start_time": "2023-02-18T07:01:45.351Z"
   },
   {
    "duration": 13,
    "start_time": "2023-02-18T07:01:45.762Z"
   },
   {
    "duration": 42,
    "start_time": "2023-02-18T07:01:45.777Z"
   },
   {
    "duration": 33,
    "start_time": "2023-02-18T07:01:45.821Z"
   },
   {
    "duration": 18,
    "start_time": "2023-02-18T07:01:45.856Z"
   },
   {
    "duration": 16,
    "start_time": "2023-02-18T07:01:45.876Z"
   },
   {
    "duration": 29,
    "start_time": "2023-02-18T07:01:45.893Z"
   },
   {
    "duration": 18,
    "start_time": "2023-02-18T07:01:45.924Z"
   },
   {
    "duration": 17,
    "start_time": "2023-02-18T07:01:45.943Z"
   },
   {
    "duration": 10,
    "start_time": "2023-02-18T07:01:45.961Z"
   },
   {
    "duration": 458,
    "start_time": "2023-02-18T07:01:45.972Z"
   },
   {
    "duration": 5,
    "start_time": "2023-02-18T07:01:46.432Z"
   },
   {
    "duration": 14,
    "start_time": "2023-02-18T07:01:46.439Z"
   },
   {
    "duration": 9,
    "start_time": "2023-02-18T07:01:46.455Z"
   },
   {
    "duration": 23,
    "start_time": "2023-02-18T07:07:23.402Z"
   },
   {
    "duration": 12,
    "start_time": "2023-02-18T07:07:26.134Z"
   },
   {
    "duration": 81,
    "start_time": "2023-02-18T07:24:57.112Z"
   },
   {
    "duration": 189,
    "start_time": "2023-02-18T07:47:06.323Z"
   },
   {
    "duration": 7,
    "start_time": "2023-02-18T07:52:55.022Z"
   },
   {
    "duration": 5,
    "start_time": "2023-02-18T07:54:25.565Z"
   },
   {
    "duration": 100,
    "start_time": "2023-02-18T07:55:12.631Z"
   },
   {
    "duration": 6,
    "start_time": "2023-02-18T07:55:26.688Z"
   },
   {
    "duration": 4,
    "start_time": "2023-02-18T07:56:57.321Z"
   },
   {
    "duration": 20,
    "start_time": "2023-02-18T07:58:41.295Z"
   },
   {
    "duration": 6,
    "start_time": "2023-02-18T07:59:10.983Z"
   },
   {
    "duration": 7,
    "start_time": "2023-02-18T07:59:48.670Z"
   },
   {
    "duration": 6,
    "start_time": "2023-02-18T08:00:18.848Z"
   },
   {
    "duration": 6,
    "start_time": "2023-02-18T08:00:25.155Z"
   },
   {
    "duration": 455,
    "start_time": "2023-02-18T08:00:31.265Z"
   },
   {
    "duration": 31,
    "start_time": "2023-02-18T08:00:31.722Z"
   },
   {
    "duration": 15,
    "start_time": "2023-02-18T08:00:31.755Z"
   },
   {
    "duration": 44,
    "start_time": "2023-02-18T08:00:31.772Z"
   },
   {
    "duration": 4,
    "start_time": "2023-02-18T08:00:31.818Z"
   },
   {
    "duration": 10,
    "start_time": "2023-02-18T08:00:31.824Z"
   },
   {
    "duration": 12,
    "start_time": "2023-02-18T08:00:31.836Z"
   },
   {
    "duration": 7,
    "start_time": "2023-02-18T08:00:31.850Z"
   },
   {
    "duration": 21,
    "start_time": "2023-02-18T08:00:31.859Z"
   },
   {
    "duration": 36,
    "start_time": "2023-02-18T08:00:31.882Z"
   },
   {
    "duration": 17,
    "start_time": "2023-02-18T08:00:31.920Z"
   },
   {
    "duration": 23,
    "start_time": "2023-02-18T08:00:31.938Z"
   },
   {
    "duration": 13,
    "start_time": "2023-02-18T08:00:31.962Z"
   },
   {
    "duration": 32,
    "start_time": "2023-02-18T08:00:31.977Z"
   },
   {
    "duration": 7,
    "start_time": "2023-02-18T08:00:32.011Z"
   },
   {
    "duration": 13,
    "start_time": "2023-02-18T08:00:32.020Z"
   },
   {
    "duration": 18,
    "start_time": "2023-02-18T08:00:32.035Z"
   },
   {
    "duration": 8,
    "start_time": "2023-02-18T08:00:32.055Z"
   },
   {
    "duration": 14,
    "start_time": "2023-02-18T08:00:32.065Z"
   },
   {
    "duration": 5,
    "start_time": "2023-02-18T08:00:32.081Z"
   },
   {
    "duration": 93,
    "start_time": "2023-02-18T08:00:32.089Z"
   },
   {
    "duration": 18,
    "start_time": "2023-02-18T08:00:32.204Z"
   },
   {
    "duration": 463,
    "start_time": "2023-02-18T08:00:32.223Z"
   },
   {
    "duration": 347,
    "start_time": "2023-02-18T08:00:32.688Z"
   },
   {
    "duration": 237,
    "start_time": "2023-02-18T08:00:33.038Z"
   },
   {
    "duration": 2238,
    "start_time": "2023-02-18T08:00:33.277Z"
   },
   {
    "duration": 279,
    "start_time": "2023-02-18T08:00:35.517Z"
   },
   {
    "duration": 256,
    "start_time": "2023-02-18T08:00:35.798Z"
   },
   {
    "duration": 197,
    "start_time": "2023-02-18T08:00:36.055Z"
   },
   {
    "duration": 11,
    "start_time": "2023-02-18T08:00:36.255Z"
   },
   {
    "duration": 194,
    "start_time": "2023-02-18T08:00:36.269Z"
   },
   {
    "duration": 11,
    "start_time": "2023-02-18T08:00:36.465Z"
   },
   {
    "duration": 268,
    "start_time": "2023-02-18T08:00:36.478Z"
   },
   {
    "duration": 11,
    "start_time": "2023-02-18T08:00:36.748Z"
   },
   {
    "duration": 394,
    "start_time": "2023-02-18T08:00:36.761Z"
   },
   {
    "duration": 16,
    "start_time": "2023-02-18T08:00:37.158Z"
   },
   {
    "duration": 50,
    "start_time": "2023-02-18T08:00:37.177Z"
   },
   {
    "duration": 38,
    "start_time": "2023-02-18T08:00:37.230Z"
   },
   {
    "duration": 34,
    "start_time": "2023-02-18T08:00:37.271Z"
   },
   {
    "duration": 19,
    "start_time": "2023-02-18T08:00:37.307Z"
   },
   {
    "duration": 39,
    "start_time": "2023-02-18T08:00:37.328Z"
   },
   {
    "duration": 42,
    "start_time": "2023-02-18T08:00:37.369Z"
   },
   {
    "duration": 21,
    "start_time": "2023-02-18T08:00:37.417Z"
   },
   {
    "duration": 29,
    "start_time": "2023-02-18T08:00:37.440Z"
   },
   {
    "duration": 449,
    "start_time": "2023-02-18T08:00:37.470Z"
   },
   {
    "duration": 5,
    "start_time": "2023-02-18T08:00:37.921Z"
   },
   {
    "duration": 12,
    "start_time": "2023-02-18T08:00:37.927Z"
   },
   {
    "duration": 15,
    "start_time": "2023-02-18T08:00:37.941Z"
   },
   {
    "duration": 47,
    "start_time": "2023-02-18T08:01:07.619Z"
   },
   {
    "duration": 13,
    "start_time": "2023-02-18T08:01:14.418Z"
   },
   {
    "duration": 15,
    "start_time": "2023-02-18T08:01:19.753Z"
   },
   {
    "duration": 12,
    "start_time": "2023-02-18T08:01:44.277Z"
   },
   {
    "duration": 6,
    "start_time": "2023-02-18T08:01:46.789Z"
   },
   {
    "duration": 8,
    "start_time": "2023-02-18T08:03:05.113Z"
   },
   {
    "duration": 6,
    "start_time": "2023-02-18T08:03:07.072Z"
   },
   {
    "duration": 2169,
    "start_time": "2023-02-18T08:12:57.274Z"
   },
   {
    "duration": 1986,
    "start_time": "2023-02-18T08:13:15.066Z"
   },
   {
    "duration": 2170,
    "start_time": "2023-02-18T08:21:47.669Z"
   },
   {
    "duration": 15,
    "start_time": "2023-02-18T08:22:10.319Z"
   },
   {
    "duration": 2083,
    "start_time": "2023-02-18T08:22:12.278Z"
   },
   {
    "duration": 264,
    "start_time": "2023-02-18T08:25:15.329Z"
   },
   {
    "duration": 406,
    "start_time": "2023-02-18T08:26:05.161Z"
   },
   {
    "duration": 242,
    "start_time": "2023-02-18T08:30:21.924Z"
   },
   {
    "duration": 250,
    "start_time": "2023-02-18T08:30:39.020Z"
   },
   {
    "duration": 229,
    "start_time": "2023-02-18T08:31:14.852Z"
   },
   {
    "duration": 510,
    "start_time": "2023-02-18T14:13:18.540Z"
   },
   {
    "duration": 31,
    "start_time": "2023-02-18T14:13:19.051Z"
   },
   {
    "duration": 15,
    "start_time": "2023-02-18T14:13:19.084Z"
   },
   {
    "duration": 31,
    "start_time": "2023-02-18T14:13:19.101Z"
   },
   {
    "duration": 3,
    "start_time": "2023-02-18T14:13:19.134Z"
   },
   {
    "duration": 15,
    "start_time": "2023-02-18T14:13:19.139Z"
   },
   {
    "duration": 9,
    "start_time": "2023-02-18T14:13:19.156Z"
   },
   {
    "duration": 6,
    "start_time": "2023-02-18T14:13:19.166Z"
   },
   {
    "duration": 15,
    "start_time": "2023-02-18T14:13:19.173Z"
   },
   {
    "duration": 37,
    "start_time": "2023-02-18T14:13:19.191Z"
   },
   {
    "duration": 14,
    "start_time": "2023-02-18T14:13:19.230Z"
   },
   {
    "duration": 17,
    "start_time": "2023-02-18T14:13:19.246Z"
   },
   {
    "duration": 11,
    "start_time": "2023-02-18T14:13:19.265Z"
   },
   {
    "duration": 4,
    "start_time": "2023-02-18T14:13:19.278Z"
   },
   {
    "duration": 7,
    "start_time": "2023-02-18T14:13:19.283Z"
   },
   {
    "duration": 40,
    "start_time": "2023-02-18T14:13:19.291Z"
   },
   {
    "duration": 19,
    "start_time": "2023-02-18T14:13:19.332Z"
   },
   {
    "duration": 6,
    "start_time": "2023-02-18T14:13:19.352Z"
   },
   {
    "duration": 7,
    "start_time": "2023-02-18T14:13:19.360Z"
   },
   {
    "duration": 7,
    "start_time": "2023-02-18T14:13:19.368Z"
   },
   {
    "duration": 83,
    "start_time": "2023-02-18T14:13:19.377Z"
   },
   {
    "duration": 9,
    "start_time": "2023-02-18T14:13:19.462Z"
   },
   {
    "duration": 613,
    "start_time": "2023-02-18T14:13:19.472Z"
   },
   {
    "duration": 378,
    "start_time": "2023-02-18T14:13:20.087Z"
   },
   {
    "duration": 250,
    "start_time": "2023-02-18T14:13:20.467Z"
   },
   {
    "duration": 20,
    "start_time": "2023-02-18T14:13:20.718Z"
   },
   {
    "duration": 1893,
    "start_time": "2023-02-18T14:13:20.740Z"
   },
   {
    "duration": 273,
    "start_time": "2023-02-18T14:13:22.637Z"
   },
   {
    "duration": 227,
    "start_time": "2023-02-18T14:13:22.912Z"
   },
   {
    "duration": 305,
    "start_time": "2023-02-18T14:13:23.141Z"
   },
   {
    "duration": 177,
    "start_time": "2023-02-18T14:13:23.447Z"
   },
   {
    "duration": 10,
    "start_time": "2023-02-18T14:13:23.627Z"
   },
   {
    "duration": 167,
    "start_time": "2023-02-18T14:13:23.639Z"
   },
   {
    "duration": 10,
    "start_time": "2023-02-18T14:13:23.808Z"
   },
   {
    "duration": 148,
    "start_time": "2023-02-18T14:13:23.827Z"
   },
   {
    "duration": 10,
    "start_time": "2023-02-18T14:13:23.977Z"
   },
   {
    "duration": 364,
    "start_time": "2023-02-18T14:13:23.989Z"
   },
   {
    "duration": 13,
    "start_time": "2023-02-18T14:13:24.354Z"
   },
   {
    "duration": 25,
    "start_time": "2023-02-18T14:13:24.369Z"
   },
   {
    "duration": 22,
    "start_time": "2023-02-18T14:13:24.395Z"
   },
   {
    "duration": 16,
    "start_time": "2023-02-18T14:13:24.427Z"
   },
   {
    "duration": 18,
    "start_time": "2023-02-18T14:13:24.444Z"
   },
   {
    "duration": 15,
    "start_time": "2023-02-18T14:13:24.464Z"
   },
   {
    "duration": 15,
    "start_time": "2023-02-18T14:13:24.481Z"
   },
   {
    "duration": 41,
    "start_time": "2023-02-18T14:13:24.497Z"
   },
   {
    "duration": 8,
    "start_time": "2023-02-18T14:13:24.540Z"
   },
   {
    "duration": 436,
    "start_time": "2023-02-18T14:13:24.549Z"
   },
   {
    "duration": 4,
    "start_time": "2023-02-18T14:13:24.987Z"
   },
   {
    "duration": 11,
    "start_time": "2023-02-18T14:13:24.992Z"
   },
   {
    "duration": 9,
    "start_time": "2023-02-18T14:13:25.004Z"
   },
   {
    "duration": 288,
    "start_time": "2023-02-18T14:15:17.240Z"
   },
   {
    "duration": 258,
    "start_time": "2023-02-18T14:57:26.741Z"
   },
   {
    "duration": 63,
    "start_time": "2023-02-18T14:59:15.999Z"
   },
   {
    "duration": 355,
    "start_time": "2023-02-18T15:00:02.444Z"
   },
   {
    "duration": 364,
    "start_time": "2023-02-18T15:04:15.044Z"
   },
   {
    "duration": 204,
    "start_time": "2023-02-18T15:15:15.140Z"
   },
   {
    "duration": 338,
    "start_time": "2023-02-18T15:32:03.431Z"
   },
   {
    "duration": 21,
    "start_time": "2023-02-18T15:37:34.640Z"
   },
   {
    "duration": 13,
    "start_time": "2023-02-18T15:44:22.664Z"
   },
   {
    "duration": 16,
    "start_time": "2023-02-18T15:45:32.450Z"
   },
   {
    "duration": 14,
    "start_time": "2023-02-18T15:45:49.741Z"
   },
   {
    "duration": 14,
    "start_time": "2023-02-18T15:46:00.191Z"
   },
   {
    "duration": 15,
    "start_time": "2023-02-18T15:47:53.250Z"
   },
   {
    "duration": 20,
    "start_time": "2023-02-18T15:48:09.129Z"
   },
   {
    "duration": 17,
    "start_time": "2023-02-18T15:48:21.490Z"
   },
   {
    "duration": 17,
    "start_time": "2023-02-18T15:49:21.598Z"
   },
   {
    "duration": 3266,
    "start_time": "2023-02-18T15:50:56.000Z"
   },
   {
    "duration": 301,
    "start_time": "2023-02-18T15:53:23.375Z"
   },
   {
    "duration": 316,
    "start_time": "2023-02-18T16:03:28.954Z"
   },
   {
    "duration": 340,
    "start_time": "2023-02-18T16:04:43.478Z"
   },
   {
    "duration": 381,
    "start_time": "2023-02-18T16:05:50.340Z"
   },
   {
    "duration": 326,
    "start_time": "2023-02-18T16:07:18.874Z"
   },
   {
    "duration": 296,
    "start_time": "2023-02-18T16:12:32.644Z"
   },
   {
    "duration": 323,
    "start_time": "2023-02-18T16:13:42.111Z"
   },
   {
    "duration": 359,
    "start_time": "2023-02-18T16:21:13.399Z"
   },
   {
    "duration": 96,
    "start_time": "2023-02-18T16:22:46.847Z"
   },
   {
    "duration": 117,
    "start_time": "2023-02-18T16:22:57.218Z"
   },
   {
    "duration": 28,
    "start_time": "2023-02-18T16:24:51.395Z"
   },
   {
    "duration": 257,
    "start_time": "2023-02-18T16:25:09.106Z"
   },
   {
    "duration": 237,
    "start_time": "2023-02-18T16:25:33.332Z"
   },
   {
    "duration": 245,
    "start_time": "2023-02-18T16:28:42.918Z"
   },
   {
    "duration": 311,
    "start_time": "2023-02-18T16:30:37.127Z"
   },
   {
    "duration": 312,
    "start_time": "2023-02-18T16:32:38.017Z"
   },
   {
    "duration": 253,
    "start_time": "2023-02-18T16:36:45.736Z"
   },
   {
    "duration": 289,
    "start_time": "2023-02-18T16:36:57.745Z"
   },
   {
    "duration": 158,
    "start_time": "2023-02-18T16:49:46.547Z"
   },
   {
    "duration": 154,
    "start_time": "2023-02-18T16:51:09.424Z"
   },
   {
    "duration": 1176,
    "start_time": "2023-02-18T16:52:06.391Z"
   },
   {
    "duration": 72,
    "start_time": "2023-02-18T16:52:07.569Z"
   },
   {
    "duration": 16,
    "start_time": "2023-02-18T16:52:07.643Z"
   },
   {
    "duration": 27,
    "start_time": "2023-02-18T16:52:07.661Z"
   },
   {
    "duration": 14,
    "start_time": "2023-02-18T16:52:07.690Z"
   },
   {
    "duration": 31,
    "start_time": "2023-02-18T16:52:07.706Z"
   },
   {
    "duration": 29,
    "start_time": "2023-02-18T16:52:07.739Z"
   },
   {
    "duration": 11,
    "start_time": "2023-02-18T16:52:07.771Z"
   },
   {
    "duration": 21,
    "start_time": "2023-02-18T16:52:07.784Z"
   },
   {
    "duration": 20,
    "start_time": "2023-02-18T16:52:07.807Z"
   },
   {
    "duration": 15,
    "start_time": "2023-02-18T16:52:07.829Z"
   },
   {
    "duration": 34,
    "start_time": "2023-02-18T16:52:07.845Z"
   },
   {
    "duration": 13,
    "start_time": "2023-02-18T16:52:07.880Z"
   },
   {
    "duration": 6,
    "start_time": "2023-02-18T16:52:07.894Z"
   },
   {
    "duration": 20,
    "start_time": "2023-02-18T16:52:07.901Z"
   },
   {
    "duration": 5,
    "start_time": "2023-02-18T16:52:07.923Z"
   },
   {
    "duration": 6,
    "start_time": "2023-02-18T16:52:07.930Z"
   },
   {
    "duration": 6,
    "start_time": "2023-02-18T16:52:07.938Z"
   },
   {
    "duration": 10,
    "start_time": "2023-02-18T16:52:07.945Z"
   },
   {
    "duration": 6,
    "start_time": "2023-02-18T16:52:07.956Z"
   },
   {
    "duration": 96,
    "start_time": "2023-02-18T16:52:07.964Z"
   },
   {
    "duration": 7,
    "start_time": "2023-02-18T16:52:08.062Z"
   },
   {
    "duration": 220,
    "start_time": "2023-02-18T16:52:08.070Z"
   },
   {
    "duration": 333,
    "start_time": "2023-02-18T16:52:08.291Z"
   },
   {
    "duration": 220,
    "start_time": "2023-02-18T16:52:08.626Z"
   },
   {
    "duration": 17,
    "start_time": "2023-02-18T16:52:08.847Z"
   },
   {
    "duration": 2068,
    "start_time": "2023-02-18T16:52:08.865Z"
   },
   {
    "duration": 264,
    "start_time": "2023-02-18T16:52:10.936Z"
   },
   {
    "duration": 220,
    "start_time": "2023-02-18T16:52:11.202Z"
   },
   {
    "duration": 232,
    "start_time": "2023-02-18T16:52:11.426Z"
   },
   {
    "duration": 337,
    "start_time": "2023-02-18T16:52:11.659Z"
   },
   {
    "duration": 326,
    "start_time": "2023-02-18T16:52:11.998Z"
   },
   {
    "duration": 371,
    "start_time": "2023-02-18T16:52:12.327Z"
   },
   {
    "duration": 326,
    "start_time": "2023-02-18T16:52:12.701Z"
   },
   {
    "duration": 368,
    "start_time": "2023-02-18T16:52:13.029Z"
   },
   {
    "duration": 0,
    "start_time": "2023-02-18T16:52:13.399Z"
   },
   {
    "duration": 0,
    "start_time": "2023-02-18T16:52:13.401Z"
   },
   {
    "duration": 0,
    "start_time": "2023-02-18T16:52:13.402Z"
   },
   {
    "duration": 0,
    "start_time": "2023-02-18T16:52:13.404Z"
   },
   {
    "duration": 0,
    "start_time": "2023-02-18T16:52:13.406Z"
   },
   {
    "duration": 0,
    "start_time": "2023-02-18T16:52:13.408Z"
   },
   {
    "duration": 0,
    "start_time": "2023-02-18T16:52:13.409Z"
   },
   {
    "duration": 0,
    "start_time": "2023-02-18T16:52:13.428Z"
   },
   {
    "duration": 0,
    "start_time": "2023-02-18T16:52:13.430Z"
   },
   {
    "duration": 10,
    "start_time": "2023-02-18T16:53:27.139Z"
   },
   {
    "duration": 16,
    "start_time": "2023-02-18T16:53:34.860Z"
   },
   {
    "duration": 14,
    "start_time": "2023-02-18T16:53:49.785Z"
   },
   {
    "duration": 155,
    "start_time": "2023-02-18T16:53:59.106Z"
   },
   {
    "duration": 150,
    "start_time": "2023-02-18T16:54:05.304Z"
   },
   {
    "duration": 151,
    "start_time": "2023-02-18T16:54:12.265Z"
   },
   {
    "duration": 167,
    "start_time": "2023-02-18T16:54:17.605Z"
   },
   {
    "duration": 158,
    "start_time": "2023-02-18T16:54:28.465Z"
   },
   {
    "duration": 161,
    "start_time": "2023-02-18T16:56:24.763Z"
   },
   {
    "duration": 180,
    "start_time": "2023-02-18T16:58:15.172Z"
   },
   {
    "duration": 160,
    "start_time": "2023-02-18T16:59:42.474Z"
   },
   {
    "duration": 149,
    "start_time": "2023-02-18T17:00:29.659Z"
   },
   {
    "duration": 254,
    "start_time": "2023-02-18T17:03:44.942Z"
   },
   {
    "duration": 260,
    "start_time": "2023-02-18T17:03:59.512Z"
   },
   {
    "duration": 45,
    "start_time": "2023-02-18T17:08:08.184Z"
   },
   {
    "duration": 200,
    "start_time": "2023-02-18T17:08:17.854Z"
   },
   {
    "duration": 12,
    "start_time": "2023-02-18T17:10:49.839Z"
   },
   {
    "duration": 391,
    "start_time": "2023-02-18T17:10:54.489Z"
   },
   {
    "duration": 305,
    "start_time": "2023-02-18T17:11:03.204Z"
   },
   {
    "duration": 204,
    "start_time": "2023-02-18T17:11:11.467Z"
   },
   {
    "duration": 8,
    "start_time": "2023-02-18T17:11:17.444Z"
   },
   {
    "duration": 8,
    "start_time": "2023-02-18T17:11:52.999Z"
   },
   {
    "duration": 11,
    "start_time": "2023-02-18T17:12:00.245Z"
   },
   {
    "duration": 54,
    "start_time": "2023-02-18T17:17:07.893Z"
   },
   {
    "duration": 40,
    "start_time": "2023-02-18T17:17:38.146Z"
   },
   {
    "duration": 46,
    "start_time": "2023-02-18T17:17:56.766Z"
   },
   {
    "duration": 44,
    "start_time": "2023-02-18T17:18:26.082Z"
   },
   {
    "duration": 50,
    "start_time": "2023-02-18T17:18:32.313Z"
   },
   {
    "duration": 252,
    "start_time": "2023-02-18T17:18:53.357Z"
   },
   {
    "duration": 42,
    "start_time": "2023-02-18T17:19:31.324Z"
   },
   {
    "duration": 44,
    "start_time": "2023-02-18T17:20:34.446Z"
   },
   {
    "duration": 392,
    "start_time": "2023-02-18T17:20:41.788Z"
   },
   {
    "duration": 251,
    "start_time": "2023-02-18T17:21:15.094Z"
   },
   {
    "duration": 262,
    "start_time": "2023-02-18T17:21:24.767Z"
   },
   {
    "duration": 445,
    "start_time": "2023-02-18T17:21:30.104Z"
   },
   {
    "duration": 124,
    "start_time": "2023-02-18T17:22:39.086Z"
   },
   {
    "duration": 268,
    "start_time": "2023-02-18T17:22:52.254Z"
   },
   {
    "duration": 296,
    "start_time": "2023-02-18T17:23:20.338Z"
   },
   {
    "duration": 233,
    "start_time": "2023-02-18T17:23:41.264Z"
   },
   {
    "duration": 52,
    "start_time": "2023-02-18T17:24:47.992Z"
   },
   {
    "duration": 15,
    "start_time": "2023-02-18T17:24:58.084Z"
   },
   {
    "duration": 45,
    "start_time": "2023-02-18T17:25:10.563Z"
   },
   {
    "duration": 14,
    "start_time": "2023-02-18T17:26:01.024Z"
   },
   {
    "duration": 104,
    "start_time": "2023-02-18T17:26:47.764Z"
   },
   {
    "duration": 99,
    "start_time": "2023-02-18T17:26:54.312Z"
   },
   {
    "duration": 18,
    "start_time": "2023-02-18T17:27:29.806Z"
   },
   {
    "duration": 13,
    "start_time": "2023-02-18T17:28:20.987Z"
   },
   {
    "duration": 428,
    "start_time": "2023-02-18T17:32:06.184Z"
   },
   {
    "duration": 18,
    "start_time": "2023-02-18T17:36:37.355Z"
   },
   {
    "duration": 15,
    "start_time": "2023-02-18T17:55:28.836Z"
   },
   {
    "duration": 11,
    "start_time": "2023-02-18T18:04:37.853Z"
   },
   {
    "duration": 139,
    "start_time": "2023-02-18T18:04:55.794Z"
   },
   {
    "duration": 1216,
    "start_time": "2023-02-19T13:24:50.567Z"
   },
   {
    "duration": 88,
    "start_time": "2023-02-19T13:24:51.785Z"
   },
   {
    "duration": 15,
    "start_time": "2023-02-19T13:24:51.875Z"
   },
   {
    "duration": 27,
    "start_time": "2023-02-19T13:24:51.893Z"
   },
   {
    "duration": 29,
    "start_time": "2023-02-19T13:24:51.922Z"
   },
   {
    "duration": 47,
    "start_time": "2023-02-19T13:24:51.953Z"
   },
   {
    "duration": 36,
    "start_time": "2023-02-19T13:24:52.002Z"
   },
   {
    "duration": 29,
    "start_time": "2023-02-19T13:24:52.053Z"
   },
   {
    "duration": 36,
    "start_time": "2023-02-19T13:24:52.084Z"
   },
   {
    "duration": 49,
    "start_time": "2023-02-19T13:24:52.123Z"
   },
   {
    "duration": 20,
    "start_time": "2023-02-19T13:24:52.173Z"
   },
   {
    "duration": 59,
    "start_time": "2023-02-19T13:24:52.195Z"
   },
   {
    "duration": 18,
    "start_time": "2023-02-19T13:24:52.256Z"
   },
   {
    "duration": 26,
    "start_time": "2023-02-19T13:24:52.276Z"
   },
   {
    "duration": 24,
    "start_time": "2023-02-19T13:24:52.303Z"
   },
   {
    "duration": 51,
    "start_time": "2023-02-19T13:24:52.329Z"
   },
   {
    "duration": 33,
    "start_time": "2023-02-19T13:24:52.381Z"
   },
   {
    "duration": 41,
    "start_time": "2023-02-19T13:24:52.416Z"
   },
   {
    "duration": 31,
    "start_time": "2023-02-19T13:24:52.459Z"
   },
   {
    "duration": 23,
    "start_time": "2023-02-19T13:24:52.491Z"
   },
   {
    "duration": 111,
    "start_time": "2023-02-19T13:24:52.516Z"
   },
   {
    "duration": 21,
    "start_time": "2023-02-19T13:24:52.629Z"
   },
   {
    "duration": 247,
    "start_time": "2023-02-19T13:24:52.652Z"
   },
   {
    "duration": 347,
    "start_time": "2023-02-19T13:24:52.901Z"
   },
   {
    "duration": 227,
    "start_time": "2023-02-19T13:24:53.251Z"
   },
   {
    "duration": 16,
    "start_time": "2023-02-19T13:24:53.480Z"
   },
   {
    "duration": 2262,
    "start_time": "2023-02-19T13:24:53.498Z"
   },
   {
    "duration": 280,
    "start_time": "2023-02-19T13:24:55.763Z"
   },
   {
    "duration": 231,
    "start_time": "2023-02-19T13:24:56.049Z"
   },
   {
    "duration": 243,
    "start_time": "2023-02-19T13:24:56.281Z"
   },
   {
    "duration": 370,
    "start_time": "2023-02-19T13:24:56.525Z"
   },
   {
    "duration": 367,
    "start_time": "2023-02-19T13:24:56.897Z"
   },
   {
    "duration": 359,
    "start_time": "2023-02-19T13:24:57.266Z"
   },
   {
    "duration": 371,
    "start_time": "2023-02-19T13:24:57.627Z"
   },
   {
    "duration": 501,
    "start_time": "2023-02-19T13:24:58.000Z"
   },
   {
    "duration": 16,
    "start_time": "2023-02-19T13:24:58.503Z"
   },
   {
    "duration": 381,
    "start_time": "2023-02-19T13:24:58.522Z"
   },
   {
    "duration": 341,
    "start_time": "2023-02-19T13:24:58.905Z"
   },
   {
    "duration": 242,
    "start_time": "2023-02-19T13:24:59.252Z"
   },
   {
    "duration": 18,
    "start_time": "2023-02-19T13:24:59.495Z"
   },
   {
    "duration": 32,
    "start_time": "2023-02-19T13:24:59.515Z"
   },
   {
    "duration": 10,
    "start_time": "2023-02-19T13:24:59.550Z"
   },
   {
    "duration": 28,
    "start_time": "2023-02-19T13:24:59.562Z"
   },
   {
    "duration": 42,
    "start_time": "2023-02-19T13:24:59.592Z"
   },
   {
    "duration": 62,
    "start_time": "2023-02-19T13:24:59.636Z"
   },
   {
    "duration": 1156,
    "start_time": "2023-02-19T14:11:08.744Z"
   },
   {
    "duration": 100,
    "start_time": "2023-02-19T14:11:09.902Z"
   },
   {
    "duration": 19,
    "start_time": "2023-02-19T14:11:10.004Z"
   },
   {
    "duration": 16,
    "start_time": "2023-02-19T14:11:10.037Z"
   },
   {
    "duration": 12,
    "start_time": "2023-02-19T14:11:10.055Z"
   },
   {
    "duration": 48,
    "start_time": "2023-02-19T14:11:10.068Z"
   },
   {
    "duration": 32,
    "start_time": "2023-02-19T14:11:10.118Z"
   },
   {
    "duration": 39,
    "start_time": "2023-02-19T14:11:10.152Z"
   },
   {
    "duration": 38,
    "start_time": "2023-02-19T14:11:10.193Z"
   },
   {
    "duration": 35,
    "start_time": "2023-02-19T14:11:10.233Z"
   },
   {
    "duration": 17,
    "start_time": "2023-02-19T14:11:10.270Z"
   },
   {
    "duration": 39,
    "start_time": "2023-02-19T14:11:10.289Z"
   },
   {
    "duration": 17,
    "start_time": "2023-02-19T14:11:10.334Z"
   },
   {
    "duration": 12,
    "start_time": "2023-02-19T14:11:10.355Z"
   },
   {
    "duration": 11,
    "start_time": "2023-02-19T14:11:10.369Z"
   },
   {
    "duration": 16,
    "start_time": "2023-02-19T14:11:10.382Z"
   },
   {
    "duration": 13,
    "start_time": "2023-02-19T14:11:10.400Z"
   },
   {
    "duration": 12,
    "start_time": "2023-02-19T14:11:10.415Z"
   },
   {
    "duration": 12,
    "start_time": "2023-02-19T14:11:10.428Z"
   },
   {
    "duration": 12,
    "start_time": "2023-02-19T14:11:10.442Z"
   },
   {
    "duration": 84,
    "start_time": "2023-02-19T14:11:10.456Z"
   },
   {
    "duration": 7,
    "start_time": "2023-02-19T14:11:10.542Z"
   },
   {
    "duration": 258,
    "start_time": "2023-02-19T14:11:10.551Z"
   },
   {
    "duration": 357,
    "start_time": "2023-02-19T14:11:10.811Z"
   },
   {
    "duration": 271,
    "start_time": "2023-02-19T14:11:11.170Z"
   },
   {
    "duration": 22,
    "start_time": "2023-02-19T14:11:11.444Z"
   },
   {
    "duration": 2510,
    "start_time": "2023-02-19T14:11:11.468Z"
   },
   {
    "duration": 263,
    "start_time": "2023-02-19T14:11:13.979Z"
   },
   {
    "duration": 268,
    "start_time": "2023-02-19T14:11:14.246Z"
   },
   {
    "duration": 240,
    "start_time": "2023-02-19T14:11:14.516Z"
   },
   {
    "duration": 395,
    "start_time": "2023-02-19T14:11:14.759Z"
   },
   {
    "duration": 353,
    "start_time": "2023-02-19T14:11:15.156Z"
   },
   {
    "duration": 420,
    "start_time": "2023-02-19T14:11:15.512Z"
   },
   {
    "duration": 390,
    "start_time": "2023-02-19T14:11:15.938Z"
   },
   {
    "duration": 452,
    "start_time": "2023-02-19T14:11:16.330Z"
   },
   {
    "duration": 16,
    "start_time": "2023-02-19T14:11:16.784Z"
   },
   {
    "duration": 374,
    "start_time": "2023-02-19T14:11:16.801Z"
   },
   {
    "duration": 371,
    "start_time": "2023-02-19T14:11:17.177Z"
   },
   {
    "duration": 277,
    "start_time": "2023-02-19T14:11:17.551Z"
   },
   {
    "duration": 24,
    "start_time": "2023-02-19T14:11:17.830Z"
   },
   {
    "duration": 11,
    "start_time": "2023-02-19T14:11:17.859Z"
   },
   {
    "duration": 19,
    "start_time": "2023-02-19T14:11:17.872Z"
   },
   {
    "duration": 8,
    "start_time": "2023-02-19T14:11:17.893Z"
   },
   {
    "duration": 41,
    "start_time": "2023-02-19T14:11:17.903Z"
   },
   {
    "duration": 10,
    "start_time": "2023-02-19T14:11:17.946Z"
   },
   {
    "duration": 2544,
    "start_time": "2023-02-19T14:21:37.422Z"
   }
  ],
  "kernelspec": {
   "display_name": "Python 3 (ipykernel)",
   "language": "python",
   "name": "python3"
  },
  "language_info": {
   "codemirror_mode": {
    "name": "ipython",
    "version": 3
   },
   "file_extension": ".py",
   "mimetype": "text/x-python",
   "name": "python",
   "nbconvert_exporter": "python",
   "pygments_lexer": "ipython3",
   "version": "3.11.4"
  },
  "toc": {
   "base_numbering": 1,
   "nav_menu": {},
   "number_sections": true,
   "sideBar": true,
   "skip_h1_title": true,
   "title_cell": "Table of Contents",
   "title_sidebar": "Contents",
   "toc_cell": false,
   "toc_position": {
    "height": "calc(100% - 180px)",
    "left": "10px",
    "top": "150px",
    "width": "165px"
   },
   "toc_section_display": true,
   "toc_window_display": true
  }
 },
 "nbformat": 4,
 "nbformat_minor": 2
}
