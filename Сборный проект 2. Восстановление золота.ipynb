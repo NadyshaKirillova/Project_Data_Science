{
 "cells": [
  {
   "cell_type": "markdown",
   "metadata": {},
   "source": [
    "# Комментарий ревьюера\n",
    "<div class=\"alert alert-block alert-info\">\n",
    "Привет, Надежда! Меня зовут Анвар Ганиев, и я буду проверять твой проект. Предлагаю общаться на «ты» :) Но если это не удобно - дай знать, и мы перейдем на \"вы\". Моя основная цель — не указать на совершенные тобою ошибки, а поделиться своим опытом и помочь тебе стать data scientist'ом.\n",
    "\n",
    "Видно, что ты старалась, делая проект. Все ключевые этапы в работе выполнены, так что в целом справиться с задачей тебе удалось. Есть ещё несколько аспектов, которые требуют твоего внимания. Комментарии по ним помечены <span style='color:Red'> красным цветом ❌ </span>. Комментарии я буду оставлять под ячейками, к которым они относятся. А еще писать в заголовке v{номер версии}, чтобы знать, при какой проверке, я их оставлял. После их доработки проект будет принят. Осталось совсем немного, буду ждать твою работу на повторное ревью 🙂\n",
    "\n",
    "<span style='color:Green'> Зелёным цветом ✅  </span> отмечены удачные и элегантные решения, на которые можно опираться в будущих проектах. <span style='color:Gold'> Жёлтым цветом ⚠️</span>выделено то, что в следующий раз можно сделать по-другому. Ты можешь учесть эти комментарии при выполнении будущих заданий или доработать проект сейчас (однако это не обязательно).\n",
    "\n",
    "Давай работать над проектом в диалоге: если ты что-то меняешь в проекте по моим рекомендациям — пиши об этом. Выбери для своих комментариев какой-то заметный цвет, так мне будет легче отследить изменения. Пожалуйста, не перемещай, не изменяй и не удаляй мои комментарии. Всё это поможет выполнить повторную проверку твоего проекта оперативнее\n",
    "</div>"
   ]
  },
  {
   "cell_type": "markdown",
   "metadata": {
    "toc": true
   },
   "source": [
    "<h1>Содержание<span class=\"tocSkip\"></span></h1>\n",
    "<div class=\"toc\"><ul class=\"toc-item\"><li><span><a href=\"#Подготовка-данных\" data-toc-modified-id=\"Подготовка-данных-1\"><span class=\"toc-item-num\">1&nbsp;&nbsp;</span>Подготовка данных</a></span><ul class=\"toc-item\"><li><span><a href=\"#Предобработка-данных\" data-toc-modified-id=\"Предобработка-данных-1.1\"><span class=\"toc-item-num\">1.1&nbsp;&nbsp;</span>Предобработка данных</a></span></li><li><span><a href=\"#-Комментарий-ревьюера-v1\" data-toc-modified-id=\"-Комментарий-ревьюера-v1-1.2\"><span class=\"toc-item-num\">1.2&nbsp;&nbsp;</span> Комментарий ревьюера v1</a></span></li><li><span><a href=\"#Проверка-формулы\" data-toc-modified-id=\"Проверка-формулы-1.3\"><span class=\"toc-item-num\">1.3&nbsp;&nbsp;</span>Проверка формулы</a></span></li><li><span><a href=\"#-Комментарий-ревьюера-v1\" data-toc-modified-id=\"-Комментарий-ревьюера-v1-1.4\"><span class=\"toc-item-num\">1.4&nbsp;&nbsp;</span> Комментарий ревьюера v1</a></span></li><li><span><a href=\"#Анализ-признаков\" data-toc-modified-id=\"Анализ-признаков-1.5\"><span class=\"toc-item-num\">1.5&nbsp;&nbsp;</span>Анализ признаков</a></span></li><li><span><a href=\"#-Комментарий-ревьюера-v1\" data-toc-modified-id=\"-Комментарий-ревьюера-v1-1.6\"><span class=\"toc-item-num\">1.6&nbsp;&nbsp;</span> Комментарий ревьюера v1</a></span></li><li><span><a href=\"#Вывод\" data-toc-modified-id=\"Вывод-1.7\"><span class=\"toc-item-num\">1.7&nbsp;&nbsp;</span>Вывод</a></span></li><li><span><a href=\"#-Комментарий-ревьюера-v1\" data-toc-modified-id=\"-Комментарий-ревьюера-v1-1.8\"><span class=\"toc-item-num\">1.8&nbsp;&nbsp;</span> Комментарий ревьюера v1</a></span></li></ul></li><li><span><a href=\"#Анализ-данных\" data-toc-modified-id=\"Анализ-данных-2\"><span class=\"toc-item-num\">2&nbsp;&nbsp;</span>Анализ данных</a></span><ul class=\"toc-item\"><li><span><a href=\"#Анализ-целевых-признаков\" data-toc-modified-id=\"Анализ-целевых-признаков-2.1\"><span class=\"toc-item-num\">2.1&nbsp;&nbsp;</span>Анализ целевых признаков</a></span></li><li><span><a href=\"#Исследование-изменений-концентрации-элементов-на-каждом-этапе\" data-toc-modified-id=\"Исследование-изменений-концентрации-элементов-на-каждом-этапе-2.2\"><span class=\"toc-item-num\">2.2&nbsp;&nbsp;</span>Исследование изменений концентрации элементов на каждом этапе</a></span></li><li><span><a href=\"#-Комментарий-ревьюера-v1\" data-toc-modified-id=\"-Комментарий-ревьюера-v1-2.3\"><span class=\"toc-item-num\">2.3&nbsp;&nbsp;</span> Комментарий ревьюера v1</a></span></li><li><span><a href=\"#Анализ-распределения-размера-гранул\" data-toc-modified-id=\"Анализ-распределения-размера-гранул-2.4\"><span class=\"toc-item-num\">2.4&nbsp;&nbsp;</span>Анализ распределения размера гранул</a></span></li><li><span><a href=\"#-Комментарий-ревьюера-v1\" data-toc-modified-id=\"-Комментарий-ревьюера-v1-2.5\"><span class=\"toc-item-num\">2.5&nbsp;&nbsp;</span> Комментарий ревьюера v1</a></span></li><li><span><a href=\"#-Комментарий-студента-v1\" data-toc-modified-id=\"-Комментарий-студента-v1-2.6\"><span class=\"toc-item-num\">2.6&nbsp;&nbsp;</span> Комментарий студента v1</a></span></li><li><span><a href=\"#-Комментарий-ревьюера-v2\" data-toc-modified-id=\"-Комментарий-ревьюера-v2-2.7\"><span class=\"toc-item-num\">2.7&nbsp;&nbsp;</span> Комментарий ревьюера v2</a></span></li><li><span><a href=\"#Исследование-суммарных-концентраций\" data-toc-modified-id=\"Исследование-суммарных-концентраций-2.8\"><span class=\"toc-item-num\">2.8&nbsp;&nbsp;</span>Исследование суммарных концентраций</a></span></li><li><span><a href=\"#-Комментарий-ревьюера-v1\" data-toc-modified-id=\"-Комментарий-ревьюера-v1-2.9\"><span class=\"toc-item-num\">2.9&nbsp;&nbsp;</span> Комментарий ревьюера v1</a></span></li><li><span><a href=\"#Вывод\" data-toc-modified-id=\"Вывод-2.10\"><span class=\"toc-item-num\">2.10&nbsp;&nbsp;</span>Вывод</a></span></li><li><span><a href=\"#-Комментарий-ревьюера-v1\" data-toc-modified-id=\"-Комментарий-ревьюера-v1-2.11\"><span class=\"toc-item-num\">2.11&nbsp;&nbsp;</span> Комментарий ревьюера v1</a></span></li></ul></li><li><span><a href=\"#Модель\" data-toc-modified-id=\"Модель-3\"><span class=\"toc-item-num\">3&nbsp;&nbsp;</span>Модель</a></span><ul class=\"toc-item\"><li><span><a href=\"#Подготовка\" data-toc-modified-id=\"Подготовка-3.1\"><span class=\"toc-item-num\">3.1&nbsp;&nbsp;</span>Подготовка</a></span></li><li><span><a href=\"#-Комментарий-ревьюера-v1\" data-toc-modified-id=\"-Комментарий-ревьюера-v1-3.2\"><span class=\"toc-item-num\">3.2&nbsp;&nbsp;</span> Комментарий ревьюера v1</a></span></li><li><span><a href=\"#Обучение-моделей\" data-toc-modified-id=\"Обучение-моделей-3.3\"><span class=\"toc-item-num\">3.3&nbsp;&nbsp;</span>Обучение моделей</a></span></li><li><span><a href=\"#-Комментарий-ревьюера-v1\" data-toc-modified-id=\"-Комментарий-ревьюера-v1-3.4\"><span class=\"toc-item-num\">3.4&nbsp;&nbsp;</span> Комментарий ревьюера v1</a></span></li><li><span><a href=\"#-Комментарий-студента-v1\" data-toc-modified-id=\"-Комментарий-студента-v1-3.5\"><span class=\"toc-item-num\">3.5&nbsp;&nbsp;</span> Комментарий студента v1</a></span></li><li><span><a href=\"#-Комментарий-ревьюера-v2\" data-toc-modified-id=\"-Комментарий-ревьюера-v2-3.6\"><span class=\"toc-item-num\">3.6&nbsp;&nbsp;</span> Комментарий ревьюера v2</a></span></li><li><span><a href=\"#-Комментарий-ревьюера-v1\" data-toc-modified-id=\"-Комментарий-ревьюера-v1-3.7\"><span class=\"toc-item-num\">3.7&nbsp;&nbsp;</span> Комментарий ревьюера v1</a></span></li><li><span><a href=\"#-Комментарий-студента-v1\" data-toc-modified-id=\"-Комментарий-студента-v1-3.8\"><span class=\"toc-item-num\">3.8&nbsp;&nbsp;</span> Комментарий студента v1</a></span></li><li><span><a href=\"#-Комментарий-ревьюера-v1\" data-toc-modified-id=\"-Комментарий-ревьюера-v1-3.9\"><span class=\"toc-item-num\">3.9&nbsp;&nbsp;</span> Комментарий ревьюера v1</a></span></li></ul></li><li><span><a href=\"#Вывод\" data-toc-modified-id=\"Вывод-4\"><span class=\"toc-item-num\">4&nbsp;&nbsp;</span>Вывод</a></span></li><li><span><a href=\"#Чек-лист-готовности-проекта\" data-toc-modified-id=\"Чек-лист-готовности-проекта-5\"><span class=\"toc-item-num\">5&nbsp;&nbsp;</span>Чек-лист готовности проекта</a></span><ul class=\"toc-item\"><li><span><a href=\"#--[x]--Jupyter-Notebook-открыт\" data-toc-modified-id=\"--[x]--Jupyter-Notebook-открыт-5.1\"><span class=\"toc-item-num\">5.1&nbsp;&nbsp;</span>- [x]  Jupyter Notebook открыт</a></span></li><li><span><a href=\"#-Итоговый-комментарий\" data-toc-modified-id=\"-Итоговый-комментарий-5.2\"><span class=\"toc-item-num\">5.2&nbsp;&nbsp;</span> Итоговый комментарий</a></span></li><li><span><a href=\"#-комментарий-студента\" data-toc-modified-id=\"-комментарий-студента-5.3\"><span class=\"toc-item-num\">5.3&nbsp;&nbsp;</span> комментарий студента</a></span></li><li><span><a href=\"#-Комментарий-ревьюера-v2\" data-toc-modified-id=\"-Комментарий-ревьюера-v2-5.4\"><span class=\"toc-item-num\">5.4&nbsp;&nbsp;</span> Комментарий ревьюера v2</a></span></li></ul></li></ul></div>"
   ]
  },
  {
   "cell_type": "markdown",
   "metadata": {},
   "source": [
    "# Восстановление золота из руды"
   ]
  },
  {
   "cell_type": "markdown",
   "metadata": {},
   "source": [
    "Подготовьте прототип модели машинного обучения для «Цифры». Компания разрабатывает решения для эффективной работы промышленных предприятий.\n",
    "\n",
    "Модель должна предсказать коэффициент восстановления золота из золотосодержащей руды. Используйте данные с параметрами добычи и очистки. \n",
    "\n",
    "Модель поможет оптимизировать производство, чтобы не запускать предприятие с убыточными характеристиками.\n",
    "\n",
    "Вам нужно:\n",
    "\n",
    "1. Подготовить данные;\n",
    "2. Провести исследовательский анализ данных;\n",
    "3. Построить и обучить модель.\n",
    "\n",
    "Чтобы выполнить проект, обращайтесь к библиотекам *pandas*, *matplotlib* и *sklearn.* Вам поможет их документация."
   ]
  },
  {
   "cell_type": "markdown",
   "metadata": {},
   "source": [
    "## Подготовка данных"
   ]
  },
  {
   "cell_type": "markdown",
   "metadata": {},
   "source": [
    "### Предобработка данных"
   ]
  },
  {
   "cell_type": "code",
   "execution_count": 1,
   "metadata": {},
   "outputs": [],
   "source": [
    "# Импортируем необходимые библиотеки\n",
    "\n",
    "import pandas as pd\n",
    "import numpy as np\n",
    "import seaborn as sns\n",
    "import matplotlib.pyplot as plt\n",
    "from sklearn.metrics import mean_absolute_error, make_scorer\n",
    "from sklearn.model_selection import train_test_split, cross_val_score\n",
    "from sklearn.tree import DecisionTreeRegressor\n",
    "from sklearn.ensemble import RandomForestRegressor\n",
    "from sklearn.linear_model import LinearRegression\n",
    "from numpy.random import RandomState\n",
    "from sklearn.dummy import DummyRegressor\n",
    "\n",
    "from sklearn.inspection import permutation_importance"
   ]
  },
  {
   "cell_type": "code",
   "execution_count": 2,
   "metadata": {},
   "outputs": [
    {
     "data": {
      "text/html": [
       "<style>.container { width:90% !important; }</style>"
      ],
      "text/plain": [
       "<IPython.core.display.HTML object>"
      ]
     },
     "metadata": {},
     "output_type": "display_data"
    }
   ],
   "source": [
    "from IPython.core.display import display, HTML\n",
    "display(HTML(\"<style>.container { width:90% !important; }</style>\"))"
   ]
  },
  {
   "cell_type": "code",
   "execution_count": 3,
   "metadata": {},
   "outputs": [],
   "source": [
    "# Сохраним датасеты \n",
    "data_tr = pd.read_csv('/datasets/gold_recovery_train_new.csv')  # — обучающая выборка;\n",
    "data_tst = pd.read_csv('/datasets/gold_recovery_test_new.csv') # — тестовая выборка;\n",
    "data_fl = pd.read_csv('/datasets/gold_recovery_full_new.csv')  # — исходные данные.\n",
    "data = {0:data_tr, 1:data_tst, 2:data_fl}"
   ]
  },
  {
   "cell_type": "code",
   "execution_count": 4,
   "metadata": {
    "scrolled": false
   },
   "outputs": [
    {
     "data": {
      "text/html": [
       "<div>\n",
       "<style scoped>\n",
       "    .dataframe tbody tr th:only-of-type {\n",
       "        vertical-align: middle;\n",
       "    }\n",
       "\n",
       "    .dataframe tbody tr th {\n",
       "        vertical-align: top;\n",
       "    }\n",
       "\n",
       "    .dataframe thead th {\n",
       "        text-align: right;\n",
       "    }\n",
       "</style>\n",
       "<table border=\"1\" class=\"dataframe\">\n",
       "  <thead>\n",
       "    <tr style=\"text-align: right;\">\n",
       "      <th></th>\n",
       "      <th>date</th>\n",
       "      <th>final.output.concentrate_ag</th>\n",
       "      <th>final.output.concentrate_pb</th>\n",
       "      <th>final.output.concentrate_sol</th>\n",
       "      <th>final.output.concentrate_au</th>\n",
       "      <th>final.output.recovery</th>\n",
       "      <th>final.output.tail_ag</th>\n",
       "      <th>final.output.tail_pb</th>\n",
       "      <th>final.output.tail_sol</th>\n",
       "      <th>final.output.tail_au</th>\n",
       "      <th>...</th>\n",
       "      <th>secondary_cleaner.state.floatbank4_a_air</th>\n",
       "      <th>secondary_cleaner.state.floatbank4_a_level</th>\n",
       "      <th>secondary_cleaner.state.floatbank4_b_air</th>\n",
       "      <th>secondary_cleaner.state.floatbank4_b_level</th>\n",
       "      <th>secondary_cleaner.state.floatbank5_a_air</th>\n",
       "      <th>secondary_cleaner.state.floatbank5_a_level</th>\n",
       "      <th>secondary_cleaner.state.floatbank5_b_air</th>\n",
       "      <th>secondary_cleaner.state.floatbank5_b_level</th>\n",
       "      <th>secondary_cleaner.state.floatbank6_a_air</th>\n",
       "      <th>secondary_cleaner.state.floatbank6_a_level</th>\n",
       "    </tr>\n",
       "  </thead>\n",
       "  <tbody>\n",
       "    <tr>\n",
       "      <th>0</th>\n",
       "      <td>2016-01-15 00:00:00</td>\n",
       "      <td>6.055403</td>\n",
       "      <td>9.889648</td>\n",
       "      <td>5.507324</td>\n",
       "      <td>42.192020</td>\n",
       "      <td>70.541216</td>\n",
       "      <td>10.411962</td>\n",
       "      <td>0.895447</td>\n",
       "      <td>16.904297</td>\n",
       "      <td>2.143149</td>\n",
       "      <td>...</td>\n",
       "      <td>14.016835</td>\n",
       "      <td>-502.488007</td>\n",
       "      <td>12.099931</td>\n",
       "      <td>-504.715942</td>\n",
       "      <td>9.925633</td>\n",
       "      <td>-498.310211</td>\n",
       "      <td>8.079666</td>\n",
       "      <td>-500.470978</td>\n",
       "      <td>14.151341</td>\n",
       "      <td>-605.841980</td>\n",
       "    </tr>\n",
       "    <tr>\n",
       "      <th>1</th>\n",
       "      <td>2016-01-15 01:00:00</td>\n",
       "      <td>6.029369</td>\n",
       "      <td>9.968944</td>\n",
       "      <td>5.257781</td>\n",
       "      <td>42.701629</td>\n",
       "      <td>69.266198</td>\n",
       "      <td>10.462676</td>\n",
       "      <td>0.927452</td>\n",
       "      <td>16.634514</td>\n",
       "      <td>2.224930</td>\n",
       "      <td>...</td>\n",
       "      <td>13.992281</td>\n",
       "      <td>-505.503262</td>\n",
       "      <td>11.950531</td>\n",
       "      <td>-501.331529</td>\n",
       "      <td>10.039245</td>\n",
       "      <td>-500.169983</td>\n",
       "      <td>7.984757</td>\n",
       "      <td>-500.582168</td>\n",
       "      <td>13.998353</td>\n",
       "      <td>-599.787184</td>\n",
       "    </tr>\n",
       "    <tr>\n",
       "      <th>2</th>\n",
       "      <td>2016-01-15 02:00:00</td>\n",
       "      <td>6.055926</td>\n",
       "      <td>10.213995</td>\n",
       "      <td>5.383759</td>\n",
       "      <td>42.657501</td>\n",
       "      <td>68.116445</td>\n",
       "      <td>10.507046</td>\n",
       "      <td>0.953716</td>\n",
       "      <td>16.208849</td>\n",
       "      <td>2.257889</td>\n",
       "      <td>...</td>\n",
       "      <td>14.015015</td>\n",
       "      <td>-502.520901</td>\n",
       "      <td>11.912783</td>\n",
       "      <td>-501.133383</td>\n",
       "      <td>10.070913</td>\n",
       "      <td>-500.129135</td>\n",
       "      <td>8.013877</td>\n",
       "      <td>-500.517572</td>\n",
       "      <td>14.028663</td>\n",
       "      <td>-601.427363</td>\n",
       "    </tr>\n",
       "    <tr>\n",
       "      <th>3</th>\n",
       "      <td>2016-01-15 03:00:00</td>\n",
       "      <td>6.047977</td>\n",
       "      <td>9.977019</td>\n",
       "      <td>4.858634</td>\n",
       "      <td>42.689819</td>\n",
       "      <td>68.347543</td>\n",
       "      <td>10.422762</td>\n",
       "      <td>0.883763</td>\n",
       "      <td>16.532835</td>\n",
       "      <td>2.146849</td>\n",
       "      <td>...</td>\n",
       "      <td>14.036510</td>\n",
       "      <td>-500.857308</td>\n",
       "      <td>11.999550</td>\n",
       "      <td>-501.193686</td>\n",
       "      <td>9.970366</td>\n",
       "      <td>-499.201640</td>\n",
       "      <td>7.977324</td>\n",
       "      <td>-500.255908</td>\n",
       "      <td>14.005551</td>\n",
       "      <td>-599.996129</td>\n",
       "    </tr>\n",
       "    <tr>\n",
       "      <th>4</th>\n",
       "      <td>2016-01-15 04:00:00</td>\n",
       "      <td>6.148599</td>\n",
       "      <td>10.142511</td>\n",
       "      <td>4.939416</td>\n",
       "      <td>42.774141</td>\n",
       "      <td>66.927016</td>\n",
       "      <td>10.360302</td>\n",
       "      <td>0.792826</td>\n",
       "      <td>16.525686</td>\n",
       "      <td>2.055292</td>\n",
       "      <td>...</td>\n",
       "      <td>14.027298</td>\n",
       "      <td>-499.838632</td>\n",
       "      <td>11.953070</td>\n",
       "      <td>-501.053894</td>\n",
       "      <td>9.925709</td>\n",
       "      <td>-501.686727</td>\n",
       "      <td>7.894242</td>\n",
       "      <td>-500.356035</td>\n",
       "      <td>13.996647</td>\n",
       "      <td>-601.496691</td>\n",
       "    </tr>\n",
       "    <tr>\n",
       "      <th>...</th>\n",
       "      <td>...</td>\n",
       "      <td>...</td>\n",
       "      <td>...</td>\n",
       "      <td>...</td>\n",
       "      <td>...</td>\n",
       "      <td>...</td>\n",
       "      <td>...</td>\n",
       "      <td>...</td>\n",
       "      <td>...</td>\n",
       "      <td>...</td>\n",
       "      <td>...</td>\n",
       "      <td>...</td>\n",
       "      <td>...</td>\n",
       "      <td>...</td>\n",
       "      <td>...</td>\n",
       "      <td>...</td>\n",
       "      <td>...</td>\n",
       "      <td>...</td>\n",
       "      <td>...</td>\n",
       "      <td>...</td>\n",
       "      <td>...</td>\n",
       "    </tr>\n",
       "    <tr>\n",
       "      <th>14144</th>\n",
       "      <td>2018-08-18 06:59:59</td>\n",
       "      <td>3.224920</td>\n",
       "      <td>11.356233</td>\n",
       "      <td>6.803482</td>\n",
       "      <td>46.713954</td>\n",
       "      <td>73.755150</td>\n",
       "      <td>8.769645</td>\n",
       "      <td>3.141541</td>\n",
       "      <td>10.403181</td>\n",
       "      <td>1.529220</td>\n",
       "      <td>...</td>\n",
       "      <td>23.031497</td>\n",
       "      <td>-501.167942</td>\n",
       "      <td>20.007571</td>\n",
       "      <td>-499.740028</td>\n",
       "      <td>18.006038</td>\n",
       "      <td>-499.834374</td>\n",
       "      <td>13.001114</td>\n",
       "      <td>-500.155694</td>\n",
       "      <td>20.007840</td>\n",
       "      <td>-501.296428</td>\n",
       "    </tr>\n",
       "    <tr>\n",
       "      <th>14145</th>\n",
       "      <td>2018-08-18 07:59:59</td>\n",
       "      <td>3.195978</td>\n",
       "      <td>11.349355</td>\n",
       "      <td>6.862249</td>\n",
       "      <td>46.866780</td>\n",
       "      <td>69.049291</td>\n",
       "      <td>8.897321</td>\n",
       "      <td>3.130493</td>\n",
       "      <td>10.549470</td>\n",
       "      <td>1.612542</td>\n",
       "      <td>...</td>\n",
       "      <td>22.960095</td>\n",
       "      <td>-501.612783</td>\n",
       "      <td>20.035660</td>\n",
       "      <td>-500.251357</td>\n",
       "      <td>17.998535</td>\n",
       "      <td>-500.395178</td>\n",
       "      <td>12.954048</td>\n",
       "      <td>-499.895163</td>\n",
       "      <td>19.968498</td>\n",
       "      <td>-501.041608</td>\n",
       "    </tr>\n",
       "    <tr>\n",
       "      <th>14146</th>\n",
       "      <td>2018-08-18 08:59:59</td>\n",
       "      <td>3.109998</td>\n",
       "      <td>11.434366</td>\n",
       "      <td>6.886013</td>\n",
       "      <td>46.795691</td>\n",
       "      <td>67.002189</td>\n",
       "      <td>8.529606</td>\n",
       "      <td>2.911418</td>\n",
       "      <td>11.115147</td>\n",
       "      <td>1.596616</td>\n",
       "      <td>...</td>\n",
       "      <td>23.015718</td>\n",
       "      <td>-501.711599</td>\n",
       "      <td>19.951231</td>\n",
       "      <td>-499.857027</td>\n",
       "      <td>18.019543</td>\n",
       "      <td>-500.451156</td>\n",
       "      <td>13.023431</td>\n",
       "      <td>-499.914391</td>\n",
       "      <td>19.990885</td>\n",
       "      <td>-501.518452</td>\n",
       "    </tr>\n",
       "    <tr>\n",
       "      <th>14147</th>\n",
       "      <td>2018-08-18 09:59:59</td>\n",
       "      <td>3.367241</td>\n",
       "      <td>11.625587</td>\n",
       "      <td>6.799433</td>\n",
       "      <td>46.408188</td>\n",
       "      <td>65.523246</td>\n",
       "      <td>8.777171</td>\n",
       "      <td>2.819214</td>\n",
       "      <td>10.463847</td>\n",
       "      <td>1.602879</td>\n",
       "      <td>...</td>\n",
       "      <td>23.024963</td>\n",
       "      <td>-501.153409</td>\n",
       "      <td>20.054122</td>\n",
       "      <td>-500.314711</td>\n",
       "      <td>17.979515</td>\n",
       "      <td>-499.272871</td>\n",
       "      <td>12.992404</td>\n",
       "      <td>-499.976268</td>\n",
       "      <td>20.013986</td>\n",
       "      <td>-500.625471</td>\n",
       "    </tr>\n",
       "    <tr>\n",
       "      <th>14148</th>\n",
       "      <td>2018-08-18 10:59:59</td>\n",
       "      <td>3.598375</td>\n",
       "      <td>11.737832</td>\n",
       "      <td>6.717509</td>\n",
       "      <td>46.299438</td>\n",
       "      <td>70.281454</td>\n",
       "      <td>8.406690</td>\n",
       "      <td>2.517518</td>\n",
       "      <td>10.652193</td>\n",
       "      <td>1.389434</td>\n",
       "      <td>...</td>\n",
       "      <td>23.018622</td>\n",
       "      <td>-500.492702</td>\n",
       "      <td>20.020205</td>\n",
       "      <td>-500.220296</td>\n",
       "      <td>17.963512</td>\n",
       "      <td>-499.939490</td>\n",
       "      <td>12.990306</td>\n",
       "      <td>-500.080993</td>\n",
       "      <td>19.990336</td>\n",
       "      <td>-499.191575</td>\n",
       "    </tr>\n",
       "  </tbody>\n",
       "</table>\n",
       "<p>14149 rows × 87 columns</p>\n",
       "</div>"
      ],
      "text/plain": [
       "                      date  final.output.concentrate_ag  \\\n",
       "0      2016-01-15 00:00:00                     6.055403   \n",
       "1      2016-01-15 01:00:00                     6.029369   \n",
       "2      2016-01-15 02:00:00                     6.055926   \n",
       "3      2016-01-15 03:00:00                     6.047977   \n",
       "4      2016-01-15 04:00:00                     6.148599   \n",
       "...                    ...                          ...   \n",
       "14144  2018-08-18 06:59:59                     3.224920   \n",
       "14145  2018-08-18 07:59:59                     3.195978   \n",
       "14146  2018-08-18 08:59:59                     3.109998   \n",
       "14147  2018-08-18 09:59:59                     3.367241   \n",
       "14148  2018-08-18 10:59:59                     3.598375   \n",
       "\n",
       "       final.output.concentrate_pb  final.output.concentrate_sol  \\\n",
       "0                         9.889648                      5.507324   \n",
       "1                         9.968944                      5.257781   \n",
       "2                        10.213995                      5.383759   \n",
       "3                         9.977019                      4.858634   \n",
       "4                        10.142511                      4.939416   \n",
       "...                            ...                           ...   \n",
       "14144                    11.356233                      6.803482   \n",
       "14145                    11.349355                      6.862249   \n",
       "14146                    11.434366                      6.886013   \n",
       "14147                    11.625587                      6.799433   \n",
       "14148                    11.737832                      6.717509   \n",
       "\n",
       "       final.output.concentrate_au  final.output.recovery  \\\n",
       "0                        42.192020              70.541216   \n",
       "1                        42.701629              69.266198   \n",
       "2                        42.657501              68.116445   \n",
       "3                        42.689819              68.347543   \n",
       "4                        42.774141              66.927016   \n",
       "...                            ...                    ...   \n",
       "14144                    46.713954              73.755150   \n",
       "14145                    46.866780              69.049291   \n",
       "14146                    46.795691              67.002189   \n",
       "14147                    46.408188              65.523246   \n",
       "14148                    46.299438              70.281454   \n",
       "\n",
       "       final.output.tail_ag  final.output.tail_pb  final.output.tail_sol  \\\n",
       "0                 10.411962              0.895447              16.904297   \n",
       "1                 10.462676              0.927452              16.634514   \n",
       "2                 10.507046              0.953716              16.208849   \n",
       "3                 10.422762              0.883763              16.532835   \n",
       "4                 10.360302              0.792826              16.525686   \n",
       "...                     ...                   ...                    ...   \n",
       "14144              8.769645              3.141541              10.403181   \n",
       "14145              8.897321              3.130493              10.549470   \n",
       "14146              8.529606              2.911418              11.115147   \n",
       "14147              8.777171              2.819214              10.463847   \n",
       "14148              8.406690              2.517518              10.652193   \n",
       "\n",
       "       final.output.tail_au  ...  secondary_cleaner.state.floatbank4_a_air  \\\n",
       "0                  2.143149  ...                                 14.016835   \n",
       "1                  2.224930  ...                                 13.992281   \n",
       "2                  2.257889  ...                                 14.015015   \n",
       "3                  2.146849  ...                                 14.036510   \n",
       "4                  2.055292  ...                                 14.027298   \n",
       "...                     ...  ...                                       ...   \n",
       "14144              1.529220  ...                                 23.031497   \n",
       "14145              1.612542  ...                                 22.960095   \n",
       "14146              1.596616  ...                                 23.015718   \n",
       "14147              1.602879  ...                                 23.024963   \n",
       "14148              1.389434  ...                                 23.018622   \n",
       "\n",
       "       secondary_cleaner.state.floatbank4_a_level  \\\n",
       "0                                     -502.488007   \n",
       "1                                     -505.503262   \n",
       "2                                     -502.520901   \n",
       "3                                     -500.857308   \n",
       "4                                     -499.838632   \n",
       "...                                           ...   \n",
       "14144                                 -501.167942   \n",
       "14145                                 -501.612783   \n",
       "14146                                 -501.711599   \n",
       "14147                                 -501.153409   \n",
       "14148                                 -500.492702   \n",
       "\n",
       "       secondary_cleaner.state.floatbank4_b_air  \\\n",
       "0                                     12.099931   \n",
       "1                                     11.950531   \n",
       "2                                     11.912783   \n",
       "3                                     11.999550   \n",
       "4                                     11.953070   \n",
       "...                                         ...   \n",
       "14144                                 20.007571   \n",
       "14145                                 20.035660   \n",
       "14146                                 19.951231   \n",
       "14147                                 20.054122   \n",
       "14148                                 20.020205   \n",
       "\n",
       "       secondary_cleaner.state.floatbank4_b_level  \\\n",
       "0                                     -504.715942   \n",
       "1                                     -501.331529   \n",
       "2                                     -501.133383   \n",
       "3                                     -501.193686   \n",
       "4                                     -501.053894   \n",
       "...                                           ...   \n",
       "14144                                 -499.740028   \n",
       "14145                                 -500.251357   \n",
       "14146                                 -499.857027   \n",
       "14147                                 -500.314711   \n",
       "14148                                 -500.220296   \n",
       "\n",
       "       secondary_cleaner.state.floatbank5_a_air  \\\n",
       "0                                      9.925633   \n",
       "1                                     10.039245   \n",
       "2                                     10.070913   \n",
       "3                                      9.970366   \n",
       "4                                      9.925709   \n",
       "...                                         ...   \n",
       "14144                                 18.006038   \n",
       "14145                                 17.998535   \n",
       "14146                                 18.019543   \n",
       "14147                                 17.979515   \n",
       "14148                                 17.963512   \n",
       "\n",
       "       secondary_cleaner.state.floatbank5_a_level  \\\n",
       "0                                     -498.310211   \n",
       "1                                     -500.169983   \n",
       "2                                     -500.129135   \n",
       "3                                     -499.201640   \n",
       "4                                     -501.686727   \n",
       "...                                           ...   \n",
       "14144                                 -499.834374   \n",
       "14145                                 -500.395178   \n",
       "14146                                 -500.451156   \n",
       "14147                                 -499.272871   \n",
       "14148                                 -499.939490   \n",
       "\n",
       "       secondary_cleaner.state.floatbank5_b_air  \\\n",
       "0                                      8.079666   \n",
       "1                                      7.984757   \n",
       "2                                      8.013877   \n",
       "3                                      7.977324   \n",
       "4                                      7.894242   \n",
       "...                                         ...   \n",
       "14144                                 13.001114   \n",
       "14145                                 12.954048   \n",
       "14146                                 13.023431   \n",
       "14147                                 12.992404   \n",
       "14148                                 12.990306   \n",
       "\n",
       "       secondary_cleaner.state.floatbank5_b_level  \\\n",
       "0                                     -500.470978   \n",
       "1                                     -500.582168   \n",
       "2                                     -500.517572   \n",
       "3                                     -500.255908   \n",
       "4                                     -500.356035   \n",
       "...                                           ...   \n",
       "14144                                 -500.155694   \n",
       "14145                                 -499.895163   \n",
       "14146                                 -499.914391   \n",
       "14147                                 -499.976268   \n",
       "14148                                 -500.080993   \n",
       "\n",
       "       secondary_cleaner.state.floatbank6_a_air  \\\n",
       "0                                     14.151341   \n",
       "1                                     13.998353   \n",
       "2                                     14.028663   \n",
       "3                                     14.005551   \n",
       "4                                     13.996647   \n",
       "...                                         ...   \n",
       "14144                                 20.007840   \n",
       "14145                                 19.968498   \n",
       "14146                                 19.990885   \n",
       "14147                                 20.013986   \n",
       "14148                                 19.990336   \n",
       "\n",
       "       secondary_cleaner.state.floatbank6_a_level  \n",
       "0                                     -605.841980  \n",
       "1                                     -599.787184  \n",
       "2                                     -601.427363  \n",
       "3                                     -599.996129  \n",
       "4                                     -601.496691  \n",
       "...                                           ...  \n",
       "14144                                 -501.296428  \n",
       "14145                                 -501.041608  \n",
       "14146                                 -501.518452  \n",
       "14147                                 -500.625471  \n",
       "14148                                 -499.191575  \n",
       "\n",
       "[14149 rows x 87 columns]"
      ]
     },
     "metadata": {},
     "output_type": "display_data"
    },
    {
     "data": {
      "text/html": [
       "<div>\n",
       "<style scoped>\n",
       "    .dataframe tbody tr th:only-of-type {\n",
       "        vertical-align: middle;\n",
       "    }\n",
       "\n",
       "    .dataframe tbody tr th {\n",
       "        vertical-align: top;\n",
       "    }\n",
       "\n",
       "    .dataframe thead th {\n",
       "        text-align: right;\n",
       "    }\n",
       "</style>\n",
       "<table border=\"1\" class=\"dataframe\">\n",
       "  <thead>\n",
       "    <tr style=\"text-align: right;\">\n",
       "      <th></th>\n",
       "      <th>date</th>\n",
       "      <th>primary_cleaner.input.sulfate</th>\n",
       "      <th>primary_cleaner.input.depressant</th>\n",
       "      <th>primary_cleaner.input.feed_size</th>\n",
       "      <th>primary_cleaner.input.xanthate</th>\n",
       "      <th>primary_cleaner.state.floatbank8_a_air</th>\n",
       "      <th>primary_cleaner.state.floatbank8_a_level</th>\n",
       "      <th>primary_cleaner.state.floatbank8_b_air</th>\n",
       "      <th>primary_cleaner.state.floatbank8_b_level</th>\n",
       "      <th>primary_cleaner.state.floatbank8_c_air</th>\n",
       "      <th>...</th>\n",
       "      <th>secondary_cleaner.state.floatbank4_a_air</th>\n",
       "      <th>secondary_cleaner.state.floatbank4_a_level</th>\n",
       "      <th>secondary_cleaner.state.floatbank4_b_air</th>\n",
       "      <th>secondary_cleaner.state.floatbank4_b_level</th>\n",
       "      <th>secondary_cleaner.state.floatbank5_a_air</th>\n",
       "      <th>secondary_cleaner.state.floatbank5_a_level</th>\n",
       "      <th>secondary_cleaner.state.floatbank5_b_air</th>\n",
       "      <th>secondary_cleaner.state.floatbank5_b_level</th>\n",
       "      <th>secondary_cleaner.state.floatbank6_a_air</th>\n",
       "      <th>secondary_cleaner.state.floatbank6_a_level</th>\n",
       "    </tr>\n",
       "  </thead>\n",
       "  <tbody>\n",
       "    <tr>\n",
       "      <th>0</th>\n",
       "      <td>2016-09-01 00:59:59</td>\n",
       "      <td>210.800909</td>\n",
       "      <td>14.993118</td>\n",
       "      <td>8.080000</td>\n",
       "      <td>1.005021</td>\n",
       "      <td>1398.981301</td>\n",
       "      <td>-500.225577</td>\n",
       "      <td>1399.144926</td>\n",
       "      <td>-499.919735</td>\n",
       "      <td>1400.102998</td>\n",
       "      <td>...</td>\n",
       "      <td>12.023554</td>\n",
       "      <td>-497.795834</td>\n",
       "      <td>8.016656</td>\n",
       "      <td>-501.289139</td>\n",
       "      <td>7.946562</td>\n",
       "      <td>-432.317850</td>\n",
       "      <td>4.872511</td>\n",
       "      <td>-500.037437</td>\n",
       "      <td>26.705889</td>\n",
       "      <td>-499.709414</td>\n",
       "    </tr>\n",
       "    <tr>\n",
       "      <th>1</th>\n",
       "      <td>2016-09-01 01:59:59</td>\n",
       "      <td>215.392455</td>\n",
       "      <td>14.987471</td>\n",
       "      <td>8.080000</td>\n",
       "      <td>0.990469</td>\n",
       "      <td>1398.777912</td>\n",
       "      <td>-500.057435</td>\n",
       "      <td>1398.055362</td>\n",
       "      <td>-499.778182</td>\n",
       "      <td>1396.151033</td>\n",
       "      <td>...</td>\n",
       "      <td>12.058140</td>\n",
       "      <td>-498.695773</td>\n",
       "      <td>8.130979</td>\n",
       "      <td>-499.634209</td>\n",
       "      <td>7.958270</td>\n",
       "      <td>-525.839648</td>\n",
       "      <td>4.878850</td>\n",
       "      <td>-500.162375</td>\n",
       "      <td>25.019940</td>\n",
       "      <td>-499.819438</td>\n",
       "    </tr>\n",
       "    <tr>\n",
       "      <th>2</th>\n",
       "      <td>2016-09-01 02:59:59</td>\n",
       "      <td>215.259946</td>\n",
       "      <td>12.884934</td>\n",
       "      <td>7.786667</td>\n",
       "      <td>0.996043</td>\n",
       "      <td>1398.493666</td>\n",
       "      <td>-500.868360</td>\n",
       "      <td>1398.860436</td>\n",
       "      <td>-499.764529</td>\n",
       "      <td>1398.075709</td>\n",
       "      <td>...</td>\n",
       "      <td>11.962366</td>\n",
       "      <td>-498.767484</td>\n",
       "      <td>8.096893</td>\n",
       "      <td>-500.827423</td>\n",
       "      <td>8.071056</td>\n",
       "      <td>-500.801673</td>\n",
       "      <td>4.905125</td>\n",
       "      <td>-499.828510</td>\n",
       "      <td>24.994862</td>\n",
       "      <td>-500.622559</td>\n",
       "    </tr>\n",
       "    <tr>\n",
       "      <th>3</th>\n",
       "      <td>2016-09-01 03:59:59</td>\n",
       "      <td>215.336236</td>\n",
       "      <td>12.006805</td>\n",
       "      <td>7.640000</td>\n",
       "      <td>0.863514</td>\n",
       "      <td>1399.618111</td>\n",
       "      <td>-498.863574</td>\n",
       "      <td>1397.440120</td>\n",
       "      <td>-499.211024</td>\n",
       "      <td>1400.129303</td>\n",
       "      <td>...</td>\n",
       "      <td>12.033091</td>\n",
       "      <td>-498.350935</td>\n",
       "      <td>8.074946</td>\n",
       "      <td>-499.474407</td>\n",
       "      <td>7.897085</td>\n",
       "      <td>-500.868509</td>\n",
       "      <td>4.931400</td>\n",
       "      <td>-499.963623</td>\n",
       "      <td>24.948919</td>\n",
       "      <td>-498.709987</td>\n",
       "    </tr>\n",
       "    <tr>\n",
       "      <th>4</th>\n",
       "      <td>2016-09-01 04:59:59</td>\n",
       "      <td>199.099327</td>\n",
       "      <td>10.682530</td>\n",
       "      <td>7.530000</td>\n",
       "      <td>0.805575</td>\n",
       "      <td>1401.268123</td>\n",
       "      <td>-500.808305</td>\n",
       "      <td>1398.128818</td>\n",
       "      <td>-499.504543</td>\n",
       "      <td>1402.172226</td>\n",
       "      <td>...</td>\n",
       "      <td>12.025367</td>\n",
       "      <td>-500.786497</td>\n",
       "      <td>8.054678</td>\n",
       "      <td>-500.397500</td>\n",
       "      <td>8.107890</td>\n",
       "      <td>-509.526725</td>\n",
       "      <td>4.957674</td>\n",
       "      <td>-500.360026</td>\n",
       "      <td>25.003331</td>\n",
       "      <td>-500.856333</td>\n",
       "    </tr>\n",
       "    <tr>\n",
       "      <th>...</th>\n",
       "      <td>...</td>\n",
       "      <td>...</td>\n",
       "      <td>...</td>\n",
       "      <td>...</td>\n",
       "      <td>...</td>\n",
       "      <td>...</td>\n",
       "      <td>...</td>\n",
       "      <td>...</td>\n",
       "      <td>...</td>\n",
       "      <td>...</td>\n",
       "      <td>...</td>\n",
       "      <td>...</td>\n",
       "      <td>...</td>\n",
       "      <td>...</td>\n",
       "      <td>...</td>\n",
       "      <td>...</td>\n",
       "      <td>...</td>\n",
       "      <td>...</td>\n",
       "      <td>...</td>\n",
       "      <td>...</td>\n",
       "      <td>...</td>\n",
       "    </tr>\n",
       "    <tr>\n",
       "      <th>5285</th>\n",
       "      <td>2017-12-31 19:59:59</td>\n",
       "      <td>173.957757</td>\n",
       "      <td>15.963399</td>\n",
       "      <td>8.070000</td>\n",
       "      <td>0.896701</td>\n",
       "      <td>1401.930554</td>\n",
       "      <td>-499.728848</td>\n",
       "      <td>1401.441445</td>\n",
       "      <td>-499.193423</td>\n",
       "      <td>1399.810313</td>\n",
       "      <td>...</td>\n",
       "      <td>13.995957</td>\n",
       "      <td>-500.157454</td>\n",
       "      <td>12.069155</td>\n",
       "      <td>-499.673279</td>\n",
       "      <td>7.977259</td>\n",
       "      <td>-499.516126</td>\n",
       "      <td>5.933319</td>\n",
       "      <td>-499.965973</td>\n",
       "      <td>8.987171</td>\n",
       "      <td>-499.755909</td>\n",
       "    </tr>\n",
       "    <tr>\n",
       "      <th>5286</th>\n",
       "      <td>2017-12-31 20:59:59</td>\n",
       "      <td>172.910270</td>\n",
       "      <td>16.002605</td>\n",
       "      <td>8.070000</td>\n",
       "      <td>0.896519</td>\n",
       "      <td>1447.075722</td>\n",
       "      <td>-494.716823</td>\n",
       "      <td>1448.851892</td>\n",
       "      <td>-465.963026</td>\n",
       "      <td>1443.890424</td>\n",
       "      <td>...</td>\n",
       "      <td>16.749781</td>\n",
       "      <td>-496.031539</td>\n",
       "      <td>13.365371</td>\n",
       "      <td>-499.122723</td>\n",
       "      <td>9.288553</td>\n",
       "      <td>-496.892967</td>\n",
       "      <td>7.372897</td>\n",
       "      <td>-499.942956</td>\n",
       "      <td>8.986832</td>\n",
       "      <td>-499.903761</td>\n",
       "    </tr>\n",
       "    <tr>\n",
       "      <th>5287</th>\n",
       "      <td>2017-12-31 21:59:59</td>\n",
       "      <td>171.135718</td>\n",
       "      <td>15.993669</td>\n",
       "      <td>8.070000</td>\n",
       "      <td>1.165996</td>\n",
       "      <td>1498.836182</td>\n",
       "      <td>-501.770403</td>\n",
       "      <td>1499.572353</td>\n",
       "      <td>-495.516347</td>\n",
       "      <td>1502.749213</td>\n",
       "      <td>...</td>\n",
       "      <td>19.994130</td>\n",
       "      <td>-499.791312</td>\n",
       "      <td>15.101425</td>\n",
       "      <td>-499.936252</td>\n",
       "      <td>10.989181</td>\n",
       "      <td>-498.347898</td>\n",
       "      <td>9.020944</td>\n",
       "      <td>-500.040448</td>\n",
       "      <td>8.982038</td>\n",
       "      <td>-497.789882</td>\n",
       "    </tr>\n",
       "    <tr>\n",
       "      <th>5288</th>\n",
       "      <td>2017-12-31 22:59:59</td>\n",
       "      <td>179.697158</td>\n",
       "      <td>15.438979</td>\n",
       "      <td>8.070000</td>\n",
       "      <td>1.501068</td>\n",
       "      <td>1498.466243</td>\n",
       "      <td>-500.483984</td>\n",
       "      <td>1497.986986</td>\n",
       "      <td>-519.200340</td>\n",
       "      <td>1496.569047</td>\n",
       "      <td>...</td>\n",
       "      <td>19.958760</td>\n",
       "      <td>-499.958750</td>\n",
       "      <td>15.026853</td>\n",
       "      <td>-499.723143</td>\n",
       "      <td>11.011607</td>\n",
       "      <td>-499.985046</td>\n",
       "      <td>9.009783</td>\n",
       "      <td>-499.937902</td>\n",
       "      <td>9.012660</td>\n",
       "      <td>-500.154284</td>\n",
       "    </tr>\n",
       "    <tr>\n",
       "      <th>5289</th>\n",
       "      <td>2017-12-31 23:59:59</td>\n",
       "      <td>181.556856</td>\n",
       "      <td>14.995850</td>\n",
       "      <td>8.070000</td>\n",
       "      <td>1.623454</td>\n",
       "      <td>1498.096303</td>\n",
       "      <td>-499.796922</td>\n",
       "      <td>1501.743791</td>\n",
       "      <td>-505.146931</td>\n",
       "      <td>1499.535978</td>\n",
       "      <td>...</td>\n",
       "      <td>20.034715</td>\n",
       "      <td>-500.728588</td>\n",
       "      <td>14.914199</td>\n",
       "      <td>-499.948518</td>\n",
       "      <td>10.986607</td>\n",
       "      <td>-500.658027</td>\n",
       "      <td>8.989497</td>\n",
       "      <td>-500.337588</td>\n",
       "      <td>8.988632</td>\n",
       "      <td>-500.764937</td>\n",
       "    </tr>\n",
       "  </tbody>\n",
       "</table>\n",
       "<p>5290 rows × 53 columns</p>\n",
       "</div>"
      ],
      "text/plain": [
       "                     date  primary_cleaner.input.sulfate  \\\n",
       "0     2016-09-01 00:59:59                     210.800909   \n",
       "1     2016-09-01 01:59:59                     215.392455   \n",
       "2     2016-09-01 02:59:59                     215.259946   \n",
       "3     2016-09-01 03:59:59                     215.336236   \n",
       "4     2016-09-01 04:59:59                     199.099327   \n",
       "...                   ...                            ...   \n",
       "5285  2017-12-31 19:59:59                     173.957757   \n",
       "5286  2017-12-31 20:59:59                     172.910270   \n",
       "5287  2017-12-31 21:59:59                     171.135718   \n",
       "5288  2017-12-31 22:59:59                     179.697158   \n",
       "5289  2017-12-31 23:59:59                     181.556856   \n",
       "\n",
       "      primary_cleaner.input.depressant  primary_cleaner.input.feed_size  \\\n",
       "0                            14.993118                         8.080000   \n",
       "1                            14.987471                         8.080000   \n",
       "2                            12.884934                         7.786667   \n",
       "3                            12.006805                         7.640000   \n",
       "4                            10.682530                         7.530000   \n",
       "...                                ...                              ...   \n",
       "5285                         15.963399                         8.070000   \n",
       "5286                         16.002605                         8.070000   \n",
       "5287                         15.993669                         8.070000   \n",
       "5288                         15.438979                         8.070000   \n",
       "5289                         14.995850                         8.070000   \n",
       "\n",
       "      primary_cleaner.input.xanthate  primary_cleaner.state.floatbank8_a_air  \\\n",
       "0                           1.005021                             1398.981301   \n",
       "1                           0.990469                             1398.777912   \n",
       "2                           0.996043                             1398.493666   \n",
       "3                           0.863514                             1399.618111   \n",
       "4                           0.805575                             1401.268123   \n",
       "...                              ...                                     ...   \n",
       "5285                        0.896701                             1401.930554   \n",
       "5286                        0.896519                             1447.075722   \n",
       "5287                        1.165996                             1498.836182   \n",
       "5288                        1.501068                             1498.466243   \n",
       "5289                        1.623454                             1498.096303   \n",
       "\n",
       "      primary_cleaner.state.floatbank8_a_level  \\\n",
       "0                                  -500.225577   \n",
       "1                                  -500.057435   \n",
       "2                                  -500.868360   \n",
       "3                                  -498.863574   \n",
       "4                                  -500.808305   \n",
       "...                                        ...   \n",
       "5285                               -499.728848   \n",
       "5286                               -494.716823   \n",
       "5287                               -501.770403   \n",
       "5288                               -500.483984   \n",
       "5289                               -499.796922   \n",
       "\n",
       "      primary_cleaner.state.floatbank8_b_air  \\\n",
       "0                                1399.144926   \n",
       "1                                1398.055362   \n",
       "2                                1398.860436   \n",
       "3                                1397.440120   \n",
       "4                                1398.128818   \n",
       "...                                      ...   \n",
       "5285                             1401.441445   \n",
       "5286                             1448.851892   \n",
       "5287                             1499.572353   \n",
       "5288                             1497.986986   \n",
       "5289                             1501.743791   \n",
       "\n",
       "      primary_cleaner.state.floatbank8_b_level  \\\n",
       "0                                  -499.919735   \n",
       "1                                  -499.778182   \n",
       "2                                  -499.764529   \n",
       "3                                  -499.211024   \n",
       "4                                  -499.504543   \n",
       "...                                        ...   \n",
       "5285                               -499.193423   \n",
       "5286                               -465.963026   \n",
       "5287                               -495.516347   \n",
       "5288                               -519.200340   \n",
       "5289                               -505.146931   \n",
       "\n",
       "      primary_cleaner.state.floatbank8_c_air  ...  \\\n",
       "0                                1400.102998  ...   \n",
       "1                                1396.151033  ...   \n",
       "2                                1398.075709  ...   \n",
       "3                                1400.129303  ...   \n",
       "4                                1402.172226  ...   \n",
       "...                                      ...  ...   \n",
       "5285                             1399.810313  ...   \n",
       "5286                             1443.890424  ...   \n",
       "5287                             1502.749213  ...   \n",
       "5288                             1496.569047  ...   \n",
       "5289                             1499.535978  ...   \n",
       "\n",
       "      secondary_cleaner.state.floatbank4_a_air  \\\n",
       "0                                    12.023554   \n",
       "1                                    12.058140   \n",
       "2                                    11.962366   \n",
       "3                                    12.033091   \n",
       "4                                    12.025367   \n",
       "...                                        ...   \n",
       "5285                                 13.995957   \n",
       "5286                                 16.749781   \n",
       "5287                                 19.994130   \n",
       "5288                                 19.958760   \n",
       "5289                                 20.034715   \n",
       "\n",
       "      secondary_cleaner.state.floatbank4_a_level  \\\n",
       "0                                    -497.795834   \n",
       "1                                    -498.695773   \n",
       "2                                    -498.767484   \n",
       "3                                    -498.350935   \n",
       "4                                    -500.786497   \n",
       "...                                          ...   \n",
       "5285                                 -500.157454   \n",
       "5286                                 -496.031539   \n",
       "5287                                 -499.791312   \n",
       "5288                                 -499.958750   \n",
       "5289                                 -500.728588   \n",
       "\n",
       "      secondary_cleaner.state.floatbank4_b_air  \\\n",
       "0                                     8.016656   \n",
       "1                                     8.130979   \n",
       "2                                     8.096893   \n",
       "3                                     8.074946   \n",
       "4                                     8.054678   \n",
       "...                                        ...   \n",
       "5285                                 12.069155   \n",
       "5286                                 13.365371   \n",
       "5287                                 15.101425   \n",
       "5288                                 15.026853   \n",
       "5289                                 14.914199   \n",
       "\n",
       "      secondary_cleaner.state.floatbank4_b_level  \\\n",
       "0                                    -501.289139   \n",
       "1                                    -499.634209   \n",
       "2                                    -500.827423   \n",
       "3                                    -499.474407   \n",
       "4                                    -500.397500   \n",
       "...                                          ...   \n",
       "5285                                 -499.673279   \n",
       "5286                                 -499.122723   \n",
       "5287                                 -499.936252   \n",
       "5288                                 -499.723143   \n",
       "5289                                 -499.948518   \n",
       "\n",
       "      secondary_cleaner.state.floatbank5_a_air  \\\n",
       "0                                     7.946562   \n",
       "1                                     7.958270   \n",
       "2                                     8.071056   \n",
       "3                                     7.897085   \n",
       "4                                     8.107890   \n",
       "...                                        ...   \n",
       "5285                                  7.977259   \n",
       "5286                                  9.288553   \n",
       "5287                                 10.989181   \n",
       "5288                                 11.011607   \n",
       "5289                                 10.986607   \n",
       "\n",
       "      secondary_cleaner.state.floatbank5_a_level  \\\n",
       "0                                    -432.317850   \n",
       "1                                    -525.839648   \n",
       "2                                    -500.801673   \n",
       "3                                    -500.868509   \n",
       "4                                    -509.526725   \n",
       "...                                          ...   \n",
       "5285                                 -499.516126   \n",
       "5286                                 -496.892967   \n",
       "5287                                 -498.347898   \n",
       "5288                                 -499.985046   \n",
       "5289                                 -500.658027   \n",
       "\n",
       "      secondary_cleaner.state.floatbank5_b_air  \\\n",
       "0                                     4.872511   \n",
       "1                                     4.878850   \n",
       "2                                     4.905125   \n",
       "3                                     4.931400   \n",
       "4                                     4.957674   \n",
       "...                                        ...   \n",
       "5285                                  5.933319   \n",
       "5286                                  7.372897   \n",
       "5287                                  9.020944   \n",
       "5288                                  9.009783   \n",
       "5289                                  8.989497   \n",
       "\n",
       "      secondary_cleaner.state.floatbank5_b_level  \\\n",
       "0                                    -500.037437   \n",
       "1                                    -500.162375   \n",
       "2                                    -499.828510   \n",
       "3                                    -499.963623   \n",
       "4                                    -500.360026   \n",
       "...                                          ...   \n",
       "5285                                 -499.965973   \n",
       "5286                                 -499.942956   \n",
       "5287                                 -500.040448   \n",
       "5288                                 -499.937902   \n",
       "5289                                 -500.337588   \n",
       "\n",
       "      secondary_cleaner.state.floatbank6_a_air  \\\n",
       "0                                    26.705889   \n",
       "1                                    25.019940   \n",
       "2                                    24.994862   \n",
       "3                                    24.948919   \n",
       "4                                    25.003331   \n",
       "...                                        ...   \n",
       "5285                                  8.987171   \n",
       "5286                                  8.986832   \n",
       "5287                                  8.982038   \n",
       "5288                                  9.012660   \n",
       "5289                                  8.988632   \n",
       "\n",
       "      secondary_cleaner.state.floatbank6_a_level  \n",
       "0                                    -499.709414  \n",
       "1                                    -499.819438  \n",
       "2                                    -500.622559  \n",
       "3                                    -498.709987  \n",
       "4                                    -500.856333  \n",
       "...                                          ...  \n",
       "5285                                 -499.755909  \n",
       "5286                                 -499.903761  \n",
       "5287                                 -497.789882  \n",
       "5288                                 -500.154284  \n",
       "5289                                 -500.764937  \n",
       "\n",
       "[5290 rows x 53 columns]"
      ]
     },
     "metadata": {},
     "output_type": "display_data"
    },
    {
     "data": {
      "text/html": [
       "<div>\n",
       "<style scoped>\n",
       "    .dataframe tbody tr th:only-of-type {\n",
       "        vertical-align: middle;\n",
       "    }\n",
       "\n",
       "    .dataframe tbody tr th {\n",
       "        vertical-align: top;\n",
       "    }\n",
       "\n",
       "    .dataframe thead th {\n",
       "        text-align: right;\n",
       "    }\n",
       "</style>\n",
       "<table border=\"1\" class=\"dataframe\">\n",
       "  <thead>\n",
       "    <tr style=\"text-align: right;\">\n",
       "      <th></th>\n",
       "      <th>date</th>\n",
       "      <th>final.output.concentrate_ag</th>\n",
       "      <th>final.output.concentrate_pb</th>\n",
       "      <th>final.output.concentrate_sol</th>\n",
       "      <th>final.output.concentrate_au</th>\n",
       "      <th>final.output.recovery</th>\n",
       "      <th>final.output.tail_ag</th>\n",
       "      <th>final.output.tail_pb</th>\n",
       "      <th>final.output.tail_sol</th>\n",
       "      <th>final.output.tail_au</th>\n",
       "      <th>...</th>\n",
       "      <th>secondary_cleaner.state.floatbank4_a_air</th>\n",
       "      <th>secondary_cleaner.state.floatbank4_a_level</th>\n",
       "      <th>secondary_cleaner.state.floatbank4_b_air</th>\n",
       "      <th>secondary_cleaner.state.floatbank4_b_level</th>\n",
       "      <th>secondary_cleaner.state.floatbank5_a_air</th>\n",
       "      <th>secondary_cleaner.state.floatbank5_a_level</th>\n",
       "      <th>secondary_cleaner.state.floatbank5_b_air</th>\n",
       "      <th>secondary_cleaner.state.floatbank5_b_level</th>\n",
       "      <th>secondary_cleaner.state.floatbank6_a_air</th>\n",
       "      <th>secondary_cleaner.state.floatbank6_a_level</th>\n",
       "    </tr>\n",
       "  </thead>\n",
       "  <tbody>\n",
       "    <tr>\n",
       "      <th>0</th>\n",
       "      <td>2016-01-15 00:00:00</td>\n",
       "      <td>6.055403</td>\n",
       "      <td>9.889648</td>\n",
       "      <td>5.507324</td>\n",
       "      <td>42.192020</td>\n",
       "      <td>70.541216</td>\n",
       "      <td>10.411962</td>\n",
       "      <td>0.895447</td>\n",
       "      <td>16.904297</td>\n",
       "      <td>2.143149</td>\n",
       "      <td>...</td>\n",
       "      <td>14.016835</td>\n",
       "      <td>-502.488007</td>\n",
       "      <td>12.099931</td>\n",
       "      <td>-504.715942</td>\n",
       "      <td>9.925633</td>\n",
       "      <td>-498.310211</td>\n",
       "      <td>8.079666</td>\n",
       "      <td>-500.470978</td>\n",
       "      <td>14.151341</td>\n",
       "      <td>-605.841980</td>\n",
       "    </tr>\n",
       "    <tr>\n",
       "      <th>1</th>\n",
       "      <td>2016-01-15 01:00:00</td>\n",
       "      <td>6.029369</td>\n",
       "      <td>9.968944</td>\n",
       "      <td>5.257781</td>\n",
       "      <td>42.701629</td>\n",
       "      <td>69.266198</td>\n",
       "      <td>10.462676</td>\n",
       "      <td>0.927452</td>\n",
       "      <td>16.634514</td>\n",
       "      <td>2.224930</td>\n",
       "      <td>...</td>\n",
       "      <td>13.992281</td>\n",
       "      <td>-505.503262</td>\n",
       "      <td>11.950531</td>\n",
       "      <td>-501.331529</td>\n",
       "      <td>10.039245</td>\n",
       "      <td>-500.169983</td>\n",
       "      <td>7.984757</td>\n",
       "      <td>-500.582168</td>\n",
       "      <td>13.998353</td>\n",
       "      <td>-599.787184</td>\n",
       "    </tr>\n",
       "    <tr>\n",
       "      <th>2</th>\n",
       "      <td>2016-01-15 02:00:00</td>\n",
       "      <td>6.055926</td>\n",
       "      <td>10.213995</td>\n",
       "      <td>5.383759</td>\n",
       "      <td>42.657501</td>\n",
       "      <td>68.116445</td>\n",
       "      <td>10.507046</td>\n",
       "      <td>0.953716</td>\n",
       "      <td>16.208849</td>\n",
       "      <td>2.257889</td>\n",
       "      <td>...</td>\n",
       "      <td>14.015015</td>\n",
       "      <td>-502.520901</td>\n",
       "      <td>11.912783</td>\n",
       "      <td>-501.133383</td>\n",
       "      <td>10.070913</td>\n",
       "      <td>-500.129135</td>\n",
       "      <td>8.013877</td>\n",
       "      <td>-500.517572</td>\n",
       "      <td>14.028663</td>\n",
       "      <td>-601.427363</td>\n",
       "    </tr>\n",
       "    <tr>\n",
       "      <th>3</th>\n",
       "      <td>2016-01-15 03:00:00</td>\n",
       "      <td>6.047977</td>\n",
       "      <td>9.977019</td>\n",
       "      <td>4.858634</td>\n",
       "      <td>42.689819</td>\n",
       "      <td>68.347543</td>\n",
       "      <td>10.422762</td>\n",
       "      <td>0.883763</td>\n",
       "      <td>16.532835</td>\n",
       "      <td>2.146849</td>\n",
       "      <td>...</td>\n",
       "      <td>14.036510</td>\n",
       "      <td>-500.857308</td>\n",
       "      <td>11.999550</td>\n",
       "      <td>-501.193686</td>\n",
       "      <td>9.970366</td>\n",
       "      <td>-499.201640</td>\n",
       "      <td>7.977324</td>\n",
       "      <td>-500.255908</td>\n",
       "      <td>14.005551</td>\n",
       "      <td>-599.996129</td>\n",
       "    </tr>\n",
       "    <tr>\n",
       "      <th>4</th>\n",
       "      <td>2016-01-15 04:00:00</td>\n",
       "      <td>6.148599</td>\n",
       "      <td>10.142511</td>\n",
       "      <td>4.939416</td>\n",
       "      <td>42.774141</td>\n",
       "      <td>66.927016</td>\n",
       "      <td>10.360302</td>\n",
       "      <td>0.792826</td>\n",
       "      <td>16.525686</td>\n",
       "      <td>2.055292</td>\n",
       "      <td>...</td>\n",
       "      <td>14.027298</td>\n",
       "      <td>-499.838632</td>\n",
       "      <td>11.953070</td>\n",
       "      <td>-501.053894</td>\n",
       "      <td>9.925709</td>\n",
       "      <td>-501.686727</td>\n",
       "      <td>7.894242</td>\n",
       "      <td>-500.356035</td>\n",
       "      <td>13.996647</td>\n",
       "      <td>-601.496691</td>\n",
       "    </tr>\n",
       "    <tr>\n",
       "      <th>...</th>\n",
       "      <td>...</td>\n",
       "      <td>...</td>\n",
       "      <td>...</td>\n",
       "      <td>...</td>\n",
       "      <td>...</td>\n",
       "      <td>...</td>\n",
       "      <td>...</td>\n",
       "      <td>...</td>\n",
       "      <td>...</td>\n",
       "      <td>...</td>\n",
       "      <td>...</td>\n",
       "      <td>...</td>\n",
       "      <td>...</td>\n",
       "      <td>...</td>\n",
       "      <td>...</td>\n",
       "      <td>...</td>\n",
       "      <td>...</td>\n",
       "      <td>...</td>\n",
       "      <td>...</td>\n",
       "      <td>...</td>\n",
       "      <td>...</td>\n",
       "    </tr>\n",
       "    <tr>\n",
       "      <th>19434</th>\n",
       "      <td>2018-08-18 06:59:59</td>\n",
       "      <td>3.224920</td>\n",
       "      <td>11.356233</td>\n",
       "      <td>6.803482</td>\n",
       "      <td>46.713954</td>\n",
       "      <td>73.755150</td>\n",
       "      <td>8.769645</td>\n",
       "      <td>3.141541</td>\n",
       "      <td>10.403181</td>\n",
       "      <td>1.529220</td>\n",
       "      <td>...</td>\n",
       "      <td>23.031497</td>\n",
       "      <td>-501.167942</td>\n",
       "      <td>20.007571</td>\n",
       "      <td>-499.740028</td>\n",
       "      <td>18.006038</td>\n",
       "      <td>-499.834374</td>\n",
       "      <td>13.001114</td>\n",
       "      <td>-500.155694</td>\n",
       "      <td>20.007840</td>\n",
       "      <td>-501.296428</td>\n",
       "    </tr>\n",
       "    <tr>\n",
       "      <th>19435</th>\n",
       "      <td>2018-08-18 07:59:59</td>\n",
       "      <td>3.195978</td>\n",
       "      <td>11.349355</td>\n",
       "      <td>6.862249</td>\n",
       "      <td>46.866780</td>\n",
       "      <td>69.049291</td>\n",
       "      <td>8.897321</td>\n",
       "      <td>3.130493</td>\n",
       "      <td>10.549470</td>\n",
       "      <td>1.612542</td>\n",
       "      <td>...</td>\n",
       "      <td>22.960095</td>\n",
       "      <td>-501.612783</td>\n",
       "      <td>20.035660</td>\n",
       "      <td>-500.251357</td>\n",
       "      <td>17.998535</td>\n",
       "      <td>-500.395178</td>\n",
       "      <td>12.954048</td>\n",
       "      <td>-499.895163</td>\n",
       "      <td>19.968498</td>\n",
       "      <td>-501.041608</td>\n",
       "    </tr>\n",
       "    <tr>\n",
       "      <th>19436</th>\n",
       "      <td>2018-08-18 08:59:59</td>\n",
       "      <td>3.109998</td>\n",
       "      <td>11.434366</td>\n",
       "      <td>6.886013</td>\n",
       "      <td>46.795691</td>\n",
       "      <td>67.002189</td>\n",
       "      <td>8.529606</td>\n",
       "      <td>2.911418</td>\n",
       "      <td>11.115147</td>\n",
       "      <td>1.596616</td>\n",
       "      <td>...</td>\n",
       "      <td>23.015718</td>\n",
       "      <td>-501.711599</td>\n",
       "      <td>19.951231</td>\n",
       "      <td>-499.857027</td>\n",
       "      <td>18.019543</td>\n",
       "      <td>-500.451156</td>\n",
       "      <td>13.023431</td>\n",
       "      <td>-499.914391</td>\n",
       "      <td>19.990885</td>\n",
       "      <td>-501.518452</td>\n",
       "    </tr>\n",
       "    <tr>\n",
       "      <th>19437</th>\n",
       "      <td>2018-08-18 09:59:59</td>\n",
       "      <td>3.367241</td>\n",
       "      <td>11.625587</td>\n",
       "      <td>6.799433</td>\n",
       "      <td>46.408188</td>\n",
       "      <td>65.523246</td>\n",
       "      <td>8.777171</td>\n",
       "      <td>2.819214</td>\n",
       "      <td>10.463847</td>\n",
       "      <td>1.602879</td>\n",
       "      <td>...</td>\n",
       "      <td>23.024963</td>\n",
       "      <td>-501.153409</td>\n",
       "      <td>20.054122</td>\n",
       "      <td>-500.314711</td>\n",
       "      <td>17.979515</td>\n",
       "      <td>-499.272871</td>\n",
       "      <td>12.992404</td>\n",
       "      <td>-499.976268</td>\n",
       "      <td>20.013986</td>\n",
       "      <td>-500.625471</td>\n",
       "    </tr>\n",
       "    <tr>\n",
       "      <th>19438</th>\n",
       "      <td>2018-08-18 10:59:59</td>\n",
       "      <td>3.598375</td>\n",
       "      <td>11.737832</td>\n",
       "      <td>6.717509</td>\n",
       "      <td>46.299438</td>\n",
       "      <td>70.281454</td>\n",
       "      <td>8.406690</td>\n",
       "      <td>2.517518</td>\n",
       "      <td>10.652193</td>\n",
       "      <td>1.389434</td>\n",
       "      <td>...</td>\n",
       "      <td>23.018622</td>\n",
       "      <td>-500.492702</td>\n",
       "      <td>20.020205</td>\n",
       "      <td>-500.220296</td>\n",
       "      <td>17.963512</td>\n",
       "      <td>-499.939490</td>\n",
       "      <td>12.990306</td>\n",
       "      <td>-500.080993</td>\n",
       "      <td>19.990336</td>\n",
       "      <td>-499.191575</td>\n",
       "    </tr>\n",
       "  </tbody>\n",
       "</table>\n",
       "<p>19439 rows × 87 columns</p>\n",
       "</div>"
      ],
      "text/plain": [
       "                      date  final.output.concentrate_ag  \\\n",
       "0      2016-01-15 00:00:00                     6.055403   \n",
       "1      2016-01-15 01:00:00                     6.029369   \n",
       "2      2016-01-15 02:00:00                     6.055926   \n",
       "3      2016-01-15 03:00:00                     6.047977   \n",
       "4      2016-01-15 04:00:00                     6.148599   \n",
       "...                    ...                          ...   \n",
       "19434  2018-08-18 06:59:59                     3.224920   \n",
       "19435  2018-08-18 07:59:59                     3.195978   \n",
       "19436  2018-08-18 08:59:59                     3.109998   \n",
       "19437  2018-08-18 09:59:59                     3.367241   \n",
       "19438  2018-08-18 10:59:59                     3.598375   \n",
       "\n",
       "       final.output.concentrate_pb  final.output.concentrate_sol  \\\n",
       "0                         9.889648                      5.507324   \n",
       "1                         9.968944                      5.257781   \n",
       "2                        10.213995                      5.383759   \n",
       "3                         9.977019                      4.858634   \n",
       "4                        10.142511                      4.939416   \n",
       "...                            ...                           ...   \n",
       "19434                    11.356233                      6.803482   \n",
       "19435                    11.349355                      6.862249   \n",
       "19436                    11.434366                      6.886013   \n",
       "19437                    11.625587                      6.799433   \n",
       "19438                    11.737832                      6.717509   \n",
       "\n",
       "       final.output.concentrate_au  final.output.recovery  \\\n",
       "0                        42.192020              70.541216   \n",
       "1                        42.701629              69.266198   \n",
       "2                        42.657501              68.116445   \n",
       "3                        42.689819              68.347543   \n",
       "4                        42.774141              66.927016   \n",
       "...                            ...                    ...   \n",
       "19434                    46.713954              73.755150   \n",
       "19435                    46.866780              69.049291   \n",
       "19436                    46.795691              67.002189   \n",
       "19437                    46.408188              65.523246   \n",
       "19438                    46.299438              70.281454   \n",
       "\n",
       "       final.output.tail_ag  final.output.tail_pb  final.output.tail_sol  \\\n",
       "0                 10.411962              0.895447              16.904297   \n",
       "1                 10.462676              0.927452              16.634514   \n",
       "2                 10.507046              0.953716              16.208849   \n",
       "3                 10.422762              0.883763              16.532835   \n",
       "4                 10.360302              0.792826              16.525686   \n",
       "...                     ...                   ...                    ...   \n",
       "19434              8.769645              3.141541              10.403181   \n",
       "19435              8.897321              3.130493              10.549470   \n",
       "19436              8.529606              2.911418              11.115147   \n",
       "19437              8.777171              2.819214              10.463847   \n",
       "19438              8.406690              2.517518              10.652193   \n",
       "\n",
       "       final.output.tail_au  ...  secondary_cleaner.state.floatbank4_a_air  \\\n",
       "0                  2.143149  ...                                 14.016835   \n",
       "1                  2.224930  ...                                 13.992281   \n",
       "2                  2.257889  ...                                 14.015015   \n",
       "3                  2.146849  ...                                 14.036510   \n",
       "4                  2.055292  ...                                 14.027298   \n",
       "...                     ...  ...                                       ...   \n",
       "19434              1.529220  ...                                 23.031497   \n",
       "19435              1.612542  ...                                 22.960095   \n",
       "19436              1.596616  ...                                 23.015718   \n",
       "19437              1.602879  ...                                 23.024963   \n",
       "19438              1.389434  ...                                 23.018622   \n",
       "\n",
       "       secondary_cleaner.state.floatbank4_a_level  \\\n",
       "0                                     -502.488007   \n",
       "1                                     -505.503262   \n",
       "2                                     -502.520901   \n",
       "3                                     -500.857308   \n",
       "4                                     -499.838632   \n",
       "...                                           ...   \n",
       "19434                                 -501.167942   \n",
       "19435                                 -501.612783   \n",
       "19436                                 -501.711599   \n",
       "19437                                 -501.153409   \n",
       "19438                                 -500.492702   \n",
       "\n",
       "       secondary_cleaner.state.floatbank4_b_air  \\\n",
       "0                                     12.099931   \n",
       "1                                     11.950531   \n",
       "2                                     11.912783   \n",
       "3                                     11.999550   \n",
       "4                                     11.953070   \n",
       "...                                         ...   \n",
       "19434                                 20.007571   \n",
       "19435                                 20.035660   \n",
       "19436                                 19.951231   \n",
       "19437                                 20.054122   \n",
       "19438                                 20.020205   \n",
       "\n",
       "       secondary_cleaner.state.floatbank4_b_level  \\\n",
       "0                                     -504.715942   \n",
       "1                                     -501.331529   \n",
       "2                                     -501.133383   \n",
       "3                                     -501.193686   \n",
       "4                                     -501.053894   \n",
       "...                                           ...   \n",
       "19434                                 -499.740028   \n",
       "19435                                 -500.251357   \n",
       "19436                                 -499.857027   \n",
       "19437                                 -500.314711   \n",
       "19438                                 -500.220296   \n",
       "\n",
       "       secondary_cleaner.state.floatbank5_a_air  \\\n",
       "0                                      9.925633   \n",
       "1                                     10.039245   \n",
       "2                                     10.070913   \n",
       "3                                      9.970366   \n",
       "4                                      9.925709   \n",
       "...                                         ...   \n",
       "19434                                 18.006038   \n",
       "19435                                 17.998535   \n",
       "19436                                 18.019543   \n",
       "19437                                 17.979515   \n",
       "19438                                 17.963512   \n",
       "\n",
       "       secondary_cleaner.state.floatbank5_a_level  \\\n",
       "0                                     -498.310211   \n",
       "1                                     -500.169983   \n",
       "2                                     -500.129135   \n",
       "3                                     -499.201640   \n",
       "4                                     -501.686727   \n",
       "...                                           ...   \n",
       "19434                                 -499.834374   \n",
       "19435                                 -500.395178   \n",
       "19436                                 -500.451156   \n",
       "19437                                 -499.272871   \n",
       "19438                                 -499.939490   \n",
       "\n",
       "       secondary_cleaner.state.floatbank5_b_air  \\\n",
       "0                                      8.079666   \n",
       "1                                      7.984757   \n",
       "2                                      8.013877   \n",
       "3                                      7.977324   \n",
       "4                                      7.894242   \n",
       "...                                         ...   \n",
       "19434                                 13.001114   \n",
       "19435                                 12.954048   \n",
       "19436                                 13.023431   \n",
       "19437                                 12.992404   \n",
       "19438                                 12.990306   \n",
       "\n",
       "       secondary_cleaner.state.floatbank5_b_level  \\\n",
       "0                                     -500.470978   \n",
       "1                                     -500.582168   \n",
       "2                                     -500.517572   \n",
       "3                                     -500.255908   \n",
       "4                                     -500.356035   \n",
       "...                                           ...   \n",
       "19434                                 -500.155694   \n",
       "19435                                 -499.895163   \n",
       "19436                                 -499.914391   \n",
       "19437                                 -499.976268   \n",
       "19438                                 -500.080993   \n",
       "\n",
       "       secondary_cleaner.state.floatbank6_a_air  \\\n",
       "0                                     14.151341   \n",
       "1                                     13.998353   \n",
       "2                                     14.028663   \n",
       "3                                     14.005551   \n",
       "4                                     13.996647   \n",
       "...                                         ...   \n",
       "19434                                 20.007840   \n",
       "19435                                 19.968498   \n",
       "19436                                 19.990885   \n",
       "19437                                 20.013986   \n",
       "19438                                 19.990336   \n",
       "\n",
       "       secondary_cleaner.state.floatbank6_a_level  \n",
       "0                                     -605.841980  \n",
       "1                                     -599.787184  \n",
       "2                                     -601.427363  \n",
       "3                                     -599.996129  \n",
       "4                                     -601.496691  \n",
       "...                                           ...  \n",
       "19434                                 -501.296428  \n",
       "19435                                 -501.041608  \n",
       "19436                                 -501.518452  \n",
       "19437                                 -500.625471  \n",
       "19438                                 -499.191575  \n",
       "\n",
       "[19439 rows x 87 columns]"
      ]
     },
     "metadata": {},
     "output_type": "display_data"
    }
   ],
   "source": [
    "# Посмотрим необходимую информацию о наших данных\n",
    "display(data_tr)\n",
    "display(data_tst)\n",
    "display(data_fl)"
   ]
  },
  {
   "cell_type": "markdown",
   "metadata": {},
   "source": [
    "Итак,  в наших таблицах достаточно много данных. \n",
    "\n",
    "Все эти признаки имеют определенное наименование состоящее из:  [этап].[тип_параметра].[название_параметра]\n",
    "\n",
    "Пример: rougher.input.feed_ag\n",
    "\n",
    "Технологический процесс:\n",
    "- Rougher feed — исходное сырье\n",
    "- Rougher additions (или reagent additions) — флотационные реагенты: Xanthate, Sulphate, Depressant\n",
    "- Xanthate — ксантогенат (промотер, или активатор флотации);\n",
    "- Sulphate — сульфат (на данном производстве сульфид натрия);\n",
    "- Depressant — депрессант (силикат натрия).\n",
    "- Rougher process (англ. «грубый процесс») — флотация\n",
    "- Rougher tails — отвальные хвосты\n",
    "- Float banks — флотационная установка\n",
    "- Cleaner process — очистка\n",
    "- Rougher Au — черновой концентрат золота\n",
    "- Final Au — финальный концентрат золота\n",
    "\n",
    "\n",
    "Параметры этапов:\n",
    "- air amount — объём воздуха\n",
    "- fluid levels — уровень жидкости\n",
    "- feed size — размер гранул сырья\n",
    "- feed rate — скорость подачи\n",
    "\n",
    "\n",
    "Возможные значения для блока [этап]:\n",
    "\n",
    "- rougher — флотация\n",
    "- primary_cleaner — первичная очистка\n",
    "- secondary_cleaner — вторичная очистка\n",
    "- final — финальные характеристики \n",
    "\n",
    "Возможные значения для блока [тип_параметра]:\n",
    "\n",
    "- output( продукт)\n",
    "- input ( сырье)\n",
    "- state ( параметры текущего состояния)\n",
    "- calculation (расчётные характеристики)"
   ]
  },
  {
   "cell_type": "code",
   "execution_count": 5,
   "metadata": {},
   "outputs": [
    {
     "name": "stdout",
     "output_type": "stream",
     "text": [
      "DataFrame 1 \n",
      " ---------------\n",
      "<class 'pandas.core.frame.DataFrame'>\n",
      "RangeIndex: 14149 entries, 0 to 14148\n",
      "Data columns (total 87 columns):\n",
      " #   Column                                              Non-Null Count  Dtype  \n",
      "---  ------                                              --------------  -----  \n",
      " 0   date                                                14149 non-null  object \n",
      " 1   final.output.concentrate_ag                         14148 non-null  float64\n",
      " 2   final.output.concentrate_pb                         14148 non-null  float64\n",
      " 3   final.output.concentrate_sol                        13938 non-null  float64\n",
      " 4   final.output.concentrate_au                         14149 non-null  float64\n",
      " 5   final.output.recovery                               14149 non-null  float64\n",
      " 6   final.output.tail_ag                                14149 non-null  float64\n",
      " 7   final.output.tail_pb                                14049 non-null  float64\n",
      " 8   final.output.tail_sol                               14144 non-null  float64\n",
      " 9   final.output.tail_au                                14149 non-null  float64\n",
      " 10  primary_cleaner.input.sulfate                       14129 non-null  float64\n",
      " 11  primary_cleaner.input.depressant                    14117 non-null  float64\n",
      " 12  primary_cleaner.input.feed_size                     14149 non-null  float64\n",
      " 13  primary_cleaner.input.xanthate                      14049 non-null  float64\n",
      " 14  primary_cleaner.output.concentrate_ag               14149 non-null  float64\n",
      " 15  primary_cleaner.output.concentrate_pb               14063 non-null  float64\n",
      " 16  primary_cleaner.output.concentrate_sol              13863 non-null  float64\n",
      " 17  primary_cleaner.output.concentrate_au               14149 non-null  float64\n",
      " 18  primary_cleaner.output.tail_ag                      14148 non-null  float64\n",
      " 19  primary_cleaner.output.tail_pb                      14134 non-null  float64\n",
      " 20  primary_cleaner.output.tail_sol                     14103 non-null  float64\n",
      " 21  primary_cleaner.output.tail_au                      14149 non-null  float64\n",
      " 22  primary_cleaner.state.floatbank8_a_air              14145 non-null  float64\n",
      " 23  primary_cleaner.state.floatbank8_a_level            14148 non-null  float64\n",
      " 24  primary_cleaner.state.floatbank8_b_air              14145 non-null  float64\n",
      " 25  primary_cleaner.state.floatbank8_b_level            14148 non-null  float64\n",
      " 26  primary_cleaner.state.floatbank8_c_air              14147 non-null  float64\n",
      " 27  primary_cleaner.state.floatbank8_c_level            14148 non-null  float64\n",
      " 28  primary_cleaner.state.floatbank8_d_air              14146 non-null  float64\n",
      " 29  primary_cleaner.state.floatbank8_d_level            14148 non-null  float64\n",
      " 30  rougher.calculation.sulfate_to_au_concentrate       14148 non-null  float64\n",
      " 31  rougher.calculation.floatbank10_sulfate_to_au_feed  14148 non-null  float64\n",
      " 32  rougher.calculation.floatbank11_sulfate_to_au_feed  14148 non-null  float64\n",
      " 33  rougher.calculation.au_pb_ratio                     14149 non-null  float64\n",
      " 34  rougher.input.feed_ag                               14149 non-null  float64\n",
      " 35  rougher.input.feed_pb                               14049 non-null  float64\n",
      " 36  rougher.input.feed_rate                             14141 non-null  float64\n",
      " 37  rougher.input.feed_size                             14005 non-null  float64\n",
      " 38  rougher.input.feed_sol                              14071 non-null  float64\n",
      " 39  rougher.input.feed_au                               14149 non-null  float64\n",
      " 40  rougher.input.floatbank10_sulfate                   14120 non-null  float64\n",
      " 41  rougher.input.floatbank10_xanthate                  14141 non-null  float64\n",
      " 42  rougher.input.floatbank11_sulfate                   14113 non-null  float64\n",
      " 43  rougher.input.floatbank11_xanthate                  13721 non-null  float64\n",
      " 44  rougher.output.concentrate_ag                       14149 non-null  float64\n",
      " 45  rougher.output.concentrate_pb                       14149 non-null  float64\n",
      " 46  rougher.output.concentrate_sol                      14127 non-null  float64\n",
      " 47  rougher.output.concentrate_au                       14149 non-null  float64\n",
      " 48  rougher.output.recovery                             14149 non-null  float64\n",
      " 49  rougher.output.tail_ag                              14148 non-null  float64\n",
      " 50  rougher.output.tail_pb                              14149 non-null  float64\n",
      " 51  rougher.output.tail_sol                             14149 non-null  float64\n",
      " 52  rougher.output.tail_au                              14149 non-null  float64\n",
      " 53  rougher.state.floatbank10_a_air                     14148 non-null  float64\n",
      " 54  rougher.state.floatbank10_a_level                   14148 non-null  float64\n",
      " 55  rougher.state.floatbank10_b_air                     14148 non-null  float64\n",
      " 56  rougher.state.floatbank10_b_level                   14148 non-null  float64\n",
      " 57  rougher.state.floatbank10_c_air                     14148 non-null  float64\n",
      " 58  rougher.state.floatbank10_c_level                   14148 non-null  float64\n",
      " 59  rougher.state.floatbank10_d_air                     14149 non-null  float64\n",
      " 60  rougher.state.floatbank10_d_level                   14149 non-null  float64\n",
      " 61  rougher.state.floatbank10_e_air                     13713 non-null  float64\n",
      " 62  rougher.state.floatbank10_e_level                   14149 non-null  float64\n",
      " 63  rougher.state.floatbank10_f_air                     14149 non-null  float64\n",
      " 64  rougher.state.floatbank10_f_level                   14149 non-null  float64\n",
      " 65  secondary_cleaner.output.tail_ag                    14147 non-null  float64\n",
      " 66  secondary_cleaner.output.tail_pb                    14139 non-null  float64\n",
      " 67  secondary_cleaner.output.tail_sol                   12544 non-null  float64\n",
      " 68  secondary_cleaner.output.tail_au                    14149 non-null  float64\n",
      " 69  secondary_cleaner.state.floatbank2_a_air            13932 non-null  float64\n",
      " 70  secondary_cleaner.state.floatbank2_a_level          14148 non-null  float64\n",
      " 71  secondary_cleaner.state.floatbank2_b_air            14128 non-null  float64\n",
      " 72  secondary_cleaner.state.floatbank2_b_level          14148 non-null  float64\n",
      " 73  secondary_cleaner.state.floatbank3_a_air            14145 non-null  float64\n",
      " 74  secondary_cleaner.state.floatbank3_a_level          14148 non-null  float64\n",
      " 75  secondary_cleaner.state.floatbank3_b_air            14148 non-null  float64\n",
      " 76  secondary_cleaner.state.floatbank3_b_level          14148 non-null  float64\n",
      " 77  secondary_cleaner.state.floatbank4_a_air            14143 non-null  float64\n",
      " 78  secondary_cleaner.state.floatbank4_a_level          14148 non-null  float64\n",
      " 79  secondary_cleaner.state.floatbank4_b_air            14148 non-null  float64\n",
      " 80  secondary_cleaner.state.floatbank4_b_level          14148 non-null  float64\n",
      " 81  secondary_cleaner.state.floatbank5_a_air            14148 non-null  float64\n",
      " 82  secondary_cleaner.state.floatbank5_a_level          14148 non-null  float64\n",
      " 83  secondary_cleaner.state.floatbank5_b_air            14148 non-null  float64\n",
      " 84  secondary_cleaner.state.floatbank5_b_level          14148 non-null  float64\n",
      " 85  secondary_cleaner.state.floatbank6_a_air            14147 non-null  float64\n",
      " 86  secondary_cleaner.state.floatbank6_a_level          14148 non-null  float64\n",
      "dtypes: float64(86), object(1)\n",
      "memory usage: 9.4+ MB\n",
      "\n",
      "DataFrame 2 \n",
      " ---------------\n",
      "<class 'pandas.core.frame.DataFrame'>\n",
      "RangeIndex: 5290 entries, 0 to 5289\n",
      "Data columns (total 53 columns):\n",
      " #   Column                                      Non-Null Count  Dtype  \n",
      "---  ------                                      --------------  -----  \n",
      " 0   date                                        5290 non-null   object \n",
      " 1   primary_cleaner.input.sulfate               5286 non-null   float64\n",
      " 2   primary_cleaner.input.depressant            5285 non-null   float64\n",
      " 3   primary_cleaner.input.feed_size             5290 non-null   float64\n",
      " 4   primary_cleaner.input.xanthate              5286 non-null   float64\n",
      " 5   primary_cleaner.state.floatbank8_a_air      5290 non-null   float64\n",
      " 6   primary_cleaner.state.floatbank8_a_level    5290 non-null   float64\n",
      " 7   primary_cleaner.state.floatbank8_b_air      5290 non-null   float64\n",
      " 8   primary_cleaner.state.floatbank8_b_level    5290 non-null   float64\n",
      " 9   primary_cleaner.state.floatbank8_c_air      5290 non-null   float64\n",
      " 10  primary_cleaner.state.floatbank8_c_level    5290 non-null   float64\n",
      " 11  primary_cleaner.state.floatbank8_d_air      5290 non-null   float64\n",
      " 12  primary_cleaner.state.floatbank8_d_level    5290 non-null   float64\n",
      " 13  rougher.input.feed_ag                       5290 non-null   float64\n",
      " 14  rougher.input.feed_pb                       5290 non-null   float64\n",
      " 15  rougher.input.feed_rate                     5287 non-null   float64\n",
      " 16  rougher.input.feed_size                     5289 non-null   float64\n",
      " 17  rougher.input.feed_sol                      5269 non-null   float64\n",
      " 18  rougher.input.feed_au                       5290 non-null   float64\n",
      " 19  rougher.input.floatbank10_sulfate           5285 non-null   float64\n",
      " 20  rougher.input.floatbank10_xanthate          5290 non-null   float64\n",
      " 21  rougher.input.floatbank11_sulfate           5282 non-null   float64\n",
      " 22  rougher.input.floatbank11_xanthate          5265 non-null   float64\n",
      " 23  rougher.state.floatbank10_a_air             5290 non-null   float64\n",
      " 24  rougher.state.floatbank10_a_level           5290 non-null   float64\n",
      " 25  rougher.state.floatbank10_b_air             5290 non-null   float64\n",
      " 26  rougher.state.floatbank10_b_level           5290 non-null   float64\n",
      " 27  rougher.state.floatbank10_c_air             5290 non-null   float64\n",
      " 28  rougher.state.floatbank10_c_level           5290 non-null   float64\n",
      " 29  rougher.state.floatbank10_d_air             5290 non-null   float64\n",
      " 30  rougher.state.floatbank10_d_level           5290 non-null   float64\n",
      " 31  rougher.state.floatbank10_e_air             5290 non-null   float64\n",
      " 32  rougher.state.floatbank10_e_level           5290 non-null   float64\n",
      " 33  rougher.state.floatbank10_f_air             5290 non-null   float64\n",
      " 34  rougher.state.floatbank10_f_level           5290 non-null   float64\n",
      " 35  secondary_cleaner.state.floatbank2_a_air    5287 non-null   float64\n",
      " 36  secondary_cleaner.state.floatbank2_a_level  5290 non-null   float64\n",
      " 37  secondary_cleaner.state.floatbank2_b_air    5288 non-null   float64\n",
      " 38  secondary_cleaner.state.floatbank2_b_level  5290 non-null   float64\n",
      " 39  secondary_cleaner.state.floatbank3_a_air    5281 non-null   float64\n",
      " 40  secondary_cleaner.state.floatbank3_a_level  5290 non-null   float64\n",
      " 41  secondary_cleaner.state.floatbank3_b_air    5290 non-null   float64\n",
      " 42  secondary_cleaner.state.floatbank3_b_level  5290 non-null   float64\n",
      " 43  secondary_cleaner.state.floatbank4_a_air    5290 non-null   float64\n",
      " 44  secondary_cleaner.state.floatbank4_a_level  5290 non-null   float64\n",
      " 45  secondary_cleaner.state.floatbank4_b_air    5290 non-null   float64\n",
      " 46  secondary_cleaner.state.floatbank4_b_level  5290 non-null   float64\n",
      " 47  secondary_cleaner.state.floatbank5_a_air    5290 non-null   float64\n",
      " 48  secondary_cleaner.state.floatbank5_a_level  5290 non-null   float64\n",
      " 49  secondary_cleaner.state.floatbank5_b_air    5290 non-null   float64\n",
      " 50  secondary_cleaner.state.floatbank5_b_level  5290 non-null   float64\n",
      " 51  secondary_cleaner.state.floatbank6_a_air    5290 non-null   float64\n",
      " 52  secondary_cleaner.state.floatbank6_a_level  5290 non-null   float64\n",
      "dtypes: float64(52), object(1)\n",
      "memory usage: 2.1+ MB\n",
      "\n",
      "DataFrame 3 \n",
      " ---------------\n",
      "<class 'pandas.core.frame.DataFrame'>\n",
      "RangeIndex: 19439 entries, 0 to 19438\n",
      "Data columns (total 87 columns):\n",
      " #   Column                                              Non-Null Count  Dtype  \n",
      "---  ------                                              --------------  -----  \n",
      " 0   date                                                19439 non-null  object \n",
      " 1   final.output.concentrate_ag                         19438 non-null  float64\n",
      " 2   final.output.concentrate_pb                         19438 non-null  float64\n",
      " 3   final.output.concentrate_sol                        19228 non-null  float64\n",
      " 4   final.output.concentrate_au                         19439 non-null  float64\n",
      " 5   final.output.recovery                               19439 non-null  float64\n",
      " 6   final.output.tail_ag                                19438 non-null  float64\n",
      " 7   final.output.tail_pb                                19338 non-null  float64\n",
      " 8   final.output.tail_sol                               19433 non-null  float64\n",
      " 9   final.output.tail_au                                19439 non-null  float64\n",
      " 10  primary_cleaner.input.sulfate                       19415 non-null  float64\n",
      " 11  primary_cleaner.input.depressant                    19402 non-null  float64\n",
      " 12  primary_cleaner.input.feed_size                     19439 non-null  float64\n",
      " 13  primary_cleaner.input.xanthate                      19335 non-null  float64\n",
      " 14  primary_cleaner.output.concentrate_ag               19439 non-null  float64\n",
      " 15  primary_cleaner.output.concentrate_pb               19323 non-null  float64\n",
      " 16  primary_cleaner.output.concentrate_sol              19069 non-null  float64\n",
      " 17  primary_cleaner.output.concentrate_au               19439 non-null  float64\n",
      " 18  primary_cleaner.output.tail_ag                      19435 non-null  float64\n",
      " 19  primary_cleaner.output.tail_pb                      19418 non-null  float64\n",
      " 20  primary_cleaner.output.tail_sol                     19377 non-null  float64\n",
      " 21  primary_cleaner.output.tail_au                      19439 non-null  float64\n",
      " 22  primary_cleaner.state.floatbank8_a_air              19435 non-null  float64\n",
      " 23  primary_cleaner.state.floatbank8_a_level            19438 non-null  float64\n",
      " 24  primary_cleaner.state.floatbank8_b_air              19435 non-null  float64\n",
      " 25  primary_cleaner.state.floatbank8_b_level            19438 non-null  float64\n",
      " 26  primary_cleaner.state.floatbank8_c_air              19437 non-null  float64\n",
      " 27  primary_cleaner.state.floatbank8_c_level            19438 non-null  float64\n",
      " 28  primary_cleaner.state.floatbank8_d_air              19436 non-null  float64\n",
      " 29  primary_cleaner.state.floatbank8_d_level            19438 non-null  float64\n",
      " 30  rougher.calculation.sulfate_to_au_concentrate       19437 non-null  float64\n",
      " 31  rougher.calculation.floatbank10_sulfate_to_au_feed  19437 non-null  float64\n",
      " 32  rougher.calculation.floatbank11_sulfate_to_au_feed  19437 non-null  float64\n",
      " 33  rougher.calculation.au_pb_ratio                     19439 non-null  float64\n",
      " 34  rougher.input.feed_ag                               19439 non-null  float64\n",
      " 35  rougher.input.feed_pb                               19339 non-null  float64\n",
      " 36  rougher.input.feed_rate                             19428 non-null  float64\n",
      " 37  rougher.input.feed_size                             19294 non-null  float64\n",
      " 38  rougher.input.feed_sol                              19340 non-null  float64\n",
      " 39  rougher.input.feed_au                               19439 non-null  float64\n",
      " 40  rougher.input.floatbank10_sulfate                   19405 non-null  float64\n",
      " 41  rougher.input.floatbank10_xanthate                  19431 non-null  float64\n",
      " 42  rougher.input.floatbank11_sulfate                   19395 non-null  float64\n",
      " 43  rougher.input.floatbank11_xanthate                  18986 non-null  float64\n",
      " 44  rougher.output.concentrate_ag                       19439 non-null  float64\n",
      " 45  rougher.output.concentrate_pb                       19439 non-null  float64\n",
      " 46  rougher.output.concentrate_sol                      19416 non-null  float64\n",
      " 47  rougher.output.concentrate_au                       19439 non-null  float64\n",
      " 48  rougher.output.recovery                             19439 non-null  float64\n",
      " 49  rougher.output.tail_ag                              19438 non-null  float64\n",
      " 50  rougher.output.tail_pb                              19439 non-null  float64\n",
      " 51  rougher.output.tail_sol                             19439 non-null  float64\n",
      " 52  rougher.output.tail_au                              19439 non-null  float64\n",
      " 53  rougher.state.floatbank10_a_air                     19438 non-null  float64\n",
      " 54  rougher.state.floatbank10_a_level                   19438 non-null  float64\n",
      " 55  rougher.state.floatbank10_b_air                     19438 non-null  float64\n",
      " 56  rougher.state.floatbank10_b_level                   19438 non-null  float64\n",
      " 57  rougher.state.floatbank10_c_air                     19438 non-null  float64\n",
      " 58  rougher.state.floatbank10_c_level                   19438 non-null  float64\n",
      " 59  rougher.state.floatbank10_d_air                     19439 non-null  float64\n",
      " 60  rougher.state.floatbank10_d_level                   19439 non-null  float64\n",
      " 61  rougher.state.floatbank10_e_air                     19003 non-null  float64\n",
      " 62  rougher.state.floatbank10_e_level                   19439 non-null  float64\n",
      " 63  rougher.state.floatbank10_f_air                     19439 non-null  float64\n",
      " 64  rougher.state.floatbank10_f_level                   19439 non-null  float64\n",
      " 65  secondary_cleaner.output.tail_ag                    19437 non-null  float64\n",
      " 66  secondary_cleaner.output.tail_pb                    19427 non-null  float64\n",
      " 67  secondary_cleaner.output.tail_sol                   17691 non-null  float64\n",
      " 68  secondary_cleaner.output.tail_au                    19439 non-null  float64\n",
      " 69  secondary_cleaner.state.floatbank2_a_air            19219 non-null  float64\n",
      " 70  secondary_cleaner.state.floatbank2_a_level          19438 non-null  float64\n",
      " 71  secondary_cleaner.state.floatbank2_b_air            19416 non-null  float64\n",
      " 72  secondary_cleaner.state.floatbank2_b_level          19438 non-null  float64\n",
      " 73  secondary_cleaner.state.floatbank3_a_air            19426 non-null  float64\n",
      " 74  secondary_cleaner.state.floatbank3_a_level          19438 non-null  float64\n",
      " 75  secondary_cleaner.state.floatbank3_b_air            19438 non-null  float64\n",
      " 76  secondary_cleaner.state.floatbank3_b_level          19438 non-null  float64\n",
      " 77  secondary_cleaner.state.floatbank4_a_air            19433 non-null  float64\n",
      " 78  secondary_cleaner.state.floatbank4_a_level          19438 non-null  float64\n",
      " 79  secondary_cleaner.state.floatbank4_b_air            19438 non-null  float64\n",
      " 80  secondary_cleaner.state.floatbank4_b_level          19438 non-null  float64\n",
      " 81  secondary_cleaner.state.floatbank5_a_air            19438 non-null  float64\n",
      " 82  secondary_cleaner.state.floatbank5_a_level          19438 non-null  float64\n",
      " 83  secondary_cleaner.state.floatbank5_b_air            19438 non-null  float64\n",
      " 84  secondary_cleaner.state.floatbank5_b_level          19438 non-null  float64\n",
      " 85  secondary_cleaner.state.floatbank6_a_air            19437 non-null  float64\n",
      " 86  secondary_cleaner.state.floatbank6_a_level          19438 non-null  float64\n",
      "dtypes: float64(86), object(1)\n",
      "memory usage: 12.9+ MB\n",
      "\n"
     ]
    }
   ],
   "source": [
    "#Проверим общую информацию  \n",
    "\n",
    "for reg, df in data.items():\n",
    "    print('DataFrame', reg+1, '\\n', '-' * 15)\n",
    "    df.info()\n",
    "    print()"
   ]
  },
  {
   "cell_type": "markdown",
   "metadata": {},
   "source": [
    "Мы видим, что колонка date имеет тип object, причем во всех 3 таблицах, что является ошибкой. Исправим тип данных на datatime. Остальные колонки имеют верный тип данных.\n",
    "\n",
    "Размер таблиц разный, что не удивительно. Некоторые параметры недоступны, потому что замеряются и/или рассчитываются значительно позже. Из-за этого в тестовой выборке отсутствуют некоторые признаки, которые могут быть в обучающей. Также в тестовом наборе нет целевых признаков.\n",
    "\n",
    "Есть несколько пропусков во всех 3 датасетах, но их не так много. Можно воспользоваться условием, что соседние по времени параметры часто похожи. Тогда эти пропуски можно заполнить данными, анологичными соседним."
   ]
  },
  {
   "cell_type": "code",
   "execution_count": 6,
   "metadata": {},
   "outputs": [
    {
     "name": "stdout",
     "output_type": "stream",
     "text": [
      "DataFrame 1 -------- datetime64[ns]\n",
      "DataFrame 2 -------- datetime64[ns]\n",
      "DataFrame 3 -------- datetime64[ns]\n"
     ]
    }
   ],
   "source": [
    "# Для начала, заменим тип данных на верный\n",
    "\n",
    "for reg, df in data.items():\n",
    "    df['date'] = pd.to_datetime(df['date'], format='%Y-%m-%d %H:%M:%S')\n",
    "    print('DataFrame', reg+1, '-'*8, df.dtypes['date'])    "
   ]
  },
  {
   "cell_type": "code",
   "execution_count": 7,
   "metadata": {},
   "outputs": [
    {
     "name": "stdout",
     "output_type": "stream",
     "text": [
      "DataFrame 1 -------- duplicated   0\n",
      "DataFrame 2 -------- duplicated   0\n",
      "DataFrame 3 -------- duplicated   0\n"
     ]
    }
   ],
   "source": [
    "# Теперь проверим на явные дубликаты\n",
    "\n",
    "for reg, df in data.items():\n",
    "    print(f'DataFrame {reg+1}',\n",
    "          '-' * 8,\n",
    "          f'duplicated   {df.duplicated().sum()}')"
   ]
  },
  {
   "cell_type": "code",
   "execution_count": 8,
   "metadata": {},
   "outputs": [
    {
     "name": "stdout",
     "output_type": "stream",
     "text": [
      "Размер обучающей выборки (14149, 87) Кол-во строк без пропусков 14149\n",
      "Размер тестовой выборки (5290, 53) Кол-во строк без пропусков 5290\n",
      "Размер общей выборки (19439, 87) Кол-во строк без пропусков 19439\n"
     ]
    }
   ],
   "source": [
    "# Ну а теперь заменим пропуски на данные, похожие на соседние, с помощью функции ffill\n",
    "\n",
    "data_tr = data_tr.ffill(axis=0)\n",
    "data_tst = data_tst.ffill(axis=0)\n",
    "data_fl = data_fl.ffill(axis=0)\n",
    "\n",
    "print('Размер обучающей выборки', data_tr.shape, 'Кол-во строк без пропусков', len(data_tr.notna()))\n",
    "print('Размер тестовой выборки', data_tst.shape, 'Кол-во строк без пропусков', len(data_tst.notna()))\n",
    "print('Размер общей выборки', data_fl.shape, 'Кол-во строк без пропусков', len(data_fl.notna()))"
   ]
  },
  {
   "cell_type": "markdown",
   "metadata": {},
   "source": [
    "<div class=\"alert alert-success\"> ✅ \n",
    "<h3> Комментарий ревьюера v1</h3>\n",
    "\n",
    "Хорошо, что внимательно читаешь задание =) Тут было бы неправильно заполнять медианой или средним, так как значения фичей сильно зависят от этапа обработки\n",
    "\n",
    "PS заполнить пропуски также можно было методами pandas: bfill/ interpolate , это вполне уместно. Хочу посоветовать тебе статью, которая рассматривает разные способы обработки пропусков, выделяет их плюсы и минусы, думаю, тебе может быть интересно: https://loginom.ru/blog/missing\n"
   ]
  },
  {
   "cell_type": "markdown",
   "metadata": {},
   "source": [
    "### Проверка формулы"
   ]
  },
  {
   "cell_type": "markdown",
   "metadata": {},
   "source": [
    "Эффективность обогащения рассчитывается по формуле:\n",
    "\n",
    "$$recovery=\\frac{C(F-T)}{F(C-T)})*100 \\% $$\n",
    "\n",
    "где:\n",
    "- С -доля золота в концентрате после флотации/очистки\n",
    "- F -доля золота в сырье/концентрате до флотации/очистки\n",
    "- T -доля золота в отвальных хвостах после флотации/очистки\n",
    "\n",
    "Проверим, что эффективность обогащения рассчитана правильно. Вычислим её на обучающей выборке для признака rougher.output.recovery. Найдем MAE между нашими расчётами и значением признака.\n",
    "\n",
    "Для этого обозначим наши переменные:\n",
    "- С -rougher.output.concentrate_au\n",
    "- F -rougher.input.feed_au\n",
    "- T -rougher.output.tail_au"
   ]
  },
  {
   "cell_type": "code",
   "execution_count": 9,
   "metadata": {},
   "outputs": [
    {
     "name": "stdout",
     "output_type": "stream",
     "text": [
      "Значение MAE 9.73512347450521e-15\n"
     ]
    }
   ],
   "source": [
    "# Рассчитаем формулу на обучающей выборке\n",
    "\n",
    "C=data_tr['rougher.output.concentrate_au']\n",
    "F=data_tr['rougher.input.feed_au']\n",
    "T=data_tr['rougher.output.tail_au']\n",
    "\n",
    "recovery= (C*(F-T))/(F*(C-T))*100\n",
    "\n",
    "# Теперь сравним наши вычисления с rougher.output.recovery\n",
    "\n",
    "recovery_mae=mean_absolute_error(data_tr['rougher.output.recovery'], recovery)\n",
    "print('Значение MAE', recovery_mae)"
   ]
  },
  {
   "cell_type": "markdown",
   "metadata": {},
   "source": [
    "Значение МАЕ показывает, на сколько велика разница между предсказаниями и истинным значением. Наш результат показал низкие значения, значит формула расчитана верно. "
   ]
  },
  {
   "cell_type": "markdown",
   "metadata": {},
   "source": [
    "<div class=\"alert alert-success\"> ✅ \n",
    "<h3> Комментарий ревьюера v1</h3>\n",
    "\n",
    "Верно, полученное значение оказалось в достаточной степени маленьким, чтобы можно было утверждать о правильности рассчёта.\n"
   ]
  },
  {
   "cell_type": "markdown",
   "metadata": {},
   "source": [
    "### Анализ признаков"
   ]
  },
  {
   "cell_type": "code",
   "execution_count": 10,
   "metadata": {},
   "outputs": [
    {
     "name": "stdout",
     "output_type": "stream",
     "text": [
      "<class 'pandas.core.frame.DataFrame'>\n",
      "RangeIndex: 14149 entries, 0 to 14148\n",
      "Data columns (total 87 columns):\n",
      " #   Column                                              Non-Null Count  Dtype         \n",
      "---  ------                                              --------------  -----         \n",
      " 0   date                                                14149 non-null  datetime64[ns]\n",
      " 1   final.output.concentrate_ag                         14149 non-null  float64       \n",
      " 2   final.output.concentrate_pb                         14149 non-null  float64       \n",
      " 3   final.output.concentrate_sol                        14149 non-null  float64       \n",
      " 4   final.output.concentrate_au                         14149 non-null  float64       \n",
      " 5   final.output.recovery                               14149 non-null  float64       \n",
      " 6   final.output.tail_ag                                14149 non-null  float64       \n",
      " 7   final.output.tail_pb                                14149 non-null  float64       \n",
      " 8   final.output.tail_sol                               14149 non-null  float64       \n",
      " 9   final.output.tail_au                                14149 non-null  float64       \n",
      " 10  primary_cleaner.input.sulfate                       14149 non-null  float64       \n",
      " 11  primary_cleaner.input.depressant                    14149 non-null  float64       \n",
      " 12  primary_cleaner.input.feed_size                     14149 non-null  float64       \n",
      " 13  primary_cleaner.input.xanthate                      14149 non-null  float64       \n",
      " 14  primary_cleaner.output.concentrate_ag               14149 non-null  float64       \n",
      " 15  primary_cleaner.output.concentrate_pb               14149 non-null  float64       \n",
      " 16  primary_cleaner.output.concentrate_sol              14149 non-null  float64       \n",
      " 17  primary_cleaner.output.concentrate_au               14149 non-null  float64       \n",
      " 18  primary_cleaner.output.tail_ag                      14149 non-null  float64       \n",
      " 19  primary_cleaner.output.tail_pb                      14149 non-null  float64       \n",
      " 20  primary_cleaner.output.tail_sol                     14149 non-null  float64       \n",
      " 21  primary_cleaner.output.tail_au                      14149 non-null  float64       \n",
      " 22  primary_cleaner.state.floatbank8_a_air              14149 non-null  float64       \n",
      " 23  primary_cleaner.state.floatbank8_a_level            14149 non-null  float64       \n",
      " 24  primary_cleaner.state.floatbank8_b_air              14149 non-null  float64       \n",
      " 25  primary_cleaner.state.floatbank8_b_level            14149 non-null  float64       \n",
      " 26  primary_cleaner.state.floatbank8_c_air              14149 non-null  float64       \n",
      " 27  primary_cleaner.state.floatbank8_c_level            14149 non-null  float64       \n",
      " 28  primary_cleaner.state.floatbank8_d_air              14149 non-null  float64       \n",
      " 29  primary_cleaner.state.floatbank8_d_level            14149 non-null  float64       \n",
      " 30  rougher.calculation.sulfate_to_au_concentrate       14149 non-null  float64       \n",
      " 31  rougher.calculation.floatbank10_sulfate_to_au_feed  14149 non-null  float64       \n",
      " 32  rougher.calculation.floatbank11_sulfate_to_au_feed  14149 non-null  float64       \n",
      " 33  rougher.calculation.au_pb_ratio                     14149 non-null  float64       \n",
      " 34  rougher.input.feed_ag                               14149 non-null  float64       \n",
      " 35  rougher.input.feed_pb                               14149 non-null  float64       \n",
      " 36  rougher.input.feed_rate                             14149 non-null  float64       \n",
      " 37  rougher.input.feed_size                             14149 non-null  float64       \n",
      " 38  rougher.input.feed_sol                              14149 non-null  float64       \n",
      " 39  rougher.input.feed_au                               14149 non-null  float64       \n",
      " 40  rougher.input.floatbank10_sulfate                   14149 non-null  float64       \n",
      " 41  rougher.input.floatbank10_xanthate                  14149 non-null  float64       \n",
      " 42  rougher.input.floatbank11_sulfate                   14149 non-null  float64       \n",
      " 43  rougher.input.floatbank11_xanthate                  14149 non-null  float64       \n",
      " 44  rougher.output.concentrate_ag                       14149 non-null  float64       \n",
      " 45  rougher.output.concentrate_pb                       14149 non-null  float64       \n",
      " 46  rougher.output.concentrate_sol                      14149 non-null  float64       \n",
      " 47  rougher.output.concentrate_au                       14149 non-null  float64       \n",
      " 48  rougher.output.recovery                             14149 non-null  float64       \n",
      " 49  rougher.output.tail_ag                              14149 non-null  float64       \n",
      " 50  rougher.output.tail_pb                              14149 non-null  float64       \n",
      " 51  rougher.output.tail_sol                             14149 non-null  float64       \n",
      " 52  rougher.output.tail_au                              14149 non-null  float64       \n",
      " 53  rougher.state.floatbank10_a_air                     14149 non-null  float64       \n",
      " 54  rougher.state.floatbank10_a_level                   14149 non-null  float64       \n",
      " 55  rougher.state.floatbank10_b_air                     14149 non-null  float64       \n",
      " 56  rougher.state.floatbank10_b_level                   14149 non-null  float64       \n",
      " 57  rougher.state.floatbank10_c_air                     14149 non-null  float64       \n",
      " 58  rougher.state.floatbank10_c_level                   14149 non-null  float64       \n",
      " 59  rougher.state.floatbank10_d_air                     14149 non-null  float64       \n",
      " 60  rougher.state.floatbank10_d_level                   14149 non-null  float64       \n",
      " 61  rougher.state.floatbank10_e_air                     14149 non-null  float64       \n",
      " 62  rougher.state.floatbank10_e_level                   14149 non-null  float64       \n",
      " 63  rougher.state.floatbank10_f_air                     14149 non-null  float64       \n",
      " 64  rougher.state.floatbank10_f_level                   14149 non-null  float64       \n",
      " 65  secondary_cleaner.output.tail_ag                    14149 non-null  float64       \n",
      " 66  secondary_cleaner.output.tail_pb                    14149 non-null  float64       \n",
      " 67  secondary_cleaner.output.tail_sol                   14149 non-null  float64       \n",
      " 68  secondary_cleaner.output.tail_au                    14149 non-null  float64       \n",
      " 69  secondary_cleaner.state.floatbank2_a_air            14149 non-null  float64       \n",
      " 70  secondary_cleaner.state.floatbank2_a_level          14149 non-null  float64       \n",
      " 71  secondary_cleaner.state.floatbank2_b_air            14149 non-null  float64       \n",
      " 72  secondary_cleaner.state.floatbank2_b_level          14149 non-null  float64       \n",
      " 73  secondary_cleaner.state.floatbank3_a_air            14149 non-null  float64       \n",
      " 74  secondary_cleaner.state.floatbank3_a_level          14149 non-null  float64       \n",
      " 75  secondary_cleaner.state.floatbank3_b_air            14149 non-null  float64       \n",
      " 76  secondary_cleaner.state.floatbank3_b_level          14149 non-null  float64       \n",
      " 77  secondary_cleaner.state.floatbank4_a_air            14149 non-null  float64       \n",
      " 78  secondary_cleaner.state.floatbank4_a_level          14149 non-null  float64       \n",
      " 79  secondary_cleaner.state.floatbank4_b_air            14149 non-null  float64       \n",
      " 80  secondary_cleaner.state.floatbank4_b_level          14149 non-null  float64       \n",
      " 81  secondary_cleaner.state.floatbank5_a_air            14149 non-null  float64       \n",
      " 82  secondary_cleaner.state.floatbank5_a_level          14149 non-null  float64       \n",
      " 83  secondary_cleaner.state.floatbank5_b_air            14149 non-null  float64       \n",
      " 84  secondary_cleaner.state.floatbank5_b_level          14149 non-null  float64       \n",
      " 85  secondary_cleaner.state.floatbank6_a_air            14149 non-null  float64       \n",
      " 86  secondary_cleaner.state.floatbank6_a_level          14149 non-null  float64       \n",
      "dtypes: datetime64[ns](1), float64(86)\n",
      "memory usage: 9.4 MB\n"
     ]
    }
   ],
   "source": [
    "data_tr.info()"
   ]
  },
  {
   "cell_type": "code",
   "execution_count": 11,
   "metadata": {
    "scrolled": true
   },
   "outputs": [
    {
     "data": {
      "text/plain": [
       "{'final.output.concentrate_ag',\n",
       " 'final.output.concentrate_au',\n",
       " 'final.output.concentrate_pb',\n",
       " 'final.output.concentrate_sol',\n",
       " 'final.output.recovery',\n",
       " 'final.output.tail_ag',\n",
       " 'final.output.tail_au',\n",
       " 'final.output.tail_pb',\n",
       " 'final.output.tail_sol',\n",
       " 'primary_cleaner.output.concentrate_ag',\n",
       " 'primary_cleaner.output.concentrate_au',\n",
       " 'primary_cleaner.output.concentrate_pb',\n",
       " 'primary_cleaner.output.concentrate_sol',\n",
       " 'primary_cleaner.output.tail_ag',\n",
       " 'primary_cleaner.output.tail_au',\n",
       " 'primary_cleaner.output.tail_pb',\n",
       " 'primary_cleaner.output.tail_sol',\n",
       " 'rougher.calculation.au_pb_ratio',\n",
       " 'rougher.calculation.floatbank10_sulfate_to_au_feed',\n",
       " 'rougher.calculation.floatbank11_sulfate_to_au_feed',\n",
       " 'rougher.calculation.sulfate_to_au_concentrate',\n",
       " 'rougher.output.concentrate_ag',\n",
       " 'rougher.output.concentrate_au',\n",
       " 'rougher.output.concentrate_pb',\n",
       " 'rougher.output.concentrate_sol',\n",
       " 'rougher.output.recovery',\n",
       " 'rougher.output.tail_ag',\n",
       " 'rougher.output.tail_au',\n",
       " 'rougher.output.tail_pb',\n",
       " 'rougher.output.tail_sol',\n",
       " 'secondary_cleaner.output.tail_ag',\n",
       " 'secondary_cleaner.output.tail_au',\n",
       " 'secondary_cleaner.output.tail_pb',\n",
       " 'secondary_cleaner.output.tail_sol'}"
      ]
     },
     "execution_count": 11,
     "metadata": {},
     "output_type": "execute_result"
    }
   ],
   "source": [
    "# Проверим, какие признаки отсутствуют в тестовой выборке\n",
    "\n",
    "variance_test=set(data_tr.columns)-set(data_tst.columns)\n",
    "variance_test"
   ]
  },
  {
   "cell_type": "code",
   "execution_count": 12,
   "metadata": {},
   "outputs": [
    {
     "name": "stdout",
     "output_type": "stream",
     "text": [
      "В тестовой выборке отсутствует 34\n"
     ]
    }
   ],
   "source": [
    "print('В тестовой выборке отсутствует', len(variance_test))"
   ]
  },
  {
   "cell_type": "markdown",
   "metadata": {},
   "source": [
    "В тестовой выборке отсутствует 34 выборки, из них 30 характеризуют выходные параметры продукта output и 4 - расчетные параметры calculation. Данные параметры недоступны, так как замеряются и/или рассчитываются уже после/во время выхода/обработки продукта. Эти параметры нужно будет удалить, чтобы в дальнейшем обучении модели не произошла утечка целевого признака. Также в тестовой выборке отсутствуют целевые признаки rougher.output.recovery и final.output.recovery. Они нужны для метрики качества, так что внесем их в датасет из полной выборки"
   ]
  },
  {
   "cell_type": "markdown",
   "metadata": {},
   "source": [
    "<div class=\"alert alert-success\"> ✅ \n",
    "<h3> Комментарий ревьюера v1</h3>\n",
    "\n",
    "Правильно. Значит, на этих признаках нельзя обучать, так как они не будут доступны на тестах\n"
   ]
  },
  {
   "cell_type": "code",
   "execution_count": 13,
   "metadata": {},
   "outputs": [
    {
     "name": "stdout",
     "output_type": "stream",
     "text": [
      "(14149, 87)\n",
      "(5290, 55)\n",
      "32\n"
     ]
    }
   ],
   "source": [
    "# Используем метод merge, в качестве индексов возьмем столбец date\n",
    "\n",
    "data_tst = data_tst.merge(data_fl[['final.output.recovery', 'rougher.output.recovery', 'date']], how='left', on='date')\n",
    "\n",
    "variance_test=set(data_tr.columns)-set(data_tst.columns)\n",
    "\n",
    "# Проверим размер выборок\n",
    "print(data_tr.shape)\n",
    "print(data_tst.shape)\n",
    "print(len(variance_test))"
   ]
  },
  {
   "cell_type": "markdown",
   "metadata": {},
   "source": [
    "### Вывод"
   ]
  },
  {
   "cell_type": "markdown",
   "metadata": {},
   "source": [
    "<b>В ходе предобработки данных мы:\n",
    "- проверили формулу расчета эффективности обогащения. Формула верна.\n",
    "- проанализировали признаки. В тестовую выборку добавили целевые признаки rougher.output.recovery и final.output.recovery. \n",
    "- удалили неинформативный стобец date. Заменили пропуски на аналогичные соседним данные. Исправили формат данных.   </b>"
   ]
  },
  {
   "cell_type": "markdown",
   "metadata": {},
   "source": [
    "<div class=\"alert alert-success\"> ✅ \n",
    "<h3> Комментарий ревьюера v1</h3>\n",
    "\n",
    "Хорошая подготовка данных: проверена правильность расчета эффективности обогащения, пропуски обработны подходящим способом, сделаны верные выводы об отсутствующих признаках в тесте.\n"
   ]
  },
  {
   "cell_type": "markdown",
   "metadata": {},
   "source": [
    "## Анализ данных"
   ]
  },
  {
   "cell_type": "markdown",
   "metadata": {},
   "source": [
    "### Анализ целевых признаков"
   ]
  },
  {
   "cell_type": "markdown",
   "metadata": {},
   "source": [
    "Для начала рассмотрим особенности целевых признаков rougher.output.recovery и final.output.recovery."
   ]
  },
  {
   "cell_type": "code",
   "execution_count": 14,
   "metadata": {},
   "outputs": [
    {
     "data": {
      "text/html": [
       "<div>\n",
       "<style scoped>\n",
       "    .dataframe tbody tr th:only-of-type {\n",
       "        vertical-align: middle;\n",
       "    }\n",
       "\n",
       "    .dataframe tbody tr th {\n",
       "        vertical-align: top;\n",
       "    }\n",
       "\n",
       "    .dataframe thead th {\n",
       "        text-align: right;\n",
       "    }\n",
       "</style>\n",
       "<table border=\"1\" class=\"dataframe\">\n",
       "  <thead>\n",
       "    <tr style=\"text-align: right;\">\n",
       "      <th></th>\n",
       "      <th>rougher.output.recovery</th>\n",
       "      <th>final.output.recovery</th>\n",
       "    </tr>\n",
       "  </thead>\n",
       "  <tbody>\n",
       "    <tr>\n",
       "      <th>count</th>\n",
       "      <td>19439.000000</td>\n",
       "      <td>19439.000000</td>\n",
       "    </tr>\n",
       "    <tr>\n",
       "      <th>mean</th>\n",
       "      <td>83.328587</td>\n",
       "      <td>67.050208</td>\n",
       "    </tr>\n",
       "    <tr>\n",
       "      <th>std</th>\n",
       "      <td>14.148086</td>\n",
       "      <td>10.125840</td>\n",
       "    </tr>\n",
       "    <tr>\n",
       "      <th>min</th>\n",
       "      <td>0.000000</td>\n",
       "      <td>0.000000</td>\n",
       "    </tr>\n",
       "    <tr>\n",
       "      <th>25%</th>\n",
       "      <td>81.037957</td>\n",
       "      <td>63.299712</td>\n",
       "    </tr>\n",
       "    <tr>\n",
       "      <th>50%</th>\n",
       "      <td>86.188892</td>\n",
       "      <td>68.172738</td>\n",
       "    </tr>\n",
       "    <tr>\n",
       "      <th>75%</th>\n",
       "      <td>90.010670</td>\n",
       "      <td>72.686642</td>\n",
       "    </tr>\n",
       "    <tr>\n",
       "      <th>max</th>\n",
       "      <td>100.000000</td>\n",
       "      <td>100.000000</td>\n",
       "    </tr>\n",
       "  </tbody>\n",
       "</table>\n",
       "</div>"
      ],
      "text/plain": [
       "       rougher.output.recovery  final.output.recovery\n",
       "count             19439.000000           19439.000000\n",
       "mean                 83.328587              67.050208\n",
       "std                  14.148086              10.125840\n",
       "min                   0.000000               0.000000\n",
       "25%                  81.037957              63.299712\n",
       "50%                  86.188892              68.172738\n",
       "75%                  90.010670              72.686642\n",
       "max                 100.000000             100.000000"
      ]
     },
     "execution_count": 14,
     "metadata": {},
     "output_type": "execute_result"
    }
   ],
   "source": [
    "data_fl[['rougher.output.recovery', 'final.output.recovery']].describe()"
   ]
  },
  {
   "cell_type": "code",
   "execution_count": 15,
   "metadata": {},
   "outputs": [
    {
     "data": {
      "image/png": "[encoded data removed]",
      "text/plain": [
       "<Figure size 1080x360 with 2 Axes>"
      ]
     },
     "metadata": {
      "needs_background": "light"
     },
     "output_type": "display_data"
    }
   ],
   "source": [
    "# Построим гистограмму и \"ящик с усами\" для лучшей наглядности\n",
    "plt.figure(figsize=(15,5))\n",
    "plt.subplot(1, 2, 1)\n",
    "sns.histplot(data=data_fl[['rougher.output.recovery', 'final.output.recovery']])\n",
    "plt.grid()\n",
    "plt.subplot(1, 2, 2)\n",
    "sns.boxplot(data=data_fl[['rougher.output.recovery', 'final.output.recovery']])\n",
    "plt.grid()\n",
    "plt.show()"
   ]
  },
  {
   "cell_type": "markdown",
   "metadata": {},
   "source": [
    "Среднее значение эффективности обошащения финального концентрата(final.output.recovery) составляет 67%, чернового концентрата (rougher.output.recovery) 83%. Разброс значений не сильно большой( межквартальный размах для финального концентрата 63-73%, для чернового - 81-90%). Также присутствуют анамальные значения, около 400 измерений равны почти 0. Это может быть связано как и с ошибками, так и с особенностями технологического процесса( некачественное сырье, ошибки при анализе/расчетах, перебои в оборудовании и т.д.). Думаю, в дальнейшем мы их удалим."
   ]
  },
  {
   "cell_type": "markdown",
   "metadata": {},
   "source": [
    "Попробуем рассмотреть корреляцию между целевыми признаками и другими параметрами"
   ]
  },
  {
   "cell_type": "code",
   "execution_count": 16,
   "metadata": {},
   "outputs": [
    {
     "data": {
      "text/plain": [
       "<AxesSubplot:>"
      ]
     },
     "execution_count": 16,
     "metadata": {},
     "output_type": "execute_result"
    },
    {
     "data": {
      "image/png": "[encoded data removed]",
      "text/plain": [
       "<Figure size 432x288 with 2 Axes>"
      ]
     },
     "metadata": {
      "needs_background": "light"
     },
     "output_type": "display_data"
    }
   ],
   "source": [
    "correlate=data_fl.corr()\n",
    "sns.heatmap(correlate)"
   ]
  },
  {
   "cell_type": "code",
   "execution_count": 17,
   "metadata": {},
   "outputs": [
    {
     "name": "stdout",
     "output_type": "stream",
     "text": [
      "final.output.recovery : 0.32705873241331146\n",
      "rougher.output.concentrate_ag : 0.6613298609533822\n",
      "rougher.output.concentrate_pb : 0.5526222912970306\n",
      "rougher.output.concentrate_sol : 0.6015237195547048\n",
      "rougher.output.concentrate_au : 0.5796384870738654\n",
      "rougher.output.tail_pb : -0.304693273855074\n",
      "rougher.output.tail_au : -0.36084773329514847\n"
     ]
    }
   ],
   "source": [
    "# Найдем более показательные значения корреляции для каждого из целевого признака\n",
    "imp= ['rougher.output.recovery', 'final.output.recovery']\n",
    "def correlate (df):\n",
    "    for col in data_fl.columns[1:]:\n",
    "        if (0.3 < data_fl[df].corr(data_fl[col]) < 0.999) or (\n",
    "        -0.3 > data_fl[df].corr(data_fl[col]) > -0.999):\n",
    "            print(col,':', data_fl[df].corr(data_fl[col])) \n",
    "            \n",
    "targ=(correlate(df) for df in imp)\n",
    "\n",
    "# Корреляция для rougher.output.recovery\n",
    "next(targ)"
   ]
  },
  {
   "cell_type": "code",
   "execution_count": 18,
   "metadata": {},
   "outputs": [
    {
     "name": "stdout",
     "output_type": "stream",
     "text": [
      "final.output.tail_au : -0.40920046313498115\n",
      "primary_cleaner.input.sulfate : 0.35587749070523356\n",
      "primary_cleaner.output.tail_au : -0.3911059633978771\n",
      "rougher.input.floatbank10_xanthate : 0.3246689213172945\n",
      "rougher.input.floatbank11_xanthate : 0.311189932010934\n",
      "rougher.output.recovery : 0.32705873241331146\n",
      "rougher.output.tail_pb : -0.3170563151046096\n",
      "rougher.output.tail_au : -0.3133195768089696\n",
      "secondary_cleaner.output.tail_au : -0.3346956643369755\n"
     ]
    }
   ],
   "source": [
    "# Корреляция для final.output.recovery\n",
    "next(targ)"
   ]
  },
  {
   "cell_type": "markdown",
   "metadata": {},
   "source": [
    "Явной зависимости от каких-либо параметров не наблюдается, однако для rougher.output.recovery мы видим среднеположительную зависимость от концентрации металлов на выходе. Целевые признаки также слабо коррелируют между собой."
   ]
  },
  {
   "cell_type": "markdown",
   "metadata": {},
   "source": [
    "### Исследование изменений концентрации элементов на каждом этапе"
   ]
  },
  {
   "cell_type": "markdown",
   "metadata": {},
   "source": [
    "Посмотрим, как меняется концентрация элементов на каждом этапе. По условию задачи, надо проверить Au, Ag, Pb."
   ]
  },
  {
   "cell_type": "code",
   "execution_count": 19,
   "metadata": {},
   "outputs": [
    {
     "name": "stdout",
     "output_type": "stream",
     "text": [
      "Данные для  AU\n"
     ]
    },
    {
     "data": {
      "text/html": [
       "<div>\n",
       "<style scoped>\n",
       "    .dataframe tbody tr th:only-of-type {\n",
       "        vertical-align: middle;\n",
       "    }\n",
       "\n",
       "    .dataframe tbody tr th {\n",
       "        vertical-align: top;\n",
       "    }\n",
       "\n",
       "    .dataframe thead th {\n",
       "        text-align: right;\n",
       "    }\n",
       "</style>\n",
       "<table border=\"1\" class=\"dataframe\">\n",
       "  <thead>\n",
       "    <tr style=\"text-align: right;\">\n",
       "      <th></th>\n",
       "      <th>rougher.input.feed_au</th>\n",
       "      <th>rougher.output.concentrate_au</th>\n",
       "      <th>primary_cleaner.output.concentrate_au</th>\n",
       "      <th>final.output.concentrate_au</th>\n",
       "    </tr>\n",
       "  </thead>\n",
       "  <tbody>\n",
       "    <tr>\n",
       "      <th>count</th>\n",
       "      <td>19439.000000</td>\n",
       "      <td>19439.000000</td>\n",
       "      <td>19439.000000</td>\n",
       "      <td>19439.000000</td>\n",
       "    </tr>\n",
       "    <tr>\n",
       "      <th>mean</th>\n",
       "      <td>8.266097</td>\n",
       "      <td>19.772000</td>\n",
       "      <td>32.119400</td>\n",
       "      <td>44.076513</td>\n",
       "    </tr>\n",
       "    <tr>\n",
       "      <th>std</th>\n",
       "      <td>1.955092</td>\n",
       "      <td>3.753600</td>\n",
       "      <td>5.627611</td>\n",
       "      <td>5.129784</td>\n",
       "    </tr>\n",
       "    <tr>\n",
       "      <th>min</th>\n",
       "      <td>0.010000</td>\n",
       "      <td>0.000000</td>\n",
       "      <td>0.000000</td>\n",
       "      <td>0.000000</td>\n",
       "    </tr>\n",
       "    <tr>\n",
       "      <th>25%</th>\n",
       "      <td>6.854384</td>\n",
       "      <td>18.802523</td>\n",
       "      <td>30.463140</td>\n",
       "      <td>43.402215</td>\n",
       "    </tr>\n",
       "    <tr>\n",
       "      <th>50%</th>\n",
       "      <td>8.125839</td>\n",
       "      <td>20.280214</td>\n",
       "      <td>32.841295</td>\n",
       "      <td>45.011244</td>\n",
       "    </tr>\n",
       "    <tr>\n",
       "      <th>75%</th>\n",
       "      <td>9.769917</td>\n",
       "      <td>21.717843</td>\n",
       "      <td>35.048006</td>\n",
       "      <td>46.275313</td>\n",
       "    </tr>\n",
       "    <tr>\n",
       "      <th>max</th>\n",
       "      <td>13.731330</td>\n",
       "      <td>28.824507</td>\n",
       "      <td>45.933934</td>\n",
       "      <td>52.756638</td>\n",
       "    </tr>\n",
       "  </tbody>\n",
       "</table>\n",
       "</div>"
      ],
      "text/plain": [
       "       rougher.input.feed_au  rougher.output.concentrate_au  \\\n",
       "count           19439.000000                   19439.000000   \n",
       "mean                8.266097                      19.772000   \n",
       "std                 1.955092                       3.753600   \n",
       "min                 0.010000                       0.000000   \n",
       "25%                 6.854384                      18.802523   \n",
       "50%                 8.125839                      20.280214   \n",
       "75%                 9.769917                      21.717843   \n",
       "max                13.731330                      28.824507   \n",
       "\n",
       "       primary_cleaner.output.concentrate_au  final.output.concentrate_au  \n",
       "count                           19439.000000                 19439.000000  \n",
       "mean                               32.119400                    44.076513  \n",
       "std                                 5.627611                     5.129784  \n",
       "min                                 0.000000                     0.000000  \n",
       "25%                                30.463140                    43.402215  \n",
       "50%                                32.841295                    45.011244  \n",
       "75%                                35.048006                    46.275313  \n",
       "max                                45.933934                    52.756638  "
      ]
     },
     "metadata": {},
     "output_type": "display_data"
    },
    {
     "data": {
      "image/png": "[encoded data removed]",
      "text/plain": [
       "<Figure size 1080x1224 with 1 Axes>"
      ]
     },
     "metadata": {
      "needs_background": "light"
     },
     "output_type": "display_data"
    },
    {
     "name": "stdout",
     "output_type": "stream",
     "text": [
      "Данные для  AG\n"
     ]
    },
    {
     "data": {
      "text/html": [
       "<div>\n",
       "<style scoped>\n",
       "    .dataframe tbody tr th:only-of-type {\n",
       "        vertical-align: middle;\n",
       "    }\n",
       "\n",
       "    .dataframe tbody tr th {\n",
       "        vertical-align: top;\n",
       "    }\n",
       "\n",
       "    .dataframe thead th {\n",
       "        text-align: right;\n",
       "    }\n",
       "</style>\n",
       "<table border=\"1\" class=\"dataframe\">\n",
       "  <thead>\n",
       "    <tr style=\"text-align: right;\">\n",
       "      <th></th>\n",
       "      <th>rougher.input.feed_ag</th>\n",
       "      <th>rougher.output.concentrate_ag</th>\n",
       "      <th>primary_cleaner.output.concentrate_ag</th>\n",
       "      <th>final.output.concentrate_ag</th>\n",
       "    </tr>\n",
       "  </thead>\n",
       "  <tbody>\n",
       "    <tr>\n",
       "      <th>count</th>\n",
       "      <td>19439.000000</td>\n",
       "      <td>19439.000000</td>\n",
       "      <td>19439.000000</td>\n",
       "      <td>19439.000000</td>\n",
       "    </tr>\n",
       "    <tr>\n",
       "      <th>mean</th>\n",
       "      <td>8.794927</td>\n",
       "      <td>11.994759</td>\n",
       "      <td>8.442408</td>\n",
       "      <td>5.168387</td>\n",
       "    </tr>\n",
       "    <tr>\n",
       "      <th>std</th>\n",
       "      <td>1.936847</td>\n",
       "      <td>2.733862</td>\n",
       "      <td>2.054465</td>\n",
       "      <td>1.372362</td>\n",
       "    </tr>\n",
       "    <tr>\n",
       "      <th>min</th>\n",
       "      <td>0.010000</td>\n",
       "      <td>0.000000</td>\n",
       "      <td>0.000000</td>\n",
       "      <td>0.000000</td>\n",
       "    </tr>\n",
       "    <tr>\n",
       "      <th>25%</th>\n",
       "      <td>7.237967</td>\n",
       "      <td>10.628337</td>\n",
       "      <td>7.263288</td>\n",
       "      <td>4.251000</td>\n",
       "    </tr>\n",
       "    <tr>\n",
       "      <th>50%</th>\n",
       "      <td>8.593574</td>\n",
       "      <td>12.098115</td>\n",
       "      <td>8.507298</td>\n",
       "      <td>5.066039</td>\n",
       "    </tr>\n",
       "    <tr>\n",
       "      <th>75%</th>\n",
       "      <td>10.213771</td>\n",
       "      <td>13.736996</td>\n",
       "      <td>9.809001</td>\n",
       "      <td>5.895401</td>\n",
       "    </tr>\n",
       "    <tr>\n",
       "      <th>max</th>\n",
       "      <td>14.596026</td>\n",
       "      <td>24.480271</td>\n",
       "      <td>16.081632</td>\n",
       "      <td>16.001945</td>\n",
       "    </tr>\n",
       "  </tbody>\n",
       "</table>\n",
       "</div>"
      ],
      "text/plain": [
       "       rougher.input.feed_ag  rougher.output.concentrate_ag  \\\n",
       "count           19439.000000                   19439.000000   \n",
       "mean                8.794927                      11.994759   \n",
       "std                 1.936847                       2.733862   \n",
       "min                 0.010000                       0.000000   \n",
       "25%                 7.237967                      10.628337   \n",
       "50%                 8.593574                      12.098115   \n",
       "75%                10.213771                      13.736996   \n",
       "max                14.596026                      24.480271   \n",
       "\n",
       "       primary_cleaner.output.concentrate_ag  final.output.concentrate_ag  \n",
       "count                           19439.000000                 19439.000000  \n",
       "mean                                8.442408                     5.168387  \n",
       "std                                 2.054465                     1.372362  \n",
       "min                                 0.000000                     0.000000  \n",
       "25%                                 7.263288                     4.251000  \n",
       "50%                                 8.507298                     5.066039  \n",
       "75%                                 9.809001                     5.895401  \n",
       "max                                16.081632                    16.001945  "
      ]
     },
     "metadata": {},
     "output_type": "display_data"
    },
    {
     "data": {
      "image/png": "[encoded data removed]",
      "text/plain": [
       "<Figure size 1080x1224 with 1 Axes>"
      ]
     },
     "metadata": {},
     "output_type": "display_data"
    },
    {
     "name": "stdout",
     "output_type": "stream",
     "text": [
      "Данные для  PB\n"
     ]
    },
    {
     "data": {
      "text/html": [
       "<div>\n",
       "<style scoped>\n",
       "    .dataframe tbody tr th:only-of-type {\n",
       "        vertical-align: middle;\n",
       "    }\n",
       "\n",
       "    .dataframe tbody tr th {\n",
       "        vertical-align: top;\n",
       "    }\n",
       "\n",
       "    .dataframe thead th {\n",
       "        text-align: right;\n",
       "    }\n",
       "</style>\n",
       "<table border=\"1\" class=\"dataframe\">\n",
       "  <thead>\n",
       "    <tr style=\"text-align: right;\">\n",
       "      <th></th>\n",
       "      <th>rougher.input.feed_pb</th>\n",
       "      <th>rougher.output.concentrate_pb</th>\n",
       "      <th>primary_cleaner.output.concentrate_pb</th>\n",
       "      <th>final.output.concentrate_pb</th>\n",
       "    </tr>\n",
       "  </thead>\n",
       "  <tbody>\n",
       "    <tr>\n",
       "      <th>count</th>\n",
       "      <td>19439.000000</td>\n",
       "      <td>19439.000000</td>\n",
       "      <td>19439.000000</td>\n",
       "      <td>19439.000000</td>\n",
       "    </tr>\n",
       "    <tr>\n",
       "      <th>mean</th>\n",
       "      <td>3.585096</td>\n",
       "      <td>7.606272</td>\n",
       "      <td>9.810317</td>\n",
       "      <td>9.978821</td>\n",
       "    </tr>\n",
       "    <tr>\n",
       "      <th>std</th>\n",
       "      <td>1.062972</td>\n",
       "      <td>1.796757</td>\n",
       "      <td>2.572253</td>\n",
       "      <td>1.669228</td>\n",
       "    </tr>\n",
       "    <tr>\n",
       "      <th>min</th>\n",
       "      <td>0.010000</td>\n",
       "      <td>0.000000</td>\n",
       "      <td>0.000000</td>\n",
       "      <td>0.000000</td>\n",
       "    </tr>\n",
       "    <tr>\n",
       "      <th>25%</th>\n",
       "      <td>2.872178</td>\n",
       "      <td>6.725987</td>\n",
       "      <td>8.676500</td>\n",
       "      <td>9.137225</td>\n",
       "    </tr>\n",
       "    <tr>\n",
       "      <th>50%</th>\n",
       "      <td>3.528235</td>\n",
       "      <td>7.742580</td>\n",
       "      <td>10.142270</td>\n",
       "      <td>10.102264</td>\n",
       "    </tr>\n",
       "    <tr>\n",
       "      <th>75%</th>\n",
       "      <td>4.241005</td>\n",
       "      <td>8.565199</td>\n",
       "      <td>11.416298</td>\n",
       "      <td>11.035644</td>\n",
       "    </tr>\n",
       "    <tr>\n",
       "      <th>max</th>\n",
       "      <td>7.142594</td>\n",
       "      <td>13.617072</td>\n",
       "      <td>17.081278</td>\n",
       "      <td>17.031899</td>\n",
       "    </tr>\n",
       "  </tbody>\n",
       "</table>\n",
       "</div>"
      ],
      "text/plain": [
       "       rougher.input.feed_pb  rougher.output.concentrate_pb  \\\n",
       "count           19439.000000                   19439.000000   \n",
       "mean                3.585096                       7.606272   \n",
       "std                 1.062972                       1.796757   \n",
       "min                 0.010000                       0.000000   \n",
       "25%                 2.872178                       6.725987   \n",
       "50%                 3.528235                       7.742580   \n",
       "75%                 4.241005                       8.565199   \n",
       "max                 7.142594                      13.617072   \n",
       "\n",
       "       primary_cleaner.output.concentrate_pb  final.output.concentrate_pb  \n",
       "count                           19439.000000                 19439.000000  \n",
       "mean                                9.810317                     9.978821  \n",
       "std                                 2.572253                     1.669228  \n",
       "min                                 0.000000                     0.000000  \n",
       "25%                                 8.676500                     9.137225  \n",
       "50%                                10.142270                    10.102264  \n",
       "75%                                11.416298                    11.035644  \n",
       "max                                17.081278                    17.031899  "
      ]
     },
     "metadata": {},
     "output_type": "display_data"
    },
    {
     "data": {
      "image/png": "[encoded data removed]",
      "text/plain": [
       "<Figure size 1080x1224 with 1 Axes>"
      ]
     },
     "metadata": {},
     "output_type": "display_data"
    }
   ],
   "source": [
    "position=0\n",
    "for metal in ['au', 'ag', 'pb']:\n",
    "    print('Данные для ', str(metal).upper())\n",
    "    display(data_fl[['rougher.input.feed_'+metal, 'rougher.output.concentrate_'+metal,\n",
    "                     'primary_cleaner.output.concentrate_'+metal, 'final.output.concentrate_'+metal]].describe())\n",
    "    plt.figure(figsize=[15, 17])\n",
    "    position+=1\n",
    "    plt.subplot(3, 1 ,position)\n",
    "    plt.title(f'ГРАФИК РАСПРЕДЕЛЕНИЯ МЕТАЛЛА {str(metal).upper()} НА РАЗЛИЧНЫХ ЭТАПАХ ОЧИТСКИ', fontsize=13)\n",
    "    sns.set_style('darkgrid')\n",
    "    sns.histplot(data_tr[f'rougher.input.feed_{metal}'], color='y', label='Сырье', kde=False)\n",
    "    sns.histplot(data_tr[f'rougher.output.concentrate_{metal}'], color='b', label='Концентрация после флотации', kde=False)\n",
    "    sns.histplot(data_tr[f'primary_cleaner.output.concentrate_{metal}'], color='g', label='Концентрация после первичной очистки', kde=False)\n",
    "    sns.histplot(data_tr[f'final.output.concentrate_{metal}'], color='r', label='Финальная концетрация металла',kde=False)\n",
    "    plt.xlabel('Концентрация металла')\n",
    "    plt.ylabel('Количество наблюдений')\n",
    "    plt.legend()\n",
    "    plt.show()"
   ]
  },
  {
   "cell_type": "markdown",
   "metadata": {},
   "source": [
    "Исходя из полученных нами данных, видно, что концентрация Au после различных этапов на выходе имеет концентрацию выше, чем на начальном этапе.  Такая же картина примерно у Pb, после первичной очистки концентрация почти не меняется. Для Ag ситуация обратная. С каждым последующим этапом, концентрация металла падает, хотя после флотации, уровень Ag выше. Данные в цифрах можно увидеть в таблицах выше."
   ]
  },
  {
   "cell_type": "markdown",
   "metadata": {},
   "source": [
    "<div class=\"alert alert-success\"> ✅ \n",
    "<h3> Комментарий ревьюера v1</h3>\n",
    "\n",
    "Все верно. Концентрация золота увеличивается, значит, мы на верном пути =)\n",
    "\n"
   ]
  },
  {
   "cell_type": "markdown",
   "metadata": {},
   "source": [
    "### Анализ распределения размера гранул"
   ]
  },
  {
   "cell_type": "code",
   "execution_count": 26,
   "metadata": {},
   "outputs": [
    {
     "name": "stdout",
     "output_type": "stream",
     "text": [
      "ДАННЫЕ РАСПРЕДЕЛЕНИЯ ГРАНУЛ ДЛЯ ЭТАПА ROUGHER НА ОБУЧАЮЩЕЙ и ТЕСТОВОЙ ВЫБОРКАХ\n"
     ]
    },
    {
     "data": {
      "text/html": [
       "<div>\n",
       "<style scoped>\n",
       "    .dataframe tbody tr th:only-of-type {\n",
       "        vertical-align: middle;\n",
       "    }\n",
       "\n",
       "    .dataframe tbody tr th {\n",
       "        vertical-align: top;\n",
       "    }\n",
       "\n",
       "    .dataframe thead th {\n",
       "        text-align: right;\n",
       "    }\n",
       "</style>\n",
       "<table border=\"1\" class=\"dataframe\">\n",
       "  <thead>\n",
       "    <tr style=\"text-align: right;\">\n",
       "      <th>sample</th>\n",
       "      <th>test</th>\n",
       "      <th>train</th>\n",
       "    </tr>\n",
       "  </thead>\n",
       "  <tbody>\n",
       "    <tr>\n",
       "      <th>count</th>\n",
       "      <td>5290.000000</td>\n",
       "      <td>14149.000000</td>\n",
       "    </tr>\n",
       "    <tr>\n",
       "      <th>mean</th>\n",
       "      <td>55.952754</td>\n",
       "      <td>60.239856</td>\n",
       "    </tr>\n",
       "    <tr>\n",
       "      <th>std</th>\n",
       "      <td>19.080334</td>\n",
       "      <td>23.005310</td>\n",
       "    </tr>\n",
       "    <tr>\n",
       "      <th>min</th>\n",
       "      <td>0.046369</td>\n",
       "      <td>9.659576</td>\n",
       "    </tr>\n",
       "    <tr>\n",
       "      <th>25%</th>\n",
       "      <td>43.906504</td>\n",
       "      <td>48.966751</td>\n",
       "    </tr>\n",
       "    <tr>\n",
       "      <th>50%</th>\n",
       "      <td>50.846843</td>\n",
       "      <td>55.269784</td>\n",
       "    </tr>\n",
       "    <tr>\n",
       "      <th>75%</th>\n",
       "      <td>62.451165</td>\n",
       "      <td>66.007526</td>\n",
       "    </tr>\n",
       "    <tr>\n",
       "      <th>max</th>\n",
       "      <td>392.494040</td>\n",
       "      <td>484.967466</td>\n",
       "    </tr>\n",
       "  </tbody>\n",
       "</table>\n",
       "</div>"
      ],
      "text/plain": [
       "sample         test         train\n",
       "count   5290.000000  14149.000000\n",
       "mean      55.952754     60.239856\n",
       "std       19.080334     23.005310\n",
       "min        0.046369      9.659576\n",
       "25%       43.906504     48.966751\n",
       "50%       50.846843     55.269784\n",
       "75%       62.451165     66.007526\n",
       "max      392.494040    484.967466"
      ]
     },
     "metadata": {},
     "output_type": "display_data"
    },
    {
     "data": {
      "image/png": "[encoded data removed]",
      "text/plain": [
       "<Figure size 1080x432 with 2 Axes>"
      ]
     },
     "metadata": {},
     "output_type": "display_data"
    },
    {
     "name": "stdout",
     "output_type": "stream",
     "text": [
      "ДАННЫЕ РАСПРЕДЕЛЕНИЯ ГРАНУЛ ДЛЯ ЭТАПА PRIMARY_CLEANER НА ОБУЧАЮЩЕЙ и ТЕСТОВОЙ ВЫБОРКАХ\n"
     ]
    },
    {
     "data": {
      "text/html": [
       "<div>\n",
       "<style scoped>\n",
       "    .dataframe tbody tr th:only-of-type {\n",
       "        vertical-align: middle;\n",
       "    }\n",
       "\n",
       "    .dataframe tbody tr th {\n",
       "        vertical-align: top;\n",
       "    }\n",
       "\n",
       "    .dataframe thead th {\n",
       "        text-align: right;\n",
       "    }\n",
       "</style>\n",
       "<table border=\"1\" class=\"dataframe\">\n",
       "  <thead>\n",
       "    <tr style=\"text-align: right;\">\n",
       "      <th>sample</th>\n",
       "      <th>test</th>\n",
       "      <th>train</th>\n",
       "    </tr>\n",
       "  </thead>\n",
       "  <tbody>\n",
       "    <tr>\n",
       "      <th>count</th>\n",
       "      <td>5290.000000</td>\n",
       "      <td>14149.000000</td>\n",
       "    </tr>\n",
       "    <tr>\n",
       "      <th>mean</th>\n",
       "      <td>7.266339</td>\n",
       "      <td>7.322310</td>\n",
       "    </tr>\n",
       "    <tr>\n",
       "      <th>std</th>\n",
       "      <td>0.610219</td>\n",
       "      <td>0.614062</td>\n",
       "    </tr>\n",
       "    <tr>\n",
       "      <th>min</th>\n",
       "      <td>5.650000</td>\n",
       "      <td>1.080000</td>\n",
       "    </tr>\n",
       "    <tr>\n",
       "      <th>25%</th>\n",
       "      <td>6.890000</td>\n",
       "      <td>6.960000</td>\n",
       "    </tr>\n",
       "    <tr>\n",
       "      <th>50%</th>\n",
       "      <td>7.250000</td>\n",
       "      <td>7.290000</td>\n",
       "    </tr>\n",
       "    <tr>\n",
       "      <th>75%</th>\n",
       "      <td>7.600000</td>\n",
       "      <td>7.700000</td>\n",
       "    </tr>\n",
       "    <tr>\n",
       "      <th>max</th>\n",
       "      <td>15.500000</td>\n",
       "      <td>10.470000</td>\n",
       "    </tr>\n",
       "  </tbody>\n",
       "</table>\n",
       "</div>"
      ],
      "text/plain": [
       "sample         test         train\n",
       "count   5290.000000  14149.000000\n",
       "mean       7.266339      7.322310\n",
       "std        0.610219      0.614062\n",
       "min        5.650000      1.080000\n",
       "25%        6.890000      6.960000\n",
       "50%        7.250000      7.290000\n",
       "75%        7.600000      7.700000\n",
       "max       15.500000     10.470000"
      ]
     },
     "metadata": {},
     "output_type": "display_data"
    },
    {
     "data": {
      "image/png": "[encoded data removed]",
      "text/plain": [
       "<Figure size 1080x432 with 2 Axes>"
      ]
     },
     "metadata": {},
     "output_type": "display_data"
    }
   ],
   "source": [
    "# Построим графики и таблицы для лучшей визуализации данных\n",
    "df_train_copy=data_tr.copy()\n",
    "df_test_copy=data_tst.copy()\n",
    "\n",
    "df_train_copy['sample']='train'\n",
    "df_test_copy['sample']='test'\n",
    "df_total=pd.concat([df_train_copy, df_test_copy])\n",
    "\n",
    "for stage in ['rougher', 'primary_cleaner']: \n",
    "    print(f'ДАННЫЕ РАСПРЕДЕЛЕНИЯ ГРАНУЛ ДЛЯ ЭТАПА {str(stage).upper()} НА ОБУЧАЮЩЕЙ и ТЕСТОВОЙ ВЫБОРКАХ')\n",
    "    display(df_total.groupby('sample')[f'{stage}.input.feed_size'].describe().T)\n",
    "    \n",
    "    plt.figure(figsize=(15,6))\n",
    "    plt.subplot(1, 2, 1)\n",
    "    sns.histplot(data=df_total, x = f'{stage}.input.feed_size', hue='sample', element='step')\n",
    "    plt.title(f'ГРАФИК РАСПРЕДЕЛЕНИЯ ГРАНУЛ ДЛЯ ЭТАПА {str(stage).upper()} НА ОБУЧАЮЩЕЙ и ТЕСТОВОЙ ВЫБОРКАХ', fontsize=13)\n",
    "    plt.subplot(1, 2, 2)\n",
    "    sns.boxplot(data=df_total, x='sample', y=f'{stage}.input.feed_size')\n",
    "    plt.show()"
   ]
  },
  {
   "cell_type": "code",
   "execution_count": 33,
   "metadata": {},
   "outputs": [
    {
     "data": {
      "text/plain": [
       "<Figure size 1080x432 with 0 Axes>"
      ]
     },
     "metadata": {},
     "output_type": "display_data"
    },
    {
     "data": {
      "image/png": "[encoded data removed]",
      "text/plain": [
       "<Figure size 419.375x360 with 1 Axes>"
      ]
     },
     "metadata": {},
     "output_type": "display_data"
    }
   ],
   "source": [
    "# Построим график плотности для этапа rougher\n",
    "plt.figure(figsize=(15,6))\n",
    "sns.displot(data=df_total, x = 'rougher.input.feed_size', hue='sample', kind = 'kde') \n",
    "plt.title(f'ГРАФИК РАСПРЕДЕЛЕНИЯ ГРАНУЛ ДЛЯ ЭТАПА rougher НА ОБУЧАЮЩЕЙ и ТЕСТОВОЙ ВЫБОРКАХ', fontsize=13)\n",
    "plt.show()"
   ]
  },
  {
   "cell_type": "markdown",
   "metadata": {},
   "source": [
    "Размеры гранул на разных этапах отличаются между собой. Так на этапе флотации средний размер равен 56-60 усл.ед., а на этапе первичной очистке средний размер около 7 усл.ед. А если сравнивать распределение гранул между выборками, то разница видна хорошо, но только в  кол-ве наблюдений: в обучающей выборке намного больше, чем в тестовой.  Также, наблюдаются выбросы."
   ]
  },
  {
   "cell_type": "markdown",
   "metadata": {},
   "source": [
    "<div class=\"alert alert-danger\"> ❌\n",
    "<h3> Комментарий ревьюера v1</h3>\n",
    "\n",
    "Да, они действительно похожи. Только было бы корректнее строить графики плотности, так как количество данных в train/test датасетах отличается. Например, с помощью `sns.distplot()` или же просто добавить `density=True` в параметры `plt.hist()`.\n",
    "\n",
    "\n"
   ]
  },
  {
   "cell_type": "markdown",
   "metadata": {},
   "source": [
    "<div class=\"alert alert-info\"> \n",
    "<h3> Комментарий студента v1</h3>\n",
    "Привет! И спасибо большое за твои комментарии! Очень приятно) график я исправила, надеюсь правильно. Я правильно поняла, когда разное кол-во данных, лучше строить график плотности, чтобы лучше видеть? А есть ли вообще какие-то нормы этой корректности, чтобы дальше уже знать наверняка что лучше строить?"
   ]
  },
  {
   "cell_type": "markdown",
   "metadata": {},
   "source": [
    "<div class=\"alert alert-success\"> ✅ \n",
    "<h3> Комментарий ревьюера v2</h3>\n",
    "\n",
    "Привет снова =) Ты все поняла верно. Обычно гистограммы строят, когда нужно посмотреть распределения значений величин одной переменной. Если же нужно сравнивать распределения, то лучше графики плотности, чтобы количество данных не влияло "
   ]
  },
  {
   "cell_type": "markdown",
   "metadata": {},
   "source": [
    "### Исследование суммарных концентраций"
   ]
  },
  {
   "cell_type": "markdown",
   "metadata": {},
   "source": [
    "Посмотрим на суммарные концентрации всех веществ на разных этапах. Этапов всего 3: Сырье, черновая концентрация и финальная. Веществ в общей таблице мы нашли 4: Au, Ag, Pb, Sol(соли металлов)"
   ]
  },
  {
   "cell_type": "code",
   "execution_count": null,
   "metadata": {},
   "outputs": [],
   "source": [
    "# Найдем суммарные концентрации всех веществ на разных этапах\n",
    "\n",
    "sum_concentrate_of_rougher_input=0 # концентрация сырья\n",
    "sum_concentrate_of_rougher_output=0 # концентрация после флотации\n",
    "#sum_concentrate_of_primary_cleaner=0 # концентрация после первой очистки ( не знаю, стоит ли ее выводить для анализа, мне не понравились значения)\n",
    "sum_concentrate_of_finale=0 # конечная концентрация\n",
    "\n",
    "for stuff in ['au', 'ag', 'pb', 'sol']:\n",
    "    sum_concentrate_of_rougher_input+=data_fl[f'rougher.input.feed_{stuff}']\n",
    "    sum_concentrate_of_rougher_output+=data_fl[f'rougher.output.concentrate_{stuff}']\n",
    "    #sum_concentrate_of_primary_cleaner+=data_fl[f'primary_cleaner.output.concentrate_{stuff}']\n",
    "    sum_concentrate_of_finale+=data_fl[f'final.output.concentrate_{stuff}']\n",
    "    \n",
    "# Построим графики для визуализации\n",
    "plt.figure(figsize=(15,9))\n",
    "plt.suptitle('ГРАФИК СУММАРНОЙ КОНЦЕНТРАЦИИ ВЕЩЕСТВ НА РАЗНЫХ СТАДИЯХ.', fontsize=15)\n",
    "sns.set_style('darkgrid')\n",
    "sns.histplot(sum_concentrate_of_rougher_input, color='y', label='Сырье', kde='False')\n",
    "sns.histplot(sum_concentrate_of_rougher_output, color='b', label='После флотации', kde='False')\n",
    "#sns.histplot(sum_concentrate_of_primary_cleaner, color='g', label='После первой очистки', kde='False')\n",
    "sns.histplot(sum_concentrate_of_finale, color='r', label='Финальная', kde='False')\n",
    "plt.xlabel('Концентрация веществ')\n",
    "plt.ylabel('Количество наблюдений')\n",
    "plt.legend()\n",
    "plt.show()"
   ]
  },
  {
   "cell_type": "markdown",
   "metadata": {},
   "source": [
    "Как мы видим, суммарная концентрация веществ растет после каждой последующей стадии. На выходе продукт имеет меньший диапазон концентрации, что может давать более точные показания. Также присутствуют аномалии в виде нулевых значений. Лучше всего их удалить"
   ]
  },
  {
   "cell_type": "code",
   "execution_count": null,
   "metadata": {},
   "outputs": [],
   "source": [
    "# Удалим эти аномальные значения в тренировочной и общей выборках\n",
    "\n",
    "data_fl = data_fl[(data_fl['rougher.output.concentrate_au'] != 0) &\n",
    "                  (data_fl['rougher.output.concentrate_ag'] != 0) &\n",
    "                  (data_fl['rougher.output.concentrate_pb'] != 0) & \n",
    "                  (data_fl['rougher.output.concentrate_sol'] != 0)]\n",
    "data_fl = data_fl[(data_fl['final.output.concentrate_au'] != 0) &\n",
    "                  (data_fl['final.output.concentrate_ag'] != 0) &\n",
    "                  (data_fl['final.output.concentrate_pb'] != 0) & \n",
    "                  (data_fl['final.output.concentrate_sol'] !=0)]\n",
    "\n",
    "data_tr = data_tr[(data_tr['rougher.output.concentrate_au'] != 0) &\n",
    "                    (data_tr['rougher.output.concentrate_ag'] != 0) & \n",
    "                    (data_tr['rougher.output.concentrate_pb'] != 0) &\n",
    "                    (data_tr['rougher.output.concentrate_sol'] != 0)]\n",
    "\n",
    "data_tr = data_tr[(data_tr['final.output.concentrate_au'] != 0) &\n",
    "                    (data_tr['final.output.concentrate_ag'] != 0) & \n",
    "                    (data_tr['final.output.concentrate_pb'] != 0) &\n",
    "                    (data_tr['final.output.concentrate_sol'] != 0)]"
   ]
  },
  {
   "cell_type": "markdown",
   "metadata": {},
   "source": [
    "<div class=\"alert alert-success\"> ✅ \n",
    "<h3> Комментарий ревьюера v1</h3>\n",
    "\n",
    "Все верно, такие выбросы маловероятны, лучше их убрать.\n"
   ]
  },
  {
   "cell_type": "markdown",
   "metadata": {},
   "source": [
    "### Вывод"
   ]
  },
  {
   "cell_type": "markdown",
   "metadata": {},
   "source": [
    "- Распределения гранул на обучающей и тестовой выборках значительных различий не имеют. Разница только в кол-ве наблюдений.\n",
    "\n",
    "- Доля золота увеличивается по мере прохождения этапов очистки.\n",
    "\n",
    "- В анализе суммарной концентрации веществ на разных стадиях виден рост концентрации после каждого этапа, а также были выявлены аномалии, которые были удалены для улучшения качества будущих моделей прогнозирования."
   ]
  },
  {
   "cell_type": "markdown",
   "metadata": {},
   "source": [
    "<div class=\"alert alert-success\"> ✅ \n",
    "<h3> Комментарий ревьюера v1</h3>\n",
    "\n",
    "Хороший анализ данных: верные выводы и наглядные графики (но можно сделать чуть нагляднее =) )\n"
   ]
  },
  {
   "cell_type": "markdown",
   "metadata": {},
   "source": [
    "## Модель"
   ]
  },
  {
   "cell_type": "markdown",
   "metadata": {},
   "source": [
    "### Подготовка"
   ]
  },
  {
   "cell_type": "markdown",
   "metadata": {},
   "source": [
    "Формула для расчета sMAPE:\n",
    "$$ sMAPE = \\frac{1}{N}\\sum_{i=1}^N\\frac{|y_i-\\hat{y_i}|}{(|y_i|+|\\hat{y_i}|)/2}*100 \\% $$\n",
    "\n",
    "где:\n",
    "- $y_i$-значение целевого признака для объекта с порядковым номером i в выборке, на которой измеряется качество.\n",
    "- $\\hat{y_i}$-значение предсказания для объекта с порядковым номером i в тестовой выборке\n",
    "- $N$-кол-во объектов в выборке\n",
    "- $\\sum_{i=1}^N$-суммирование по всем объектам выборки( i= от 1 до N)\n",
    "\n",
    "\n",
    "Итоговая метрика складывается из двух величин:\n",
    "\n",
    "$$ sMAPE(итоговое) = 25\\%*sMAPE(rougher)+75\\%*sMAPE(final) $$"
   ]
  },
  {
   "cell_type": "code",
   "execution_count": null,
   "metadata": {},
   "outputs": [],
   "source": [
    "# Напишем функцю для вычисления sMAPE\n",
    "\n",
    "def get_smape(target, predict):\n",
    "    smape = (1/len(target))*np.sum((np.abs(target - predict))/( (np.abs(target)+np.abs(predict))/2))*100\n",
    "    return smape\n",
    "\n",
    "smape_scorer = make_scorer(get_smape, greater_is_better = False)"
   ]
  },
  {
   "cell_type": "markdown",
   "metadata": {},
   "source": [
    "<div class=\"alert alert-success\"> ✅ \n",
    "<h3> Комментарий ревьюера v1</h3>\n",
    "\n",
    "1) Хорошо, что делаешь все рассчеты векторно, а не в цикле. Иначе это будет занимать достаточно много времени. Если интересно, то вот статья про векторизацию в пандас:\n",
    "\n",
    "https://medium.com/nuances-of-programming/%D1%8D%D1%84%D1%84%D0%B5%D0%BA%D1%82%D0%B8%D0%B2%D0%BD%D0%BE%D0%B5-%D0%B8%D1%82%D0%B5%D1%80%D0%B8%D1%80%D0%BE%D0%B2%D0%B0%D0%BD%D0%B8%D0%B5-%D0%BF%D0%BE-%D1%81%D1%82%D1%80%D0%BE%D0%BA%D0%B0%D0%BC-%D0%B2-pandas-dataframe-43aa7d2588cb\n",
    "    \n",
    "2) `greater_is_better=False` - отлично! Обычно забывают, что нам нужно минимизировать функцию, а дефолтно она максимизируется=)\n",
    "\n",
    "<div class=\"alert alert-warning\"> ⚠️\n",
    "\n",
    "Немного про кастомный скоринг и параметр `greater_is_better=False` в `make_scorer` : вот очень хорошая статья - https://kiwidamien.github.io/custom-loss-vs-custom-scoring.html\n",
    "    \n",
    "Если кратко, то твой результат при использовании cross_val_score со своей метрикой и флагом `greater_is_better=False` остается таким же, только с отрицательным значением (знак минус - особенность библиотечной реализации скорера, можно брать значения по модулю), так как есть метрика (по которой мы выбираем модель) и есть лосс (по которой обучается модель). Так вот make_scorer создает метрику из лосса, по которой ты выбираешь лучшую модель, но сама модель будет обучаться по встроенной функции потерь (скорее всего MSE), так что это нужно только для выбора модели. Просто принято ставить флаг greater_is_better=False для метрик, которые являются лоссами (не все метрики лоссы, например, recall, precision и тп).\n",
    "    \n",
    "НО если ты используешься гридсерч, то `greater_is_better=False` нужно указывать обязательно, так как best_estimator_ выбирает лучшую модель по метрике уже самостоятельно =)\n",
    "\n"
   ]
  },
  {
   "cell_type": "code",
   "execution_count": null,
   "metadata": {},
   "outputs": [],
   "source": [
    "# Напишем функцию для вычисления итоговой sMAPE.\n",
    "\n",
    "def get_final_smape(rougher, final):\n",
    "    final = 0.25*rougher+0.75*final\n",
    "    return final"
   ]
  },
  {
   "cell_type": "code",
   "execution_count": null,
   "metadata": {},
   "outputs": [],
   "source": [
    "# Прежде чем переходить к обучению модели, удалим все столбцы,которые отсутствуют в тестовом наборе \n",
    "data_tr.drop(variance_test, axis=1)#, inplace=True)\n",
    "data_tr.shape"
   ]
  },
  {
   "cell_type": "code",
   "execution_count": null,
   "metadata": {},
   "outputs": [],
   "source": [
    "# И удалим неинформативный столбец date, а так же выборки, которых нет в тестовой, мы удалим\n",
    "data_tr= data_tr.drop('date', axis=1)\n",
    "data_tst = data_tst.drop('date', axis=1)\n",
    "\n",
    "# а так же выборки, которых нет в тестовой, мы удалим из тренировочной\n",
    "data_tr = data_tr.drop(columns=variance_test, axis=1)"
   ]
  },
  {
   "cell_type": "code",
   "execution_count": null,
   "metadata": {},
   "outputs": [],
   "source": [
    "# Подготовим выборки для обучения\n",
    "\n",
    "features_for_train_df = data_tr.drop(['rougher.output.recovery','final.output.recovery'], axis=1)\n",
    "target_for_rougher_on_train_df = data_tr['rougher.output.recovery']\n",
    "target_for_final_on_train_df = data_tr['final.output.recovery']\n",
    "\n",
    "features_for_test_df = data_tst.drop(['rougher.output.recovery','final.output.recovery'], axis=1)\n",
    "target_for_rougher_on_test_df = data_tst['rougher.output.recovery']\n",
    "target_for_final_on_test_df = data_tst['final.output.recovery']"
   ]
  },
  {
   "cell_type": "markdown",
   "metadata": {},
   "source": [
    "Теперь выберем несколько моделей для обучения"
   ]
  },
  {
   "cell_type": "markdown",
   "metadata": {},
   "source": [
    "### Обучение моделей"
   ]
  },
  {
   "cell_type": "code",
   "execution_count": null,
   "metadata": {},
   "outputs": [],
   "source": [
    "state = RandomState(12345)\n",
    "list_with_scores = {}"
   ]
  },
  {
   "cell_type": "code",
   "execution_count": null,
   "metadata": {},
   "outputs": [],
   "source": [
    "# проверим модель Линейная Регрессия\n",
    "\n",
    "model_lr_rougher = LinearRegression()\n",
    "smape_rougher = cross_val_score(model_lr_rougher,\n",
    "                          features_for_train_df,\n",
    "                          target_for_rougher_on_train_df,\n",
    "                          scoring=smape_scorer,\n",
    "                          cv=5)\n",
    "final_smape_rougher = smape_rougher.mean()\n",
    "model_lr_final = LinearRegression()\n",
    "smape_final = cross_val_score(model_lr_final,\n",
    "                        features_for_train_df,\n",
    "                        target_for_final_on_train_df,\n",
    "                        scoring=smape_scorer,\n",
    "                        cv=5)\n",
    "final_smape_final = smape_final.mean()\n",
    "result_smape = get_final_smape(final_smape_rougher, final_smape_final)*(-1)\n",
    "list_with_scores['LR'] = [result_smape]\n",
    "\n",
    "print('Результат',list_with_scores['LR'])"
   ]
  },
  {
   "cell_type": "code",
   "execution_count": null,
   "metadata": {},
   "outputs": [],
   "source": [
    "# Построим модель Дерево решений и подберем параметры методом кросс-валидации\n",
    "best_model_dt=100\n",
    "best_parametrs_dt=0\n",
    "for depth in range(1, 10, 1):\n",
    "    model_dt_rougher=DecisionTreeRegressor(random_state=state, max_depth=depth)\n",
    "    smape_rougher_dt=abs(cross_val_score(model_dt_rougher,\n",
    "                                           features_for_train_df,\n",
    "                                           target_for_rougher_on_train_df,\n",
    "                                           scoring=smape_scorer,\n",
    "                                           cv=5).mean())\n",
    "    model_dt_final= DecisionTreeRegressor(max_depth=depth, random_state=state)\n",
    "    smape_final_dt=abs(cross_val_score(model_dt_final,\n",
    "                                  features_for_train_df,\n",
    "                                  target_for_final_on_train_df,\n",
    "                                  scoring=smape_scorer,\n",
    "                                  cv=5).mean())\n",
    "    result_smape_dt=get_final_smape(smape_rougher_dt, smape_final_dt)\n",
    "    if result_smape_dt < best_model_dt:\n",
    "        best_model_dt=result_smape_dt\n",
    "        best_parametrs_dt=[depth]\n",
    "list_with_scores['DT']=[best_model_dt, best_parametrs_dt]     \n",
    "\n",
    "print('\\nЛУЧШИЕ ПАРАМЕТРЫ ДЛЯ МОДЕЛИ DT: MAX_DEPTH - {}'.format(list_with_scores['DT'][1][0]))\n"
   ]
  },
  {
   "cell_type": "markdown",
   "metadata": {},
   "source": [
    "<div class=\"alert alert-warning\"> ⚠️\n",
    "<h3> Комментарий ревьюера v1</h3>\n",
    "\n",
    "Для перебора можно было использовать гридсерч, там тоже есть параметр scoring, куда можно записать кастомный скорер с твоей метрикой.\n",
    "    \n",
    "\n",
    "`from sklearn.metrics import make_scorer`\n",
    "       \n",
    "`smape_scorer = make_scorer(smape, greater_is_better=False)`\n",
    "\n",
    "`grid = GridSearchCV(…, scoring=smape_scorer, …)`\n",
    "\n",
    "Затем best_params и best_estimator_ будут выдавать лучшие параметры и модель относительно нашей метрики\n",
    "\n",
    "ПС Обычный GridSearchCV довольно долго делает расчеты, так как проверяет все комбинации. На практике обычно какие-то параметры сильно важнее других, поэтому по ним нет особого смысла итерироваться, поэтому рекомендую использовать RandomizedSearchCV. Скорее всего ты немного просядешь по метрикам, зато сильно выиграешь в скорости обучения. А еще очень советую изучить, как работать с либой optuna для подбора параметров\n",
    "\n"
   ]
  },
  {
   "cell_type": "markdown",
   "metadata": {},
   "source": [
    "<div class=\"alert alert-info\"> ⚠️\n",
    "<h3> Комментарий студента v1</h3>\n",
    "    \n",
    "На самом деле я хотела вообще использовать что-то другое, но в условии сказано использовать кросс-валидацию, и я больше ничего не придумала)    "
   ]
  },
  {
   "cell_type": "markdown",
   "metadata": {},
   "source": [
    "<div class=\"alert alert-success\"> ✅ \n",
    "<h3> Комментарий ревьюера v2</h3>\n",
    "\n",
    "Ничего плохого в обычной кросс-валидации. Гридсерч внутри тоже проводит кросс-валидацию, нужно просто указать параметр `cv`"
   ]
  },
  {
   "cell_type": "code",
   "execution_count": null,
   "metadata": {},
   "outputs": [],
   "source": [
    " # Построим модель Случайный Лес и подберем его лучшие параметры кросс-валидацией\n",
    "    \n",
    "best_model_rf=100\n",
    "best_parametrs_rf=0\n",
    "for est in range(10,100,40):#очень долго считал вместе с глубиной, убрала пока.\n",
    "    for depth in range(2,10,2):\n",
    "        model_rf_rougher= RandomForestRegressor(n_estimators=est, max_depth=depth, random_state=state)\n",
    "        smape_rougher_rf = abs(cross_val_score(model_rf_rougher,\n",
    "                                features_for_train_df,\n",
    "                                target_for_rougher_on_train_df,\n",
    "                                scoring=smape_scorer,\n",
    "                                cv=5).mean())\n",
    "    model_rf_final= RandomForestRegressor(n_estimators=est, max_depth=depth, random_state=state)\n",
    "    smape_final_rf=abs(cross_val_score(model_rf_final,\n",
    "                                features_for_train_df,\n",
    "                                target_for_final_on_train_df,\n",
    "                                scoring=smape_scorer,\n",
    "                                cv=5).mean())\n",
    "    result_smape_rf=get_final_smape(smape_rougher_rf, smape_final_rf)\n",
    "    if result_smape_rf < best_model_rf:\n",
    "        best_model_rf=result_smape_rf\n",
    "        best_parametrs_rf=[est, depth]\n",
    "list_with_scores['RF']=[best_model_rf, best_parametrs_rf]            \n",
    "\n",
    "\n",
    "#Код запускала, но он долго высчитывал, около минут 40"
   ]
  },
  {
   "cell_type": "code",
   "execution_count": null,
   "metadata": {},
   "outputs": [],
   "source": [
    "print('\\nЛУЧШИЕ ПАРАМЕТРЫ ДЛЯ МОДЕЛИ RF: N_ESTIMATORS - {}, MAX_DEPTH - {}'.format(list_with_scores['RF'][1][0], list_with_scores['RF'][1][1]))"
   ]
  },
  {
   "cell_type": "code",
   "execution_count": null,
   "metadata": {},
   "outputs": [],
   "source": [
    "for key in list_with_scores.keys():\n",
    "    print(f'\\nМОДЕЛЬ {str(key).upper()} С РЕЗУЛЬТАТОМ - {list_with_scores[key][0]}')"
   ]
  },
  {
   "cell_type": "markdown",
   "metadata": {},
   "source": [
    "<div class=\"alert alert-warning\"> ⚠️\n",
    "<h3> Комментарий ревьюера v1</h3>\n",
    "\n",
    "Я бы для такой задачки еще использовал catboost. Советую почитать-поразбираться, как эта штука запускается. Примерно так же, как рандом форест, на самом деле. И еще он может \"съесть\" категориальные фичи (например, страну и тп). Оставлю ссылочку на статью на Хабре:\n",
    "https://habr.com/ru/company/otus/blog/527554/\n",
    "\n",
    "Еще можно попробовать регрессионые модели с регуляризацией: Ridge, Lasso. Они отличаются только тем, что у одной модели L1, а у второй L2 регуляризация. И еще есть ElasticNet с комбинацией L1 и L2. Можешь подробнее почитать о них и в целом о линейных моделях в учебнике по МЛ от ШАД вот в этой главе: \n",
    "    \n",
    "https://academy.yandex.ru/handbook/ml/article/linear-models\n"
   ]
  },
  {
   "cell_type": "markdown",
   "metadata": {},
   "source": [
    "<div class=\"alert alert-info\"> ⚠️\n",
    "<h3> Комментарий студента v1</h3>\n",
    "    \n",
    "Спасибо! я давно хотела узнать, что это за модель, но никак не могла толком найти нужную информацию. В следующий раз я обязательно ее испытаю"
   ]
  },
  {
   "cell_type": "markdown",
   "metadata": {},
   "source": [
    "Теперь проверим нашу модель на тестовой выборке"
   ]
  },
  {
   "cell_type": "code",
   "execution_count": null,
   "metadata": {},
   "outputs": [],
   "source": [
    "model_test_rougher=DecisionTreeRegressor(random_state=state, max_depth=3)\n",
    "model_test_rougher.fit(features_for_train_df, target_for_rougher_on_train_df)\n",
    "predict_rougher=model_test_rougher.predict(features_for_test_df)\n",
    "\n",
    "model_test_final=DecisionTreeRegressor(random_state=state, max_depth=3)\n",
    "model_test_final.fit(features_for_train_df, target_for_final_on_train_df)\n",
    "predict_final=model_test_final.predict(features_for_test_df)\n",
    "\n",
    "smape_test_rougher=get_smape(target_for_rougher_on_test_df, predict_rougher)\n",
    "smape_test_final=get_smape(target_for_final_on_test_df, predict_final)\n",
    "smape_final=get_final_smape(smape_test_rougher, smape_test_final)\n",
    "\n",
    "print(f'\\nSMAPE ДЛЯ ТЕСТОВОЙ ВЫБОРКИ СОСТАВЛЯЕТ - {smape_final}')"
   ]
  },
  {
   "cell_type": "code",
   "execution_count": null,
   "metadata": {},
   "outputs": [],
   "source": [
    "# Проверим модель на адекватность\n",
    "dummy_regr_for_rougher = DummyRegressor(strategy=\"mean\")\n",
    "dummy_regr_for_final = DummyRegressor(strategy=\"mean\")\n",
    "\n",
    "dummy_regr_for_rougher.fit(features_for_train_df, target_for_rougher_on_train_df)\n",
    "dummy_regr_for_final.fit(features_for_train_df, target_for_final_on_train_df)\n",
    "\n",
    "dummy_predicted_rougher = dummy_regr_for_rougher.predict(features_for_test_df)\n",
    "dummy_predicted_final = dummy_regr_for_final.predict(features_for_test_df)\n",
    "\n",
    "smape_for_const_rougher = get_smape(target_for_rougher_on_test_df, dummy_predicted_rougher)\n",
    "smape_for_const_final = get_smape(target_for_final_on_test_df, dummy_predicted_final)\n",
    "\n",
    "final_smape_for_const = get_final_smape(smape_for_const_rougher, smape_for_const_final)\n",
    "print(f'\\nПОКАЗАТЕЛЬ SMAPE ДЛЯ КОНСТАНТНОЙ МОДЕЛИ - {final_smape_for_const}')"
   ]
  },
  {
   "cell_type": "markdown",
   "metadata": {},
   "source": [
    "<div class=\"alert alert-success\"> ✅ \n",
    "<h3> Комментарий ревьюера v1</h3>\n",
    "\n",
    "Здорово, что сравниваешь модель с константной! Из одного значения метрики не ясно, насколько адекватны предсказания моделей\n",
    "\n"
   ]
  },
  {
   "cell_type": "markdown",
   "metadata": {},
   "source": [
    "Показатель на константной модели получился выше, чем на нашей тестовой моделе Дерево Решений. Это значит, модель обучена хорошо"
   ]
  },
  {
   "cell_type": "markdown",
   "metadata": {},
   "source": [
    "## Вывод"
   ]
  },
  {
   "cell_type": "code",
   "execution_count": null,
   "metadata": {},
   "outputs": [],
   "source": [
    "feature_importance = model_test_final.feature_importances_\n",
    "sorted_idx = np.argsort(feature_importance)\n",
    "pos = np.arange(sorted_idx.shape[0])\n",
    "fig = plt.figure(figsize=(12, 6))\n",
    "plt.subplot(1, 2, 1)\n",
    "plt.barh(pos, feature_importance[sorted_idx], align=\"center\")\n",
    "plt.yticks(pos, np.array(features_for_train_df.columns)[sorted_idx])\n",
    "plt.title(\"Feature Importance \")\n",
    "\n",
    "result = permutation_importance(\n",
    "    model_test_final, features_for_train_df, target_for_final_on_train_df, n_repeats=10, random_state=12345, n_jobs=2\n",
    ")\n",
    "sorted_idx = result.importances_mean.argsort()\n",
    "plt.subplot(1, 2, 2)\n",
    "plt.boxplot(\n",
    "    result.importances[sorted_idx].T,\n",
    "    vert=False,\n",
    "    labels=np.array(features_for_train_df.columns)[sorted_idx],\n",
    ")\n",
    "plt.title(\"Permutation Importance \")\n",
    "fig.tight_layout()\n",
    "plt.show()\n",
    "\n",
    "# не получается у меня обрезать по значениям"
   ]
  },
  {
   "cell_type": "markdown",
   "metadata": {},
   "source": [
    "Мы получили данные от компании «Цифра». Это были сырые данные, разбитые на 3 датасета. Перед нами стояла задача, спроектировать модель для обучения на основе этих данных, которая предскажет коэффициент восстановления золота из золотосодержащей руды. \n",
    "\n",
    "Для начала мы проверили достоверность формулы расчета, сами расчитали Эффективность обогащения и сравнили уже с полученными заранее данными. Провели предобработку данных, уточнили параметры в выборках, сделали все для того, чтобы наша модель работала правильно.\n",
    "\n",
    "В ходе работы мы проанализировали данные, а именно:\n",
    "- Проанализировали распределение металлов в сырье, черновом продукте и финальном. Было установленно, чтов ходе последовательных этапов, концентрация золота увеличивается.\n",
    "- Также было замечено, что на различных этапах производства, размел гранул тех же металлов уменьшается.\n",
    "- Суммарная концентрация после этапа флотации остается неизменным.\n",
    "\n",
    "\n",
    "На финальном этапе нашего анализа мы исследовали 3 модели для обучения. LinearRegression, DecisionTree,  RandomForest. Лучший результат показала модель DecisionTree.  Именно ее мы и протестировали. Результатом оказались довольны - модель обучена хорошо.\n",
    "\n",
    "Как мы видим на гистограмме, есть несколько признаков, которые в значительной степени влияют на хорошие показания финального продутка. А именно изначальная загрузка вторичного сырья( Серебро, сульфид натрия, ксантогенат) и размер исходных гранул."
   ]
  },
  {
   "cell_type": "markdown",
   "metadata": {},
   "source": [
    "## Чек-лист готовности проекта"
   ]
  },
  {
   "cell_type": "markdown",
   "metadata": {},
   "source": [
    "### - [x]  Jupyter Notebook открыт\n",
    "- [x]  Весь код выполняется без ошибок\n",
    "- [x]  Ячейки с кодом расположены в порядке выполнения\n",
    "- [x]  Выполнен шаг 1: данные подготовлены\n",
    "    - [x]  Проверена формула вычисления эффективности обогащения\n",
    "    - [x]  Проанализированы признаки, недоступные в тестовой выборке\n",
    "    - [x]  Проведена предобработка данных\n",
    "- [x]  Выполнен шаг 2: данные проанализированы\n",
    "    - [x]  Исследовано изменение концентрации элементов на каждом этапе\n",
    "    - [x]  Проанализированы распределения размеров гранул на обучающей и тестовой выборках\n",
    "    - [x]  Исследованы суммарные концентрации\n",
    "- [x]  Выполнен шаг 3: построена модель прогнозирования\n",
    "    - [x]  Написана функция для вычисления итогового *sMAPE*\n",
    "    - [x]  Обучено и проверено несколько моделей\n",
    "    - [x]  Выбрана лучшая модель, её качество проверено на тестовой выборке"
   ]
  },
  {
   "cell_type": "markdown",
   "metadata": {},
   "source": [
    "<div class=\"alert alert-block alert-info\">\n",
    "<h3> Итоговый комментарий</h3>\n",
    "\n",
    "Большое спасибо за проделанную работу. Видно, что приложено много усилий. Работа в целом и каждый шаг в отдельности сделаны хорошо. Я оставил несколько советов, надеюсь они будут учтены в этом или будущих проектах. Осталось построить графики плотности при сравнении размеров гранул сырья в анализе данных, затем я смогу принять проект =)\n",
    "\n"
   ]
  },
  {
   "cell_type": "markdown",
   "metadata": {},
   "source": [
    "<div class=\"alert alert-block alert-info\">\n",
    "<h3> комментарий студента</h3>\n",
    "Тебе огромное спасибо!!"
   ]
  },
  {
   "cell_type": "markdown",
   "metadata": {},
   "source": [
    "<div class=\"alert alert-success\"> ✅ \n",
    "<h3> Комментарий ревьюера v2</h3>\n",
    "\n",
    "Спасибо за ответные комментарии и исправления! Успехов в следующих проектах! Если остались еще вопросы, смело пиши мне в Пачке или тг =)\n",
    "\n"
   ]
  },
  {
   "cell_type": "code",
   "execution_count": null,
   "metadata": {},
   "outputs": [],
   "source": []
  }
 ],
 "metadata": {
  "ExecuteTimeLog": [
   {
    "duration": 1663,
    "start_time": "2023-04-11T09:32:57.601Z"
   },
   {
    "duration": 39,
    "start_time": "2023-04-11T09:32:59.266Z"
   },
   {
    "duration": 135,
    "start_time": "2023-04-11T09:38:04.036Z"
   },
   {
    "duration": 96,
    "start_time": "2023-04-11T09:38:06.224Z"
   },
   {
    "duration": 18,
    "start_time": "2023-04-11T09:38:26.747Z"
   },
   {
    "duration": 3047,
    "start_time": "2023-04-11T09:39:43.490Z"
   },
   {
    "duration": 74,
    "start_time": "2023-04-11T09:39:54.117Z"
   },
   {
    "duration": 697,
    "start_time": "2023-04-11T09:42:28.327Z"
   },
   {
    "duration": 45,
    "start_time": "2023-04-11T09:44:35.840Z"
   },
   {
    "duration": 10,
    "start_time": "2023-04-11T10:24:01.395Z"
   },
   {
    "duration": 18,
    "start_time": "2023-04-11T10:25:33.012Z"
   },
   {
    "duration": 29,
    "start_time": "2023-04-11T10:25:49.238Z"
   },
   {
    "duration": 75,
    "start_time": "2023-04-11T10:26:38.831Z"
   },
   {
    "duration": 23,
    "start_time": "2023-04-11T10:27:41.365Z"
   },
   {
    "duration": 40,
    "start_time": "2023-04-11T10:27:47.245Z"
   },
   {
    "duration": 249,
    "start_time": "2023-04-11T10:34:51.193Z"
   },
   {
    "duration": 249,
    "start_time": "2023-04-11T10:34:59.801Z"
   },
   {
    "duration": 28,
    "start_time": "2023-04-11T10:36:05.969Z"
   },
   {
    "duration": 1640,
    "start_time": "2023-04-12T05:59:08.098Z"
   },
   {
    "duration": 39,
    "start_time": "2023-04-12T05:59:09.741Z"
   },
   {
    "duration": 3026,
    "start_time": "2023-04-12T05:59:09.781Z"
   },
   {
    "duration": 86,
    "start_time": "2023-04-12T05:59:12.809Z"
   },
   {
    "duration": 41,
    "start_time": "2023-04-12T05:59:12.897Z"
   },
   {
    "duration": 17,
    "start_time": "2023-04-12T05:59:12.940Z"
   },
   {
    "duration": 262,
    "start_time": "2023-04-12T05:59:12.958Z"
   },
   {
    "duration": 34,
    "start_time": "2023-04-12T05:59:13.222Z"
   },
   {
    "duration": 26,
    "start_time": "2023-04-12T06:01:55.519Z"
   },
   {
    "duration": 133,
    "start_time": "2023-04-12T06:03:16.894Z"
   },
   {
    "duration": 28,
    "start_time": "2023-04-12T06:05:01.826Z"
   },
   {
    "duration": 10,
    "start_time": "2023-04-12T06:05:36.717Z"
   },
   {
    "duration": 23,
    "start_time": "2023-04-12T06:06:59.828Z"
   },
   {
    "duration": 22,
    "start_time": "2023-04-12T06:07:34.682Z"
   },
   {
    "duration": 21,
    "start_time": "2023-04-12T06:08:20.422Z"
   },
   {
    "duration": 20,
    "start_time": "2023-04-12T07:44:14.540Z"
   },
   {
    "duration": 9,
    "start_time": "2023-04-12T07:55:05.746Z"
   },
   {
    "duration": 4179,
    "start_time": "2023-04-12T08:00:08.869Z"
   },
   {
    "duration": 0,
    "start_time": "2023-04-12T08:00:13.050Z"
   },
   {
    "duration": 0,
    "start_time": "2023-04-12T08:00:13.051Z"
   },
   {
    "duration": 0,
    "start_time": "2023-04-12T08:00:13.052Z"
   },
   {
    "duration": 0,
    "start_time": "2023-04-12T08:00:13.054Z"
   },
   {
    "duration": 0,
    "start_time": "2023-04-12T08:00:13.055Z"
   },
   {
    "duration": 0,
    "start_time": "2023-04-12T08:00:13.056Z"
   },
   {
    "duration": 0,
    "start_time": "2023-04-12T08:00:13.057Z"
   },
   {
    "duration": 0,
    "start_time": "2023-04-12T08:00:13.058Z"
   },
   {
    "duration": 2395,
    "start_time": "2023-04-12T08:00:25.773Z"
   },
   {
    "duration": 534,
    "start_time": "2023-04-12T08:00:28.170Z"
   },
   {
    "duration": 718,
    "start_time": "2023-04-12T08:00:28.706Z"
   },
   {
    "duration": 103,
    "start_time": "2023-04-12T08:00:29.426Z"
   },
   {
    "duration": 54,
    "start_time": "2023-04-12T08:00:29.531Z"
   },
   {
    "duration": 15,
    "start_time": "2023-04-12T08:00:29.586Z"
   },
   {
    "duration": 305,
    "start_time": "2023-04-12T08:00:29.603Z"
   },
   {
    "duration": 32,
    "start_time": "2023-04-12T08:00:29.910Z"
   },
   {
    "duration": 1648,
    "start_time": "2023-04-12T08:00:29.944Z"
   },
   {
    "duration": 8,
    "start_time": "2023-04-12T08:02:02.394Z"
   },
   {
    "duration": 4,
    "start_time": "2023-04-12T09:07:50.459Z"
   },
   {
    "duration": 203,
    "start_time": "2023-04-12T09:08:30.895Z"
   },
   {
    "duration": 3,
    "start_time": "2023-04-12T09:08:36.250Z"
   },
   {
    "duration": 4,
    "start_time": "2023-04-12T09:08:46.311Z"
   },
   {
    "duration": 3,
    "start_time": "2023-04-12T09:08:50.721Z"
   },
   {
    "duration": 49,
    "start_time": "2023-04-12T12:59:07.848Z"
   },
   {
    "duration": 2704,
    "start_time": "2023-04-12T13:11:39.797Z"
   },
   {
    "duration": 63,
    "start_time": "2023-04-12T13:11:42.504Z"
   },
   {
    "duration": 3886,
    "start_time": "2023-04-12T13:11:42.569Z"
   },
   {
    "duration": 109,
    "start_time": "2023-04-12T13:11:46.458Z"
   },
   {
    "duration": 82,
    "start_time": "2023-04-12T13:11:46.570Z"
   },
   {
    "duration": 22,
    "start_time": "2023-04-12T13:11:46.655Z"
   },
   {
    "duration": 335,
    "start_time": "2023-04-12T13:11:46.680Z"
   },
   {
    "duration": 49,
    "start_time": "2023-04-12T13:11:47.018Z"
   },
   {
    "duration": 21,
    "start_time": "2023-04-12T13:11:47.070Z"
   },
   {
    "duration": 8,
    "start_time": "2023-04-12T13:11:47.094Z"
   },
   {
    "duration": 6,
    "start_time": "2023-04-12T13:11:47.104Z"
   },
   {
    "duration": 12,
    "start_time": "2023-04-12T13:11:47.111Z"
   },
   {
    "duration": 55,
    "start_time": "2023-04-12T13:11:47.124Z"
   },
   {
    "duration": 1518,
    "start_time": "2023-04-12T13:29:49.269Z"
   },
   {
    "duration": 58,
    "start_time": "2023-04-12T13:29:50.789Z"
   },
   {
    "duration": 723,
    "start_time": "2023-04-12T13:29:50.850Z"
   },
   {
    "duration": 105,
    "start_time": "2023-04-12T13:29:51.575Z"
   },
   {
    "duration": 66,
    "start_time": "2023-04-12T13:29:51.682Z"
   },
   {
    "duration": 19,
    "start_time": "2023-04-12T13:29:51.751Z"
   },
   {
    "duration": 287,
    "start_time": "2023-04-12T13:29:51.772Z"
   },
   {
    "duration": 30,
    "start_time": "2023-04-12T13:29:52.061Z"
   },
   {
    "duration": 8,
    "start_time": "2023-04-12T13:29:52.093Z"
   },
   {
    "duration": 36,
    "start_time": "2023-04-12T13:29:52.103Z"
   },
   {
    "duration": 12,
    "start_time": "2023-04-12T13:29:52.141Z"
   },
   {
    "duration": 51,
    "start_time": "2023-04-12T13:29:52.156Z"
   },
   {
    "duration": 20,
    "start_time": "2023-04-12T13:35:35.109Z"
   },
   {
    "duration": 767,
    "start_time": "2023-04-12T13:39:52.023Z"
   },
   {
    "duration": 4,
    "start_time": "2023-04-12T13:41:18.453Z"
   },
   {
    "duration": 16,
    "start_time": "2023-04-12T13:41:50.610Z"
   },
   {
    "duration": 741,
    "start_time": "2023-04-12T13:41:51.901Z"
   },
   {
    "duration": 442,
    "start_time": "2023-04-12T14:04:38.846Z"
   },
   {
    "duration": 336,
    "start_time": "2023-04-12T14:04:53.816Z"
   },
   {
    "duration": 372,
    "start_time": "2023-04-12T14:07:01.904Z"
   },
   {
    "duration": 1549,
    "start_time": "2023-04-13T08:36:34.452Z"
   },
   {
    "duration": 25,
    "start_time": "2023-04-13T08:36:36.004Z"
   },
   {
    "duration": 1766,
    "start_time": "2023-04-13T08:36:36.031Z"
   },
   {
    "duration": 84,
    "start_time": "2023-04-13T08:36:37.799Z"
   },
   {
    "duration": 52,
    "start_time": "2023-04-13T08:36:37.884Z"
   },
   {
    "duration": 14,
    "start_time": "2023-04-13T08:36:37.938Z"
   },
   {
    "duration": 289,
    "start_time": "2023-04-13T08:36:37.954Z"
   },
   {
    "duration": 31,
    "start_time": "2023-04-13T08:36:38.245Z"
   },
   {
    "duration": 20,
    "start_time": "2023-04-13T08:36:38.278Z"
   },
   {
    "duration": 4,
    "start_time": "2023-04-13T08:36:38.301Z"
   },
   {
    "duration": 21,
    "start_time": "2023-04-13T08:36:38.306Z"
   },
   {
    "duration": 26,
    "start_time": "2023-04-13T08:36:38.329Z"
   },
   {
    "duration": 19,
    "start_time": "2023-04-13T08:36:38.356Z"
   },
   {
    "duration": 669,
    "start_time": "2023-04-13T08:36:38.377Z"
   },
   {
    "duration": 121,
    "start_time": "2023-04-13T08:36:39.048Z"
   },
   {
    "duration": 0,
    "start_time": "2023-04-13T08:36:39.171Z"
   },
   {
    "duration": 9,
    "start_time": "2023-04-13T08:37:58.635Z"
   },
   {
    "duration": 12,
    "start_time": "2023-04-13T08:38:06.824Z"
   },
   {
    "duration": 24,
    "start_time": "2023-04-13T08:38:13.417Z"
   },
   {
    "duration": 11,
    "start_time": "2023-04-13T08:40:01.058Z"
   },
   {
    "duration": 383,
    "start_time": "2023-04-13T08:40:42.957Z"
   },
   {
    "duration": 377,
    "start_time": "2023-04-13T08:40:58.227Z"
   },
   {
    "duration": 413,
    "start_time": "2023-04-13T08:43:30.015Z"
   },
   {
    "duration": 40311,
    "start_time": "2023-04-13T08:45:27.742Z"
   },
   {
    "duration": 35976,
    "start_time": "2023-04-13T08:46:57.634Z"
   },
   {
    "duration": 1045,
    "start_time": "2023-04-13T08:47:50.276Z"
   },
   {
    "duration": 1144,
    "start_time": "2023-04-13T08:49:30.854Z"
   },
   {
    "duration": 1070,
    "start_time": "2023-04-13T08:50:40.115Z"
   },
   {
    "duration": 58,
    "start_time": "2023-04-13T08:55:53.312Z"
   },
   {
    "duration": 71,
    "start_time": "2023-04-13T08:58:16.022Z"
   },
   {
    "duration": 111,
    "start_time": "2023-04-13T08:59:30.915Z"
   },
   {
    "duration": 46,
    "start_time": "2023-04-13T08:59:45.943Z"
   },
   {
    "duration": 59,
    "start_time": "2023-04-13T08:59:55.382Z"
   },
   {
    "duration": 48,
    "start_time": "2023-04-13T09:01:14.873Z"
   },
   {
    "duration": 55,
    "start_time": "2023-04-13T09:01:31.926Z"
   },
   {
    "duration": 52,
    "start_time": "2023-04-13T09:01:40.158Z"
   },
   {
    "duration": 59,
    "start_time": "2023-04-13T09:01:58.072Z"
   },
   {
    "duration": 44,
    "start_time": "2023-04-13T09:03:03.486Z"
   },
   {
    "duration": 71,
    "start_time": "2023-04-13T09:03:17.116Z"
   },
   {
    "duration": 174,
    "start_time": "2023-04-13T09:03:26.975Z"
   },
   {
    "duration": 3,
    "start_time": "2023-04-13T09:04:38.727Z"
   },
   {
    "duration": 4,
    "start_time": "2023-04-13T09:04:58.577Z"
   },
   {
    "duration": 46,
    "start_time": "2023-04-13T09:06:03.378Z"
   },
   {
    "duration": 46,
    "start_time": "2023-04-13T09:06:15.775Z"
   },
   {
    "duration": 55,
    "start_time": "2023-04-13T09:06:25.930Z"
   },
   {
    "duration": 45,
    "start_time": "2023-04-13T09:06:32.125Z"
   },
   {
    "duration": 89,
    "start_time": "2023-04-13T09:07:14.817Z"
   },
   {
    "duration": 10,
    "start_time": "2023-04-13T09:12:17.324Z"
   },
   {
    "duration": 90,
    "start_time": "2023-04-13T09:13:29.903Z"
   },
   {
    "duration": 92,
    "start_time": "2023-04-13T09:13:54.319Z"
   },
   {
    "duration": 11,
    "start_time": "2023-04-13T09:14:39.986Z"
   },
   {
    "duration": 16,
    "start_time": "2023-04-13T09:14:57.807Z"
   },
   {
    "duration": 87,
    "start_time": "2023-04-13T09:15:05.564Z"
   },
   {
    "duration": 82,
    "start_time": "2023-04-13T09:16:46.338Z"
   },
   {
    "duration": 83,
    "start_time": "2023-04-13T09:17:15.904Z"
   },
   {
    "duration": 119,
    "start_time": "2023-04-13T09:17:23.513Z"
   },
   {
    "duration": 49,
    "start_time": "2023-04-13T09:17:40.161Z"
   },
   {
    "duration": 49,
    "start_time": "2023-04-13T09:17:52.713Z"
   },
   {
    "duration": 168,
    "start_time": "2023-04-13T09:18:02.310Z"
   },
   {
    "duration": 54,
    "start_time": "2023-04-13T09:18:26.606Z"
   },
   {
    "duration": 50,
    "start_time": "2023-04-13T09:18:35.978Z"
   },
   {
    "duration": 43,
    "start_time": "2023-04-13T09:18:43.204Z"
   },
   {
    "duration": 119,
    "start_time": "2023-04-13T09:18:51.483Z"
   },
   {
    "duration": 10,
    "start_time": "2023-04-13T09:23:30.253Z"
   },
   {
    "duration": 43,
    "start_time": "2023-04-13T09:23:32.225Z"
   },
   {
    "duration": 52,
    "start_time": "2023-04-13T09:24:05.956Z"
   },
   {
    "duration": 51,
    "start_time": "2023-04-13T09:24:46.058Z"
   },
   {
    "duration": 4,
    "start_time": "2023-04-13T09:25:13.515Z"
   },
   {
    "duration": 9,
    "start_time": "2023-04-13T09:25:15.805Z"
   },
   {
    "duration": 107,
    "start_time": "2023-04-13T09:42:42.273Z"
   },
   {
    "duration": 109,
    "start_time": "2023-04-13T09:43:51.850Z"
   },
   {
    "duration": 49,
    "start_time": "2023-04-13T09:52:33.310Z"
   },
   {
    "duration": 45,
    "start_time": "2023-04-13T09:53:07.710Z"
   },
   {
    "duration": 67,
    "start_time": "2023-04-13T09:53:29.149Z"
   },
   {
    "duration": 48,
    "start_time": "2023-04-13T09:53:52.360Z"
   },
   {
    "duration": 50,
    "start_time": "2023-04-13T09:54:09.914Z"
   },
   {
    "duration": 27,
    "start_time": "2023-04-13T09:54:17.737Z"
   },
   {
    "duration": 89,
    "start_time": "2023-04-13T09:55:26.651Z"
   },
   {
    "duration": 88,
    "start_time": "2023-04-13T09:55:37.069Z"
   },
   {
    "duration": 3,
    "start_time": "2023-04-13T10:18:58.402Z"
   },
   {
    "duration": 25,
    "start_time": "2023-04-13T10:27:59.930Z"
   },
   {
    "duration": 133,
    "start_time": "2023-04-13T10:29:27.796Z"
   },
   {
    "duration": 3401,
    "start_time": "2023-04-13T10:30:04.006Z"
   },
   {
    "duration": 3200,
    "start_time": "2023-04-13T10:30:47.729Z"
   },
   {
    "duration": 3679,
    "start_time": "2023-04-13T10:35:43.423Z"
   },
   {
    "duration": 3458,
    "start_time": "2023-04-13T10:40:09.998Z"
   },
   {
    "duration": 4164,
    "start_time": "2023-04-13T10:40:38.099Z"
   },
   {
    "duration": 62,
    "start_time": "2023-04-13T10:41:23.502Z"
   },
   {
    "duration": 47,
    "start_time": "2023-04-13T10:44:18.755Z"
   },
   {
    "duration": 3227,
    "start_time": "2023-04-13T10:44:47.204Z"
   },
   {
    "duration": 74,
    "start_time": "2023-04-13T13:25:07.635Z"
   },
   {
    "duration": 2949,
    "start_time": "2023-04-13T13:25:14.941Z"
   },
   {
    "duration": 550,
    "start_time": "2023-04-13T13:25:17.892Z"
   },
   {
    "duration": 3994,
    "start_time": "2023-04-13T13:25:18.444Z"
   },
   {
    "duration": 84,
    "start_time": "2023-04-13T13:25:22.441Z"
   },
   {
    "duration": 50,
    "start_time": "2023-04-13T13:25:22.526Z"
   },
   {
    "duration": 65,
    "start_time": "2023-04-13T13:25:22.578Z"
   },
   {
    "duration": 321,
    "start_time": "2023-04-13T13:25:22.645Z"
   },
   {
    "duration": 48,
    "start_time": "2023-04-13T13:25:22.968Z"
   },
   {
    "duration": 8,
    "start_time": "2023-04-13T13:25:23.018Z"
   },
   {
    "duration": 13,
    "start_time": "2023-04-13T13:25:23.028Z"
   },
   {
    "duration": 46,
    "start_time": "2023-04-13T13:25:23.042Z"
   },
   {
    "duration": 57,
    "start_time": "2023-04-13T13:25:23.090Z"
   },
   {
    "duration": 17,
    "start_time": "2023-04-13T13:25:23.150Z"
   },
   {
    "duration": 676,
    "start_time": "2023-04-13T13:25:23.169Z"
   },
   {
    "duration": 1425,
    "start_time": "2023-04-13T13:25:23.847Z"
   },
   {
    "duration": 73,
    "start_time": "2023-04-13T13:25:25.274Z"
   },
   {
    "duration": 74,
    "start_time": "2023-04-13T13:25:25.356Z"
   },
   {
    "duration": 3152,
    "start_time": "2023-04-13T13:25:25.432Z"
   },
   {
    "duration": 748,
    "start_time": "2023-04-13T13:25:28.585Z"
   },
   {
    "duration": 0,
    "start_time": "2023-04-13T13:25:29.334Z"
   },
   {
    "duration": 914,
    "start_time": "2023-04-13T13:38:24.370Z"
   },
   {
    "duration": 947,
    "start_time": "2023-04-13T13:47:39.728Z"
   },
   {
    "duration": 579,
    "start_time": "2023-04-13T13:49:09.275Z"
   },
   {
    "duration": 707,
    "start_time": "2023-04-13T13:49:29.476Z"
   },
   {
    "duration": 904,
    "start_time": "2023-04-13T13:50:19.130Z"
   },
   {
    "duration": 405,
    "start_time": "2023-04-13T13:50:44.889Z"
   },
   {
    "duration": 853,
    "start_time": "2023-04-13T13:51:10.662Z"
   },
   {
    "duration": 1232,
    "start_time": "2023-04-13T13:52:58.576Z"
   },
   {
    "duration": 999,
    "start_time": "2023-04-13T13:53:23.299Z"
   },
   {
    "duration": 709,
    "start_time": "2023-04-13T13:54:19.023Z"
   },
   {
    "duration": 988,
    "start_time": "2023-04-13T13:55:15.882Z"
   },
   {
    "duration": 888,
    "start_time": "2023-04-13T13:55:40.624Z"
   },
   {
    "duration": 808,
    "start_time": "2023-04-13T13:56:57.575Z"
   },
   {
    "duration": 1926,
    "start_time": "2023-04-13T13:57:17.481Z"
   },
   {
    "duration": 282,
    "start_time": "2023-04-13T13:57:19.408Z"
   },
   {
    "duration": 3796,
    "start_time": "2023-04-13T13:57:19.692Z"
   },
   {
    "duration": 100,
    "start_time": "2023-04-13T13:57:23.490Z"
   },
   {
    "duration": 47,
    "start_time": "2023-04-13T13:57:23.593Z"
   },
   {
    "duration": 36,
    "start_time": "2023-04-13T13:57:23.656Z"
   },
   {
    "duration": 285,
    "start_time": "2023-04-13T13:57:23.694Z"
   },
   {
    "duration": 31,
    "start_time": "2023-04-13T13:57:23.982Z"
   },
   {
    "duration": 8,
    "start_time": "2023-04-13T13:57:24.015Z"
   },
   {
    "duration": 31,
    "start_time": "2023-04-13T13:57:24.025Z"
   },
   {
    "duration": 30,
    "start_time": "2023-04-13T13:57:24.068Z"
   },
   {
    "duration": 29,
    "start_time": "2023-04-13T13:57:24.100Z"
   },
   {
    "duration": 45,
    "start_time": "2023-04-13T13:57:24.131Z"
   },
   {
    "duration": 634,
    "start_time": "2023-04-13T13:57:24.180Z"
   },
   {
    "duration": 1280,
    "start_time": "2023-04-13T13:57:24.816Z"
   },
   {
    "duration": 112,
    "start_time": "2023-04-13T13:57:26.098Z"
   },
   {
    "duration": 98,
    "start_time": "2023-04-13T13:57:26.212Z"
   },
   {
    "duration": 3007,
    "start_time": "2023-04-13T13:57:26.311Z"
   },
   {
    "duration": 964,
    "start_time": "2023-04-13T13:57:29.320Z"
   },
   {
    "duration": 154,
    "start_time": "2023-04-13T13:57:30.287Z"
   },
   {
    "duration": 853,
    "start_time": "2023-04-13T13:57:45.998Z"
   },
   {
    "duration": 432,
    "start_time": "2023-04-13T14:01:24.611Z"
   },
   {
    "duration": 428,
    "start_time": "2023-04-13T14:02:33.402Z"
   },
   {
    "duration": 474,
    "start_time": "2023-04-13T14:04:06.166Z"
   },
   {
    "duration": 445,
    "start_time": "2023-04-13T14:04:15.592Z"
   },
   {
    "duration": 545,
    "start_time": "2023-04-13T14:04:22.635Z"
   },
   {
    "duration": 272,
    "start_time": "2023-04-13T14:05:14.791Z"
   },
   {
    "duration": 208,
    "start_time": "2023-04-13T14:05:20.021Z"
   },
   {
    "duration": 476,
    "start_time": "2023-04-13T14:06:23.287Z"
   },
   {
    "duration": 549,
    "start_time": "2023-04-13T14:06:34.496Z"
   },
   {
    "duration": 973,
    "start_time": "2023-04-13T14:08:24.697Z"
   },
   {
    "duration": 452,
    "start_time": "2023-04-13T14:09:41.395Z"
   },
   {
    "duration": 299,
    "start_time": "2023-04-13T14:10:41.424Z"
   },
   {
    "duration": 2759,
    "start_time": "2023-04-13T15:23:59.680Z"
   },
   {
    "duration": 2225,
    "start_time": "2023-04-13T15:36:20.208Z"
   },
   {
    "duration": 18,
    "start_time": "2023-04-13T16:03:05.391Z"
   },
   {
    "duration": 23,
    "start_time": "2023-04-13T16:03:16.897Z"
   },
   {
    "duration": 18,
    "start_time": "2023-04-13T16:03:36.223Z"
   },
   {
    "duration": 496,
    "start_time": "2023-04-13T16:04:22.012Z"
   },
   {
    "duration": 418,
    "start_time": "2023-04-13T16:04:33.911Z"
   },
   {
    "duration": 429,
    "start_time": "2023-04-13T16:04:45.926Z"
   },
   {
    "duration": 478,
    "start_time": "2023-04-13T16:05:17.217Z"
   },
   {
    "duration": 75,
    "start_time": "2023-04-13T16:05:38.234Z"
   },
   {
    "duration": 54,
    "start_time": "2023-04-13T16:13:59.992Z"
   },
   {
    "duration": 2125,
    "start_time": "2023-04-13T16:14:05.495Z"
   },
   {
    "duration": 161,
    "start_time": "2023-04-13T16:14:07.622Z"
   },
   {
    "duration": 4607,
    "start_time": "2023-04-13T16:14:07.797Z"
   },
   {
    "duration": 104,
    "start_time": "2023-04-13T16:14:12.405Z"
   },
   {
    "duration": 59,
    "start_time": "2023-04-13T16:14:12.512Z"
   },
   {
    "duration": 30,
    "start_time": "2023-04-13T16:14:12.579Z"
   },
   {
    "duration": 313,
    "start_time": "2023-04-13T16:14:12.612Z"
   },
   {
    "duration": 78,
    "start_time": "2023-04-13T16:14:12.928Z"
   },
   {
    "duration": 10,
    "start_time": "2023-04-13T16:14:13.009Z"
   },
   {
    "duration": 12,
    "start_time": "2023-04-13T16:14:13.021Z"
   },
   {
    "duration": 79,
    "start_time": "2023-04-13T16:14:13.035Z"
   },
   {
    "duration": 28,
    "start_time": "2023-04-13T16:14:13.117Z"
   },
   {
    "duration": 40,
    "start_time": "2023-04-13T16:14:13.147Z"
   },
   {
    "duration": 655,
    "start_time": "2023-04-13T16:14:13.190Z"
   },
   {
    "duration": 1487,
    "start_time": "2023-04-13T16:14:13.857Z"
   },
   {
    "duration": 155,
    "start_time": "2023-04-13T16:14:15.347Z"
   },
   {
    "duration": 107,
    "start_time": "2023-04-13T16:14:15.511Z"
   },
   {
    "duration": 3525,
    "start_time": "2023-04-13T16:14:15.620Z"
   },
   {
    "duration": 991,
    "start_time": "2023-04-13T16:14:19.147Z"
   },
   {
    "duration": 305,
    "start_time": "2023-04-13T16:14:20.140Z"
   },
   {
    "duration": 2169,
    "start_time": "2023-04-13T16:14:20.446Z"
   },
   {
    "duration": 2262,
    "start_time": "2023-04-13T16:14:22.617Z"
   },
   {
    "duration": 219,
    "start_time": "2023-04-13T16:14:24.884Z"
   },
   {
    "duration": 403,
    "start_time": "2023-04-13T16:15:30.380Z"
   },
   {
    "duration": 2035,
    "start_time": "2023-04-13T16:16:36.407Z"
   },
   {
    "duration": 1943,
    "start_time": "2023-04-13T16:17:27.892Z"
   },
   {
    "duration": 29,
    "start_time": "2023-04-13T16:18:01.485Z"
   },
   {
    "duration": 194,
    "start_time": "2023-04-13T16:18:29.610Z"
   },
   {
    "duration": 2657,
    "start_time": "2023-04-13T16:29:26.114Z"
   },
   {
    "duration": 2265,
    "start_time": "2023-04-13T16:30:08.931Z"
   },
   {
    "duration": 1569,
    "start_time": "2023-04-13T16:30:29.906Z"
   },
   {
    "duration": 59,
    "start_time": "2023-04-13T16:30:31.477Z"
   },
   {
    "duration": 704,
    "start_time": "2023-04-13T16:30:31.537Z"
   },
   {
    "duration": 88,
    "start_time": "2023-04-13T16:30:32.243Z"
   },
   {
    "duration": 51,
    "start_time": "2023-04-13T16:30:32.333Z"
   },
   {
    "duration": 15,
    "start_time": "2023-04-13T16:30:32.385Z"
   },
   {
    "duration": 270,
    "start_time": "2023-04-13T16:30:32.401Z"
   },
   {
    "duration": 25,
    "start_time": "2023-04-13T16:30:32.673Z"
   },
   {
    "duration": 8,
    "start_time": "2023-04-13T16:30:32.699Z"
   },
   {
    "duration": 9,
    "start_time": "2023-04-13T16:30:32.709Z"
   },
   {
    "duration": 18,
    "start_time": "2023-04-13T16:30:32.720Z"
   },
   {
    "duration": 42,
    "start_time": "2023-04-13T16:30:32.740Z"
   },
   {
    "duration": 15,
    "start_time": "2023-04-13T16:30:32.783Z"
   },
   {
    "duration": 595,
    "start_time": "2023-04-13T16:30:32.801Z"
   },
   {
    "duration": 1153,
    "start_time": "2023-04-13T16:30:33.398Z"
   },
   {
    "duration": 86,
    "start_time": "2023-04-13T16:30:34.552Z"
   },
   {
    "duration": 77,
    "start_time": "2023-04-13T16:30:34.640Z"
   },
   {
    "duration": 2872,
    "start_time": "2023-04-13T16:30:34.719Z"
   },
   {
    "duration": 894,
    "start_time": "2023-04-13T16:30:37.592Z"
   },
   {
    "duration": 251,
    "start_time": "2023-04-13T16:30:38.488Z"
   },
   {
    "duration": 1924,
    "start_time": "2023-04-13T16:30:38.740Z"
   },
   {
    "duration": 37,
    "start_time": "2023-04-13T16:30:40.665Z"
   },
   {
    "duration": 123,
    "start_time": "2023-04-13T16:30:40.704Z"
   },
   {
    "duration": 11,
    "start_time": "2023-04-13T16:40:35.520Z"
   },
   {
    "duration": 17,
    "start_time": "2023-04-13T16:40:50.592Z"
   },
   {
    "duration": 1709,
    "start_time": "2023-04-13T16:41:23.220Z"
   },
   {
    "duration": 59,
    "start_time": "2023-04-13T16:41:24.931Z"
   },
   {
    "duration": 714,
    "start_time": "2023-04-13T16:41:24.993Z"
   },
   {
    "duration": 83,
    "start_time": "2023-04-13T16:41:25.708Z"
   },
   {
    "duration": 61,
    "start_time": "2023-04-13T16:41:25.794Z"
   },
   {
    "duration": 16,
    "start_time": "2023-04-13T16:41:25.860Z"
   },
   {
    "duration": 271,
    "start_time": "2023-04-13T16:41:25.878Z"
   },
   {
    "duration": 28,
    "start_time": "2023-04-13T16:41:26.150Z"
   },
   {
    "duration": 8,
    "start_time": "2023-04-13T16:41:26.180Z"
   },
   {
    "duration": 5,
    "start_time": "2023-04-13T16:41:26.189Z"
   },
   {
    "duration": 6,
    "start_time": "2023-04-13T16:41:26.196Z"
   },
   {
    "duration": 50,
    "start_time": "2023-04-13T16:41:26.204Z"
   },
   {
    "duration": 19,
    "start_time": "2023-04-13T16:41:26.256Z"
   },
   {
    "duration": 602,
    "start_time": "2023-04-13T16:41:26.278Z"
   },
   {
    "duration": 1211,
    "start_time": "2023-04-13T16:41:26.881Z"
   },
   {
    "duration": 83,
    "start_time": "2023-04-13T16:41:28.094Z"
   },
   {
    "duration": 82,
    "start_time": "2023-04-13T16:41:28.179Z"
   },
   {
    "duration": 2950,
    "start_time": "2023-04-13T16:41:28.264Z"
   },
   {
    "duration": 879,
    "start_time": "2023-04-13T16:41:31.216Z"
   },
   {
    "duration": 277,
    "start_time": "2023-04-13T16:41:32.096Z"
   },
   {
    "duration": 1893,
    "start_time": "2023-04-13T16:41:32.374Z"
   },
   {
    "duration": 30,
    "start_time": "2023-04-13T16:41:34.268Z"
   },
   {
    "duration": 132,
    "start_time": "2023-04-13T16:41:34.300Z"
   },
   {
    "duration": 0,
    "start_time": "2023-04-13T16:41:34.434Z"
   },
   {
    "duration": 0,
    "start_time": "2023-04-13T16:41:34.435Z"
   },
   {
    "duration": 0,
    "start_time": "2023-04-13T16:41:34.435Z"
   },
   {
    "duration": 1425,
    "start_time": "2023-04-13T16:44:31.678Z"
   },
   {
    "duration": 95,
    "start_time": "2023-04-13T16:44:33.105Z"
   },
   {
    "duration": 711,
    "start_time": "2023-04-13T16:44:33.202Z"
   },
   {
    "duration": 89,
    "start_time": "2023-04-13T16:44:33.914Z"
   },
   {
    "duration": 60,
    "start_time": "2023-04-13T16:44:34.005Z"
   },
   {
    "duration": 20,
    "start_time": "2023-04-13T16:44:34.067Z"
   },
   {
    "duration": 293,
    "start_time": "2023-04-13T16:44:34.088Z"
   },
   {
    "duration": 30,
    "start_time": "2023-04-13T16:44:34.383Z"
   },
   {
    "duration": 12,
    "start_time": "2023-04-13T16:44:34.415Z"
   },
   {
    "duration": 39,
    "start_time": "2023-04-13T16:44:34.430Z"
   },
   {
    "duration": 12,
    "start_time": "2023-04-13T16:44:34.471Z"
   },
   {
    "duration": 31,
    "start_time": "2023-04-13T16:44:34.484Z"
   },
   {
    "duration": 38,
    "start_time": "2023-04-13T16:44:34.517Z"
   },
   {
    "duration": 715,
    "start_time": "2023-04-13T16:44:34.557Z"
   },
   {
    "duration": 1230,
    "start_time": "2023-04-13T16:44:35.274Z"
   },
   {
    "duration": 108,
    "start_time": "2023-04-13T16:44:36.506Z"
   },
   {
    "duration": 86,
    "start_time": "2023-04-13T16:44:36.616Z"
   },
   {
    "duration": 2875,
    "start_time": "2023-04-13T16:44:36.703Z"
   },
   {
    "duration": 939,
    "start_time": "2023-04-13T16:44:39.580Z"
   },
   {
    "duration": 267,
    "start_time": "2023-04-13T16:44:40.521Z"
   },
   {
    "duration": 1916,
    "start_time": "2023-04-13T16:44:40.790Z"
   },
   {
    "duration": 51,
    "start_time": "2023-04-13T16:44:42.708Z"
   },
   {
    "duration": 4,
    "start_time": "2023-04-13T16:44:42.761Z"
   },
   {
    "duration": 8,
    "start_time": "2023-04-13T16:44:42.767Z"
   },
   {
    "duration": 8,
    "start_time": "2023-04-13T16:44:42.776Z"
   },
   {
    "duration": 127,
    "start_time": "2023-04-13T16:44:42.785Z"
   },
   {
    "duration": 25,
    "start_time": "2023-04-13T16:52:03.373Z"
   },
   {
    "duration": 1604,
    "start_time": "2023-04-13T16:52:24.379Z"
   },
   {
    "duration": 42,
    "start_time": "2023-04-13T16:52:25.985Z"
   },
   {
    "duration": 746,
    "start_time": "2023-04-13T16:52:26.028Z"
   },
   {
    "duration": 102,
    "start_time": "2023-04-13T16:52:26.776Z"
   },
   {
    "duration": 43,
    "start_time": "2023-04-13T16:52:26.880Z"
   },
   {
    "duration": 42,
    "start_time": "2023-04-13T16:52:26.925Z"
   },
   {
    "duration": 286,
    "start_time": "2023-04-13T16:52:26.969Z"
   },
   {
    "duration": 35,
    "start_time": "2023-04-13T16:52:27.256Z"
   },
   {
    "duration": 8,
    "start_time": "2023-04-13T16:52:27.293Z"
   },
   {
    "duration": 11,
    "start_time": "2023-04-13T16:52:27.305Z"
   },
   {
    "duration": 8,
    "start_time": "2023-04-13T16:52:27.317Z"
   },
   {
    "duration": 72,
    "start_time": "2023-04-13T16:52:27.327Z"
   },
   {
    "duration": 20,
    "start_time": "2023-04-13T16:52:27.401Z"
   },
   {
    "duration": 637,
    "start_time": "2023-04-13T16:52:27.423Z"
   },
   {
    "duration": 1244,
    "start_time": "2023-04-13T16:52:28.068Z"
   },
   {
    "duration": 81,
    "start_time": "2023-04-13T16:52:29.314Z"
   },
   {
    "duration": 106,
    "start_time": "2023-04-13T16:52:29.397Z"
   },
   {
    "duration": 2954,
    "start_time": "2023-04-13T16:52:29.505Z"
   },
   {
    "duration": 1147,
    "start_time": "2023-04-13T16:52:32.460Z"
   },
   {
    "duration": 375,
    "start_time": "2023-04-13T16:52:33.609Z"
   },
   {
    "duration": 2011,
    "start_time": "2023-04-13T16:52:33.986Z"
   },
   {
    "duration": 31,
    "start_time": "2023-04-13T16:52:35.998Z"
   },
   {
    "duration": 3,
    "start_time": "2023-04-13T16:52:36.031Z"
   },
   {
    "duration": 8,
    "start_time": "2023-04-13T16:52:36.049Z"
   },
   {
    "duration": 37,
    "start_time": "2023-04-13T16:52:36.063Z"
   },
   {
    "duration": 137,
    "start_time": "2023-04-13T16:52:36.102Z"
   },
   {
    "duration": 0,
    "start_time": "2023-04-13T16:52:36.241Z"
   },
   {
    "duration": 5,
    "start_time": "2023-04-13T16:54:14.965Z"
   },
   {
    "duration": 69,
    "start_time": "2023-04-13T16:55:53.252Z"
   },
   {
    "duration": 8,
    "start_time": "2023-04-13T16:56:04.366Z"
   },
   {
    "duration": 17,
    "start_time": "2023-04-13T16:58:16.773Z"
   },
   {
    "duration": 1516,
    "start_time": "2023-04-13T16:58:21.727Z"
   },
   {
    "duration": 65,
    "start_time": "2023-04-13T16:58:23.245Z"
   },
   {
    "duration": 773,
    "start_time": "2023-04-13T16:58:23.311Z"
   },
   {
    "duration": 97,
    "start_time": "2023-04-13T16:58:24.086Z"
   },
   {
    "duration": 41,
    "start_time": "2023-04-13T16:58:24.185Z"
   },
   {
    "duration": 15,
    "start_time": "2023-04-13T16:58:24.227Z"
   },
   {
    "duration": 352,
    "start_time": "2023-04-13T16:58:24.244Z"
   },
   {
    "duration": 32,
    "start_time": "2023-04-13T16:58:24.598Z"
   },
   {
    "duration": 28,
    "start_time": "2023-04-13T16:58:24.632Z"
   },
   {
    "duration": 50,
    "start_time": "2023-04-13T16:58:24.669Z"
   },
   {
    "duration": 23,
    "start_time": "2023-04-13T16:58:24.720Z"
   },
   {
    "duration": 85,
    "start_time": "2023-04-13T16:58:24.744Z"
   },
   {
    "duration": 4,
    "start_time": "2023-04-13T16:58:24.831Z"
   },
   {
    "duration": 67,
    "start_time": "2023-04-13T16:58:24.836Z"
   },
   {
    "duration": 635,
    "start_time": "2023-04-13T16:58:24.906Z"
   },
   {
    "duration": 1226,
    "start_time": "2023-04-13T16:58:25.542Z"
   },
   {
    "duration": 81,
    "start_time": "2023-04-13T16:58:26.770Z"
   },
   {
    "duration": 71,
    "start_time": "2023-04-13T16:58:26.863Z"
   },
   {
    "duration": 3052,
    "start_time": "2023-04-13T16:58:26.936Z"
   },
   {
    "duration": 1027,
    "start_time": "2023-04-13T16:58:29.990Z"
   },
   {
    "duration": 310,
    "start_time": "2023-04-13T16:58:31.018Z"
   },
   {
    "duration": 1914,
    "start_time": "2023-04-13T16:58:31.330Z"
   },
   {
    "duration": 37,
    "start_time": "2023-04-13T16:58:33.245Z"
   },
   {
    "duration": 17,
    "start_time": "2023-04-13T16:58:33.284Z"
   },
   {
    "duration": 8,
    "start_time": "2023-04-13T16:58:33.303Z"
   },
   {
    "duration": 24,
    "start_time": "2023-04-13T16:58:33.312Z"
   },
   {
    "duration": 166,
    "start_time": "2023-04-13T16:58:33.338Z"
   },
   {
    "duration": 0,
    "start_time": "2023-04-13T16:58:33.505Z"
   },
   {
    "duration": 1841,
    "start_time": "2023-04-13T16:59:38.977Z"
   },
   {
    "duration": 105,
    "start_time": "2023-04-13T16:59:40.820Z"
   },
   {
    "duration": 811,
    "start_time": "2023-04-13T16:59:40.926Z"
   },
   {
    "duration": 102,
    "start_time": "2023-04-13T16:59:41.740Z"
   },
   {
    "duration": 59,
    "start_time": "2023-04-13T16:59:41.844Z"
   },
   {
    "duration": 15,
    "start_time": "2023-04-13T16:59:41.905Z"
   },
   {
    "duration": 311,
    "start_time": "2023-04-13T16:59:41.922Z"
   },
   {
    "duration": 44,
    "start_time": "2023-04-13T16:59:42.234Z"
   },
   {
    "duration": 9,
    "start_time": "2023-04-13T16:59:42.287Z"
   },
   {
    "duration": 10,
    "start_time": "2023-04-13T16:59:42.297Z"
   },
   {
    "duration": 17,
    "start_time": "2023-04-13T16:59:42.309Z"
   },
   {
    "duration": 56,
    "start_time": "2023-04-13T16:59:42.328Z"
   },
   {
    "duration": 4,
    "start_time": "2023-04-13T16:59:42.386Z"
   },
   {
    "duration": 30,
    "start_time": "2023-04-13T16:59:42.394Z"
   },
   {
    "duration": 685,
    "start_time": "2023-04-13T16:59:42.425Z"
   },
   {
    "duration": 1309,
    "start_time": "2023-04-13T16:59:43.111Z"
   },
   {
    "duration": 83,
    "start_time": "2023-04-13T16:59:44.422Z"
   },
   {
    "duration": 97,
    "start_time": "2023-04-13T16:59:44.506Z"
   },
   {
    "duration": 3182,
    "start_time": "2023-04-13T16:59:44.604Z"
   },
   {
    "duration": 994,
    "start_time": "2023-04-13T16:59:47.788Z"
   },
   {
    "duration": 284,
    "start_time": "2023-04-13T16:59:48.787Z"
   },
   {
    "duration": 1947,
    "start_time": "2023-04-13T16:59:49.073Z"
   },
   {
    "duration": 40,
    "start_time": "2023-04-13T16:59:51.022Z"
   },
   {
    "duration": 43,
    "start_time": "2023-04-13T16:59:51.064Z"
   },
   {
    "duration": 21,
    "start_time": "2023-04-13T16:59:51.109Z"
   },
   {
    "duration": 23,
    "start_time": "2023-04-13T16:59:51.132Z"
   },
   {
    "duration": 50,
    "start_time": "2023-04-13T16:59:51.157Z"
   },
   {
    "duration": 196,
    "start_time": "2023-04-13T16:59:51.209Z"
   },
   {
    "duration": 0,
    "start_time": "2023-04-13T16:59:51.407Z"
   },
   {
    "duration": 5,
    "start_time": "2023-04-13T17:00:56.574Z"
   },
   {
    "duration": 25,
    "start_time": "2023-04-13T17:01:10.036Z"
   },
   {
    "duration": 15,
    "start_time": "2023-04-13T17:08:22.687Z"
   },
   {
    "duration": 21,
    "start_time": "2023-04-13T17:08:37.074Z"
   },
   {
    "duration": 13,
    "start_time": "2023-04-13T17:08:47.789Z"
   },
   {
    "duration": 1618,
    "start_time": "2023-04-13T17:08:57.042Z"
   },
   {
    "duration": 61,
    "start_time": "2023-04-13T17:08:58.664Z"
   },
   {
    "duration": 852,
    "start_time": "2023-04-13T17:08:58.727Z"
   },
   {
    "duration": 103,
    "start_time": "2023-04-13T17:08:59.588Z"
   },
   {
    "duration": 51,
    "start_time": "2023-04-13T17:08:59.693Z"
   },
   {
    "duration": 42,
    "start_time": "2023-04-13T17:08:59.745Z"
   },
   {
    "duration": 316,
    "start_time": "2023-04-13T17:08:59.789Z"
   },
   {
    "duration": 26,
    "start_time": "2023-04-13T17:09:00.106Z"
   },
   {
    "duration": 69,
    "start_time": "2023-04-13T17:09:00.134Z"
   },
   {
    "duration": 19,
    "start_time": "2023-04-13T17:09:00.204Z"
   },
   {
    "duration": 62,
    "start_time": "2023-04-13T17:09:00.225Z"
   },
   {
    "duration": 49,
    "start_time": "2023-04-13T17:09:00.288Z"
   },
   {
    "duration": 53,
    "start_time": "2023-04-13T17:09:00.338Z"
   },
   {
    "duration": 37,
    "start_time": "2023-04-13T17:09:00.393Z"
   },
   {
    "duration": 772,
    "start_time": "2023-04-13T17:09:00.432Z"
   },
   {
    "duration": 1342,
    "start_time": "2023-04-13T17:09:01.206Z"
   },
   {
    "duration": 84,
    "start_time": "2023-04-13T17:09:02.550Z"
   },
   {
    "duration": 99,
    "start_time": "2023-04-13T17:09:02.636Z"
   },
   {
    "duration": 3172,
    "start_time": "2023-04-13T17:09:02.736Z"
   },
   {
    "duration": 958,
    "start_time": "2023-04-13T17:09:05.910Z"
   },
   {
    "duration": 296,
    "start_time": "2023-04-13T17:09:06.869Z"
   },
   {
    "duration": 1900,
    "start_time": "2023-04-13T17:09:07.167Z"
   },
   {
    "duration": 38,
    "start_time": "2023-04-13T17:09:09.069Z"
   },
   {
    "duration": 3,
    "start_time": "2023-04-13T17:09:09.109Z"
   },
   {
    "duration": 12,
    "start_time": "2023-04-13T17:09:09.114Z"
   },
   {
    "duration": 9,
    "start_time": "2023-04-13T17:09:09.128Z"
   },
   {
    "duration": 13,
    "start_time": "2023-04-13T17:09:09.138Z"
   },
   {
    "duration": 184,
    "start_time": "2023-04-13T17:09:09.153Z"
   },
   {
    "duration": 0,
    "start_time": "2023-04-13T17:09:09.339Z"
   },
   {
    "duration": 5,
    "start_time": "2023-04-13T17:09:35.097Z"
   },
   {
    "duration": 28,
    "start_time": "2023-04-13T17:15:06.431Z"
   },
   {
    "duration": 34,
    "start_time": "2023-04-13T17:15:40.910Z"
   },
   {
    "duration": 24,
    "start_time": "2023-04-13T17:15:48.270Z"
   },
   {
    "duration": 1813,
    "start_time": "2023-04-13T17:16:03.970Z"
   },
   {
    "duration": 39,
    "start_time": "2023-04-13T17:16:05.784Z"
   },
   {
    "duration": 803,
    "start_time": "2023-04-13T17:16:05.827Z"
   },
   {
    "duration": 85,
    "start_time": "2023-04-13T17:16:06.632Z"
   },
   {
    "duration": 77,
    "start_time": "2023-04-13T17:16:06.719Z"
   },
   {
    "duration": 16,
    "start_time": "2023-04-13T17:16:06.798Z"
   },
   {
    "duration": 318,
    "start_time": "2023-04-13T17:16:06.815Z"
   },
   {
    "duration": 31,
    "start_time": "2023-04-13T17:16:07.135Z"
   },
   {
    "duration": 35,
    "start_time": "2023-04-13T17:16:07.168Z"
   },
   {
    "duration": 35,
    "start_time": "2023-04-13T17:16:07.204Z"
   },
   {
    "duration": 47,
    "start_time": "2023-04-13T17:16:07.241Z"
   },
   {
    "duration": 50,
    "start_time": "2023-04-13T17:16:07.290Z"
   },
   {
    "duration": 3,
    "start_time": "2023-04-13T17:16:07.342Z"
   },
   {
    "duration": 62,
    "start_time": "2023-04-13T17:16:07.349Z"
   },
   {
    "duration": 642,
    "start_time": "2023-04-13T17:16:07.414Z"
   },
   {
    "duration": 1290,
    "start_time": "2023-04-13T17:16:08.058Z"
   },
   {
    "duration": 107,
    "start_time": "2023-04-13T17:16:09.356Z"
   },
   {
    "duration": 87,
    "start_time": "2023-04-13T17:16:09.465Z"
   },
   {
    "duration": 3220,
    "start_time": "2023-04-13T17:16:09.554Z"
   },
   {
    "duration": 977,
    "start_time": "2023-04-13T17:16:12.776Z"
   },
   {
    "duration": 287,
    "start_time": "2023-04-13T17:16:13.755Z"
   },
   {
    "duration": 2029,
    "start_time": "2023-04-13T17:16:14.055Z"
   },
   {
    "duration": 31,
    "start_time": "2023-04-13T17:16:16.087Z"
   },
   {
    "duration": 4,
    "start_time": "2023-04-13T17:16:16.120Z"
   },
   {
    "duration": 60,
    "start_time": "2023-04-13T17:16:16.125Z"
   },
   {
    "duration": 6,
    "start_time": "2023-04-13T17:16:16.187Z"
   },
   {
    "duration": 8,
    "start_time": "2023-04-13T17:16:16.194Z"
   },
   {
    "duration": 143,
    "start_time": "2023-04-13T17:16:16.203Z"
   },
   {
    "duration": 0,
    "start_time": "2023-04-13T17:16:16.347Z"
   },
   {
    "duration": 1716,
    "start_time": "2023-04-13T17:17:57.973Z"
   },
   {
    "duration": 62,
    "start_time": "2023-04-13T17:17:59.691Z"
   },
   {
    "duration": 867,
    "start_time": "2023-04-13T17:17:59.758Z"
   },
   {
    "duration": 119,
    "start_time": "2023-04-13T17:18:00.628Z"
   },
   {
    "duration": 65,
    "start_time": "2023-04-13T17:18:00.760Z"
   },
   {
    "duration": 44,
    "start_time": "2023-04-13T17:18:00.827Z"
   },
   {
    "duration": 399,
    "start_time": "2023-04-13T17:18:00.876Z"
   },
   {
    "duration": 33,
    "start_time": "2023-04-13T17:18:01.277Z"
   },
   {
    "duration": 23,
    "start_time": "2023-04-13T17:18:01.313Z"
   },
   {
    "duration": 70,
    "start_time": "2023-04-13T17:18:01.340Z"
   },
   {
    "duration": 29,
    "start_time": "2023-04-13T17:18:01.412Z"
   },
   {
    "duration": 120,
    "start_time": "2023-04-13T17:18:01.443Z"
   },
   {
    "duration": 15,
    "start_time": "2023-04-13T17:18:01.583Z"
   },
   {
    "duration": 44,
    "start_time": "2023-04-13T17:18:01.599Z"
   },
   {
    "duration": 727,
    "start_time": "2023-04-13T17:18:01.644Z"
   },
   {
    "duration": 1267,
    "start_time": "2023-04-13T17:18:02.373Z"
   },
   {
    "duration": 90,
    "start_time": "2023-04-13T17:18:03.642Z"
   },
   {
    "duration": 87,
    "start_time": "2023-04-13T17:18:03.733Z"
   },
   {
    "duration": 3112,
    "start_time": "2023-04-13T17:18:03.822Z"
   },
   {
    "duration": 927,
    "start_time": "2023-04-13T17:18:06.935Z"
   },
   {
    "duration": 294,
    "start_time": "2023-04-13T17:18:07.864Z"
   },
   {
    "duration": 1981,
    "start_time": "2023-04-13T17:18:08.160Z"
   },
   {
    "duration": 33,
    "start_time": "2023-04-13T17:18:10.143Z"
   },
   {
    "duration": 26,
    "start_time": "2023-04-13T17:18:10.178Z"
   },
   {
    "duration": 9,
    "start_time": "2023-04-13T17:18:10.206Z"
   },
   {
    "duration": 5,
    "start_time": "2023-04-13T17:18:10.217Z"
   },
   {
    "duration": 8,
    "start_time": "2023-04-13T17:18:10.223Z"
   },
   {
    "duration": 173,
    "start_time": "2023-04-13T17:18:10.233Z"
   },
   {
    "duration": 0,
    "start_time": "2023-04-13T17:18:10.407Z"
   },
   {
    "duration": 18,
    "start_time": "2023-04-13T17:19:59.209Z"
   },
   {
    "duration": 1622,
    "start_time": "2023-04-13T17:20:10.502Z"
   },
   {
    "duration": 112,
    "start_time": "2023-04-13T17:20:12.126Z"
   },
   {
    "duration": 862,
    "start_time": "2023-04-13T17:20:12.240Z"
   },
   {
    "duration": 114,
    "start_time": "2023-04-13T17:20:13.105Z"
   },
   {
    "duration": 50,
    "start_time": "2023-04-13T17:20:13.221Z"
   },
   {
    "duration": 22,
    "start_time": "2023-04-13T17:20:13.273Z"
   },
   {
    "duration": 303,
    "start_time": "2023-04-13T17:20:13.296Z"
   },
   {
    "duration": 27,
    "start_time": "2023-04-13T17:20:13.601Z"
   },
   {
    "duration": 7,
    "start_time": "2023-04-13T17:20:13.630Z"
   },
   {
    "duration": 20,
    "start_time": "2023-04-13T17:20:13.640Z"
   },
   {
    "duration": 32,
    "start_time": "2023-04-13T17:20:13.662Z"
   },
   {
    "duration": 173,
    "start_time": "2023-04-13T17:20:13.696Z"
   },
   {
    "duration": 0,
    "start_time": "2023-04-13T17:20:13.871Z"
   },
   {
    "duration": 0,
    "start_time": "2023-04-13T17:20:13.872Z"
   },
   {
    "duration": 0,
    "start_time": "2023-04-13T17:20:13.873Z"
   },
   {
    "duration": 0,
    "start_time": "2023-04-13T17:20:13.874Z"
   },
   {
    "duration": 0,
    "start_time": "2023-04-13T17:20:13.875Z"
   },
   {
    "duration": 0,
    "start_time": "2023-04-13T17:20:13.876Z"
   },
   {
    "duration": 0,
    "start_time": "2023-04-13T17:20:13.877Z"
   },
   {
    "duration": 0,
    "start_time": "2023-04-13T17:20:13.878Z"
   },
   {
    "duration": 0,
    "start_time": "2023-04-13T17:20:13.879Z"
   },
   {
    "duration": 0,
    "start_time": "2023-04-13T17:20:13.880Z"
   },
   {
    "duration": 0,
    "start_time": "2023-04-13T17:20:13.881Z"
   },
   {
    "duration": 0,
    "start_time": "2023-04-13T17:20:13.885Z"
   },
   {
    "duration": 0,
    "start_time": "2023-04-13T17:20:13.885Z"
   },
   {
    "duration": 0,
    "start_time": "2023-04-13T17:20:13.886Z"
   },
   {
    "duration": 0,
    "start_time": "2023-04-13T17:20:13.887Z"
   },
   {
    "duration": 0,
    "start_time": "2023-04-13T17:20:13.889Z"
   },
   {
    "duration": 0,
    "start_time": "2023-04-13T17:20:13.889Z"
   },
   {
    "duration": 1774,
    "start_time": "2023-04-13T17:20:30.048Z"
   },
   {
    "duration": 84,
    "start_time": "2023-04-13T17:20:31.824Z"
   },
   {
    "duration": 790,
    "start_time": "2023-04-13T17:20:31.910Z"
   },
   {
    "duration": 89,
    "start_time": "2023-04-13T17:20:32.702Z"
   },
   {
    "duration": 59,
    "start_time": "2023-04-13T17:20:32.796Z"
   },
   {
    "duration": 29,
    "start_time": "2023-04-13T17:20:32.871Z"
   },
   {
    "duration": 314,
    "start_time": "2023-04-13T17:20:32.902Z"
   },
   {
    "duration": 26,
    "start_time": "2023-04-13T17:20:33.218Z"
   },
   {
    "duration": 22,
    "start_time": "2023-04-13T17:20:33.250Z"
   },
   {
    "duration": 23,
    "start_time": "2023-04-13T17:20:33.274Z"
   },
   {
    "duration": 7,
    "start_time": "2023-04-13T17:20:33.299Z"
   },
   {
    "duration": 168,
    "start_time": "2023-04-13T17:20:33.308Z"
   },
   {
    "duration": 0,
    "start_time": "2023-04-13T17:20:33.478Z"
   },
   {
    "duration": 0,
    "start_time": "2023-04-13T17:20:33.479Z"
   },
   {
    "duration": 0,
    "start_time": "2023-04-13T17:20:33.481Z"
   },
   {
    "duration": 0,
    "start_time": "2023-04-13T17:20:33.482Z"
   },
   {
    "duration": 0,
    "start_time": "2023-04-13T17:20:33.483Z"
   },
   {
    "duration": 0,
    "start_time": "2023-04-13T17:20:33.484Z"
   },
   {
    "duration": 0,
    "start_time": "2023-04-13T17:20:33.486Z"
   },
   {
    "duration": 0,
    "start_time": "2023-04-13T17:20:33.487Z"
   },
   {
    "duration": 0,
    "start_time": "2023-04-13T17:20:33.488Z"
   },
   {
    "duration": 0,
    "start_time": "2023-04-13T17:20:33.489Z"
   },
   {
    "duration": 0,
    "start_time": "2023-04-13T17:20:33.490Z"
   },
   {
    "duration": 0,
    "start_time": "2023-04-13T17:20:33.491Z"
   },
   {
    "duration": 0,
    "start_time": "2023-04-13T17:20:33.492Z"
   },
   {
    "duration": 0,
    "start_time": "2023-04-13T17:20:33.493Z"
   },
   {
    "duration": 0,
    "start_time": "2023-04-13T17:20:33.494Z"
   },
   {
    "duration": 0,
    "start_time": "2023-04-13T17:20:33.496Z"
   },
   {
    "duration": 0,
    "start_time": "2023-04-13T17:20:33.497Z"
   },
   {
    "duration": 34,
    "start_time": "2023-04-13T17:20:57.174Z"
   },
   {
    "duration": 26,
    "start_time": "2023-04-13T17:21:17.476Z"
   },
   {
    "duration": 31,
    "start_time": "2023-04-13T17:21:40.481Z"
   },
   {
    "duration": 20,
    "start_time": "2023-04-13T17:22:28.088Z"
   },
   {
    "duration": 3,
    "start_time": "2023-04-13T17:22:31.800Z"
   },
   {
    "duration": 16,
    "start_time": "2023-04-13T17:27:31.009Z"
   },
   {
    "duration": 1934,
    "start_time": "2023-04-13T17:27:44.879Z"
   },
   {
    "duration": 62,
    "start_time": "2023-04-13T17:27:46.815Z"
   },
   {
    "duration": 800,
    "start_time": "2023-04-13T17:27:46.883Z"
   },
   {
    "duration": 100,
    "start_time": "2023-04-13T17:27:47.685Z"
   },
   {
    "duration": 44,
    "start_time": "2023-04-13T17:27:47.787Z"
   },
   {
    "duration": 34,
    "start_time": "2023-04-13T17:27:47.833Z"
   },
   {
    "duration": 335,
    "start_time": "2023-04-13T17:27:47.871Z"
   },
   {
    "duration": 24,
    "start_time": "2023-04-13T17:27:48.208Z"
   },
   {
    "duration": 30,
    "start_time": "2023-04-13T17:27:48.234Z"
   },
   {
    "duration": 32,
    "start_time": "2023-04-13T17:27:48.267Z"
   },
   {
    "duration": 5,
    "start_time": "2023-04-13T17:27:48.301Z"
   },
   {
    "duration": 36,
    "start_time": "2023-04-13T17:27:48.307Z"
   },
   {
    "duration": 7,
    "start_time": "2023-04-13T17:27:48.345Z"
   },
   {
    "duration": 70,
    "start_time": "2023-04-13T17:27:48.353Z"
   },
   {
    "duration": 706,
    "start_time": "2023-04-13T17:27:48.424Z"
   },
   {
    "duration": 1292,
    "start_time": "2023-04-13T17:27:49.132Z"
   },
   {
    "duration": 83,
    "start_time": "2023-04-13T17:27:50.426Z"
   },
   {
    "duration": 84,
    "start_time": "2023-04-13T17:27:50.511Z"
   },
   {
    "duration": 3128,
    "start_time": "2023-04-13T17:27:50.596Z"
   },
   {
    "duration": 953,
    "start_time": "2023-04-13T17:27:53.726Z"
   },
   {
    "duration": 329,
    "start_time": "2023-04-13T17:27:54.681Z"
   },
   {
    "duration": 2135,
    "start_time": "2023-04-13T17:27:55.012Z"
   },
   {
    "duration": 56,
    "start_time": "2023-04-13T17:27:57.151Z"
   },
   {
    "duration": 4,
    "start_time": "2023-04-13T17:27:57.208Z"
   },
   {
    "duration": 7,
    "start_time": "2023-04-13T17:27:57.213Z"
   },
   {
    "duration": 5,
    "start_time": "2023-04-13T17:27:57.221Z"
   },
   {
    "duration": 7,
    "start_time": "2023-04-13T17:27:57.227Z"
   },
   {
    "duration": 162,
    "start_time": "2023-04-13T17:27:57.237Z"
   },
   {
    "duration": 0,
    "start_time": "2023-04-13T17:27:57.401Z"
   },
   {
    "duration": 19,
    "start_time": "2023-04-13T17:29:21.488Z"
   },
   {
    "duration": 1827,
    "start_time": "2023-04-13T17:30:08.416Z"
   },
   {
    "duration": 72,
    "start_time": "2023-04-13T17:30:10.245Z"
   },
   {
    "duration": 849,
    "start_time": "2023-04-13T17:30:10.318Z"
   },
   {
    "duration": 89,
    "start_time": "2023-04-13T17:30:11.168Z"
   },
   {
    "duration": 49,
    "start_time": "2023-04-13T17:30:11.260Z"
   },
   {
    "duration": 15,
    "start_time": "2023-04-13T17:30:11.311Z"
   },
   {
    "duration": 326,
    "start_time": "2023-04-13T17:30:11.328Z"
   },
   {
    "duration": 30,
    "start_time": "2023-04-13T17:30:11.657Z"
   },
   {
    "duration": 23,
    "start_time": "2023-04-13T17:30:11.689Z"
   },
   {
    "duration": 9,
    "start_time": "2023-04-13T17:30:11.714Z"
   },
   {
    "duration": 7,
    "start_time": "2023-04-13T17:30:11.725Z"
   },
   {
    "duration": 65,
    "start_time": "2023-04-13T17:30:11.734Z"
   },
   {
    "duration": 13,
    "start_time": "2023-04-13T17:30:11.801Z"
   },
   {
    "duration": 20,
    "start_time": "2023-04-13T17:30:11.817Z"
   },
   {
    "duration": 668,
    "start_time": "2023-04-13T17:30:11.838Z"
   },
   {
    "duration": 1312,
    "start_time": "2023-04-13T17:30:12.508Z"
   },
   {
    "duration": 90,
    "start_time": "2023-04-13T17:30:13.822Z"
   },
   {
    "duration": 82,
    "start_time": "2023-04-13T17:30:13.914Z"
   },
   {
    "duration": 3548,
    "start_time": "2023-04-13T17:30:13.997Z"
   },
   {
    "duration": 971,
    "start_time": "2023-04-13T17:30:17.547Z"
   },
   {
    "duration": 293,
    "start_time": "2023-04-13T17:30:18.520Z"
   },
   {
    "duration": 2120,
    "start_time": "2023-04-13T17:30:18.814Z"
   },
   {
    "duration": 35,
    "start_time": "2023-04-13T17:30:20.936Z"
   },
   {
    "duration": 4,
    "start_time": "2023-04-13T17:30:20.974Z"
   },
   {
    "duration": 22,
    "start_time": "2023-04-13T17:30:20.980Z"
   },
   {
    "duration": 10,
    "start_time": "2023-04-13T17:30:21.004Z"
   },
   {
    "duration": 7,
    "start_time": "2023-04-13T17:30:21.016Z"
   },
   {
    "duration": 172,
    "start_time": "2023-04-13T17:30:21.025Z"
   },
   {
    "duration": 0,
    "start_time": "2023-04-13T17:30:21.199Z"
   },
   {
    "duration": 1958,
    "start_time": "2023-04-13T17:32:00.774Z"
   },
   {
    "duration": 118,
    "start_time": "2023-04-13T17:32:02.734Z"
   },
   {
    "duration": 880,
    "start_time": "2023-04-13T17:32:02.854Z"
   },
   {
    "duration": 124,
    "start_time": "2023-04-13T17:32:03.737Z"
   },
   {
    "duration": 75,
    "start_time": "2023-04-13T17:32:03.863Z"
   },
   {
    "duration": 73,
    "start_time": "2023-04-13T17:32:03.940Z"
   },
   {
    "duration": 347,
    "start_time": "2023-04-13T17:32:04.015Z"
   },
   {
    "duration": 32,
    "start_time": "2023-04-13T17:32:04.364Z"
   },
   {
    "duration": 33,
    "start_time": "2023-04-13T17:32:04.398Z"
   },
   {
    "duration": 17,
    "start_time": "2023-04-13T17:32:04.434Z"
   },
   {
    "duration": 72,
    "start_time": "2023-04-13T17:32:04.453Z"
   },
   {
    "duration": 62,
    "start_time": "2023-04-13T17:32:04.527Z"
   },
   {
    "duration": 29,
    "start_time": "2023-04-13T17:32:04.592Z"
   },
   {
    "duration": 50,
    "start_time": "2023-04-13T17:32:04.623Z"
   },
   {
    "duration": 800,
    "start_time": "2023-04-13T17:32:04.675Z"
   },
   {
    "duration": 1332,
    "start_time": "2023-04-13T17:32:05.476Z"
   },
   {
    "duration": 92,
    "start_time": "2023-04-13T17:32:06.810Z"
   },
   {
    "duration": 105,
    "start_time": "2023-04-13T17:32:06.904Z"
   },
   {
    "duration": 3485,
    "start_time": "2023-04-13T17:32:07.011Z"
   },
   {
    "duration": 1126,
    "start_time": "2023-04-13T17:32:10.497Z"
   },
   {
    "duration": 322,
    "start_time": "2023-04-13T17:32:11.625Z"
   },
   {
    "duration": 2099,
    "start_time": "2023-04-13T17:32:11.948Z"
   },
   {
    "duration": 44,
    "start_time": "2023-04-13T17:32:14.056Z"
   },
   {
    "duration": 10,
    "start_time": "2023-04-13T17:32:14.102Z"
   },
   {
    "duration": 5,
    "start_time": "2023-04-13T17:32:14.114Z"
   },
   {
    "duration": 7,
    "start_time": "2023-04-13T17:32:14.120Z"
   },
   {
    "duration": 7,
    "start_time": "2023-04-13T17:32:14.129Z"
   },
   {
    "duration": 166,
    "start_time": "2023-04-13T17:32:14.167Z"
   },
   {
    "duration": 0,
    "start_time": "2023-04-13T17:32:14.334Z"
   },
   {
    "duration": 53,
    "start_time": "2023-04-14T09:00:47.475Z"
   },
   {
    "duration": 1818,
    "start_time": "2023-04-14T09:00:56.865Z"
   },
   {
    "duration": 38,
    "start_time": "2023-04-14T09:00:58.686Z"
   },
   {
    "duration": 2250,
    "start_time": "2023-04-14T09:00:58.725Z"
   },
   {
    "duration": 95,
    "start_time": "2023-04-14T09:01:00.978Z"
   },
   {
    "duration": 55,
    "start_time": "2023-04-14T09:01:01.075Z"
   },
   {
    "duration": 23,
    "start_time": "2023-04-14T09:01:01.132Z"
   },
   {
    "duration": 310,
    "start_time": "2023-04-14T09:01:01.157Z"
   },
   {
    "duration": 42,
    "start_time": "2023-04-14T09:01:01.469Z"
   },
   {
    "duration": 11,
    "start_time": "2023-04-14T09:01:01.513Z"
   },
   {
    "duration": 35,
    "start_time": "2023-04-14T09:01:01.527Z"
   },
   {
    "duration": 48,
    "start_time": "2023-04-14T09:01:01.564Z"
   },
   {
    "duration": 53,
    "start_time": "2023-04-14T09:01:01.616Z"
   },
   {
    "duration": 73,
    "start_time": "2023-04-14T09:01:01.671Z"
   },
   {
    "duration": 33,
    "start_time": "2023-04-14T09:01:01.747Z"
   },
   {
    "duration": 762,
    "start_time": "2023-04-14T09:01:01.782Z"
   },
   {
    "duration": 1331,
    "start_time": "2023-04-14T09:01:02.546Z"
   },
   {
    "duration": 109,
    "start_time": "2023-04-14T09:01:03.879Z"
   },
   {
    "duration": 101,
    "start_time": "2023-04-14T09:01:03.997Z"
   },
   {
    "duration": 3446,
    "start_time": "2023-04-14T09:01:04.102Z"
   },
   {
    "duration": 1031,
    "start_time": "2023-04-14T09:01:07.550Z"
   },
   {
    "duration": 323,
    "start_time": "2023-04-14T09:01:08.583Z"
   },
   {
    "duration": 2316,
    "start_time": "2023-04-14T09:01:08.909Z"
   },
   {
    "duration": 35,
    "start_time": "2023-04-14T09:01:11.227Z"
   },
   {
    "duration": 4,
    "start_time": "2023-04-14T09:01:11.265Z"
   },
   {
    "duration": 18,
    "start_time": "2023-04-14T09:01:11.271Z"
   },
   {
    "duration": 5,
    "start_time": "2023-04-14T09:01:11.291Z"
   },
   {
    "duration": 9,
    "start_time": "2023-04-14T09:01:11.298Z"
   },
   {
    "duration": 162,
    "start_time": "2023-04-14T09:01:11.310Z"
   },
   {
    "duration": 0,
    "start_time": "2023-04-14T09:01:11.475Z"
   },
   {
    "duration": 1529,
    "start_time": "2023-04-14T09:04:19.933Z"
   },
   {
    "duration": 34,
    "start_time": "2023-04-14T09:04:21.464Z"
   },
   {
    "duration": 679,
    "start_time": "2023-04-14T09:04:21.499Z"
   },
   {
    "duration": 87,
    "start_time": "2023-04-14T09:04:22.180Z"
   },
   {
    "duration": 56,
    "start_time": "2023-04-14T09:04:22.269Z"
   },
   {
    "duration": 16,
    "start_time": "2023-04-14T09:04:22.327Z"
   },
   {
    "duration": 268,
    "start_time": "2023-04-14T09:04:22.345Z"
   },
   {
    "duration": 31,
    "start_time": "2023-04-14T09:04:22.614Z"
   },
   {
    "duration": 11,
    "start_time": "2023-04-14T09:04:22.646Z"
   },
   {
    "duration": 30,
    "start_time": "2023-04-14T09:04:22.660Z"
   },
   {
    "duration": 3,
    "start_time": "2023-04-14T09:04:22.692Z"
   },
   {
    "duration": 27,
    "start_time": "2023-04-14T09:04:22.697Z"
   },
   {
    "duration": 14,
    "start_time": "2023-04-14T09:04:22.726Z"
   },
   {
    "duration": 19,
    "start_time": "2023-04-14T09:04:22.742Z"
   },
   {
    "duration": 615,
    "start_time": "2023-04-14T09:04:22.762Z"
   },
   {
    "duration": 1159,
    "start_time": "2023-04-14T09:04:23.379Z"
   },
   {
    "duration": 97,
    "start_time": "2023-04-14T09:04:24.539Z"
   },
   {
    "duration": 105,
    "start_time": "2023-04-14T09:04:24.638Z"
   },
   {
    "duration": 3170,
    "start_time": "2023-04-14T09:04:24.745Z"
   },
   {
    "duration": 893,
    "start_time": "2023-04-14T09:04:27.917Z"
   },
   {
    "duration": 290,
    "start_time": "2023-04-14T09:04:28.812Z"
   },
   {
    "duration": 1991,
    "start_time": "2023-04-14T09:04:29.104Z"
   },
   {
    "duration": 33,
    "start_time": "2023-04-14T09:04:31.097Z"
   },
   {
    "duration": 26,
    "start_time": "2023-04-14T09:04:31.132Z"
   },
   {
    "duration": 37,
    "start_time": "2023-04-14T09:04:31.161Z"
   },
   {
    "duration": 36,
    "start_time": "2023-04-14T09:04:31.200Z"
   },
   {
    "duration": 50,
    "start_time": "2023-04-14T09:04:31.237Z"
   },
   {
    "duration": 144,
    "start_time": "2023-04-14T09:04:31.292Z"
   },
   {
    "duration": 0,
    "start_time": "2023-04-14T09:04:31.438Z"
   },
   {
    "duration": 1406,
    "start_time": "2023-04-14T09:06:04.588Z"
   },
   {
    "duration": 29,
    "start_time": "2023-04-14T09:06:06.709Z"
   },
   {
    "duration": 118,
    "start_time": "2023-04-14T09:06:15.800Z"
   },
   {
    "duration": 661,
    "start_time": "2023-04-14T09:06:31.662Z"
   },
   {
    "duration": 85,
    "start_time": "2023-04-14T09:06:33.327Z"
   },
   {
    "duration": 45,
    "start_time": "2023-04-14T09:06:38.939Z"
   },
   {
    "duration": 17,
    "start_time": "2023-04-14T09:06:48.840Z"
   },
   {
    "duration": 259,
    "start_time": "2023-04-14T09:06:51.540Z"
   },
   {
    "duration": 32,
    "start_time": "2023-04-14T09:06:55.920Z"
   },
   {
    "duration": 8,
    "start_time": "2023-04-14T09:07:17.560Z"
   },
   {
    "duration": 5,
    "start_time": "2023-04-14T09:07:29.460Z"
   },
   {
    "duration": 5,
    "start_time": "2023-04-14T09:07:33.502Z"
   },
   {
    "duration": 26,
    "start_time": "2023-04-14T09:07:38.743Z"
   },
   {
    "duration": 4,
    "start_time": "2023-04-14T09:07:52.849Z"
   },
   {
    "duration": 21,
    "start_time": "2023-04-14T09:08:51.502Z"
   },
   {
    "duration": 1370,
    "start_time": "2023-04-14T09:11:50.396Z"
   },
   {
    "duration": 40,
    "start_time": "2023-04-14T09:11:52.746Z"
   },
   {
    "duration": 680,
    "start_time": "2023-04-14T09:12:00.314Z"
   },
   {
    "duration": 82,
    "start_time": "2023-04-14T09:12:03.184Z"
   },
   {
    "duration": 45,
    "start_time": "2023-04-14T09:12:16.876Z"
   },
   {
    "duration": 17,
    "start_time": "2023-04-14T09:12:19.591Z"
   },
   {
    "duration": 292,
    "start_time": "2023-04-14T09:12:21.550Z"
   },
   {
    "duration": 29,
    "start_time": "2023-04-14T09:12:23.648Z"
   },
   {
    "duration": 8,
    "start_time": "2023-04-14T09:12:28.068Z"
   },
   {
    "duration": 5,
    "start_time": "2023-04-14T09:12:31.824Z"
   },
   {
    "duration": 4,
    "start_time": "2023-04-14T09:12:35.254Z"
   },
   {
    "duration": 23,
    "start_time": "2023-04-14T09:12:38.122Z"
   },
   {
    "duration": 4,
    "start_time": "2023-04-14T09:12:41.365Z"
   },
   {
    "duration": 1680,
    "start_time": "2023-04-14T09:17:58.091Z"
   },
   {
    "duration": 32,
    "start_time": "2023-04-14T09:17:59.774Z"
   },
   {
    "duration": 703,
    "start_time": "2023-04-14T09:17:59.808Z"
   },
   {
    "duration": 122,
    "start_time": "2023-04-14T09:18:00.515Z"
   },
   {
    "duration": 61,
    "start_time": "2023-04-14T09:18:00.639Z"
   },
   {
    "duration": 26,
    "start_time": "2023-04-14T09:18:00.702Z"
   },
   {
    "duration": 348,
    "start_time": "2023-04-14T09:18:00.731Z"
   },
   {
    "duration": 36,
    "start_time": "2023-04-14T09:18:01.081Z"
   },
   {
    "duration": 42,
    "start_time": "2023-04-14T09:18:01.119Z"
   },
   {
    "duration": 32,
    "start_time": "2023-04-14T09:18:01.165Z"
   },
   {
    "duration": 29,
    "start_time": "2023-04-14T09:18:01.199Z"
   },
   {
    "duration": 55,
    "start_time": "2023-04-14T09:18:01.230Z"
   },
   {
    "duration": 35,
    "start_time": "2023-04-14T09:18:01.287Z"
   },
   {
    "duration": 60,
    "start_time": "2023-04-14T09:18:01.323Z"
   },
   {
    "duration": 766,
    "start_time": "2023-04-14T09:18:01.385Z"
   },
   {
    "duration": 1193,
    "start_time": "2023-04-14T09:18:02.152Z"
   },
   {
    "duration": 98,
    "start_time": "2023-04-14T09:18:03.347Z"
   },
   {
    "duration": 98,
    "start_time": "2023-04-14T09:18:03.447Z"
   },
   {
    "duration": 3270,
    "start_time": "2023-04-14T09:18:03.547Z"
   },
   {
    "duration": 937,
    "start_time": "2023-04-14T09:18:06.820Z"
   },
   {
    "duration": 297,
    "start_time": "2023-04-14T09:18:07.759Z"
   },
   {
    "duration": 1996,
    "start_time": "2023-04-14T09:18:08.057Z"
   },
   {
    "duration": 47,
    "start_time": "2023-04-14T09:18:10.055Z"
   },
   {
    "duration": 5,
    "start_time": "2023-04-14T09:18:10.104Z"
   },
   {
    "duration": 11,
    "start_time": "2023-04-14T09:18:10.111Z"
   },
   {
    "duration": 15,
    "start_time": "2023-04-14T09:18:10.124Z"
   },
   {
    "duration": 16,
    "start_time": "2023-04-14T09:18:10.141Z"
   },
   {
    "duration": 156,
    "start_time": "2023-04-14T09:18:10.162Z"
   },
   {
    "duration": 0,
    "start_time": "2023-04-14T09:18:10.320Z"
   },
   {
    "duration": 17,
    "start_time": "2023-04-14T09:19:43.942Z"
   },
   {
    "duration": 125,
    "start_time": "2023-04-14T09:19:49.712Z"
   },
   {
    "duration": 13,
    "start_time": "2023-04-14T09:20:10.859Z"
   },
   {
    "duration": 20,
    "start_time": "2023-04-14T09:20:30.055Z"
   },
   {
    "duration": 14,
    "start_time": "2023-04-14T09:21:08.813Z"
   },
   {
    "duration": 1549,
    "start_time": "2023-04-14T09:21:17.898Z"
   },
   {
    "duration": 32,
    "start_time": "2023-04-14T09:21:19.449Z"
   },
   {
    "duration": 643,
    "start_time": "2023-04-14T09:21:19.483Z"
   },
   {
    "duration": 94,
    "start_time": "2023-04-14T09:21:20.128Z"
   },
   {
    "duration": 65,
    "start_time": "2023-04-14T09:21:20.225Z"
   },
   {
    "duration": 18,
    "start_time": "2023-04-14T09:21:20.292Z"
   },
   {
    "duration": 288,
    "start_time": "2023-04-14T09:21:20.312Z"
   },
   {
    "duration": 30,
    "start_time": "2023-04-14T09:21:20.601Z"
   },
   {
    "duration": 8,
    "start_time": "2023-04-14T09:21:20.632Z"
   },
   {
    "duration": 24,
    "start_time": "2023-04-14T09:21:20.642Z"
   },
   {
    "duration": 23,
    "start_time": "2023-04-14T09:21:20.668Z"
   },
   {
    "duration": 18,
    "start_time": "2023-04-14T09:21:20.692Z"
   },
   {
    "duration": 49,
    "start_time": "2023-04-14T09:21:20.712Z"
   },
   {
    "duration": 3,
    "start_time": "2023-04-14T09:21:20.763Z"
   },
   {
    "duration": 20,
    "start_time": "2023-04-14T09:21:20.768Z"
   },
   {
    "duration": 636,
    "start_time": "2023-04-14T09:21:20.789Z"
   },
   {
    "duration": 1178,
    "start_time": "2023-04-14T09:21:21.427Z"
   },
   {
    "duration": 96,
    "start_time": "2023-04-14T09:21:22.607Z"
   },
   {
    "duration": 96,
    "start_time": "2023-04-14T09:21:22.705Z"
   },
   {
    "duration": 3265,
    "start_time": "2023-04-14T09:21:22.803Z"
   },
   {
    "duration": 1015,
    "start_time": "2023-04-14T09:21:26.070Z"
   },
   {
    "duration": 337,
    "start_time": "2023-04-14T09:21:27.089Z"
   },
   {
    "duration": 2131,
    "start_time": "2023-04-14T09:21:27.429Z"
   },
   {
    "duration": 50,
    "start_time": "2023-04-14T09:21:29.562Z"
   },
   {
    "duration": 4,
    "start_time": "2023-04-14T09:21:29.614Z"
   },
   {
    "duration": 16,
    "start_time": "2023-04-14T09:21:29.620Z"
   },
   {
    "duration": 15,
    "start_time": "2023-04-14T09:21:29.638Z"
   },
   {
    "duration": 22,
    "start_time": "2023-04-14T09:21:29.657Z"
   },
   {
    "duration": 159,
    "start_time": "2023-04-14T09:21:29.680Z"
   },
   {
    "duration": 0,
    "start_time": "2023-04-14T09:21:29.841Z"
   },
   {
    "duration": 0,
    "start_time": "2023-04-14T09:21:29.843Z"
   },
   {
    "duration": 1480,
    "start_time": "2023-04-14T09:24:32.646Z"
   },
   {
    "duration": 25,
    "start_time": "2023-04-14T09:24:34.129Z"
   },
   {
    "duration": 674,
    "start_time": "2023-04-14T09:24:34.156Z"
   },
   {
    "duration": 98,
    "start_time": "2023-04-14T09:24:34.832Z"
   },
   {
    "duration": 61,
    "start_time": "2023-04-14T09:24:34.933Z"
   },
   {
    "duration": 18,
    "start_time": "2023-04-14T09:24:34.995Z"
   },
   {
    "duration": 276,
    "start_time": "2023-04-14T09:24:35.015Z"
   },
   {
    "duration": 29,
    "start_time": "2023-04-14T09:24:35.294Z"
   },
   {
    "duration": 9,
    "start_time": "2023-04-14T09:24:35.324Z"
   },
   {
    "duration": 21,
    "start_time": "2023-04-14T09:24:35.335Z"
   },
   {
    "duration": 5,
    "start_time": "2023-04-14T09:24:35.358Z"
   },
   {
    "duration": 4,
    "start_time": "2023-04-14T09:24:35.389Z"
   },
   {
    "duration": 149,
    "start_time": "2023-04-14T09:24:35.395Z"
   },
   {
    "duration": 0,
    "start_time": "2023-04-14T09:24:35.546Z"
   },
   {
    "duration": 0,
    "start_time": "2023-04-14T09:24:35.547Z"
   },
   {
    "duration": 0,
    "start_time": "2023-04-14T09:24:35.548Z"
   },
   {
    "duration": 0,
    "start_time": "2023-04-14T09:24:35.550Z"
   },
   {
    "duration": 0,
    "start_time": "2023-04-14T09:24:35.551Z"
   },
   {
    "duration": 0,
    "start_time": "2023-04-14T09:24:35.553Z"
   },
   {
    "duration": 0,
    "start_time": "2023-04-14T09:24:35.554Z"
   },
   {
    "duration": 0,
    "start_time": "2023-04-14T09:24:35.555Z"
   },
   {
    "duration": 0,
    "start_time": "2023-04-14T09:24:35.555Z"
   },
   {
    "duration": 0,
    "start_time": "2023-04-14T09:24:35.557Z"
   },
   {
    "duration": 0,
    "start_time": "2023-04-14T09:24:35.558Z"
   },
   {
    "duration": 0,
    "start_time": "2023-04-14T09:24:35.558Z"
   },
   {
    "duration": 0,
    "start_time": "2023-04-14T09:24:35.560Z"
   },
   {
    "duration": 0,
    "start_time": "2023-04-14T09:24:35.561Z"
   },
   {
    "duration": 0,
    "start_time": "2023-04-14T09:24:35.562Z"
   },
   {
    "duration": 0,
    "start_time": "2023-04-14T09:24:35.563Z"
   },
   {
    "duration": 0,
    "start_time": "2023-04-14T09:24:35.589Z"
   },
   {
    "duration": 0,
    "start_time": "2023-04-14T09:24:35.590Z"
   },
   {
    "duration": 11,
    "start_time": "2023-04-14T09:25:57.194Z"
   },
   {
    "duration": 1457,
    "start_time": "2023-04-14T09:26:06.433Z"
   },
   {
    "duration": 26,
    "start_time": "2023-04-14T09:26:07.893Z"
   },
   {
    "duration": 658,
    "start_time": "2023-04-14T09:26:07.922Z"
   },
   {
    "duration": 85,
    "start_time": "2023-04-14T09:26:08.583Z"
   },
   {
    "duration": 66,
    "start_time": "2023-04-14T09:26:08.670Z"
   },
   {
    "duration": 18,
    "start_time": "2023-04-14T09:26:08.737Z"
   },
   {
    "duration": 305,
    "start_time": "2023-04-14T09:26:08.757Z"
   },
   {
    "duration": 41,
    "start_time": "2023-04-14T09:26:09.064Z"
   },
   {
    "duration": 8,
    "start_time": "2023-04-14T09:26:09.107Z"
   },
   {
    "duration": 25,
    "start_time": "2023-04-14T09:26:09.118Z"
   },
   {
    "duration": 6,
    "start_time": "2023-04-14T09:26:09.145Z"
   },
   {
    "duration": 4,
    "start_time": "2023-04-14T09:26:09.153Z"
   },
   {
    "duration": 49,
    "start_time": "2023-04-14T09:26:09.160Z"
   },
   {
    "duration": 4,
    "start_time": "2023-04-14T09:26:09.211Z"
   },
   {
    "duration": 18,
    "start_time": "2023-04-14T09:26:09.216Z"
   },
   {
    "duration": 713,
    "start_time": "2023-04-14T09:26:09.236Z"
   },
   {
    "duration": 1275,
    "start_time": "2023-04-14T09:26:09.951Z"
   },
   {
    "duration": 103,
    "start_time": "2023-04-14T09:26:11.228Z"
   },
   {
    "duration": 96,
    "start_time": "2023-04-14T09:26:11.333Z"
   },
   {
    "duration": 3344,
    "start_time": "2023-04-14T09:26:11.431Z"
   },
   {
    "duration": 1124,
    "start_time": "2023-04-14T09:26:14.777Z"
   },
   {
    "duration": 306,
    "start_time": "2023-04-14T09:26:15.903Z"
   },
   {
    "duration": 2010,
    "start_time": "2023-04-14T09:26:16.212Z"
   },
   {
    "duration": 34,
    "start_time": "2023-04-14T09:26:18.223Z"
   },
   {
    "duration": 4,
    "start_time": "2023-04-14T09:26:18.259Z"
   },
   {
    "duration": 12,
    "start_time": "2023-04-14T09:26:18.265Z"
   },
   {
    "duration": 12,
    "start_time": "2023-04-14T09:26:18.279Z"
   },
   {
    "duration": 7,
    "start_time": "2023-04-14T09:26:18.295Z"
   },
   {
    "duration": 148,
    "start_time": "2023-04-14T09:26:18.304Z"
   },
   {
    "duration": 0,
    "start_time": "2023-04-14T09:26:18.454Z"
   },
   {
    "duration": 0,
    "start_time": "2023-04-14T09:26:18.455Z"
   },
   {
    "duration": 1513,
    "start_time": "2023-04-14T09:27:04.308Z"
   },
   {
    "duration": 33,
    "start_time": "2023-04-14T09:27:05.823Z"
   },
   {
    "duration": 671,
    "start_time": "2023-04-14T09:27:05.858Z"
   },
   {
    "duration": 93,
    "start_time": "2023-04-14T09:27:06.531Z"
   },
   {
    "duration": 43,
    "start_time": "2023-04-14T09:27:06.626Z"
   },
   {
    "duration": 33,
    "start_time": "2023-04-14T09:27:06.670Z"
   },
   {
    "duration": 281,
    "start_time": "2023-04-14T09:27:06.705Z"
   },
   {
    "duration": 28,
    "start_time": "2023-04-14T09:27:06.989Z"
   },
   {
    "duration": 8,
    "start_time": "2023-04-14T09:27:07.019Z"
   },
   {
    "duration": 19,
    "start_time": "2023-04-14T09:27:07.030Z"
   },
   {
    "duration": 39,
    "start_time": "2023-04-14T09:27:07.051Z"
   },
   {
    "duration": 13,
    "start_time": "2023-04-14T09:27:07.092Z"
   },
   {
    "duration": 29,
    "start_time": "2023-04-14T09:27:07.107Z"
   },
   {
    "duration": 6,
    "start_time": "2023-04-14T09:27:07.138Z"
   },
   {
    "duration": 27,
    "start_time": "2023-04-14T09:27:07.146Z"
   },
   {
    "duration": 886,
    "start_time": "2023-04-14T09:27:07.175Z"
   },
   {
    "duration": 1243,
    "start_time": "2023-04-14T09:27:08.063Z"
   },
   {
    "duration": 102,
    "start_time": "2023-04-14T09:27:09.308Z"
   },
   {
    "duration": 104,
    "start_time": "2023-04-14T09:27:09.412Z"
   },
   {
    "duration": 3385,
    "start_time": "2023-04-14T09:27:09.518Z"
   },
   {
    "duration": 970,
    "start_time": "2023-04-14T09:27:12.904Z"
   },
   {
    "duration": 293,
    "start_time": "2023-04-14T09:27:13.875Z"
   },
   {
    "duration": 2233,
    "start_time": "2023-04-14T09:27:14.169Z"
   },
   {
    "duration": 33,
    "start_time": "2023-04-14T09:27:16.404Z"
   },
   {
    "duration": 3,
    "start_time": "2023-04-14T09:27:16.439Z"
   },
   {
    "duration": 7,
    "start_time": "2023-04-14T09:27:16.444Z"
   },
   {
    "duration": 7,
    "start_time": "2023-04-14T09:27:16.453Z"
   },
   {
    "duration": 6,
    "start_time": "2023-04-14T09:27:16.489Z"
   },
   {
    "duration": 12,
    "start_time": "2023-04-14T09:27:16.497Z"
   },
   {
    "duration": 156,
    "start_time": "2023-04-14T09:27:16.511Z"
   },
   {
    "duration": 122,
    "start_time": "2023-04-14T09:27:16.669Z"
   },
   {
    "duration": 26,
    "start_time": "2023-04-14T09:28:04.565Z"
   },
   {
    "duration": 19,
    "start_time": "2023-04-14T09:28:13.982Z"
   },
   {
    "duration": 14,
    "start_time": "2023-04-14T09:28:30.016Z"
   },
   {
    "duration": 19,
    "start_time": "2023-04-14T09:29:19.190Z"
   },
   {
    "duration": 1607,
    "start_time": "2023-04-14T09:29:37.850Z"
   },
   {
    "duration": 25,
    "start_time": "2023-04-14T09:29:39.459Z"
   },
   {
    "duration": 724,
    "start_time": "2023-04-14T09:29:39.486Z"
   },
   {
    "duration": 152,
    "start_time": "2023-04-14T09:29:40.214Z"
   },
   {
    "duration": 71,
    "start_time": "2023-04-14T09:29:40.368Z"
   },
   {
    "duration": 27,
    "start_time": "2023-04-14T09:29:40.442Z"
   },
   {
    "duration": 320,
    "start_time": "2023-04-14T09:29:40.488Z"
   },
   {
    "duration": 30,
    "start_time": "2023-04-14T09:29:40.810Z"
   },
   {
    "duration": 9,
    "start_time": "2023-04-14T09:29:40.842Z"
   },
   {
    "duration": 45,
    "start_time": "2023-04-14T09:29:40.855Z"
   },
   {
    "duration": 6,
    "start_time": "2023-04-14T09:29:40.903Z"
   },
   {
    "duration": 11,
    "start_time": "2023-04-14T09:29:40.911Z"
   },
   {
    "duration": 18,
    "start_time": "2023-04-14T09:29:40.925Z"
   },
   {
    "duration": 44,
    "start_time": "2023-04-14T09:29:40.946Z"
   },
   {
    "duration": 696,
    "start_time": "2023-04-14T09:29:40.994Z"
   },
   {
    "duration": 1237,
    "start_time": "2023-04-14T09:29:41.693Z"
   },
   {
    "duration": 106,
    "start_time": "2023-04-14T09:29:42.932Z"
   },
   {
    "duration": 99,
    "start_time": "2023-04-14T09:29:43.040Z"
   },
   {
    "duration": 3330,
    "start_time": "2023-04-14T09:29:43.141Z"
   },
   {
    "duration": 1002,
    "start_time": "2023-04-14T09:29:46.473Z"
   },
   {
    "duration": 327,
    "start_time": "2023-04-14T09:29:47.477Z"
   },
   {
    "duration": 2251,
    "start_time": "2023-04-14T09:29:47.806Z"
   },
   {
    "duration": 56,
    "start_time": "2023-04-14T09:29:50.059Z"
   },
   {
    "duration": 5,
    "start_time": "2023-04-14T09:29:50.118Z"
   },
   {
    "duration": 5,
    "start_time": "2023-04-14T09:29:50.125Z"
   },
   {
    "duration": 5,
    "start_time": "2023-04-14T09:29:50.132Z"
   },
   {
    "duration": 9,
    "start_time": "2023-04-14T09:29:50.139Z"
   },
   {
    "duration": 38,
    "start_time": "2023-04-14T09:29:50.151Z"
   },
   {
    "duration": 179,
    "start_time": "2023-04-14T09:29:50.191Z"
   },
   {
    "duration": 180,
    "start_time": "2023-04-14T09:29:50.372Z"
   },
   {
    "duration": 9,
    "start_time": "2023-04-14T09:36:12.041Z"
   },
   {
    "duration": 10,
    "start_time": "2023-04-14T09:36:14.695Z"
   },
   {
    "duration": 1498,
    "start_time": "2023-04-14T10:32:23.184Z"
   },
   {
    "duration": 29,
    "start_time": "2023-04-14T10:32:24.684Z"
   },
   {
    "duration": 683,
    "start_time": "2023-04-14T10:32:24.715Z"
   },
   {
    "duration": 101,
    "start_time": "2023-04-14T10:32:25.400Z"
   },
   {
    "duration": 45,
    "start_time": "2023-04-14T10:32:25.502Z"
   },
   {
    "duration": 41,
    "start_time": "2023-04-14T10:32:25.549Z"
   },
   {
    "duration": 282,
    "start_time": "2023-04-14T10:32:25.592Z"
   },
   {
    "duration": 32,
    "start_time": "2023-04-14T10:32:25.876Z"
   },
   {
    "duration": 10,
    "start_time": "2023-04-14T10:32:25.910Z"
   },
   {
    "duration": 21,
    "start_time": "2023-04-14T10:32:25.925Z"
   },
   {
    "duration": 6,
    "start_time": "2023-04-14T10:32:25.948Z"
   },
   {
    "duration": 38,
    "start_time": "2023-04-14T10:32:25.955Z"
   },
   {
    "duration": 32,
    "start_time": "2023-04-14T10:32:25.995Z"
   },
   {
    "duration": 32,
    "start_time": "2023-04-14T10:32:26.029Z"
   },
   {
    "duration": 651,
    "start_time": "2023-04-14T10:32:26.063Z"
   },
   {
    "duration": 1229,
    "start_time": "2023-04-14T10:32:26.716Z"
   },
   {
    "duration": 106,
    "start_time": "2023-04-14T10:32:27.948Z"
   },
   {
    "duration": 102,
    "start_time": "2023-04-14T10:32:28.056Z"
   },
   {
    "duration": 3423,
    "start_time": "2023-04-14T10:32:28.160Z"
   },
   {
    "duration": 1033,
    "start_time": "2023-04-14T10:32:31.585Z"
   },
   {
    "duration": 293,
    "start_time": "2023-04-14T10:32:32.621Z"
   },
   {
    "duration": 1972,
    "start_time": "2023-04-14T10:32:32.916Z"
   },
   {
    "duration": 47,
    "start_time": "2023-04-14T10:32:34.890Z"
   },
   {
    "duration": 5,
    "start_time": "2023-04-14T10:32:34.940Z"
   },
   {
    "duration": 16,
    "start_time": "2023-04-14T10:32:34.947Z"
   },
   {
    "duration": 22,
    "start_time": "2023-04-14T10:32:34.965Z"
   },
   {
    "duration": 21,
    "start_time": "2023-04-14T10:32:34.989Z"
   },
   {
    "duration": 130,
    "start_time": "2023-04-14T10:32:35.016Z"
   },
   {
    "duration": 0,
    "start_time": "2023-04-14T10:32:35.148Z"
   },
   {
    "duration": 0,
    "start_time": "2023-04-14T10:32:35.150Z"
   },
   {
    "duration": 0,
    "start_time": "2023-04-14T10:32:35.152Z"
   },
   {
    "duration": 0,
    "start_time": "2023-04-14T10:32:35.154Z"
   },
   {
    "duration": 0,
    "start_time": "2023-04-14T10:32:35.156Z"
   },
   {
    "duration": 0,
    "start_time": "2023-04-14T10:32:35.158Z"
   },
   {
    "duration": 10,
    "start_time": "2023-04-14T10:33:03.088Z"
   },
   {
    "duration": 3,
    "start_time": "2023-04-14T10:33:06.415Z"
   },
   {
    "duration": 3893,
    "start_time": "2023-04-14T10:33:07.802Z"
   },
   {
    "duration": 18,
    "start_time": "2023-04-14T10:33:19.526Z"
   },
   {
    "duration": 19,
    "start_time": "2023-04-14T10:33:51.888Z"
   },
   {
    "duration": 660,
    "start_time": "2023-04-14T10:34:03.002Z"
   },
   {
    "duration": 537,
    "start_time": "2023-04-14T10:34:18.020Z"
   },
   {
    "duration": 1070,
    "start_time": "2023-04-14T10:34:38.576Z"
   },
   {
    "duration": 6,
    "start_time": "2023-04-14T10:35:05.809Z"
   },
   {
    "duration": 3911,
    "start_time": "2023-04-14T10:35:16.285Z"
   },
   {
    "duration": 1091,
    "start_time": "2023-04-14T10:35:24.583Z"
   },
   {
    "duration": 38913,
    "start_time": "2023-04-14T10:35:37.609Z"
   },
   {
    "duration": 5939,
    "start_time": "2023-04-14T10:36:16.524Z"
   },
   {
    "duration": 4,
    "start_time": "2023-04-14T10:36:22.739Z"
   },
   {
    "duration": 5759,
    "start_time": "2023-04-14T10:36:42.299Z"
   },
   {
    "duration": 11752,
    "start_time": "2023-04-14T10:36:55.189Z"
   },
   {
    "duration": 1555,
    "start_time": "2023-04-14T11:16:03.602Z"
   },
   {
    "duration": 30,
    "start_time": "2023-04-14T11:16:05.159Z"
   },
   {
    "duration": 748,
    "start_time": "2023-04-14T11:16:05.190Z"
   },
   {
    "duration": 106,
    "start_time": "2023-04-14T11:16:05.941Z"
   },
   {
    "duration": 67,
    "start_time": "2023-04-14T11:16:06.050Z"
   },
   {
    "duration": 17,
    "start_time": "2023-04-14T11:16:06.119Z"
   },
   {
    "duration": 286,
    "start_time": "2023-04-14T11:16:06.137Z"
   },
   {
    "duration": 29,
    "start_time": "2023-04-14T11:16:06.425Z"
   },
   {
    "duration": 9,
    "start_time": "2023-04-14T11:16:06.456Z"
   },
   {
    "duration": 22,
    "start_time": "2023-04-14T11:16:06.489Z"
   },
   {
    "duration": 5,
    "start_time": "2023-04-14T11:16:06.513Z"
   },
   {
    "duration": 11,
    "start_time": "2023-04-14T11:16:06.519Z"
   },
   {
    "duration": 25,
    "start_time": "2023-04-14T11:16:06.532Z"
   },
   {
    "duration": 39,
    "start_time": "2023-04-14T11:16:06.559Z"
   },
   {
    "duration": 704,
    "start_time": "2023-04-14T11:16:06.600Z"
   },
   {
    "duration": 1268,
    "start_time": "2023-04-14T11:16:07.306Z"
   },
   {
    "duration": 105,
    "start_time": "2023-04-14T11:16:08.576Z"
   },
   {
    "duration": 105,
    "start_time": "2023-04-14T11:16:08.684Z"
   },
   {
    "duration": 3349,
    "start_time": "2023-04-14T11:16:08.793Z"
   },
   {
    "duration": 961,
    "start_time": "2023-04-14T11:16:12.144Z"
   },
   {
    "duration": 268,
    "start_time": "2023-04-14T11:16:13.106Z"
   },
   {
    "duration": 1959,
    "start_time": "2023-04-14T11:16:13.376Z"
   },
   {
    "duration": 34,
    "start_time": "2023-04-14T11:16:15.337Z"
   },
   {
    "duration": 3,
    "start_time": "2023-04-14T11:16:15.373Z"
   },
   {
    "duration": 3,
    "start_time": "2023-04-14T11:16:15.396Z"
   },
   {
    "duration": 13,
    "start_time": "2023-04-14T11:16:15.401Z"
   },
   {
    "duration": 27,
    "start_time": "2023-04-14T11:16:15.416Z"
   },
   {
    "duration": 32,
    "start_time": "2023-04-14T11:16:15.447Z"
   },
   {
    "duration": 6,
    "start_time": "2023-04-14T11:16:15.481Z"
   },
   {
    "duration": 5305,
    "start_time": "2023-04-14T11:16:15.489Z"
   },
   {
    "duration": 38056,
    "start_time": "2023-04-14T11:16:20.798Z"
   },
   {
    "duration": 1393,
    "start_time": "2023-04-14T11:53:14.113Z"
   },
   {
    "duration": 26,
    "start_time": "2023-04-14T11:53:15.508Z"
   },
   {
    "duration": 803,
    "start_time": "2023-04-14T11:53:15.536Z"
   },
   {
    "duration": 85,
    "start_time": "2023-04-14T11:53:16.341Z"
   },
   {
    "duration": 41,
    "start_time": "2023-04-14T11:53:16.428Z"
   },
   {
    "duration": 17,
    "start_time": "2023-04-14T11:53:16.489Z"
   },
   {
    "duration": 268,
    "start_time": "2023-04-14T11:53:16.507Z"
   },
   {
    "duration": 34,
    "start_time": "2023-04-14T11:53:16.777Z"
   },
   {
    "duration": 9,
    "start_time": "2023-04-14T11:53:16.813Z"
   },
   {
    "duration": 18,
    "start_time": "2023-04-14T11:53:16.825Z"
   },
   {
    "duration": 5,
    "start_time": "2023-04-14T11:53:16.845Z"
   },
   {
    "duration": 7,
    "start_time": "2023-04-14T11:53:16.851Z"
   },
   {
    "duration": 12,
    "start_time": "2023-04-14T11:53:16.890Z"
   },
   {
    "duration": 17,
    "start_time": "2023-04-14T11:53:16.903Z"
   },
   {
    "duration": 656,
    "start_time": "2023-04-14T11:53:16.921Z"
   },
   {
    "duration": 1146,
    "start_time": "2023-04-14T11:53:17.579Z"
   },
   {
    "duration": 95,
    "start_time": "2023-04-14T11:53:18.727Z"
   },
   {
    "duration": 109,
    "start_time": "2023-04-14T11:53:18.824Z"
   },
   {
    "duration": 3297,
    "start_time": "2023-04-14T11:53:18.935Z"
   },
   {
    "duration": 949,
    "start_time": "2023-04-14T11:53:22.233Z"
   },
   {
    "duration": 266,
    "start_time": "2023-04-14T11:53:23.184Z"
   },
   {
    "duration": 1895,
    "start_time": "2023-04-14T11:53:23.452Z"
   },
   {
    "duration": 32,
    "start_time": "2023-04-14T11:53:25.349Z"
   },
   {
    "duration": 3,
    "start_time": "2023-04-14T11:53:25.389Z"
   },
   {
    "duration": 9,
    "start_time": "2023-04-14T11:53:25.394Z"
   },
   {
    "duration": 22,
    "start_time": "2023-04-14T11:53:25.404Z"
   },
   {
    "duration": 9,
    "start_time": "2023-04-14T11:53:25.428Z"
   },
   {
    "duration": 18,
    "start_time": "2023-04-14T11:53:25.441Z"
   },
   {
    "duration": 5,
    "start_time": "2023-04-14T11:53:25.460Z"
   },
   {
    "duration": 3126,
    "start_time": "2023-04-14T11:53:25.466Z"
   },
   {
    "duration": 36917,
    "start_time": "2023-04-14T11:53:28.594Z"
   },
   {
    "duration": 1330,
    "start_time": "2023-04-14T11:56:37.638Z"
   },
   {
    "duration": 25,
    "start_time": "2023-04-14T11:56:38.970Z"
   },
   {
    "duration": 675,
    "start_time": "2023-04-14T11:56:38.997Z"
   },
   {
    "duration": 90,
    "start_time": "2023-04-14T11:56:39.674Z"
   },
   {
    "duration": 59,
    "start_time": "2023-04-14T11:56:39.766Z"
   },
   {
    "duration": 16,
    "start_time": "2023-04-14T11:56:39.827Z"
   },
   {
    "duration": 270,
    "start_time": "2023-04-14T11:56:39.845Z"
   },
   {
    "duration": 28,
    "start_time": "2023-04-14T11:56:40.117Z"
   },
   {
    "duration": 7,
    "start_time": "2023-04-14T11:56:40.147Z"
   },
   {
    "duration": 37,
    "start_time": "2023-04-14T11:56:40.157Z"
   },
   {
    "duration": 5,
    "start_time": "2023-04-14T11:56:40.196Z"
   },
   {
    "duration": 12,
    "start_time": "2023-04-14T11:56:40.203Z"
   },
   {
    "duration": 15,
    "start_time": "2023-04-14T11:56:40.217Z"
   },
   {
    "duration": 33,
    "start_time": "2023-04-14T11:56:40.234Z"
   },
   {
    "duration": 682,
    "start_time": "2023-04-14T11:56:40.269Z"
   },
   {
    "duration": 1160,
    "start_time": "2023-04-14T11:56:40.953Z"
   },
   {
    "duration": 93,
    "start_time": "2023-04-14T11:56:42.115Z"
   },
   {
    "duration": 96,
    "start_time": "2023-04-14T11:56:42.209Z"
   },
   {
    "duration": 2958,
    "start_time": "2023-04-14T11:56:42.307Z"
   },
   {
    "duration": 943,
    "start_time": "2023-04-14T11:56:45.266Z"
   },
   {
    "duration": 266,
    "start_time": "2023-04-14T11:56:46.211Z"
   },
   {
    "duration": 1873,
    "start_time": "2023-04-14T11:56:46.479Z"
   },
   {
    "duration": 36,
    "start_time": "2023-04-14T11:56:48.354Z"
   },
   {
    "duration": 4,
    "start_time": "2023-04-14T11:56:48.392Z"
   },
   {
    "duration": 24,
    "start_time": "2023-04-14T11:56:48.397Z"
   },
   {
    "duration": 25,
    "start_time": "2023-04-14T11:56:48.422Z"
   },
   {
    "duration": 15,
    "start_time": "2023-04-14T11:56:48.449Z"
   },
   {
    "duration": 37,
    "start_time": "2023-04-14T11:56:48.467Z"
   },
   {
    "duration": 38,
    "start_time": "2023-04-14T11:56:48.505Z"
   },
   {
    "duration": 3550,
    "start_time": "2023-04-14T11:56:48.545Z"
   },
   {
    "duration": 36204,
    "start_time": "2023-04-14T11:56:52.097Z"
   },
   {
    "duration": 110,
    "start_time": "2023-04-14T11:57:28.303Z"
   },
   {
    "duration": 0,
    "start_time": "2023-04-14T11:57:28.415Z"
   },
   {
    "duration": 0,
    "start_time": "2023-04-14T11:57:28.416Z"
   },
   {
    "duration": 0,
    "start_time": "2023-04-14T11:57:28.417Z"
   },
   {
    "duration": 87745,
    "start_time": "2023-04-14T11:58:11.722Z"
   },
   {
    "duration": 1418,
    "start_time": "2023-04-14T12:09:47.202Z"
   },
   {
    "duration": 26,
    "start_time": "2023-04-14T12:09:48.622Z"
   },
   {
    "duration": 697,
    "start_time": "2023-04-14T12:09:48.649Z"
   },
   {
    "duration": 95,
    "start_time": "2023-04-14T12:09:49.348Z"
   },
   {
    "duration": 56,
    "start_time": "2023-04-14T12:09:49.445Z"
   },
   {
    "duration": 21,
    "start_time": "2023-04-14T12:09:49.503Z"
   },
   {
    "duration": 313,
    "start_time": "2023-04-14T12:09:49.526Z"
   },
   {
    "duration": 29,
    "start_time": "2023-04-14T12:09:49.841Z"
   },
   {
    "duration": 23,
    "start_time": "2023-04-14T12:09:49.872Z"
   },
   {
    "duration": 35,
    "start_time": "2023-04-14T12:09:49.898Z"
   },
   {
    "duration": 6,
    "start_time": "2023-04-14T12:09:49.936Z"
   },
   {
    "duration": 17,
    "start_time": "2023-04-14T12:09:49.944Z"
   },
   {
    "duration": 34,
    "start_time": "2023-04-14T12:09:49.963Z"
   },
   {
    "duration": 30,
    "start_time": "2023-04-14T12:09:49.999Z"
   },
   {
    "duration": 689,
    "start_time": "2023-04-14T12:09:50.030Z"
   },
   {
    "duration": 1196,
    "start_time": "2023-04-14T12:09:50.722Z"
   },
   {
    "duration": 91,
    "start_time": "2023-04-14T12:09:51.920Z"
   },
   {
    "duration": 87,
    "start_time": "2023-04-14T12:09:52.013Z"
   },
   {
    "duration": 3094,
    "start_time": "2023-04-14T12:09:52.102Z"
   },
   {
    "duration": 907,
    "start_time": "2023-04-14T12:09:55.198Z"
   },
   {
    "duration": 272,
    "start_time": "2023-04-14T12:09:56.106Z"
   },
   {
    "duration": 2156,
    "start_time": "2023-04-14T12:09:56.380Z"
   },
   {
    "duration": 33,
    "start_time": "2023-04-14T12:09:58.538Z"
   },
   {
    "duration": 17,
    "start_time": "2023-04-14T12:09:58.573Z"
   },
   {
    "duration": 6,
    "start_time": "2023-04-14T12:09:58.592Z"
   },
   {
    "duration": 9,
    "start_time": "2023-04-14T12:09:58.600Z"
   },
   {
    "duration": 10,
    "start_time": "2023-04-14T12:09:58.611Z"
   },
   {
    "duration": 8,
    "start_time": "2023-04-14T12:09:58.625Z"
   },
   {
    "duration": 7,
    "start_time": "2023-04-14T12:09:58.635Z"
   },
   {
    "duration": 4253,
    "start_time": "2023-04-14T12:09:58.643Z"
   },
   {
    "duration": 36916,
    "start_time": "2023-04-14T12:10:02.897Z"
   },
   {
    "duration": 3,
    "start_time": "2023-04-14T12:10:39.815Z"
   },
   {
    "duration": 51,
    "start_time": "2023-04-14T12:10:39.820Z"
   },
   {
    "duration": 0,
    "start_time": "2023-04-14T12:10:39.873Z"
   },
   {
    "duration": 3249,
    "start_time": "2023-04-14T12:12:10.148Z"
   },
   {
    "duration": 39565,
    "start_time": "2023-04-14T12:13:44.127Z"
   },
   {
    "duration": 38159,
    "start_time": "2023-04-14T12:14:38.414Z"
   },
   {
    "duration": 37831,
    "start_time": "2023-04-14T12:16:20.938Z"
   },
   {
    "duration": 894,
    "start_time": "2023-04-14T12:20:24.114Z"
   },
   {
    "duration": 42,
    "start_time": "2023-04-14T12:24:13.017Z"
   },
   {
    "duration": 2196,
    "start_time": "2023-04-14T12:24:22.013Z"
   },
   {
    "duration": 31,
    "start_time": "2023-04-14T12:24:24.213Z"
   },
   {
    "duration": 845,
    "start_time": "2023-04-14T12:24:24.246Z"
   },
   {
    "duration": 95,
    "start_time": "2023-04-14T12:24:25.100Z"
   },
   {
    "duration": 48,
    "start_time": "2023-04-14T12:24:25.197Z"
   },
   {
    "duration": 16,
    "start_time": "2023-04-14T12:24:25.247Z"
   },
   {
    "duration": 292,
    "start_time": "2023-04-14T12:24:25.265Z"
   },
   {
    "duration": 43,
    "start_time": "2023-04-14T12:24:25.559Z"
   },
   {
    "duration": 14,
    "start_time": "2023-04-14T12:24:25.604Z"
   },
   {
    "duration": 20,
    "start_time": "2023-04-14T12:24:25.620Z"
   },
   {
    "duration": 14,
    "start_time": "2023-04-14T12:24:25.641Z"
   },
   {
    "duration": 7,
    "start_time": "2023-04-14T12:24:25.657Z"
   },
   {
    "duration": 12,
    "start_time": "2023-04-14T12:24:25.665Z"
   },
   {
    "duration": 37,
    "start_time": "2023-04-14T12:24:25.679Z"
   },
   {
    "duration": 694,
    "start_time": "2023-04-14T12:24:25.718Z"
   },
   {
    "duration": 1253,
    "start_time": "2023-04-14T12:24:26.416Z"
   },
   {
    "duration": 101,
    "start_time": "2023-04-14T12:24:27.672Z"
   },
   {
    "duration": 98,
    "start_time": "2023-04-14T12:24:27.774Z"
   },
   {
    "duration": 3628,
    "start_time": "2023-04-14T12:24:27.874Z"
   },
   {
    "duration": 1036,
    "start_time": "2023-04-14T12:24:31.506Z"
   },
   {
    "duration": 317,
    "start_time": "2023-04-14T12:24:32.545Z"
   },
   {
    "duration": 2074,
    "start_time": "2023-04-14T12:24:32.865Z"
   },
   {
    "duration": 35,
    "start_time": "2023-04-14T12:24:34.941Z"
   },
   {
    "duration": 27,
    "start_time": "2023-04-14T12:24:34.977Z"
   },
   {
    "duration": 20,
    "start_time": "2023-04-14T12:24:35.012Z"
   },
   {
    "duration": 46,
    "start_time": "2023-04-14T12:24:35.034Z"
   },
   {
    "duration": 35,
    "start_time": "2023-04-14T12:24:35.082Z"
   },
   {
    "duration": 34,
    "start_time": "2023-04-14T12:24:35.120Z"
   },
   {
    "duration": 24,
    "start_time": "2023-04-14T12:24:35.155Z"
   },
   {
    "duration": 4127,
    "start_time": "2023-04-14T12:24:35.181Z"
   },
   {
    "duration": 25290,
    "start_time": "2023-04-14T12:24:39.321Z"
   },
   {
    "duration": 6,
    "start_time": "2023-04-14T12:25:04.613Z"
   },
   {
    "duration": 24,
    "start_time": "2023-04-14T12:25:04.621Z"
   },
   {
    "duration": 1324,
    "start_time": "2023-04-14T12:25:04.647Z"
   },
   {
    "duration": 0,
    "start_time": "2023-04-14T12:25:05.973Z"
   },
   {
    "duration": 1162,
    "start_time": "2023-04-14T12:25:25.646Z"
   },
   {
    "duration": 1251,
    "start_time": "2023-04-14T12:25:49.777Z"
   },
   {
    "duration": 9,
    "start_time": "2023-04-14T12:31:22.463Z"
   },
   {
    "duration": 9,
    "start_time": "2023-04-14T12:31:37.401Z"
   },
   {
    "duration": 1546,
    "start_time": "2023-04-14T12:39:33.677Z"
   },
   {
    "duration": 28,
    "start_time": "2023-04-14T12:39:35.225Z"
   },
   {
    "duration": 731,
    "start_time": "2023-04-14T12:39:35.254Z"
   },
   {
    "duration": 91,
    "start_time": "2023-04-14T12:39:35.987Z"
   },
   {
    "duration": 50,
    "start_time": "2023-04-14T12:39:36.089Z"
   },
   {
    "duration": 17,
    "start_time": "2023-04-14T12:39:36.141Z"
   },
   {
    "duration": 285,
    "start_time": "2023-04-14T12:39:36.159Z"
   },
   {
    "duration": 32,
    "start_time": "2023-04-14T12:39:36.446Z"
   },
   {
    "duration": 34,
    "start_time": "2023-04-14T12:39:36.489Z"
   },
   {
    "duration": 26,
    "start_time": "2023-04-14T12:39:36.526Z"
   },
   {
    "duration": 5,
    "start_time": "2023-04-14T12:39:36.554Z"
   },
   {
    "duration": 12,
    "start_time": "2023-04-14T12:39:36.560Z"
   },
   {
    "duration": 20,
    "start_time": "2023-04-14T12:39:36.574Z"
   },
   {
    "duration": 39,
    "start_time": "2023-04-14T12:39:36.596Z"
   },
   {
    "duration": 641,
    "start_time": "2023-04-14T12:39:36.637Z"
   },
   {
    "duration": 1133,
    "start_time": "2023-04-14T12:39:37.280Z"
   },
   {
    "duration": 95,
    "start_time": "2023-04-14T12:39:38.415Z"
   },
   {
    "duration": 95,
    "start_time": "2023-04-14T12:39:38.512Z"
   },
   {
    "duration": 3215,
    "start_time": "2023-04-14T12:39:38.608Z"
   },
   {
    "duration": 964,
    "start_time": "2023-04-14T12:39:41.825Z"
   },
   {
    "duration": 287,
    "start_time": "2023-04-14T12:39:42.791Z"
   },
   {
    "duration": 1893,
    "start_time": "2023-04-14T12:39:43.080Z"
   },
   {
    "duration": 40,
    "start_time": "2023-04-14T12:39:44.975Z"
   },
   {
    "duration": 4,
    "start_time": "2023-04-14T12:39:45.017Z"
   },
   {
    "duration": 31,
    "start_time": "2023-04-14T12:39:45.023Z"
   },
   {
    "duration": 23,
    "start_time": "2023-04-14T12:39:45.056Z"
   },
   {
    "duration": 29,
    "start_time": "2023-04-14T12:39:45.081Z"
   },
   {
    "duration": 19,
    "start_time": "2023-04-14T12:39:45.114Z"
   },
   {
    "duration": 8,
    "start_time": "2023-04-14T12:39:45.135Z"
   },
   {
    "duration": 2452,
    "start_time": "2023-04-14T12:39:45.146Z"
   },
   {
    "duration": 23622,
    "start_time": "2023-04-14T12:39:47.690Z"
   },
   {
    "duration": 663715,
    "start_time": "2023-04-14T12:40:11.314Z"
   },
   {
    "duration": 1095,
    "start_time": "2023-04-14T12:51:15.036Z"
   },
   {
    "duration": 10,
    "start_time": "2023-04-14T12:51:16.132Z"
   },
   {
    "duration": 1454,
    "start_time": "2023-04-14T12:51:16.143Z"
   },
   {
    "duration": 0,
    "start_time": "2023-04-14T12:51:17.600Z"
   },
   {
    "duration": 4,
    "start_time": "2023-04-14T12:53:43.448Z"
   },
   {
    "duration": 4,
    "start_time": "2023-04-14T12:53:45.882Z"
   },
   {
    "duration": 436,
    "start_time": "2023-04-14T12:54:15.093Z"
   },
   {
    "duration": 9,
    "start_time": "2023-04-14T12:54:20.350Z"
   },
   {
    "duration": 1368,
    "start_time": "2023-04-14T12:56:52.661Z"
   },
   {
    "duration": 1363,
    "start_time": "2023-04-14T12:57:02.838Z"
   },
   {
    "duration": 25,
    "start_time": "2023-04-14T12:58:12.011Z"
   },
   {
    "duration": 1438,
    "start_time": "2023-04-14T12:58:39.285Z"
   },
   {
    "duration": 1642,
    "start_time": "2023-04-14T12:59:02.555Z"
   },
   {
    "duration": 10139,
    "start_time": "2023-04-14T12:59:52.071Z"
   },
   {
    "duration": 4709,
    "start_time": "2023-04-14T13:01:14.934Z"
   },
   {
    "duration": 222,
    "start_time": "2023-04-14T13:02:44.313Z"
   },
   {
    "duration": 381,
    "start_time": "2023-04-14T13:03:14.146Z"
   },
   {
    "duration": 245,
    "start_time": "2023-04-14T13:03:35.605Z"
   },
   {
    "duration": 6720,
    "start_time": "2023-04-14T13:03:45.917Z"
   },
   {
    "duration": 5437,
    "start_time": "2023-04-14T13:04:08.610Z"
   },
   {
    "duration": 5585,
    "start_time": "2023-04-14T13:04:36.618Z"
   },
   {
    "duration": 13,
    "start_time": "2023-04-14T13:05:09.513Z"
   },
   {
    "duration": 6015,
    "start_time": "2023-04-14T13:05:21.438Z"
   },
   {
    "duration": 246,
    "start_time": "2023-04-14T13:06:12.013Z"
   },
   {
    "duration": 6968,
    "start_time": "2023-04-14T13:06:56.816Z"
   },
   {
    "duration": 6429,
    "start_time": "2023-04-14T13:07:50.315Z"
   },
   {
    "duration": 6968,
    "start_time": "2023-04-14T13:08:45.424Z"
   },
   {
    "duration": 6895,
    "start_time": "2023-04-14T13:09:54.751Z"
   },
   {
    "duration": 7485,
    "start_time": "2023-04-14T13:10:15.244Z"
   },
   {
    "duration": 1640,
    "start_time": "2023-04-14T18:58:42.105Z"
   },
   {
    "duration": 37,
    "start_time": "2023-04-14T18:58:44.433Z"
   },
   {
    "duration": 2325,
    "start_time": "2023-04-14T18:58:46.929Z"
   },
   {
    "duration": 92,
    "start_time": "2023-04-14T18:58:49.991Z"
   },
   {
    "duration": 44,
    "start_time": "2023-04-14T18:58:54.622Z"
   },
   {
    "duration": 16,
    "start_time": "2023-04-14T18:58:58.030Z"
   },
   {
    "duration": 279,
    "start_time": "2023-04-14T18:58:59.018Z"
   },
   {
    "duration": 29,
    "start_time": "2023-04-14T18:59:04.840Z"
   },
   {
    "duration": 8,
    "start_time": "2023-04-14T18:59:10.109Z"
   },
   {
    "duration": 18,
    "start_time": "2023-04-14T18:59:13.765Z"
   },
   {
    "duration": 17,
    "start_time": "2023-04-14T18:59:15.489Z"
   },
   {
    "duration": 4,
    "start_time": "2023-04-14T18:59:26.805Z"
   },
   {
    "duration": 11,
    "start_time": "2023-04-14T18:59:40.738Z"
   },
   {
    "duration": 19,
    "start_time": "2023-04-14T18:59:45.116Z"
   },
   {
    "duration": 661,
    "start_time": "2023-04-14T18:59:46.283Z"
   },
   {
    "duration": 1250,
    "start_time": "2023-04-14T18:59:53.047Z"
   },
   {
    "duration": 104,
    "start_time": "2023-04-14T18:59:54.300Z"
   },
   {
    "duration": 90,
    "start_time": "2023-04-14T18:59:58.369Z"
   },
   {
    "duration": 3195,
    "start_time": "2023-04-14T19:00:06.075Z"
   },
   {
    "duration": 566,
    "start_time": "2023-04-14T19:00:14.640Z"
   },
   {
    "duration": 180,
    "start_time": "2023-04-14T19:01:17.042Z"
   },
   {
    "duration": 184,
    "start_time": "2023-04-14T19:01:51.642Z"
   },
   {
    "duration": 1656,
    "start_time": "2023-04-14T19:11:52.986Z"
   },
   {
    "duration": 700,
    "start_time": "2023-04-14T19:13:08.849Z"
   },
   {
    "duration": 1565,
    "start_time": "2023-04-14T19:14:14.551Z"
   },
   {
    "duration": 900,
    "start_time": "2023-04-14T19:15:14.608Z"
   },
   {
    "duration": 266,
    "start_time": "2023-04-14T19:15:28.701Z"
   },
   {
    "duration": 202,
    "start_time": "2023-04-14T19:17:02.879Z"
   },
   {
    "duration": 669,
    "start_time": "2023-04-14T19:24:59.180Z"
   },
   {
    "duration": 201,
    "start_time": "2023-04-14T19:26:09.472Z"
   },
   {
    "duration": 202,
    "start_time": "2023-04-14T19:26:24.884Z"
   },
   {
    "duration": 554,
    "start_time": "2023-04-14T19:27:13.134Z"
   },
   {
    "duration": 1028,
    "start_time": "2023-04-14T19:27:30.179Z"
   }
  ],
  "kernelspec": {
   "display_name": "Python 3 (ipykernel)",
   "language": "python",
   "name": "python3"
  },
  "language_info": {
   "codemirror_mode": {
    "name": "ipython",
    "version": 3
   },
   "file_extension": ".py",
   "mimetype": "text/x-python",
   "name": "python",
   "nbconvert_exporter": "python",
   "pygments_lexer": "ipython3",
   "version": "3.9.5"
  },
  "toc": {
   "base_numbering": 1,
   "nav_menu": {},
   "number_sections": true,
   "sideBar": true,
   "skip_h1_title": true,
   "title_cell": "Содержание",
   "title_sidebar": "Contents",
   "toc_cell": true,
   "toc_position": {
    "height": "calc(100% - 180px)",
    "left": "10px",
    "top": "150px",
    "width": "165px"
   },
   "toc_section_display": true,
   "toc_window_display": false
  }
 },
 "nbformat": 4,
 "nbformat_minor": 2
}
