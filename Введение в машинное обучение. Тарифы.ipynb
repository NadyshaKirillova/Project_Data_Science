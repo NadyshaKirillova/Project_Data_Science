{
 "cells": [
  {
   "cell_type": "markdown",
   "metadata": {},
   "source": [
    "# Рекомендация тарифов"
   ]
  },
  {
   "cell_type": "markdown",
   "metadata": {},
   "source": [
    "В вашем распоряжении данные о поведении клиентов, которые уже перешли на эти тарифы (из проекта курса «Статистический анализ данных»). Нужно построить модель для задачи классификации, которая выберет подходящий тариф. Предобработка данных не понадобится — вы её уже сделали.\n",
    "\n",
    "Постройте модель с максимально большим значением *accuracy*. Чтобы сдать проект успешно, нужно довести долю правильных ответов по крайней мере до 0.75. Проверьте *accuracy* на тестовой выборке самостоятельно."
   ]
  },
  {
   "cell_type": "markdown",
   "metadata": {},
   "source": [
    "## Откройте и изучите файл"
   ]
  },
  {
   "cell_type": "markdown",
   "metadata": {},
   "source": [
    "Нам предоставили данные по тарифам мобильной связи. Для начала анализа, мы должны импортировать все библиотеки для дальнейшей работы. Хоть предобработка данных нам не требуется, но мы все равно проверим их на наличие ошибок в типах данных, дубликатов и пропусков."
   ]
  },
  {
   "cell_type": "code",
   "execution_count": 1,
   "metadata": {},
   "outputs": [],
   "source": [
    "import pandas as pd\n",
    "from sklearn.model_selection import train_test_split\n",
    "from sklearn.metrics import accuracy_score\n",
    "from sklearn.tree import DecisionTreeClassifier\n",
    "from sklearn.ensemble import RandomForestClassifier\n",
    "from sklearn.linear_model import LogisticRegression\n",
    "from sklearn.dummy import DummyClassifier\n"
   ]
  },
  {
   "cell_type": "code",
   "execution_count": 2,
   "metadata": {},
   "outputs": [
    {
     "data": {
      "text/html": [
       "<div>\n",
       "<style scoped>\n",
       "    .dataframe tbody tr th:only-of-type {\n",
       "        vertical-align: middle;\n",
       "    }\n",
       "\n",
       "    .dataframe tbody tr th {\n",
       "        vertical-align: top;\n",
       "    }\n",
       "\n",
       "    .dataframe thead th {\n",
       "        text-align: right;\n",
       "    }\n",
       "</style>\n",
       "<table border=\"1\" class=\"dataframe\">\n",
       "  <thead>\n",
       "    <tr style=\"text-align: right;\">\n",
       "      <th></th>\n",
       "      <th>calls</th>\n",
       "      <th>minutes</th>\n",
       "      <th>messages</th>\n",
       "      <th>mb_used</th>\n",
       "      <th>is_ultra</th>\n",
       "    </tr>\n",
       "  </thead>\n",
       "  <tbody>\n",
       "    <tr>\n",
       "      <th>0</th>\n",
       "      <td>40.0</td>\n",
       "      <td>311.90</td>\n",
       "      <td>83.0</td>\n",
       "      <td>19915.42</td>\n",
       "      <td>0</td>\n",
       "    </tr>\n",
       "    <tr>\n",
       "      <th>1</th>\n",
       "      <td>85.0</td>\n",
       "      <td>516.75</td>\n",
       "      <td>56.0</td>\n",
       "      <td>22696.96</td>\n",
       "      <td>0</td>\n",
       "    </tr>\n",
       "    <tr>\n",
       "      <th>2</th>\n",
       "      <td>77.0</td>\n",
       "      <td>467.66</td>\n",
       "      <td>86.0</td>\n",
       "      <td>21060.45</td>\n",
       "      <td>0</td>\n",
       "    </tr>\n",
       "    <tr>\n",
       "      <th>3</th>\n",
       "      <td>106.0</td>\n",
       "      <td>745.53</td>\n",
       "      <td>81.0</td>\n",
       "      <td>8437.39</td>\n",
       "      <td>1</td>\n",
       "    </tr>\n",
       "    <tr>\n",
       "      <th>4</th>\n",
       "      <td>66.0</td>\n",
       "      <td>418.74</td>\n",
       "      <td>1.0</td>\n",
       "      <td>14502.75</td>\n",
       "      <td>0</td>\n",
       "    </tr>\n",
       "  </tbody>\n",
       "</table>\n",
       "</div>"
      ],
      "text/plain": [
       "   calls  minutes  messages   mb_used  is_ultra\n",
       "0   40.0   311.90      83.0  19915.42         0\n",
       "1   85.0   516.75      56.0  22696.96         0\n",
       "2   77.0   467.66      86.0  21060.45         0\n",
       "3  106.0   745.53      81.0   8437.39         1\n",
       "4   66.0   418.74       1.0  14502.75         0"
      ]
     },
     "execution_count": 2,
     "metadata": {},
     "output_type": "execute_result"
    }
   ],
   "source": [
    "data=pd.read_csv('/datasets/users_behavior.csv')\n",
    "\n",
    "data.head()"
   ]
  },
  {
   "cell_type": "code",
   "execution_count": 3,
   "metadata": {},
   "outputs": [
    {
     "name": "stdout",
     "output_type": "stream",
     "text": [
      "<class 'pandas.core.frame.DataFrame'>\n",
      "RangeIndex: 3214 entries, 0 to 3213\n",
      "Data columns (total 5 columns):\n",
      " #   Column    Non-Null Count  Dtype  \n",
      "---  ------    --------------  -----  \n",
      " 0   calls     3214 non-null   float64\n",
      " 1   minutes   3214 non-null   float64\n",
      " 2   messages  3214 non-null   float64\n",
      " 3   mb_used   3214 non-null   float64\n",
      " 4   is_ultra  3214 non-null   int64  \n",
      "dtypes: float64(4), int64(1)\n",
      "memory usage: 125.7 KB\n"
     ]
    }
   ],
   "source": [
    "# Посмотрим общую информацию\n",
    "data.info()"
   ]
  },
  {
   "cell_type": "markdown",
   "metadata": {},
   "source": [
    "Итак, мы открыли файл и просмотрели его. Пропусков нет, типы данных все верные. "
   ]
  },
  {
   "cell_type": "code",
   "execution_count": 4,
   "metadata": {},
   "outputs": [
    {
     "data": {
      "text/plain": [
       "0"
      ]
     },
     "execution_count": 4,
     "metadata": {},
     "output_type": "execute_result"
    }
   ],
   "source": [
    "# Проверим явные дубликаты\n",
    "data.duplicated().sum()"
   ]
  },
  {
   "cell_type": "markdown",
   "metadata": {},
   "source": [
    "Дубликатов нет, пропусков нет, данные чистые. Рассмотрим их.\n",
    "\n",
    "Каждый объект в наборе данных — это информация о поведении одного пользователя за месяц.\n",
    "\n",
    "сalls — количество звонков,\n",
    "\n",
    "minutes — суммарная длительность звонков в минутах,\n",
    "\n",
    "messages — количество sms-сообщений,\n",
    "\n",
    "mb_used — израсходованный интернет-трафик в Мб,\n",
    "\n",
    "is_ultra — каким тарифом пользовался в течение месяца («Ультра» — 1, «Смарт» — 0).\n",
    "\n",
    "Теперь можно приступить к анализу."
   ]
  },
  {
   "cell_type": "markdown",
   "metadata": {},
   "source": [
    "## Разбейте данные на выборки"
   ]
  },
  {
   "cell_type": "markdown",
   "metadata": {},
   "source": [
    "Разобьем данные на 3 выборки: обучающая, тестовая и валидационная. Так как тестовая выборка не спрятана, то разбиваем на 3 выборки в соотношении 60%:20%:20%."
   ]
  },
  {
   "cell_type": "code",
   "execution_count": 5,
   "metadata": {},
   "outputs": [
    {
     "name": "stdout",
     "output_type": "stream",
     "text": [
      "Размер обучающей выборки: (1928, 4)\n",
      "Размер тестовой выборки: (643, 4)\n",
      "Размер валидационной выборки: (643, 4)\n"
     ]
    }
   ],
   "source": [
    "# Разобьем данные на признаки и целевой признак, по которым будем обучать\n",
    "features = data.drop(['is_ultra'], axis=1) \n",
    "target = data['is_ultra']\n",
    "\n",
    "# Теперь разделим данные на обучающую выборку(60%) и тестовую (отбираем 40%)\n",
    "features_train, features_test, target_train, target_test=train_test_split(features,\n",
    "                                                                          target,\n",
    "                                                                          test_size=0.4,\n",
    "                                                                          random_state=12345)\n",
    "\n",
    "# Сейчас мы тестовую выборку делим пополам на тестовую(20%) и валидационную(20%)\n",
    "features_test, features_valid, target_test, target_valid=train_test_split(features_test,\n",
    "                                                                          target_test,\n",
    "                                                                          test_size=0.5,\n",
    "                                                                          random_state=12345)\n",
    "\n",
    "# Проверим размер выборок\n",
    "print('Размер обучающей выборки:', features_train.shape)\n",
    "print('Размер тестовой выборки:', features_test.shape)\n",
    "print('Размер валидационной выборки:', features_valid.shape)"
   ]
  },
  {
   "cell_type": "markdown",
   "metadata": {},
   "source": [
    "**Вывод**: Мы разделили наши данные на 3 выборки. Обучающая, тестовая и валидационная. По стандарту, валидационной выборке выделяют 25% от всех данных, но это при условии, что тестовая выборка уже имеется. Так как у нас не такая ситуация, мы делим данные в соотношении 3:1:1. По итогу нашего выделения, выборки соответствуют данной пропорции."
   ]
  },
  {
   "cell_type": "markdown",
   "metadata": {},
   "source": [
    "## Исследуйте модели"
   ]
  },
  {
   "cell_type": "markdown",
   "metadata": {},
   "source": [
    "Есть множество моделей для обучения, мы используем Дерево решений, Случайный лес и Логистическую регрессию. Выберем самую удачную модель, а именно проверим значение accuracy- оно не должно быть менее 0.75. Для этого будем менять гиперпараметры."
   ]
  },
  {
   "cell_type": "code",
   "execution_count": 6,
   "metadata": {},
   "outputs": [
    {
     "name": "stdout",
     "output_type": "stream",
     "text": [
      "Accuracy модели Дерево решений: 0.7993779160186625 Лучшая глубина дерева: 7\n",
      "Accuracy модели Случайный лес: 0.7869362363919129 Лучшее кол-во деревьев: 8\n",
      "Accuracy модели Логистическая регрессия: 0.6842923794712286 Лучшее кол-во итераций: 100"
     ]
    }
   ],
   "source": [
    "# Проверим модель Дерево решений, меняя гиперпараметр max_depth\n",
    "best_model_dtc=None\n",
    "best_result_dtc=0\n",
    "best_depth=0\n",
    "for depth in range(1,10):\n",
    "    model_dtc=DecisionTreeClassifier(random_state=12345, max_depth=depth).fit(features_train,\n",
    "                                                                              target_train)\n",
    "    predictions_valid_dtc=model_dtc.predict(features_valid)\n",
    "    result_dtc=accuracy_score(target_valid, predictions_valid_dtc)\n",
    "    \n",
    "    if result_dtc>best_result_dtc:\n",
    "        best_model_dtc=model_dtc\n",
    "        best_result_dtc=result_dtc\n",
    "        best_depth=depth\n",
    "        \n",
    "print('Accuracy модели Дерево решений:', best_result_dtc, 'Лучшая глубина дерева:',best_depth, end='')\n",
    "print()\n",
    "\n",
    "# Проверим модель Случайный лес, меняя гиперпараметр n_estimators\n",
    "best_model_rfc=None\n",
    "best_result_rfc=0\n",
    "best_est=0\n",
    "for est in range(1,10):\n",
    "    model_rfc=RandomForestClassifier(random_state=12345, n_estimators=est).fit(features_train, \n",
    "                                                                               target_train)\n",
    "    predictions_valid_rfc=model_rfc.predict(features_valid)\n",
    "    result_rfc=accuracy_score(target_valid, predictions_valid_rfc)\n",
    "    \n",
    "    if result_rfc>best_result_rfc:\n",
    "        best_model_rfc=model_rfc\n",
    "        best_result_rfc=result_rfc\n",
    "        best_est=est\n",
    "        \n",
    "print('Accuracy модели Случайный лес:', best_result_rfc, 'Лучшее кол-во деревьев:',best_est, end='')\n",
    "print()\n",
    "\n",
    "\n",
    "# Проверим модель Логистическая регрессия, меняя гиперпараметр  max_iter\n",
    "iters=100\n",
    "model_lg=LogisticRegression(random_state=12345, solver='lbfgs', max_iter=iters)\n",
    "model_lg.fit(features_train, target_train)\n",
    "predictions_valid_lg=model_lg.predict(features_valid)\n",
    "result_lg=accuracy_score(predictions_valid_lg, target_valid)\n",
    "\n",
    "print('Accuracy модели Логистическая регрессия:',result_lg, 'Лучшее кол-во итераций:',iters, end='')       "
   ]
  },
  {
   "cell_type": "markdown",
   "metadata": {},
   "source": [
    "**Вывод**: Мы рассмотрели 3 модели обучения. Дерево решений,Случайный лес и Логистическая регрессия. Для каждой модели мы определили accuracy, и лучшие гиперпараметры. По результатам анализа, доля правильных ответов больше всего у модели Дерево решений, а у Логистической регрессии показатель не дотягивает даже до минимума 0.75( результат не менялся даже при разных гиперпараметрах)"
   ]
  },
  {
   "cell_type": "markdown",
   "metadata": {},
   "source": [
    "## Проверьте модель на тестовой выборке"
   ]
  },
  {
   "cell_type": "markdown",
   "metadata": {},
   "source": [
    "Так как лучшие показатели были у модели Дерево решений, то проверим тестовую выборку именно на ней"
   ]
  },
  {
   "cell_type": "code",
   "execution_count": 7,
   "metadata": {},
   "outputs": [
    {
     "name": "stdout",
     "output_type": "stream",
     "text": [
      "Accuracy модели Дерево решений на тестовой выборке: 0.7822706065318819\n"
     ]
    }
   ],
   "source": [
    "model_dtc=DecisionTreeClassifier(random_state=12345, max_depth=7).fit(features_train,\n",
    "                                                                              target_train)\n",
    "predictions_test_dtc=model_dtc.predict(features_test)\n",
    "result_test_dtc=accuracy_score(target_test, predictions_test_dtc)\n",
    "\n",
    "print('Accuracy модели Дерево решений на тестовой выборке:', result_test_dtc)"
   ]
  },
  {
   "cell_type": "markdown",
   "metadata": {},
   "source": [
    "**Вывод**: Доля правильных ответов на тестовой выборке меньше, чем на валидационной. "
   ]
  },
  {
   "cell_type": "markdown",
   "metadata": {},
   "source": [
    "## (бонус) Проверьте модели на адекватность"
   ]
  },
  {
   "cell_type": "markdown",
   "metadata": {},
   "source": [
    "Для проверки адекватности модели используют DummyClassifier"
   ]
  },
  {
   "cell_type": "code",
   "execution_count": 10,
   "metadata": {},
   "outputs": [
    {
     "name": "stdout",
     "output_type": "stream",
     "text": [
      "Accuracy модели DummyClassifier: 0.7060653188180405\n"
     ]
    }
   ],
   "source": [
    "model_dc = DummyClassifier(strategy='most_frequent', random_state=12345)\n",
    "model_dc.fit(features_train, target_train)\n",
    "result_dc = model_dc.score(features_test, target_test)\n",
    "print('Accuracy модели DummyClassifier:', result_dc)"
   ]
  },
  {
   "cell_type": "markdown",
   "metadata": {},
   "source": [
    "**Вывод:** Accuracy модели DummyClassifier: 0.71. Accuracy модели Дерево решений на тестовой выборке: 0.78. Наша модель победила по метрике качества \"неадекватную\" модель, так что проверку мы прошли."
   ]
  },
  {
   "cell_type": "markdown",
   "metadata": {},
   "source": [
    "## Общий вывод.\n",
    "При проверки предоставленных данных не было обнаружено никаких критических ошибок и пропусков. Дубликаты не обнаружены, типы данных все соответствуют. Данные чистые и обрабоданные.\n",
    "\n",
    "Данные разделили на 3 выборки: обучающую, тестовую и валидационную. Соотношение выборок взяли 3:1:1, так как тестовая выборка не была \"спрятана\".\n",
    "Мы провели исследование 3 моделей на основе наших выборок: Decision Tree Classifier, Random Forest Classifier и Logistic Regression; изучили их гиперпараметры и определили лучшие показатели. Результатами модели Decision Tree Classifier мы остались довольны, accuracy была выше объявленного нами минимума 0.75( accuracy = 0.799). Так же модель прошла тест на адекватность при сравнении ее с моделью DummyClassifier(accuracy Decision Tree Classifier 0.79 > accuracy DummyClassifier 0.71)\n",
    "\n",
    "Модель Logistic Regression в данном анализе показала себя хуже всех, скорость загрузки и accuracy были ниже, чем у других моделей. Возможно, при других выборках, эта модель себя проявит лучше.\n"
   ]
  },
  {
   "cell_type": "code",
   "execution_count": null,
   "metadata": {},
   "outputs": [],
   "source": []
  }
 ],
 "metadata": {
  "ExecuteTimeLog": [
   {
    "duration": 1152,
    "start_time": "2023-03-02T13:14:50.348Z"
   },
   {
    "duration": 45,
    "start_time": "2023-03-02T13:14:51.502Z"
   },
   {
    "duration": 12,
    "start_time": "2023-03-02T13:14:51.549Z"
   },
   {
    "duration": 16,
    "start_time": "2023-03-02T13:14:51.563Z"
   },
   {
    "duration": 117,
    "start_time": "2023-03-02T13:14:51.581Z"
   },
   {
    "duration": 87,
    "start_time": "2023-03-02T13:15:33.772Z"
   },
   {
    "duration": 95,
    "start_time": "2023-03-02T13:15:56.725Z"
   },
   {
    "duration": 72,
    "start_time": "2023-03-02T13:16:49.126Z"
   },
   {
    "duration": 69,
    "start_time": "2023-03-02T13:17:27.014Z"
   },
   {
    "duration": 77,
    "start_time": "2023-03-02T13:17:42.715Z"
   },
   {
    "duration": 77,
    "start_time": "2023-03-02T13:17:48.203Z"
   },
   {
    "duration": 15,
    "start_time": "2023-03-02T13:18:05.375Z"
   },
   {
    "duration": 14,
    "start_time": "2023-03-02T13:18:28.936Z"
   },
   {
    "duration": 19,
    "start_time": "2023-03-02T13:19:35.077Z"
   },
   {
    "duration": 15,
    "start_time": "2023-03-02T13:20:22.371Z"
   },
   {
    "duration": 17,
    "start_time": "2023-03-02T13:20:42.643Z"
   },
   {
    "duration": 16,
    "start_time": "2023-03-02T13:28:01.355Z"
   },
   {
    "duration": 7,
    "start_time": "2023-03-02T13:29:07.111Z"
   },
   {
    "duration": 11,
    "start_time": "2023-03-02T13:31:39.705Z"
   },
   {
    "duration": 10,
    "start_time": "2023-03-02T13:32:02.083Z"
   },
   {
    "duration": 9,
    "start_time": "2023-03-02T13:32:06.121Z"
   },
   {
    "duration": 10,
    "start_time": "2023-03-02T13:32:35.720Z"
   },
   {
    "duration": 4,
    "start_time": "2023-03-02T14:15:24.671Z"
   },
   {
    "duration": 10,
    "start_time": "2023-03-02T14:15:34.153Z"
   },
   {
    "duration": 53,
    "start_time": "2023-03-02T14:16:42.617Z"
   },
   {
    "duration": 11,
    "start_time": "2023-03-02T14:17:11.060Z"
   },
   {
    "duration": 1182,
    "start_time": "2023-03-02T14:17:15.078Z"
   },
   {
    "duration": 58,
    "start_time": "2023-03-02T14:17:16.262Z"
   },
   {
    "duration": 13,
    "start_time": "2023-03-02T14:17:16.322Z"
   },
   {
    "duration": 7,
    "start_time": "2023-03-02T14:17:16.338Z"
   },
   {
    "duration": 9,
    "start_time": "2023-03-02T14:17:16.347Z"
   },
   {
    "duration": 122,
    "start_time": "2023-03-02T14:17:16.358Z"
   },
   {
    "duration": 1144,
    "start_time": "2023-03-02T14:18:06.653Z"
   },
   {
    "duration": 46,
    "start_time": "2023-03-02T14:18:07.799Z"
   },
   {
    "duration": 13,
    "start_time": "2023-03-02T14:18:07.847Z"
   },
   {
    "duration": 11,
    "start_time": "2023-03-02T14:18:07.862Z"
   },
   {
    "duration": 9,
    "start_time": "2023-03-02T14:18:07.875Z"
   },
   {
    "duration": 125,
    "start_time": "2023-03-02T14:18:07.886Z"
   },
   {
    "duration": 32,
    "start_time": "2023-03-02T14:19:19.892Z"
   },
   {
    "duration": 68,
    "start_time": "2023-03-02T14:19:55.288Z"
   },
   {
    "duration": 80,
    "start_time": "2023-03-02T14:20:05.366Z"
   },
   {
    "duration": 61,
    "start_time": "2023-03-02T14:20:11.969Z"
   },
   {
    "duration": 288,
    "start_time": "2023-03-02T14:56:33.465Z"
   },
   {
    "duration": 267,
    "start_time": "2023-03-02T14:56:57.886Z"
   },
   {
    "duration": 278,
    "start_time": "2023-03-02T14:57:14.558Z"
   },
   {
    "duration": 368,
    "start_time": "2023-03-02T14:57:26.850Z"
   },
   {
    "duration": 276,
    "start_time": "2023-03-02T14:57:33.565Z"
   },
   {
    "duration": 316,
    "start_time": "2023-03-02T15:07:13.949Z"
   },
   {
    "duration": 18533,
    "start_time": "2023-03-02T15:09:23.102Z"
   },
   {
    "duration": 315,
    "start_time": "2023-03-02T15:16:05.555Z"
   },
   {
    "duration": 301,
    "start_time": "2023-03-02T15:16:41.995Z"
   },
   {
    "duration": 325,
    "start_time": "2023-03-02T15:16:51.347Z"
   },
   {
    "duration": 331,
    "start_time": "2023-03-02T15:17:03.993Z"
   },
   {
    "duration": 305,
    "start_time": "2023-03-02T15:17:27.122Z"
   },
   {
    "duration": 316,
    "start_time": "2023-03-02T15:17:34.005Z"
   },
   {
    "duration": 311,
    "start_time": "2023-03-02T15:17:39.984Z"
   },
   {
    "duration": 304,
    "start_time": "2023-03-02T15:17:48.982Z"
   },
   {
    "duration": 323,
    "start_time": "2023-03-02T15:18:38.160Z"
   },
   {
    "duration": 295,
    "start_time": "2023-03-02T15:19:08.780Z"
   },
   {
    "duration": 318,
    "start_time": "2023-03-02T15:19:15.875Z"
   },
   {
    "duration": 296,
    "start_time": "2023-03-02T15:20:09.478Z"
   },
   {
    "duration": 1163,
    "start_time": "2023-03-02T15:21:41.383Z"
   },
   {
    "duration": 882,
    "start_time": "2023-03-02T15:21:48.664Z"
   },
   {
    "duration": 1019,
    "start_time": "2023-03-02T15:21:56.929Z"
   },
   {
    "duration": 318,
    "start_time": "2023-03-02T15:28:22.841Z"
   },
   {
    "duration": 298,
    "start_time": "2023-03-02T15:28:58.687Z"
   },
   {
    "duration": 309,
    "start_time": "2023-03-02T15:37:27.436Z"
   },
   {
    "duration": 366,
    "start_time": "2023-03-02T15:41:07.226Z"
   },
   {
    "duration": 1278,
    "start_time": "2023-03-02T15:41:20.341Z"
   },
   {
    "duration": 42,
    "start_time": "2023-03-02T15:41:21.621Z"
   },
   {
    "duration": 10,
    "start_time": "2023-03-02T15:41:21.665Z"
   },
   {
    "duration": 9,
    "start_time": "2023-03-02T15:41:21.677Z"
   },
   {
    "duration": 9,
    "start_time": "2023-03-02T15:41:21.688Z"
   },
   {
    "duration": 382,
    "start_time": "2023-03-02T15:41:21.699Z"
   },
   {
    "duration": 1200,
    "start_time": "2023-03-02T15:42:02.173Z"
   },
   {
    "duration": 44,
    "start_time": "2023-03-02T15:42:03.375Z"
   },
   {
    "duration": 12,
    "start_time": "2023-03-02T15:42:03.421Z"
   },
   {
    "duration": 9,
    "start_time": "2023-03-02T15:42:03.436Z"
   },
   {
    "duration": 10,
    "start_time": "2023-03-02T15:42:03.446Z"
   },
   {
    "duration": 324,
    "start_time": "2023-03-02T15:42:03.458Z"
   },
   {
    "duration": 288,
    "start_time": "2023-03-02T15:42:21.201Z"
   },
   {
    "duration": 303,
    "start_time": "2023-03-02T15:42:38.028Z"
   },
   {
    "duration": 13,
    "start_time": "2023-03-02T16:05:20.016Z"
   },
   {
    "duration": 104,
    "start_time": "2023-03-02T16:11:58.201Z"
   },
   {
    "duration": 1094,
    "start_time": "2023-03-02T16:12:21.603Z"
   },
   {
    "duration": 42,
    "start_time": "2023-03-02T16:12:22.699Z"
   },
   {
    "duration": 11,
    "start_time": "2023-03-02T16:12:22.743Z"
   },
   {
    "duration": 14,
    "start_time": "2023-03-02T16:12:22.756Z"
   },
   {
    "duration": 10,
    "start_time": "2023-03-02T16:12:22.772Z"
   },
   {
    "duration": 124,
    "start_time": "2023-03-02T16:12:22.783Z"
   },
   {
    "duration": 0,
    "start_time": "2023-03-02T16:12:22.909Z"
   },
   {
    "duration": 0,
    "start_time": "2023-03-02T16:12:22.911Z"
   },
   {
    "duration": 314,
    "start_time": "2023-03-02T16:13:07.397Z"
   },
   {
    "duration": 14,
    "start_time": "2023-03-02T16:13:14.275Z"
   },
   {
    "duration": 5,
    "start_time": "2023-03-02T16:13:19.507Z"
   },
   {
    "duration": 1891,
    "start_time": "2023-03-02T16:44:27.875Z"
   },
   {
    "duration": 127,
    "start_time": "2023-03-02T16:44:29.768Z"
   },
   {
    "duration": 11,
    "start_time": "2023-03-02T16:44:29.896Z"
   },
   {
    "duration": 45,
    "start_time": "2023-03-02T16:44:29.908Z"
   },
   {
    "duration": 42,
    "start_time": "2023-03-02T16:44:29.955Z"
   },
   {
    "duration": 348,
    "start_time": "2023-03-02T16:44:29.999Z"
   },
   {
    "duration": 11,
    "start_time": "2023-03-02T16:44:30.349Z"
   },
   {
    "duration": 40,
    "start_time": "2023-03-02T16:44:30.362Z"
   },
   {
    "duration": 5,
    "start_time": "2023-03-02T17:22:13.769Z"
   }
  ],
  "kernelspec": {
   "display_name": "Python 3 (ipykernel)",
   "language": "python",
   "name": "python3"
  },
  "language_info": {
   "codemirror_mode": {
    "name": "ipython",
    "version": 3
   },
   "file_extension": ".py",
   "mimetype": "text/x-python",
   "name": "python",
   "nbconvert_exporter": "python",
   "pygments_lexer": "ipython3",
   "version": "3.11.4"
  },
  "toc": {
   "base_numbering": 1,
   "nav_menu": {},
   "number_sections": true,
   "sideBar": true,
   "skip_h1_title": true,
   "title_cell": "Table of Contents",
   "title_sidebar": "Contents",
   "toc_cell": false,
   "toc_position": {},
   "toc_section_display": true,
   "toc_window_display": false
  }
 },
 "nbformat": 4,
 "nbformat_minor": 2
}
